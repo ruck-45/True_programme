{
 "cells": [
  {
   "cell_type": "code",
   "execution_count": 1,
   "id": "c07b8ab6",
   "metadata": {},
   "outputs": [],
   "source": [
    "import pandas as pd\n",
    "import matplotlib.pyplot as plt\n",
    "import seaborn as sns\n",
    "import numpy as np"
   ]
  },
  {
   "cell_type": "markdown",
   "id": "f2347f71",
   "metadata": {},
   "source": [
    "# What is Correlation ?"
   ]
  },
  {
   "cell_type": "markdown",
   "id": "d6bce7f4",
   "metadata": {},
   "source": [
    "- a correation is a statistical measure of the relationship between two variables (x,y)"
   ]
  },
  {
   "cell_type": "markdown",
   "id": "d1c9f2e1",
   "metadata": {},
   "source": [
    "- The correlation coefficient is value from -1 to 1\n",
    "    - -1 : Perfect negetive coorrelation / inversely propertional ( x increases when y decreases & vice-versa ) \n",
    "    - 0 : No coorrelation ( change in x has no effect on y and vice-versa )\n",
    "    - 1 : Perfect positive coorrelation / directly propertional ( x increases when y increases & vice-versa )"
   ]
  },
  {
   "cell_type": "markdown",
   "id": "501c3634",
   "metadata": {},
   "source": [
    "The statistical formula for finding correlation of two entities:"
   ]
  },
  {
   "attachments": {
    "correlation1.png": {
     "image/png": "[encoded data removed]"
    }
   },
   "cell_type": "markdown",
   "id": "10971b7a",
   "metadata": {},
   "source": [
    "![correlation1.png](attachment:correlation1.png)"
   ]
  },
  {
   "cell_type": "markdown",
   "id": "6730284a",
   "metadata": {},
   "source": [
    "# Correlation Heatmap\n",
    "- we use Correlation to determine the relation of various properties / charecteristics with the target variable (the variable that is to be predicted)\n",
    "- we use heatmap to visualize the correlation better"
   ]
  },
  {
   "cell_type": "code",
   "execution_count": 2,
   "id": "c05af700",
   "metadata": {},
   "outputs": [
    {
     "data": {
      "text/html": [
       "<div>\n",
       "<style scoped>\n",
       "    .dataframe tbody tr th:only-of-type {\n",
       "        vertical-align: middle;\n",
       "    }\n",
       "\n",
       "    .dataframe tbody tr th {\n",
       "        vertical-align: top;\n",
       "    }\n",
       "\n",
       "    .dataframe thead th {\n",
       "        text-align: right;\n",
       "    }\n",
       "</style>\n",
       "<table border=\"1\" class=\"dataframe\">\n",
       "  <thead>\n",
       "    <tr style=\"text-align: right;\">\n",
       "      <th></th>\n",
       "      <th>cancer_size</th>\n",
       "      <th>cancer_spread</th>\n",
       "      <th>cabcer_stage</th>\n",
       "      <th>age</th>\n",
       "      <th>possibility_of_cure</th>\n",
       "    </tr>\n",
       "  </thead>\n",
       "  <tbody>\n",
       "    <tr>\n",
       "      <th>0</th>\n",
       "      <td>1</td>\n",
       "      <td>12</td>\n",
       "      <td>1</td>\n",
       "      <td>45</td>\n",
       "      <td>12</td>\n",
       "    </tr>\n",
       "    <tr>\n",
       "      <th>1</th>\n",
       "      <td>3</td>\n",
       "      <td>45</td>\n",
       "      <td>5</td>\n",
       "      <td>65</td>\n",
       "      <td>32</td>\n",
       "    </tr>\n",
       "    <tr>\n",
       "      <th>2</th>\n",
       "      <td>5</td>\n",
       "      <td>78</td>\n",
       "      <td>4</td>\n",
       "      <td>78</td>\n",
       "      <td>12</td>\n",
       "    </tr>\n",
       "    <tr>\n",
       "      <th>3</th>\n",
       "      <td>4</td>\n",
       "      <td>95</td>\n",
       "      <td>2</td>\n",
       "      <td>12</td>\n",
       "      <td>14</td>\n",
       "    </tr>\n",
       "    <tr>\n",
       "      <th>4</th>\n",
       "      <td>7</td>\n",
       "      <td>32</td>\n",
       "      <td>3</td>\n",
       "      <td>33</td>\n",
       "      <td>52</td>\n",
       "    </tr>\n",
       "    <tr>\n",
       "      <th>5</th>\n",
       "      <td>8</td>\n",
       "      <td>46</td>\n",
       "      <td>9</td>\n",
       "      <td>56</td>\n",
       "      <td>17</td>\n",
       "    </tr>\n",
       "    <tr>\n",
       "      <th>6</th>\n",
       "      <td>6</td>\n",
       "      <td>78</td>\n",
       "      <td>7</td>\n",
       "      <td>66</td>\n",
       "      <td>34</td>\n",
       "    </tr>\n",
       "    <tr>\n",
       "      <th>7</th>\n",
       "      <td>4</td>\n",
       "      <td>17</td>\n",
       "      <td>5</td>\n",
       "      <td>45</td>\n",
       "      <td>62</td>\n",
       "    </tr>\n",
       "    <tr>\n",
       "      <th>8</th>\n",
       "      <td>8</td>\n",
       "      <td>98</td>\n",
       "      <td>9</td>\n",
       "      <td>75</td>\n",
       "      <td>14</td>\n",
       "    </tr>\n",
       "    <tr>\n",
       "      <th>9</th>\n",
       "      <td>9</td>\n",
       "      <td>32</td>\n",
       "      <td>4</td>\n",
       "      <td>14</td>\n",
       "      <td>23</td>\n",
       "    </tr>\n",
       "  </tbody>\n",
       "</table>\n",
       "</div>"
      ],
      "text/plain": [
       "   cancer_size  cancer_spread  cabcer_stage  age  possibility_of_cure\n",
       "0            1             12             1   45                   12\n",
       "1            3             45             5   65                   32\n",
       "2            5             78             4   78                   12\n",
       "3            4             95             2   12                   14\n",
       "4            7             32             3   33                   52\n",
       "5            8             46             9   56                   17\n",
       "6            6             78             7   66                   34\n",
       "7            4             17             5   45                   62\n",
       "8            8             98             9   75                   14\n",
       "9            9             32             4   14                   23"
      ]
     },
     "execution_count": 2,
     "metadata": {},
     "output_type": "execute_result"
    }
   ],
   "source": [
    "df = pd.DataFrame({\n",
    "    'cancer_size' : [1,3,5,4,7,8,6,4,8,9],\n",
    "    'cancer_spread' : [12,45,78,95,32,46,78,17,98,32],\n",
    "    'cabcer_stage' : [1,5,4,2,3,9,7,5,9,4],\n",
    "    'age' : [45,65,78,12,33,56,66,45,75,14],\n",
    "    'possibility_of_cure' : [12,32,12,14,52,17,34,62,14,23]\n",
    "})\n",
    "\n",
    "df"
   ]
  },
  {
   "cell_type": "code",
   "execution_count": 4,
   "id": "200a3fe8",
   "metadata": {},
   "outputs": [
    {
     "data": {
      "text/html": [
       "<div>\n",
       "<style scoped>\n",
       "    .dataframe tbody tr th:only-of-type {\n",
       "        vertical-align: middle;\n",
       "    }\n",
       "\n",
       "    .dataframe tbody tr th {\n",
       "        vertical-align: top;\n",
       "    }\n",
       "\n",
       "    .dataframe thead th {\n",
       "        text-align: right;\n",
       "    }\n",
       "</style>\n",
       "<table border=\"1\" class=\"dataframe\">\n",
       "  <thead>\n",
       "    <tr style=\"text-align: right;\">\n",
       "      <th></th>\n",
       "      <th>cancer_size</th>\n",
       "      <th>cancer_spread</th>\n",
       "      <th>cabcer_stage</th>\n",
       "      <th>age</th>\n",
       "      <th>possibility_of_cure</th>\n",
       "    </tr>\n",
       "  </thead>\n",
       "  <tbody>\n",
       "    <tr>\n",
       "      <th>cancer_size</th>\n",
       "      <td>1.000000</td>\n",
       "      <td>0.255506</td>\n",
       "      <td>0.599432</td>\n",
       "      <td>-0.056435</td>\n",
       "      <td>-0.002459</td>\n",
       "    </tr>\n",
       "    <tr>\n",
       "      <th>cancer_spread</th>\n",
       "      <td>0.255506</td>\n",
       "      <td>1.000000</td>\n",
       "      <td>0.358456</td>\n",
       "      <td>0.293461</td>\n",
       "      <td>-0.473029</td>\n",
       "    </tr>\n",
       "    <tr>\n",
       "      <th>cabcer_stage</th>\n",
       "      <td>0.599432</td>\n",
       "      <td>0.358456</td>\n",
       "      <td>1.000000</td>\n",
       "      <td>0.572542</td>\n",
       "      <td>-0.022532</td>\n",
       "    </tr>\n",
       "    <tr>\n",
       "      <th>age</th>\n",
       "      <td>-0.056435</td>\n",
       "      <td>0.293461</td>\n",
       "      <td>0.572542</td>\n",
       "      <td>1.000000</td>\n",
       "      <td>-0.133817</td>\n",
       "    </tr>\n",
       "    <tr>\n",
       "      <th>possibility_of_cure</th>\n",
       "      <td>-0.002459</td>\n",
       "      <td>-0.473029</td>\n",
       "      <td>-0.022532</td>\n",
       "      <td>-0.133817</td>\n",
       "      <td>1.000000</td>\n",
       "    </tr>\n",
       "  </tbody>\n",
       "</table>\n",
       "</div>"
      ],
      "text/plain": [
       "                     cancer_size  cancer_spread  cabcer_stage       age  \\\n",
       "cancer_size             1.000000       0.255506      0.599432 -0.056435   \n",
       "cancer_spread           0.255506       1.000000      0.358456  0.293461   \n",
       "cabcer_stage            0.599432       0.358456      1.000000  0.572542   \n",
       "age                    -0.056435       0.293461      0.572542  1.000000   \n",
       "possibility_of_cure    -0.002459      -0.473029     -0.022532 -0.133817   \n",
       "\n",
       "                     possibility_of_cure  \n",
       "cancer_size                    -0.002459  \n",
       "cancer_spread                  -0.473029  \n",
       "cabcer_stage                   -0.022532  \n",
       "age                            -0.133817  \n",
       "possibility_of_cure             1.000000  "
      ]
     },
     "execution_count": 4,
     "metadata": {},
     "output_type": "execute_result"
    }
   ],
   "source": [
    "# making the correlation matrix : finds corelation of each variable with the other variable\n",
    "\n",
    "# corrilation with self will always be 1 and will always cover the leading diagonal\n",
    "# the upper trangle is ame as the lower one, so focus on any one\n",
    "\n",
    "df.corr()"
   ]
  },
  {
   "cell_type": "code",
   "execution_count": 7,
   "id": "9a05f845",
   "metadata": {
    "scrolled": false
   },
   "outputs": [
    {
     "data": {
      "text/plain": [
       "<AxesSubplot:>"
      ]
     },
     "execution_count": 7,
     "metadata": {},
     "output_type": "execute_result"
    },
    {
     "data": {
      "image/png": "[encoded data removed]",
      "text/plain": [
       "<Figure size 1152x648 with 2 Axes>"
      ]
     },
     "metadata": {
      "needs_background": "light"
     },
     "output_type": "display_data"
    }
   ],
   "source": [
    "# we use heatmap to visualize the corrilation better\n",
    "\n",
    "plt.figure(figsize=(16,9))\n",
    "\n",
    "sns.heatmap(df.corr(), annot = True)"
   ]
  },
  {
   "cell_type": "markdown",
   "id": "e8a06d2f",
   "metadata": {},
   "source": [
    "- studying the heatmap we inferred : \n",
    "    - possibility_of_cure is more corellated with : 'cancer_spread', 'cancer_stage', 'age',\n",
    "    - while the 'cancer_size' is not that relevant as it is closer to 0"
   ]
  }
 ],
 "metadata": {
  "kernelspec": {
   "display_name": "Python 3",
   "language": "python",
   "name": "python3"
  },
  "language_info": {
   "codemirror_mode": {
    "name": "ipython",
    "version": 3
   },
   "file_extension": ".py",
   "mimetype": "text/x-python",
   "name": "python",
   "nbconvert_exporter": "python",
   "pygments_lexer": "ipython3",
   "version": "3.8.8"
  }
 },
 "nbformat": 4,
 "nbformat_minor": 5
}

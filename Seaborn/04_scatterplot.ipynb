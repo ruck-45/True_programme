{
 "cells": [
  {
   "cell_type": "code",
   "execution_count": 1,
   "id": "3ba654c9",
   "metadata": {},
   "outputs": [],
   "source": [
    "import pandas as pd\n",
    "import matplotlib.pyplot as plt\n",
    "import numpy as np\n",
    "\n",
    "import seaborn as sns"
   ]
  },
  {
   "cell_type": "code",
   "execution_count": 10,
   "id": "ffd403ed",
   "metadata": {},
   "outputs": [
    {
     "data": {
      "text/html": [
       "<div>\n",
       "<style scoped>\n",
       "    .dataframe tbody tr th:only-of-type {\n",
       "        vertical-align: middle;\n",
       "    }\n",
       "\n",
       "    .dataframe tbody tr th {\n",
       "        vertical-align: top;\n",
       "    }\n",
       "\n",
       "    .dataframe thead th {\n",
       "        text-align: right;\n",
       "    }\n",
       "</style>\n",
       "<table border=\"1\" class=\"dataframe\">\n",
       "  <thead>\n",
       "    <tr style=\"text-align: right;\">\n",
       "      <th></th>\n",
       "      <th>sub</th>\n",
       "      <th>sex</th>\n",
       "      <th>type</th>\n",
       "      <th>age</th>\n",
       "    </tr>\n",
       "  </thead>\n",
       "  <tbody>\n",
       "    <tr>\n",
       "      <th>0</th>\n",
       "      <td>math</td>\n",
       "      <td>M</td>\n",
       "      <td>child</td>\n",
       "      <td>20</td>\n",
       "    </tr>\n",
       "    <tr>\n",
       "      <th>1</th>\n",
       "      <td>physics</td>\n",
       "      <td>M</td>\n",
       "      <td>adult</td>\n",
       "      <td>19</td>\n",
       "    </tr>\n",
       "    <tr>\n",
       "      <th>2</th>\n",
       "      <td>chemistry</td>\n",
       "      <td>M</td>\n",
       "      <td>child</td>\n",
       "      <td>22</td>\n",
       "    </tr>\n",
       "    <tr>\n",
       "      <th>3</th>\n",
       "      <td>biology</td>\n",
       "      <td>M</td>\n",
       "      <td>adult</td>\n",
       "      <td>23</td>\n",
       "    </tr>\n",
       "    <tr>\n",
       "      <th>4</th>\n",
       "      <td>math</td>\n",
       "      <td>F</td>\n",
       "      <td>child</td>\n",
       "      <td>18</td>\n",
       "    </tr>\n",
       "    <tr>\n",
       "      <th>5</th>\n",
       "      <td>physics</td>\n",
       "      <td>F</td>\n",
       "      <td>child</td>\n",
       "      <td>17</td>\n",
       "    </tr>\n",
       "    <tr>\n",
       "      <th>6</th>\n",
       "      <td>chemistry</td>\n",
       "      <td>F</td>\n",
       "      <td>child</td>\n",
       "      <td>17</td>\n",
       "    </tr>\n",
       "    <tr>\n",
       "      <th>7</th>\n",
       "      <td>biology</td>\n",
       "      <td>F</td>\n",
       "      <td>adult</td>\n",
       "      <td>15</td>\n",
       "    </tr>\n",
       "  </tbody>\n",
       "</table>\n",
       "</div>"
      ],
      "text/plain": [
       "         sub sex   type  age\n",
       "0       math   M  child   20\n",
       "1    physics   M  adult   19\n",
       "2  chemistry   M  child   22\n",
       "3    biology   M  adult   23\n",
       "4       math   F  child   18\n",
       "5    physics   F  child   17\n",
       "6  chemistry   F  child   17\n",
       "7    biology   F  adult   15"
      ]
     },
     "execution_count": 10,
     "metadata": {},
     "output_type": "execute_result"
    }
   ],
   "source": [
    "df = pd.DataFrame({\n",
    "    'sub' : ['math', 'physics','chemistry','biology','math', 'physics','chemistry','biology'],\n",
    "    'sex' : ['M','M','M','M','F','F','F','F'],\n",
    "    'type' : ['child','adult','child','adult','child','child','child','adult'],\n",
    "    'age' : [20,19,22,23,18,17,17,15]\n",
    "})\n",
    "\n",
    "df"
   ]
  },
  {
   "cell_type": "markdown",
   "id": "a69aa3f2",
   "metadata": {},
   "source": [
    "# Scatter plot"
   ]
  },
  {
   "cell_type": "code",
   "execution_count": 11,
   "id": "1e0d4803",
   "metadata": {},
   "outputs": [
    {
     "data": {
      "text/plain": [
       "<AxesSubplot:xlabel='sub', ylabel='age'>"
      ]
     },
     "execution_count": 11,
     "metadata": {},
     "output_type": "execute_result"
    },
    {
     "data": {
      "image/png": "[encoded data removed]",
      "text/plain": [
       "<Figure size 432x288 with 1 Axes>"
      ]
     },
     "metadata": {
      "needs_background": "light"
     },
     "output_type": "display_data"
    }
   ],
   "source": [
    "sns.scatterplot(x = 'sub', y = 'age', data = df)"
   ]
  },
  {
   "cell_type": "markdown",
   "id": "2e161fdd",
   "metadata": {},
   "source": [
    "## attributes"
   ]
  },
  {
   "cell_type": "code",
   "execution_count": 12,
   "id": "3eabd0dd",
   "metadata": {},
   "outputs": [
    {
     "data": {
      "text/plain": [
       "<AxesSubplot:xlabel='sub', ylabel='age'>"
      ]
     },
     "execution_count": 12,
     "metadata": {},
     "output_type": "execute_result"
    },
    {
     "data": {
      "image/png": "[encoded data removed]",
      "text/plain": [
       "<Figure size 432x288 with 1 Axes>"
      ]
     },
     "metadata": {
      "needs_background": "light"
     },
     "output_type": "display_data"
    }
   ],
   "source": [
    "# hue : catagories\n",
    "\n",
    "sns.scatterplot(x = 'sub', y = 'age', data = df, hue = 'sex')"
   ]
  },
  {
   "cell_type": "code",
   "execution_count": 13,
   "id": "b81d8c75",
   "metadata": {},
   "outputs": [
    {
     "data": {
      "text/plain": [
       "<AxesSubplot:xlabel='sub', ylabel='age'>"
      ]
     },
     "execution_count": 13,
     "metadata": {},
     "output_type": "execute_result"
    },
    {
     "data": {
      "image/png": "[encoded data removed]",
      "text/plain": [
       "<Figure size 432x288 with 1 Axes>"
      ]
     },
     "metadata": {
      "needs_background": "light"
     },
     "output_type": "display_data"
    }
   ],
   "source": [
    "# palette : color map\n",
    "\n",
    "sns.scatterplot(x = 'sub', y = 'age', data = df,hue = 'sex', palette='hot')"
   ]
  },
  {
   "cell_type": "code",
   "execution_count": 14,
   "id": "407a22b3",
   "metadata": {
    "scrolled": true
   },
   "outputs": [
    {
     "data": {
      "text/plain": [
       "<AxesSubplot:xlabel='sub', ylabel='age'>"
      ]
     },
     "execution_count": 14,
     "metadata": {},
     "output_type": "execute_result"
    },
    {
     "data": {
      "image/png": "[encoded data removed]",
      "text/plain": [
       "<Figure size 432x288 with 1 Axes>"
      ]
     },
     "metadata": {
      "needs_background": "light"
     },
     "output_type": "display_data"
    }
   ],
   "source": [
    "# style : to further catagorize\n",
    "\n",
    "sns.scatterplot(x = 'sub', y = 'age', data = df,hue = 'sex', style='type')"
   ]
  },
  {
   "cell_type": "code",
   "execution_count": 21,
   "id": "9cefbd79",
   "metadata": {},
   "outputs": [],
   "source": [
    "# sizes : provide a size range\n",
    "# alpha : transperency"
   ]
  }
 ],
 "metadata": {
  "kernelspec": {
   "display_name": "Python 3",
   "language": "python",
   "name": "python3"
  },
  "language_info": {
   "codemirror_mode": {
    "name": "ipython",
    "version": 3
   },
   "file_extension": ".py",
   "mimetype": "text/x-python",
   "name": "python",
   "nbconvert_exporter": "python",
   "pygments_lexer": "ipython3",
   "version": "3.8.8"
  }
 },
 "nbformat": 4,
 "nbformat_minor": 5
}

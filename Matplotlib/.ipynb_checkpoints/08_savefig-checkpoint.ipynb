{
 "cells": [
  {
   "cell_type": "code",
   "execution_count": 1,
   "id": "89070f75",
   "metadata": {},
   "outputs": [],
   "source": [
    "import pandas as pd\n",
    "import numpy as np\n",
    "import matplotlib.pyplot as plt"
   ]
  },
  {
   "cell_type": "markdown",
   "id": "7e68dcb7",
   "metadata": {},
   "source": [
    "# savefig\n",
    "- used to save images using matplotlib.pyplot"
   ]
  },
  {
   "cell_type": "markdown",
   "id": "514cfd2c",
   "metadata": {},
   "source": [
    "- it has a lot of attributes like :\n",
    "    - dpi (dots per inch / resolution)\n",
    "    - quality\n",
    "    - facecolor (background color)\n",
    "    - edgecolor\n",
    "    - orientation (potrait/landscape)\n",
    "    - papertype\n",
    "    \n",
    "    etc... they can be found in  help section"
   ]
  },
  {
   "cell_type": "code",
   "execution_count": 8,
   "id": "914448d4",
   "metadata": {},
   "outputs": [
    {
     "data": {
      "image/png": "[encoded data removed]",
      "text/plain": [
       "<Figure size 432x288 with 1 Axes>"
      ]
     },
     "metadata": {},
     "output_type": "display_data"
    }
   ],
   "source": [
    "plt.pie([1,2,3,4], labels = ['one', 'two', 'three', 'four'])\n",
    "\n",
    "plt.savefig(\"./images/pie_chart_01.png\", facecolor = 'y')\n",
    "\n",
    "plt.show()"
   ]
  }
 ],
 "metadata": {
  "kernelspec": {
   "display_name": "Python 3",
   "language": "python",
   "name": "python3"
  },
  "language_info": {
   "codemirror_mode": {
    "name": "ipython",
    "version": 3
   },
   "file_extension": ".py",
   "mimetype": "text/x-python",
   "name": "python",
   "nbconvert_exporter": "python",
   "pygments_lexer": "ipython3",
   "version": "3.8.8"
  }
 },
 "nbformat": 4,
 "nbformat_minor": 5
}

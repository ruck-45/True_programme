{
 "cells": [
  {
   "cell_type": "markdown",
   "id": "dccc21a2",
   "metadata": {},
   "source": [
    "# What is Matplotlib ?"
   ]
  },
  {
   "cell_type": "code",
   "execution_count": 2,
   "id": "7e94bc64",
   "metadata": {},
   "outputs": [],
   "source": [
    "# Matplotlib is a 2D and 3D plotting python library\n",
    "# It produces high quality graphs\n",
    "# It also supports animation"
   ]
  },
  {
   "cell_type": "markdown",
   "id": "c144d477",
   "metadata": {},
   "source": [
    "# History of Matplotlib"
   ]
  },
  {
   "cell_type": "code",
   "execution_count": 3,
   "id": "a54dc12b",
   "metadata": {},
   "outputs": [],
   "source": [
    "# American neurobiologist John D. Hunter (1968 - 2012) has written Matplotlib in Python to help him in research purposes\n",
    "# Matplotlib was innitially released in 2003"
   ]
  },
  {
   "cell_type": "markdown",
   "id": "6983a261",
   "metadata": {},
   "source": [
    "# Matplotlib Graphs"
   ]
  },
  {
   "cell_type": "code",
   "execution_count": 4,
   "id": "d2f87753",
   "metadata": {},
   "outputs": [],
   "source": [
    "#  Matplotlib supports a wide variety of graphs, some of them are :\n",
    "\n",
    "# 1.Line Graph\n",
    "# 2.Histogram\n",
    "# 3.Bar chart\n",
    "# 4.Scatterplots\n",
    "# 5.Pie plot\n",
    "# 6.Area plot\n",
    "# 7.Error charts\n",
    "# 8.Power Spectra\n",
    "\n",
    "# etc.."
   ]
  },
  {
   "cell_type": "markdown",
   "id": "dd1145b1",
   "metadata": {},
   "source": [
    "# Importing Matplotlib"
   ]
  },
  {
   "cell_type": "code",
   "execution_count": 5,
   "id": "2df4bab7",
   "metadata": {},
   "outputs": [],
   "source": [
    "# The module that supports the graphical power of Matplotlib is : \"pyplot\"\n",
    "# so we can import Matplotlib like : \n",
    "\n",
    "# from matplotlib import pylot as plt\n",
    "# or\n",
    "import matplotlib.pyplot as plt"
   ]
  }
 ],
 "metadata": {
  "kernelspec": {
   "display_name": "Python 3",
   "language": "python",
   "name": "python3"
  },
  "language_info": {
   "codemirror_mode": {
    "name": "ipython",
    "version": 3
   },
   "file_extension": ".py",
   "mimetype": "text/x-python",
   "name": "python",
   "nbconvert_exporter": "python",
   "pygments_lexer": "ipython3",
   "version": "3.8.8"
  }
 },
 "nbformat": 4,
 "nbformat_minor": 5
}

{
 "cells": [
  {
   "cell_type": "code",
   "execution_count": 1,
   "id": "a127feb5",
   "metadata": {},
   "outputs": [],
   "source": [
    "import numpy as np\n",
    "import seaborn as sns\n",
    "import pandas as pd\n",
    "import matplotlib.pyplot as plt"
   ]
  },
  {
   "cell_type": "markdown",
   "id": "690b483e",
   "metadata": {},
   "source": [
    "# What is error?\n",
    "- error is the difference of the expected value and predicted value\n",
    "- error can be negetive\n",
    "- Error = Y_Actual - Y_Predicted"
   ]
  },
  {
   "attachments": {
    "image.png": {
     "image/png": "[encoded data removed]"
    }
   },
   "cell_type": "markdown",
   "id": "ffd07a46",
   "metadata": {},
   "source": [
    "- the points represent actual values\n",
    "- the line represents predicted values\n",
    "- the red line srepresents the error\n",
    "\n",
    "![image.png](attachment:image.png)"
   ]
  },
  {
   "cell_type": "markdown",
   "id": "0e5abe17",
   "metadata": {},
   "source": [
    "# What is Cost Function in ML?\n",
    "- Cost function is a function which calculates the sum of errors of each datapoint at the end of a learning cycle\n",
    "- It uses various types of error calculation techniques appropriate for the dataset\n",
    "- The most common one used is Root Mean Squared error"
   ]
  },
  {
   "cell_type": "markdown",
   "id": "38f5aa63",
   "metadata": {},
   "source": [
    "- there are a lot of error calculation techniques in sklearn.metrics like : \n",
    "    - mean_squared_error\n",
    "    - mean_squared_log_error\n",
    "    - mean_absolute_error\n",
    "    - mean_absolute_percentage_error\n",
    "    - madian_absolute_error\n",
    "- etc.."
   ]
  },
  {
   "cell_type": "markdown",
   "id": "90d058ec",
   "metadata": {},
   "source": [
    "# Making a linear regression model"
   ]
  },
  {
   "cell_type": "code",
   "execution_count": 22,
   "id": "8c60cb78",
   "metadata": {},
   "outputs": [
    {
     "data": {
      "text/html": [
       "<div>\n",
       "<style scoped>\n",
       "    .dataframe tbody tr th:only-of-type {\n",
       "        vertical-align: middle;\n",
       "    }\n",
       "\n",
       "    .dataframe tbody tr th {\n",
       "        vertical-align: top;\n",
       "    }\n",
       "\n",
       "    .dataframe thead th {\n",
       "        text-align: right;\n",
       "    }\n",
       "</style>\n",
       "<table border=\"1\" class=\"dataframe\">\n",
       "  <thead>\n",
       "    <tr style=\"text-align: right;\">\n",
       "      <th></th>\n",
       "      <th>year</th>\n",
       "      <th>per capita income (US$)</th>\n",
       "    </tr>\n",
       "  </thead>\n",
       "  <tbody>\n",
       "    <tr>\n",
       "      <th>0</th>\n",
       "      <td>1970</td>\n",
       "      <td>3399.299037</td>\n",
       "    </tr>\n",
       "    <tr>\n",
       "      <th>1</th>\n",
       "      <td>1971</td>\n",
       "      <td>3768.297935</td>\n",
       "    </tr>\n",
       "    <tr>\n",
       "      <th>2</th>\n",
       "      <td>1972</td>\n",
       "      <td>4251.175484</td>\n",
       "    </tr>\n",
       "    <tr>\n",
       "      <th>3</th>\n",
       "      <td>1973</td>\n",
       "      <td>4804.463248</td>\n",
       "    </tr>\n",
       "    <tr>\n",
       "      <th>4</th>\n",
       "      <td>1974</td>\n",
       "      <td>5576.514583</td>\n",
       "    </tr>\n",
       "  </tbody>\n",
       "</table>\n",
       "</div>"
      ],
      "text/plain": [
       "   year  per capita income (US$)\n",
       "0  1970              3399.299037\n",
       "1  1971              3768.297935\n",
       "2  1972              4251.175484\n",
       "3  1973              4804.463248\n",
       "4  1974              5576.514583"
      ]
     },
     "execution_count": 22,
     "metadata": {},
     "output_type": "execute_result"
    }
   ],
   "source": [
    "df = pd.read_csv('./database/csv_files/Csv_canada_per_capita_income.csv')\n",
    "df.head()"
   ]
  },
  {
   "cell_type": "code",
   "execution_count": 24,
   "id": "fbccd8f4",
   "metadata": {},
   "outputs": [],
   "source": [
    "from sklearn.model_selection import train_test_split\n",
    "\n",
    "x_train, x_test, y_train, y_test = train_test_split(df[['year']], df['per capita income (US$)'], test_size=0.2)"
   ]
  },
  {
   "cell_type": "code",
   "execution_count": 26,
   "id": "7536c805",
   "metadata": {},
   "outputs": [
    {
     "data": {
      "text/plain": [
       "LinearRegression()"
      ]
     },
     "execution_count": 26,
     "metadata": {},
     "output_type": "execute_result"
    }
   ],
   "source": [
    "from sklearn.linear_model import LinearRegression\n",
    "\n",
    "linear = LinearRegression()\n",
    "linear.fit(x_train,y_train)"
   ]
  },
  {
   "cell_type": "code",
   "execution_count": 27,
   "id": "0dc590b0",
   "metadata": {},
   "outputs": [
    {
     "data": {
      "text/plain": [
       "0.8997405764517354"
      ]
     },
     "execution_count": 27,
     "metadata": {},
     "output_type": "execute_result"
    }
   ],
   "source": [
    "linear.score(x_test,y_test)"
   ]
  },
  {
   "cell_type": "markdown",
   "id": "d20408be",
   "metadata": {},
   "source": [
    "## checking the Root Mean Squared Error of the model we created"
   ]
  },
  {
   "cell_type": "code",
   "execution_count": 29,
   "id": "c0db616e",
   "metadata": {},
   "outputs": [],
   "source": [
    "y_actual = df['per capita income (US$)']\n",
    "y_predicted = linear.predict(df[['year']])"
   ]
  },
  {
   "cell_type": "code",
   "execution_count": 33,
   "id": "747dc2b9",
   "metadata": {},
   "outputs": [
    {
     "data": {
      "text/plain": [
       "15591850.251925217"
      ]
     },
     "execution_count": 33,
     "metadata": {},
     "output_type": "execute_result"
    }
   ],
   "source": [
    "from sklearn.metrics import mean_squared_error\n",
    "\n",
    "mse = mean_squared_error(y_actual,y_predicted)\n",
    "mse # this is mean sqared error"
   ]
  },
  {
   "cell_type": "code",
   "execution_count": 35,
   "id": "3ec36504",
   "metadata": {},
   "outputs": [
    {
     "data": {
      "text/plain": [
       "3948.6517005080627"
      ]
     },
     "execution_count": 35,
     "metadata": {},
     "output_type": "execute_result"
    }
   ],
   "source": [
    "# calculating the root mean squared error\n",
    "\n",
    "rmse = np.sqrt(mse)\n",
    "rmse"
   ]
  }
 ],
 "metadata": {
  "kernelspec": {
   "display_name": "Python 3",
   "language": "python",
   "name": "python3"
  },
  "language_info": {
   "codemirror_mode": {
    "name": "ipython",
    "version": 3
   },
   "file_extension": ".py",
   "mimetype": "text/x-python",
   "name": "python",
   "nbconvert_exporter": "python",
   "pygments_lexer": "ipython3",
   "version": "3.8.8"
  }
 },
 "nbformat": 4,
 "nbformat_minor": 5
}

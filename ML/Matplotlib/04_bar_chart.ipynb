{
 "cells": [
  {
   "cell_type": "code",
   "execution_count": 1,
   "id": "27a84a99",
   "metadata": {},
   "outputs": [],
   "source": [
    "import matplotlib.pyplot as plt\n",
    "import numpy as np\n",
    "import pandas as pd"
   ]
  },
  {
   "cell_type": "code",
   "execution_count": 24,
   "id": "3a100dd6",
   "metadata": {},
   "outputs": [
    {
     "data": {
      "text/html": [
       "<div>\n",
       "<style scoped>\n",
       "    .dataframe tbody tr th:only-of-type {\n",
       "        vertical-align: middle;\n",
       "    }\n",
       "\n",
       "    .dataframe tbody tr th {\n",
       "        vertical-align: top;\n",
       "    }\n",
       "\n",
       "    .dataframe thead th {\n",
       "        text-align: right;\n",
       "    }\n",
       "</style>\n",
       "<table border=\"1\" class=\"dataframe\">\n",
       "  <thead>\n",
       "    <tr style=\"text-align: right;\">\n",
       "      <th></th>\n",
       "      <th>sub_name</th>\n",
       "      <th>section_A_avg</th>\n",
       "      <th>section_B_avg</th>\n",
       "      <th>section_C_avg</th>\n",
       "    </tr>\n",
       "  </thead>\n",
       "  <tbody>\n",
       "    <tr>\n",
       "      <th>0</th>\n",
       "      <td>math</td>\n",
       "      <td>45</td>\n",
       "      <td>56</td>\n",
       "      <td>4</td>\n",
       "    </tr>\n",
       "    <tr>\n",
       "      <th>1</th>\n",
       "      <td>physics</td>\n",
       "      <td>65</td>\n",
       "      <td>68</td>\n",
       "      <td>24</td>\n",
       "    </tr>\n",
       "    <tr>\n",
       "      <th>2</th>\n",
       "      <td>chemistry</td>\n",
       "      <td>54</td>\n",
       "      <td>58</td>\n",
       "      <td>94</td>\n",
       "    </tr>\n",
       "    <tr>\n",
       "      <th>3</th>\n",
       "      <td>English</td>\n",
       "      <td>21</td>\n",
       "      <td>86</td>\n",
       "      <td>75</td>\n",
       "    </tr>\n",
       "    <tr>\n",
       "      <th>4</th>\n",
       "      <td>IT</td>\n",
       "      <td>45</td>\n",
       "      <td>29</td>\n",
       "      <td>75</td>\n",
       "    </tr>\n",
       "  </tbody>\n",
       "</table>\n",
       "</div>"
      ],
      "text/plain": [
       "    sub_name  section_A_avg  section_B_avg  section_C_avg\n",
       "0       math             45             56              4\n",
       "1    physics             65             68             24\n",
       "2  chemistry             54             58             94\n",
       "3    English             21             86             75\n",
       "4         IT             45             29             75"
      ]
     },
     "execution_count": 24,
     "metadata": {},
     "output_type": "execute_result"
    }
   ],
   "source": [
    "df = pd.DataFrame({\n",
    "    'sub_name' : ['math', 'physics', 'chemistry', 'English', 'IT'],\n",
    "    'section_A_avg' : [45,65,54,21,45],\n",
    "    'section_B_avg' : [56,68,58,86,29],\n",
    "    'section_C_avg' : [4,24,94,75,75]\n",
    "})\n",
    "\n",
    "df"
   ]
  },
  {
   "cell_type": "markdown",
   "id": "64b44555",
   "metadata": {},
   "source": [
    "## Bar chart"
   ]
  },
  {
   "cell_type": "markdown",
   "id": "7b3833bb",
   "metadata": {},
   "source": [
    "### Vertical Bar Chart"
   ]
  },
  {
   "cell_type": "code",
   "execution_count": 8,
   "id": "baee053c",
   "metadata": {},
   "outputs": [
    {
     "data": {
      "text/plain": [
       "<BarContainer object of 5 artists>"
      ]
     },
     "execution_count": 8,
     "metadata": {},
     "output_type": "execute_result"
    },
    {
     "data": {
      "image/png": "[encoded data removed]",
      "text/plain": [
       "<Figure size 432x288 with 1 Axes>"
      ]
     },
     "metadata": {
      "needs_background": "light"
     },
     "output_type": "display_data"
    }
   ],
   "source": [
    "plt.title(\"Section A Average Marks\")\n",
    "plt.xlabel(\"subject names\")\n",
    "plt.ylabel(\"average marks\")\n",
    "\n",
    "plt.bar(df.sub_name,df.section_A_avg, color = \"k\")"
   ]
  },
  {
   "cell_type": "markdown",
   "id": "74337857",
   "metadata": {},
   "source": [
    "### Horizontal Bar Chart"
   ]
  },
  {
   "cell_type": "code",
   "execution_count": 7,
   "id": "4f1a42aa",
   "metadata": {
    "scrolled": true
   },
   "outputs": [
    {
     "data": {
      "text/plain": [
       "<BarContainer object of 5 artists>"
      ]
     },
     "execution_count": 7,
     "metadata": {},
     "output_type": "execute_result"
    },
    {
     "data": {
      "image/png": "[encoded data removed]",
      "text/plain": [
       "<Figure size 432x288 with 1 Axes>"
      ]
     },
     "metadata": {
      "needs_background": "light"
     },
     "output_type": "display_data"
    }
   ],
   "source": [
    "plt.barh(df.sub_name,df.section_A_avg)"
   ]
  },
  {
   "cell_type": "markdown",
   "id": "f9c2a99c",
   "metadata": {},
   "source": [
    "## Width attribute\n",
    "- specifies the width of individual bars"
   ]
  },
  {
   "cell_type": "code",
   "execution_count": 10,
   "id": "545d6e6a",
   "metadata": {},
   "outputs": [
    {
     "data": {
      "text/plain": [
       "<BarContainer object of 5 artists>"
      ]
     },
     "execution_count": 10,
     "metadata": {},
     "output_type": "execute_result"
    },
    {
     "data": {
      "image/png": "[encoded data removed]",
      "text/plain": [
       "<Figure size 432x288 with 1 Axes>"
      ]
     },
     "metadata": {
      "needs_background": "light"
     },
     "output_type": "display_data"
    }
   ],
   "source": [
    "plt.bar(df.sub_name,df.section_A_avg, width = 0.2)"
   ]
  },
  {
   "cell_type": "markdown",
   "id": "169c55fa",
   "metadata": {},
   "source": [
    "## align attribute\n",
    "- aligns the bars (center/ edge)"
   ]
  },
  {
   "cell_type": "code",
   "execution_count": 13,
   "id": "55121faf",
   "metadata": {},
   "outputs": [
    {
     "data": {
      "text/plain": [
       "<BarContainer object of 5 artists>"
      ]
     },
     "execution_count": 13,
     "metadata": {},
     "output_type": "execute_result"
    },
    {
     "data": {
      "image/png": "[encoded data removed]",
      "text/plain": [
       "<Figure size 432x288 with 1 Axes>"
      ]
     },
     "metadata": {
      "needs_background": "light"
     },
     "output_type": "display_data"
    }
   ],
   "source": [
    "plt.bar(df.sub_name,df.section_A_avg, align= \"edge\", width = 0.5)"
   ]
  },
  {
   "cell_type": "markdown",
   "id": "bc73576c",
   "metadata": {},
   "source": [
    "## edge attributes\n",
    "- edgecolor : changes the color of the edges of the bar\n",
    "- linewidth : changes the width of the edges\n",
    "- linestyle : changes the style of edges\n",
    "- alpha : changes the opacity of the edge"
   ]
  },
  {
   "cell_type": "code",
   "execution_count": 20,
   "id": "97252b0c",
   "metadata": {},
   "outputs": [
    {
     "data": {
      "text/plain": [
       "<BarContainer object of 5 artists>"
      ]
     },
     "execution_count": 20,
     "metadata": {},
     "output_type": "execute_result"
    },
    {
     "data": {
      "image/png": "[encoded data removed]",
      "text/plain": [
       "<Figure size 432x288 with 1 Axes>"
      ]
     },
     "metadata": {
      "needs_background": "light"
     },
     "output_type": "display_data"
    }
   ],
   "source": [
    "plt.bar(df.sub_name,df.section_A_avg, width = 0.5,color = \"y\", edgecolor = \"r\", linewidth = 5, linestyle = \"-.\")"
   ]
  },
  {
   "cell_type": "markdown",
   "id": "5576ce01",
   "metadata": {},
   "source": [
    "##  alpha attribute\n",
    "- specifies the opacity of the bar chart"
   ]
  },
  {
   "cell_type": "code",
   "execution_count": 21,
   "id": "5cb1f670",
   "metadata": {},
   "outputs": [
    {
     "data": {
      "text/plain": [
       "<BarContainer object of 5 artists>"
      ]
     },
     "execution_count": 21,
     "metadata": {},
     "output_type": "execute_result"
    },
    {
     "data": {
      "image/png": "[encoded data removed]",
      "text/plain": [
       "<Figure size 432x288 with 1 Axes>"
      ]
     },
     "metadata": {
      "needs_background": "light"
     },
     "output_type": "display_data"
    }
   ],
   "source": [
    "plt.bar(df.sub_name,df.section_A_avg, width = 0.5, alpha = 0.5)"
   ]
  },
  {
   "cell_type": "markdown",
   "id": "bb29404b",
   "metadata": {},
   "source": [
    "## Visible attribute\n",
    "- decides to show or hide the bar\n",
    "- is useful when there are multiple bars"
   ]
  },
  {
   "cell_type": "code",
   "execution_count": 22,
   "id": "9335699a",
   "metadata": {},
   "outputs": [
    {
     "data": {
      "text/plain": [
       "<BarContainer object of 5 artists>"
      ]
     },
     "execution_count": 22,
     "metadata": {},
     "output_type": "execute_result"
    },
    {
     "data": {
      "image/png": "[encoded data removed]",
      "text/plain": [
       "<Figure size 432x288 with 1 Axes>"
      ]
     },
     "metadata": {
      "needs_background": "light"
     },
     "output_type": "display_data"
    }
   ],
   "source": [
    "plt.bar(df.sub_name,df.section_A_avg, visible = False)"
   ]
  },
  {
   "cell_type": "markdown",
   "id": "c4068e77",
   "metadata": {},
   "source": [
    "# Plotting Multiple Bar Charts"
   ]
  },
  {
   "cell_type": "code",
   "execution_count": 25,
   "id": "b5c22414",
   "metadata": {},
   "outputs": [
    {
     "data": {
      "text/html": [
       "<div>\n",
       "<style scoped>\n",
       "    .dataframe tbody tr th:only-of-type {\n",
       "        vertical-align: middle;\n",
       "    }\n",
       "\n",
       "    .dataframe tbody tr th {\n",
       "        vertical-align: top;\n",
       "    }\n",
       "\n",
       "    .dataframe thead th {\n",
       "        text-align: right;\n",
       "    }\n",
       "</style>\n",
       "<table border=\"1\" class=\"dataframe\">\n",
       "  <thead>\n",
       "    <tr style=\"text-align: right;\">\n",
       "      <th></th>\n",
       "      <th>sub_name</th>\n",
       "      <th>section_A_avg</th>\n",
       "      <th>section_B_avg</th>\n",
       "      <th>section_C_avg</th>\n",
       "    </tr>\n",
       "  </thead>\n",
       "  <tbody>\n",
       "    <tr>\n",
       "      <th>0</th>\n",
       "      <td>math</td>\n",
       "      <td>45</td>\n",
       "      <td>56</td>\n",
       "      <td>4</td>\n",
       "    </tr>\n",
       "    <tr>\n",
       "      <th>1</th>\n",
       "      <td>physics</td>\n",
       "      <td>65</td>\n",
       "      <td>68</td>\n",
       "      <td>24</td>\n",
       "    </tr>\n",
       "    <tr>\n",
       "      <th>2</th>\n",
       "      <td>chemistry</td>\n",
       "      <td>54</td>\n",
       "      <td>58</td>\n",
       "      <td>94</td>\n",
       "    </tr>\n",
       "    <tr>\n",
       "      <th>3</th>\n",
       "      <td>English</td>\n",
       "      <td>21</td>\n",
       "      <td>86</td>\n",
       "      <td>75</td>\n",
       "    </tr>\n",
       "    <tr>\n",
       "      <th>4</th>\n",
       "      <td>IT</td>\n",
       "      <td>45</td>\n",
       "      <td>29</td>\n",
       "      <td>75</td>\n",
       "    </tr>\n",
       "  </tbody>\n",
       "</table>\n",
       "</div>"
      ],
      "text/plain": [
       "    sub_name  section_A_avg  section_B_avg  section_C_avg\n",
       "0       math             45             56              4\n",
       "1    physics             65             68             24\n",
       "2  chemistry             54             58             94\n",
       "3    English             21             86             75\n",
       "4         IT             45             29             75"
      ]
     },
     "execution_count": 25,
     "metadata": {},
     "output_type": "execute_result"
    }
   ],
   "source": [
    "df"
   ]
  },
  {
   "cell_type": "code",
   "execution_count": 45,
   "id": "ed416424",
   "metadata": {},
   "outputs": [
    {
     "data": {
      "text/plain": [
       "<matplotlib.legend.Legend at 0x24dcc3e6190>"
      ]
     },
     "execution_count": 45,
     "metadata": {},
     "output_type": "execute_result"
    },
    {
     "data": {
      "image/png": "[encoded data removed]",
      "text/plain": [
       "<Figure size 432x288 with 1 Axes>"
      ]
     },
     "metadata": {
      "needs_background": "light"
     },
     "output_type": "display_data"
    }
   ],
   "source": [
    "plt.title(\"Class X\")\n",
    "plt.xlabel(\"Subjects\")\n",
    "plt.ylabel(\"Average Marks\")\n",
    "\n",
    "W = 0.2 # set up a variale for width \n",
    "class_index = np.arange(1,len(df.sub_name)+1) # set up a list from 1 to number of subjects [1,2,3,4,5]\n",
    "\n",
    "plt.bar(class_index, df.section_A_avg, color = 'r', width = W, label = \"Section A\") #graph plotted with x values [1,2,3,4,5]\n",
    "plt.bar(class_index+W, df.section_B_avg, color = 'y', width = W, label = \"Section B\") #graph plotted with x values [1.2 , 2.2 , 3.2 , 4.2 , 5.2]\n",
    "plt.bar(class_index+W*2, df.section_C_avg, color = 'm', width = W, label = \"Section C\") #graph plotted with x values [1.4 , 2.4 , 3.4 , 4.4 , 5.4]\n",
    "\n",
    "plt.xticks(class_index+W, df.sub_name) # used to replace the x axis from [1.2 ,2.2 ,3.2 ,4.2 ,5.2] to actual subject names\n",
    "\n",
    "plt.legend()"
   ]
  }
 ],
 "metadata": {
  "kernelspec": {
   "display_name": "Python 3 (ipykernel)",
   "language": "python",
   "name": "python3"
  },
  "language_info": {
   "codemirror_mode": {
    "name": "ipython",
    "version": 3
   },
   "file_extension": ".py",
   "mimetype": "text/x-python",
   "name": "python",
   "nbconvert_exporter": "python",
   "pygments_lexer": "ipython3",
   "version": "3.9.12"
  }
 },
 "nbformat": 4,
 "nbformat_minor": 5
}

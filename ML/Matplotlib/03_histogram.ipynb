{
 "cells": [
  {
   "cell_type": "code",
   "execution_count": 2,
   "id": "8b6cd9d4",
   "metadata": {},
   "outputs": [],
   "source": [
    "import matplotlib.pyplot as plt\n",
    "import numpy as np"
   ]
  },
  {
   "cell_type": "code",
   "execution_count": 4,
   "id": "600065c9",
   "metadata": {},
   "outputs": [
    {
     "data": {
      "text/plain": [
       "array([21, 24, 24, 18, 27, 26, 22, 25, 29, 18, 18, 25, 19, 23, 25, 18, 29,\n",
       "       29, 19, 22, 24, 20, 27, 27, 28, 27, 27, 19, 20, 25, 18, 23, 28, 18,\n",
       "       18, 22, 22, 27, 21, 29, 20, 22, 24, 27, 21, 21, 20, 19, 23, 25, 22,\n",
       "       29, 29, 21, 19, 25, 21, 29, 29, 19, 27, 23, 25, 18, 28, 27, 24, 18,\n",
       "       23, 20, 29, 26, 24, 29, 26, 18, 23, 20, 18, 25, 25, 24, 29, 18, 18,\n",
       "       26, 28, 23, 29, 23, 27, 24, 22, 23, 20, 29, 26, 26, 19, 24])"
      ]
     },
     "execution_count": 4,
     "metadata": {},
     "output_type": "execute_result"
    }
   ],
   "source": [
    "np.random.seed(5)\n",
    "\n",
    "age = np.random.randint(18,30,100)\n",
    "age"
   ]
  },
  {
   "cell_type": "markdown",
   "id": "7458d78d",
   "metadata": {},
   "source": [
    "## Histogram"
   ]
  },
  {
   "cell_type": "code",
   "execution_count": 26,
   "id": "bf4f42e5",
   "metadata": {},
   "outputs": [
    {
     "data": {
      "text/plain": [
       "(array([20.,  7.,  6.,  7.,  9.,  9.,  9.,  6., 10., 17.]),\n",
       " array([18. , 19.1, 20.2, 21.3, 22.4, 23.5, 24.6, 25.7, 26.8, 27.9, 29. ]),\n",
       " <BarContainer object of 10 artists>)"
      ]
     },
     "execution_count": 26,
     "metadata": {},
     "output_type": "execute_result"
    },
    {
     "data": {
      "image/png": "[encoded data removed]",
      "text/plain": [
       "<Figure size 432x288 with 1 Axes>"
      ]
     },
     "metadata": {
      "needs_background": "light"
     },
     "output_type": "display_data"
    }
   ],
   "source": [
    "plt.title(\"Medical Students\")\n",
    "plt.xlabel(\"age\")\n",
    "plt.ylabel(\"number of students\")\n",
    "plt.hist(age, color = \"y\") #yellow color to the histogram"
   ]
  },
  {
   "cell_type": "markdown",
   "id": "fb47e5d7",
   "metadata": {},
   "source": [
    "### bins argument\n",
    "- it is used to specify the age groups to devide into for plotting histogram\n",
    "- otherwise the library by default makes on its own (like above it took age groups with gap of one (18-19, 19-20, ...)"
   ]
  },
  {
   "cell_type": "code",
   "execution_count": 14,
   "id": "ef734aa8",
   "metadata": {},
   "outputs": [
    {
     "data": {
      "text/plain": [
       "(array([27., 22., 24., 27.]),\n",
       " array([18, 21, 24, 27, 30]),\n",
       " <BarContainer object of 4 artists>)"
      ]
     },
     "execution_count": 14,
     "metadata": {},
     "output_type": "execute_result"
    },
    {
     "data": {
      "image/png": "[encoded data removed]",
      "text/plain": [
       "<Figure size 432x288 with 1 Axes>"
      ]
     },
     "metadata": {
      "needs_background": "light"
     },
     "output_type": "display_data"
    }
   ],
   "source": [
    "bins = [18,21,24,27,30] # gaps of 3\n",
    "plt.hist(age, bins)"
   ]
  },
  {
   "cell_type": "markdown",
   "id": "6ccc22bf",
   "metadata": {},
   "source": [
    "### rwidth argument\n",
    "- used to specify the width each bar will take in histogram\n",
    "- it is given in percentage (out of 1)"
   ]
  },
  {
   "cell_type": "code",
   "execution_count": 16,
   "id": "da76e94d",
   "metadata": {},
   "outputs": [
    {
     "data": {
      "text/plain": [
       "(array([20.,  7.,  6.,  7.,  9.,  9.,  9.,  6., 10., 17.]),\n",
       " array([18. , 19.1, 20.2, 21.3, 22.4, 23.5, 24.6, 25.7, 26.8, 27.9, 29. ]),\n",
       " <BarContainer object of 10 artists>)"
      ]
     },
     "execution_count": 16,
     "metadata": {},
     "output_type": "execute_result"
    },
    {
     "data": {
      "image/png": "[encoded data removed]",
      "text/plain": [
       "<Figure size 432x288 with 1 Axes>"
      ]
     },
     "metadata": {
      "needs_background": "light"
     },
     "output_type": "display_data"
    }
   ],
   "source": [
    "plt.hist(age, rwidth = 0.8)"
   ]
  },
  {
   "cell_type": "markdown",
   "id": "0a6b5b28",
   "metadata": {},
   "source": [
    "### histtype argument\n",
    "- used to specify the type of histogram\n",
    "- see help for more types of histogram"
   ]
  },
  {
   "cell_type": "code",
   "execution_count": 23,
   "id": "f59d98a7",
   "metadata": {},
   "outputs": [
    {
     "data": {
      "text/plain": [
       "(array([20.,  7.,  6.,  7.,  9.,  9.,  9.,  6., 10., 17.]),\n",
       " array([18. , 19.1, 20.2, 21.3, 22.4, 23.5, 24.6, 25.7, 26.8, 27.9, 29. ]),\n",
       " [<matplotlib.patches.Polygon at 0x246cff06730>])"
      ]
     },
     "execution_count": 23,
     "metadata": {},
     "output_type": "execute_result"
    },
    {
     "data": {
      "image/png": "[encoded data removed]",
      "text/plain": [
       "<Figure size 432x288 with 1 Axes>"
      ]
     },
     "metadata": {
      "needs_background": "light"
     },
     "output_type": "display_data"
    }
   ],
   "source": [
    "plt.hist(age, histtype = \"step\")"
   ]
  },
  {
   "cell_type": "markdown",
   "id": "a630fdd3",
   "metadata": {},
   "source": [
    "### orientation argument\n",
    "- used to specify the orientation of histogram (vertical/ horizontal)\n"
   ]
  },
  {
   "cell_type": "code",
   "execution_count": 25,
   "id": "86989ed9",
   "metadata": {
    "scrolled": true
   },
   "outputs": [
    {
     "data": {
      "text/plain": [
       "(array([20.,  7.,  6.,  7.,  9.,  9.,  9.,  6., 10., 17.]),\n",
       " array([18. , 19.1, 20.2, 21.3, 22.4, 23.5, 24.6, 25.7, 26.8, 27.9, 29. ]),\n",
       " <BarContainer object of 10 artists>)"
      ]
     },
     "execution_count": 25,
     "metadata": {},
     "output_type": "execute_result"
    },
    {
     "data": {
      "image/png": "[encoded data removed]",
      "text/plain": [
       "<Figure size 432x288 with 1 Axes>"
      ]
     },
     "metadata": {
      "needs_background": "light"
     },
     "output_type": "display_data"
    }
   ],
   "source": [
    "plt.hist(age, orientation=\"horizontal\", rwidth = 0.8)"
   ]
  },
  {
   "cell_type": "markdown",
   "id": "1083853b",
   "metadata": {},
   "source": [
    "## Multiple Histograms"
   ]
  },
  {
   "cell_type": "code",
   "execution_count": 29,
   "id": "67747d29",
   "metadata": {},
   "outputs": [],
   "source": [
    "np.random.seed(45)\n",
    "engineering_students_age = np.random.randint(18,30,100)\n",
    "\n",
    "np.random.seed(75)\n",
    "medical_students_age = np.random.randint(18,30,100)"
   ]
  },
  {
   "cell_type": "markdown",
   "id": "e329def7",
   "metadata": {},
   "source": [
    "### Wrong way"
   ]
  },
  {
   "cell_type": "code",
   "execution_count": 30,
   "id": "d291ed25",
   "metadata": {
    "scrolled": true
   },
   "outputs": [
    {
     "data": {
      "text/plain": [
       "(array([25.,  3.,  6., 11.,  5.,  8.,  6.,  7.,  9., 20.]),\n",
       " array([18. , 19.1, 20.2, 21.3, 22.4, 23.5, 24.6, 25.7, 26.8, 27.9, 29. ]),\n",
       " <BarContainer object of 10 artists>)"
      ]
     },
     "execution_count": 30,
     "metadata": {},
     "output_type": "execute_result"
    },
    {
     "data": {
      "image/png": "[encoded data removed]",
      "text/plain": [
       "<Figure size 432x288 with 1 Axes>"
      ]
     },
     "metadata": {
      "needs_background": "light"
     },
     "output_type": "display_data"
    }
   ],
   "source": [
    "# if we use plt.hist() each time for each histogram to plot,\n",
    "# they will overlap on each other and we cant see both simultaneously\n",
    "\n",
    "plt.hist(engineering_students_age, color = \"m\", rwidth = 0.8)\n",
    "plt.hist(medical_students_age, color = \"y\", rwidth = 0.8)"
   ]
  },
  {
   "cell_type": "markdown",
   "id": "55361030",
   "metadata": {},
   "source": [
    "### Correct way"
   ]
  },
  {
   "cell_type": "code",
   "execution_count": 34,
   "id": "f6188ae1",
   "metadata": {},
   "outputs": [
    {
     "data": {
      "image/png": "[encoded data removed]",
      "text/plain": [
       "<Figure size 432x288 with 1 Axes>"
      ]
     },
     "metadata": {
      "needs_background": "light"
     },
     "output_type": "display_data"
    }
   ],
   "source": [
    "# we specify all datas requiring to be histogram and their attributes in a list\n",
    "\n",
    "plt.hist([engineering_students_age,medical_students_age], color = [\"m\",\"y\"],\n",
    "         label = [\"engineering students\",\"medical students\"])\n",
    "plt.legend()\n",
    "plt.grid()"
   ]
  }
 ],
 "metadata": {
  "kernelspec": {
   "display_name": "Python 3",
   "language": "python",
   "name": "python3"
  },
  "language_info": {
   "codemirror_mode": {
    "name": "ipython",
    "version": 3
   },
   "file_extension": ".py",
   "mimetype": "text/x-python",
   "name": "python",
   "nbconvert_exporter": "python",
   "pygments_lexer": "ipython3",
   "version": "3.8.8"
  }
 },
 "nbformat": 4,
 "nbformat_minor": 5
}

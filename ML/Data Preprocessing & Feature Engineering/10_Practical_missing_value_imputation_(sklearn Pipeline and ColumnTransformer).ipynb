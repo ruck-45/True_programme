{
 "cells": [
  {
   "cell_type": "markdown",
   "id": "98e28299",
   "metadata": {},
   "source": [
    "## Note : \n",
    "- we use Pipeline and ColumnTransformer to apply custom SimpleImputer strategies to our custom batch of columns"
   ]
  },
  {
   "cell_type": "code",
   "execution_count": 3,
   "id": "77f7652e",
   "metadata": {},
   "outputs": [],
   "source": [
    "import pandas as pd\n",
    "import numpy as np\n",
    "import matplotlib.pyplot as plt\n",
    "import seaborn as sns\n",
    "\n",
    "from sklearn.impute import SimpleImputer\n",
    "from sklearn.pipeline import Pipeline\n",
    "from sklearn.compose import ColumnTransformer"
   ]
  },
  {
   "cell_type": "markdown",
   "id": "57d90b60",
   "metadata": {},
   "source": [
    "# loading and cleaning NA columns of the dataset"
   ]
  },
  {
   "cell_type": "code",
   "execution_count": 4,
   "id": "fe26a701",
   "metadata": {},
   "outputs": [],
   "source": [
    "df = pd.read_csv('./Datasets/house_prices/train.csv')"
   ]
  },
  {
   "cell_type": "code",
   "execution_count": 11,
   "id": "a85f6823",
   "metadata": {},
   "outputs": [],
   "source": [
    "pd.set_option('display.max_columns',None)\n",
    "pd.set_option('display.max_rows',None)"
   ]
  },
  {
   "cell_type": "code",
   "execution_count": 12,
   "id": "8220729d",
   "metadata": {},
   "outputs": [
    {
     "data": {
      "text/plain": [
       "Index(['Alley', 'FireplaceQu', 'PoolQC', 'Fence', 'MiscFeature'], dtype='object')"
      ]
     },
     "execution_count": 12,
     "metadata": {},
     "output_type": "execute_result"
    }
   ],
   "source": [
    "drop_cols = df.isnull().mean()*100\n",
    "drop_cols = drop_cols[drop_cols>25].keys()\n",
    "drop_cols"
   ]
  },
  {
   "cell_type": "code",
   "execution_count": 13,
   "id": "b5c6f9d6",
   "metadata": {},
   "outputs": [
    {
     "data": {
      "text/plain": [
       "(1460, 76)"
      ]
     },
     "execution_count": 13,
     "metadata": {},
     "output_type": "execute_result"
    }
   ],
   "source": [
    "df2 = df.drop(drop_cols,axis = 1)\n",
    "df2.shape"
   ]
  },
  {
   "cell_type": "markdown",
   "id": "95d308ff",
   "metadata": {},
   "source": [
    "# imputation using sklearn: SimpleImputer, Pipeline, ColumnTransformer"
   ]
  },
  {
   "cell_type": "code",
   "execution_count": 14,
   "id": "d80ee0b2",
   "metadata": {},
   "outputs": [
    {
     "data": {
      "text/plain": [
       "Index(['LotFrontage', 'MasVnrArea', 'GarageYrBlt'], dtype='object')"
      ]
     },
     "execution_count": 14,
     "metadata": {},
     "output_type": "execute_result"
    }
   ],
   "source": [
    "# numerical columns having NAN calues\n",
    "\n",
    "num_nan_cols = df2.select_dtypes(include=['int64','float64']).isnull().sum()\n",
    "num_nan_cols = num_nan_cols[num_nan_cols>0].keys()\n",
    "num_nan_cols"
   ]
  },
  {
   "cell_type": "code",
   "execution_count": 16,
   "id": "a86168d7",
   "metadata": {},
   "outputs": [
    {
     "data": {
      "text/plain": [
       "Index(['MasVnrType', 'BsmtQual', 'BsmtCond', 'BsmtExposure', 'BsmtFinType1',\n",
       "       'BsmtFinType2', 'Electrical', 'GarageType', 'GarageFinish',\n",
       "       'GarageQual', 'GarageCond'],\n",
       "      dtype='object')"
      ]
     },
     "execution_count": 16,
     "metadata": {},
     "output_type": "execute_result"
    }
   ],
   "source": [
    "# catagorical columns having NAN calues\n",
    "\n",
    "cat_nan_cols = df2.select_dtypes(include=['O']).isnull().sum()\n",
    "cat_nan_cols = cat_nan_cols[cat_nan_cols>0].keys()\n",
    "cat_nan_cols"
   ]
  },
  {
   "cell_type": "markdown",
   "id": "b9f89dfd",
   "metadata": {},
   "source": [
    "#### The following way of filling NAN values is completely just for demonstration purpose\n",
    "- in actual dataset we must have domain knowledge to try out different missing data handling strategies"
   ]
  },
  {
   "cell_type": "code",
   "execution_count": 19,
   "id": "cada36f5",
   "metadata": {},
   "outputs": [],
   "source": [
    "# segmenting different columns as per their strategy\n",
    "\n",
    "mean_cols = ['LotFrontage']\n",
    "median_cols = ['MasVnrArea', 'GarageYrBlt']\n",
    "mode_cols = ['MasVnrType', 'BsmtQual', 'BsmtCond', 'BsmtExposure', 'BsmtFinType1']\n",
    "constant_cols = ['BsmtFinType2', 'Electrical', 'GarageType', 'GarageFinish','GarageQual', 'GarageCond']"
   ]
  },
  {
   "cell_type": "code",
   "execution_count": 26,
   "id": "a4392457",
   "metadata": {},
   "outputs": [],
   "source": [
    "# Pipelining each imputer : kind of initializing an imputer for each strategy\n",
    "\n",
    "# Pipeline(steps=[('name','imputer')])\n",
    "\n",
    "mean_imputer = Pipeline(steps=[('imputer',SimpleImputer(strategy='mean'))])\n",
    "median_imputer = Pipeline(steps=[('imputer',SimpleImputer(strategy='median'))])\n",
    "mode_imputer = Pipeline(steps=[('imputer',SimpleImputer(strategy='most_frequent'))])\n",
    "constant_imputer = Pipeline(steps=[('imputer',SimpleImputer(strategy='constant',fill_value='missing'))])"
   ]
  },
  {
   "cell_type": "code",
   "execution_count": 28,
   "id": "ff677c63",
   "metadata": {},
   "outputs": [],
   "source": [
    "# ColumnTransformer : to apply each imputer to respective columns desired\n",
    "\n",
    "# ColumnTransformer(transformers=[(name1 , pipeline_imputer_1 , list_of_cols_1),\n",
    "#                                (name2, pipeline_imputer_1 , list_of_cols_2),\n",
    "#                                (name3, pipeline_imputer_1 , list_of_cols_3)...])\n",
    "\n",
    "preprocessor = ColumnTransformer(transformers=[('mean_transformer' , mean_imputer , mean_cols),\n",
    "                               ('median_transformer' , median_imputer , median_cols),\n",
    "                               ('mode_transformer' , mode_imputer , mode_cols),\n",
    "                               ('constant_transformer' , constant_imputer , constant_cols)])"
   ]
  },
  {
   "cell_type": "code",
   "execution_count": 44,
   "id": "12c42472",
   "metadata": {},
   "outputs": [],
   "source": [
    "# creating a copy\n",
    "\n",
    "df3 = df2.copy()"
   ]
  },
  {
   "cell_type": "code",
   "execution_count": 45,
   "id": "fb4ff9e6",
   "metadata": {},
   "outputs": [
    {
     "data": {
      "text/plain": [
       "ColumnTransformer(transformers=[('mean_transformer',\n",
       "                                 Pipeline(steps=[('imputer', SimpleImputer())]),\n",
       "                                 ['LotFrontage']),\n",
       "                                ('median_transformer',\n",
       "                                 Pipeline(steps=[('imputer',\n",
       "                                                  SimpleImputer(strategy='median'))]),\n",
       "                                 ['MasVnrArea', 'GarageYrBlt']),\n",
       "                                ('mode_transformer',\n",
       "                                 Pipeline(steps=[('imputer',\n",
       "                                                  SimpleImputer(strategy='most_frequent'))]),\n",
       "                                 ['MasVnrType', 'BsmtQual', 'BsmtCond',\n",
       "                                  'BsmtExposure', 'BsmtFinType1']),\n",
       "                                ('constant_transformer',\n",
       "                                 Pipeline(steps=[('imputer',\n",
       "                                                  SimpleImputer(fill_value='missing',\n",
       "                                                                strategy='constant'))]),\n",
       "                                 ['BsmtFinType2', 'Electrical', 'GarageType',\n",
       "                                  'GarageFinish', 'GarageQual',\n",
       "                                  'GarageCond'])])"
      ]
     },
     "execution_count": 45,
     "metadata": {},
     "output_type": "execute_result"
    }
   ],
   "source": [
    "# calling fit to apply all our settings to dataset\n",
    "\n",
    "preprocessor.fit(df3)"
   ]
  },
  {
   "cell_type": "code",
   "execution_count": 35,
   "id": "dc357bec",
   "metadata": {},
   "outputs": [
    {
     "data": {
      "text/plain": [
       "array([70.04995837])"
      ]
     },
     "execution_count": 35,
     "metadata": {},
     "output_type": "execute_result"
    }
   ],
   "source": [
    "# to see statistics:\n",
    "\n",
    "preprocessor.named_transformers_['mean_transformer'].named_steps['imputer'].statistics_"
   ]
  },
  {
   "cell_type": "code",
   "execution_count": 36,
   "id": "3e1a291e",
   "metadata": {},
   "outputs": [
    {
     "data": {
      "text/plain": [
       "array([   0., 1980.])"
      ]
     },
     "execution_count": 36,
     "metadata": {},
     "output_type": "execute_result"
    }
   ],
   "source": [
    "preprocessor.named_transformers_['median_transformer'].named_steps['imputer'].statistics_"
   ]
  },
  {
   "cell_type": "code",
   "execution_count": 37,
   "id": "02ca90b8",
   "metadata": {},
   "outputs": [
    {
     "data": {
      "text/plain": [
       "array(['None', 'TA', 'TA', 'No', 'Unf'], dtype=object)"
      ]
     },
     "execution_count": 37,
     "metadata": {},
     "output_type": "execute_result"
    }
   ],
   "source": [
    "preprocessor.named_transformers_['mode_transformer'].named_steps['imputer'].statistics_"
   ]
  },
  {
   "cell_type": "code",
   "execution_count": 38,
   "id": "05a486fd",
   "metadata": {
    "scrolled": true
   },
   "outputs": [
    {
     "data": {
      "text/plain": [
       "array(['missing', 'missing', 'missing', 'missing', 'missing', 'missing'],\n",
       "      dtype=object)"
      ]
     },
     "execution_count": 38,
     "metadata": {},
     "output_type": "execute_result"
    }
   ],
   "source": [
    "preprocessor.named_transformers_['constant_transformer'].named_steps['imputer'].statistics_"
   ]
  },
  {
   "cell_type": "code",
   "execution_count": 46,
   "id": "1353b88a",
   "metadata": {},
   "outputs": [
    {
     "data": {
      "text/plain": [
       "array([[65.0, 196.0, 2003.0, ..., 'RFn', 'TA', 'TA'],\n",
       "       [80.0, 0.0, 1976.0, ..., 'RFn', 'TA', 'TA'],\n",
       "       [68.0, 162.0, 2001.0, ..., 'RFn', 'TA', 'TA'],\n",
       "       ...,\n",
       "       [66.0, 0.0, 1941.0, ..., 'RFn', 'TA', 'TA'],\n",
       "       [68.0, 0.0, 1950.0, ..., 'Unf', 'TA', 'TA'],\n",
       "       [75.0, 0.0, 1965.0, ..., 'Fin', 'TA', 'TA']], dtype=object)"
      ]
     },
     "execution_count": 46,
     "metadata": {},
     "output_type": "execute_result"
    }
   ],
   "source": [
    "# the imputed 2D array we got\n",
    "\n",
    "df4 = preprocessor.transform(df3)\n",
    "df4"
   ]
  },
  {
   "cell_type": "code",
   "execution_count": 48,
   "id": "63d6a3f1",
   "metadata": {},
   "outputs": [
    {
     "data": {
      "text/plain": [
       "(1460, 14)"
      ]
     },
     "execution_count": 48,
     "metadata": {},
     "output_type": "execute_result"
    }
   ],
   "source": [
    "df4.shape"
   ]
  },
  {
   "cell_type": "code",
   "execution_count": 50,
   "id": "ec667a90",
   "metadata": {},
   "outputs": [
    {
     "data": {
      "text/html": [
       "<div>\n",
       "<style scoped>\n",
       "    .dataframe tbody tr th:only-of-type {\n",
       "        vertical-align: middle;\n",
       "    }\n",
       "\n",
       "    .dataframe tbody tr th {\n",
       "        vertical-align: top;\n",
       "    }\n",
       "\n",
       "    .dataframe thead th {\n",
       "        text-align: right;\n",
       "    }\n",
       "</style>\n",
       "<table border=\"1\" class=\"dataframe\">\n",
       "  <thead>\n",
       "    <tr style=\"text-align: right;\">\n",
       "      <th></th>\n",
       "      <th>LotFrontage</th>\n",
       "      <th>MasVnrArea</th>\n",
       "      <th>GarageYrBlt</th>\n",
       "      <th>MasVnrType</th>\n",
       "      <th>BsmtQual</th>\n",
       "      <th>BsmtCond</th>\n",
       "      <th>BsmtExposure</th>\n",
       "      <th>BsmtFinType1</th>\n",
       "      <th>BsmtFinType2</th>\n",
       "      <th>Electrical</th>\n",
       "      <th>GarageType</th>\n",
       "      <th>GarageFinish</th>\n",
       "      <th>GarageQual</th>\n",
       "      <th>GarageCond</th>\n",
       "    </tr>\n",
       "  </thead>\n",
       "  <tbody>\n",
       "    <tr>\n",
       "      <th>0</th>\n",
       "      <td>65.0</td>\n",
       "      <td>196.0</td>\n",
       "      <td>2003.0</td>\n",
       "      <td>BrkFace</td>\n",
       "      <td>Gd</td>\n",
       "      <td>TA</td>\n",
       "      <td>No</td>\n",
       "      <td>GLQ</td>\n",
       "      <td>Unf</td>\n",
       "      <td>SBrkr</td>\n",
       "      <td>Attchd</td>\n",
       "      <td>RFn</td>\n",
       "      <td>TA</td>\n",
       "      <td>TA</td>\n",
       "    </tr>\n",
       "    <tr>\n",
       "      <th>1</th>\n",
       "      <td>80.0</td>\n",
       "      <td>0.0</td>\n",
       "      <td>1976.0</td>\n",
       "      <td>None</td>\n",
       "      <td>Gd</td>\n",
       "      <td>TA</td>\n",
       "      <td>Gd</td>\n",
       "      <td>ALQ</td>\n",
       "      <td>Unf</td>\n",
       "      <td>SBrkr</td>\n",
       "      <td>Attchd</td>\n",
       "      <td>RFn</td>\n",
       "      <td>TA</td>\n",
       "      <td>TA</td>\n",
       "    </tr>\n",
       "    <tr>\n",
       "      <th>2</th>\n",
       "      <td>68.0</td>\n",
       "      <td>162.0</td>\n",
       "      <td>2001.0</td>\n",
       "      <td>BrkFace</td>\n",
       "      <td>Gd</td>\n",
       "      <td>TA</td>\n",
       "      <td>Mn</td>\n",
       "      <td>GLQ</td>\n",
       "      <td>Unf</td>\n",
       "      <td>SBrkr</td>\n",
       "      <td>Attchd</td>\n",
       "      <td>RFn</td>\n",
       "      <td>TA</td>\n",
       "      <td>TA</td>\n",
       "    </tr>\n",
       "    <tr>\n",
       "      <th>3</th>\n",
       "      <td>60.0</td>\n",
       "      <td>0.0</td>\n",
       "      <td>1998.0</td>\n",
       "      <td>None</td>\n",
       "      <td>TA</td>\n",
       "      <td>Gd</td>\n",
       "      <td>No</td>\n",
       "      <td>ALQ</td>\n",
       "      <td>Unf</td>\n",
       "      <td>SBrkr</td>\n",
       "      <td>Detchd</td>\n",
       "      <td>Unf</td>\n",
       "      <td>TA</td>\n",
       "      <td>TA</td>\n",
       "    </tr>\n",
       "    <tr>\n",
       "      <th>4</th>\n",
       "      <td>84.0</td>\n",
       "      <td>350.0</td>\n",
       "      <td>2000.0</td>\n",
       "      <td>BrkFace</td>\n",
       "      <td>Gd</td>\n",
       "      <td>TA</td>\n",
       "      <td>Av</td>\n",
       "      <td>GLQ</td>\n",
       "      <td>Unf</td>\n",
       "      <td>SBrkr</td>\n",
       "      <td>Attchd</td>\n",
       "      <td>RFn</td>\n",
       "      <td>TA</td>\n",
       "      <td>TA</td>\n",
       "    </tr>\n",
       "  </tbody>\n",
       "</table>\n",
       "</div>"
      ],
      "text/plain": [
       "  LotFrontage MasVnrArea GarageYrBlt MasVnrType BsmtQual BsmtCond  \\\n",
       "0        65.0      196.0      2003.0    BrkFace       Gd       TA   \n",
       "1        80.0        0.0      1976.0       None       Gd       TA   \n",
       "2        68.0      162.0      2001.0    BrkFace       Gd       TA   \n",
       "3        60.0        0.0      1998.0       None       TA       Gd   \n",
       "4        84.0      350.0      2000.0    BrkFace       Gd       TA   \n",
       "\n",
       "  BsmtExposure BsmtFinType1 BsmtFinType2 Electrical GarageType GarageFinish  \\\n",
       "0           No          GLQ          Unf      SBrkr     Attchd          RFn   \n",
       "1           Gd          ALQ          Unf      SBrkr     Attchd          RFn   \n",
       "2           Mn          GLQ          Unf      SBrkr     Attchd          RFn   \n",
       "3           No          ALQ          Unf      SBrkr     Detchd          Unf   \n",
       "4           Av          GLQ          Unf      SBrkr     Attchd          RFn   \n",
       "\n",
       "  GarageQual GarageCond  \n",
       "0         TA         TA  \n",
       "1         TA         TA  \n",
       "2         TA         TA  \n",
       "3         TA         TA  \n",
       "4         TA         TA  "
      ]
     },
     "execution_count": 50,
     "metadata": {},
     "output_type": "execute_result"
    }
   ],
   "source": [
    "df4 = pd.DataFrame(df4, columns=mean_cols+median_cols+mode_cols+constant_cols)\n",
    "df4.head()"
   ]
  },
  {
   "cell_type": "code",
   "execution_count": 51,
   "id": "7ab21353",
   "metadata": {},
   "outputs": [
    {
     "data": {
      "text/plain": [
       "0"
      ]
     },
     "execution_count": 51,
     "metadata": {},
     "output_type": "execute_result"
    }
   ],
   "source": [
    "df4.isnull().sum().sum()"
   ]
  },
  {
   "cell_type": "code",
   "execution_count": 53,
   "id": "6ff06ba5",
   "metadata": {},
   "outputs": [
    {
     "data": {
      "text/plain": [
       "868"
      ]
     },
     "execution_count": 53,
     "metadata": {},
     "output_type": "execute_result"
    }
   ],
   "source": [
    "df5 = df2.copy()\n",
    "df5.isnull().sum().sum()"
   ]
  },
  {
   "cell_type": "code",
   "execution_count": 57,
   "id": "87fadf9f",
   "metadata": {},
   "outputs": [],
   "source": [
    "# updating the whole dataframe\n",
    "\n",
    "df5.update(df4)"
   ]
  },
  {
   "cell_type": "code",
   "execution_count": 56,
   "id": "f26f6fa7",
   "metadata": {},
   "outputs": [
    {
     "data": {
      "text/plain": [
       "0"
      ]
     },
     "execution_count": 56,
     "metadata": {},
     "output_type": "execute_result"
    }
   ],
   "source": [
    "df5.isnull().sum().sum()"
   ]
  },
  {
   "cell_type": "code",
   "execution_count": 58,
   "id": "4e1e7ddd",
   "metadata": {},
   "outputs": [
    {
     "data": {
      "text/plain": [
       "0    65.0\n",
       "1    80.0\n",
       "2    68.0\n",
       "3    60.0\n",
       "4    84.0\n",
       "Name: LotFrontage, dtype: object"
      ]
     },
     "execution_count": 58,
     "metadata": {},
     "output_type": "execute_result"
    }
   ],
   "source": [
    "df5['LotFrontage'].head()"
   ]
  }
 ],
 "metadata": {
  "kernelspec": {
   "display_name": "Python 3",
   "language": "python",
   "name": "python3"
  },
  "language_info": {
   "codemirror_mode": {
    "name": "ipython",
    "version": 3
   },
   "file_extension": ".py",
   "mimetype": "text/x-python",
   "name": "python",
   "nbconvert_exporter": "python",
   "pygments_lexer": "ipython3",
   "version": "3.8.8"
  }
 },
 "nbformat": 4,
 "nbformat_minor": 5
}

{
 "cells": [
  {
   "cell_type": "markdown",
   "id": "3edba41e",
   "metadata": {},
   "source": [
    "# What is data preprocessing ?"
   ]
  },
  {
   "cell_type": "code",
   "execution_count": 1,
   "id": "0df0e4b0",
   "metadata": {},
   "outputs": [],
   "source": [
    "# Data = {text, images, videos, audios, etc...}\n",
    "\n",
    "# Data Preprocessing = Process of converting Raw Data into meaningful data using various techniques."
   ]
  },
  {
   "cell_type": "markdown",
   "id": "f0a758be",
   "metadata": {},
   "source": [
    "# Need of Data Preprocessing"
   ]
  },
  {
   "cell_type": "code",
   "execution_count": 2,
   "id": "deeae155",
   "metadata": {},
   "outputs": [],
   "source": [
    "# Real world data is dirty data.\n",
    "\n",
    "# Dirty Data can be :\n",
    "#     Incomplete\n",
    "#     Duplicate\n",
    "#     Noisy\n",
    "#     Inconsistent"
   ]
  },
  {
   "cell_type": "code",
   "execution_count": 3,
   "id": "1f950d79",
   "metadata": {},
   "outputs": [],
   "source": [
    "# To convert Dirty Real world data to Quality Data , we perform Data Preprocessing."
   ]
  },
  {
   "cell_type": "code",
   "execution_count": 4,
   "id": "f9635158",
   "metadata": {},
   "outputs": [],
   "source": [
    "# Quality data has following charecteristics :\n",
    "#     Completeness\n",
    "#     Consistancy\n",
    "#     Accuracy\n",
    "#     Believability\n",
    "#     Interpritability"
   ]
  },
  {
   "cell_type": "markdown",
   "id": "85153941",
   "metadata": {},
   "source": [
    "# Techniques in Data Preprocessing"
   ]
  },
  {
   "cell_type": "code",
   "execution_count": 6,
   "id": "a5bd5cd0",
   "metadata": {},
   "outputs": [],
   "source": [
    "# 1. Data Cleaning\n",
    "# 2. Data Integration\n",
    "# 3. Data Reduction\n",
    "# 4. Data Transformation\n",
    "# 5. Data Discretization"
   ]
  },
  {
   "cell_type": "markdown",
   "id": "5fa7e9f2",
   "metadata": {},
   "source": [
    "## 1. Data Cleaning"
   ]
  },
  {
   "cell_type": "code",
   "execution_count": 7,
   "id": "2add60db",
   "metadata": {},
   "outputs": [],
   "source": [
    "# - fill in missing values\n",
    "# - smooth out noises while identifying outliers (outliers = unnecessary details)\n",
    "# - correct inconsistancies in the data"
   ]
  },
  {
   "cell_type": "markdown",
   "id": "181f419e",
   "metadata": {},
   "source": [
    "## 2. Data Integration"
   ]
  },
  {
   "cell_type": "code",
   "execution_count": 9,
   "id": "a6d3b09d",
   "metadata": {},
   "outputs": [],
   "source": [
    "# - Merge data from different sources into a coherent data store like a data warehouse\n",
    "# - The merged data should be coherent, that means they must be related"
   ]
  },
  {
   "cell_type": "markdown",
   "id": "71df0a2c",
   "metadata": {},
   "source": [
    "## 3. Data Reduction"
   ]
  },
  {
   "cell_type": "code",
   "execution_count": 10,
   "id": "b08ba9c6",
   "metadata": {},
   "outputs": [],
   "source": [
    "# - Reduce data size y aggregating, eleminating redundant featues, or clustering\n",
    "# - Remove unwanted features not required by the machine to learn"
   ]
  },
  {
   "cell_type": "markdown",
   "id": "7a6abf73",
   "metadata": {},
   "source": [
    "## 4. Data Transformation"
   ]
  },
  {
   "cell_type": "code",
   "execution_count": 12,
   "id": "b4c542e2",
   "metadata": {},
   "outputs": [],
   "source": [
    "# - Data are transformed or consolidated into forms appropriate for ML model training\n",
    "# - techniques used are like :\n",
    "#     Normalization\n",
    "#     Feature type conversion\n",
    "#     Aggregation\n",
    "#     Attribute/feature construction"
   ]
  },
  {
   "cell_type": "markdown",
   "id": "2bb49ba5",
   "metadata": {},
   "source": [
    "## 5. Data Discretization"
   ]
  },
  {
   "cell_type": "code",
   "execution_count": 13,
   "id": "87fd3b21",
   "metadata": {},
   "outputs": [],
   "source": [
    "# - transform numeric data by mapping values to intervals or concept labels\n",
    "# - used to reduce the number of values for a given continuous attribute into intervals"
   ]
  },
  {
   "cell_type": "code",
   "execution_count": null,
   "id": "d3c9e4a4",
   "metadata": {},
   "outputs": [],
   "source": [
    "# - Discretization techniques include : \n",
    "#     Binning\n",
    "#     Histogram analysis\n",
    "#     Cluster analysis\n",
    "#     Decision-tree analysis\n",
    "#     Correlation analysis"
   ]
  }
 ],
 "metadata": {
  "kernelspec": {
   "display_name": "Python 3",
   "language": "python",
   "name": "python3"
  },
  "language_info": {
   "codemirror_mode": {
    "name": "ipython",
    "version": 3
   },
   "file_extension": ".py",
   "mimetype": "text/x-python",
   "name": "python",
   "nbconvert_exporter": "python",
   "pygments_lexer": "ipython3",
   "version": "3.8.8"
  }
 },
 "nbformat": 4,
 "nbformat_minor": 5
}

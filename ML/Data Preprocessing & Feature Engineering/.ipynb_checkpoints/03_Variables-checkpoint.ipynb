{
 "cells": [
  {
   "cell_type": "markdown",
   "id": "52022704",
   "metadata": {},
   "source": [
    "# What is Variable?"
   ]
  },
  {
   "cell_type": "code",
   "execution_count": 3,
   "id": "8b9f76ea",
   "metadata": {},
   "outputs": [],
   "source": [
    "# - In ML, A Variable is any charecteristic, number, or quantity that can be measured or counted.\n",
    "# - The entries in each attribute / property can be called a Variable in ML"
   ]
  },
  {
   "cell_type": "code",
   "execution_count": 4,
   "id": "1cf94cd9",
   "metadata": {},
   "outputs": [],
   "source": [
    "# - It is important to know the type of the variable such that we can deal and manipulate it according to our need."
   ]
  },
  {
   "cell_type": "markdown",
   "id": "8190dffa",
   "metadata": {},
   "source": [
    "# Types Of Variables"
   ]
  },
  {
   "cell_type": "markdown",
   "id": "9a512616",
   "metadata": {},
   "source": [
    "## 1. Numerical Variables\n",
    "- variable where the measurement has a numerical meaning.\n",
    "- Types of Numerical Variable :\n",
    "    1. Discrete : \n",
    "        - The value can be counted as a whole value\n",
    "        - Only Integer value allowed\n",
    "        - Ex : Age, Number of cars can only be a Discrete Numerical variable.\n",
    "    2. Continuous :\n",
    "        - The value contains range / measurements\n",
    "        - All float values fall under this catagory\n",
    "        - Ex : Temperature, Percentage can be a Continuous Numerical variable."
   ]
  },
  {
   "cell_type": "markdown",
   "id": "65ccf74d",
   "metadata": {},
   "source": [
    "## 2. Catagorical\n",
    "- The values of a catagorical variable are selected from a group of catagories / labels\n",
    "- Types of Catagorical Variables :\n",
    "    1. Ordinal\n",
    "        - The catagories are meaningfully ordered\n",
    "        - When the ordinal variables are given mathematical number it has mathematical value.\n",
    "        - If we end up giving te numerical values accordig to their order, it will make sense\n",
    "        - Ex : Grades ( A, B, C, D, E, F) if we number them 1 - 6 this has some meaning as the lower the number , the better the performance is.\n",
    "        - Quality ( Poor, Average, Good, Very good, Excellent)\n",
    "        - Days of the week\n",
    "        - Months of a year\n",
    "    2. Nominal\n",
    "        - There is no order between the catagories\n",
    "        - All labels are equal with no order\n",
    "        - We mostly use techniques like One Hot Encoding / Dummy Variables to represent them\n",
    "        - Example : Types of Birds, Programming Languages"
   ]
  },
  {
   "cell_type": "markdown",
   "id": "5bca76fc",
   "metadata": {},
   "source": [
    "## 3. Date & Time (partly belongs to catagorical)\n",
    "- It can contain Date only / Time only or date and time\n",
    "- Ex : User login time, bank withdrawal time, train arrival or departure etc.."
   ]
  },
  {
   "cell_type": "markdown",
   "id": "f7581173",
   "metadata": {},
   "source": [
    "## 4. Mixed\n",
    "- When a single Feature / Attribute / Charecteristic contains mixture of different variable types, it is said to have mixed variable\n",
    "- It is important phase in data cleaning to convert all features into a single variable type"
   ]
  },
  {
   "cell_type": "code",
   "execution_count": 7,
   "id": "cf3aa65b",
   "metadata": {},
   "outputs": [
    {
     "data": {
      "text/html": [
       "<div>\n",
       "<style scoped>\n",
       "    .dataframe tbody tr th:only-of-type {\n",
       "        vertical-align: middle;\n",
       "    }\n",
       "\n",
       "    .dataframe tbody tr th {\n",
       "        vertical-align: top;\n",
       "    }\n",
       "\n",
       "    .dataframe thead th {\n",
       "        text-align: right;\n",
       "    }\n",
       "</style>\n",
       "<table border=\"1\" class=\"dataframe\">\n",
       "  <thead>\n",
       "    <tr style=\"text-align: right;\">\n",
       "      <th></th>\n",
       "      <th>Roll Number</th>\n",
       "      <th>Performance</th>\n",
       "    </tr>\n",
       "  </thead>\n",
       "  <tbody>\n",
       "    <tr>\n",
       "      <th>0</th>\n",
       "      <td>1</td>\n",
       "      <td>10</td>\n",
       "    </tr>\n",
       "    <tr>\n",
       "      <th>1</th>\n",
       "      <td>2</td>\n",
       "      <td>A++</td>\n",
       "    </tr>\n",
       "    <tr>\n",
       "      <th>2</th>\n",
       "      <td>3</td>\n",
       "      <td>7</td>\n",
       "    </tr>\n",
       "    <tr>\n",
       "      <th>3</th>\n",
       "      <td>4</td>\n",
       "      <td>6</td>\n",
       "    </tr>\n",
       "    <tr>\n",
       "      <th>4</th>\n",
       "      <td>5</td>\n",
       "      <td>Fail</td>\n",
       "    </tr>\n",
       "    <tr>\n",
       "      <th>5</th>\n",
       "      <td>6</td>\n",
       "      <td>Fail</td>\n",
       "    </tr>\n",
       "  </tbody>\n",
       "</table>\n",
       "</div>"
      ],
      "text/plain": [
       "   Roll Number Performance\n",
       "0            1          10\n",
       "1            2         A++\n",
       "2            3           7\n",
       "3            4           6\n",
       "4            5        Fail\n",
       "5            6        Fail"
      ]
     },
     "execution_count": 7,
     "metadata": {},
     "output_type": "execute_result"
    }
   ],
   "source": [
    "# Example : \n",
    "# The performance column contains mixed variable.\n",
    "\n",
    "import pandas as pd\n",
    "\n",
    "pd.DataFrame({\n",
    "    \"Roll Number\" : [1,2,3,4,5,6],\n",
    "    \"Performance\" : [10, 'A++' , 7, 6 , 'Fail', 'Fail']\n",
    "})"
   ]
  }
 ],
 "metadata": {
  "kernelspec": {
   "display_name": "Python 3",
   "language": "python",
   "name": "python3"
  },
  "language_info": {
   "codemirror_mode": {
    "name": "ipython",
    "version": 3
   },
   "file_extension": ".py",
   "mimetype": "text/x-python",
   "name": "python",
   "nbconvert_exporter": "python",
   "pygments_lexer": "ipython3",
   "version": "3.8.8"
  }
 },
 "nbformat": 4,
 "nbformat_minor": 5
}

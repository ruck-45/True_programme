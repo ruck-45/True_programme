{
 "cells": [
  {
   "cell_type": "markdown",
   "id": "5122f610",
   "metadata": {},
   "source": [
    "# What is Feature Engineering?"
   ]
  },
  {
   "cell_type": "code",
   "execution_count": 2,
   "id": "aec2bc1a",
   "metadata": {},
   "outputs": [],
   "source": [
    "# Feature : It is an attribute / property shared by all the independent units on which analysis or prediction is to be done"
   ]
  },
  {
   "cell_type": "code",
   "execution_count": 3,
   "id": "248bda01",
   "metadata": {},
   "outputs": [],
   "source": [
    "# Feature Engineering : \n",
    "#     It is the process of creating new features from existing features \n",
    "#     by domain knowledge to increase the performance of te ML model."
   ]
  },
  {
   "cell_type": "code",
   "execution_count": 4,
   "id": "803e3af4",
   "metadata": {},
   "outputs": [],
   "source": [
    "# - ML model sometimes cannot decypher important informations from existing features because\n",
    "# they treat them as numerical values instead of applying any logic to them.\n",
    "\n",
    "# - In this case the Feature Engineers apply their logic and extract valuable and computable features for the ML model\n",
    "# and that data is used instead to increase the accuracy of the ML model."
   ]
  },
  {
   "cell_type": "markdown",
   "id": "25f31c52",
   "metadata": {},
   "source": [
    "# Major processes of Feature Engineering"
   ]
  },
  {
   "cell_type": "code",
   "execution_count": 5,
   "id": "6d97fc23",
   "metadata": {},
   "outputs": [],
   "source": [
    "# - Brainstorming or testing\n",
    "# - Deciding what features to create\n",
    "# - Creating features\n",
    "# - Checking how the features work with the model\n",
    "# - Improving the features if needed\n",
    "# - Repeat Brainstorming / creating until the accuracy is desired"
   ]
  },
  {
   "cell_type": "markdown",
   "id": "eb18ea85",
   "metadata": {},
   "source": [
    "# Examples"
   ]
  },
  {
   "cell_type": "code",
   "execution_count": 8,
   "id": "bdd0a910",
   "metadata": {},
   "outputs": [],
   "source": [
    "import pandas as pd\n",
    "import numpy as np"
   ]
  },
  {
   "cell_type": "markdown",
   "id": "63cdabca",
   "metadata": {},
   "source": [
    "### Example 1"
   ]
  },
  {
   "cell_type": "code",
   "execution_count": 12,
   "id": "0ff0a478",
   "metadata": {},
   "outputs": [
    {
     "data": {
      "text/html": [
       "<div>\n",
       "<style scoped>\n",
       "    .dataframe tbody tr th:only-of-type {\n",
       "        vertical-align: middle;\n",
       "    }\n",
       "\n",
       "    .dataframe tbody tr th {\n",
       "        vertical-align: top;\n",
       "    }\n",
       "\n",
       "    .dataframe thead th {\n",
       "        text-align: right;\n",
       "    }\n",
       "</style>\n",
       "<table border=\"1\" class=\"dataframe\">\n",
       "  <thead>\n",
       "    <tr style=\"text-align: right;\">\n",
       "      <th></th>\n",
       "      <th>Train_Scheduled_Time</th>\n",
       "      <th>Train_Reach_Time</th>\n",
       "    </tr>\n",
       "  </thead>\n",
       "  <tbody>\n",
       "    <tr>\n",
       "      <th>0</th>\n",
       "      <td>10.00 AM</td>\n",
       "      <td>10.15 AM</td>\n",
       "    </tr>\n",
       "    <tr>\n",
       "      <th>1</th>\n",
       "      <td>05.00 PM</td>\n",
       "      <td>05.00 PM</td>\n",
       "    </tr>\n",
       "  </tbody>\n",
       "</table>\n",
       "</div>"
      ],
      "text/plain": [
       "  Train_Scheduled_Time Train_Reach_Time\n",
       "0             10.00 AM         10.15 AM\n",
       "1             05.00 PM         05.00 PM"
      ]
     },
     "execution_count": 12,
     "metadata": {},
     "output_type": "execute_result"
    }
   ],
   "source": [
    "# original dataset : \n",
    "\n",
    "pd.DataFrame({\n",
    "    'Train_Scheduled_Time' : ['10.00 AM' , '05.00 PM'],\n",
    "    'Train_Reach_Time' : ['10.15 AM' , '05.00 PM']\n",
    "})"
   ]
  },
  {
   "cell_type": "code",
   "execution_count": 15,
   "id": "8234be83",
   "metadata": {
    "scrolled": true
   },
   "outputs": [
    {
     "data": {
      "text/html": [
       "<div>\n",
       "<style scoped>\n",
       "    .dataframe tbody tr th:only-of-type {\n",
       "        vertical-align: middle;\n",
       "    }\n",
       "\n",
       "    .dataframe tbody tr th {\n",
       "        vertical-align: top;\n",
       "    }\n",
       "\n",
       "    .dataframe thead th {\n",
       "        text-align: right;\n",
       "    }\n",
       "</style>\n",
       "<table border=\"1\" class=\"dataframe\">\n",
       "  <thead>\n",
       "    <tr style=\"text-align: right;\">\n",
       "      <th></th>\n",
       "      <th>Train_Scheduled_Time</th>\n",
       "      <th>Train_Reach_Time</th>\n",
       "      <th>Dealy_time_in_minute</th>\n",
       "    </tr>\n",
       "  </thead>\n",
       "  <tbody>\n",
       "    <tr>\n",
       "      <th>0</th>\n",
       "      <td>10.00 AM</td>\n",
       "      <td>10.15 AM</td>\n",
       "      <td>15</td>\n",
       "    </tr>\n",
       "    <tr>\n",
       "      <th>1</th>\n",
       "      <td>05.00 PM</td>\n",
       "      <td>05.00 PM</td>\n",
       "      <td>0</td>\n",
       "    </tr>\n",
       "  </tbody>\n",
       "</table>\n",
       "</div>"
      ],
      "text/plain": [
       "  Train_Scheduled_Time Train_Reach_Time  Dealy_time_in_minute\n",
       "0             10.00 AM         10.15 AM                    15\n",
       "1             05.00 PM         05.00 PM                     0"
      ]
     },
     "execution_count": 15,
     "metadata": {},
     "output_type": "execute_result"
    }
   ],
   "source": [
    "# Dataset After Feature Engineering :\n",
    "# We extracted a new feature - \"Delay Time\"\n",
    "\n",
    "pd.DataFrame({\n",
    "    'Train_Scheduled_Time' : ['10.00 AM' , '05.00 PM'],\n",
    "    'Train_Reach_Time' : ['10.15 AM' , '05.00 PM'],\n",
    "    'Dealy_time_in_minute' : [15,0]\n",
    "})"
   ]
  },
  {
   "cell_type": "markdown",
   "id": "0e292619",
   "metadata": {},
   "source": [
    "### Example 2"
   ]
  },
  {
   "cell_type": "code",
   "execution_count": 16,
   "id": "aa579b0b",
   "metadata": {},
   "outputs": [
    {
     "data": {
      "text/html": [
       "<div>\n",
       "<style scoped>\n",
       "    .dataframe tbody tr th:only-of-type {\n",
       "        vertical-align: middle;\n",
       "    }\n",
       "\n",
       "    .dataframe tbody tr th {\n",
       "        vertical-align: top;\n",
       "    }\n",
       "\n",
       "    .dataframe thead th {\n",
       "        text-align: right;\n",
       "    }\n",
       "</style>\n",
       "<table border=\"1\" class=\"dataframe\">\n",
       "  <thead>\n",
       "    <tr style=\"text-align: right;\">\n",
       "      <th></th>\n",
       "      <th>Date</th>\n",
       "      <th>Time</th>\n",
       "    </tr>\n",
       "  </thead>\n",
       "  <tbody>\n",
       "    <tr>\n",
       "      <th>0</th>\n",
       "      <td>07-Jan-2022</td>\n",
       "      <td>12.00.00</td>\n",
       "    </tr>\n",
       "    <tr>\n",
       "      <th>1</th>\n",
       "      <td>20-Fab-2022</td>\n",
       "      <td>23.04.00</td>\n",
       "    </tr>\n",
       "  </tbody>\n",
       "</table>\n",
       "</div>"
      ],
      "text/plain": [
       "          Date      Time\n",
       "0  07-Jan-2022  12.00.00\n",
       "1  20-Fab-2022  23.04.00"
      ]
     },
     "execution_count": 16,
     "metadata": {},
     "output_type": "execute_result"
    }
   ],
   "source": [
    "# original dataset : \n",
    "\n",
    "pd.DataFrame({\n",
    "    'Date' : ['07-Jan-2022' , '20-Fab-2022'],\n",
    "    'Time' : ['12.00.00' , '23.04.00']\n",
    "})"
   ]
  },
  {
   "cell_type": "code",
   "execution_count": 18,
   "id": "0bc9d53b",
   "metadata": {},
   "outputs": [
    {
     "data": {
      "text/html": [
       "<div>\n",
       "<style scoped>\n",
       "    .dataframe tbody tr th:only-of-type {\n",
       "        vertical-align: middle;\n",
       "    }\n",
       "\n",
       "    .dataframe tbody tr th {\n",
       "        vertical-align: top;\n",
       "    }\n",
       "\n",
       "    .dataframe thead th {\n",
       "        text-align: right;\n",
       "    }\n",
       "</style>\n",
       "<table border=\"1\" class=\"dataframe\">\n",
       "  <thead>\n",
       "    <tr style=\"text-align: right;\">\n",
       "      <th></th>\n",
       "      <th>Date</th>\n",
       "      <th>Time</th>\n",
       "      <th>hour</th>\n",
       "      <th>day</th>\n",
       "      <th>month</th>\n",
       "      <th>year</th>\n",
       "      <th>day_of_the_week</th>\n",
       "    </tr>\n",
       "  </thead>\n",
       "  <tbody>\n",
       "    <tr>\n",
       "      <th>0</th>\n",
       "      <td>07-Jan-2022</td>\n",
       "      <td>12.00.00</td>\n",
       "      <td>12</td>\n",
       "      <td>7</td>\n",
       "      <td>1</td>\n",
       "      <td>2022</td>\n",
       "      <td>6</td>\n",
       "    </tr>\n",
       "    <tr>\n",
       "      <th>1</th>\n",
       "      <td>20-Fab-2022</td>\n",
       "      <td>23.04.00</td>\n",
       "      <td>23</td>\n",
       "      <td>20</td>\n",
       "      <td>2</td>\n",
       "      <td>2022</td>\n",
       "      <td>1</td>\n",
       "    </tr>\n",
       "  </tbody>\n",
       "</table>\n",
       "</div>"
      ],
      "text/plain": [
       "          Date      Time  hour  day  month  year  day_of_the_week\n",
       "0  07-Jan-2022  12.00.00    12    7      1  2022                6\n",
       "1  20-Fab-2022  23.04.00    23   20      2  2022                1"
      ]
     },
     "execution_count": 18,
     "metadata": {},
     "output_type": "execute_result"
    }
   ],
   "source": [
    "# Dataset After Feature Engineering :\n",
    "# We extracted 5 new features\n",
    "\n",
    "pd.DataFrame({\n",
    "    'Date' : ['07-Jan-2022' , '20-Fab-2022'],\n",
    "    'Time' : ['12.00.00' , '23.04.00'],\n",
    "    'hour' : [12,23],\n",
    "    'day' : [7,20],\n",
    "    'month' : [1,2],\n",
    "    'year' : [2022,2022],\n",
    "    'day_of_the_week' : [6,1]\n",
    "})"
   ]
  },
  {
   "cell_type": "markdown",
   "id": "ec6bed51",
   "metadata": {},
   "source": [
    "### Example 3"
   ]
  },
  {
   "cell_type": "code",
   "execution_count": 19,
   "id": "1fa147f8",
   "metadata": {},
   "outputs": [
    {
     "data": {
      "text/html": [
       "<div>\n",
       "<style scoped>\n",
       "    .dataframe tbody tr th:only-of-type {\n",
       "        vertical-align: middle;\n",
       "    }\n",
       "\n",
       "    .dataframe tbody tr th {\n",
       "        vertical-align: top;\n",
       "    }\n",
       "\n",
       "    .dataframe thead th {\n",
       "        text-align: right;\n",
       "    }\n",
       "</style>\n",
       "<table border=\"1\" class=\"dataframe\">\n",
       "  <thead>\n",
       "    <tr style=\"text-align: right;\">\n",
       "      <th></th>\n",
       "      <th>Age</th>\n",
       "      <th>Sex</th>\n",
       "    </tr>\n",
       "  </thead>\n",
       "  <tbody>\n",
       "    <tr>\n",
       "      <th>0</th>\n",
       "      <td>23</td>\n",
       "      <td>Male</td>\n",
       "    </tr>\n",
       "    <tr>\n",
       "      <th>1</th>\n",
       "      <td>12</td>\n",
       "      <td>Female</td>\n",
       "    </tr>\n",
       "    <tr>\n",
       "      <th>2</th>\n",
       "      <td>34</td>\n",
       "      <td>Male</td>\n",
       "    </tr>\n",
       "    <tr>\n",
       "      <th>3</th>\n",
       "      <td>26</td>\n",
       "      <td>Female</td>\n",
       "    </tr>\n",
       "    <tr>\n",
       "      <th>4</th>\n",
       "      <td>15</td>\n",
       "      <td>Male</td>\n",
       "    </tr>\n",
       "    <tr>\n",
       "      <th>5</th>\n",
       "      <td>38</td>\n",
       "      <td>Male</td>\n",
       "    </tr>\n",
       "  </tbody>\n",
       "</table>\n",
       "</div>"
      ],
      "text/plain": [
       "   Age     Sex\n",
       "0   23    Male\n",
       "1   12  Female\n",
       "2   34    Male\n",
       "3   26  Female\n",
       "4   15    Male\n",
       "5   38    Male"
      ]
     },
     "execution_count": 19,
     "metadata": {},
     "output_type": "execute_result"
    }
   ],
   "source": [
    "# original dataset : \n",
    "\n",
    "pd.DataFrame({\n",
    "    'Age' : [23,12,34,26,15,38],\n",
    "    'Sex' : ['Male','Female','Male','Female','Male','Male']\n",
    "})"
   ]
  },
  {
   "cell_type": "code",
   "execution_count": 21,
   "id": "e7bcc4c9",
   "metadata": {},
   "outputs": [
    {
     "data": {
      "text/html": [
       "<div>\n",
       "<style scoped>\n",
       "    .dataframe tbody tr th:only-of-type {\n",
       "        vertical-align: middle;\n",
       "    }\n",
       "\n",
       "    .dataframe tbody tr th {\n",
       "        vertical-align: top;\n",
       "    }\n",
       "\n",
       "    .dataframe thead th {\n",
       "        text-align: right;\n",
       "    }\n",
       "</style>\n",
       "<table border=\"1\" class=\"dataframe\">\n",
       "  <thead>\n",
       "    <tr style=\"text-align: right;\">\n",
       "      <th></th>\n",
       "      <th>Age</th>\n",
       "      <th>Sex</th>\n",
       "      <th>male</th>\n",
       "      <th>female</th>\n",
       "      <th>age range</th>\n",
       "    </tr>\n",
       "  </thead>\n",
       "  <tbody>\n",
       "    <tr>\n",
       "      <th>0</th>\n",
       "      <td>23</td>\n",
       "      <td>Male</td>\n",
       "      <td>1</td>\n",
       "      <td>0</td>\n",
       "      <td>21-30</td>\n",
       "    </tr>\n",
       "    <tr>\n",
       "      <th>1</th>\n",
       "      <td>12</td>\n",
       "      <td>Female</td>\n",
       "      <td>0</td>\n",
       "      <td>1</td>\n",
       "      <td>11-20</td>\n",
       "    </tr>\n",
       "    <tr>\n",
       "      <th>2</th>\n",
       "      <td>34</td>\n",
       "      <td>Male</td>\n",
       "      <td>1</td>\n",
       "      <td>0</td>\n",
       "      <td>31-40</td>\n",
       "    </tr>\n",
       "    <tr>\n",
       "      <th>3</th>\n",
       "      <td>26</td>\n",
       "      <td>Female</td>\n",
       "      <td>0</td>\n",
       "      <td>1</td>\n",
       "      <td>21-30</td>\n",
       "    </tr>\n",
       "    <tr>\n",
       "      <th>4</th>\n",
       "      <td>15</td>\n",
       "      <td>Male</td>\n",
       "      <td>1</td>\n",
       "      <td>0</td>\n",
       "      <td>11-20</td>\n",
       "    </tr>\n",
       "    <tr>\n",
       "      <th>5</th>\n",
       "      <td>38</td>\n",
       "      <td>Male</td>\n",
       "      <td>1</td>\n",
       "      <td>0</td>\n",
       "      <td>31-40</td>\n",
       "    </tr>\n",
       "  </tbody>\n",
       "</table>\n",
       "</div>"
      ],
      "text/plain": [
       "   Age     Sex  male  female age range\n",
       "0   23    Male     1       0     21-30\n",
       "1   12  Female     0       1     11-20\n",
       "2   34    Male     1       0     31-40\n",
       "3   26  Female     0       1     21-30\n",
       "4   15    Male     1       0     11-20\n",
       "5   38    Male     1       0     31-40"
      ]
     },
     "execution_count": 21,
     "metadata": {},
     "output_type": "execute_result"
    }
   ],
   "source": [
    "# Dataset After Feature Engineering :\n",
    "# We extracted 3 new features\n",
    "# We also implemented one hot encoding for better results.\n",
    "\n",
    "pd.DataFrame({\n",
    "    'Age' : [23,12,34,26,15,38],\n",
    "    'Sex' : ['Male','Female','Male','Female','Male','Male'],\n",
    "    'male' : [1,0,1,0,1,1],\n",
    "    'female' : [0,1,0,1,0,0],\n",
    "    'age range' : ['21-30','11-20','31-40','21-30','11-20','31-40']\n",
    "})"
   ]
  }
 ],
 "metadata": {
  "kernelspec": {
   "display_name": "Python 3",
   "language": "python",
   "name": "python3"
  },
  "language_info": {
   "codemirror_mode": {
    "name": "ipython",
    "version": 3
   },
   "file_extension": ".py",
   "mimetype": "text/x-python",
   "name": "python",
   "nbconvert_exporter": "python",
   "pygments_lexer": "ipython3",
   "version": "3.8.8"
  }
 },
 "nbformat": 4,
 "nbformat_minor": 5
}

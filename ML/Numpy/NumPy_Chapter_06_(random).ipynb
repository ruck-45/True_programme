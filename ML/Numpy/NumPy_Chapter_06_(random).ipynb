{
 "cells": [
  {
   "cell_type": "code",
   "execution_count": 1,
   "id": "ab673a3b",
   "metadata": {},
   "outputs": [],
   "source": [
    "import numpy as np"
   ]
  },
  {
   "cell_type": "markdown",
   "id": "0af43ce4",
   "metadata": {},
   "source": [
    "# np.random.randint( )\n",
    "- it generates NumPy array of random integers between the range provided\n",
    "- np.random.randint(1,15,4): generates a NumPy array of 4 elements that belong i the range of - 1------14"
   ]
  },
  {
   "cell_type": "code",
   "execution_count": 2,
   "id": "d660bb79",
   "metadata": {},
   "outputs": [
    {
     "data": {
      "text/plain": [
       "array([ 4, 11, 12,  3, 12, 14,  8])"
      ]
     },
     "execution_count": 2,
     "metadata": {},
     "output_type": "execute_result"
    }
   ],
   "source": [
    "array = np.random.randint(1,15,7)\n",
    "array"
   ]
  },
  {
   "cell_type": "code",
   "execution_count": 3,
   "id": "ea6f446a",
   "metadata": {},
   "outputs": [
    {
     "data": {
      "text/plain": [
       "array([[ 1, 10,  7],\n",
       "       [12, 13, 11],\n",
       "       [ 4,  4, 10],\n",
       "       [14,  4,  2]])"
      ]
     },
     "execution_count": 3,
     "metadata": {},
     "output_type": "execute_result"
    }
   ],
   "source": [
    "array = np.random.randint(1,15,(4,3))\n",
    "array"
   ]
  },
  {
   "cell_type": "code",
   "execution_count": 4,
   "id": "251c049b",
   "metadata": {
    "scrolled": true
   },
   "outputs": [
    {
     "data": {
      "text/plain": [
       "array([[[ 4, 11,  6,  5],\n",
       "        [ 3,  9, 11, 12]],\n",
       "\n",
       "       [[10,  7,  3,  9],\n",
       "        [ 5,  6, 10, 12]],\n",
       "\n",
       "       [[14,  3,  7,  8],\n",
       "        [11,  3,  5, 10]]])"
      ]
     },
     "execution_count": 4,
     "metadata": {},
     "output_type": "execute_result"
    }
   ],
   "source": [
    "array = np.random.randint(1,15,(3,2,4))\n",
    "array"
   ]
  },
  {
   "cell_type": "markdown",
   "id": "cfcc7657",
   "metadata": {},
   "source": [
    "# np.random.random( )\n",
    "- generates random numbers between 0 - 1 , but can only create 1D array"
   ]
  },
  {
   "cell_type": "code",
   "execution_count": 25,
   "id": "61572454",
   "metadata": {},
   "outputs": [
    {
     "data": {
      "text/plain": [
       "array([0.44812066, 0.77490038, 0.7963907 , 0.52239013, 0.4606303 ,\n",
       "       0.7782136 , 0.88728895, 0.67491877, 0.80047905, 0.93911135,\n",
       "       0.04065581, 0.87567172, 0.27656307, 0.4757645 , 0.79676096])"
      ]
     },
     "execution_count": 25,
     "metadata": {},
     "output_type": "execute_result"
    }
   ],
   "source": [
    "array = np.random.random(15)\n",
    "array"
   ]
  },
  {
   "cell_type": "markdown",
   "id": "497a8515",
   "metadata": {},
   "source": [
    "# np.random.rand( )\n",
    "- generates random numbers between 0 - 1 \n",
    "- unlike np.random.random, it can generate n-D arrays"
   ]
  },
  {
   "cell_type": "code",
   "execution_count": 12,
   "id": "ff8dd5e5",
   "metadata": {},
   "outputs": [
    {
     "data": {
      "text/plain": [
       "array([0.87350806, 0.5865461 , 0.21723135, 0.88948295, 0.24764357])"
      ]
     },
     "execution_count": 12,
     "metadata": {},
     "output_type": "execute_result"
    }
   ],
   "source": [
    "array = np.random.rand(5)\n",
    "array"
   ]
  },
  {
   "cell_type": "code",
   "execution_count": 13,
   "id": "11315938",
   "metadata": {},
   "outputs": [
    {
     "data": {
      "text/plain": [
       "array([[0.96970336, 0.93920538, 0.44663128],\n",
       "       [0.71089347, 0.51409117, 0.29366011]])"
      ]
     },
     "execution_count": 13,
     "metadata": {},
     "output_type": "execute_result"
    }
   ],
   "source": [
    "array = np.random.rand(2,3)\n",
    "array"
   ]
  },
  {
   "cell_type": "code",
   "execution_count": 14,
   "id": "4a496f70",
   "metadata": {},
   "outputs": [
    {
     "data": {
      "text/plain": [
       "array([[[0.92388096, 0.13190756],\n",
       "        [0.56044206, 0.05605673]],\n",
       "\n",
       "       [[0.6077973 , 0.00461853],\n",
       "        [0.71869656, 0.17930524]],\n",
       "\n",
       "       [[0.93835496, 0.62459822],\n",
       "        [0.22569134, 0.3468615 ]]])"
      ]
     },
     "execution_count": 14,
     "metadata": {},
     "output_type": "execute_result"
    }
   ],
   "source": [
    "array = np.random.rand(3,2,2)\n",
    "array"
   ]
  },
  {
   "cell_type": "markdown",
   "id": "0f823be5",
   "metadata": {},
   "source": [
    "# np.random.randn( )\n",
    "- works like like np.random.rand, generates array of random numbers between 0---1\n",
    "- but all numbers combined are centered around 0"
   ]
  },
  {
   "cell_type": "code",
   "execution_count": 15,
   "id": "a878cd63",
   "metadata": {},
   "outputs": [
    {
     "data": {
      "text/plain": [
       "array([-0.39813882, -1.45293478, -0.27506443,  0.206756  , -1.17039157,\n",
       "       -0.9814288 , -0.08436754])"
      ]
     },
     "execution_count": 15,
     "metadata": {},
     "output_type": "execute_result"
    }
   ],
   "source": [
    "array = np.random.randn(7)\n",
    "array"
   ]
  },
  {
   "cell_type": "code",
   "execution_count": 16,
   "id": "2ae61521",
   "metadata": {
    "scrolled": true
   },
   "outputs": [
    {
     "data": {
      "text/plain": [
       "array([[ 0.80890761,  1.28312995,  0.86361918,  1.32475777],\n",
       "       [-0.78043365, -1.87804183,  0.70274126, -0.40392314]])"
      ]
     },
     "execution_count": 16,
     "metadata": {},
     "output_type": "execute_result"
    }
   ],
   "source": [
    "array = np.random.randn(2,4)\n",
    "array"
   ]
  },
  {
   "cell_type": "markdown",
   "id": "4657b307",
   "metadata": {},
   "source": [
    "# np.random.seed( )\n",
    "- to generate same random number every time\n",
    "- give a seed number to fix"
   ]
  },
  {
   "cell_type": "code",
   "execution_count": 19,
   "id": "b78481d8",
   "metadata": {},
   "outputs": [
    {
     "data": {
      "text/plain": [
       "array([48, 69, 26, 68, 84, 24, 93, 58, 15, 24, 73, 90, 43, 91,  9])"
      ]
     },
     "execution_count": 19,
     "metadata": {},
     "output_type": "execute_result"
    }
   ],
   "source": [
    "np.random.seed(7)\n",
    "\n",
    "arr = np.random.randint(1,100,15)\n",
    "arr"
   ]
  },
  {
   "cell_type": "markdown",
   "id": "39e144bb",
   "metadata": {},
   "source": [
    "# np.random.shuffle( ) {changes the original array}\n",
    "- shuffles elements within array"
   ]
  },
  {
   "cell_type": "code",
   "execution_count": 35,
   "id": "3299555f",
   "metadata": {},
   "outputs": [],
   "source": [
    "np.random.seed(45)\n",
    "\n",
    "arr_1 = np.random.randint(1,10,17)\n",
    "arr_2 = np.random.randint(1,10,(3,3))"
   ]
  },
  {
   "cell_type": "code",
   "execution_count": 36,
   "id": "e5291a78",
   "metadata": {},
   "outputs": [
    {
     "data": {
      "text/plain": [
       "array([4, 1, 6, 4, 5, 9, 2, 6, 7, 9, 8, 9, 6, 3, 9, 2, 7])"
      ]
     },
     "execution_count": 36,
     "metadata": {},
     "output_type": "execute_result"
    }
   ],
   "source": [
    "arr_1"
   ]
  },
  {
   "cell_type": "code",
   "execution_count": 32,
   "id": "4c18d6c7",
   "metadata": {},
   "outputs": [
    {
     "data": {
      "text/plain": [
       "array([9, 4, 9, 9, 6, 1, 6, 6, 7, 5, 4, 2, 8, 7, 2, 9, 3])"
      ]
     },
     "execution_count": 32,
     "metadata": {},
     "output_type": "execute_result"
    }
   ],
   "source": [
    "np.random.shuffle(arr_1)\n",
    "arr_1"
   ]
  },
  {
   "cell_type": "code",
   "execution_count": 37,
   "id": "cf470446",
   "metadata": {},
   "outputs": [
    {
     "data": {
      "text/plain": [
       "array([[5, 9, 5],\n",
       "       [7, 5, 2],\n",
       "       [7, 9, 9]])"
      ]
     },
     "execution_count": 37,
     "metadata": {},
     "output_type": "execute_result"
    }
   ],
   "source": [
    "arr_2"
   ]
  },
  {
   "cell_type": "code",
   "execution_count": 40,
   "id": "e7f43d3f",
   "metadata": {},
   "outputs": [
    {
     "data": {
      "text/plain": [
       "array([[7, 5, 2],\n",
       "       [5, 9, 5],\n",
       "       [7, 9, 9]])"
      ]
     },
     "execution_count": 40,
     "metadata": {},
     "output_type": "execute_result"
    }
   ],
   "source": [
    "np.random.shuffle(arr_2)\n",
    "arr_2"
   ]
  },
  {
   "cell_type": "markdown",
   "id": "a320db45",
   "metadata": {},
   "source": [
    "# np.random.permutation( ) {doesnt change the original array}\n",
    "- shuffles elements within array"
   ]
  },
  {
   "cell_type": "code",
   "execution_count": 41,
   "id": "3efd2cab",
   "metadata": {},
   "outputs": [
    {
     "data": {
      "text/plain": [
       "array([4, 1, 6, 4, 5, 9, 2, 6, 7, 9, 8, 9, 6, 3, 9, 2, 7])"
      ]
     },
     "execution_count": 41,
     "metadata": {},
     "output_type": "execute_result"
    }
   ],
   "source": [
    "arr_1"
   ]
  },
  {
   "cell_type": "code",
   "execution_count": 42,
   "id": "7de4c460",
   "metadata": {},
   "outputs": [
    {
     "data": {
      "text/plain": [
       "array([69, 91, 90, 58, 24, 73, 68, 93, 26, 43,  9, 15, 24, 84, 48])"
      ]
     },
     "execution_count": 42,
     "metadata": {},
     "output_type": "execute_result"
    }
   ],
   "source": [
    "np.random.permutation(arr)"
   ]
  },
  {
   "cell_type": "code",
   "execution_count": 43,
   "id": "91b2f266",
   "metadata": {},
   "outputs": [
    {
     "data": {
      "text/plain": [
       "array([48, 69, 26, 68, 84, 24, 93, 58, 15, 24, 73, 90, 43, 91,  9])"
      ]
     },
     "execution_count": 43,
     "metadata": {},
     "output_type": "execute_result"
    }
   ],
   "source": [
    "arr #no change in array"
   ]
  },
  {
   "cell_type": "code",
   "execution_count": 44,
   "id": "f06389cc",
   "metadata": {},
   "outputs": [
    {
     "data": {
      "text/plain": [
       "array([[7, 5, 2],\n",
       "       [5, 9, 5],\n",
       "       [7, 9, 9]])"
      ]
     },
     "execution_count": 44,
     "metadata": {},
     "output_type": "execute_result"
    }
   ],
   "source": [
    "arr_2"
   ]
  },
  {
   "cell_type": "code",
   "execution_count": 46,
   "id": "662df64f",
   "metadata": {},
   "outputs": [
    {
     "data": {
      "text/plain": [
       "array([[7, 9, 9],\n",
       "       [5, 9, 5],\n",
       "       [7, 5, 2]])"
      ]
     },
     "execution_count": 46,
     "metadata": {},
     "output_type": "execute_result"
    }
   ],
   "source": [
    "np.random.permutation(arr_2)"
   ]
  },
  {
   "cell_type": "markdown",
   "id": "4f851b46",
   "metadata": {},
   "source": [
    "# np.random.choice( )\n",
    "- chooses a random element from an array\n",
    "- only takes 1D array as input"
   ]
  },
  {
   "cell_type": "code",
   "execution_count": 49,
   "id": "544d37c8",
   "metadata": {},
   "outputs": [
    {
     "data": {
      "text/plain": [
       "array([4, 1, 6, 4, 5, 9, 2, 6, 7, 9, 8, 9, 6, 3, 9, 2, 7])"
      ]
     },
     "execution_count": 49,
     "metadata": {},
     "output_type": "execute_result"
    }
   ],
   "source": [
    "arr_1"
   ]
  },
  {
   "cell_type": "code",
   "execution_count": 50,
   "id": "9fc14332",
   "metadata": {},
   "outputs": [
    {
     "data": {
      "text/plain": [
       "2"
      ]
     },
     "execution_count": 50,
     "metadata": {},
     "output_type": "execute_result"
    }
   ],
   "source": [
    "np.random.choice(arr_1)"
   ]
  }
 ],
 "metadata": {
  "kernelspec": {
   "display_name": "Python 3 (ipykernel)",
   "language": "python",
   "name": "python3"
  },
  "language_info": {
   "codemirror_mode": {
    "name": "ipython",
    "version": 3
   },
   "file_extension": ".py",
   "mimetype": "text/x-python",
   "name": "python",
   "nbconvert_exporter": "python",
   "pygments_lexer": "ipython3",
   "version": "3.9.12"
  }
 },
 "nbformat": 4,
 "nbformat_minor": 5
}

{
 "cells": [
  {
   "cell_type": "markdown",
   "id": "dfb4e5cd",
   "metadata": {},
   "source": [
    "# Chapter 2 (More Functions)"
   ]
  },
  {
   "cell_type": "code",
   "execution_count": 1,
   "id": "15e13d6c",
   "metadata": {},
   "outputs": [],
   "source": [
    "import numpy as np"
   ]
  },
  {
   "cell_type": "markdown",
   "id": "38ae9daa",
   "metadata": {},
   "source": [
    "## .reshape( )\n",
    "- reshapes / converts array of one dimention to another\n",
    "- the product of dimentions provided should be exactly equal to the number of elements in the matrix (otherwise error)"
   ]
  },
  {
   "cell_type": "code",
   "execution_count": 2,
   "id": "95abfd07",
   "metadata": {},
   "outputs": [
    {
     "name": "stdout",
     "output_type": "stream",
     "text": [
      "(40,)\n"
     ]
    },
    {
     "data": {
      "text/plain": [
       "array([13,  3,  2,  6,  5,  4,  7,  3, 10,  9, 10, 10,  5,  3, 11,  7, 11,\n",
       "        1,  8,  2, 14, 12,  8, 13,  7,  9,  5,  5, 12, 10,  1, 14,  4,  1,\n",
       "       11,  5,  6,  3,  3, 11])"
      ]
     },
     "execution_count": 2,
     "metadata": {},
     "output_type": "execute_result"
    }
   ],
   "source": [
    "arr = np.random.randint(1,15,40)\n",
    "print(arr.shape)\n",
    "arr"
   ]
  },
  {
   "cell_type": "code",
   "execution_count": 3,
   "id": "7b0f649d",
   "metadata": {},
   "outputs": [
    {
     "name": "stdout",
     "output_type": "stream",
     "text": [
      "(4, 10)\n"
     ]
    },
    {
     "data": {
      "text/plain": [
       "array([[13,  3,  2,  6,  5,  4,  7,  3, 10,  9],\n",
       "       [10, 10,  5,  3, 11,  7, 11,  1,  8,  2],\n",
       "       [14, 12,  8, 13,  7,  9,  5,  5, 12, 10],\n",
       "       [ 1, 14,  4,  1, 11,  5,  6,  3,  3, 11]])"
      ]
     },
     "execution_count": 3,
     "metadata": {},
     "output_type": "execute_result"
    }
   ],
   "source": [
    "new_arr = arr.reshape(4,10)\n",
    "print(new_arr.shape)\n",
    "new_arr"
   ]
  },
  {
   "cell_type": "code",
   "execution_count": 4,
   "id": "c87ae9ae",
   "metadata": {},
   "outputs": [
    {
     "name": "stdout",
     "output_type": "stream",
     "text": [
      "(5, 8)\n"
     ]
    },
    {
     "data": {
      "text/plain": [
       "array([[13,  3,  2,  6,  5,  4,  7,  3],\n",
       "       [10,  9, 10, 10,  5,  3, 11,  7],\n",
       "       [11,  1,  8,  2, 14, 12,  8, 13],\n",
       "       [ 7,  9,  5,  5, 12, 10,  1, 14],\n",
       "       [ 4,  1, 11,  5,  6,  3,  3, 11]])"
      ]
     },
     "execution_count": 4,
     "metadata": {},
     "output_type": "execute_result"
    }
   ],
   "source": [
    "new_arr = new_arr.reshape(5,8)\n",
    "print(new_arr.shape)\n",
    "new_arr"
   ]
  },
  {
   "cell_type": "code",
   "execution_count": 5,
   "id": "17d3dfe6",
   "metadata": {},
   "outputs": [
    {
     "name": "stdout",
     "output_type": "stream",
     "text": [
      "(2, 5, 4)\n"
     ]
    },
    {
     "data": {
      "text/plain": [
       "array([[[13,  3,  2,  6],\n",
       "        [ 5,  4,  7,  3],\n",
       "        [10,  9, 10, 10],\n",
       "        [ 5,  3, 11,  7],\n",
       "        [11,  1,  8,  2]],\n",
       "\n",
       "       [[14, 12,  8, 13],\n",
       "        [ 7,  9,  5,  5],\n",
       "        [12, 10,  1, 14],\n",
       "        [ 4,  1, 11,  5],\n",
       "        [ 6,  3,  3, 11]]])"
      ]
     },
     "execution_count": 5,
     "metadata": {},
     "output_type": "execute_result"
    }
   ],
   "source": [
    "new_arr = new_arr.reshape(2,5,4)\n",
    "print(new_arr.shape)\n",
    "new_arr"
   ]
  },
  {
   "cell_type": "markdown",
   "id": "4517627a",
   "metadata": {},
   "source": [
    "# Shortcut:\n",
    "- mention one dimention in .reshape( ) & mention -1 in place of other dimention\n",
    "- if its possible then the function will calculate it for you\n",
    "- we can specify only one unknown dimention"
   ]
  },
  {
   "cell_type": "code",
   "execution_count": 6,
   "id": "1fddf749",
   "metadata": {},
   "outputs": [
    {
     "data": {
      "text/plain": [
       "array([3, 3, 8, 9, 9, 2, 9, 4, 2, 6, 8, 6, 6, 5, 2, 3, 6, 4, 1, 7, 8, 7,\n",
       "       4, 6, 7, 2, 1, 3, 1, 2, 4, 9, 7, 5, 3, 6, 3, 1, 6, 6, 9, 7, 4, 9,\n",
       "       8, 3, 2, 3, 5, 8, 3, 4, 6, 2, 7, 3, 9, 5, 1, 9, 8, 6, 9, 8, 9, 6,\n",
       "       2, 9, 3, 6, 4, 9, 2, 8, 4, 8, 5, 2, 7, 6, 3, 4, 6, 3, 3, 7, 9, 8,\n",
       "       4, 7, 8, 1, 9, 8, 7, 2, 3, 8, 4, 7, 4, 7, 8, 9, 5, 6, 8, 7, 1, 8,\n",
       "       4, 9, 9, 8, 3, 9, 6, 4, 2, 5, 8, 2, 1, 7, 5, 9, 1, 8, 1, 6, 6, 4,\n",
       "       9, 5, 9, 1, 2, 6, 6, 5])"
      ]
     },
     "execution_count": 6,
     "metadata": {},
     "output_type": "execute_result"
    }
   ],
   "source": [
    "arr = np.random.randint(1,10,140)\n",
    "arr"
   ]
  },
  {
   "cell_type": "code",
   "execution_count": 7,
   "id": "8edcca4a",
   "metadata": {},
   "outputs": [
    {
     "name": "stdout",
     "output_type": "stream",
     "text": [
      "(4, 35)\n"
     ]
    },
    {
     "data": {
      "text/plain": [
       "array([[3, 3, 8, 9, 9, 2, 9, 4, 2, 6, 8, 6, 6, 5, 2, 3, 6, 4, 1, 7, 8, 7,\n",
       "        4, 6, 7, 2, 1, 3, 1, 2, 4, 9, 7, 5, 3],\n",
       "       [6, 3, 1, 6, 6, 9, 7, 4, 9, 8, 3, 2, 3, 5, 8, 3, 4, 6, 2, 7, 3, 9,\n",
       "        5, 1, 9, 8, 6, 9, 8, 9, 6, 2, 9, 3, 6],\n",
       "       [4, 9, 2, 8, 4, 8, 5, 2, 7, 6, 3, 4, 6, 3, 3, 7, 9, 8, 4, 7, 8, 1,\n",
       "        9, 8, 7, 2, 3, 8, 4, 7, 4, 7, 8, 9, 5],\n",
       "       [6, 8, 7, 1, 8, 4, 9, 9, 8, 3, 9, 6, 4, 2, 5, 8, 2, 1, 7, 5, 9, 1,\n",
       "        8, 1, 6, 6, 4, 9, 5, 9, 1, 2, 6, 6, 5]])"
      ]
     },
     "execution_count": 7,
     "metadata": {},
     "output_type": "execute_result"
    }
   ],
   "source": [
    "arr = arr.reshape(4,-1)\n",
    "print(arr.shape)\n",
    "arr"
   ]
  },
  {
   "cell_type": "code",
   "execution_count": 8,
   "id": "3009ca97",
   "metadata": {
    "scrolled": false
   },
   "outputs": [
    {
     "name": "stdout",
     "output_type": "stream",
     "text": [
      "(5, 7, 4)\n"
     ]
    },
    {
     "data": {
      "text/plain": [
       "array([[[3, 3, 8, 9],\n",
       "        [9, 2, 9, 4],\n",
       "        [2, 6, 8, 6],\n",
       "        [6, 5, 2, 3],\n",
       "        [6, 4, 1, 7],\n",
       "        [8, 7, 4, 6],\n",
       "        [7, 2, 1, 3]],\n",
       "\n",
       "       [[1, 2, 4, 9],\n",
       "        [7, 5, 3, 6],\n",
       "        [3, 1, 6, 6],\n",
       "        [9, 7, 4, 9],\n",
       "        [8, 3, 2, 3],\n",
       "        [5, 8, 3, 4],\n",
       "        [6, 2, 7, 3]],\n",
       "\n",
       "       [[9, 5, 1, 9],\n",
       "        [8, 6, 9, 8],\n",
       "        [9, 6, 2, 9],\n",
       "        [3, 6, 4, 9],\n",
       "        [2, 8, 4, 8],\n",
       "        [5, 2, 7, 6],\n",
       "        [3, 4, 6, 3]],\n",
       "\n",
       "       [[3, 7, 9, 8],\n",
       "        [4, 7, 8, 1],\n",
       "        [9, 8, 7, 2],\n",
       "        [3, 8, 4, 7],\n",
       "        [4, 7, 8, 9],\n",
       "        [5, 6, 8, 7],\n",
       "        [1, 8, 4, 9]],\n",
       "\n",
       "       [[9, 8, 3, 9],\n",
       "        [6, 4, 2, 5],\n",
       "        [8, 2, 1, 7],\n",
       "        [5, 9, 1, 8],\n",
       "        [1, 6, 6, 4],\n",
       "        [9, 5, 9, 1],\n",
       "        [2, 6, 6, 5]]])"
      ]
     },
     "execution_count": 8,
     "metadata": {},
     "output_type": "execute_result"
    }
   ],
   "source": [
    "arr = arr.reshape(-1,7,4)\n",
    "print(arr.shape)\n",
    "arr"
   ]
  },
  {
   "cell_type": "markdown",
   "id": "43f806b9",
   "metadata": {},
   "source": [
    "## .ravel( )\n",
    "- converts a n-D array to one 1-D array"
   ]
  },
  {
   "cell_type": "code",
   "execution_count": 50,
   "id": "e5f916f4",
   "metadata": {},
   "outputs": [
    {
     "data": {
      "text/plain": [
       "array([[[ 1, 12, 17],\n",
       "        [ 5, 14, 13]],\n",
       "\n",
       "       [[11, 15,  7],\n",
       "        [10, 14,  7]]])"
      ]
     },
     "execution_count": 50,
     "metadata": {},
     "output_type": "execute_result"
    }
   ],
   "source": [
    "arr = np.random.randint(1,20,12).reshape(2,2,-1)\n",
    "arr"
   ]
  },
  {
   "cell_type": "code",
   "execution_count": 56,
   "id": "bd0daf23",
   "metadata": {},
   "outputs": [
    {
     "data": {
      "text/plain": [
       "array([ 1, 12, 17,  5, 14, 13, 11, 15,  7, 10, 14,  7])"
      ]
     },
     "execution_count": 56,
     "metadata": {},
     "output_type": "execute_result"
    }
   ],
   "source": [
    "arr.ravel()"
   ]
  },
  {
   "cell_type": "markdown",
   "id": "c2c6e649",
   "metadata": {},
   "source": [
    "## .flatten( )\n",
    "- converts a n-D array to one 1-D array , just like ravel( )"
   ]
  },
  {
   "cell_type": "code",
   "execution_count": 57,
   "id": "03a7cdfb",
   "metadata": {},
   "outputs": [
    {
     "data": {
      "text/plain": [
       "array([[ 9,  5,  5],\n",
       "       [11, 17, 14],\n",
       "       [18,  2,  6],\n",
       "       [10,  4,  6]])"
      ]
     },
     "execution_count": 57,
     "metadata": {},
     "output_type": "execute_result"
    }
   ],
   "source": [
    "arr = np.random.randint(1,20,12).reshape(4,-1)\n",
    "arr"
   ]
  },
  {
   "cell_type": "code",
   "execution_count": 58,
   "id": "ef6297d9",
   "metadata": {},
   "outputs": [
    {
     "data": {
      "text/plain": [
       "array([ 9,  5,  5, 11, 17, 14, 18,  2,  6, 10,  4,  6])"
      ]
     },
     "execution_count": 58,
     "metadata": {},
     "output_type": "execute_result"
    }
   ],
   "source": [
    "arr.flatten()"
   ]
  },
  {
   "cell_type": "markdown",
   "id": "e6c3e50f",
   "metadata": {},
   "source": [
    "## .transpose( )\n",
    "- transposes the matrix"
   ]
  },
  {
   "cell_type": "code",
   "execution_count": 59,
   "id": "927b3091",
   "metadata": {},
   "outputs": [
    {
     "data": {
      "text/plain": [
       "array([[ 1, 17, 13],\n",
       "       [ 3,  4, 18],\n",
       "       [ 9,  7, 12],\n",
       "       [ 8,  4,  7]])"
      ]
     },
     "execution_count": 59,
     "metadata": {},
     "output_type": "execute_result"
    }
   ],
   "source": [
    "arr = np.random.randint(1,20,12).reshape(4,-1)\n",
    "arr"
   ]
  },
  {
   "cell_type": "code",
   "execution_count": 61,
   "id": "6dab9414",
   "metadata": {},
   "outputs": [
    {
     "data": {
      "text/plain": [
       "array([[ 1,  3,  9,  8],\n",
       "       [17,  4,  7,  4],\n",
       "       [13, 18, 12,  7]])"
      ]
     },
     "execution_count": 61,
     "metadata": {},
     "output_type": "execute_result"
    }
   ],
   "source": [
    "arr.transpose()"
   ]
  },
  {
   "cell_type": "markdown",
   "id": "25fbfe47",
   "metadata": {},
   "source": [
    "## np.linspace( )\n",
    "- creates a sequence of numpy array which are evenly spaced\n",
    "- np.linspace(starting pos, ending pos, number of elements in sequence)"
   ]
  },
  {
   "cell_type": "code",
   "execution_count": 41,
   "id": "1d152198",
   "metadata": {},
   "outputs": [
    {
     "data": {
      "text/plain": [
       "array([  0.,  25.,  50.,  75., 100.])"
      ]
     },
     "execution_count": 41,
     "metadata": {},
     "output_type": "execute_result"
    }
   ],
   "source": [
    "arr = np.linspace(0,100,5)\n",
    "arr"
   ]
  },
  {
   "cell_type": "code",
   "execution_count": 42,
   "id": "c89148a8",
   "metadata": {},
   "outputs": [
    {
     "data": {
      "text/plain": [
       "array([10.        , 14.44444444, 18.88888889, 23.33333333, 27.77777778,\n",
       "       32.22222222, 36.66666667, 41.11111111, 45.55555556, 50.        ])"
      ]
     },
     "execution_count": 42,
     "metadata": {},
     "output_type": "execute_result"
    }
   ],
   "source": [
    "arr = np.linspace(10,50,10)\n",
    "arr"
   ]
  },
  {
   "cell_type": "markdown",
   "id": "e2fd5c4e",
   "metadata": {},
   "source": [
    "## Changing datatype"
   ]
  },
  {
   "cell_type": "code",
   "execution_count": 43,
   "id": "4927946b",
   "metadata": {},
   "outputs": [
    {
     "data": {
      "text/plain": [
       "array([False,  True,  True,  True,  True, False,  True, False,  True,\n",
       "        True])"
      ]
     },
     "execution_count": 43,
     "metadata": {},
     "output_type": "execute_result"
    }
   ],
   "source": [
    "arr = np.array([0,1,2,1,4,0,-1,0,-2,-3],dtype = 'bool')\n",
    "arr"
   ]
  },
  {
   "cell_type": "code",
   "execution_count": 44,
   "id": "183ef7d9",
   "metadata": {},
   "outputs": [
    {
     "data": {
      "text/plain": [
       "array([ 0.,  1.,  2.,  1.,  4.,  0., -1.,  0., -2., -3.])"
      ]
     },
     "execution_count": 44,
     "metadata": {},
     "output_type": "execute_result"
    }
   ],
   "source": [
    "arr = np.array([0,1,2,1,4,0,-1,0,-2,-3],dtype = 'float')\n",
    "arr"
   ]
  },
  {
   "cell_type": "code",
   "execution_count": 45,
   "id": "819a511d",
   "metadata": {},
   "outputs": [
    {
     "data": {
      "text/plain": [
       "array(['0', '1', '2', '1', '4', '0', '-1', '0', '-2', '-3'], dtype='<U2')"
      ]
     },
     "execution_count": 45,
     "metadata": {},
     "output_type": "execute_result"
    }
   ],
   "source": [
    "arr = np.array([0,1,2,1,4,0,-1,0,-2,-3],dtype = 'str')\n",
    "arr"
   ]
  }
 ],
 "metadata": {
  "kernelspec": {
   "display_name": "Python 3",
   "language": "python",
   "name": "python3"
  },
  "language_info": {
   "codemirror_mode": {
    "name": "ipython",
    "version": 3
   },
   "file_extension": ".py",
   "mimetype": "text/x-python",
   "name": "python",
   "nbconvert_exporter": "python",
   "pygments_lexer": "ipython3",
   "version": "3.8.8"
  }
 },
 "nbformat": 4,
 "nbformat_minor": 5
}

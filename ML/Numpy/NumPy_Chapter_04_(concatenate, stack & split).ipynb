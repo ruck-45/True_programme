{
 "cells": [
  {
   "cell_type": "code",
   "execution_count": 1,
   "id": "096df949",
   "metadata": {},
   "outputs": [],
   "source": [
    "import numpy as np"
   ]
  },
  {
   "cell_type": "markdown",
   "id": "287026ee",
   "metadata": {},
   "source": [
    "# np.concatenate ( )\n",
    "- used to concatinate numpy arrays\n",
    "- by default axis = 0 (column)\n",
    "- \"axis\" parameter functions the same way here"
   ]
  },
  {
   "cell_type": "code",
   "execution_count": 14,
   "id": "260dcd20",
   "metadata": {},
   "outputs": [],
   "source": [
    "arr_1 = np.random.randint(1,20,(4,3))\n",
    "arr_2 = np.random.randint(1,20,(4,3))\n",
    "arr_3 = np.random.randint(1,20,(4,3))"
   ]
  },
  {
   "cell_type": "code",
   "execution_count": 15,
   "id": "8abb3d51",
   "metadata": {},
   "outputs": [
    {
     "name": "stdout",
     "output_type": "stream",
     "text": [
      "[[17  4  7]\n",
      " [ 2  8  7]\n",
      " [ 3 14 11]\n",
      " [13  5  1]]\n",
      "\n",
      "\n",
      "[[14  8 18]\n",
      " [ 7  1  4]\n",
      " [19  1  8]\n",
      " [16 16  4]]\n",
      "\n",
      "\n",
      "[[ 9  2 15]\n",
      " [ 5  5  3]\n",
      " [11  9 16]\n",
      " [ 2  5 18]]\n"
     ]
    }
   ],
   "source": [
    "print(arr_1)\n",
    "print('\\n')\n",
    "print(arr_2)\n",
    "print('\\n')\n",
    "print(arr_3)"
   ]
  },
  {
   "cell_type": "code",
   "execution_count": 16,
   "id": "60e708b0",
   "metadata": {},
   "outputs": [
    {
     "data": {
      "text/plain": [
       "array([[17,  4,  7],\n",
       "       [ 2,  8,  7],\n",
       "       [ 3, 14, 11],\n",
       "       [13,  5,  1],\n",
       "       [14,  8, 18],\n",
       "       [ 7,  1,  4],\n",
       "       [19,  1,  8],\n",
       "       [16, 16,  4]])"
      ]
     },
     "execution_count": 16,
     "metadata": {},
     "output_type": "execute_result"
    }
   ],
   "source": [
    "np.concatenate((arr_1,arr_2))"
   ]
  },
  {
   "cell_type": "code",
   "execution_count": 17,
   "id": "db619e87",
   "metadata": {},
   "outputs": [
    {
     "data": {
      "text/plain": [
       "array([[17,  4,  7, 14,  8, 18,  9,  2, 15],\n",
       "       [ 2,  8,  7,  7,  1,  4,  5,  5,  3],\n",
       "       [ 3, 14, 11, 19,  1,  8, 11,  9, 16],\n",
       "       [13,  5,  1, 16, 16,  4,  2,  5, 18]])"
      ]
     },
     "execution_count": 17,
     "metadata": {},
     "output_type": "execute_result"
    }
   ],
   "source": [
    "np.concatenate((arr_1,arr_2,arr_3),axis = 1)"
   ]
  },
  {
   "cell_type": "markdown",
   "id": "9af6a87a",
   "metadata": {},
   "source": [
    "# Horizontal and Vertical stacking\n",
    "- sizes of matrices should be same"
   ]
  },
  {
   "cell_type": "markdown",
   "id": "1bd2518c",
   "metadata": {},
   "source": [
    "## np.hstack( )\n",
    "- horizontal stacking/ concatination"
   ]
  },
  {
   "cell_type": "code",
   "execution_count": 18,
   "id": "616aecad",
   "metadata": {},
   "outputs": [
    {
     "data": {
      "text/plain": [
       "array([[17,  4,  7, 14,  8, 18],\n",
       "       [ 2,  8,  7,  7,  1,  4],\n",
       "       [ 3, 14, 11, 19,  1,  8],\n",
       "       [13,  5,  1, 16, 16,  4]])"
      ]
     },
     "execution_count": 18,
     "metadata": {},
     "output_type": "execute_result"
    }
   ],
   "source": [
    "np.hstack((arr_1,arr_2))"
   ]
  },
  {
   "cell_type": "markdown",
   "id": "4a680ef6",
   "metadata": {},
   "source": [
    "## np.vstack( )\n",
    "- vertical stacking/ concatination"
   ]
  },
  {
   "cell_type": "code",
   "execution_count": 19,
   "id": "5a6f138c",
   "metadata": {},
   "outputs": [
    {
     "data": {
      "text/plain": [
       "array([[17,  4,  7],\n",
       "       [ 2,  8,  7],\n",
       "       [ 3, 14, 11],\n",
       "       [13,  5,  1],\n",
       "       [14,  8, 18],\n",
       "       [ 7,  1,  4],\n",
       "       [19,  1,  8],\n",
       "       [16, 16,  4],\n",
       "       [ 9,  2, 15],\n",
       "       [ 5,  5,  3],\n",
       "       [11,  9, 16],\n",
       "       [ 2,  5, 18]])"
      ]
     },
     "execution_count": 19,
     "metadata": {},
     "output_type": "execute_result"
    }
   ],
   "source": [
    "np.vstack((arr_1,arr_2,arr_3))"
   ]
  },
  {
   "cell_type": "markdown",
   "id": "cc52bddc",
   "metadata": {},
   "source": [
    "# np.split( )\n",
    "- syntax : np.split(array, number of splits, axis)\n",
    "- splits the array along row-ine or column-line, and retuens a \"list\"\n",
    "- here the axis system is reversed ( 0 = row [default] , 1 = column )"
   ]
  },
  {
   "cell_type": "code",
   "execution_count": 20,
   "id": "0139af95",
   "metadata": {},
   "outputs": [
    {
     "data": {
      "text/plain": [
       "array([[17,  4,  7],\n",
       "       [ 2,  8,  7],\n",
       "       [ 3, 14, 11],\n",
       "       [13,  5,  1]])"
      ]
     },
     "execution_count": 20,
     "metadata": {},
     "output_type": "execute_result"
    }
   ],
   "source": [
    "arr_1"
   ]
  },
  {
   "cell_type": "code",
   "execution_count": 26,
   "id": "95a708da",
   "metadata": {},
   "outputs": [
    {
     "data": {
      "text/plain": [
       "[array([[17,  4,  7],\n",
       "        [ 2,  8,  7]]),\n",
       " array([[ 3, 14, 11],\n",
       "        [13,  5,  1]])]"
      ]
     },
     "execution_count": 26,
     "metadata": {},
     "output_type": "execute_result"
    }
   ],
   "source": [
    "np.split(arr_1,2)"
   ]
  },
  {
   "cell_type": "code",
   "execution_count": 27,
   "id": "1c03af05",
   "metadata": {},
   "outputs": [
    {
     "data": {
      "text/plain": [
       "[array([[17,  4,  7]]),\n",
       " array([[2, 8, 7]]),\n",
       " array([[ 3, 14, 11]]),\n",
       " array([[13,  5,  1]])]"
      ]
     },
     "execution_count": 27,
     "metadata": {},
     "output_type": "execute_result"
    }
   ],
   "source": [
    "np.split(arr_1,4)"
   ]
  },
  {
   "cell_type": "code",
   "execution_count": 29,
   "id": "0b034112",
   "metadata": {},
   "outputs": [
    {
     "data": {
      "text/plain": [
       "[array([[17],\n",
       "        [ 2],\n",
       "        [ 3],\n",
       "        [13]]),\n",
       " array([[ 4],\n",
       "        [ 8],\n",
       "        [14],\n",
       "        [ 5]]),\n",
       " array([[ 7],\n",
       "        [ 7],\n",
       "        [11],\n",
       "        [ 1]])]"
      ]
     },
     "execution_count": 29,
     "metadata": {},
     "output_type": "execute_result"
    }
   ],
   "source": [
    "np.split(arr_1,3, axis=1)"
   ]
  },
  {
   "cell_type": "code",
   "execution_count": 35,
   "id": "94843d38",
   "metadata": {},
   "outputs": [
    {
     "data": {
      "text/plain": [
       "[array([[17,  4,  7]]),\n",
       " array([[ 2,  8,  7],\n",
       "        [ 3, 14, 11]]),\n",
       " array([[13,  5,  1]])]"
      ]
     },
     "execution_count": 35,
     "metadata": {},
     "output_type": "execute_result"
    }
   ],
   "source": [
    "# here we are splitting row wise 3 parts : 1 row, 2 row, 1 row. we can do that by passing an array.\n",
    "# here we are providing the index at which the splitting starts.\n",
    "np.split(arr_1,[1,3])"
   ]
  },
  {
   "cell_type": "code",
   "execution_count": 39,
   "id": "715e39c4",
   "metadata": {},
   "outputs": [
    {
     "data": {
      "text/plain": [
       "array([ 1,  2,  3,  4,  5,  6,  7,  8,  9, 10, 11, 12, 13, 14, 15])"
      ]
     },
     "execution_count": 39,
     "metadata": {},
     "output_type": "execute_result"
    }
   ],
   "source": [
    "arr = np.arange(1,16)\n",
    "arr"
   ]
  },
  {
   "cell_type": "code",
   "execution_count": 42,
   "id": "40db68ca",
   "metadata": {},
   "outputs": [
    {
     "data": {
      "text/plain": [
       "[array([1]),\n",
       " array([2, 3, 4]),\n",
       " array([5, 6, 7, 8]),\n",
       " array([ 9, 10, 11, 12, 13, 14]),\n",
       " array([15])]"
      ]
     },
     "execution_count": 42,
     "metadata": {},
     "output_type": "execute_result"
    }
   ],
   "source": [
    "np.split(arr,[1,4,8,14])"
   ]
  }
 ],
 "metadata": {
  "kernelspec": {
   "display_name": "Python 3 (ipykernel)",
   "language": "python",
   "name": "python3"
  },
  "language_info": {
   "codemirror_mode": {
    "name": "ipython",
    "version": 3
   },
   "file_extension": ".py",
   "mimetype": "text/x-python",
   "name": "python",
   "nbconvert_exporter": "python",
   "pygments_lexer": "ipython3",
   "version": "3.9.12"
  }
 },
 "nbformat": 4,
 "nbformat_minor": 5
}

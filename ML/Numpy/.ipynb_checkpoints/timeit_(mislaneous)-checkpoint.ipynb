{
 "cells": [
  {
   "cell_type": "markdown",
   "id": "882b9e62",
   "metadata": {},
   "source": [
    "# %timeit\n",
    "- to measure avg time taken by a single line of code to execute"
   ]
  },
  {
   "cell_type": "code",
   "execution_count": 1,
   "id": "5b4bbf36",
   "metadata": {
    "scrolled": true
   },
   "outputs": [
    {
     "name": "stdout",
     "output_type": "stream",
     "text": [
      "19.9 ns ± 1.05 ns per loop (mean ± std. dev. of 7 runs, 100000000 loops each)\n"
     ]
    }
   ],
   "source": [
    "%timeit x = 5*8"
   ]
  },
  {
   "cell_type": "markdown",
   "id": "5712b593",
   "metadata": {},
   "source": [
    "# %%timeit\n",
    "- to measure avg time in a block"
   ]
  },
  {
   "cell_type": "code",
   "execution_count": 3,
   "id": "b3cd601f",
   "metadata": {},
   "outputs": [
    {
     "name": "stdout",
     "output_type": "stream",
     "text": [
      "868 ns ± 5.06 ns per loop (mean ± std. dev. of 7 runs, 1000000 loops each)\n"
     ]
    }
   ],
   "source": [
    "%%timeit\n",
    "\n",
    "j = 0\n",
    "for i in range(15):\n",
    "    j+=1"
   ]
  },
  {
   "cell_type": "markdown",
   "id": "476e4213",
   "metadata": {},
   "source": [
    "# Comparision of NumPy and List (who is faster)"
   ]
  },
  {
   "cell_type": "code",
   "execution_count": 5,
   "id": "f5730afa",
   "metadata": {},
   "outputs": [],
   "source": [
    "import numpy as np"
   ]
  },
  {
   "cell_type": "code",
   "execution_count": 6,
   "id": "9fb0e01d",
   "metadata": {},
   "outputs": [
    {
     "name": "stdout",
     "output_type": "stream",
     "text": [
      "14 µs ± 89.5 ns per loop (mean ± std. dev. of 7 runs, 100000 loops each)\n"
     ]
    }
   ],
   "source": [
    "# numpy array\n",
    "\n",
    "%timeit np_array = np.arange(1,10000)**2"
   ]
  },
  {
   "cell_type": "code",
   "execution_count": 7,
   "id": "b513711d",
   "metadata": {},
   "outputs": [
    {
     "name": "stdout",
     "output_type": "stream",
     "text": [
      "2.44 ms ± 44.9 µs per loop (mean ± std. dev. of 7 runs, 100 loops each)\n"
     ]
    }
   ],
   "source": [
    "#  python list\n",
    "\n",
    "%timeit py_list = [i**2 for i in range(1,10000)] "
   ]
  },
  {
   "cell_type": "markdown",
   "id": "7a7c257a",
   "metadata": {},
   "source": [
    "- clearly numpy (micro sec) is faster than list(mili sec)"
   ]
  }
 ],
 "metadata": {
  "kernelspec": {
   "display_name": "Python 3",
   "language": "python",
   "name": "python3"
  },
  "language_info": {
   "codemirror_mode": {
    "name": "ipython",
    "version": 3
   },
   "file_extension": ".py",
   "mimetype": "text/x-python",
   "name": "python",
   "nbconvert_exporter": "python",
   "pygments_lexer": "ipython3",
   "version": "3.8.8"
  }
 },
 "nbformat": 4,
 "nbformat_minor": 5
}

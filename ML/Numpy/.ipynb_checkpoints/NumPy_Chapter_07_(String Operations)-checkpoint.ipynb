{
 "cells": [
  {
   "cell_type": "code",
   "execution_count": 1,
   "id": "d14b207e",
   "metadata": {},
   "outputs": [],
   "source": [
    "import numpy as np"
   ]
  },
  {
   "cell_type": "markdown",
   "id": "e227bc52",
   "metadata": {},
   "source": [
    "## np.char.sum( )\n",
    "- concats strings"
   ]
  },
  {
   "cell_type": "code",
   "execution_count": 2,
   "id": "59e58b77",
   "metadata": {},
   "outputs": [],
   "source": [
    "str_1 = \"This is Numpy Module Seven\"\n",
    "str_2 = \"tHE fOLLOWING sUBJECT iS pANDAS\""
   ]
  },
  {
   "cell_type": "code",
   "execution_count": 3,
   "id": "dbb8fc68",
   "metadata": {},
   "outputs": [
    {
     "data": {
      "text/plain": [
       "array('This is Numpy Module SeventHE fOLLOWING sUBJECT iS pANDAS',\n",
       "      dtype='<U57')"
      ]
     },
     "execution_count": 3,
     "metadata": {},
     "output_type": "execute_result"
    }
   ],
   "source": [
    "np.char.add(str_1,str_2)"
   ]
  },
  {
   "cell_type": "markdown",
   "id": "b9c3f3dc",
   "metadata": {},
   "source": [
    "## np.char.multiply( )\n",
    "- repeats the string that many times"
   ]
  },
  {
   "cell_type": "code",
   "execution_count": 4,
   "id": "3eea060f",
   "metadata": {
    "scrolled": true
   },
   "outputs": [
    {
     "data": {
      "text/plain": [
       "array('This is Numpy Module SevenThis is Numpy Module SevenThis is Numpy Module SevenThis is Numpy Module SevenThis is Numpy Module Seven',\n",
       "      dtype='<U130')"
      ]
     },
     "execution_count": 4,
     "metadata": {},
     "output_type": "execute_result"
    }
   ],
   "source": [
    "np.char.multiply(str_1,5)"
   ]
  },
  {
   "cell_type": "markdown",
   "id": "715f4776",
   "metadata": {},
   "source": [
    "## np.char.lower( )\n",
    "- convert string to lower case"
   ]
  },
  {
   "cell_type": "code",
   "execution_count": 5,
   "id": "325332a5",
   "metadata": {},
   "outputs": [
    {
     "data": {
      "text/plain": [
       "array('the following subject is pandas', dtype='<U31')"
      ]
     },
     "execution_count": 5,
     "metadata": {},
     "output_type": "execute_result"
    }
   ],
   "source": [
    "np.char.lower(str_2)"
   ]
  },
  {
   "cell_type": "markdown",
   "id": "3a48f425",
   "metadata": {},
   "source": [
    "## np.char.upper( )\n",
    "- convert string to upper case"
   ]
  },
  {
   "cell_type": "code",
   "execution_count": 6,
   "id": "8f906a3c",
   "metadata": {},
   "outputs": [
    {
     "data": {
      "text/plain": [
       "array('THIS IS NUMPY MODULE SEVEN', dtype='<U26')"
      ]
     },
     "execution_count": 6,
     "metadata": {},
     "output_type": "execute_result"
    }
   ],
   "source": [
    "np.char.upper(str_1)"
   ]
  },
  {
   "cell_type": "markdown",
   "id": "21a4866b",
   "metadata": {},
   "source": [
    "## np.char.title( )\n",
    "- convert string to title case"
   ]
  },
  {
   "cell_type": "code",
   "execution_count": 7,
   "id": "3e16581e",
   "metadata": {},
   "outputs": [
    {
     "data": {
      "text/plain": [
       "array('The Following Subject Is Pandas', dtype='<U31')"
      ]
     },
     "execution_count": 7,
     "metadata": {},
     "output_type": "execute_result"
    }
   ],
   "source": [
    "np.char.title(str_2)"
   ]
  },
  {
   "cell_type": "markdown",
   "id": "c7695f09",
   "metadata": {},
   "source": [
    "## np.char.center( )\n",
    "- takes 3 parameters\n",
    "- the string which we want to put in center\n",
    "- the length of complete string whose center will contain the upper mentioned string\n",
    "- fillchar = the charecter that will fill the rest of the gap"
   ]
  },
  {
   "cell_type": "code",
   "execution_count": 8,
   "id": "d3127b62",
   "metadata": {},
   "outputs": [
    {
     "data": {
      "text/plain": [
       "array('********************Module - 7********************', dtype='<U50')"
      ]
     },
     "execution_count": 8,
     "metadata": {},
     "output_type": "execute_result"
    }
   ],
   "source": [
    "str_3 = \"Module - 7\"\n",
    "\n",
    "np.char.center(str_3,50,fillchar=\"*\")"
   ]
  },
  {
   "cell_type": "markdown",
   "id": "46cb046e",
   "metadata": {},
   "source": [
    "## np.char.split( )\n",
    "- by default it splits at blankspace\n",
    "- sep = the string that will commense the split (the string will not be present after split)"
   ]
  },
  {
   "cell_type": "code",
   "execution_count": 9,
   "id": "0e4734e7",
   "metadata": {},
   "outputs": [
    {
     "data": {
      "text/plain": [
       "array(list(['This is Numpy Modul', ' S', 'v', 'n']), dtype=object)"
      ]
     },
     "execution_count": 9,
     "metadata": {},
     "output_type": "execute_result"
    }
   ],
   "source": [
    "np.char.split(str_1, sep = 'e')"
   ]
  },
  {
   "cell_type": "markdown",
   "id": "0df4b760",
   "metadata": {},
   "source": [
    "## np.char.splitlines( )\n",
    "- it splits at newline (\\n)"
   ]
  },
  {
   "cell_type": "code",
   "execution_count": 10,
   "id": "2f7be14b",
   "metadata": {},
   "outputs": [
    {
     "data": {
      "text/plain": [
       "array(list(['hello ', ' welcome to the new course']), dtype=object)"
      ]
     },
     "execution_count": 10,
     "metadata": {},
     "output_type": "execute_result"
    }
   ],
   "source": [
    "str_4 = \"hello \\n welcome to the new course\"\n",
    "np.char.splitlines(str_4)"
   ]
  },
  {
   "cell_type": "markdown",
   "id": "2501451d",
   "metadata": {},
   "source": [
    "## np.char.join( )\n",
    "- adds the sub-string between every charecter of the selected string"
   ]
  },
  {
   "cell_type": "code",
   "execution_count": 11,
   "id": "d210970b",
   "metadata": {},
   "outputs": [
    {
     "data": {
      "text/plain": [
       "array('d/-m/-y', dtype='<U7')"
      ]
     },
     "execution_count": 11,
     "metadata": {},
     "output_type": "execute_result"
    }
   ],
   "source": [
    "str_5 = \"dmy\"\n",
    "np.char.join(\"/-\",str_5)"
   ]
  },
  {
   "cell_type": "code",
   "execution_count": 12,
   "id": "a5d747a1",
   "metadata": {},
   "outputs": [
    {
     "data": {
      "text/plain": [
       "array(['d/m/y', 'I.A.S'], dtype='<U5')"
      ]
     },
     "execution_count": 12,
     "metadata": {},
     "output_type": "execute_result"
    }
   ],
   "source": [
    "str_6 = \"IAS\"\n",
    "np.char.join(['/','.'],[str_5,str_6])"
   ]
  },
  {
   "cell_type": "markdown",
   "id": "7e044035",
   "metadata": {},
   "source": [
    "## np.char.replace( )\n",
    "- replaces the selected substring in the selected string"
   ]
  },
  {
   "cell_type": "code",
   "execution_count": 13,
   "id": "12f2da10",
   "metadata": {},
   "outputs": [
    {
     "data": {
      "text/plain": [
       "'This is Numpy Module Seven'"
      ]
     },
     "execution_count": 13,
     "metadata": {},
     "output_type": "execute_result"
    }
   ],
   "source": [
    "str_1"
   ]
  },
  {
   "cell_type": "code",
   "execution_count": 14,
   "id": "7bd0d6f0",
   "metadata": {},
   "outputs": [
    {
     "data": {
      "text/plain": [
       "array('This is Pandas Module Seven', dtype='<U27')"
      ]
     },
     "execution_count": 14,
     "metadata": {},
     "output_type": "execute_result"
    }
   ],
   "source": [
    "np.char.replace(str_1,\"Numpy\",\"Pandas\")"
   ]
  },
  {
   "cell_type": "markdown",
   "id": "66d4c486",
   "metadata": {},
   "source": [
    "## string comparisions"
   ]
  },
  {
   "cell_type": "code",
   "execution_count": 15,
   "id": "555ea2a1",
   "metadata": {},
   "outputs": [],
   "source": [
    "str_7 = \"Lion\"\n",
    "str_8 = \"Pig\""
   ]
  },
  {
   "cell_type": "code",
   "execution_count": 16,
   "id": "8bbf8ac6",
   "metadata": {},
   "outputs": [
    {
     "data": {
      "text/plain": [
       "array(False)"
      ]
     },
     "execution_count": 16,
     "metadata": {},
     "output_type": "execute_result"
    }
   ],
   "source": [
    "np.char.equal(str_7,str_8) # compares two strings to be equal"
   ]
  },
  {
   "cell_type": "code",
   "execution_count": 17,
   "id": "ee7f5006",
   "metadata": {
    "scrolled": true
   },
   "outputs": [
    {
     "data": {
      "text/plain": [
       "array(True)"
      ]
     },
     "execution_count": 17,
     "metadata": {},
     "output_type": "execute_result"
    }
   ],
   "source": [
    "np.char.not_equal(str_7,str_8) # compares two strings not being equal"
   ]
  },
  {
   "cell_type": "code",
   "execution_count": 18,
   "id": "48c17a90",
   "metadata": {},
   "outputs": [
    {
     "data": {
      "text/plain": [
       "array(True)"
      ]
     },
     "execution_count": 18,
     "metadata": {},
     "output_type": "execute_result"
    }
   ],
   "source": [
    "np.char.less(str_7,str_8) # compares strings to be less than"
   ]
  },
  {
   "cell_type": "code",
   "execution_count": 19,
   "id": "bf11a664",
   "metadata": {},
   "outputs": [
    {
     "data": {
      "text/plain": [
       "array(False)"
      ]
     },
     "execution_count": 19,
     "metadata": {},
     "output_type": "execute_result"
    }
   ],
   "source": [
    "np.char.less_equal(str_8,str_7) # compares strings to be less or equal"
   ]
  },
  {
   "cell_type": "code",
   "execution_count": 20,
   "id": "f3458a58",
   "metadata": {},
   "outputs": [
    {
     "data": {
      "text/plain": [
       "array(False)"
      ]
     },
     "execution_count": 20,
     "metadata": {},
     "output_type": "execute_result"
    }
   ],
   "source": [
    "np.char.greater(str_7,str_8) # compares strings to be greater"
   ]
  },
  {
   "cell_type": "code",
   "execution_count": 21,
   "id": "76e3cbed",
   "metadata": {},
   "outputs": [
    {
     "data": {
      "text/plain": [
       "array(True)"
      ]
     },
     "execution_count": 21,
     "metadata": {},
     "output_type": "execute_result"
    }
   ],
   "source": [
    "np.char.greater_equal(str_8,str_7) # compares strings to be greater or equal"
   ]
  },
  {
   "cell_type": "markdown",
   "id": "f5cf0479",
   "metadata": {},
   "source": [
    "## np.char.count( )\n",
    "- to count the number of times the substring has appeared in the string\n",
    "- we can also specify the starting and ending index to start counting"
   ]
  },
  {
   "cell_type": "code",
   "execution_count": 23,
   "id": "54f5fb3a",
   "metadata": {},
   "outputs": [
    {
     "data": {
      "text/plain": [
       "'This is Numpy Module Seven'"
      ]
     },
     "execution_count": 23,
     "metadata": {},
     "output_type": "execute_result"
    }
   ],
   "source": [
    "str_1"
   ]
  },
  {
   "cell_type": "code",
   "execution_count": 24,
   "id": "190f9642",
   "metadata": {},
   "outputs": [
    {
     "data": {
      "text/plain": [
       "array(3)"
      ]
     },
     "execution_count": 24,
     "metadata": {},
     "output_type": "execute_result"
    }
   ],
   "source": [
    "np.char.count(str_1,\"e\")"
   ]
  },
  {
   "cell_type": "markdown",
   "id": "825ea1b0",
   "metadata": {},
   "source": [
    "## np.char.find( )\n",
    "- to find the index of a perticular substring in a string\n",
    "- we can also specify the starting and ending index of finding"
   ]
  },
  {
   "cell_type": "code",
   "execution_count": 26,
   "id": "9c1e3f79",
   "metadata": {},
   "outputs": [
    {
     "data": {
      "text/plain": [
       "array(5)"
      ]
     },
     "execution_count": 26,
     "metadata": {},
     "output_type": "execute_result"
    }
   ],
   "source": [
    "np.char.find(str_1,\"is\",3)"
   ]
  }
 ],
 "metadata": {
  "kernelspec": {
   "display_name": "Python 3",
   "language": "python",
   "name": "python3"
  },
  "language_info": {
   "codemirror_mode": {
    "name": "ipython",
    "version": 3
   },
   "file_extension": ".py",
   "mimetype": "text/x-python",
   "name": "python",
   "nbconvert_exporter": "python",
   "pygments_lexer": "ipython3",
   "version": "3.8.8"
  }
 },
 "nbformat": 4,
 "nbformat_minor": 5
}

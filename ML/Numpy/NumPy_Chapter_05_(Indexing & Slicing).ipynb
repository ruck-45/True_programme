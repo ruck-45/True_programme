{
 "cells": [
  {
   "cell_type": "markdown",
   "id": "1be830c2",
   "metadata": {},
   "source": [
    "# Chapter_3_(Indexing & Slicing)"
   ]
  },
  {
   "cell_type": "code",
   "execution_count": 1,
   "id": "1f43526d",
   "metadata": {},
   "outputs": [],
   "source": [
    "import numpy as np"
   ]
  },
  {
   "cell_type": "markdown",
   "id": "fa0d1d21",
   "metadata": {},
   "source": [
    "## Indexing / Slicing in 1D array \n",
    "- Exactly same as lists"
   ]
  },
  {
   "cell_type": "code",
   "execution_count": 2,
   "id": "93a8000f",
   "metadata": {},
   "outputs": [
    {
     "data": {
      "text/plain": [
       "array([1, 2, 3, 4, 5, 6, 7, 8, 9])"
      ]
     },
     "execution_count": 2,
     "metadata": {},
     "output_type": "execute_result"
    }
   ],
   "source": [
    "arr = np.arange(1,10)\n",
    "arr"
   ]
  },
  {
   "cell_type": "code",
   "execution_count": 3,
   "id": "0fc12126",
   "metadata": {},
   "outputs": [
    {
     "data": {
      "text/plain": [
       "3"
      ]
     },
     "execution_count": 3,
     "metadata": {},
     "output_type": "execute_result"
    }
   ],
   "source": [
    "arr[2]"
   ]
  },
  {
   "cell_type": "code",
   "execution_count": 4,
   "id": "e8ceffb2",
   "metadata": {},
   "outputs": [
    {
     "data": {
      "text/plain": [
       "9"
      ]
     },
     "execution_count": 4,
     "metadata": {},
     "output_type": "execute_result"
    }
   ],
   "source": [
    "arr[-1]"
   ]
  },
  {
   "cell_type": "code",
   "execution_count": 5,
   "id": "76a0bc49",
   "metadata": {},
   "outputs": [
    {
     "data": {
      "text/plain": [
       "2"
      ]
     },
     "execution_count": 5,
     "metadata": {},
     "output_type": "execute_result"
    }
   ],
   "source": [
    "arr[-8]"
   ]
  },
  {
   "cell_type": "code",
   "execution_count": 6,
   "id": "a1952c3b",
   "metadata": {},
   "outputs": [
    {
     "data": {
      "text/plain": [
       "array([9, 8, 7, 6, 5, 4, 3, 2, 1])"
      ]
     },
     "execution_count": 6,
     "metadata": {},
     "output_type": "execute_result"
    }
   ],
   "source": [
    "arr[::-1]"
   ]
  },
  {
   "cell_type": "code",
   "execution_count": 7,
   "id": "d8ceab3f",
   "metadata": {},
   "outputs": [
    {
     "data": {
      "text/plain": [
       "array([2, 4, 6, 8])"
      ]
     },
     "execution_count": 7,
     "metadata": {},
     "output_type": "execute_result"
    }
   ],
   "source": [
    "arr[1:8:2]"
   ]
  },
  {
   "cell_type": "markdown",
   "id": "1ff6516d",
   "metadata": {},
   "source": [
    "## Indexing / Slicing in 2D array "
   ]
  },
  {
   "cell_type": "code",
   "execution_count": 8,
   "id": "d450e7c6",
   "metadata": {},
   "outputs": [
    {
     "data": {
      "text/plain": [
       "array([[12, 12,  7, 14],\n",
       "       [ 2,  3,  4,  4],\n",
       "       [13,  1,  7,  2],\n",
       "       [ 5,  6, 14, 10],\n",
       "       [ 3, 12,  7, 11]])"
      ]
     },
     "execution_count": 8,
     "metadata": {},
     "output_type": "execute_result"
    }
   ],
   "source": [
    "np.random.seed(12)\n",
    "\n",
    "arr = np.random.randint(1,15,(5,4))\n",
    "arr"
   ]
  },
  {
   "cell_type": "markdown",
   "id": "4e891cc5",
   "metadata": {},
   "source": [
    "### Indexing"
   ]
  },
  {
   "cell_type": "code",
   "execution_count": 9,
   "id": "4831fec4",
   "metadata": {},
   "outputs": [
    {
     "data": {
      "text/plain": [
       "(7, 10, 7, 14)"
      ]
     },
     "execution_count": 9,
     "metadata": {},
     "output_type": "execute_result"
    }
   ],
   "source": [
    "# using double bracket notation\n",
    "\n",
    "arr[2][2] , arr[-2][-1] , arr[-1][2] , arr[3][2]"
   ]
  },
  {
   "cell_type": "code",
   "execution_count": 10,
   "id": "8fe9a362",
   "metadata": {},
   "outputs": [
    {
     "data": {
      "text/plain": [
       "(7, 10, 7, 14)"
      ]
     },
     "execution_count": 10,
     "metadata": {},
     "output_type": "execute_result"
    }
   ],
   "source": [
    "# using single bracket notation (Rcommended)\n",
    "\n",
    "arr[2,2] , arr[-2,-1] , arr[-1,2] , arr[3,2]"
   ]
  },
  {
   "cell_type": "markdown",
   "id": "b1c83ece",
   "metadata": {},
   "source": [
    "### Slicing \n",
    "- only works with single bracket notation"
   ]
  },
  {
   "cell_type": "code",
   "execution_count": 11,
   "id": "6c5aab20",
   "metadata": {},
   "outputs": [
    {
     "data": {
      "text/plain": [
       "array([[12, 12,  7, 14],\n",
       "       [ 2,  3,  4,  4],\n",
       "       [13,  1,  7,  2],\n",
       "       [ 5,  6, 14, 10],\n",
       "       [ 3, 12,  7, 11]])"
      ]
     },
     "execution_count": 11,
     "metadata": {},
     "output_type": "execute_result"
    }
   ],
   "source": [
    "arr"
   ]
  },
  {
   "cell_type": "code",
   "execution_count": 12,
   "id": "166c45e1",
   "metadata": {},
   "outputs": [
    {
     "data": {
      "text/plain": [
       "array([[12, 12,  7],\n",
       "       [ 2,  3,  4],\n",
       "       [13,  1,  7]])"
      ]
     },
     "execution_count": 12,
     "metadata": {},
     "output_type": "execute_result"
    }
   ],
   "source": [
    "# get top left 3*3 matrix\n",
    "\n",
    "arr[:3 , :3]"
   ]
  },
  {
   "cell_type": "code",
   "execution_count": 13,
   "id": "0c7759ef",
   "metadata": {},
   "outputs": [
    {
     "data": {
      "text/plain": [
       "array([[ 3,  4],\n",
       "       [ 1,  7],\n",
       "       [ 6, 14]])"
      ]
     },
     "execution_count": 13,
     "metadata": {},
     "output_type": "execute_result"
    }
   ],
   "source": [
    "# get middle matrix 3*2\n",
    "\n",
    "arr[1:-1,1:3]"
   ]
  },
  {
   "cell_type": "code",
   "execution_count": 14,
   "id": "e0285966",
   "metadata": {},
   "outputs": [
    {
     "data": {
      "text/plain": [
       "array([[12, 14],\n",
       "       [ 3, 11]])"
      ]
     },
     "execution_count": 14,
     "metadata": {},
     "output_type": "execute_result"
    }
   ],
   "source": [
    "# print only corner elements\n",
    "\n",
    "arr[::4,::3]"
   ]
  },
  {
   "cell_type": "code",
   "execution_count": 16,
   "id": "510fe88d",
   "metadata": {},
   "outputs": [
    {
     "data": {
      "text/plain": [
       "array([[ 1,  9, 13, 14, 19],\n",
       "       [ 4,  5,  4,  2,  1],\n",
       "       [19, 19, 17,  7, 14],\n",
       "       [10, 14, 17,  1, 15],\n",
       "       [16,  2,  5,  1,  5]])"
      ]
     },
     "execution_count": 16,
     "metadata": {},
     "output_type": "execute_result"
    }
   ],
   "source": [
    "arr = np.random.randint(1,20,(5,5))\n",
    "arr"
   ]
  },
  {
   "cell_type": "code",
   "execution_count": 17,
   "id": "71f5ab73",
   "metadata": {},
   "outputs": [
    {
     "data": {
      "text/plain": [
       "array([ 1,  4, 19, 10, 16])"
      ]
     },
     "execution_count": 17,
     "metadata": {},
     "output_type": "execute_result"
    }
   ],
   "source": [
    "# first column elements in 1D array\n",
    "arr[:,0]"
   ]
  },
  {
   "cell_type": "code",
   "execution_count": 18,
   "id": "f04facc8",
   "metadata": {},
   "outputs": [
    {
     "data": {
      "text/plain": [
       "array([[ 1],\n",
       "       [ 4],\n",
       "       [19],\n",
       "       [10],\n",
       "       [16]])"
      ]
     },
     "execution_count": 18,
     "metadata": {},
     "output_type": "execute_result"
    }
   ],
   "source": [
    "# first column elements in 2D array\n",
    "arr[:,0:1]"
   ]
  }
 ],
 "metadata": {
  "kernelspec": {
   "display_name": "Python 3",
   "language": "python",
   "name": "python3"
  },
  "language_info": {
   "codemirror_mode": {
    "name": "ipython",
    "version": 3
   },
   "file_extension": ".py",
   "mimetype": "text/x-python",
   "name": "python",
   "nbconvert_exporter": "python",
   "pygments_lexer": "ipython3",
   "version": "3.8.8"
  }
 },
 "nbformat": 4,
 "nbformat_minor": 5
}

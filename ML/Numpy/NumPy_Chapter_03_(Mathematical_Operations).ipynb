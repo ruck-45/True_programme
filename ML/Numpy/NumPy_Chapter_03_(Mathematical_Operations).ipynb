{
 "cells": [
  {
   "cell_type": "code",
   "execution_count": 1,
   "id": "83a3de39",
   "metadata": {},
   "outputs": [],
   "source": [
    "import numpy as np"
   ]
  },
  {
   "cell_type": "markdown",
   "id": "993d2869",
   "metadata": {},
   "source": [
    "# BODMAS Operations with scaler\n",
    "- appplies operation to all elements\n",
    "- doesnt changes the original array , but returns a new array"
   ]
  },
  {
   "cell_type": "code",
   "execution_count": 31,
   "id": "65e1e294",
   "metadata": {},
   "outputs": [],
   "source": [
    "np.random.seed(5)\n",
    "\n",
    "arr = np.random.randint(1,15,(3,4))"
   ]
  },
  {
   "cell_type": "markdown",
   "id": "8b2f7937",
   "metadata": {},
   "source": [
    "### addition"
   ]
  },
  {
   "cell_type": "code",
   "execution_count": 29,
   "id": "c55b2ad1",
   "metadata": {},
   "outputs": [
    {
     "data": {
      "text/plain": [
       "array([[ 4, 14,  7,  7],\n",
       "       [ 1, 10,  9,  5],\n",
       "       [ 8, 12,  1,  1]])"
      ]
     },
     "execution_count": 29,
     "metadata": {},
     "output_type": "execute_result"
    }
   ],
   "source": [
    "arr"
   ]
  },
  {
   "cell_type": "code",
   "execution_count": 30,
   "id": "6c12e5bd",
   "metadata": {},
   "outputs": [
    {
     "data": {
      "text/plain": [
       "array([[ 9, 19, 12, 12],\n",
       "       [ 6, 15, 14, 10],\n",
       "       [13, 17,  6,  6]])"
      ]
     },
     "execution_count": 30,
     "metadata": {},
     "output_type": "execute_result"
    }
   ],
   "source": [
    "arr + 5"
   ]
  },
  {
   "cell_type": "markdown",
   "id": "086d3146",
   "metadata": {},
   "source": [
    "### substraction"
   ]
  },
  {
   "cell_type": "code",
   "execution_count": 33,
   "id": "3bd9dcbc",
   "metadata": {},
   "outputs": [
    {
     "data": {
      "text/plain": [
       "array([[ 4, 14,  7,  7],\n",
       "       [ 1, 10,  9,  5],\n",
       "       [ 8, 12,  1,  1]])"
      ]
     },
     "execution_count": 33,
     "metadata": {},
     "output_type": "execute_result"
    }
   ],
   "source": [
    "arr # the previous addition operation didnt change the original array"
   ]
  },
  {
   "cell_type": "code",
   "execution_count": 34,
   "id": "c3caa42c",
   "metadata": {},
   "outputs": [
    {
     "data": {
      "text/plain": [
       "array([[-1,  9,  2,  2],\n",
       "       [-4,  5,  4,  0],\n",
       "       [ 3,  7, -4, -4]])"
      ]
     },
     "execution_count": 34,
     "metadata": {},
     "output_type": "execute_result"
    }
   ],
   "source": [
    "arr - 5"
   ]
  },
  {
   "cell_type": "markdown",
   "id": "9b665594",
   "metadata": {},
   "source": [
    "### multiplication"
   ]
  },
  {
   "cell_type": "code",
   "execution_count": 35,
   "id": "52236e5b",
   "metadata": {},
   "outputs": [
    {
     "data": {
      "text/plain": [
       "array([[ 4, 14,  7,  7],\n",
       "       [ 1, 10,  9,  5],\n",
       "       [ 8, 12,  1,  1]])"
      ]
     },
     "execution_count": 35,
     "metadata": {},
     "output_type": "execute_result"
    }
   ],
   "source": [
    "arr"
   ]
  },
  {
   "cell_type": "code",
   "execution_count": 36,
   "id": "7949bb0a",
   "metadata": {},
   "outputs": [
    {
     "data": {
      "text/plain": [
       "array([[16, 56, 28, 28],\n",
       "       [ 4, 40, 36, 20],\n",
       "       [32, 48,  4,  4]])"
      ]
     },
     "execution_count": 36,
     "metadata": {},
     "output_type": "execute_result"
    }
   ],
   "source": [
    "arr*4"
   ]
  },
  {
   "cell_type": "markdown",
   "id": "7b90987d",
   "metadata": {},
   "source": [
    "### division"
   ]
  },
  {
   "cell_type": "code",
   "execution_count": 37,
   "id": "276b850e",
   "metadata": {},
   "outputs": [
    {
     "data": {
      "text/plain": [
       "array([[ 4, 14,  7,  7],\n",
       "       [ 1, 10,  9,  5],\n",
       "       [ 8, 12,  1,  1]])"
      ]
     },
     "execution_count": 37,
     "metadata": {},
     "output_type": "execute_result"
    }
   ],
   "source": [
    "arr"
   ]
  },
  {
   "cell_type": "code",
   "execution_count": 38,
   "id": "d0baf54e",
   "metadata": {},
   "outputs": [
    {
     "data": {
      "text/plain": [
       "array([[1.33333333, 4.66666667, 2.33333333, 2.33333333],\n",
       "       [0.33333333, 3.33333333, 3.        , 1.66666667],\n",
       "       [2.66666667, 4.        , 0.33333333, 0.33333333]])"
      ]
     },
     "execution_count": 38,
     "metadata": {},
     "output_type": "execute_result"
    }
   ],
   "source": [
    "arr/3"
   ]
  },
  {
   "cell_type": "code",
   "execution_count": 39,
   "id": "1703b264",
   "metadata": {},
   "outputs": [
    {
     "name": "stderr",
     "output_type": "stream",
     "text": [
      "<ipython-input-39-0337b591e344>:4: RuntimeWarning: divide by zero encountered in true_divide\n",
      "  arr/0\n"
     ]
    },
    {
     "data": {
      "text/plain": [
       "array([[inf, inf, inf, inf],\n",
       "       [inf, inf, inf, inf],\n",
       "       [inf, inf, inf, inf]])"
      ]
     },
     "execution_count": 39,
     "metadata": {},
     "output_type": "execute_result"
    }
   ],
   "source": [
    "#  in numpy dividing with 0 will give a warning and produce infinity\n",
    "#  in other cases it gives error\n",
    "\n",
    "arr/0"
   ]
  },
  {
   "cell_type": "markdown",
   "id": "b8cc20df",
   "metadata": {},
   "source": [
    "### exponent"
   ]
  },
  {
   "cell_type": "code",
   "execution_count": 40,
   "id": "0d9e73cf",
   "metadata": {},
   "outputs": [
    {
     "data": {
      "text/plain": [
       "array([[ 4, 14,  7,  7],\n",
       "       [ 1, 10,  9,  5],\n",
       "       [ 8, 12,  1,  1]])"
      ]
     },
     "execution_count": 40,
     "metadata": {},
     "output_type": "execute_result"
    }
   ],
   "source": [
    "arr"
   ]
  },
  {
   "cell_type": "code",
   "execution_count": 41,
   "id": "02bdf1c5",
   "metadata": {},
   "outputs": [
    {
     "data": {
      "text/plain": [
       "array([[  64, 2744,  343,  343],\n",
       "       [   1, 1000,  729,  125],\n",
       "       [ 512, 1728,    1,    1]], dtype=int32)"
      ]
     },
     "execution_count": 41,
     "metadata": {},
     "output_type": "execute_result"
    }
   ],
   "source": [
    "arr**3"
   ]
  },
  {
   "cell_type": "markdown",
   "id": "0e68eefe",
   "metadata": {},
   "source": [
    "### modulus"
   ]
  },
  {
   "cell_type": "code",
   "execution_count": 42,
   "id": "72b90132",
   "metadata": {},
   "outputs": [
    {
     "data": {
      "text/plain": [
       "array([[ 4, 14,  7,  7],\n",
       "       [ 1, 10,  9,  5],\n",
       "       [ 8, 12,  1,  1]])"
      ]
     },
     "execution_count": 42,
     "metadata": {},
     "output_type": "execute_result"
    }
   ],
   "source": [
    "arr"
   ]
  },
  {
   "cell_type": "code",
   "execution_count": 43,
   "id": "800b7ec9",
   "metadata": {},
   "outputs": [
    {
     "data": {
      "text/plain": [
       "array([[1, 2, 1, 1],\n",
       "       [1, 1, 0, 2],\n",
       "       [2, 0, 1, 1]], dtype=int32)"
      ]
     },
     "execution_count": 43,
     "metadata": {},
     "output_type": "execute_result"
    }
   ],
   "source": [
    "arr%3"
   ]
  },
  {
   "cell_type": "markdown",
   "id": "9f6096b0",
   "metadata": {},
   "source": [
    "# BODMAS Operation with array / matrices\n",
    "- does not fully reflect on mathematical matrix operation\n",
    "- just applies operation on elements present at same location with one another\n",
    "- will only work with matrices having same size, otherwise it will give error"
   ]
  },
  {
   "cell_type": "code",
   "execution_count": 45,
   "id": "76263601",
   "metadata": {},
   "outputs": [
    {
     "name": "stdout",
     "output_type": "stream",
     "text": [
      "[[5 1 3 4]\n",
      " [3 2 4 5]\n",
      " [2 3 2 1]\n",
      " [5 3 4 4]]\n",
      "\n",
      "\n",
      "[[8 6 7 8]\n",
      " [7 7 8 9]\n",
      " [6 7 7 8]\n",
      " [9 6 7 9]]\n"
     ]
    }
   ],
   "source": [
    "np.random.seed(56)\n",
    "\n",
    "m1 = np.random.randint(1,6,(4,4))\n",
    "m2 = np.random.randint(6,10,(4,4))\n",
    "\n",
    "print(m1)\n",
    "print('\\n')\n",
    "print(m2)"
   ]
  },
  {
   "cell_type": "markdown",
   "id": "5170ba2a",
   "metadata": {},
   "source": [
    "### addition"
   ]
  },
  {
   "cell_type": "code",
   "execution_count": 52,
   "id": "69d3fabb",
   "metadata": {},
   "outputs": [
    {
     "data": {
      "text/plain": [
       "array([[13,  7, 10, 12],\n",
       "       [10,  9, 12, 14],\n",
       "       [ 8, 10,  9,  9],\n",
       "       [14,  9, 11, 13]])"
      ]
     },
     "execution_count": 52,
     "metadata": {},
     "output_type": "execute_result"
    }
   ],
   "source": [
    "# np.add(m1,m2)\n",
    "m1 + m2"
   ]
  },
  {
   "cell_type": "markdown",
   "id": "2304a2bc",
   "metadata": {},
   "source": [
    "### substraction"
   ]
  },
  {
   "cell_type": "code",
   "execution_count": 55,
   "id": "fb6aed97",
   "metadata": {},
   "outputs": [
    {
     "data": {
      "text/plain": [
       "array([[3, 5, 4, 4],\n",
       "       [4, 5, 4, 4],\n",
       "       [4, 4, 5, 7],\n",
       "       [4, 3, 3, 5]])"
      ]
     },
     "execution_count": 55,
     "metadata": {},
     "output_type": "execute_result"
    }
   ],
   "source": [
    "# np.subtract(m2,m1)\n",
    "m2 - m1"
   ]
  },
  {
   "cell_type": "markdown",
   "id": "2a4dd596",
   "metadata": {},
   "source": [
    "### division"
   ]
  },
  {
   "cell_type": "code",
   "execution_count": 57,
   "id": "37030639",
   "metadata": {},
   "outputs": [
    {
     "data": {
      "text/plain": [
       "array([[1.6       , 6.        , 2.33333333, 2.        ],\n",
       "       [2.33333333, 3.5       , 2.        , 1.8       ],\n",
       "       [3.        , 2.33333333, 3.5       , 8.        ],\n",
       "       [1.8       , 2.        , 1.75      , 2.25      ]])"
      ]
     },
     "execution_count": 57,
     "metadata": {},
     "output_type": "execute_result"
    }
   ],
   "source": [
    "# np.divide(m2,m1)\n",
    "m2/m1"
   ]
  },
  {
   "cell_type": "markdown",
   "id": "e6fdd0fd",
   "metadata": {},
   "source": [
    "### multiplication (not matrix multiplication)"
   ]
  },
  {
   "cell_type": "code",
   "execution_count": 64,
   "id": "1b9064a2",
   "metadata": {},
   "outputs": [
    {
     "data": {
      "text/plain": [
       "array([[40,  6, 21, 32],\n",
       "       [21, 14, 32, 45],\n",
       "       [12, 21, 14,  8],\n",
       "       [45, 18, 28, 36]])"
      ]
     },
     "execution_count": 64,
     "metadata": {},
     "output_type": "execute_result"
    }
   ],
   "source": [
    "# np.multiply(m1,m2)\n",
    "m2*m1"
   ]
  },
  {
   "cell_type": "markdown",
   "id": "113fad42",
   "metadata": {},
   "source": [
    "### Matrix Multiplication\n",
    "- to perform dot product, actual matrix multiplication"
   ]
  },
  {
   "cell_type": "code",
   "execution_count": 65,
   "id": "9ebbb8bf",
   "metadata": {
    "scrolled": false
   },
   "outputs": [
    {
     "data": {
      "text/plain": [
       "array([[112,  65,  94, 101],\n",
       "       [117,  72, 101, 107],\n",
       "       [105,  65,  92,  98],\n",
       "       [122,  69, 101, 109]])"
      ]
     },
     "execution_count": 65,
     "metadata": {},
     "output_type": "execute_result"
    }
   ],
   "source": [
    "# m2.dot(m1)\n",
    "m2@m1"
   ]
  },
  {
   "cell_type": "markdown",
   "id": "866a09d3",
   "metadata": {},
   "source": [
    "# Operations Within the Matrix\n",
    "\n",
    "- there is an axis parameter which takes :\n",
    "-    0 = column wise\n",
    "-    1 = row wise\n",
    "\n",
    "returns data for each column/row"
   ]
  },
  {
   "cell_type": "markdown",
   "id": "cb518bab",
   "metadata": {},
   "source": [
    "## Statistical functions"
   ]
  },
  {
   "cell_type": "markdown",
   "id": "7bbba5da",
   "metadata": {},
   "source": [
    "### .min( ) & .max( )\n",
    "- finding minimum and maximum values"
   ]
  },
  {
   "cell_type": "code",
   "execution_count": 72,
   "id": "81de5313",
   "metadata": {},
   "outputs": [
    {
     "data": {
      "text/plain": [
       "array([[34, 86, 69],\n",
       "       [36, 70, 12],\n",
       "       [79, 30, 19]])"
      ]
     },
     "execution_count": 72,
     "metadata": {},
     "output_type": "execute_result"
    }
   ],
   "source": [
    "np.random.seed(34)\n",
    "\n",
    "arr = np.random.randint(1,100,(3,3))\n",
    "arr"
   ]
  },
  {
   "cell_type": "code",
   "execution_count": 73,
   "id": "1e9f8714",
   "metadata": {},
   "outputs": [
    {
     "data": {
      "text/plain": [
       "12"
      ]
     },
     "execution_count": 73,
     "metadata": {},
     "output_type": "execute_result"
    }
   ],
   "source": [
    "arr.min()\n",
    "# np.min(arr)"
   ]
  },
  {
   "cell_type": "code",
   "execution_count": 74,
   "id": "2e44276f",
   "metadata": {},
   "outputs": [
    {
     "data": {
      "text/plain": [
       "array([34, 30, 12])"
      ]
     },
     "execution_count": 74,
     "metadata": {},
     "output_type": "execute_result"
    }
   ],
   "source": [
    "# column wise data\n",
    "\n",
    "arr.min(axis = 0)\n",
    "# np.min(arr, axis = 0)"
   ]
  },
  {
   "cell_type": "code",
   "execution_count": 75,
   "id": "fc8c9165",
   "metadata": {},
   "outputs": [
    {
     "data": {
      "text/plain": [
       "array([34, 12, 19])"
      ]
     },
     "execution_count": 75,
     "metadata": {},
     "output_type": "execute_result"
    }
   ],
   "source": [
    "# row wise data\n",
    "\n",
    "arr.min(axis = 1)"
   ]
  },
  {
   "cell_type": "code",
   "execution_count": 76,
   "id": "6694001f",
   "metadata": {},
   "outputs": [
    {
     "data": {
      "text/plain": [
       "86"
      ]
     },
     "execution_count": 76,
     "metadata": {},
     "output_type": "execute_result"
    }
   ],
   "source": [
    "arr.max()\n",
    "# np.max(arr)"
   ]
  },
  {
   "cell_type": "code",
   "execution_count": 77,
   "id": "c74d80f2",
   "metadata": {},
   "outputs": [
    {
     "data": {
      "text/plain": [
       "array([79, 86, 69])"
      ]
     },
     "execution_count": 77,
     "metadata": {},
     "output_type": "execute_result"
    }
   ],
   "source": [
    "arr.max(axis = 0)"
   ]
  },
  {
   "cell_type": "markdown",
   "id": "08adc7ad",
   "metadata": {},
   "source": [
    "### .argmin( ) & .argmax( )\n",
    "- finding the position of a minimum, maximum value\n",
    "- treats even multi dimentional array as vectors\n",
    "- axis functions similarly here"
   ]
  },
  {
   "cell_type": "code",
   "execution_count": 78,
   "id": "f36b7420",
   "metadata": {},
   "outputs": [
    {
     "data": {
      "text/plain": [
       "array([[34, 86, 69],\n",
       "       [36, 70, 12],\n",
       "       [79, 30, 19]])"
      ]
     },
     "execution_count": 78,
     "metadata": {},
     "output_type": "execute_result"
    }
   ],
   "source": [
    "arr"
   ]
  },
  {
   "cell_type": "code",
   "execution_count": 79,
   "id": "01a7430e",
   "metadata": {},
   "outputs": [
    {
     "data": {
      "text/plain": [
       "5"
      ]
     },
     "execution_count": 79,
     "metadata": {},
     "output_type": "execute_result"
    }
   ],
   "source": [
    "arr.argmin()\n",
    "# np.argmin(arr)"
   ]
  },
  {
   "cell_type": "code",
   "execution_count": 81,
   "id": "00aec17e",
   "metadata": {},
   "outputs": [
    {
     "data": {
      "text/plain": [
       "array([1, 1, 0], dtype=int64)"
      ]
     },
     "execution_count": 81,
     "metadata": {},
     "output_type": "execute_result"
    }
   ],
   "source": [
    "arr.argmax(axis = 1)"
   ]
  },
  {
   "cell_type": "markdown",
   "id": "4da8549d",
   "metadata": {},
   "source": [
    "### .sum( )\n",
    "- adds all element\n",
    "- axis functions similarly here"
   ]
  },
  {
   "cell_type": "code",
   "execution_count": 82,
   "id": "7e5d0310",
   "metadata": {},
   "outputs": [
    {
     "data": {
      "text/plain": [
       "array([[34, 86, 69],\n",
       "       [36, 70, 12],\n",
       "       [79, 30, 19]])"
      ]
     },
     "execution_count": 82,
     "metadata": {},
     "output_type": "execute_result"
    }
   ],
   "source": [
    "arr"
   ]
  },
  {
   "cell_type": "code",
   "execution_count": 84,
   "id": "bc2db2f5",
   "metadata": {},
   "outputs": [
    {
     "data": {
      "text/plain": [
       "435"
      ]
     },
     "execution_count": 84,
     "metadata": {},
     "output_type": "execute_result"
    }
   ],
   "source": [
    "arr.sum()\n",
    "# np.sum(arr)"
   ]
  },
  {
   "cell_type": "code",
   "execution_count": 85,
   "id": "9995892b",
   "metadata": {},
   "outputs": [
    {
     "data": {
      "text/plain": [
       "array([189, 118, 128])"
      ]
     },
     "execution_count": 85,
     "metadata": {},
     "output_type": "execute_result"
    }
   ],
   "source": [
    "arr.sum(axis = 1)\n",
    "# np.sum(arr,axis = 1)"
   ]
  },
  {
   "cell_type": "markdown",
   "id": "ebd5ab97",
   "metadata": {},
   "source": [
    "### .cumsum( )\n",
    "- gives cumulative sum\n",
    "- axis functions similarly here"
   ]
  },
  {
   "cell_type": "code",
   "execution_count": 86,
   "id": "46b193c5",
   "metadata": {},
   "outputs": [
    {
     "data": {
      "text/plain": [
       "array([ 34, 120, 189, 225, 295, 307, 386, 416, 435], dtype=int32)"
      ]
     },
     "execution_count": 86,
     "metadata": {},
     "output_type": "execute_result"
    }
   ],
   "source": [
    "arr.cumsum()\n",
    "# np.cumsum(arr)"
   ]
  },
  {
   "cell_type": "code",
   "execution_count": 87,
   "id": "d5aea476",
   "metadata": {},
   "outputs": [
    {
     "data": {
      "text/plain": [
       "array([[ 34, 120, 189],\n",
       "       [ 36, 106, 118],\n",
       "       [ 79, 109, 128]], dtype=int32)"
      ]
     },
     "execution_count": 87,
     "metadata": {},
     "output_type": "execute_result"
    }
   ],
   "source": [
    "arr.cumsum(axis  = 1)"
   ]
  },
  {
   "cell_type": "markdown",
   "id": "2d4f7bf4",
   "metadata": {},
   "source": [
    "### .prod( )\n",
    "- gives product of all elements\n",
    "- axis functions similarly here"
   ]
  },
  {
   "cell_type": "code",
   "execution_count": 89,
   "id": "b23ae6f5",
   "metadata": {},
   "outputs": [
    {
     "data": {
      "text/plain": [
       "array([[34, 86, 69],\n",
       "       [36, 70, 12],\n",
       "       [79, 30, 19]])"
      ]
     },
     "execution_count": 89,
     "metadata": {},
     "output_type": "execute_result"
    }
   ],
   "source": [
    "arr"
   ]
  },
  {
   "cell_type": "code",
   "execution_count": 90,
   "id": "3ad19ea5",
   "metadata": {},
   "outputs": [
    {
     "data": {
      "text/plain": [
       "719787264"
      ]
     },
     "execution_count": 90,
     "metadata": {},
     "output_type": "execute_result"
    }
   ],
   "source": [
    "arr.prod()\n",
    "# np.prod(arr)"
   ]
  },
  {
   "cell_type": "code",
   "execution_count": 91,
   "id": "5c75f606",
   "metadata": {},
   "outputs": [
    {
     "data": {
      "text/plain": [
       "array([201756,  30240,  45030])"
      ]
     },
     "execution_count": 91,
     "metadata": {},
     "output_type": "execute_result"
    }
   ],
   "source": [
    "arr.prod(axis = 1)"
   ]
  },
  {
   "cell_type": "markdown",
   "id": "0fd83bc5",
   "metadata": {},
   "source": [
    "### .mean( )\n",
    "- finding mean\n",
    "- axis functions similarly here"
   ]
  },
  {
   "cell_type": "code",
   "execution_count": 92,
   "id": "197e0a5b",
   "metadata": {},
   "outputs": [
    {
     "data": {
      "text/plain": [
       "array([[34, 86, 69],\n",
       "       [36, 70, 12],\n",
       "       [79, 30, 19]])"
      ]
     },
     "execution_count": 92,
     "metadata": {},
     "output_type": "execute_result"
    }
   ],
   "source": [
    "arr"
   ]
  },
  {
   "cell_type": "code",
   "execution_count": 93,
   "id": "63b86b81",
   "metadata": {},
   "outputs": [
    {
     "data": {
      "text/plain": [
       "48.333333333333336"
      ]
     },
     "execution_count": 93,
     "metadata": {},
     "output_type": "execute_result"
    }
   ],
   "source": [
    "arr.mean()\n",
    "# np.mean(arr)"
   ]
  },
  {
   "cell_type": "code",
   "execution_count": 94,
   "id": "068476b1",
   "metadata": {},
   "outputs": [
    {
     "data": {
      "text/plain": [
       "array([63.        , 39.33333333, 42.66666667])"
      ]
     },
     "execution_count": 94,
     "metadata": {},
     "output_type": "execute_result"
    }
   ],
   "source": [
    "arr.mean(axis = 1)"
   ]
  },
  {
   "cell_type": "markdown",
   "id": "c41abc6c",
   "metadata": {},
   "source": [
    "### .std( )\n",
    "- finding standard deviation\n",
    "- axis functions similarly here"
   ]
  },
  {
   "cell_type": "code",
   "execution_count": 120,
   "id": "6004ab86",
   "metadata": {},
   "outputs": [
    {
     "data": {
      "text/plain": [
       "array([[34, 86, 69],\n",
       "       [36, 70, 12],\n",
       "       [79, 30, 19]])"
      ]
     },
     "execution_count": 120,
     "metadata": {},
     "output_type": "execute_result"
    }
   ],
   "source": [
    "arr"
   ]
  },
  {
   "cell_type": "code",
   "execution_count": 123,
   "id": "f9c01b55",
   "metadata": {},
   "outputs": [
    {
     "data": {
      "text/plain": [
       "26.09810550808451"
      ]
     },
     "execution_count": 123,
     "metadata": {},
     "output_type": "execute_result"
    }
   ],
   "source": [
    "# np.std(arr)\n",
    "arr.std()"
   ]
  },
  {
   "cell_type": "code",
   "execution_count": 124,
   "id": "b0d49ae1",
   "metadata": {},
   "outputs": [
    {
     "data": {
      "text/plain": [
       "array([20.7578633 , 23.55136231, 25.38153309])"
      ]
     },
     "execution_count": 124,
     "metadata": {},
     "output_type": "execute_result"
    }
   ],
   "source": [
    "arr.std(axis = 0)"
   ]
  },
  {
   "cell_type": "markdown",
   "id": "9cbfa1ba",
   "metadata": {},
   "source": [
    "### np.median( ) { cannot be directly applied to the array like others }\n",
    "- finding median\n",
    "- axis functions similarly here"
   ]
  },
  {
   "cell_type": "code",
   "execution_count": 95,
   "id": "2439f52e",
   "metadata": {},
   "outputs": [
    {
     "data": {
      "text/plain": [
       "array([[34, 86, 69],\n",
       "       [36, 70, 12],\n",
       "       [79, 30, 19]])"
      ]
     },
     "execution_count": 95,
     "metadata": {},
     "output_type": "execute_result"
    }
   ],
   "source": [
    "arr"
   ]
  },
  {
   "cell_type": "code",
   "execution_count": 100,
   "id": "428c60a6",
   "metadata": {},
   "outputs": [
    {
     "data": {
      "text/plain": [
       "36.0"
      ]
     },
     "execution_count": 100,
     "metadata": {},
     "output_type": "execute_result"
    }
   ],
   "source": [
    "np.median(arr)"
   ]
  },
  {
   "cell_type": "code",
   "execution_count": 101,
   "id": "ab3c0963",
   "metadata": {},
   "outputs": [
    {
     "data": {
      "text/plain": [
       "array([36., 70., 19.])"
      ]
     },
     "execution_count": 101,
     "metadata": {},
     "output_type": "execute_result"
    }
   ],
   "source": [
    "np.median(arr, axis = 0)"
   ]
  },
  {
   "cell_type": "markdown",
   "id": "6308e6ea",
   "metadata": {},
   "source": [
    "## Trigonometric, Logarithmic & Exponential functions"
   ]
  },
  {
   "cell_type": "markdown",
   "id": "1f5c6e47",
   "metadata": {},
   "source": [
    "### np.pi\n",
    "- gives the value of pi"
   ]
  },
  {
   "cell_type": "code",
   "execution_count": 119,
   "id": "3c0f3939",
   "metadata": {},
   "outputs": [
    {
     "data": {
      "text/plain": [
       "3.141592653589793"
      ]
     },
     "execution_count": 119,
     "metadata": {},
     "output_type": "execute_result"
    }
   ],
   "source": [
    "np.pi"
   ]
  },
  {
   "cell_type": "markdown",
   "id": "dc7de451",
   "metadata": {},
   "source": [
    "### np.sin( ), np.cos( ), np.tan( )\n",
    "- finding trigonometric values"
   ]
  },
  {
   "cell_type": "code",
   "execution_count": 114,
   "id": "0c1f0bfd",
   "metadata": {},
   "outputs": [
    {
     "data": {
      "text/plain": [
       "array([[34, 86, 69],\n",
       "       [36, 70, 12],\n",
       "       [79, 30, 19]])"
      ]
     },
     "execution_count": 114,
     "metadata": {},
     "output_type": "execute_result"
    }
   ],
   "source": [
    "arr"
   ]
  },
  {
   "cell_type": "code",
   "execution_count": 116,
   "id": "a46b5c57",
   "metadata": {},
   "outputs": [
    {
     "data": {
      "text/plain": [
       "array([[ 0.52908269, -0.92345845, -0.11478481],\n",
       "       [-0.99177885,  0.77389068, -0.53657292],\n",
       "       [-0.44411267, -0.98803162,  0.14987721]])"
      ]
     },
     "execution_count": 116,
     "metadata": {},
     "output_type": "execute_result"
    }
   ],
   "source": [
    "np.sin(arr)"
   ]
  },
  {
   "cell_type": "code",
   "execution_count": 117,
   "id": "9e1467f4",
   "metadata": {},
   "outputs": [
    {
     "data": {
      "text/plain": [
       "array([[-0.84857027, -0.38369844,  0.99339038],\n",
       "       [-0.12796369,  0.6333192 ,  0.84385396],\n",
       "       [-0.89597095,  0.15425145,  0.98870462]])"
      ]
     },
     "execution_count": 117,
     "metadata": {},
     "output_type": "execute_result"
    }
   ],
   "source": [
    "np.cos(arr)"
   ]
  },
  {
   "cell_type": "code",
   "execution_count": 118,
   "id": "e48f30d3",
   "metadata": {},
   "outputs": [
    {
     "data": {
      "text/plain": [
       "array([[-0.62349896,  2.40672971, -0.11554855],\n",
       "       [ 7.75047091,  1.22195992, -0.63585993],\n",
       "       [ 0.49567753, -6.4053312 ,  0.15158947]])"
      ]
     },
     "execution_count": 118,
     "metadata": {},
     "output_type": "execute_result"
    }
   ],
   "source": [
    "np.tan(arr)"
   ]
  },
  {
   "cell_type": "markdown",
   "id": "9b88318d",
   "metadata": {},
   "source": [
    "### np.sqrt( ) \n",
    "- finding squareroot"
   ]
  },
  {
   "cell_type": "code",
   "execution_count": 102,
   "id": "f2b46f1a",
   "metadata": {},
   "outputs": [
    {
     "data": {
      "text/plain": [
       "array([[34, 86, 69],\n",
       "       [36, 70, 12],\n",
       "       [79, 30, 19]])"
      ]
     },
     "execution_count": 102,
     "metadata": {},
     "output_type": "execute_result"
    }
   ],
   "source": [
    "arr"
   ]
  },
  {
   "cell_type": "code",
   "execution_count": 106,
   "id": "bf8fcfb5",
   "metadata": {
    "scrolled": true
   },
   "outputs": [
    {
     "data": {
      "text/plain": [
       "array([[5.83095189, 9.2736185 , 8.30662386],\n",
       "       [6.        , 8.36660027, 3.46410162],\n",
       "       [8.88819442, 5.47722558, 4.35889894]])"
      ]
     },
     "execution_count": 106,
     "metadata": {},
     "output_type": "execute_result"
    }
   ],
   "source": [
    "np.sqrt(arr)"
   ]
  },
  {
   "cell_type": "markdown",
   "id": "2dfd5d34",
   "metadata": {},
   "source": [
    "### np.exp( )\n",
    "- finds exponent value of all elements , power of euler's number (e)"
   ]
  },
  {
   "cell_type": "code",
   "execution_count": 107,
   "id": "1f0530a9",
   "metadata": {},
   "outputs": [
    {
     "data": {
      "text/plain": [
       "array([[34, 86, 69],\n",
       "       [36, 70, 12],\n",
       "       [79, 30, 19]])"
      ]
     },
     "execution_count": 107,
     "metadata": {},
     "output_type": "execute_result"
    }
   ],
   "source": [
    "arr"
   ]
  },
  {
   "cell_type": "code",
   "execution_count": 109,
   "id": "e4001d63",
   "metadata": {},
   "outputs": [
    {
     "data": {
      "text/plain": [
       "array([[5.83461743e+14, 2.23524660e+37, 9.25378173e+29],\n",
       "       [4.31123155e+15, 2.51543867e+30, 1.62754791e+05],\n",
       "       [2.03828107e+34, 1.06864746e+13, 1.78482301e+08]])"
      ]
     },
     "execution_count": 109,
     "metadata": {},
     "output_type": "execute_result"
    }
   ],
   "source": [
    "np.exp(arr)"
   ]
  },
  {
   "cell_type": "markdown",
   "id": "073c7457",
   "metadata": {},
   "source": [
    "### np.log( )\n",
    "- finds log value of all elements , base = e"
   ]
  },
  {
   "cell_type": "code",
   "execution_count": 110,
   "id": "cf16cdfb",
   "metadata": {},
   "outputs": [
    {
     "data": {
      "text/plain": [
       "array([[34, 86, 69],\n",
       "       [36, 70, 12],\n",
       "       [79, 30, 19]])"
      ]
     },
     "execution_count": 110,
     "metadata": {},
     "output_type": "execute_result"
    }
   ],
   "source": [
    "arr"
   ]
  },
  {
   "cell_type": "code",
   "execution_count": 111,
   "id": "63e78e82",
   "metadata": {
    "scrolled": true
   },
   "outputs": [
    {
     "data": {
      "text/plain": [
       "array([[3.52636052, 4.4543473 , 4.2341065 ],\n",
       "       [3.58351894, 4.24849524, 2.48490665],\n",
       "       [4.36944785, 3.40119738, 2.94443898]])"
      ]
     },
     "execution_count": 111,
     "metadata": {},
     "output_type": "execute_result"
    }
   ],
   "source": [
    "np.log(arr)"
   ]
  },
  {
   "cell_type": "markdown",
   "id": "4f2e41dc",
   "metadata": {},
   "source": [
    "### np.log10( )\n",
    "- finds log value of all elements , base = 10"
   ]
  },
  {
   "cell_type": "code",
   "execution_count": 112,
   "id": "822a814d",
   "metadata": {},
   "outputs": [
    {
     "data": {
      "text/plain": [
       "array([[34, 86, 69],\n",
       "       [36, 70, 12],\n",
       "       [79, 30, 19]])"
      ]
     },
     "execution_count": 112,
     "metadata": {},
     "output_type": "execute_result"
    }
   ],
   "source": [
    "arr"
   ]
  },
  {
   "cell_type": "code",
   "execution_count": 113,
   "id": "215ebe1f",
   "metadata": {},
   "outputs": [
    {
     "data": {
      "text/plain": [
       "array([[1.53147892, 1.93449845, 1.83884909],\n",
       "       [1.5563025 , 1.84509804, 1.07918125],\n",
       "       [1.89762709, 1.47712125, 1.2787536 ]])"
      ]
     },
     "execution_count": 113,
     "metadata": {},
     "output_type": "execute_result"
    }
   ],
   "source": [
    "np.log10(arr)"
   ]
  }
 ],
 "metadata": {
  "kernelspec": {
   "display_name": "Python 3 (ipykernel)",
   "language": "python",
   "name": "python3"
  },
  "language_info": {
   "codemirror_mode": {
    "name": "ipython",
    "version": 3
   },
   "file_extension": ".py",
   "mimetype": "text/x-python",
   "name": "python",
   "nbconvert_exporter": "python",
   "pygments_lexer": "ipython3",
   "version": "3.9.12"
  }
 },
 "nbformat": 4,
 "nbformat_minor": 5
}

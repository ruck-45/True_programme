{
 "cells": [
  {
   "cell_type": "code",
   "execution_count": 8,
   "id": "f5ec89f6",
   "metadata": {},
   "outputs": [],
   "source": [
    "import cv2\n",
    "import numpy as np\n",
    "import matplotlib.pyplot as plt"
   ]
  },
  {
   "cell_type": "markdown",
   "id": "d6240793",
   "metadata": {},
   "source": [
    "# Bitwise Operations\n",
    "- bitwise operations between image si ssame as performing bitwise operations with numpy arrays\n",
    "- these operations are helpful in masking"
   ]
  },
  {
   "cell_type": "code",
   "execution_count": 44,
   "id": "4b58c239",
   "metadata": {},
   "outputs": [
    {
     "data": {
      "text/plain": [
       "<matplotlib.image.AxesImage at 0x2b39ebef5e0>"
      ]
     },
     "execution_count": 44,
     "metadata": {},
     "output_type": "execute_result"
    },
    {
     "data": {
      "image/png": "[encoded data removed]",
      "text/plain": [
       "<Figure size 432x288 with 1 Axes>"
      ]
     },
     "metadata": {
      "needs_background": "light"
     },
     "output_type": "display_data"
    }
   ],
   "source": [
    "# image1\n",
    "im1 = np.concatenate((np.zeros((100,100,3),dtype = 'uint8'),np.ones((100,100,3),dtype = 'uint8')*255),axis = 1)\n",
    "plt.imshow(im1)"
   ]
  },
  {
   "cell_type": "code",
   "execution_count": 46,
   "id": "cca2218f",
   "metadata": {},
   "outputs": [
    {
     "data": {
      "text/plain": [
       "<matplotlib.image.AxesImage at 0x2b3a2038f40>"
      ]
     },
     "execution_count": 46,
     "metadata": {},
     "output_type": "execute_result"
    },
    {
     "data": {
      "image/png": "[encoded data removed]",
      "text/plain": [
       "<Figure size 432x288 with 1 Axes>"
      ]
     },
     "metadata": {
      "needs_background": "light"
     },
     "output_type": "display_data"
    }
   ],
   "source": [
    "# image2\n",
    "im2 = np.zeros((100,200,3),dtype = 'uint8')\n",
    "cv2.rectangle(im2,(50,25),(150,75),(255,255,255),-1)\n",
    "plt.imshow(im2[:,:,::-1])"
   ]
  },
  {
   "cell_type": "markdown",
   "id": "2f770b0f",
   "metadata": {},
   "source": [
    "## Bitwise And\n",
    "- Black = 0\n",
    "- White = 1\n",
    "- And logic"
   ]
  },
  {
   "cell_type": "code",
   "execution_count": 47,
   "id": "14968b3c",
   "metadata": {
    "scrolled": true
   },
   "outputs": [
    {
     "data": {
      "text/plain": [
       "<matplotlib.image.AxesImage at 0x2b3a3fbf8e0>"
      ]
     },
     "execution_count": 47,
     "metadata": {},
     "output_type": "execute_result"
    },
    {
     "data": {
      "image/png": "[encoded data removed]",
      "text/plain": [
       "<Figure size 432x288 with 1 Axes>"
      ]
     },
     "metadata": {
      "needs_background": "light"
     },
     "output_type": "display_data"
    }
   ],
   "source": [
    "and_im = cv2.bitwise_and(im1,im2)\n",
    "plt.imshow(and_im[:,:,::-1])"
   ]
  },
  {
   "cell_type": "markdown",
   "id": "a12055f6",
   "metadata": {},
   "source": [
    "## Bitwise Or\n",
    "- Black = 0\n",
    "- White = 1\n",
    "- Or logic"
   ]
  },
  {
   "cell_type": "code",
   "execution_count": 48,
   "id": "8ae27b47",
   "metadata": {
    "scrolled": true
   },
   "outputs": [
    {
     "data": {
      "text/plain": [
       "<matplotlib.image.AxesImage at 0x2b3a401b670>"
      ]
     },
     "execution_count": 48,
     "metadata": {},
     "output_type": "execute_result"
    },
    {
     "data": {
      "image/png": "[encoded data removed]",
      "text/plain": [
       "<Figure size 432x288 with 1 Axes>"
      ]
     },
     "metadata": {
      "needs_background": "light"
     },
     "output_type": "display_data"
    }
   ],
   "source": [
    "or_im = cv2.bitwise_or(im1,im2)\n",
    "plt.imshow(or_im[:,:,::-1])"
   ]
  },
  {
   "cell_type": "markdown",
   "id": "6c873f01",
   "metadata": {},
   "source": [
    "## Bitwise XOR\n",
    "- Black = 0\n",
    "- White = 1\n",
    "- XOR logic (same : 0, different : 1)"
   ]
  },
  {
   "cell_type": "code",
   "execution_count": 49,
   "id": "17ccb711",
   "metadata": {
    "scrolled": true
   },
   "outputs": [
    {
     "data": {
      "text/plain": [
       "<matplotlib.image.AxesImage at 0x2b3a4079220>"
      ]
     },
     "execution_count": 49,
     "metadata": {},
     "output_type": "execute_result"
    },
    {
     "data": {
      "image/png": "[encoded data removed]",
      "text/plain": [
       "<Figure size 432x288 with 1 Axes>"
      ]
     },
     "metadata": {
      "needs_background": "light"
     },
     "output_type": "display_data"
    }
   ],
   "source": [
    "xor_im = cv2.bitwise_xor(im1,im2)\n",
    "plt.imshow(xor_im[:,:,::-1])"
   ]
  },
  {
   "cell_type": "markdown",
   "id": "27d08a33",
   "metadata": {},
   "source": [
    "## Bitwise Not\n",
    "- Black = 0\n",
    "- White = 1\n",
    "- Not logic"
   ]
  },
  {
   "cell_type": "code",
   "execution_count": 50,
   "id": "f08ade72",
   "metadata": {},
   "outputs": [
    {
     "data": {
      "text/plain": [
       "<matplotlib.image.AxesImage at 0x2b3a40c8dc0>"
      ]
     },
     "execution_count": 50,
     "metadata": {},
     "output_type": "execute_result"
    },
    {
     "data": {
      "image/png": "[encoded data removed]",
      "text/plain": [
       "<Figure size 432x288 with 1 Axes>"
      ]
     },
     "metadata": {
      "needs_background": "light"
     },
     "output_type": "display_data"
    }
   ],
   "source": [
    "not_im1 = cv2.bitwise_not(im1)\n",
    "plt.imshow(not_im1[:,:,::-1])"
   ]
  },
  {
   "cell_type": "code",
   "execution_count": 51,
   "id": "a39056da",
   "metadata": {},
   "outputs": [
    {
     "data": {
      "text/plain": [
       "<matplotlib.image.AxesImage at 0x2b3a4126970>"
      ]
     },
     "execution_count": 51,
     "metadata": {},
     "output_type": "execute_result"
    },
    {
     "data": {
      "image/png": "[encoded data removed]",
      "text/plain": [
       "<Figure size 432x288 with 1 Axes>"
      ]
     },
     "metadata": {
      "needs_background": "light"
     },
     "output_type": "display_data"
    }
   ],
   "source": [
    "not_im2 = cv2.bitwise_not(im2)\n",
    "plt.imshow(not_im2[:,:,::-1])"
   ]
  }
 ],
 "metadata": {
  "kernelspec": {
   "display_name": "Python 3",
   "language": "python",
   "name": "python3"
  },
  "language_info": {
   "codemirror_mode": {
    "name": "ipython",
    "version": 3
   },
   "file_extension": ".py",
   "mimetype": "text/x-python",
   "name": "python",
   "nbconvert_exporter": "python",
   "pygments_lexer": "ipython3",
   "version": "3.8.8"
  }
 },
 "nbformat": 4,
 "nbformat_minor": 5
}

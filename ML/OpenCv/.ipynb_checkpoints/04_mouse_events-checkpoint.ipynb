{
 "cells": [
  {
   "cell_type": "code",
   "execution_count": 1,
   "id": "97250dfe",
   "metadata": {},
   "outputs": [],
   "source": [
    "import cv2\n",
    "import numpy as np"
   ]
  },
  {
   "cell_type": "code",
   "execution_count": 2,
   "id": "3e7050c5",
   "metadata": {},
   "outputs": [
    {
     "name": "stdout",
     "output_type": "stream",
     "text": [
      "EVENT_FLAG_ALTKEY\n",
      "EVENT_FLAG_CTRLKEY\n",
      "EVENT_FLAG_LBUTTON\n",
      "EVENT_FLAG_MBUTTON\n",
      "EVENT_FLAG_RBUTTON\n",
      "EVENT_FLAG_SHIFTKEY\n",
      "EVENT_LBUTTONDBLCLK\n",
      "EVENT_LBUTTONDOWN\n",
      "EVENT_LBUTTONUP\n",
      "EVENT_MBUTTONDBLCLK\n",
      "EVENT_MBUTTONDOWN\n",
      "EVENT_MBUTTONUP\n",
      "EVENT_MOUSEHWHEEL\n",
      "EVENT_MOUSEMOVE\n",
      "EVENT_MOUSEWHEEL\n",
      "EVENT_RBUTTONDBLCLK\n",
      "EVENT_RBUTTONDOWN\n",
      "EVENT_RBUTTONUP\n"
     ]
    }
   ],
   "source": [
    "# all events available in Opencv\n",
    "\n",
    "for i in dir(cv2):\n",
    "    if 'EVENT' in i:\n",
    "        print(i)"
   ]
  },
  {
   "cell_type": "markdown",
   "id": "bda3039c",
   "metadata": {},
   "source": [
    "# Mouse Events Using Image\n",
    "- We can capture mouse events using setMouseCallback( )\n",
    "- It takes the window name and a function that performs task defined by us"
   ]
  },
  {
   "cell_type": "markdown",
   "id": "484702b8",
   "metadata": {},
   "source": [
    "### Actions To Perform :\n",
    "- Left Click : Display the coordinates of the point clicked \n",
    "- Right Click : Display the RGB values of the point clicked\n",
    "- Middle Click : Create Polygon as middle button clicked\n",
    "- Simply moving the mouse will show the color at the location of mouse pointer in a separate window"
   ]
  },
  {
   "cell_type": "code",
   "execution_count": 3,
   "id": "f35687f4",
   "metadata": {},
   "outputs": [],
   "source": [
    "# Function for setMouseCallback()\n",
    "\n",
    "def mouse_actions(event,x,y,flags,params):\n",
    "    if event == cv2.EVENT_LBUTTONDOWN:\n",
    "        cv2.circle(img,(x,y),1,(0,0,255))\n",
    "        cv2.putText(img,str((x,y)),(x-5,y-5),cv2.FONT_HERSHEY_PLAIN,0.6,(0,0,255))\n",
    "        cv2.imshow('Image_window',img)\n",
    "    \n",
    "    elif event == cv2.EVENT_RBUTTONDOWN:\n",
    "        B = img[y,x,0]\n",
    "        G = img[y,x,1]\n",
    "        R = img[y,x,2]\n",
    "        \n",
    "        text = str((R,G,B))\n",
    "        \n",
    "        cv2.circle(img,(x,y),1,(255,0,0))\n",
    "        cv2.putText(img,text,(x+5,y+5),cv2.FONT_HERSHEY_PLAIN,0.6,(255,0,0))\n",
    "        cv2.imshow('Image_window',img)\n",
    "        \n",
    "    elif event == cv2.EVENT_MBUTTONDOWN:\n",
    "        global prev_coordinate\n",
    "        if prev_coordinate == None:\n",
    "            cv2.circle(img,(x,y),1,(0,255,0))\n",
    "            cv2.imshow('Image_window',img)\n",
    "        else:\n",
    "            cv2.line(img,prev_coordinate,(x,y),(0,255,0),1,cv2.LINE_AA)\n",
    "            cv2.imshow('Image_window',img)\n",
    "        prev_coordinate = (x,y)\n",
    "    \n",
    "    else:\n",
    "        B = img[y,x,0]\n",
    "        G = img[y,x,1]\n",
    "        R = img[y,x,2]\n",
    "        \n",
    "        img2 = np.zeros((200,200,3)) + [B/255,G/255,R/255] # takes Normalized data in BGR format\n",
    "        cv2.imshow('Color_window',img2)\n",
    "        cv2.imshow('Image_window',img)\n",
    "        "
   ]
  },
  {
   "cell_type": "code",
   "execution_count": 4,
   "id": "6e8eed84",
   "metadata": {},
   "outputs": [],
   "source": [
    "img = cv2.imread('./Images/07.jpg')\n",
    "cv2.imshow('Image_window',img)\n",
    "prev_coordinate = None\n",
    "cv2.setMouseCallback('Image_window',mouse_actions)\n",
    "cv2.waitKey(0)\n",
    "cv2.destroyAllWindows()"
   ]
  }
 ],
 "metadata": {
  "kernelspec": {
   "display_name": "Python 3",
   "language": "python",
   "name": "python3"
  },
  "language_info": {
   "codemirror_mode": {
    "name": "ipython",
    "version": 3
   },
   "file_extension": ".py",
   "mimetype": "text/x-python",
   "name": "python",
   "nbconvert_exporter": "python",
   "pygments_lexer": "ipython3",
   "version": "3.8.8"
  }
 },
 "nbformat": 4,
 "nbformat_minor": 5
}

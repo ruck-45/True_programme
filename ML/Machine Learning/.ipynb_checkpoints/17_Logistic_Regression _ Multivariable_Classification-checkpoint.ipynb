{
 "cells": [
  {
   "cell_type": "code",
   "execution_count": 1,
   "id": "93763031",
   "metadata": {},
   "outputs": [],
   "source": [
    "import numpy as np\n",
    "import pandas as pd\n",
    "import matplotlib.pyplot as plt\n",
    "\n",
    "from sklearn.linear_model import LogisticRegression\n",
    "from sklearn.model_selection import train_test_split"
   ]
  },
  {
   "cell_type": "code",
   "execution_count": 2,
   "id": "f4c0e99b",
   "metadata": {},
   "outputs": [],
   "source": [
    "# sklearn has its own datasets we can use for practice\n",
    "# load_digits contains hand written digit database\n",
    "\n",
    "from sklearn.datasets import load_digits"
   ]
  },
  {
   "cell_type": "code",
   "execution_count": 3,
   "id": "c6cef75f",
   "metadata": {},
   "outputs": [
    {
     "data": {
      "text/plain": [
       "['DESCR', 'data', 'feature_names', 'frame', 'images', 'target', 'target_names']"
      ]
     },
     "execution_count": 3,
     "metadata": {},
     "output_type": "execute_result"
    }
   ],
   "source": [
    "digit = load_digits()\n",
    "dir(digit)"
   ]
  },
  {
   "cell_type": "code",
   "execution_count": 14,
   "id": "ce06b4ba",
   "metadata": {},
   "outputs": [
    {
     "data": {
      "text/plain": [
       "(1797, 64)"
      ]
     },
     "execution_count": 14,
     "metadata": {},
     "output_type": "execute_result"
    }
   ],
   "source": [
    "# digit.DESCR # description\n",
    "digit.data.shape\n",
    "\n",
    "# here data is the numpy array representation of black and white image"
   ]
  },
  {
   "cell_type": "code",
   "execution_count": 45,
   "id": "185a24b8",
   "metadata": {},
   "outputs": [
    {
     "name": "stdout",
     "output_type": "stream",
     "text": [
      "['pixel_0_0', 'pixel_0_1', 'pixel_0_2', 'pixel_0_3']\n"
     ]
    },
    {
     "data": {
      "text/plain": [
       "list"
      ]
     },
     "execution_count": 45,
     "metadata": {},
     "output_type": "execute_result"
    }
   ],
   "source": [
    "# names of all images here\n",
    "\n",
    "print(digit.feature_names[:4])\n",
    "type(digit.feature_names)"
   ]
  },
  {
   "cell_type": "code",
   "execution_count": 29,
   "id": "b28465f7",
   "metadata": {
    "scrolled": true
   },
   "outputs": [
    {
     "data": {
      "text/plain": [
       "<Figure size 432x288 with 0 Axes>"
      ]
     },
     "metadata": {},
     "output_type": "display_data"
    },
    {
     "data": {
      "image/png": "[encoded data removed]",
      "text/plain": [
       "<Figure size 288x288 with 1 Axes>"
      ]
     },
     "metadata": {
      "needs_background": "light"
     },
     "output_type": "display_data"
    },
    {
     "data": {
      "image/png": "[encoded data removed]",
      "text/plain": [
       "<Figure size 288x288 with 1 Axes>"
      ]
     },
     "metadata": {
      "needs_background": "light"
     },
     "output_type": "display_data"
    },
    {
     "data": {
      "image/png": "[encoded data removed]",
      "text/plain": [
       "<Figure size 288x288 with 1 Axes>"
      ]
     },
     "metadata": {
      "needs_background": "light"
     },
     "output_type": "display_data"
    },
    {
     "data": {
      "image/png": "[encoded data removed]",
      "text/plain": [
       "<Figure size 288x288 with 1 Axes>"
      ]
     },
     "metadata": {
      "needs_background": "light"
     },
     "output_type": "display_data"
    }
   ],
   "source": [
    "# here images is the physical black and white images\n",
    "\n",
    "plt.gray()\n",
    "for i in range(4):\n",
    "    plt.matshow(digit.images[i])"
   ]
  },
  {
   "cell_type": "code",
   "execution_count": 41,
   "id": "a38eb300",
   "metadata": {},
   "outputs": [
    {
     "data": {
      "text/plain": [
       "(array([0, 1, 2, 3]), (1797,))"
      ]
     },
     "execution_count": 41,
     "metadata": {},
     "output_type": "execute_result"
    }
   ],
   "source": [
    "# here target is the name/tag of the black and white images in train data\n",
    "# there are 1797 total test images and their respective tags here\n",
    "\n",
    "digit.target[:4] , digit.target.shape"
   ]
  },
  {
   "cell_type": "code",
   "execution_count": 42,
   "id": "1dad7ab7",
   "metadata": {},
   "outputs": [
    {
     "data": {
      "text/plain": [
       "(array([0, 1, 2, 3, 4, 5, 6, 7, 8, 9]), (10,))"
      ]
     },
     "execution_count": 42,
     "metadata": {},
     "output_type": "execute_result"
    }
   ],
   "source": [
    "# here target_names is the total number of unique tags/targets here like (0----9)\n",
    "\n",
    "digit.target_names[:] , digit.target_names.shape"
   ]
  },
  {
   "cell_type": "code",
   "execution_count": 60,
   "id": "6aeb0fd5",
   "metadata": {},
   "outputs": [],
   "source": [
    "x_train, x_test, y_train, y_test = train_test_split(digit.data , digit.target , test_size = 0.2)"
   ]
  },
  {
   "cell_type": "code",
   "execution_count": 61,
   "id": "52128bb1",
   "metadata": {},
   "outputs": [
    {
     "data": {
      "text/plain": [
       "LogisticRegression(max_iter=5000)"
      ]
     },
     "execution_count": 61,
     "metadata": {},
     "output_type": "execute_result"
    }
   ],
   "source": [
    "model = LogisticRegression(solver='lbfgs', max_iter = 5000)\n",
    "model.fit(x_train,y_train)"
   ]
  },
  {
   "cell_type": "code",
   "execution_count": 62,
   "id": "7eeeedee",
   "metadata": {},
   "outputs": [
    {
     "data": {
      "text/plain": [
       "0.9777777777777777"
      ]
     },
     "execution_count": 62,
     "metadata": {},
     "output_type": "execute_result"
    }
   ],
   "source": [
    "model.score(x_test,y_test)"
   ]
  },
  {
   "cell_type": "markdown",
   "id": "75badfd4",
   "metadata": {},
   "source": [
    "# Confusion matrix \n",
    "- way of vizualizing accuracy of model and its faults"
   ]
  },
  {
   "cell_type": "code",
   "execution_count": 63,
   "id": "27e9dd81",
   "metadata": {},
   "outputs": [],
   "source": [
    "from sklearn.metrics import confusion_matrix"
   ]
  },
  {
   "cell_type": "code",
   "execution_count": 64,
   "id": "c878bf94",
   "metadata": {},
   "outputs": [],
   "source": [
    "y_expected = y_test\n",
    "y_predicted = model.predict(x_test)"
   ]
  },
  {
   "cell_type": "code",
   "execution_count": 65,
   "id": "3328084a",
   "metadata": {},
   "outputs": [
    {
     "data": {
      "text/plain": [
       "array([[31,  0,  0,  0,  0,  0,  0,  0,  0,  0],\n",
       "       [ 0, 47,  0,  0,  0,  0,  0,  0,  1,  1],\n",
       "       [ 0,  0, 30,  0,  0,  0,  0,  0,  0,  0],\n",
       "       [ 0,  0,  0, 44,  0,  0,  0,  0,  0,  0],\n",
       "       [ 0,  0,  0,  0, 37,  0,  0,  1,  0,  0],\n",
       "       [ 0,  0,  0,  1,  0, 35,  0,  0,  0,  2],\n",
       "       [ 0,  1,  0,  0,  0,  0, 39,  0,  0,  0],\n",
       "       [ 0,  0,  0,  0,  0,  0,  0, 31,  0,  0],\n",
       "       [ 1,  0,  0,  0,  0,  0,  0,  0, 33,  0],\n",
       "       [ 0,  0,  0,  0,  0,  0,  0,  0,  0, 25]], dtype=int64)"
      ]
     },
     "execution_count": 65,
     "metadata": {},
     "output_type": "execute_result"
    }
   ],
   "source": [
    "cm = confusion_matrix(y_expected , y_predicted)\n",
    "cm"
   ]
  },
  {
   "cell_type": "markdown",
   "id": "a0496a02",
   "metadata": {},
   "source": [
    "### For better visualization"
   ]
  },
  {
   "cell_type": "code",
   "execution_count": 69,
   "id": "dda7fa71",
   "metadata": {},
   "outputs": [
    {
     "data": {
      "text/plain": [
       "Text(69.0, 0.5, 'Expected')"
      ]
     },
     "execution_count": 69,
     "metadata": {},
     "output_type": "execute_result"
    },
    {
     "data": {
      "image/png": "[encoded data removed]",
      "text/plain": [
       "<Figure size 720x504 with 2 Axes>"
      ]
     },
     "metadata": {
      "needs_background": "light"
     },
     "output_type": "display_data"
    }
   ],
   "source": [
    "import seaborn as sb\n",
    "\n",
    "plt.figure(figsize = (10,7))\n",
    "sb.heatmap(cm, annot = True)\n",
    "plt.xlabel('Predicted')\n",
    "plt.ylabel('Expected')"
   ]
  }
 ],
 "metadata": {
  "kernelspec": {
   "display_name": "Python 3",
   "language": "python",
   "name": "python3"
  },
  "language_info": {
   "codemirror_mode": {
    "name": "ipython",
    "version": 3
   },
   "file_extension": ".py",
   "mimetype": "text/x-python",
   "name": "python",
   "nbconvert_exporter": "python",
   "pygments_lexer": "ipython3",
   "version": "3.8.8"
  }
 },
 "nbformat": 4,
 "nbformat_minor": 5
}

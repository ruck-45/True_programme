{
 "cells": [
  {
   "cell_type": "code",
   "execution_count": 1,
   "id": "d9939bde",
   "metadata": {},
   "outputs": [],
   "source": [
    "import pandas as pd\n",
    "import numpy as np\n",
    "import seaborn as sns\n",
    "import matplotlib.pyplot as plt\n",
    "\n",
    "from sklearn.model_selection import train_test_split,KFold,StratifiedKFold,cross_val_score\n",
    "from sklearn.preprocessing import MinMaxScaler,StandardScaler\n",
    "\n",
    "from sklearn.linear_model import LogisticRegression\n",
    "from sklearn.svm import SVC\n",
    "from sklearn.tree import DecisionTreeClassifier\n",
    "from sklearn.ensemble import RandomForestClassifier\n",
    "from sklearn.naive_bayes import GaussianNB\n",
    "from sklearn.naive_bayes import MultinomialNB\n",
    "from sklearn.naive_bayes import BernoulliNB\n",
    "\n",
    "from sklearn.datasets import load_iris"
   ]
  },
  {
   "cell_type": "markdown",
   "id": "a6e87669",
   "metadata": {},
   "source": [
    "# Here we have Iris Dataset"
   ]
  },
  {
   "cell_type": "code",
   "execution_count": 2,
   "id": "b36d3605",
   "metadata": {},
   "outputs": [
    {
     "data": {
      "text/plain": [
       "dict_keys(['data', 'target', 'frame', 'target_names', 'DESCR', 'feature_names', 'filename'])"
      ]
     },
     "execution_count": 2,
     "metadata": {},
     "output_type": "execute_result"
    }
   ],
   "source": [
    "iris = load_iris()\n",
    "iris.keys()"
   ]
  },
  {
   "cell_type": "code",
   "execution_count": 3,
   "id": "1270120f",
   "metadata": {},
   "outputs": [
    {
     "data": {
      "text/html": [
       "<div>\n",
       "<style scoped>\n",
       "    .dataframe tbody tr th:only-of-type {\n",
       "        vertical-align: middle;\n",
       "    }\n",
       "\n",
       "    .dataframe tbody tr th {\n",
       "        vertical-align: top;\n",
       "    }\n",
       "\n",
       "    .dataframe thead th {\n",
       "        text-align: right;\n",
       "    }\n",
       "</style>\n",
       "<table border=\"1\" class=\"dataframe\">\n",
       "  <thead>\n",
       "    <tr style=\"text-align: right;\">\n",
       "      <th></th>\n",
       "      <th>sepal length (cm)</th>\n",
       "      <th>sepal width (cm)</th>\n",
       "      <th>petal length (cm)</th>\n",
       "      <th>petal width (cm)</th>\n",
       "    </tr>\n",
       "  </thead>\n",
       "  <tbody>\n",
       "    <tr>\n",
       "      <th>0</th>\n",
       "      <td>5.1</td>\n",
       "      <td>3.5</td>\n",
       "      <td>1.4</td>\n",
       "      <td>0.2</td>\n",
       "    </tr>\n",
       "    <tr>\n",
       "      <th>1</th>\n",
       "      <td>4.9</td>\n",
       "      <td>3.0</td>\n",
       "      <td>1.4</td>\n",
       "      <td>0.2</td>\n",
       "    </tr>\n",
       "    <tr>\n",
       "      <th>2</th>\n",
       "      <td>4.7</td>\n",
       "      <td>3.2</td>\n",
       "      <td>1.3</td>\n",
       "      <td>0.2</td>\n",
       "    </tr>\n",
       "    <tr>\n",
       "      <th>3</th>\n",
       "      <td>4.6</td>\n",
       "      <td>3.1</td>\n",
       "      <td>1.5</td>\n",
       "      <td>0.2</td>\n",
       "    </tr>\n",
       "    <tr>\n",
       "      <th>4</th>\n",
       "      <td>5.0</td>\n",
       "      <td>3.6</td>\n",
       "      <td>1.4</td>\n",
       "      <td>0.2</td>\n",
       "    </tr>\n",
       "  </tbody>\n",
       "</table>\n",
       "</div>"
      ],
      "text/plain": [
       "   sepal length (cm)  sepal width (cm)  petal length (cm)  petal width (cm)\n",
       "0                5.1               3.5                1.4               0.2\n",
       "1                4.9               3.0                1.4               0.2\n",
       "2                4.7               3.2                1.3               0.2\n",
       "3                4.6               3.1                1.5               0.2\n",
       "4                5.0               3.6                1.4               0.2"
      ]
     },
     "execution_count": 3,
     "metadata": {},
     "output_type": "execute_result"
    }
   ],
   "source": [
    "df = pd.DataFrame(iris.data, columns=iris.feature_names)\n",
    "df.head()"
   ]
  },
  {
   "cell_type": "markdown",
   "id": "d7b9ca12",
   "metadata": {},
   "source": [
    "# Normalization"
   ]
  },
  {
   "cell_type": "code",
   "execution_count": 4,
   "id": "33ebf90e",
   "metadata": {},
   "outputs": [
    {
     "data": {
      "text/html": [
       "<div>\n",
       "<style scoped>\n",
       "    .dataframe tbody tr th:only-of-type {\n",
       "        vertical-align: middle;\n",
       "    }\n",
       "\n",
       "    .dataframe tbody tr th {\n",
       "        vertical-align: top;\n",
       "    }\n",
       "\n",
       "    .dataframe thead th {\n",
       "        text-align: right;\n",
       "    }\n",
       "</style>\n",
       "<table border=\"1\" class=\"dataframe\">\n",
       "  <thead>\n",
       "    <tr style=\"text-align: right;\">\n",
       "      <th></th>\n",
       "      <th>sepal length (cm)</th>\n",
       "      <th>sepal width (cm)</th>\n",
       "      <th>petal length (cm)</th>\n",
       "      <th>petal width (cm)</th>\n",
       "    </tr>\n",
       "  </thead>\n",
       "  <tbody>\n",
       "    <tr>\n",
       "      <th>0</th>\n",
       "      <td>0.222222</td>\n",
       "      <td>0.625000</td>\n",
       "      <td>0.067797</td>\n",
       "      <td>0.041667</td>\n",
       "    </tr>\n",
       "    <tr>\n",
       "      <th>1</th>\n",
       "      <td>0.166667</td>\n",
       "      <td>0.416667</td>\n",
       "      <td>0.067797</td>\n",
       "      <td>0.041667</td>\n",
       "    </tr>\n",
       "    <tr>\n",
       "      <th>2</th>\n",
       "      <td>0.111111</td>\n",
       "      <td>0.500000</td>\n",
       "      <td>0.050847</td>\n",
       "      <td>0.041667</td>\n",
       "    </tr>\n",
       "    <tr>\n",
       "      <th>3</th>\n",
       "      <td>0.083333</td>\n",
       "      <td>0.458333</td>\n",
       "      <td>0.084746</td>\n",
       "      <td>0.041667</td>\n",
       "    </tr>\n",
       "    <tr>\n",
       "      <th>4</th>\n",
       "      <td>0.194444</td>\n",
       "      <td>0.666667</td>\n",
       "      <td>0.067797</td>\n",
       "      <td>0.041667</td>\n",
       "    </tr>\n",
       "  </tbody>\n",
       "</table>\n",
       "</div>"
      ],
      "text/plain": [
       "   sepal length (cm)  sepal width (cm)  petal length (cm)  petal width (cm)\n",
       "0           0.222222          0.625000           0.067797          0.041667\n",
       "1           0.166667          0.416667           0.067797          0.041667\n",
       "2           0.111111          0.500000           0.050847          0.041667\n",
       "3           0.083333          0.458333           0.084746          0.041667\n",
       "4           0.194444          0.666667           0.067797          0.041667"
      ]
     },
     "execution_count": 4,
     "metadata": {},
     "output_type": "execute_result"
    }
   ],
   "source": [
    "scaler = MinMaxScaler()\n",
    "df2 = pd.DataFrame(scaler.fit_transform(df),columns=df.columns)\n",
    "df2.head()"
   ]
  },
  {
   "cell_type": "markdown",
   "id": "9d74ac01",
   "metadata": {},
   "source": [
    "# Choosing The Best Base Algorithm for Iris Dataset Using Cross_Val_Score\n",
    "- Random Forest came out to be the best algorithm for iris classification\n",
    "- But For Demonsration purposes we are taking SVM as the base classifier as it has the most variations of parameters"
   ]
  },
  {
   "cell_type": "code",
   "execution_count": 13,
   "id": "cbffaa19",
   "metadata": {},
   "outputs": [
    {
     "data": {
      "text/html": [
       "<div>\n",
       "<style scoped>\n",
       "    .dataframe tbody tr th:only-of-type {\n",
       "        vertical-align: middle;\n",
       "    }\n",
       "\n",
       "    .dataframe tbody tr th {\n",
       "        vertical-align: top;\n",
       "    }\n",
       "\n",
       "    .dataframe thead th {\n",
       "        text-align: right;\n",
       "    }\n",
       "</style>\n",
       "<table border=\"1\" class=\"dataframe\">\n",
       "  <thead>\n",
       "    <tr style=\"text-align: right;\">\n",
       "      <th></th>\n",
       "      <th>Classifires</th>\n",
       "      <th>mean_scores</th>\n",
       "    </tr>\n",
       "  </thead>\n",
       "  <tbody>\n",
       "    <tr>\n",
       "      <th>0</th>\n",
       "      <td>Logistic_Regression</td>\n",
       "      <td>0.927632</td>\n",
       "    </tr>\n",
       "    <tr>\n",
       "      <th>1</th>\n",
       "      <td>SVM</td>\n",
       "      <td>0.953947</td>\n",
       "    </tr>\n",
       "    <tr>\n",
       "      <th>2</th>\n",
       "      <td>Decision_tree</td>\n",
       "      <td>0.960526</td>\n",
       "    </tr>\n",
       "    <tr>\n",
       "      <th>3</th>\n",
       "      <td>Random_Forest</td>\n",
       "      <td>0.960526</td>\n",
       "    </tr>\n",
       "    <tr>\n",
       "      <th>4</th>\n",
       "      <td>Gaussian_NB</td>\n",
       "      <td>0.953947</td>\n",
       "    </tr>\n",
       "    <tr>\n",
       "      <th>5</th>\n",
       "      <td>Multinomial_NB</td>\n",
       "      <td>0.714547</td>\n",
       "    </tr>\n",
       "    <tr>\n",
       "      <th>6</th>\n",
       "      <td>Bernaulli_NB</td>\n",
       "      <td>0.353070</td>\n",
       "    </tr>\n",
       "  </tbody>\n",
       "</table>\n",
       "</div>"
      ],
      "text/plain": [
       "           Classifires  mean_scores\n",
       "0  Logistic_Regression     0.927632\n",
       "1                  SVM     0.953947\n",
       "2        Decision_tree     0.960526\n",
       "3        Random_Forest     0.960526\n",
       "4          Gaussian_NB     0.953947\n",
       "5       Multinomial_NB     0.714547\n",
       "6         Bernaulli_NB     0.353070"
      ]
     },
     "execution_count": 13,
     "metadata": {},
     "output_type": "execute_result"
    }
   ],
   "source": [
    "classifier_names = ['Logistic_Regression','SVM','Decision_tree','Random_Forest','Gaussian_NB','Multinomial_NB','Bernaulli_NB']\n",
    "\n",
    "mean_scores = [cross_val_score(LogisticRegression(),df2,iris.target,cv = 8).mean(),\n",
    "cross_val_score(SVC(),df2,iris.target,cv = 8).mean(),\n",
    "cross_val_score(DecisionTreeClassifier(),df2,iris.target,cv = 8).mean(),\n",
    "cross_val_score(RandomForestClassifier(),df2,iris.target,cv = 8).mean(),\n",
    "cross_val_score(GaussianNB(),df2,iris.target,cv = 8).mean(),\n",
    "cross_val_score(MultinomialNB(),df2,iris.target,cv = 8).mean(),\n",
    "cross_val_score(BernoulliNB(),df2,iris.target,cv = 8).mean()]\n",
    "\n",
    "mean_score_list = pd.DataFrame({})\n",
    "mean_score_list['Classifires'] = classifier_names\n",
    "mean_score_list['mean_scores'] = mean_scores\n",
    "mean_score_list"
   ]
  },
  {
   "cell_type": "markdown",
   "id": "c31877e0",
   "metadata": {},
   "source": [
    "# But SVM has a lot of parameters, How will we know the optimal parameter to Use?"
   ]
  },
  {
   "cell_type": "markdown",
   "id": "76490f4a",
   "metadata": {},
   "source": [
    "## # We can use looping to try every comination of parameters and calculate the cross val scores\n",
    "\n",
    "- From Lower loop we can see that SVm with, kernel = 'rbf' and C = 3 gives the best result"
   ]
  },
  {
   "cell_type": "code",
   "execution_count": 16,
   "id": "4c01f669",
   "metadata": {},
   "outputs": [
    {
     "name": "stdout",
     "output_type": "stream",
     "text": [
      "rbf__1 : 0.9600000000000002\n",
      "rbf__2 : 0.9666666666666668\n",
      "rbf__3 : 0.9733333333333334\n",
      "rbf__4 : 0.9733333333333334\n",
      "rbf__5 : 0.9733333333333334\n",
      "linear__1 : 0.9666666666666666\n",
      "linear__2 : 0.9733333333333334\n",
      "linear__3 : 0.9666666666666668\n",
      "linear__4 : 0.9666666666666668\n",
      "linear__5 : 0.9666666666666668\n",
      "poly__1 : 0.96\n",
      "poly__2 : 0.9533333333333334\n",
      "poly__3 : 0.96\n",
      "poly__4 : 0.9533333333333334\n",
      "poly__5 : 0.9533333333333334\n",
      "sigmoid__1 : 0.28\n",
      "sigmoid__2 : 0.24\n",
      "sigmoid__3 : 0.22666666666666666\n",
      "sigmoid__4 : 0.22666666666666666\n",
      "sigmoid__5 : 0.22666666666666666\n"
     ]
    }
   ],
   "source": [
    "C = [1,2,3,4,5]\n",
    "Kernel = ['rbf','linear','poly','sigmoid']\n",
    "\n",
    "for j in Kernel:\n",
    "    for i in C:\n",
    "        print(f'{j}__{i} : {cross_val_score(SVC(kernel=j,C = i),df2,iris.target,cv = 5).mean()}')"
   ]
  },
  {
   "cell_type": "markdown",
   "id": "4c85cbea",
   "metadata": {},
   "source": [
    "# GridSearchCV - does the work of driver code for us\n",
    "- it uses cross val score"
   ]
  },
  {
   "cell_type": "code",
   "execution_count": 17,
   "id": "afaf5132",
   "metadata": {},
   "outputs": [],
   "source": [
    "from sklearn.model_selection import GridSearchCV"
   ]
  },
  {
   "cell_type": "code",
   "execution_count": 19,
   "id": "298abda0",
   "metadata": {},
   "outputs": [
    {
     "data": {
      "text/plain": [
       "GridSearchCV(cv=5, estimator=SVC(),\n",
       "             param_grid={'C': [1, 2, 3, 4, 5],\n",
       "                         'kernel': ['rbf', 'linear', 'poly', 'sigmoid']})"
      ]
     },
     "execution_count": 19,
     "metadata": {},
     "output_type": "execute_result"
    }
   ],
   "source": [
    "gscv_svm = GridSearchCV(SVC(),{\n",
    "    'C' : [1,2,3,4,5],\n",
    "    'kernel' : ['rbf','linear','poly','sigmoid']\n",
    "}, cv = 5)\n",
    "\n",
    "gscv_svm.fit(df2,iris.target)"
   ]
  },
  {
   "cell_type": "code",
   "execution_count": 23,
   "id": "db9dcecd",
   "metadata": {
    "scrolled": false
   },
   "outputs": [
    {
     "data": {
      "text/html": [
       "<div>\n",
       "<style scoped>\n",
       "    .dataframe tbody tr th:only-of-type {\n",
       "        vertical-align: middle;\n",
       "    }\n",
       "\n",
       "    .dataframe tbody tr th {\n",
       "        vertical-align: top;\n",
       "    }\n",
       "\n",
       "    .dataframe thead th {\n",
       "        text-align: right;\n",
       "    }\n",
       "</style>\n",
       "<table border=\"1\" class=\"dataframe\">\n",
       "  <thead>\n",
       "    <tr style=\"text-align: right;\">\n",
       "      <th></th>\n",
       "      <th>param_C</th>\n",
       "      <th>param_kernel</th>\n",
       "      <th>mean_test_score</th>\n",
       "    </tr>\n",
       "  </thead>\n",
       "  <tbody>\n",
       "    <tr>\n",
       "      <th>0</th>\n",
       "      <td>1</td>\n",
       "      <td>rbf</td>\n",
       "      <td>0.960000</td>\n",
       "    </tr>\n",
       "    <tr>\n",
       "      <th>1</th>\n",
       "      <td>1</td>\n",
       "      <td>linear</td>\n",
       "      <td>0.966667</td>\n",
       "    </tr>\n",
       "    <tr>\n",
       "      <th>2</th>\n",
       "      <td>1</td>\n",
       "      <td>poly</td>\n",
       "      <td>0.960000</td>\n",
       "    </tr>\n",
       "    <tr>\n",
       "      <th>3</th>\n",
       "      <td>1</td>\n",
       "      <td>sigmoid</td>\n",
       "      <td>0.280000</td>\n",
       "    </tr>\n",
       "    <tr>\n",
       "      <th>4</th>\n",
       "      <td>2</td>\n",
       "      <td>rbf</td>\n",
       "      <td>0.966667</td>\n",
       "    </tr>\n",
       "    <tr>\n",
       "      <th>5</th>\n",
       "      <td>2</td>\n",
       "      <td>linear</td>\n",
       "      <td>0.973333</td>\n",
       "    </tr>\n",
       "    <tr>\n",
       "      <th>6</th>\n",
       "      <td>2</td>\n",
       "      <td>poly</td>\n",
       "      <td>0.953333</td>\n",
       "    </tr>\n",
       "    <tr>\n",
       "      <th>7</th>\n",
       "      <td>2</td>\n",
       "      <td>sigmoid</td>\n",
       "      <td>0.240000</td>\n",
       "    </tr>\n",
       "    <tr>\n",
       "      <th>8</th>\n",
       "      <td>3</td>\n",
       "      <td>rbf</td>\n",
       "      <td>0.973333</td>\n",
       "    </tr>\n",
       "    <tr>\n",
       "      <th>9</th>\n",
       "      <td>3</td>\n",
       "      <td>linear</td>\n",
       "      <td>0.966667</td>\n",
       "    </tr>\n",
       "    <tr>\n",
       "      <th>10</th>\n",
       "      <td>3</td>\n",
       "      <td>poly</td>\n",
       "      <td>0.960000</td>\n",
       "    </tr>\n",
       "    <tr>\n",
       "      <th>11</th>\n",
       "      <td>3</td>\n",
       "      <td>sigmoid</td>\n",
       "      <td>0.226667</td>\n",
       "    </tr>\n",
       "    <tr>\n",
       "      <th>12</th>\n",
       "      <td>4</td>\n",
       "      <td>rbf</td>\n",
       "      <td>0.973333</td>\n",
       "    </tr>\n",
       "    <tr>\n",
       "      <th>13</th>\n",
       "      <td>4</td>\n",
       "      <td>linear</td>\n",
       "      <td>0.966667</td>\n",
       "    </tr>\n",
       "    <tr>\n",
       "      <th>14</th>\n",
       "      <td>4</td>\n",
       "      <td>poly</td>\n",
       "      <td>0.953333</td>\n",
       "    </tr>\n",
       "    <tr>\n",
       "      <th>15</th>\n",
       "      <td>4</td>\n",
       "      <td>sigmoid</td>\n",
       "      <td>0.226667</td>\n",
       "    </tr>\n",
       "    <tr>\n",
       "      <th>16</th>\n",
       "      <td>5</td>\n",
       "      <td>rbf</td>\n",
       "      <td>0.973333</td>\n",
       "    </tr>\n",
       "    <tr>\n",
       "      <th>17</th>\n",
       "      <td>5</td>\n",
       "      <td>linear</td>\n",
       "      <td>0.966667</td>\n",
       "    </tr>\n",
       "    <tr>\n",
       "      <th>18</th>\n",
       "      <td>5</td>\n",
       "      <td>poly</td>\n",
       "      <td>0.953333</td>\n",
       "    </tr>\n",
       "    <tr>\n",
       "      <th>19</th>\n",
       "      <td>5</td>\n",
       "      <td>sigmoid</td>\n",
       "      <td>0.226667</td>\n",
       "    </tr>\n",
       "  </tbody>\n",
       "</table>\n",
       "</div>"
      ],
      "text/plain": [
       "   param_C param_kernel  mean_test_score\n",
       "0        1          rbf         0.960000\n",
       "1        1       linear         0.966667\n",
       "2        1         poly         0.960000\n",
       "3        1      sigmoid         0.280000\n",
       "4        2          rbf         0.966667\n",
       "5        2       linear         0.973333\n",
       "6        2         poly         0.953333\n",
       "7        2      sigmoid         0.240000\n",
       "8        3          rbf         0.973333\n",
       "9        3       linear         0.966667\n",
       "10       3         poly         0.960000\n",
       "11       3      sigmoid         0.226667\n",
       "12       4          rbf         0.973333\n",
       "13       4       linear         0.966667\n",
       "14       4         poly         0.953333\n",
       "15       4      sigmoid         0.226667\n",
       "16       5          rbf         0.973333\n",
       "17       5       linear         0.966667\n",
       "18       5         poly         0.953333\n",
       "19       5      sigmoid         0.226667"
      ]
     },
     "execution_count": 23,
     "metadata": {},
     "output_type": "execute_result"
    }
   ],
   "source": [
    "pd.DataFrame(gscv_svm.cv_results_)[['param_C','param_kernel','mean_test_score']]"
   ]
  },
  {
   "cell_type": "code",
   "execution_count": 27,
   "id": "7fc0f513",
   "metadata": {},
   "outputs": [
    {
     "data": {
      "text/plain": [
       "0.9733333333333334"
      ]
     },
     "execution_count": 27,
     "metadata": {},
     "output_type": "execute_result"
    }
   ],
   "source": [
    "# best score\n",
    "gscv_svm.best_score_"
   ]
  },
  {
   "cell_type": "code",
   "execution_count": 28,
   "id": "6cd9ccf7",
   "metadata": {},
   "outputs": [
    {
     "data": {
      "text/plain": [
       "{'C': 2, 'kernel': 'linear'}"
      ]
     },
     "execution_count": 28,
     "metadata": {},
     "output_type": "execute_result"
    }
   ],
   "source": [
    "# best parameters\n",
    "gscv_svm.best_params_"
   ]
  },
  {
   "cell_type": "markdown",
   "id": "e0bc2cf3",
   "metadata": {},
   "source": [
    "# RandomizedSearchCV\n",
    "- GridSearchCV used every possible permutation and combination of our paramteres and finds out the mean score\n",
    "- But when our parameters are numerous and their individual sizes are also huge, GridSearchCV will use a lot of computing power and time to find out the best possible HyperParameters, which is completely impractical\n",
    "- To speed up the process, we use RandomizedSearchCV\n",
    "- It does the same work as GridSearchCV, but instead of trying out all possible combinations of tha data, it takes random values of the parameters and finds mean scors of them"
   ]
  },
  {
   "cell_type": "markdown",
   "id": "59bd7af9",
   "metadata": {},
   "source": [
    "- n_iter parameter determines the number of times RandomizedSearchCV tries out different combinations"
   ]
  },
  {
   "cell_type": "code",
   "execution_count": 31,
   "id": "73d3206c",
   "metadata": {},
   "outputs": [],
   "source": [
    "from sklearn.model_selection import RandomizedSearchCV"
   ]
  },
  {
   "cell_type": "code",
   "execution_count": 35,
   "id": "914f21de",
   "metadata": {},
   "outputs": [
    {
     "data": {
      "text/plain": [
       "RandomizedSearchCV(cv=10, estimator=SVC(),\n",
       "                   param_distributions={'C': array([1, 2, 3, 4, 5, 6, 7, 8, 9]),\n",
       "                                        'kernel': ['rbf', 'linear', 'poly',\n",
       "                                                   'sigmoid']})"
      ]
     },
     "execution_count": 35,
     "metadata": {},
     "output_type": "execute_result"
    }
   ],
   "source": [
    "rscv_svm = RandomizedSearchCV(SVC(),{\n",
    "    'C' : np.arange(1,10),\n",
    "    'kernel' : ['rbf','linear','poly','sigmoid']\n",
    "}, cv = 10, n_iter=10)\n",
    "\n",
    "rscv_svm.fit(df2, iris.target)"
   ]
  },
  {
   "cell_type": "code",
   "execution_count": 36,
   "id": "aaa4a305",
   "metadata": {},
   "outputs": [
    {
     "data": {
      "text/html": [
       "<div>\n",
       "<style scoped>\n",
       "    .dataframe tbody tr th:only-of-type {\n",
       "        vertical-align: middle;\n",
       "    }\n",
       "\n",
       "    .dataframe tbody tr th {\n",
       "        vertical-align: top;\n",
       "    }\n",
       "\n",
       "    .dataframe thead th {\n",
       "        text-align: right;\n",
       "    }\n",
       "</style>\n",
       "<table border=\"1\" class=\"dataframe\">\n",
       "  <thead>\n",
       "    <tr style=\"text-align: right;\">\n",
       "      <th></th>\n",
       "      <th>param_C</th>\n",
       "      <th>param_kernel</th>\n",
       "      <th>mean_test_score</th>\n",
       "    </tr>\n",
       "  </thead>\n",
       "  <tbody>\n",
       "    <tr>\n",
       "      <th>0</th>\n",
       "      <td>2</td>\n",
       "      <td>linear</td>\n",
       "      <td>0.973333</td>\n",
       "    </tr>\n",
       "    <tr>\n",
       "      <th>1</th>\n",
       "      <td>9</td>\n",
       "      <td>linear</td>\n",
       "      <td>0.973333</td>\n",
       "    </tr>\n",
       "    <tr>\n",
       "      <th>2</th>\n",
       "      <td>3</td>\n",
       "      <td>linear</td>\n",
       "      <td>0.973333</td>\n",
       "    </tr>\n",
       "    <tr>\n",
       "      <th>3</th>\n",
       "      <td>6</td>\n",
       "      <td>linear</td>\n",
       "      <td>0.973333</td>\n",
       "    </tr>\n",
       "    <tr>\n",
       "      <th>4</th>\n",
       "      <td>8</td>\n",
       "      <td>linear</td>\n",
       "      <td>0.973333</td>\n",
       "    </tr>\n",
       "    <tr>\n",
       "      <th>5</th>\n",
       "      <td>6</td>\n",
       "      <td>rbf</td>\n",
       "      <td>0.966667</td>\n",
       "    </tr>\n",
       "    <tr>\n",
       "      <th>6</th>\n",
       "      <td>4</td>\n",
       "      <td>sigmoid</td>\n",
       "      <td>0.220000</td>\n",
       "    </tr>\n",
       "    <tr>\n",
       "      <th>7</th>\n",
       "      <td>6</td>\n",
       "      <td>sigmoid</td>\n",
       "      <td>0.220000</td>\n",
       "    </tr>\n",
       "    <tr>\n",
       "      <th>8</th>\n",
       "      <td>2</td>\n",
       "      <td>rbf</td>\n",
       "      <td>0.966667</td>\n",
       "    </tr>\n",
       "    <tr>\n",
       "      <th>9</th>\n",
       "      <td>1</td>\n",
       "      <td>linear</td>\n",
       "      <td>0.966667</td>\n",
       "    </tr>\n",
       "  </tbody>\n",
       "</table>\n",
       "</div>"
      ],
      "text/plain": [
       "  param_C param_kernel  mean_test_score\n",
       "0       2       linear         0.973333\n",
       "1       9       linear         0.973333\n",
       "2       3       linear         0.973333\n",
       "3       6       linear         0.973333\n",
       "4       8       linear         0.973333\n",
       "5       6          rbf         0.966667\n",
       "6       4      sigmoid         0.220000\n",
       "7       6      sigmoid         0.220000\n",
       "8       2          rbf         0.966667\n",
       "9       1       linear         0.966667"
      ]
     },
     "execution_count": 36,
     "metadata": {},
     "output_type": "execute_result"
    }
   ],
   "source": [
    "pd.DataFrame(rscv_svm.cv_results_)[['param_C','param_kernel','mean_test_score']]"
   ]
  },
  {
   "cell_type": "code",
   "execution_count": 37,
   "id": "0faf3a3b",
   "metadata": {},
   "outputs": [
    {
     "data": {
      "text/plain": [
       "0.9733333333333334"
      ]
     },
     "execution_count": 37,
     "metadata": {},
     "output_type": "execute_result"
    }
   ],
   "source": [
    "rscv_svm.best_score_"
   ]
  },
  {
   "cell_type": "code",
   "execution_count": 38,
   "id": "9b5b9617",
   "metadata": {},
   "outputs": [
    {
     "data": {
      "text/plain": [
       "{'kernel': 'linear', 'C': 2}"
      ]
     },
     "execution_count": 38,
     "metadata": {},
     "output_type": "execute_result"
    }
   ],
   "source": [
    "rscv_svm.best_params_"
   ]
  },
  {
   "cell_type": "markdown",
   "id": "6efac25e",
   "metadata": {},
   "source": [
    "# Choosing The Best model and Doing Hyper Tuning Simultaneously"
   ]
  },
  {
   "cell_type": "code",
   "execution_count": 39,
   "id": "08c3be9f",
   "metadata": {},
   "outputs": [],
   "source": [
    "algos = {\n",
    "    'Logistic_Regression' : [LogisticRegression(max_iter=1000),{\n",
    "        'C' : np.arange(1,10)\n",
    "    }],\n",
    "    'SVM' : [SVC(),{\n",
    "        'C' : np.arange(1,10),\n",
    "        'kernel' : ['rbf','linear','poly','sigmoid']\n",
    "    }],\n",
    "    'DescisionTree' : [DecisionTreeClassifier(),{\n",
    "        'criterion' : ['gini','entropy']\n",
    "    }],\n",
    "    'RandomForest' : [RandomForestClassifier(),{\n",
    "        'criterion' : ['gini','entropy'],\n",
    "        'n_estimators' : np.arange(100,500,50)\n",
    "    }] \n",
    "}"
   ]
  },
  {
   "cell_type": "code",
   "execution_count": 45,
   "id": "78328fb1",
   "metadata": {},
   "outputs": [],
   "source": [
    "algorithm = []\n",
    "best_parameters = []\n",
    "best_score = []\n",
    "\n",
    "for i,j in algos.items():\n",
    "    gscv = GridSearchCV(j[0],j[1],cv = 10)\n",
    "    gscv.fit(df2,iris.target)\n",
    "    \n",
    "    algorithm.append(i)\n",
    "    best_score.append(gscv.best_score_)\n",
    "    best_parameters.append(gscv.best_params_)"
   ]
  },
  {
   "cell_type": "code",
   "execution_count": 46,
   "id": "7e266a03",
   "metadata": {},
   "outputs": [
    {
     "name": "stdout",
     "output_type": "stream",
     "text": [
      "Logistic_Regression---{'C': 3}---0.96\n",
      "SVM---{'C': 1, 'kernel': 'poly'}---0.9733333333333334\n",
      "DescisionTree---{'criterion': 'gini'}---0.9533333333333334\n",
      "RandomForest---{'criterion': 'gini', 'n_estimators': 200}---0.9666666666666666\n"
     ]
    }
   ],
   "source": [
    "for i in range(4):\n",
    "    print(f'{algorithm[i]}---{best_parameters[i]}---{best_score[i]}')"
   ]
  }
 ],
 "metadata": {
  "kernelspec": {
   "display_name": "Python 3",
   "language": "python",
   "name": "python3"
  },
  "language_info": {
   "codemirror_mode": {
    "name": "ipython",
    "version": 3
   },
   "file_extension": ".py",
   "mimetype": "text/x-python",
   "name": "python",
   "nbconvert_exporter": "python",
   "pygments_lexer": "ipython3",
   "version": "3.8.8"
  }
 },
 "nbformat": 4,
 "nbformat_minor": 5
}

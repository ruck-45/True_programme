{
 "cells": [
  {
   "cell_type": "code",
   "execution_count": 1,
   "id": "a0ac7ab8",
   "metadata": {},
   "outputs": [],
   "source": [
    "import re"
   ]
  },
  {
   "cell_type": "markdown",
   "id": "2caa2048",
   "metadata": {},
   "source": [
    "# Meta charecters\n",
    "- These charecters have special functions/meaning in the library\n",
    "- meta charecter cheat sheet :-\n",
    "    - . : Any charecter ( except new line charecter )\n",
    "    - ^ : Start with ( \" ^hello \" )\n",
    "    - \\\\$ : Ends with ( \" bye\\\\$ \")\n",
    "    - \\* : Zero or more occurances ( \" six* \" )\n",
    "    - \\+ : One or more occurances ( \" six+ \" )\n",
    "    - { } : Exactly the specified number of occurances ( \" x{4} \" )\n",
    "    - \\[ \\] : A set of charecters ( \" [a-zA-Z0-9] \" )\n",
    "    - \\ : To use Special sequences or to use Meta charecters as ordinary charecters\n",
    "        - ' \\d\\d ' ( Special Sequences )\n",
    "        - ' \\.com ' ( Using Meta charecters as ordinary charecters )\n",
    "    - | : Either or ( for imposing conditions , \" Mr|Mrs \" )\n",
    "    - ( ) : Capture and Group\n",
    "    - ? : optional ( \"www?\" )"
   ]
  },
  {
   "cell_type": "markdown",
   "id": "a4177352",
   "metadata": {},
   "source": [
    "# Quantifiers\n",
    "- Among all meta charecters, some of them are quantifires\n",
    "- The Quantifiers are : \n",
    "    - \\* : 0 or more\n",
    "    - \\+ : 1 or more \n",
    "    - ? : 0 or 1, ( Optional charecter )    \n",
    "    - {x} : Exactly the specified number of occurances\n",
    "    - {min, max} : Range of occurances\n"
   ]
  },
  {
   "cell_type": "markdown",
   "id": "0d314be5",
   "metadata": {},
   "source": [
    "### # *\n",
    "- Zero or more occurances"
   ]
  },
  {
   "cell_type": "code",
   "execution_count": 26,
   "id": "b3ba0bda",
   "metadata": {},
   "outputs": [
    {
     "name": "stdout",
     "output_type": "stream",
     "text": [
      "<re.Match object; span=(0, 4), match='Dear'>\n",
      "<re.Match object; span=(5, 8), match='Ear'>\n",
      "<re.Match object; span=(9, 13), match='Bear'>\n",
      "<re.Match object; span=(14, 18), match='care'>\n",
      "<re.Match object; span=(24, 27), match='are'>\n",
      "<re.Match object; span=(28, 35), match='similar'>\n"
     ]
    }
   ],
   "source": [
    "string = 'Dear Ear Bear care mere are similar sounding.'\n",
    "\n",
    "pattern = re.compile(r'\\w*ar\\w*')\n",
    "for i in pattern.finditer(string):\n",
    "    print(i)"
   ]
  },
  {
   "cell_type": "markdown",
   "id": "e3fd1f8d",
   "metadata": {},
   "source": [
    "### # +\n",
    "- Occurances At last One or More"
   ]
  },
  {
   "cell_type": "code",
   "execution_count": 29,
   "id": "e4223d67",
   "metadata": {},
   "outputs": [
    {
     "name": "stdout",
     "output_type": "stream",
     "text": [
      "<re.Match object; span=(14, 18), match='care'>\n"
     ]
    }
   ],
   "source": [
    "string = 'Dear Ear Bear care mere are similar sounding.'\n",
    "\n",
    "pattern = re.compile(r'\\w+ar\\w+')\n",
    "for i in pattern.finditer(string):\n",
    "    print(i)"
   ]
  },
  {
   "cell_type": "markdown",
   "id": "ac300806",
   "metadata": {},
   "source": [
    "### # { }\n",
    "- To specify the number of occurances"
   ]
  },
  {
   "cell_type": "code",
   "execution_count": 42,
   "id": "d28e250d",
   "metadata": {},
   "outputs": [
    {
     "name": "stdout",
     "output_type": "stream",
     "text": [
      "<re.Match object; span=(19, 25), match=' 5564 '>\n",
      "<re.Match object; span=(49, 55), match=' 6562 '>\n",
      "<re.Match object; span=(76, 82), match=' 5131 '>\n",
      "<re.Match object; span=(101, 107), match=' 8462 '>\n"
     ]
    }
   ],
   "source": [
    "string  = 'name : abc12, pin : 5564 ; name : asc65451, pin : 6562 ;  name : axr2, pin : 5131 ; name : adw, pin : 8462 ;'\n",
    "\n",
    "# Extracting pin\n",
    "\n",
    "# pattern = re.compile(r'\\d\\d\\d\\d')\n",
    "pattern = re.compile(r'\\s\\d{4}\\s')\n",
    "\n",
    "for i in pattern.finditer(string):\n",
    "    print(i)"
   ]
  },
  {
   "cell_type": "code",
   "execution_count": 43,
   "id": "d708fdf3",
   "metadata": {
    "scrolled": true
   },
   "outputs": [
    {
     "name": "stdout",
     "output_type": "stream",
     "text": [
      "<re.Match object; span=(10, 12), match='12'>\n",
      "<re.Match object; span=(20, 24), match='5564'>\n",
      "<re.Match object; span=(37, 42), match='65451'>\n",
      "<re.Match object; span=(50, 54), match='6562'>\n",
      "<re.Match object; span=(68, 69), match='2'>\n",
      "<re.Match object; span=(77, 81), match='5131'>\n",
      "<re.Match object; span=(102, 106), match='8462'>\n"
     ]
    }
   ],
   "source": [
    "# Extracting all number sequences\n",
    "\n",
    "pattern = re.compile(r'\\d{1,5}')\n",
    "\n",
    "for i in pattern.finditer(string):\n",
    "    print(i)"
   ]
  },
  {
   "cell_type": "markdown",
   "id": "2ab50dac",
   "metadata": {},
   "source": [
    "### # ?\n",
    "- 0 or 1, ( Optional charecter )"
   ]
  },
  {
   "cell_type": "code",
   "execution_count": 62,
   "id": "78cafe97",
   "metadata": {},
   "outputs": [
    {
     "name": "stdout",
     "output_type": "stream",
     "text": [
      "<re.Match object; span=(6, 8), match='_2'>\n",
      "<re.Match object; span=(8, 10), match='_3'>\n",
      "<re.Match object; span=(14, 16), match='_7'>\n"
     ]
    }
   ],
   "source": [
    "string = '123_ 1_2_3 456_789'\n",
    "\n",
    "pattern = re.compile(r'_\\d')\n",
    "for i in pattern.finditer(string):\n",
    "    print(i)"
   ]
  },
  {
   "cell_type": "code",
   "execution_count": 63,
   "id": "1f981492",
   "metadata": {},
   "outputs": [
    {
     "name": "stdout",
     "output_type": "stream",
     "text": [
      "<re.Match object; span=(0, 1), match='1'>\n",
      "<re.Match object; span=(1, 2), match='2'>\n",
      "<re.Match object; span=(2, 3), match='3'>\n",
      "<re.Match object; span=(5, 6), match='1'>\n",
      "<re.Match object; span=(6, 8), match='_2'>\n",
      "<re.Match object; span=(8, 10), match='_3'>\n",
      "<re.Match object; span=(11, 12), match='4'>\n",
      "<re.Match object; span=(12, 13), match='5'>\n",
      "<re.Match object; span=(13, 14), match='6'>\n",
      "<re.Match object; span=(14, 16), match='_7'>\n",
      "<re.Match object; span=(16, 17), match='8'>\n",
      "<re.Match object; span=(17, 18), match='9'>\n"
     ]
    }
   ],
   "source": [
    "# treating '_' as an optional charecter\n",
    "\n",
    "pattern = re.compile(r'_?\\d')\n",
    "for i in pattern.finditer(string):\n",
    "    print(i)"
   ]
  },
  {
   "cell_type": "markdown",
   "id": "b5a2f0aa",
   "metadata": {},
   "source": [
    "# Other Meta Charecters"
   ]
  },
  {
   "cell_type": "markdown",
   "id": "bf7fa21e",
   "metadata": {},
   "source": [
    "###  # .\n",
    "- Selects any single charecter except new line"
   ]
  },
  {
   "cell_type": "code",
   "execution_count": 10,
   "id": "1b85f4fe",
   "metadata": {},
   "outputs": [
    {
     "name": "stdout",
     "output_type": "stream",
     "text": [
      "Hello user abc123aBc12.\n",
      "Welcome !\n"
     ]
    }
   ],
   "source": [
    "string = 'Hello user abc123aBc12.\\nWelcome !'\n",
    "print(string)"
   ]
  },
  {
   "cell_type": "code",
   "execution_count": 11,
   "id": "84d51af8",
   "metadata": {},
   "outputs": [
    {
     "name": "stdout",
     "output_type": "stream",
     "text": [
      "['H', 'e', 'l', 'l', 'o', ' ', 'u', 's', 'e', 'r', ' ', 'a', 'b', 'c', '1', '2', '3', 'a', 'B', 'c', '1', '2', '.', 'W', 'e', 'l', 'c', 'o', 'm', 'e', ' ', '!']\n"
     ]
    }
   ],
   "source": [
    "pattern = re.compile(r'.')\n",
    "arr = [i for i in pattern.findall(string)]\n",
    "print(arr)"
   ]
  },
  {
   "cell_type": "code",
   "execution_count": 14,
   "id": "c52adbc7",
   "metadata": {},
   "outputs": [
    {
     "data": {
      "text/plain": [
       "[<re.Match object; span=(11, 14), match='abc'>,\n",
       " <re.Match object; span=(17, 20), match='aBc'>]"
      ]
     },
     "execution_count": 14,
     "metadata": {},
     "output_type": "execute_result"
    }
   ],
   "source": [
    "pattern = re.compile(r'a.c')\n",
    "arr = [i for i in pattern.finditer(string)]\n",
    "arr"
   ]
  },
  {
   "cell_type": "markdown",
   "id": "2b5e9e45",
   "metadata": {},
   "source": [
    "### # ^\n",
    "- matches if the pattern is at the begining of the string"
   ]
  },
  {
   "cell_type": "code",
   "execution_count": 21,
   "id": "97a34f94",
   "metadata": {},
   "outputs": [
    {
     "name": "stdout",
     "output_type": "stream",
     "text": [
      "<re.Match object; span=(0, 5), match='Hello'>\n"
     ]
    }
   ],
   "source": [
    "string = 'Hello dear abc123abc12.\\nWelcome !'\n",
    "\n",
    "pattern = re.compile(r'^He\\w*')\n",
    "for i in pattern.finditer(string):\n",
    "    print(i)"
   ]
  },
  {
   "cell_type": "code",
   "execution_count": 20,
   "id": "0f1d682a",
   "metadata": {},
   "outputs": [],
   "source": [
    "pattern = re.compile(r'^Welcome')\n",
    "for i in pattern.finditer(string):\n",
    "    print(i)"
   ]
  },
  {
   "cell_type": "markdown",
   "id": "0e5994c8",
   "metadata": {},
   "source": [
    "### # $\n",
    "- matches if the pattern is at the end of the string"
   ]
  },
  {
   "cell_type": "code",
   "execution_count": 17,
   "id": "002f6704",
   "metadata": {},
   "outputs": [
    {
     "name": "stdout",
     "output_type": "stream",
     "text": [
      "<re.Match object; span=(24, 31), match='Welcome'>\n"
     ]
    }
   ],
   "source": [
    "string = 'Hello dear abc123abc12.\\nWelcome'\n",
    "\n",
    "pattern = re.compile(r'\\w+come$')\n",
    "for i in pattern.finditer(string):\n",
    "    print(i)"
   ]
  },
  {
   "cell_type": "code",
   "execution_count": 18,
   "id": "3965fa64",
   "metadata": {},
   "outputs": [],
   "source": [
    "pattern = re.compile(r'12$')\n",
    "for i in pattern.finditer(string):\n",
    "    print(i)"
   ]
  },
  {
   "cell_type": "markdown",
   "id": "17c9876b",
   "metadata": {},
   "source": [
    "### # \\\n",
    "- To use Special sequences or to use Meta charecters as ordinary charecters"
   ]
  },
  {
   "cell_type": "code",
   "execution_count": 31,
   "id": "1e020896",
   "metadata": {},
   "outputs": [
    {
     "name": "stdout",
     "output_type": "stream",
     "text": [
      "<re.Match object; span=(14, 16), match='12'>\n",
      "<re.Match object; span=(20, 22), match='12'>\n"
     ]
    }
   ],
   "source": [
    "# Using Special Charecters\n",
    "\n",
    "string = 'Hello dear abc123abc12.\\nWelcome'\n",
    "\n",
    "pattern = re.compile(r'\\d\\d')\n",
    "for i in pattern.finditer(string):\n",
    "    print(i)"
   ]
  },
  {
   "cell_type": "code",
   "execution_count": 44,
   "id": "312493a1",
   "metadata": {},
   "outputs": [
    {
     "name": "stdout",
     "output_type": "stream",
     "text": [
      "<re.Match object; span=(4, 9), match='m1*x1'>\n",
      "<re.Match object; span=(12, 17), match='m3*x2'>\n"
     ]
    }
   ],
   "source": [
    "# Using Meta charecters as ordinary charecters\n",
    "\n",
    "string = 'y = m1*x1 + m3*x2 + c .'\n",
    "\n",
    "pattern = re.compile(r'\\w+\\*\\w+')\n",
    "for i in pattern.finditer(string):\n",
    "    print(i)"
   ]
  },
  {
   "cell_type": "code",
   "execution_count": 34,
   "id": "cb426d3d",
   "metadata": {},
   "outputs": [
    {
     "name": "stdout",
     "output_type": "stream",
     "text": [
      "<re.Match object; span=(10, 11), match='+'>\n",
      "<re.Match object; span=(18, 19), match='+'>\n"
     ]
    }
   ],
   "source": [
    "pattern = re.compile(r'\\+')\n",
    "for i in pattern.finditer(string):\n",
    "    print(i)"
   ]
  },
  {
   "cell_type": "code",
   "execution_count": 35,
   "id": "a1bc30e7",
   "metadata": {},
   "outputs": [
    {
     "name": "stdout",
     "output_type": "stream",
     "text": [
      "<re.Match object; span=(22, 23), match='.'>\n"
     ]
    }
   ],
   "source": [
    "pattern = re.compile(r'\\.')\n",
    "for i in pattern.finditer(string):\n",
    "    print(i)"
   ]
  },
  {
   "cell_type": "markdown",
   "id": "38e437ee",
   "metadata": {},
   "source": [
    "### # [ ] - Sets\n",
    "- any charecter in the set is matched individually, not as a group\n",
    "- sets can contain ranges and multiple of them as well"
   ]
  },
  {
   "cell_type": "code",
   "execution_count": 53,
   "id": "95339341",
   "metadata": {},
   "outputs": [
    {
     "name": "stdout",
     "output_type": "stream",
     "text": [
      "<re.Match object; span=(0, 1), match='l'>\n",
      "<re.Match object; span=(3, 4), match='o'>\n",
      "<re.Match object; span=(26, 27), match='o'>\n",
      "<re.Match object; span=(60, 61), match='h'>\n"
     ]
    }
   ],
   "source": [
    "string = 'lemon #$%^ guava (@#) mango 34987 banana #(*&#$) guava $80 cherry'\n",
    "\n",
    "pattern = re.compile(r'[loh]')\n",
    "for i in pattern.finditer(string):\n",
    "    print(i)"
   ]
  },
  {
   "cell_type": "code",
   "execution_count": 54,
   "id": "31b12407",
   "metadata": {},
   "outputs": [
    {
     "name": "stdout",
     "output_type": "stream",
     "text": [
      "<re.Match object; span=(0, 5), match='lemon'>\n",
      "<re.Match object; span=(22, 27), match='mango'>\n",
      "<re.Match object; span=(59, 65), match='cherry'>\n"
     ]
    }
   ],
   "source": [
    "pattern = re.compile(r'\\w*[loh]\\w*')\n",
    "for i in pattern.finditer(string):\n",
    "    print(i)"
   ]
  },
  {
   "cell_type": "code",
   "execution_count": 57,
   "id": "79d9d9f8",
   "metadata": {},
   "outputs": [
    {
     "name": "stdout",
     "output_type": "stream",
     "text": [
      "<re.Match object; span=(0, 5), match='lemon'>\n",
      "<re.Match object; span=(11, 16), match='guava'>\n",
      "<re.Match object; span=(22, 27), match='mango'>\n",
      "<re.Match object; span=(34, 40), match='banana'>\n",
      "<re.Match object; span=(49, 54), match='guava'>\n",
      "<re.Match object; span=(59, 65), match='cherry'>\n"
     ]
    }
   ],
   "source": [
    "pattern = re.compile(r'\\w*[a-z]\\w*')\n",
    "for i in pattern.finditer(string):\n",
    "    print(i)"
   ]
  },
  {
   "cell_type": "code",
   "execution_count": 60,
   "id": "19171f86",
   "metadata": {},
   "outputs": [
    {
     "name": "stdout",
     "output_type": "stream",
     "text": [
      "<re.Match object; span=(0, 5), match='lemon'>\n",
      "<re.Match object; span=(11, 16), match='guava'>\n",
      "<re.Match object; span=(22, 27), match='mango'>\n",
      "<re.Match object; span=(28, 33), match='34987'>\n",
      "<re.Match object; span=(34, 40), match='banana'>\n",
      "<re.Match object; span=(49, 54), match='guava'>\n",
      "<re.Match object; span=(56, 58), match='80'>\n",
      "<re.Match object; span=(59, 65), match='cherry'>\n"
     ]
    }
   ],
   "source": [
    "pattern = re.compile(r'\\w*[a-zA-Z0-9]\\w*')\n",
    "for i in pattern.finditer(string):\n",
    "    print(i)"
   ]
  },
  {
   "cell_type": "markdown",
   "id": "4aeea168",
   "metadata": {},
   "source": [
    "### # | - Conditions\n",
    "-  Either or ( For Comparisions )"
   ]
  },
  {
   "cell_type": "code",
   "execution_count": 75,
   "id": "a79c0af6",
   "metadata": {},
   "outputs": [
    {
     "name": "stdout",
     "output_type": "stream",
     "text": [
      "<re.Match object; span=(21, 30), match='Mr. Bones'>\n",
      "<re.Match object; span=(31, 41), match='Ms. Juliya'>\n",
      "<re.Match object; span=(43, 54), match='Mrs Roberts'>\n",
      "<re.Match object; span=(55, 59), match='Mr T'>\n",
      "<re.Match object; span=(77, 89), match='Master James'>\n"
     ]
    }
   ],
   "source": [
    "string = ''''\n",
    "Hello World\n",
    "153313\n",
    "Mr. Bones\n",
    "Ms. Juliya\n",
    "\n",
    "Mrs Roberts\n",
    "Mr T\n",
    "\n",
    "aehgvda\n",
    "351331\n",
    "\n",
    "Master James\n",
    "'''''\n",
    "\n",
    "pattern = re.compile(r'(Mr|Mrs|Master|Ms)\\.?\\s\\w+')\n",
    "for i in pattern.finditer(string):\n",
    "    print(i)"
   ]
  },
  {
   "cell_type": "markdown",
   "id": "1394bac3",
   "metadata": {},
   "source": [
    "### # ( ) - Grouping\n",
    "- Capture and Group\n",
    "- we can split up our pattern into various groups such that we can access individual groups as a separate substring"
   ]
  },
  {
   "cell_type": "code",
   "execution_count": 108,
   "id": "416a59ef",
   "metadata": {},
   "outputs": [
    {
     "name": "stdout",
     "output_type": "stream",
     "text": [
      "<re.Match object; span=(22, 46), match='http://www.advavd656.org'>\n",
      "<re.Match object; span=(47, 70), match='https://www.youtube.com'>\n",
      "<re.Match object; span=(71, 93), match='https://www.google.com'>\n",
      "<re.Match object; span=(111, 129), match='www.avd84846.co.in'>\n",
      "<re.Match object; span=(130, 142), match='facebook.com'>\n",
      "<re.Match object; span=(143, 164), match='https://kjnakha556.in'>\n"
     ]
    }
   ],
   "source": [
    "string = ''''\n",
    "Hello World\n",
    "153313\n",
    "\n",
    "http://www.advavd656.org\n",
    "https://www.youtube.com\n",
    "https://www.google.com\n",
    "\n",
    "aehgvda\n",
    "351331\n",
    "\n",
    "www.avd84846.co.in\n",
    "facebook.com\n",
    "https://kjnakha556.in\n",
    "'''''\n",
    "\n",
    "pattern = re.compile(r'(https?)?(://)?(www\\.)?(\\w+)\\.(.+)')\n",
    "for i in pattern.finditer(string):\n",
    "    print(i)"
   ]
  },
  {
   "cell_type": "code",
   "execution_count": 88,
   "id": "214fbdc5",
   "metadata": {},
   "outputs": [],
   "source": [
    "# accessing different formed groups"
   ]
  },
  {
   "cell_type": "code",
   "execution_count": 107,
   "id": "27325b25",
   "metadata": {},
   "outputs": [
    {
     "name": "stdout",
     "output_type": "stream",
     "text": [
      "http://www.advavd656.org\n",
      "https://www.youtube.com\n",
      "https://www.google.com\n",
      "www.avd84846.co.in\n",
      "facebook.com\n",
      "https://kjnakha556.in\n"
     ]
    }
   ],
   "source": [
    "# default is same as group(0) , shows the whole match\n",
    "\n",
    "for i in pattern.finditer(string):\n",
    "    print(i.group())"
   ]
  },
  {
   "cell_type": "code",
   "execution_count": 97,
   "id": "53a92875",
   "metadata": {},
   "outputs": [
    {
     "name": "stdout",
     "output_type": "stream",
     "text": [
      "http\n",
      "https\n",
      "https\n",
      "None\n",
      "None\n",
      "https\n"
     ]
    }
   ],
   "source": [
    "# Subsequent numbers show the numbered group created\n",
    "\n",
    "for i in pattern.finditer(string):\n",
    "    print(i.group(1))"
   ]
  },
  {
   "cell_type": "code",
   "execution_count": 98,
   "id": "d6938519",
   "metadata": {},
   "outputs": [
    {
     "name": "stdout",
     "output_type": "stream",
     "text": [
      "://\n",
      "://\n",
      "://\n",
      "None\n",
      "None\n",
      "://\n"
     ]
    }
   ],
   "source": [
    "for i in pattern.finditer(string):\n",
    "    print(i.group(2))"
   ]
  },
  {
   "cell_type": "code",
   "execution_count": 103,
   "id": "b47c9e40",
   "metadata": {},
   "outputs": [
    {
     "name": "stdout",
     "output_type": "stream",
     "text": [
      "www.\n",
      "www.\n",
      "www.\n",
      "www.\n",
      "None\n",
      "None\n"
     ]
    }
   ],
   "source": [
    "for i in pattern.finditer(string):\n",
    "    print(i.group(3))"
   ]
  },
  {
   "cell_type": "code",
   "execution_count": 104,
   "id": "a6ad52c0",
   "metadata": {},
   "outputs": [
    {
     "name": "stdout",
     "output_type": "stream",
     "text": [
      "advavd656\n",
      "youtube\n",
      "google\n",
      "avd84846\n",
      "facebook\n",
      "kjnakha556\n"
     ]
    }
   ],
   "source": [
    "for i in pattern.finditer(string):\n",
    "    print(i.group(4))"
   ]
  },
  {
   "cell_type": "code",
   "execution_count": 105,
   "id": "a742f056",
   "metadata": {},
   "outputs": [
    {
     "name": "stdout",
     "output_type": "stream",
     "text": [
      "org\n",
      "com\n",
      "com\n",
      "co.in\n",
      "com\n",
      "in\n"
     ]
    }
   ],
   "source": [
    "for i in pattern.finditer(string):\n",
    "    print(i.group(5))"
   ]
  }
 ],
 "metadata": {
  "kernelspec": {
   "display_name": "Python 3",
   "language": "python",
   "name": "python3"
  },
  "language_info": {
   "codemirror_mode": {
    "name": "ipython",
    "version": 3
   },
   "file_extension": ".py",
   "mimetype": "text/x-python",
   "name": "python",
   "nbconvert_exporter": "python",
   "pygments_lexer": "ipython3",
   "version": "3.8.8"
  }
 },
 "nbformat": 4,
 "nbformat_minor": 5
}

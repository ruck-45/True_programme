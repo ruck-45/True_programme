{
 "cells": [
  {
   "cell_type": "code",
   "execution_count": 1,
   "id": "6b2bad2f",
   "metadata": {},
   "outputs": [],
   "source": [
    "import re"
   ]
  },
  {
   "cell_type": "markdown",
   "id": "22c5078f",
   "metadata": {},
   "source": [
    "# Split\n",
    "- we can use regex patterns to split a string into differet substrings and stored in form a list"
   ]
  },
  {
   "cell_type": "code",
   "execution_count": 2,
   "id": "6e63baba",
   "metadata": {},
   "outputs": [
    {
     "data": {
      "text/plain": [
       "['Helow Fellow traveller agvdag',\n",
       " 'jhavdj',\n",
       " 'avd, your immigrant number is ',\n",
       " '456789',\n",
       " '456789']"
      ]
     },
     "execution_count": 2,
     "metadata": {},
     "output_type": "execute_result"
    }
   ],
   "source": [
    "string = 'Helow Fellow traveller agvdag123jhavdj123avd, your immigrant number is 123456789123456789'\n",
    "\n",
    "pattern = re.compile(r'123')\n",
    "pattern.split(string)"
   ]
  },
  {
   "cell_type": "markdown",
   "id": "3c2c3060",
   "metadata": {},
   "source": [
    "# Sub\n",
    "- We can change the detected patterns into someting else using Sub"
   ]
  },
  {
   "cell_type": "code",
   "execution_count": 4,
   "id": "e8eff3e1",
   "metadata": {},
   "outputs": [
    {
     "data": {
      "text/plain": [
       "'Helow Fellow traveller agvdag CHANGED jhavdj CHANGED avd, your immigrant number is  CHANGED 456789 CHANGED 456789'"
      ]
     },
     "execution_count": 4,
     "metadata": {},
     "output_type": "execute_result"
    }
   ],
   "source": [
    "string = 'Helow Fellow traveller agvdag123jhavdj123avd, your immigrant number is 123456789123456789'\n",
    "\n",
    "pattern = re.compile(r'123')\n",
    "pattern.sub(' CHANGED ',string)"
   ]
  },
  {
   "cell_type": "markdown",
   "id": "fa75e5c4",
   "metadata": {},
   "source": [
    "## Back Refrences usnig Sub"
   ]
  },
  {
   "cell_type": "code",
   "execution_count": 10,
   "id": "a787f8c7",
   "metadata": {},
   "outputs": [
    {
     "name": "stdout",
     "output_type": "stream",
     "text": [
      "<re.Match object; span=(22, 46), match='http://www.advavd656.org'>\n",
      "<re.Match object; span=(47, 70), match='https://www.youtube.com'>\n",
      "<re.Match object; span=(71, 93), match='https://www.google.com'>\n",
      "<re.Match object; span=(111, 129), match='www.avd84846.co.in'>\n",
      "<re.Match object; span=(130, 142), match='facebook.com'>\n",
      "<re.Match object; span=(143, 164), match='https://kjnakha556.in'>\n"
     ]
    }
   ],
   "source": [
    "string = ''''\n",
    "Hello World\n",
    "153313\n",
    "\n",
    "http://www.advavd656.org\n",
    "https://www.youtube.com\n",
    "https://www.google.com\n",
    "\n",
    "aehgvda\n",
    "351331\n",
    "\n",
    "www.avd84846.co.in\n",
    "facebook.com\n",
    "https://kjnakha556.in\n",
    "'''''\n",
    "\n",
    "pattern = re.compile(r'(https?)?(://)?(www\\.)?(\\w+)\\.(.+)')\n",
    "for i in pattern.finditer(string):\n",
    "    print(i)"
   ]
  },
  {
   "cell_type": "code",
   "execution_count": 13,
   "id": "3dc492c7",
   "metadata": {},
   "outputs": [
    {
     "name": "stdout",
     "output_type": "stream",
     "text": [
      "'\n",
      "Hello World\n",
      "153313\n",
      "\n",
      "advavd656.org\n",
      "youtube.com\n",
      "google.com\n",
      "\n",
      "aehgvda\n",
      "351331\n",
      "\n",
      "avd84846.co.in\n",
      "facebook.com\n",
      "kjnakha556.in\n",
      "\n"
     ]
    }
   ],
   "source": [
    "#  we used specific groups in the matches to replace the matches\n",
    "\n",
    "print(pattern.sub(r'\\4.\\5',string))"
   ]
  }
 ],
 "metadata": {
  "kernelspec": {
   "display_name": "Python 3 (ipykernel)",
   "language": "python",
   "name": "python3"
  },
  "language_info": {
   "codemirror_mode": {
    "name": "ipython",
    "version": 3
   },
   "file_extension": ".py",
   "mimetype": "text/x-python",
   "name": "python",
   "nbconvert_exporter": "python",
   "pygments_lexer": "ipython3",
   "version": "3.9.12"
  }
 },
 "nbformat": 4,
 "nbformat_minor": 5
}

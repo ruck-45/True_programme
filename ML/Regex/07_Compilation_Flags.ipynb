{
 "cells": [
  {
   "cell_type": "markdown",
   "id": "a11fa2d1",
   "metadata": {},
   "source": [
    "# Compilation Flags\n",
    "- These allow us to further customize our Matches\n",
    "- Some Compilation flags are:\n",
    "    - ASCII / A : Makes several escapes like \\d,\\s,\\w,\\b match only on ASCII charecters\n",
    "    - DOTALL / S : Make Meta charecter Dot (.) match any charecter including new line\n",
    "    - IGNORECASE / I : Do case insensitive matches\n",
    "    - LOCALE / L : Do a locale-aware match\n",
    "    - MULTILINE / M : Multiline matching affecting ^ and $\n",
    "    - VERBOSE / X ( for 'extended' ) : Enable Verbose REs, which can be organized more cleanly and understandably."
   ]
  },
  {
   "cell_type": "code",
   "execution_count": 1,
   "id": "72f248ae",
   "metadata": {},
   "outputs": [],
   "source": [
    "# Example\n",
    "\n",
    "import re"
   ]
  },
  {
   "cell_type": "code",
   "execution_count": 2,
   "id": "15de9364",
   "metadata": {},
   "outputs": [],
   "source": [
    "string = 'This World is the best world out of all The WORLDS'"
   ]
  },
  {
   "cell_type": "code",
   "execution_count": 3,
   "id": "adbd2ada",
   "metadata": {},
   "outputs": [
    {
     "name": "stdout",
     "output_type": "stream",
     "text": [
      "<re.Match object; span=(5, 10), match='World'>\n"
     ]
    }
   ],
   "source": [
    "pattern = re.compile(r'World')\n",
    "for i in pattern.finditer(string):\n",
    "    print(i)"
   ]
  },
  {
   "cell_type": "code",
   "execution_count": 6,
   "id": "1fafec72",
   "metadata": {},
   "outputs": [
    {
     "name": "stdout",
     "output_type": "stream",
     "text": [
      "<re.Match object; span=(5, 10), match='World'>\n",
      "<re.Match object; span=(23, 28), match='world'>\n",
      "<re.Match object; span=(44, 49), match='WORLD'>\n"
     ]
    }
   ],
   "source": [
    "# pattern = re.compile(r'World', re.IGNORECASE)\n",
    "pattern = re.compile(r'World', re.I)\n",
    "\n",
    "for i in pattern.finditer(string):\n",
    "    print(i)"
   ]
  }
 ],
 "metadata": {
  "kernelspec": {
   "display_name": "Python 3",
   "language": "python",
   "name": "python3"
  },
  "language_info": {
   "codemirror_mode": {
    "name": "ipython",
    "version": 3
   },
   "file_extension": ".py",
   "mimetype": "text/x-python",
   "name": "python",
   "nbconvert_exporter": "python",
   "pygments_lexer": "ipython3",
   "version": "3.8.8"
  }
 },
 "nbformat": 4,
 "nbformat_minor": 5
}

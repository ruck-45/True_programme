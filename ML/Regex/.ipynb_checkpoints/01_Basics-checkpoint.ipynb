{
 "cells": [
  {
   "cell_type": "markdown",
   "id": "daf8c8ef",
   "metadata": {},
   "source": [
    "# Regex\n",
    "- It stands for Regular Expression\n",
    "- It is used to extract segments from string efficeintly"
   ]
  },
  {
   "cell_type": "markdown",
   "id": "9a396339",
   "metadata": {},
   "source": [
    "# Importing regex "
   ]
  },
  {
   "cell_type": "code",
   "execution_count": 2,
   "id": "712f23a0",
   "metadata": {},
   "outputs": [],
   "source": [
    "import re"
   ]
  },
  {
   "cell_type": "markdown",
   "id": "bcc860a4",
   "metadata": {},
   "source": [
    "# Raw String\n",
    "- The string which treats all special charecters (escape sequence) as normal charecter"
   ]
  },
  {
   "cell_type": "code",
   "execution_count": 4,
   "id": "aa64f538",
   "metadata": {},
   "outputs": [
    {
     "name": "stdout",
     "output_type": "stream",
     "text": [
      "\tHello\b\n"
     ]
    }
   ],
   "source": [
    "# Normal string\n",
    "\n",
    "s = '\\tHello\\b'\n",
    "print(s)"
   ]
  },
  {
   "cell_type": "code",
   "execution_count": 6,
   "id": "7683205f",
   "metadata": {},
   "outputs": [
    {
     "name": "stdout",
     "output_type": "stream",
     "text": [
      "\\tHello\\b\n"
     ]
    }
   ],
   "source": [
    "#  Raw string\n",
    "# Just add 'r' before a string to make it Raw\n",
    "\n",
    "s = r'\\tHello\\b'\n",
    "print(s)"
   ]
  },
  {
   "cell_type": "markdown",
   "id": "ba17a5c8",
   "metadata": {},
   "source": [
    "# Example of Regex"
   ]
  },
  {
   "cell_type": "code",
   "execution_count": 16,
   "id": "4bccbd46",
   "metadata": {},
   "outputs": [
    {
     "name": "stdout",
     "output_type": "stream",
     "text": [
      "<re.Match object; span=(3, 6), match='abc'>\n",
      "<re.Match object; span=(12, 15), match='abc'>\n"
     ]
    }
   ],
   "source": [
    "string = '123abc456789abc123ABC'\n",
    "\n",
    "pattern = re.compile(r'abc')  # defining  the pattern\n",
    "matches = pattern.finditer(string) # gives an iterable with all discovered matches\n",
    "\n",
    "for i in matches:\n",
    "    print(i)"
   ]
  },
  {
   "cell_type": "code",
   "execution_count": 17,
   "id": "c9c7ba1c",
   "metadata": {},
   "outputs": [
    {
     "name": "stdout",
     "output_type": "stream",
     "text": [
      "<re.Match object; span=(3, 6), match='abc'>\n",
      "<re.Match object; span=(12, 15), match='abc'>\n"
     ]
    }
   ],
   "source": [
    "#  Above code can also be written as\n",
    "\n",
    "matches = re.finditer(r'abc',string)\n",
    "\n",
    "for i in matches:\n",
    "    print(i)"
   ]
  }
 ],
 "metadata": {
  "kernelspec": {
   "display_name": "Python 3",
   "language": "python",
   "name": "python3"
  },
  "language_info": {
   "codemirror_mode": {
    "name": "ipython",
    "version": 3
   },
   "file_extension": ".py",
   "mimetype": "text/x-python",
   "name": "python",
   "nbconvert_exporter": "python",
   "pygments_lexer": "ipython3",
   "version": "3.8.8"
  }
 },
 "nbformat": 4,
 "nbformat_minor": 5
}

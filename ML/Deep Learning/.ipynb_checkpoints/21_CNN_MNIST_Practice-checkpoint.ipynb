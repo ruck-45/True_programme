{
 "cells": [
  {
   "cell_type": "code",
   "execution_count": 1,
   "id": "9d5eee4e",
   "metadata": {},
   "outputs": [],
   "source": [
    "import pandas as pd\n",
    "import numpy as np\n",
    "import tensorflow as tf\n",
    "import matplotlib.pyplot as plt\n",
    "import seaborn as sns\n",
    "\n",
    "from tensorflow import keras\n",
    "from sklearn.metrics import confusion_matrix, classification_report"
   ]
  },
  {
   "cell_type": "markdown",
   "id": "843db3d8",
   "metadata": {},
   "source": [
    "# MNIST dataset"
   ]
  },
  {
   "cell_type": "code",
   "execution_count": 29,
   "id": "52ba57d1",
   "metadata": {},
   "outputs": [],
   "source": [
    "(x_train,y_train) , (x_test,y_test) = keras.datasets.mnist.load_data()"
   ]
  },
  {
   "cell_type": "code",
   "execution_count": 9,
   "id": "76df8356",
   "metadata": {},
   "outputs": [],
   "source": [
    "# visualization\n",
    "\n",
    "def show_image(df,label,i):\n",
    "    plt.imshow(df[i])\n",
    "    plt.xlabel(label[i])\n",
    "    plt.show()"
   ]
  },
  {
   "cell_type": "code",
   "execution_count": 10,
   "id": "7d21049f",
   "metadata": {},
   "outputs": [
    {
     "data": {
      "image/png": "[encoded data removed]",
      "text/plain": [
       "<Figure size 432x288 with 1 Axes>"
      ]
     },
     "metadata": {
      "needs_background": "light"
     },
     "output_type": "display_data"
    }
   ],
   "source": [
    "show_image(x_train,y_train,10)"
   ]
  },
  {
   "cell_type": "code",
   "execution_count": 12,
   "id": "2e5190a9",
   "metadata": {},
   "outputs": [
    {
     "data": {
      "image/png": "[encoded data removed]",
      "text/plain": [
       "<Figure size 432x288 with 1 Axes>"
      ]
     },
     "metadata": {
      "needs_background": "light"
     },
     "output_type": "display_data"
    }
   ],
   "source": [
    "show_image(x_train,y_train,456)"
   ]
  },
  {
   "cell_type": "code",
   "execution_count": 30,
   "id": "6ba27b9e",
   "metadata": {},
   "outputs": [],
   "source": [
    "# normalization\n",
    "\n",
    "x_train = np.array(x_train)/255\n",
    "x_test = np.array(x_test)/255"
   ]
  },
  {
   "cell_type": "markdown",
   "id": "d80b6b31",
   "metadata": {},
   "source": [
    "# CNN"
   ]
  },
  {
   "cell_type": "code",
   "execution_count": 31,
   "id": "e5f259bc",
   "metadata": {},
   "outputs": [
    {
     "data": {
      "text/plain": [
       "(60000, 28, 28)"
      ]
     },
     "execution_count": 31,
     "metadata": {},
     "output_type": "execute_result"
    }
   ],
   "source": [
    "x_train.shape"
   ]
  },
  {
   "cell_type": "code",
   "execution_count": 32,
   "id": "5c86abd3",
   "metadata": {},
   "outputs": [],
   "source": [
    "# reshaping for cnn\n",
    "\n",
    "x_train = x_train.reshape(-1,28,28,1)\n",
    "x_test = x_test.reshape(-1,28,28,1)"
   ]
  },
  {
   "cell_type": "code",
   "execution_count": 22,
   "id": "7137fd81",
   "metadata": {},
   "outputs": [],
   "source": [
    "cnn = keras.Sequential([\n",
    "    # cnn\n",
    "    keras.layers.Conv2D(filters = 28,kernel_size = (3,3), input_shape = (28,28,1),activation = 'relu'),\n",
    "    keras.layers.MaxPooling2D((2,2)),\n",
    "    keras.layers.Conv2D(filters = 28,kernel_size = (3,3), activation = 'relu'),\n",
    "    keras.layers.MaxPooling2D((2,2)),\n",
    "    \n",
    "    # ann\n",
    "    keras.layers.Flatten(),\n",
    "    keras.layers.Dense(28 , activation = 'relu'),\n",
    "    keras.layers.Dropout(0.3),\n",
    "    keras.layers.Dense(14, activation = 'relu'),\n",
    "    keras.layers.Dropout(0.3),\n",
    "    keras.layers.Dense(10, activation = 'softmax')\n",
    "])\n",
    "\n",
    "cnn.compile(\n",
    "    optimizer = 'adam',\n",
    "    loss = 'sparse_categorical_crossentropy',\n",
    "    metrics = ['accuracy']\n",
    ")"
   ]
  },
  {
   "cell_type": "code",
   "execution_count": 23,
   "id": "ae475095",
   "metadata": {
    "scrolled": true
   },
   "outputs": [
    {
     "name": "stdout",
     "output_type": "stream",
     "text": [
      "Epoch 1/50\n",
      "1875/1875 [==============================] - 18s 9ms/step - loss: 0.7416 - accuracy: 0.7519\n",
      "Epoch 2/50\n",
      "1875/1875 [==============================] - 18s 10ms/step - loss: 0.4020 - accuracy: 0.8689\n",
      "Epoch 3/50\n",
      "1875/1875 [==============================] - 19s 10ms/step - loss: 0.3434 - accuracy: 0.8892\n",
      "Epoch 4/50\n",
      "1875/1875 [==============================] - 20s 11ms/step - loss: 0.3046 - accuracy: 0.9025\n",
      "Epoch 5/50\n",
      "1875/1875 [==============================] - 20s 10ms/step - loss: 0.2790 - accuracy: 0.9074\n",
      "Epoch 6/50\n",
      "1875/1875 [==============================] - 20s 11ms/step - loss: 0.2671 - accuracy: 0.9136\n",
      "Epoch 7/50\n",
      "1875/1875 [==============================] - 20s 11ms/step - loss: 0.2486 - accuracy: 0.9201\n",
      "Epoch 8/50\n",
      "1875/1875 [==============================] - 20s 10ms/step - loss: 0.2408 - accuracy: 0.9213\n",
      "Epoch 9/50\n",
      "1875/1875 [==============================] - 20s 11ms/step - loss: 0.2324 - accuracy: 0.9251\n",
      "Epoch 10/50\n",
      "1875/1875 [==============================] - 20s 11ms/step - loss: 0.2231 - accuracy: 0.9276\n",
      "Epoch 11/50\n",
      "1875/1875 [==============================] - 21s 11ms/step - loss: 0.2174 - accuracy: 0.9283\n",
      "Epoch 12/50\n",
      "1875/1875 [==============================] - 20s 11ms/step - loss: 0.2149 - accuracy: 0.9310\n",
      "Epoch 13/50\n",
      "1875/1875 [==============================] - 21s 11ms/step - loss: 0.2082 - accuracy: 0.9338\n",
      "Epoch 14/50\n",
      "1875/1875 [==============================] - 29s 15ms/step - loss: 0.2039 - accuracy: 0.9347\n",
      "Epoch 15/50\n",
      "1875/1875 [==============================] - 28s 15ms/step - loss: 0.2020 - accuracy: 0.9343\n",
      "Epoch 16/50\n",
      "1875/1875 [==============================] - 27s 14ms/step - loss: 0.1993 - accuracy: 0.9351\n",
      "Epoch 17/50\n",
      "1875/1875 [==============================] - 27s 15ms/step - loss: 0.1959 - accuracy: 0.9378\n",
      "Epoch 18/50\n",
      "1875/1875 [==============================] - 27s 14ms/step - loss: 0.1930 - accuracy: 0.9379\n",
      "Epoch 19/50\n",
      "1875/1875 [==============================] - 28s 15ms/step - loss: 0.1892 - accuracy: 0.9392\n",
      "Epoch 20/50\n",
      "1875/1875 [==============================] - 27s 14ms/step - loss: 0.1859 - accuracy: 0.9392\n",
      "Epoch 21/50\n",
      "1875/1875 [==============================] - 26s 14ms/step - loss: 0.1835 - accuracy: 0.9403\n",
      "Epoch 22/50\n",
      "1875/1875 [==============================] - 21s 11ms/step - loss: 0.1840 - accuracy: 0.9417\n",
      "Epoch 23/50\n",
      "1875/1875 [==============================] - 21s 11ms/step - loss: 0.1859 - accuracy: 0.9400\n",
      "Epoch 24/50\n",
      "1875/1875 [==============================] - 20s 11ms/step - loss: 0.1805 - accuracy: 0.9409\n",
      "Epoch 25/50\n",
      "1875/1875 [==============================] - 23s 12ms/step - loss: 0.1809 - accuracy: 0.9411\n",
      "Epoch 26/50\n",
      "1875/1875 [==============================] - 22s 12ms/step - loss: 0.1799 - accuracy: 0.9412\n",
      "Epoch 27/50\n",
      "1875/1875 [==============================] - 21s 11ms/step - loss: 0.1754 - accuracy: 0.9427\n",
      "Epoch 28/50\n",
      "1875/1875 [==============================] - 21s 11ms/step - loss: 0.1737 - accuracy: 0.9448\n",
      "Epoch 29/50\n",
      "1875/1875 [==============================] - 20s 11ms/step - loss: 0.1738 - accuracy: 0.9434\n",
      "Epoch 30/50\n",
      "1875/1875 [==============================] - 20s 11ms/step - loss: 0.1734 - accuracy: 0.9451\n",
      "Epoch 31/50\n",
      "1875/1875 [==============================] - 21s 11ms/step - loss: 0.1664 - accuracy: 0.9464\n",
      "Epoch 32/50\n",
      "1875/1875 [==============================] - 21s 11ms/step - loss: 0.1694 - accuracy: 0.9453\n",
      "Epoch 33/50\n",
      "1875/1875 [==============================] - 21s 11ms/step - loss: 0.1685 - accuracy: 0.9458\n",
      "Epoch 34/50\n",
      "1875/1875 [==============================] - 20s 11ms/step - loss: 0.1695 - accuracy: 0.9460\n",
      "Epoch 35/50\n",
      "1875/1875 [==============================] - 20s 11ms/step - loss: 0.1672 - accuracy: 0.9471\n",
      "Epoch 36/50\n",
      "1875/1875 [==============================] - 20s 11ms/step - loss: 0.1695 - accuracy: 0.9456\n",
      "Epoch 37/50\n",
      "1875/1875 [==============================] - 20s 11ms/step - loss: 0.1652 - accuracy: 0.9470\n",
      "Epoch 38/50\n",
      "1875/1875 [==============================] - 20s 11ms/step - loss: 0.1692 - accuracy: 0.9462\n",
      "Epoch 39/50\n",
      "1875/1875 [==============================] - 20s 11ms/step - loss: 0.1597 - accuracy: 0.9491\n",
      "Epoch 40/50\n",
      "1875/1875 [==============================] - 20s 11ms/step - loss: 0.1622 - accuracy: 0.9478\n",
      "Epoch 41/50\n",
      "1875/1875 [==============================] - 20s 11ms/step - loss: 0.1604 - accuracy: 0.9479\n",
      "Epoch 42/50\n",
      "1875/1875 [==============================] - 20s 11ms/step - loss: 0.1645 - accuracy: 0.9477\n",
      "Epoch 43/50\n",
      "1875/1875 [==============================] - 20s 11ms/step - loss: 0.1579 - accuracy: 0.9484\n",
      "Epoch 44/50\n",
      "1875/1875 [==============================] - 20s 11ms/step - loss: 0.1588 - accuracy: 0.9480\n",
      "Epoch 45/50\n",
      "1875/1875 [==============================] - 20s 11ms/step - loss: 0.1582 - accuracy: 0.9486\n",
      "Epoch 46/50\n",
      "1875/1875 [==============================] - 20s 11ms/step - loss: 0.1572 - accuracy: 0.9497\n",
      "Epoch 47/50\n",
      "1875/1875 [==============================] - 20s 11ms/step - loss: 0.1535 - accuracy: 0.9506\n",
      "Epoch 48/50\n",
      "1875/1875 [==============================] - 20s 11ms/step - loss: 0.1580 - accuracy: 0.9496\n",
      "Epoch 49/50\n",
      "1875/1875 [==============================] - 20s 11ms/step - loss: 0.1543 - accuracy: 0.9511\n",
      "Epoch 50/50\n",
      "1875/1875 [==============================] - 20s 11ms/step - loss: 0.1508 - accuracy: 0.9518\n"
     ]
    },
    {
     "data": {
      "text/plain": [
       "<tensorflow.python.keras.callbacks.History at 0x151fcead5e0>"
      ]
     },
     "execution_count": 23,
     "metadata": {},
     "output_type": "execute_result"
    }
   ],
   "source": [
    "cnn.fit(x_train,y_train,epochs = 50)"
   ]
  },
  {
   "cell_type": "code",
   "execution_count": 33,
   "id": "4442dd17",
   "metadata": {},
   "outputs": [
    {
     "name": "stdout",
     "output_type": "stream",
     "text": [
      "313/313 [==============================] - 1s 3ms/step - loss: 0.0916 - accuracy: 0.9886\n"
     ]
    },
    {
     "data": {
      "text/plain": [
       "[0.09158241748809814, 0.9886000156402588]"
      ]
     },
     "execution_count": 33,
     "metadata": {},
     "output_type": "execute_result"
    }
   ],
   "source": [
    "cnn.evaluate(x_test,y_test)"
   ]
  },
  {
   "cell_type": "code",
   "execution_count": 35,
   "id": "b2f9b135",
   "metadata": {},
   "outputs": [],
   "source": [
    "y_pred = cnn.predict(x_test)\n",
    "y_pred = [np.argmax(i) for i in y_pred]"
   ]
  },
  {
   "cell_type": "code",
   "execution_count": 36,
   "id": "7b7aab05",
   "metadata": {},
   "outputs": [
    {
     "data": {
      "text/plain": [
       "<AxesSubplot:>"
      ]
     },
     "execution_count": 36,
     "metadata": {},
     "output_type": "execute_result"
    },
    {
     "data": {
      "image/png": "[encoded data removed]",
      "text/plain": [
       "<Figure size 576x576 with 1 Axes>"
      ]
     },
     "metadata": {
      "needs_background": "light"
     },
     "output_type": "display_data"
    }
   ],
   "source": [
    "plt.figure(figsize = (8,8))\n",
    "sns.heatmap(confusion_matrix(y_test,y_pred), annot = True, cbar = False)"
   ]
  },
  {
   "cell_type": "code",
   "execution_count": 37,
   "id": "662e5b2f",
   "metadata": {},
   "outputs": [
    {
     "name": "stdout",
     "output_type": "stream",
     "text": [
      "              precision    recall  f1-score   support\n",
      "\n",
      "           0       0.99      0.99      0.99       980\n",
      "           1       0.99      1.00      1.00      1135\n",
      "           2       0.98      0.99      0.99      1032\n",
      "           3       0.99      1.00      0.99      1010\n",
      "           4       0.99      0.99      0.99       982\n",
      "           5       0.99      0.98      0.99       892\n",
      "           6       1.00      0.99      0.99       958\n",
      "           7       0.98      0.98      0.98      1028\n",
      "           8       0.99      0.98      0.99       974\n",
      "           9       0.99      0.98      0.98      1009\n",
      "\n",
      "    accuracy                           0.99     10000\n",
      "   macro avg       0.99      0.99      0.99     10000\n",
      "weighted avg       0.99      0.99      0.99     10000\n",
      "\n"
     ]
    }
   ],
   "source": [
    "print(classification_report(y_test,y_pred))"
   ]
  }
 ],
 "metadata": {
  "kernelspec": {
   "display_name": "Python 3",
   "language": "python",
   "name": "python3"
  },
  "language_info": {
   "codemirror_mode": {
    "name": "ipython",
    "version": 3
   },
   "file_extension": ".py",
   "mimetype": "text/x-python",
   "name": "python",
   "nbconvert_exporter": "python",
   "pygments_lexer": "ipython3",
   "version": "3.8.8"
  }
 },
 "nbformat": 4,
 "nbformat_minor": 5
}

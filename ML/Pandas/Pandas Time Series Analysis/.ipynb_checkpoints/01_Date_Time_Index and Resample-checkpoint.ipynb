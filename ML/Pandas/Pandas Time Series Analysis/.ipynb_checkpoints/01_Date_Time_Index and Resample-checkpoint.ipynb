{
 "cells": [
  {
   "cell_type": "code",
   "execution_count": 1,
   "id": "98325580",
   "metadata": {},
   "outputs": [],
   "source": [
    "import pandas as pd \n",
    "import numpy as np"
   ]
  },
  {
   "cell_type": "markdown",
   "id": "fd1c7c0b",
   "metadata": {},
   "source": [
    "# Date Time Index"
   ]
  },
  {
   "cell_type": "markdown",
   "id": "3309be50",
   "metadata": {},
   "source": [
    "## Parsing the date column as \"timestamp\""
   ]
  },
  {
   "cell_type": "code",
   "execution_count": 2,
   "id": "7ff7dc28",
   "metadata": {},
   "outputs": [
    {
     "data": {
      "text/html": [
       "<div>\n",
       "<style scoped>\n",
       "    .dataframe tbody tr th:only-of-type {\n",
       "        vertical-align: middle;\n",
       "    }\n",
       "\n",
       "    .dataframe tbody tr th {\n",
       "        vertical-align: top;\n",
       "    }\n",
       "\n",
       "    .dataframe thead th {\n",
       "        text-align: right;\n",
       "    }\n",
       "</style>\n",
       "<table border=\"1\" class=\"dataframe\">\n",
       "  <thead>\n",
       "    <tr style=\"text-align: right;\">\n",
       "      <th></th>\n",
       "      <th>Date</th>\n",
       "      <th>Open</th>\n",
       "      <th>High</th>\n",
       "      <th>Low</th>\n",
       "      <th>Close</th>\n",
       "      <th>Volume</th>\n",
       "    </tr>\n",
       "  </thead>\n",
       "  <tbody>\n",
       "    <tr>\n",
       "      <th>0</th>\n",
       "      <td>7-Jul-17</td>\n",
       "      <td>142.90</td>\n",
       "      <td>144.75</td>\n",
       "      <td>142.90</td>\n",
       "      <td>144.18</td>\n",
       "      <td>19201712</td>\n",
       "    </tr>\n",
       "    <tr>\n",
       "      <th>1</th>\n",
       "      <td>6-Jul-17</td>\n",
       "      <td>143.02</td>\n",
       "      <td>143.50</td>\n",
       "      <td>142.41</td>\n",
       "      <td>142.73</td>\n",
       "      <td>24128782</td>\n",
       "    </tr>\n",
       "    <tr>\n",
       "      <th>2</th>\n",
       "      <td>5-Jul-17</td>\n",
       "      <td>143.69</td>\n",
       "      <td>144.79</td>\n",
       "      <td>142.72</td>\n",
       "      <td>144.09</td>\n",
       "      <td>21569557</td>\n",
       "    </tr>\n",
       "    <tr>\n",
       "      <th>3</th>\n",
       "      <td>3-Jul-17</td>\n",
       "      <td>144.88</td>\n",
       "      <td>145.30</td>\n",
       "      <td>143.10</td>\n",
       "      <td>143.50</td>\n",
       "      <td>14277848</td>\n",
       "    </tr>\n",
       "    <tr>\n",
       "      <th>4</th>\n",
       "      <td>30-Jun-17</td>\n",
       "      <td>144.45</td>\n",
       "      <td>144.96</td>\n",
       "      <td>143.78</td>\n",
       "      <td>144.02</td>\n",
       "      <td>23024107</td>\n",
       "    </tr>\n",
       "  </tbody>\n",
       "</table>\n",
       "</div>"
      ],
      "text/plain": [
       "        Date    Open    High     Low   Close    Volume\n",
       "0   7-Jul-17  142.90  144.75  142.90  144.18  19201712\n",
       "1   6-Jul-17  143.02  143.50  142.41  142.73  24128782\n",
       "2   5-Jul-17  143.69  144.79  142.72  144.09  21569557\n",
       "3   3-Jul-17  144.88  145.30  143.10  143.50  14277848\n",
       "4  30-Jun-17  144.45  144.96  143.78  144.02  23024107"
      ]
     },
     "execution_count": 2,
     "metadata": {},
     "output_type": "execute_result"
    }
   ],
   "source": [
    "df = pd.read_csv('./Datasets/Csv/Apple_stock_prices.csv')\n",
    "df.head()"
   ]
  },
  {
   "cell_type": "code",
   "execution_count": 3,
   "id": "fffc6aee",
   "metadata": {},
   "outputs": [
    {
     "data": {
      "text/plain": [
       "str"
      ]
     },
     "execution_count": 3,
     "metadata": {},
     "output_type": "execute_result"
    }
   ],
   "source": [
    "# The Date column here is string \n",
    "\n",
    "type(df.Date[0])"
   ]
  },
  {
   "cell_type": "markdown",
   "id": "37524677",
   "metadata": {},
   "source": [
    "### parse_dates attribute\n",
    "- we can parse Date column as timestamp while reading csv/excel"
   ]
  },
  {
   "cell_type": "code",
   "execution_count": 4,
   "id": "0bffd3a9",
   "metadata": {},
   "outputs": [
    {
     "data": {
      "text/html": [
       "<div>\n",
       "<style scoped>\n",
       "    .dataframe tbody tr th:only-of-type {\n",
       "        vertical-align: middle;\n",
       "    }\n",
       "\n",
       "    .dataframe tbody tr th {\n",
       "        vertical-align: top;\n",
       "    }\n",
       "\n",
       "    .dataframe thead th {\n",
       "        text-align: right;\n",
       "    }\n",
       "</style>\n",
       "<table border=\"1\" class=\"dataframe\">\n",
       "  <thead>\n",
       "    <tr style=\"text-align: right;\">\n",
       "      <th></th>\n",
       "      <th>Date</th>\n",
       "      <th>Open</th>\n",
       "      <th>High</th>\n",
       "      <th>Low</th>\n",
       "      <th>Close</th>\n",
       "      <th>Volume</th>\n",
       "    </tr>\n",
       "  </thead>\n",
       "  <tbody>\n",
       "    <tr>\n",
       "      <th>0</th>\n",
       "      <td>2017-07-07</td>\n",
       "      <td>142.90</td>\n",
       "      <td>144.75</td>\n",
       "      <td>142.90</td>\n",
       "      <td>144.18</td>\n",
       "      <td>19201712</td>\n",
       "    </tr>\n",
       "    <tr>\n",
       "      <th>1</th>\n",
       "      <td>2017-07-06</td>\n",
       "      <td>143.02</td>\n",
       "      <td>143.50</td>\n",
       "      <td>142.41</td>\n",
       "      <td>142.73</td>\n",
       "      <td>24128782</td>\n",
       "    </tr>\n",
       "    <tr>\n",
       "      <th>2</th>\n",
       "      <td>2017-07-05</td>\n",
       "      <td>143.69</td>\n",
       "      <td>144.79</td>\n",
       "      <td>142.72</td>\n",
       "      <td>144.09</td>\n",
       "      <td>21569557</td>\n",
       "    </tr>\n",
       "    <tr>\n",
       "      <th>3</th>\n",
       "      <td>2017-07-03</td>\n",
       "      <td>144.88</td>\n",
       "      <td>145.30</td>\n",
       "      <td>143.10</td>\n",
       "      <td>143.50</td>\n",
       "      <td>14277848</td>\n",
       "    </tr>\n",
       "    <tr>\n",
       "      <th>4</th>\n",
       "      <td>2017-06-30</td>\n",
       "      <td>144.45</td>\n",
       "      <td>144.96</td>\n",
       "      <td>143.78</td>\n",
       "      <td>144.02</td>\n",
       "      <td>23024107</td>\n",
       "    </tr>\n",
       "  </tbody>\n",
       "</table>\n",
       "</div>"
      ],
      "text/plain": [
       "        Date    Open    High     Low   Close    Volume\n",
       "0 2017-07-07  142.90  144.75  142.90  144.18  19201712\n",
       "1 2017-07-06  143.02  143.50  142.41  142.73  24128782\n",
       "2 2017-07-05  143.69  144.79  142.72  144.09  21569557\n",
       "3 2017-07-03  144.88  145.30  143.10  143.50  14277848\n",
       "4 2017-06-30  144.45  144.96  143.78  144.02  23024107"
      ]
     },
     "execution_count": 4,
     "metadata": {},
     "output_type": "execute_result"
    }
   ],
   "source": [
    "df = pd.read_csv('./Datasets/Csv/Apple_stock_prices.csv',parse_dates=['Date'])\n",
    "df.head()"
   ]
  },
  {
   "cell_type": "code",
   "execution_count": 5,
   "id": "6a954001",
   "metadata": {},
   "outputs": [
    {
     "data": {
      "text/plain": [
       "Timestamp('2017-07-07 00:00:00')"
      ]
     },
     "execution_count": 5,
     "metadata": {},
     "output_type": "execute_result"
    }
   ],
   "source": [
    "df.Date[0]"
   ]
  },
  {
   "cell_type": "markdown",
   "id": "d1ac3e9f",
   "metadata": {},
   "source": [
    "### index_cols attribute\n",
    "- sets the given column as index"
   ]
  },
  {
   "cell_type": "code",
   "execution_count": 6,
   "id": "94fd051d",
   "metadata": {},
   "outputs": [
    {
     "data": {
      "text/html": [
       "<div>\n",
       "<style scoped>\n",
       "    .dataframe tbody tr th:only-of-type {\n",
       "        vertical-align: middle;\n",
       "    }\n",
       "\n",
       "    .dataframe tbody tr th {\n",
       "        vertical-align: top;\n",
       "    }\n",
       "\n",
       "    .dataframe thead th {\n",
       "        text-align: right;\n",
       "    }\n",
       "</style>\n",
       "<table border=\"1\" class=\"dataframe\">\n",
       "  <thead>\n",
       "    <tr style=\"text-align: right;\">\n",
       "      <th></th>\n",
       "      <th>Open</th>\n",
       "      <th>High</th>\n",
       "      <th>Low</th>\n",
       "      <th>Close</th>\n",
       "      <th>Volume</th>\n",
       "    </tr>\n",
       "    <tr>\n",
       "      <th>Date</th>\n",
       "      <th></th>\n",
       "      <th></th>\n",
       "      <th></th>\n",
       "      <th></th>\n",
       "      <th></th>\n",
       "    </tr>\n",
       "  </thead>\n",
       "  <tbody>\n",
       "    <tr>\n",
       "      <th>2017-07-07</th>\n",
       "      <td>142.90</td>\n",
       "      <td>144.75</td>\n",
       "      <td>142.90</td>\n",
       "      <td>144.18</td>\n",
       "      <td>19201712</td>\n",
       "    </tr>\n",
       "    <tr>\n",
       "      <th>2017-07-06</th>\n",
       "      <td>143.02</td>\n",
       "      <td>143.50</td>\n",
       "      <td>142.41</td>\n",
       "      <td>142.73</td>\n",
       "      <td>24128782</td>\n",
       "    </tr>\n",
       "    <tr>\n",
       "      <th>2017-07-05</th>\n",
       "      <td>143.69</td>\n",
       "      <td>144.79</td>\n",
       "      <td>142.72</td>\n",
       "      <td>144.09</td>\n",
       "      <td>21569557</td>\n",
       "    </tr>\n",
       "    <tr>\n",
       "      <th>2017-07-03</th>\n",
       "      <td>144.88</td>\n",
       "      <td>145.30</td>\n",
       "      <td>143.10</td>\n",
       "      <td>143.50</td>\n",
       "      <td>14277848</td>\n",
       "    </tr>\n",
       "    <tr>\n",
       "      <th>2017-06-30</th>\n",
       "      <td>144.45</td>\n",
       "      <td>144.96</td>\n",
       "      <td>143.78</td>\n",
       "      <td>144.02</td>\n",
       "      <td>23024107</td>\n",
       "    </tr>\n",
       "  </tbody>\n",
       "</table>\n",
       "</div>"
      ],
      "text/plain": [
       "              Open    High     Low   Close    Volume\n",
       "Date                                                \n",
       "2017-07-07  142.90  144.75  142.90  144.18  19201712\n",
       "2017-07-06  143.02  143.50  142.41  142.73  24128782\n",
       "2017-07-05  143.69  144.79  142.72  144.09  21569557\n",
       "2017-07-03  144.88  145.30  143.10  143.50  14277848\n",
       "2017-06-30  144.45  144.96  143.78  144.02  23024107"
      ]
     },
     "execution_count": 6,
     "metadata": {},
     "output_type": "execute_result"
    }
   ],
   "source": [
    "df = pd.read_csv('./Datasets/Csv/Apple_stock_prices.csv',parse_dates=['Date'],index_col='Date')\n",
    "df.head()"
   ]
  },
  {
   "cell_type": "markdown",
   "id": "8b11533b",
   "metadata": {},
   "source": [
    "# We can do various time related searching and analysis if the index is a Date_Time Series"
   ]
  },
  {
   "cell_type": "code",
   "execution_count": 7,
   "id": "b58842d7",
   "metadata": {},
   "outputs": [
    {
     "data": {
      "text/html": [
       "<div>\n",
       "<style scoped>\n",
       "    .dataframe tbody tr th:only-of-type {\n",
       "        vertical-align: middle;\n",
       "    }\n",
       "\n",
       "    .dataframe tbody tr th {\n",
       "        vertical-align: top;\n",
       "    }\n",
       "\n",
       "    .dataframe thead th {\n",
       "        text-align: right;\n",
       "    }\n",
       "</style>\n",
       "<table border=\"1\" class=\"dataframe\">\n",
       "  <thead>\n",
       "    <tr style=\"text-align: right;\">\n",
       "      <th></th>\n",
       "      <th>Open</th>\n",
       "      <th>High</th>\n",
       "      <th>Low</th>\n",
       "      <th>Close</th>\n",
       "      <th>Volume</th>\n",
       "    </tr>\n",
       "    <tr>\n",
       "      <th>Date</th>\n",
       "      <th></th>\n",
       "      <th></th>\n",
       "      <th></th>\n",
       "      <th></th>\n",
       "      <th></th>\n",
       "    </tr>\n",
       "  </thead>\n",
       "  <tbody>\n",
       "    <tr>\n",
       "      <th>2017-01-20</th>\n",
       "      <td>120.45</td>\n",
       "      <td>120.45</td>\n",
       "      <td>119.73</td>\n",
       "      <td>120.00</td>\n",
       "      <td>32597892</td>\n",
       "    </tr>\n",
       "    <tr>\n",
       "      <th>2017-01-19</th>\n",
       "      <td>119.40</td>\n",
       "      <td>120.09</td>\n",
       "      <td>119.37</td>\n",
       "      <td>119.78</td>\n",
       "      <td>25597291</td>\n",
       "    </tr>\n",
       "    <tr>\n",
       "      <th>2017-01-18</th>\n",
       "      <td>120.00</td>\n",
       "      <td>120.50</td>\n",
       "      <td>119.71</td>\n",
       "      <td>119.99</td>\n",
       "      <td>23712961</td>\n",
       "    </tr>\n",
       "    <tr>\n",
       "      <th>2017-01-17</th>\n",
       "      <td>118.34</td>\n",
       "      <td>120.24</td>\n",
       "      <td>118.22</td>\n",
       "      <td>120.00</td>\n",
       "      <td>34439843</td>\n",
       "    </tr>\n",
       "    <tr>\n",
       "      <th>2017-01-13</th>\n",
       "      <td>119.11</td>\n",
       "      <td>119.62</td>\n",
       "      <td>118.81</td>\n",
       "      <td>119.04</td>\n",
       "      <td>26111948</td>\n",
       "    </tr>\n",
       "    <tr>\n",
       "      <th>2017-01-12</th>\n",
       "      <td>118.90</td>\n",
       "      <td>119.30</td>\n",
       "      <td>118.21</td>\n",
       "      <td>119.25</td>\n",
       "      <td>27086220</td>\n",
       "    </tr>\n",
       "    <tr>\n",
       "      <th>2017-01-11</th>\n",
       "      <td>118.74</td>\n",
       "      <td>119.93</td>\n",
       "      <td>118.60</td>\n",
       "      <td>119.75</td>\n",
       "      <td>27588593</td>\n",
       "    </tr>\n",
       "    <tr>\n",
       "      <th>2017-01-10</th>\n",
       "      <td>118.77</td>\n",
       "      <td>119.38</td>\n",
       "      <td>118.30</td>\n",
       "      <td>119.11</td>\n",
       "      <td>24462051</td>\n",
       "    </tr>\n",
       "  </tbody>\n",
       "</table>\n",
       "</div>"
      ],
      "text/plain": [
       "              Open    High     Low   Close    Volume\n",
       "Date                                                \n",
       "2017-01-20  120.45  120.45  119.73  120.00  32597892\n",
       "2017-01-19  119.40  120.09  119.37  119.78  25597291\n",
       "2017-01-18  120.00  120.50  119.71  119.99  23712961\n",
       "2017-01-17  118.34  120.24  118.22  120.00  34439843\n",
       "2017-01-13  119.11  119.62  118.81  119.04  26111948\n",
       "2017-01-12  118.90  119.30  118.21  119.25  27086220\n",
       "2017-01-11  118.74  119.93  118.60  119.75  27588593\n",
       "2017-01-10  118.77  119.38  118.30  119.11  24462051"
      ]
     },
     "execution_count": 7,
     "metadata": {},
     "output_type": "execute_result"
    }
   ],
   "source": [
    "df['2017-01-20':'2017-01-10'] # records between '20 january 2017' to '10 january 2017'"
   ]
  },
  {
   "cell_type": "code",
   "execution_count": 8,
   "id": "aa2185e1",
   "metadata": {},
   "outputs": [
    {
     "name": "stderr",
     "output_type": "stream",
     "text": [
      "<ipython-input-8-9f1e68c06899>:1: FutureWarning: Indexing a DataFrame with a datetimelike index using a single string to slice the rows, like `frame[string]`, is deprecated and will be removed in a future version. Use `frame.loc[string]` instead.\n",
      "  df['2017-05'] # records of May 2017\n"
     ]
    },
    {
     "data": {
      "text/html": [
       "<div>\n",
       "<style scoped>\n",
       "    .dataframe tbody tr th:only-of-type {\n",
       "        vertical-align: middle;\n",
       "    }\n",
       "\n",
       "    .dataframe tbody tr th {\n",
       "        vertical-align: top;\n",
       "    }\n",
       "\n",
       "    .dataframe thead th {\n",
       "        text-align: right;\n",
       "    }\n",
       "</style>\n",
       "<table border=\"1\" class=\"dataframe\">\n",
       "  <thead>\n",
       "    <tr style=\"text-align: right;\">\n",
       "      <th></th>\n",
       "      <th>Open</th>\n",
       "      <th>High</th>\n",
       "      <th>Low</th>\n",
       "      <th>Close</th>\n",
       "      <th>Volume</th>\n",
       "    </tr>\n",
       "    <tr>\n",
       "      <th>Date</th>\n",
       "      <th></th>\n",
       "      <th></th>\n",
       "      <th></th>\n",
       "      <th></th>\n",
       "      <th></th>\n",
       "    </tr>\n",
       "  </thead>\n",
       "  <tbody>\n",
       "    <tr>\n",
       "      <th>2017-05-31</th>\n",
       "      <td>153.97</td>\n",
       "      <td>154.17</td>\n",
       "      <td>152.38</td>\n",
       "      <td>152.76</td>\n",
       "      <td>24451164</td>\n",
       "    </tr>\n",
       "    <tr>\n",
       "      <th>2017-05-30</th>\n",
       "      <td>153.42</td>\n",
       "      <td>154.43</td>\n",
       "      <td>153.33</td>\n",
       "      <td>153.67</td>\n",
       "      <td>20126851</td>\n",
       "    </tr>\n",
       "    <tr>\n",
       "      <th>2017-05-26</th>\n",
       "      <td>154.00</td>\n",
       "      <td>154.24</td>\n",
       "      <td>153.31</td>\n",
       "      <td>153.61</td>\n",
       "      <td>21927637</td>\n",
       "    </tr>\n",
       "    <tr>\n",
       "      <th>2017-05-25</th>\n",
       "      <td>153.73</td>\n",
       "      <td>154.35</td>\n",
       "      <td>153.03</td>\n",
       "      <td>153.87</td>\n",
       "      <td>19235598</td>\n",
       "    </tr>\n",
       "    <tr>\n",
       "      <th>2017-05-24</th>\n",
       "      <td>153.84</td>\n",
       "      <td>154.17</td>\n",
       "      <td>152.67</td>\n",
       "      <td>153.34</td>\n",
       "      <td>19219154</td>\n",
       "    </tr>\n",
       "    <tr>\n",
       "      <th>2017-05-23</th>\n",
       "      <td>154.90</td>\n",
       "      <td>154.90</td>\n",
       "      <td>153.31</td>\n",
       "      <td>153.80</td>\n",
       "      <td>19918871</td>\n",
       "    </tr>\n",
       "    <tr>\n",
       "      <th>2017-05-22</th>\n",
       "      <td>154.00</td>\n",
       "      <td>154.58</td>\n",
       "      <td>152.91</td>\n",
       "      <td>153.99</td>\n",
       "      <td>22966437</td>\n",
       "    </tr>\n",
       "    <tr>\n",
       "      <th>2017-05-19</th>\n",
       "      <td>153.38</td>\n",
       "      <td>153.98</td>\n",
       "      <td>152.63</td>\n",
       "      <td>153.06</td>\n",
       "      <td>26960788</td>\n",
       "    </tr>\n",
       "    <tr>\n",
       "      <th>2017-05-18</th>\n",
       "      <td>151.27</td>\n",
       "      <td>153.34</td>\n",
       "      <td>151.13</td>\n",
       "      <td>152.54</td>\n",
       "      <td>33568215</td>\n",
       "    </tr>\n",
       "    <tr>\n",
       "      <th>2017-05-17</th>\n",
       "      <td>153.60</td>\n",
       "      <td>154.57</td>\n",
       "      <td>149.71</td>\n",
       "      <td>150.25</td>\n",
       "      <td>50767678</td>\n",
       "    </tr>\n",
       "    <tr>\n",
       "      <th>2017-05-16</th>\n",
       "      <td>155.94</td>\n",
       "      <td>156.06</td>\n",
       "      <td>154.72</td>\n",
       "      <td>155.47</td>\n",
       "      <td>20048478</td>\n",
       "    </tr>\n",
       "    <tr>\n",
       "      <th>2017-05-15</th>\n",
       "      <td>156.01</td>\n",
       "      <td>156.65</td>\n",
       "      <td>155.05</td>\n",
       "      <td>155.70</td>\n",
       "      <td>26009719</td>\n",
       "    </tr>\n",
       "    <tr>\n",
       "      <th>2017-05-12</th>\n",
       "      <td>154.70</td>\n",
       "      <td>156.42</td>\n",
       "      <td>154.67</td>\n",
       "      <td>156.10</td>\n",
       "      <td>32527017</td>\n",
       "    </tr>\n",
       "    <tr>\n",
       "      <th>2017-05-11</th>\n",
       "      <td>152.45</td>\n",
       "      <td>154.07</td>\n",
       "      <td>152.31</td>\n",
       "      <td>153.95</td>\n",
       "      <td>27255058</td>\n",
       "    </tr>\n",
       "    <tr>\n",
       "      <th>2017-05-10</th>\n",
       "      <td>153.63</td>\n",
       "      <td>153.94</td>\n",
       "      <td>152.11</td>\n",
       "      <td>153.26</td>\n",
       "      <td>25805692</td>\n",
       "    </tr>\n",
       "    <tr>\n",
       "      <th>2017-05-09</th>\n",
       "      <td>153.87</td>\n",
       "      <td>154.88</td>\n",
       "      <td>153.45</td>\n",
       "      <td>153.99</td>\n",
       "      <td>39130363</td>\n",
       "    </tr>\n",
       "    <tr>\n",
       "      <th>2017-05-08</th>\n",
       "      <td>149.03</td>\n",
       "      <td>153.70</td>\n",
       "      <td>149.03</td>\n",
       "      <td>153.01</td>\n",
       "      <td>48752413</td>\n",
       "    </tr>\n",
       "    <tr>\n",
       "      <th>2017-05-05</th>\n",
       "      <td>146.76</td>\n",
       "      <td>148.98</td>\n",
       "      <td>146.76</td>\n",
       "      <td>148.96</td>\n",
       "      <td>27327725</td>\n",
       "    </tr>\n",
       "    <tr>\n",
       "      <th>2017-05-04</th>\n",
       "      <td>146.52</td>\n",
       "      <td>147.14</td>\n",
       "      <td>145.81</td>\n",
       "      <td>146.53</td>\n",
       "      <td>23371872</td>\n",
       "    </tr>\n",
       "    <tr>\n",
       "      <th>2017-05-03</th>\n",
       "      <td>145.59</td>\n",
       "      <td>147.49</td>\n",
       "      <td>144.27</td>\n",
       "      <td>147.06</td>\n",
       "      <td>45697034</td>\n",
       "    </tr>\n",
       "    <tr>\n",
       "      <th>2017-05-02</th>\n",
       "      <td>147.54</td>\n",
       "      <td>148.09</td>\n",
       "      <td>146.84</td>\n",
       "      <td>147.51</td>\n",
       "      <td>45352194</td>\n",
       "    </tr>\n",
       "    <tr>\n",
       "      <th>2017-05-01</th>\n",
       "      <td>145.10</td>\n",
       "      <td>147.20</td>\n",
       "      <td>144.96</td>\n",
       "      <td>146.58</td>\n",
       "      <td>33602943</td>\n",
       "    </tr>\n",
       "  </tbody>\n",
       "</table>\n",
       "</div>"
      ],
      "text/plain": [
       "              Open    High     Low   Close    Volume\n",
       "Date                                                \n",
       "2017-05-31  153.97  154.17  152.38  152.76  24451164\n",
       "2017-05-30  153.42  154.43  153.33  153.67  20126851\n",
       "2017-05-26  154.00  154.24  153.31  153.61  21927637\n",
       "2017-05-25  153.73  154.35  153.03  153.87  19235598\n",
       "2017-05-24  153.84  154.17  152.67  153.34  19219154\n",
       "2017-05-23  154.90  154.90  153.31  153.80  19918871\n",
       "2017-05-22  154.00  154.58  152.91  153.99  22966437\n",
       "2017-05-19  153.38  153.98  152.63  153.06  26960788\n",
       "2017-05-18  151.27  153.34  151.13  152.54  33568215\n",
       "2017-05-17  153.60  154.57  149.71  150.25  50767678\n",
       "2017-05-16  155.94  156.06  154.72  155.47  20048478\n",
       "2017-05-15  156.01  156.65  155.05  155.70  26009719\n",
       "2017-05-12  154.70  156.42  154.67  156.10  32527017\n",
       "2017-05-11  152.45  154.07  152.31  153.95  27255058\n",
       "2017-05-10  153.63  153.94  152.11  153.26  25805692\n",
       "2017-05-09  153.87  154.88  153.45  153.99  39130363\n",
       "2017-05-08  149.03  153.70  149.03  153.01  48752413\n",
       "2017-05-05  146.76  148.98  146.76  148.96  27327725\n",
       "2017-05-04  146.52  147.14  145.81  146.53  23371872\n",
       "2017-05-03  145.59  147.49  144.27  147.06  45697034\n",
       "2017-05-02  147.54  148.09  146.84  147.51  45352194\n",
       "2017-05-01  145.10  147.20  144.96  146.58  33602943"
      ]
     },
     "execution_count": 8,
     "metadata": {},
     "output_type": "execute_result"
    }
   ],
   "source": [
    "df['2017-05'] # records of May 2017"
   ]
  },
  {
   "cell_type": "markdown",
   "id": "0074afdd",
   "metadata": {},
   "source": [
    "# Resample\n",
    "- helps to analyse data - wickly, quaterly, monthly , etc.... , different type of time span\n",
    "- the index must be in date_time_series"
   ]
  },
  {
   "cell_type": "code",
   "execution_count": 9,
   "id": "30760ca0",
   "metadata": {},
   "outputs": [
    {
     "data": {
      "text/plain": [
       "<pandas.core.resample.DatetimeIndexResampler object at 0x000002029897F520>"
      ]
     },
     "execution_count": 9,
     "metadata": {},
     "output_type": "execute_result"
    }
   ],
   "source": [
    "# provides an object\n",
    "\n",
    "df_monthly = df.resample('M')\n",
    "df_monthly"
   ]
  },
  {
   "cell_type": "markdown",
   "id": "169b7c39",
   "metadata": {},
   "source": [
    "### we can apply methods like : mean, median, sum, max, min etc to find values for each time span specified (here month)\n"
   ]
  },
  {
   "cell_type": "code",
   "execution_count": 10,
   "id": "c851ce1d",
   "metadata": {},
   "outputs": [
    {
     "data": {
      "text/html": [
       "<div>\n",
       "<style scoped>\n",
       "    .dataframe tbody tr th:only-of-type {\n",
       "        vertical-align: middle;\n",
       "    }\n",
       "\n",
       "    .dataframe tbody tr th {\n",
       "        vertical-align: top;\n",
       "    }\n",
       "\n",
       "    .dataframe thead th {\n",
       "        text-align: right;\n",
       "    }\n",
       "</style>\n",
       "<table border=\"1\" class=\"dataframe\">\n",
       "  <thead>\n",
       "    <tr style=\"text-align: right;\">\n",
       "      <th></th>\n",
       "      <th>Open</th>\n",
       "      <th>High</th>\n",
       "      <th>Low</th>\n",
       "      <th>Close</th>\n",
       "      <th>Volume</th>\n",
       "    </tr>\n",
       "    <tr>\n",
       "      <th>Date</th>\n",
       "      <th></th>\n",
       "      <th></th>\n",
       "      <th></th>\n",
       "      <th></th>\n",
       "      <th></th>\n",
       "    </tr>\n",
       "  </thead>\n",
       "  <tbody>\n",
       "    <tr>\n",
       "      <th>2016-07-31</th>\n",
       "      <td>99.422667</td>\n",
       "      <td>100.157333</td>\n",
       "      <td>98.948000</td>\n",
       "      <td>99.473333</td>\n",
       "      <td>3.646981e+07</td>\n",
       "    </tr>\n",
       "    <tr>\n",
       "      <th>2016-08-31</th>\n",
       "      <td>107.462609</td>\n",
       "      <td>108.140435</td>\n",
       "      <td>106.986522</td>\n",
       "      <td>107.665217</td>\n",
       "      <td>2.739689e+07</td>\n",
       "    </tr>\n",
       "    <tr>\n",
       "      <th>2016-09-30</th>\n",
       "      <td>110.673333</td>\n",
       "      <td>111.745238</td>\n",
       "      <td>109.807619</td>\n",
       "      <td>110.857143</td>\n",
       "      <td>4.617282e+07</td>\n",
       "    </tr>\n",
       "    <tr>\n",
       "      <th>2016-10-31</th>\n",
       "      <td>115.743810</td>\n",
       "      <td>116.388095</td>\n",
       "      <td>114.941429</td>\n",
       "      <td>115.707143</td>\n",
       "      <td>3.271020e+07</td>\n",
       "    </tr>\n",
       "    <tr>\n",
       "      <th>2016-11-30</th>\n",
       "      <td>110.098571</td>\n",
       "      <td>111.068095</td>\n",
       "      <td>108.988571</td>\n",
       "      <td>110.154286</td>\n",
       "      <td>3.432798e+07</td>\n",
       "    </tr>\n",
       "  </tbody>\n",
       "</table>\n",
       "</div>"
      ],
      "text/plain": [
       "                  Open        High         Low       Close        Volume\n",
       "Date                                                                    \n",
       "2016-07-31   99.422667  100.157333   98.948000   99.473333  3.646981e+07\n",
       "2016-08-31  107.462609  108.140435  106.986522  107.665217  2.739689e+07\n",
       "2016-09-30  110.673333  111.745238  109.807619  110.857143  4.617282e+07\n",
       "2016-10-31  115.743810  116.388095  114.941429  115.707143  3.271020e+07\n",
       "2016-11-30  110.098571  111.068095  108.988571  110.154286  3.432798e+07"
      ]
     },
     "execution_count": 10,
     "metadata": {},
     "output_type": "execute_result"
    }
   ],
   "source": [
    "df_monthly.mean().head()"
   ]
  },
  {
   "cell_type": "code",
   "execution_count": 11,
   "id": "e482d820",
   "metadata": {},
   "outputs": [
    {
     "data": {
      "text/html": [
       "<div>\n",
       "<style scoped>\n",
       "    .dataframe tbody tr th:only-of-type {\n",
       "        vertical-align: middle;\n",
       "    }\n",
       "\n",
       "    .dataframe tbody tr th {\n",
       "        vertical-align: top;\n",
       "    }\n",
       "\n",
       "    .dataframe thead th {\n",
       "        text-align: right;\n",
       "    }\n",
       "</style>\n",
       "<table border=\"1\" class=\"dataframe\">\n",
       "  <thead>\n",
       "    <tr style=\"text-align: right;\">\n",
       "      <th></th>\n",
       "      <th>Open</th>\n",
       "      <th>High</th>\n",
       "      <th>Low</th>\n",
       "      <th>Close</th>\n",
       "      <th>Volume</th>\n",
       "    </tr>\n",
       "    <tr>\n",
       "      <th>Date</th>\n",
       "      <th></th>\n",
       "      <th></th>\n",
       "      <th></th>\n",
       "      <th></th>\n",
       "      <th></th>\n",
       "    </tr>\n",
       "  </thead>\n",
       "  <tbody>\n",
       "    <tr>\n",
       "      <th>2016-07-31</th>\n",
       "      <td>98.92</td>\n",
       "      <td>99.30</td>\n",
       "      <td>98.50</td>\n",
       "      <td>98.79</td>\n",
       "      <td>30136990.0</td>\n",
       "    </tr>\n",
       "    <tr>\n",
       "      <th>2016-08-31</th>\n",
       "      <td>107.78</td>\n",
       "      <td>108.44</td>\n",
       "      <td>107.68</td>\n",
       "      <td>108.00</td>\n",
       "      <td>25868209.0</td>\n",
       "    </tr>\n",
       "    <tr>\n",
       "      <th>2016-09-30</th>\n",
       "      <td>112.46</td>\n",
       "      <td>113.37</td>\n",
       "      <td>111.55</td>\n",
       "      <td>112.71</td>\n",
       "      <td>36379106.0</td>\n",
       "    </tr>\n",
       "    <tr>\n",
       "      <th>2016-10-31</th>\n",
       "      <td>116.79</td>\n",
       "      <td>116.91</td>\n",
       "      <td>114.72</td>\n",
       "      <td>116.30</td>\n",
       "      <td>28779313.0</td>\n",
       "    </tr>\n",
       "    <tr>\n",
       "      <th>2016-11-30</th>\n",
       "      <td>110.31</td>\n",
       "      <td>111.46</td>\n",
       "      <td>109.66</td>\n",
       "      <td>110.52</td>\n",
       "      <td>29264571.0</td>\n",
       "    </tr>\n",
       "  </tbody>\n",
       "</table>\n",
       "</div>"
      ],
      "text/plain": [
       "              Open    High     Low   Close      Volume\n",
       "Date                                                  \n",
       "2016-07-31   98.92   99.30   98.50   98.79  30136990.0\n",
       "2016-08-31  107.78  108.44  107.68  108.00  25868209.0\n",
       "2016-09-30  112.46  113.37  111.55  112.71  36379106.0\n",
       "2016-10-31  116.79  116.91  114.72  116.30  28779313.0\n",
       "2016-11-30  110.31  111.46  109.66  110.52  29264571.0"
      ]
     },
     "execution_count": 11,
     "metadata": {},
     "output_type": "execute_result"
    }
   ],
   "source": [
    "df_monthly.median().head()"
   ]
  },
  {
   "cell_type": "code",
   "execution_count": 12,
   "id": "1c5a8b5c",
   "metadata": {},
   "outputs": [
    {
     "data": {
      "text/html": [
       "<div>\n",
       "<style scoped>\n",
       "    .dataframe tbody tr th:only-of-type {\n",
       "        vertical-align: middle;\n",
       "    }\n",
       "\n",
       "    .dataframe tbody tr th {\n",
       "        vertical-align: top;\n",
       "    }\n",
       "\n",
       "    .dataframe thead th {\n",
       "        text-align: right;\n",
       "    }\n",
       "</style>\n",
       "<table border=\"1\" class=\"dataframe\">\n",
       "  <thead>\n",
       "    <tr style=\"text-align: right;\">\n",
       "      <th></th>\n",
       "      <th>Open</th>\n",
       "      <th>High</th>\n",
       "      <th>Low</th>\n",
       "      <th>Close</th>\n",
       "      <th>Volume</th>\n",
       "    </tr>\n",
       "    <tr>\n",
       "      <th>Date</th>\n",
       "      <th></th>\n",
       "      <th></th>\n",
       "      <th></th>\n",
       "      <th></th>\n",
       "      <th></th>\n",
       "    </tr>\n",
       "  </thead>\n",
       "  <tbody>\n",
       "    <tr>\n",
       "      <th>2016-07-31</th>\n",
       "      <td>1491.34</td>\n",
       "      <td>1502.36</td>\n",
       "      <td>1484.22</td>\n",
       "      <td>1492.10</td>\n",
       "      <td>547047112</td>\n",
       "    </tr>\n",
       "    <tr>\n",
       "      <th>2016-08-31</th>\n",
       "      <td>2471.64</td>\n",
       "      <td>2487.23</td>\n",
       "      <td>2460.69</td>\n",
       "      <td>2476.30</td>\n",
       "      <td>630128567</td>\n",
       "    </tr>\n",
       "    <tr>\n",
       "      <th>2016-09-30</th>\n",
       "      <td>2324.14</td>\n",
       "      <td>2346.65</td>\n",
       "      <td>2305.96</td>\n",
       "      <td>2328.00</td>\n",
       "      <td>969629146</td>\n",
       "    </tr>\n",
       "    <tr>\n",
       "      <th>2016-10-31</th>\n",
       "      <td>2430.62</td>\n",
       "      <td>2444.15</td>\n",
       "      <td>2413.77</td>\n",
       "      <td>2429.85</td>\n",
       "      <td>686914224</td>\n",
       "    </tr>\n",
       "    <tr>\n",
       "      <th>2016-11-30</th>\n",
       "      <td>2312.07</td>\n",
       "      <td>2332.43</td>\n",
       "      <td>2288.76</td>\n",
       "      <td>2313.24</td>\n",
       "      <td>720887562</td>\n",
       "    </tr>\n",
       "  </tbody>\n",
       "</table>\n",
       "</div>"
      ],
      "text/plain": [
       "               Open     High      Low    Close     Volume\n",
       "Date                                                     \n",
       "2016-07-31  1491.34  1502.36  1484.22  1492.10  547047112\n",
       "2016-08-31  2471.64  2487.23  2460.69  2476.30  630128567\n",
       "2016-09-30  2324.14  2346.65  2305.96  2328.00  969629146\n",
       "2016-10-31  2430.62  2444.15  2413.77  2429.85  686914224\n",
       "2016-11-30  2312.07  2332.43  2288.76  2313.24  720887562"
      ]
     },
     "execution_count": 12,
     "metadata": {},
     "output_type": "execute_result"
    }
   ],
   "source": [
    "df_monthly.sum().head()"
   ]
  },
  {
   "cell_type": "markdown",
   "id": "0b5996ee",
   "metadata": {},
   "source": [
    "### We can even plot useful graphs"
   ]
  },
  {
   "cell_type": "code",
   "execution_count": 13,
   "id": "17573e2e",
   "metadata": {},
   "outputs": [
    {
     "data": {
      "text/plain": [
       "<AxesSubplot:xlabel='Date'>"
      ]
     },
     "execution_count": 13,
     "metadata": {},
     "output_type": "execute_result"
    },
    {
     "data": {
      "image/png": "[encoded data removed]",
      "text/plain": [
       "<Figure size 432x288 with 1 Axes>"
      ]
     },
     "metadata": {
      "needs_background": "light"
     },
     "output_type": "display_data"
    }
   ],
   "source": [
    "%matplotlib inline\n",
    "df.Open.resample('M').mean().plot() # monthly mean"
   ]
  },
  {
   "cell_type": "code",
   "execution_count": 14,
   "id": "a5f22fd0",
   "metadata": {},
   "outputs": [
    {
     "data": {
      "text/plain": [
       "<AxesSubplot:xlabel='Date'>"
      ]
     },
     "execution_count": 14,
     "metadata": {},
     "output_type": "execute_result"
    },
    {
     "data": {
      "image/png": "[encoded data removed]",
      "text/plain": [
       "<Figure size 432x288 with 1 Axes>"
      ]
     },
     "metadata": {
      "needs_background": "light"
     },
     "output_type": "display_data"
    }
   ],
   "source": [
    "%matplotlib inline\n",
    "df.Open.resample('W').mean().plot() # weakly mean"
   ]
  },
  {
   "cell_type": "code",
   "execution_count": 15,
   "id": "4e6a8b2f",
   "metadata": {},
   "outputs": [
    {
     "data": {
      "text/plain": [
       "<AxesSubplot:xlabel='Date'>"
      ]
     },
     "execution_count": 15,
     "metadata": {},
     "output_type": "execute_result"
    },
    {
     "data": {
      "image/png": "[encoded data removed]",
      "text/plain": [
       "<Figure size 432x288 with 1 Axes>"
      ]
     },
     "metadata": {
      "needs_background": "light"
     },
     "output_type": "display_data"
    }
   ],
   "source": [
    "%matplotlib inline\n",
    "df.Open.resample('Q').mean().plot(kind = 'bar') # quaterly mean"
   ]
  },
  {
   "cell_type": "code",
   "execution_count": 16,
   "id": "4368268f",
   "metadata": {},
   "outputs": [
    {
     "data": {
      "text/plain": [
       "<AxesSubplot:xlabel='Date'>"
      ]
     },
     "execution_count": 16,
     "metadata": {},
     "output_type": "execute_result"
    },
    {
     "data": {
      "image/png": "[encoded data removed]",
      "text/plain": [
       "<Figure size 432x288 with 1 Axes>"
      ]
     },
     "metadata": {
      "needs_background": "light"
     },
     "output_type": "display_data"
    }
   ],
   "source": [
    "%matplotlib inline\n",
    "df.Open.resample('B').mean().plot() # Business Day mean (Monday - Friday)"
   ]
  },
  {
   "cell_type": "markdown",
   "id": "bae04db0",
   "metadata": {},
   "source": [
    "# Some offset strings to use\n",
    "\n",
    "\n",
    "- B         = business day frequency\n",
    "- C         = custom business day frequency (experimental)\n",
    "- D         = calendar day frequency\n",
    "- W         = weekly frequency\n",
    "- M         = month end frequency\n",
    "- SM        = semi-month end frequency (15th and end of month)\n",
    "- BM        = business month end frequency\n",
    "- CBM       = custom business month end frequency\n",
    "- MS        = month start frequency\n",
    "- SMS       = semi-month start frequency (1st and 15th)\n",
    "- BMS       = business month start frequency\n",
    "- CBMS      = custom business month start frequency\n",
    "- Q         = quarter end frequency\n",
    "- BQ        = business quarter endfrequency\n",
    "- QS        = quarter start frequency\n",
    "- BQS       = business quarter start frequency\n",
    "- A         = year end frequency\n",
    "- BA, BY    = business year end frequency\n",
    "- AS, YS    = year start frequency\n",
    "- BAS, BYS  = business year start frequency\n",
    "- BH        = business hour frequency\n",
    "- H         = hourly frequency\n",
    "- T, min    = minutely frequency\n",
    "- S         = secondly frequency\n",
    "- L, ms     = milliseconds\n",
    "- U, us     = microseconds\n",
    "- N         = nanoseconds"
   ]
  }
 ],
 "metadata": {
  "kernelspec": {
   "display_name": "Python 3",
   "language": "python",
   "name": "python3"
  },
  "language_info": {
   "codemirror_mode": {
    "name": "ipython",
    "version": 3
   },
   "file_extension": ".py",
   "mimetype": "text/x-python",
   "name": "python",
   "nbconvert_exporter": "python",
   "pygments_lexer": "ipython3",
   "version": "3.8.8"
  }
 },
 "nbformat": 4,
 "nbformat_minor": 5
}

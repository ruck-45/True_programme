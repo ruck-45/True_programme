{
 "cells": [
  {
   "cell_type": "code",
   "execution_count": 1,
   "id": "fd925000",
   "metadata": {},
   "outputs": [],
   "source": [
    "import pandas as pd"
   ]
  },
  {
   "cell_type": "markdown",
   "id": "fb36afac",
   "metadata": {},
   "source": [
    "# Creating a series"
   ]
  },
  {
   "cell_type": "markdown",
   "id": "613f0079",
   "metadata": {},
   "source": [
    "## from list"
   ]
  },
  {
   "cell_type": "code",
   "execution_count": 3,
   "id": "90f3137e",
   "metadata": {},
   "outputs": [
    {
     "data": {
      "text/plain": [
       "0                  math\n",
       "1               science\n",
       "2               english\n",
       "3    physical education\n",
       "dtype: object"
      ]
     },
     "execution_count": 3,
     "metadata": {},
     "output_type": "execute_result"
    }
   ],
   "source": [
    "S = pd.Series(['math','science','english','physical education'])\n",
    "S"
   ]
  },
  {
   "cell_type": "markdown",
   "id": "5472105d",
   "metadata": {},
   "source": [
    "## from dictionary\n",
    "- simultaneously specifies the index"
   ]
  },
  {
   "cell_type": "code",
   "execution_count": 13,
   "id": "afc4221c",
   "metadata": {},
   "outputs": [
    {
     "data": {
      "text/plain": [
       "a                  math\n",
       "b               science\n",
       "c               english\n",
       "d    physical education\n",
       "dtype: object"
      ]
     },
     "execution_count": 13,
     "metadata": {},
     "output_type": "execute_result"
    }
   ],
   "source": [
    "S = pd.Series({\n",
    "    'a':'math',\n",
    "    'b':'science',\n",
    "    'c':'english',\n",
    "    'd':'physical education'})\n",
    "S"
   ]
  },
  {
   "cell_type": "markdown",
   "id": "b29e5f8f",
   "metadata": {},
   "source": [
    "## from scaller\n",
    "- if index provided it will repeat the scaller"
   ]
  },
  {
   "cell_type": "code",
   "execution_count": 14,
   "id": "f823ebb3",
   "metadata": {},
   "outputs": [
    {
     "data": {
      "text/plain": [
       "0    56\n",
       "dtype: int64"
      ]
     },
     "execution_count": 14,
     "metadata": {},
     "output_type": "execute_result"
    }
   ],
   "source": [
    "S = pd.Series(56)\n",
    "S"
   ]
  },
  {
   "cell_type": "code",
   "execution_count": 15,
   "id": "5099b824",
   "metadata": {},
   "outputs": [
    {
     "data": {
      "text/plain": [
       "1    56\n",
       "2    56\n",
       "3    56\n",
       "4    56\n",
       "5    56\n",
       "dtype: int64"
      ]
     },
     "execution_count": 15,
     "metadata": {},
     "output_type": "execute_result"
    }
   ],
   "source": [
    "S = pd.Series(56, index=[1,2,3,4,5])\n",
    "S"
   ]
  },
  {
   "cell_type": "markdown",
   "id": "05915acd",
   "metadata": {},
   "source": [
    "# index attribute\n",
    "- changes the default index\n",
    "- we can use different values as index like : integers, float, alphabets\n",
    "- we must provide the same number of index as the number of elements in series otherwise it will throw error"
   ]
  },
  {
   "cell_type": "code",
   "execution_count": 4,
   "id": "3995c213",
   "metadata": {},
   "outputs": [
    {
     "data": {
      "text/plain": [
       "A                  math\n",
       "B               science\n",
       "C               english\n",
       "D    physical education\n",
       "dtype: object"
      ]
     },
     "execution_count": 4,
     "metadata": {},
     "output_type": "execute_result"
    }
   ],
   "source": [
    "S = pd.Series(['math','science','english','physical education'], index= ['A','B','C','D'])\n",
    "S"
   ]
  },
  {
   "cell_type": "markdown",
   "id": "82bd1524",
   "metadata": {},
   "source": [
    "# dtype attribute\n",
    "- changes the datatype of series"
   ]
  },
  {
   "cell_type": "code",
   "execution_count": 8,
   "id": "24226bfe",
   "metadata": {},
   "outputs": [
    {
     "data": {
      "text/plain": [
       "0    45.0\n",
       "1    65.0\n",
       "2    78.0\n",
       "3    41.0\n",
       "dtype: float64"
      ]
     },
     "execution_count": 8,
     "metadata": {},
     "output_type": "execute_result"
    }
   ],
   "source": [
    "S = pd.Series([45,65,78,41], dtype= float)\n",
    "S"
   ]
  },
  {
   "cell_type": "markdown",
   "id": "2ce8cbb9",
   "metadata": {},
   "source": [
    "# name attribute\n",
    "- gives name to series"
   ]
  },
  {
   "cell_type": "code",
   "execution_count": 9,
   "id": "1a59def5",
   "metadata": {},
   "outputs": [
    {
     "data": {
      "text/plain": [
       "0    45\n",
       "1    65\n",
       "2    78\n",
       "3    41\n",
       "Name: Score, dtype: int64"
      ]
     },
     "execution_count": 9,
     "metadata": {},
     "output_type": "execute_result"
    }
   ],
   "source": [
    "S = pd.Series([45,65,78,41], name= \"Score\")\n",
    "S"
   ]
  },
  {
   "cell_type": "markdown",
   "id": "8ecbbbae",
   "metadata": {},
   "source": [
    "# Series supports almost all numpy properties and methods"
   ]
  },
  {
   "cell_type": "code",
   "execution_count": 16,
   "id": "1eb05ca3",
   "metadata": {
    "scrolled": true
   },
   "outputs": [
    {
     "data": {
      "text/plain": [
       "0    1\n",
       "1    2\n",
       "2    3\n",
       "3    4\n",
       "4    5\n",
       "5    6\n",
       "6    7\n",
       "7    8\n",
       "8    9\n",
       "dtype: int64"
      ]
     },
     "execution_count": 16,
     "metadata": {},
     "output_type": "execute_result"
    }
   ],
   "source": [
    "S = pd.Series([1,2,3,4,5,6,7,8,9])\n",
    "S"
   ]
  },
  {
   "cell_type": "code",
   "execution_count": 24,
   "id": "15b6121e",
   "metadata": {},
   "outputs": [
    {
     "data": {
      "text/plain": [
       "5    6\n",
       "4    5\n",
       "3    4\n",
       "2    3\n",
       "1    2\n",
       "0    1\n",
       "dtype: int64"
      ]
     },
     "execution_count": 24,
     "metadata": {},
     "output_type": "execute_result"
    }
   ],
   "source": [
    "S[-4::-1]"
   ]
  },
  {
   "cell_type": "code",
   "execution_count": 23,
   "id": "30e5f0ad",
   "metadata": {},
   "outputs": [
    {
     "data": {
      "text/plain": [
       "(1, (9,), 9)"
      ]
     },
     "execution_count": 23,
     "metadata": {},
     "output_type": "execute_result"
    }
   ],
   "source": [
    "S.ndim, S.shape, S.size"
   ]
  },
  {
   "cell_type": "code",
   "execution_count": 25,
   "id": "b390ba86",
   "metadata": {},
   "outputs": [
    {
     "data": {
      "text/plain": [
       "5    6\n",
       "6    7\n",
       "7    8\n",
       "8    9\n",
       "dtype: int64"
      ]
     },
     "execution_count": 25,
     "metadata": {},
     "output_type": "execute_result"
    }
   ],
   "source": [
    "S[S>5]"
   ]
  },
  {
   "cell_type": "code",
   "execution_count": 18,
   "id": "11c372f6",
   "metadata": {},
   "outputs": [
    {
     "data": {
      "text/plain": [
       "(9, 1, 5.0)"
      ]
     },
     "execution_count": 18,
     "metadata": {},
     "output_type": "execute_result"
    }
   ],
   "source": [
    "S.max(), S.min(), S.mean()"
   ]
  },
  {
   "cell_type": "code",
   "execution_count": 26,
   "id": "b93d0654",
   "metadata": {},
   "outputs": [
    {
     "data": {
      "text/plain": [
       "0   -1\n",
       "1   -5\n",
       "2   -8\n",
       "dtype: int64"
      ]
     },
     "execution_count": 26,
     "metadata": {},
     "output_type": "execute_result"
    }
   ],
   "source": [
    "Q = pd.Series([-1,-5,-8])\n",
    "Q"
   ]
  },
  {
   "cell_type": "code",
   "execution_count": 29,
   "id": "a8af1c84",
   "metadata": {},
   "outputs": [
    {
     "data": {
      "text/plain": [
       "0     2.0\n",
       "1     7.0\n",
       "2    11.0\n",
       "3     NaN\n",
       "4     NaN\n",
       "5     NaN\n",
       "6     NaN\n",
       "7     NaN\n",
       "8     NaN\n",
       "dtype: float64"
      ]
     },
     "execution_count": 29,
     "metadata": {},
     "output_type": "execute_result"
    }
   ],
   "source": [
    "S-Q # Pandas can handle Missing Data ( the length mismatch didnot throw an error), NAN = Not A Number"
   ]
  }
 ],
 "metadata": {
  "kernelspec": {
   "display_name": "Python 3 (ipykernel)",
   "language": "python",
   "name": "python3"
  },
  "language_info": {
   "codemirror_mode": {
    "name": "ipython",
    "version": 3
   },
   "file_extension": ".py",
   "mimetype": "text/x-python",
   "name": "python",
   "nbconvert_exporter": "python",
   "pygments_lexer": "ipython3",
   "version": "3.9.12"
  }
 },
 "nbformat": 4,
 "nbformat_minor": 5
}

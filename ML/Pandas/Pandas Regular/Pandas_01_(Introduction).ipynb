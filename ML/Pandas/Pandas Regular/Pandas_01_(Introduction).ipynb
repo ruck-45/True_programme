{
 "cells": [
  {
   "cell_type": "code",
   "execution_count": 5,
   "id": "afd6c13d",
   "metadata": {},
   "outputs": [],
   "source": [
    "import pandas as pd"
   ]
  },
  {
   "cell_type": "markdown",
   "id": "1e594e09",
   "metadata": {},
   "source": [
    "# Introduction"
   ]
  },
  {
   "cell_type": "code",
   "execution_count": 3,
   "id": "cd6b447a",
   "metadata": {},
   "outputs": [],
   "source": [
    "# - Its a powerful Data analysis toolkit\n",
    "# - Its open source\n",
    "# - It supports different formats like : csv, tsv, txt, XML, JSON, ZIP etc..."
   ]
  },
  {
   "cell_type": "markdown",
   "id": "00c07ec0",
   "metadata": {},
   "source": [
    "# Pandas Data Structures"
   ]
  },
  {
   "cell_type": "code",
   "execution_count": null,
   "id": "388bddc7",
   "metadata": {},
   "outputs": [],
   "source": [
    "# - Series (1D Labeled Homogeneous Array)\n",
    "# - DataFrame (2D Labeled Heterogenous Tabular Structure)\n",
    "# - Panel (3D Labeled Array)"
   ]
  },
  {
   "cell_type": "markdown",
   "id": "b9b77d8e",
   "metadata": {},
   "source": [
    "# Pandas Version"
   ]
  },
  {
   "cell_type": "code",
   "execution_count": 9,
   "id": "b33ef07f",
   "metadata": {},
   "outputs": [
    {
     "data": {
      "text/plain": [
       "'1.2.4'"
      ]
     },
     "execution_count": 9,
     "metadata": {},
     "output_type": "execute_result"
    }
   ],
   "source": [
    "pd.__version__"
   ]
  }
 ],
 "metadata": {
  "kernelspec": {
   "display_name": "Python 3",
   "language": "python",
   "name": "python3"
  },
  "language_info": {
   "codemirror_mode": {
    "name": "ipython",
    "version": 3
   },
   "file_extension": ".py",
   "mimetype": "text/x-python",
   "name": "python",
   "nbconvert_exporter": "python",
   "pygments_lexer": "ipython3",
   "version": "3.8.8"
  }
 },
 "nbformat": 4,
 "nbformat_minor": 5
}

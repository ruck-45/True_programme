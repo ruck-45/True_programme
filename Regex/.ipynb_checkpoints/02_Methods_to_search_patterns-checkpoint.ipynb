{
 "cells": [
  {
   "cell_type": "markdown",
   "id": "f5f7539d",
   "metadata": {},
   "source": [
    "# All methods to search for a pattern are:\n",
    "\n",
    "- finditer ( )\n",
    "- findall ( )\n",
    "- match ( )\n",
    "- search ( )"
   ]
  },
  {
   "cell_type": "code",
   "execution_count": 1,
   "id": "cbe1b5af",
   "metadata": {},
   "outputs": [],
   "source": [
    "import re"
   ]
  },
  {
   "cell_type": "code",
   "execution_count": 7,
   "id": "09fa3927",
   "metadata": {},
   "outputs": [],
   "source": [
    "string = '123abc456789abc123ABC'"
   ]
  },
  {
   "cell_type": "markdown",
   "id": "cce1a569",
   "metadata": {},
   "source": [
    "### finditer( )\n",
    "- It is the most useful method among all\n",
    "- It returns all pattern maches in form of an iterable containing 'Match' objects\n",
    "- The object contains the string along with the span ( The interval in which the match lies)"
   ]
  },
  {
   "cell_type": "code",
   "execution_count": 27,
   "id": "0c7c8d8b",
   "metadata": {},
   "outputs": [
    {
     "name": "stdout",
     "output_type": "stream",
     "text": [
      "<re.Match object; span=(3, 6), match='abc'>\n",
      "<re.Match object; span=(12, 15), match='abc'>\n"
     ]
    }
   ],
   "source": [
    "pattern  = re.compile(r'abc')\n",
    "\n",
    "matches = pattern.finditer(string)\n",
    "\n",
    "# each object is a match object\n",
    "for i in matches:\n",
    "    print(i)"
   ]
  },
  {
   "cell_type": "code",
   "execution_count": 12,
   "id": "624ce1a0",
   "metadata": {},
   "outputs": [
    {
     "name": "stdout",
     "output_type": "stream",
     "text": [
      "<re.Match object; span=(0, 3), match='123'>\n",
      "<re.Match object; span=(6, 9), match='456'>\n",
      "<re.Match object; span=(9, 12), match='789'>\n",
      "<re.Match object; span=(15, 18), match='123'>\n"
     ]
    }
   ],
   "source": [
    "pattern  = re.compile(r'\\d\\d\\d')\n",
    "\n",
    "matches = pattern.finditer(string)\n",
    "\n",
    "for i in matches:\n",
    "    print(i)"
   ]
  },
  {
   "cell_type": "markdown",
   "id": "28f237a8",
   "metadata": {},
   "source": [
    "### findall( )\n",
    "- It finds all matches\n",
    "- But only returns the string"
   ]
  },
  {
   "cell_type": "code",
   "execution_count": 14,
   "id": "f0b41d0d",
   "metadata": {},
   "outputs": [
    {
     "name": "stdout",
     "output_type": "stream",
     "text": [
      "12\n",
      "45\n",
      "67\n",
      "89\n",
      "12\n"
     ]
    }
   ],
   "source": [
    "pattern = re.compile(r'\\d\\d')\n",
    "\n",
    "matches = pattern.findall(string)\n",
    "\n",
    "for i in matches:\n",
    "    print(i)"
   ]
  },
  {
   "cell_type": "markdown",
   "id": "12fc5e1b",
   "metadata": {},
   "source": [
    "### match( )\n",
    "- It only matches the pattern with the starting of the  string\n",
    "- If the pattren matches correctly then it returns an object containing the string and its span\n",
    "- Else, it returns and object with None datatype"
   ]
  },
  {
   "cell_type": "code",
   "execution_count": 17,
   "id": "beb92573",
   "metadata": {},
   "outputs": [
    {
     "data": {
      "text/plain": [
       "<re.Match object; span=(0, 3), match='123'>"
      ]
     },
     "execution_count": 17,
     "metadata": {},
     "output_type": "execute_result"
    }
   ],
   "source": [
    "pattern = re.compile(r'123')\n",
    "\n",
    "pattern.match(string)"
   ]
  },
  {
   "cell_type": "code",
   "execution_count": 25,
   "id": "218906cb",
   "metadata": {},
   "outputs": [
    {
     "name": "stdout",
     "output_type": "stream",
     "text": [
      "<class 'NoneType'>\n"
     ]
    }
   ],
   "source": [
    "pattern = re.compile(r'abc')\n",
    "\n",
    "print(type(pattern.match(string)))"
   ]
  },
  {
   "cell_type": "markdown",
   "id": "1b2d0af0",
   "metadata": {},
   "source": [
    "### search( )\n",
    "- It searches for the pattern and returns the first occurance of that pattern only\n",
    "- Else, it returns and object with None datatype"
   ]
  },
  {
   "cell_type": "code",
   "execution_count": 20,
   "id": "65bfb42d",
   "metadata": {},
   "outputs": [
    {
     "data": {
      "text/plain": [
       "<re.Match object; span=(3, 6), match='abc'>"
      ]
     },
     "execution_count": 20,
     "metadata": {},
     "output_type": "execute_result"
    }
   ],
   "source": [
    "pattern = re.compile(r'abc')\n",
    "\n",
    "pattern.search(string)"
   ]
  },
  {
   "cell_type": "code",
   "execution_count": 21,
   "id": "4d93acdf",
   "metadata": {},
   "outputs": [
    {
     "data": {
      "text/plain": [
       "<re.Match object; span=(0, 3), match='123'>"
      ]
     },
     "execution_count": 21,
     "metadata": {},
     "output_type": "execute_result"
    }
   ],
   "source": [
    "pattern = re.compile(r'123')\n",
    "\n",
    "pattern.search(string)"
   ]
  },
  {
   "cell_type": "code",
   "execution_count": 26,
   "id": "cd3c2327",
   "metadata": {},
   "outputs": [
    {
     "name": "stdout",
     "output_type": "stream",
     "text": [
      "None\n"
     ]
    }
   ],
   "source": [
    "pattern = re.compile(r'def')\n",
    "\n",
    "print(pattern.search(string))"
   ]
  }
 ],
 "metadata": {
  "kernelspec": {
   "display_name": "Python 3",
   "language": "python",
   "name": "python3"
  },
  "language_info": {
   "codemirror_mode": {
    "name": "ipython",
    "version": 3
   },
   "file_extension": ".py",
   "mimetype": "text/x-python",
   "name": "python",
   "nbconvert_exporter": "python",
   "pygments_lexer": "ipython3",
   "version": "3.8.8"
  }
 },
 "nbformat": 4,
 "nbformat_minor": 5
}

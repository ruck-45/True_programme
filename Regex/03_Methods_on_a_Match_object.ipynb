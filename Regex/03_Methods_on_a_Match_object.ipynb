{
 "cells": [
  {
   "cell_type": "markdown",
   "id": "f0f387bf",
   "metadata": {},
   "source": [
    "## Note: \n",
    "- A Match object is an iterator, that means it can only be itered through once."
   ]
  },
  {
   "cell_type": "markdown",
   "id": "8d61cb78",
   "metadata": {},
   "source": [
    "# Methods we can apply on a Match object are\n",
    "- group( )\n",
    "- span ( )\n",
    "- start ( )\n",
    "- end ( )"
   ]
  },
  {
   "cell_type": "code",
   "execution_count": 1,
   "id": "89c80b32",
   "metadata": {},
   "outputs": [],
   "source": [
    "import re"
   ]
  },
  {
   "cell_type": "code",
   "execution_count": 2,
   "id": "f7f883a2",
   "metadata": {},
   "outputs": [],
   "source": [
    "string = '123abc456789123abc456ABCbca321'"
   ]
  },
  {
   "cell_type": "code",
   "execution_count": 20,
   "id": "8c27f1a9",
   "metadata": {},
   "outputs": [],
   "source": [
    "pattern = re.compile('\\d\\d\\d')"
   ]
  },
  {
   "cell_type": "code",
   "execution_count": 21,
   "id": "409a0f22",
   "metadata": {},
   "outputs": [
    {
     "name": "stdout",
     "output_type": "stream",
     "text": [
      "<re.Match object; span=(0, 3), match='123'>\n",
      "<re.Match object; span=(6, 9), match='456'>\n",
      "<re.Match object; span=(9, 12), match='789'>\n",
      "<re.Match object; span=(12, 15), match='123'>\n",
      "<re.Match object; span=(18, 21), match='456'>\n",
      "<re.Match object; span=(27, 30), match='321'>\n"
     ]
    }
   ],
   "source": [
    "for i in pattern.finditer(string):\n",
    "    print(i)"
   ]
  },
  {
   "cell_type": "markdown",
   "id": "4e8b5e16",
   "metadata": {},
   "source": [
    "### group ( )\n",
    "- This returns the substring obtained after matching"
   ]
  },
  {
   "cell_type": "code",
   "execution_count": 22,
   "id": "026bb4e4",
   "metadata": {},
   "outputs": [
    {
     "name": "stdout",
     "output_type": "stream",
     "text": [
      "123\n",
      "456\n",
      "789\n",
      "123\n",
      "456\n",
      "321\n"
     ]
    }
   ],
   "source": [
    "for i in pattern.finditer(string):\n",
    "    print(i.group())"
   ]
  },
  {
   "cell_type": "markdown",
   "id": "62696a50",
   "metadata": {},
   "source": [
    "### span ( )\n",
    "- gives the span (position) of the matched substring "
   ]
  },
  {
   "cell_type": "code",
   "execution_count": 23,
   "id": "97661ab5",
   "metadata": {
    "scrolled": true
   },
   "outputs": [
    {
     "name": "stdout",
     "output_type": "stream",
     "text": [
      "(0, 3)\n",
      "(6, 9)\n",
      "(9, 12)\n",
      "(12, 15)\n",
      "(18, 21)\n",
      "(27, 30)\n"
     ]
    }
   ],
   "source": [
    "for i in pattern.finditer(string):\n",
    "    print(i.span())"
   ]
  },
  {
   "cell_type": "markdown",
   "id": "3f02c0d6",
   "metadata": {},
   "source": [
    "### start ( )\n",
    "- gives the start position of each matched substring"
   ]
  },
  {
   "cell_type": "code",
   "execution_count": 24,
   "id": "98283fc0",
   "metadata": {},
   "outputs": [
    {
     "name": "stdout",
     "output_type": "stream",
     "text": [
      "0\n",
      "6\n",
      "9\n",
      "12\n",
      "18\n",
      "27\n"
     ]
    }
   ],
   "source": [
    "for i in pattern.finditer(string):\n",
    "    print(i.start())"
   ]
  },
  {
   "cell_type": "markdown",
   "id": "53efb02d",
   "metadata": {},
   "source": [
    "### end ( )\n",
    "- gives the end position of each matched substring"
   ]
  },
  {
   "cell_type": "code",
   "execution_count": 25,
   "id": "09f27b3e",
   "metadata": {},
   "outputs": [
    {
     "name": "stdout",
     "output_type": "stream",
     "text": [
      "3\n",
      "9\n",
      "12\n",
      "15\n",
      "21\n",
      "30\n"
     ]
    }
   ],
   "source": [
    "for i in pattern.finditer(string):\n",
    "    print(i.end())"
   ]
  }
 ],
 "metadata": {
  "kernelspec": {
   "display_name": "Python 3",
   "language": "python",
   "name": "python3"
  },
  "language_info": {
   "codemirror_mode": {
    "name": "ipython",
    "version": 3
   },
   "file_extension": ".py",
   "mimetype": "text/x-python",
   "name": "python",
   "nbconvert_exporter": "python",
   "pygments_lexer": "ipython3",
   "version": "3.8.8"
  }
 },
 "nbformat": 4,
 "nbformat_minor": 5
}

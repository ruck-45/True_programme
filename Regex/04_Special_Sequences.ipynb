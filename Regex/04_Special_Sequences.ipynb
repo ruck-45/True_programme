{
 "cells": [
  {
   "cell_type": "code",
   "execution_count": 1,
   "id": "e3bbe1bb",
   "metadata": {},
   "outputs": [],
   "source": [
    "import re"
   ]
  },
  {
   "cell_type": "markdown",
   "id": "df75d5cb",
   "metadata": {},
   "source": [
    "# Special Sequences\n",
    "- These are escape sequences used to match items in regex\n",
    "- Special Sequence cheat sheet :-\n",
    "    - \\d : Matches any decimal digit charecter ( [0-9] )\n",
    "    - \\D : Matches any non-decimal digit charecter\n",
    "    <hr>\n",
    "    - \\s : Matches any white space charecter ( space : ' ', tab : '\\t' , new_line : '\\n' )\n",
    "    - \\S : Matches any non-white space charecter\n",
    "    <hr>\n",
    "    - \\w : Matches any alpha-numeric charecter ( [a-zA-Z0-9] and underscore '_' )\n",
    "    - \\W : Matches any non-alpha-numeric charecter\n",
    "    <hr>\n",
    "    - \\b : Matches where the specified charecters are at the beginning or at the end of a word ( word : \"Brain\" , r\"ain\\b\" )\n",
    "    - \\B : Matches where the specified charecters are present, But not at the begining or at the end of a word"
   ]
  },
  {
   "cell_type": "markdown",
   "id": "09e6f70d",
   "metadata": {},
   "source": [
    "### Note : \n",
    "- The capital_case Sequences perform the exact opposite matching of their lower_case counterparts"
   ]
  },
  {
   "cell_type": "markdown",
   "id": "c4f7cc31",
   "metadata": {},
   "source": [
    "# \\d and \\D\n",
    "- \\d : Matches any decimal digit charecter ( [0-9] )\n",
    "- \\D : Matches any non-decimal digit charecter"
   ]
  },
  {
   "cell_type": "code",
   "execution_count": 2,
   "id": "523382b7",
   "metadata": {},
   "outputs": [
    {
     "data": {
      "text/plain": [
       "[<re.Match object; span=(3, 4), match='1'>,\n",
       " <re.Match object; span=(4, 5), match='2'>,\n",
       " <re.Match object; span=(5, 6), match='3'>,\n",
       " <re.Match object; span=(8, 9), match='7'>,\n",
       " <re.Match object; span=(9, 10), match='8'>,\n",
       " <re.Match object; span=(10, 11), match='9'>]"
      ]
     },
     "execution_count": 2,
     "metadata": {},
     "output_type": "execute_result"
    }
   ],
   "source": [
    "string = 'abc123xy789@gamil.com !'\n",
    "\n",
    "pattern = re.compile(r'\\d')\n",
    "arr = [i for i in pattern.finditer(string)]\n",
    "arr"
   ]
  },
  {
   "cell_type": "code",
   "execution_count": 3,
   "id": "ebdd2b6b",
   "metadata": {},
   "outputs": [
    {
     "data": {
      "text/plain": [
       "[<re.Match object; span=(3, 6), match='123'>,\n",
       " <re.Match object; span=(8, 11), match='789'>]"
      ]
     },
     "execution_count": 3,
     "metadata": {},
     "output_type": "execute_result"
    }
   ],
   "source": [
    "pattern = re.compile(r'\\d\\d\\d')\n",
    "arr = [i for i in pattern.finditer(string)]\n",
    "arr"
   ]
  },
  {
   "cell_type": "code",
   "execution_count": 4,
   "id": "2215995b",
   "metadata": {
    "scrolled": true
   },
   "outputs": [
    {
     "data": {
      "text/plain": [
       "[<re.Match object; span=(0, 2), match='ab'>,\n",
       " <re.Match object; span=(6, 8), match='xy'>,\n",
       " <re.Match object; span=(11, 13), match='@g'>,\n",
       " <re.Match object; span=(13, 15), match='am'>,\n",
       " <re.Match object; span=(15, 17), match='il'>,\n",
       " <re.Match object; span=(17, 19), match='.c'>,\n",
       " <re.Match object; span=(19, 21), match='om'>,\n",
       " <re.Match object; span=(21, 23), match=' !'>]"
      ]
     },
     "execution_count": 4,
     "metadata": {},
     "output_type": "execute_result"
    }
   ],
   "source": [
    "pattern = re.compile(r'\\D\\D')\n",
    "arr = [i for i in pattern.finditer(string)]\n",
    "arr"
   ]
  },
  {
   "cell_type": "markdown",
   "id": "7099dcb3",
   "metadata": {},
   "source": [
    "# \\s and \\S\n",
    "- \\s : Matches any white space charecter ( space : ' ', tab : '\\t' , new_line : '\\n' )\n",
    "- \\S : Matches any non-white space charecter"
   ]
  },
  {
   "cell_type": "code",
   "execution_count": 5,
   "id": "12c71486",
   "metadata": {},
   "outputs": [
    {
     "name": "stdout",
     "output_type": "stream",
     "text": [
      "Hello ! Welcome Everyone.\n",
      "I am xyz123abc\t45uyt\n"
     ]
    }
   ],
   "source": [
    "string = 'Hello ! Welcome Everyone.\\nI am xyz123abc\\t45uyt'\n",
    "print(string)"
   ]
  },
  {
   "cell_type": "code",
   "execution_count": 6,
   "id": "7963d997",
   "metadata": {},
   "outputs": [
    {
     "data": {
      "text/plain": [
       "[<re.Match object; span=(5, 6), match=' '>,\n",
       " <re.Match object; span=(7, 8), match=' '>,\n",
       " <re.Match object; span=(15, 16), match=' '>,\n",
       " <re.Match object; span=(25, 26), match='\\n'>,\n",
       " <re.Match object; span=(27, 28), match=' '>,\n",
       " <re.Match object; span=(30, 31), match=' '>,\n",
       " <re.Match object; span=(40, 41), match='\\t'>]"
      ]
     },
     "execution_count": 6,
     "metadata": {},
     "output_type": "execute_result"
    }
   ],
   "source": [
    "pattern = re.compile(r'\\s')\n",
    "arr = [i for i in pattern.finditer(string)]\n",
    "arr"
   ]
  },
  {
   "cell_type": "code",
   "execution_count": 7,
   "id": "ee7a8d5a",
   "metadata": {
    "scrolled": false
   },
   "outputs": [
    {
     "data": {
      "text/plain": [
       "[<re.Match object; span=(0, 3), match='Hel'>,\n",
       " <re.Match object; span=(8, 11), match='Wel'>,\n",
       " <re.Match object; span=(11, 14), match='com'>,\n",
       " <re.Match object; span=(16, 19), match='Eve'>,\n",
       " <re.Match object; span=(19, 22), match='ryo'>,\n",
       " <re.Match object; span=(22, 25), match='ne.'>,\n",
       " <re.Match object; span=(31, 34), match='xyz'>,\n",
       " <re.Match object; span=(34, 37), match='123'>,\n",
       " <re.Match object; span=(37, 40), match='abc'>,\n",
       " <re.Match object; span=(41, 44), match='45u'>]"
      ]
     },
     "execution_count": 7,
     "metadata": {},
     "output_type": "execute_result"
    }
   ],
   "source": [
    "pattern = re.compile(r'\\S\\S\\S')\n",
    "arr = [i for i in pattern.finditer(string)]\n",
    "arr"
   ]
  },
  {
   "cell_type": "markdown",
   "id": "62514f51",
   "metadata": {},
   "source": [
    "# \\w and \\W\n",
    "- \\w : Matches any alpha-numeric charecter ( [a-zA-Z0-9] and underscore '_' )\n",
    "- \\W : Matches any non-alpha-numeric charecter"
   ]
  },
  {
   "cell_type": "code",
   "execution_count": 8,
   "id": "3f9e7e5f",
   "metadata": {},
   "outputs": [
    {
     "name": "stdout",
     "output_type": "stream",
     "text": [
      "Hello ! Welcome Everyone.\n",
      "Name:xyz123abc\t45uyt.\n",
      "Email:abc123xyz@gmail.com\n"
     ]
    }
   ],
   "source": [
    "string = 'Hello ! Welcome Everyone.\\nName:xyz123abc\\t45uyt.\\nEmail:abc123xyz@gmail.com'\n",
    "print(string)"
   ]
  },
  {
   "cell_type": "code",
   "execution_count": 9,
   "id": "1dd8eac6",
   "metadata": {},
   "outputs": [
    {
     "name": "stdout",
     "output_type": "stream",
     "text": [
      "['H', 'e', 'l', 'l', 'o', 'W', 'e', 'l', 'c', 'o', 'm', 'e', 'E', 'v', 'e', 'r', 'y', 'o', 'n', 'e', 'N', 'a', 'm', 'e', 'x', 'y', 'z', '1', '2', '3', 'a', 'b', 'c', '4', '5', 'u', 'y', 't', 'E', 'm', 'a', 'i', 'l', 'a', 'b', 'c', '1', '2', '3', 'x', 'y', 'z', 'g', 'm', 'a', 'i', 'l', 'c', 'o', 'm']\n"
     ]
    }
   ],
   "source": [
    "pattern = re.compile(r'\\w')\n",
    "arr = [i for i in pattern.findall(string)]\n",
    "print(arr)"
   ]
  },
  {
   "cell_type": "code",
   "execution_count": 10,
   "id": "b86a14f0",
   "metadata": {},
   "outputs": [
    {
     "name": "stdout",
     "output_type": "stream",
     "text": [
      "[' ', '!', ' ', ' ', '.', '\\n', ':', '\\t', '.', '\\n', ':', '@', '.']\n"
     ]
    }
   ],
   "source": [
    "pattern = re.compile(r'\\W')\n",
    "arr = [i for i in pattern.findall(string)]\n",
    "print(arr)"
   ]
  },
  {
   "cell_type": "markdown",
   "id": "7084d26d",
   "metadata": {},
   "source": [
    "# \\b and \\B\n",
    "- \\b : Matches where the specified charecters are at the beginning or at the end of a word ( word : \"Brain\" , r\"ain\\b\" )\n",
    "- \\B : Matches where the specified charecters are present, But not at the begining or at the end of a wordcharecter"
   ]
  },
  {
   "cell_type": "code",
   "execution_count": 26,
   "id": "2a4f7cd3",
   "metadata": {},
   "outputs": [
    {
     "name": "stdout",
     "output_type": "stream",
     "text": [
      "Eat Neat Meat in the Kit For the Feat . attend the wedding at curch to attone for your sins.\n"
     ]
    }
   ],
   "source": [
    "string = 'Eat Neat Meat in the Kit For the Feat . attend the wedding at curch to attone for your sins.'\n",
    "print(string)"
   ]
  },
  {
   "cell_type": "code",
   "execution_count": 28,
   "id": "385fae37",
   "metadata": {},
   "outputs": [
    {
     "data": {
      "text/plain": [
       "[<re.Match object; span=(0, 3), match='Eat'>,\n",
       " <re.Match object; span=(4, 8), match='Neat'>,\n",
       " <re.Match object; span=(9, 13), match='Meat'>,\n",
       " <re.Match object; span=(33, 37), match='Feat'>,\n",
       " <re.Match object; span=(59, 61), match='at'>]"
      ]
     },
     "execution_count": 28,
     "metadata": {},
     "output_type": "execute_result"
    }
   ],
   "source": [
    "pattern = re.compile(r'\\w*at\\b')\n",
    "arr = [i for i in pattern.finditer(string)]\n",
    "arr"
   ]
  },
  {
   "cell_type": "code",
   "execution_count": 30,
   "id": "e7af141e",
   "metadata": {
    "scrolled": true
   },
   "outputs": [
    {
     "data": {
      "text/plain": [
       "[<re.Match object; span=(40, 46), match='attend'>,\n",
       " <re.Match object; span=(59, 61), match='at'>,\n",
       " <re.Match object; span=(71, 77), match='attone'>]"
      ]
     },
     "execution_count": 30,
     "metadata": {},
     "output_type": "execute_result"
    }
   ],
   "source": [
    "pattern = re.compile(r'\\bat\\w*')\n",
    "arr = [i for i in pattern.finditer(string)]\n",
    "arr"
   ]
  },
  {
   "cell_type": "code",
   "execution_count": 34,
   "id": "9f3c2643",
   "metadata": {},
   "outputs": [
    {
     "data": {
      "text/plain": [
       "[<re.Match object; span=(59, 61), match='at'>]"
      ]
     },
     "execution_count": 34,
     "metadata": {},
     "output_type": "execute_result"
    }
   ],
   "source": [
    "pattern = re.compile(r'\\bat\\b')\n",
    "arr = [i for i in pattern.finditer(string)]\n",
    "arr"
   ]
  },
  {
   "cell_type": "code",
   "execution_count": 43,
   "id": "20d04ab0",
   "metadata": {},
   "outputs": [
    {
     "data": {
      "text/plain": [
       "[<re.Match object; span=(40, 46), match='attend'>,\n",
       " <re.Match object; span=(71, 77), match='attone'>]"
      ]
     },
     "execution_count": 43,
     "metadata": {},
     "output_type": "execute_result"
    }
   ],
   "source": [
    "pattern = re.compile(r'\\w*at\\B\\w*')\n",
    "arr = [i for i in pattern.finditer(string)]\n",
    "arr"
   ]
  },
  {
   "cell_type": "code",
   "execution_count": 40,
   "id": "417dde87",
   "metadata": {},
   "outputs": [
    {
     "data": {
      "text/plain": [
       "[<re.Match object; span=(0, 3), match='Eat'>,\n",
       " <re.Match object; span=(4, 8), match='Neat'>,\n",
       " <re.Match object; span=(9, 13), match='Meat'>,\n",
       " <re.Match object; span=(33, 37), match='Feat'>]"
      ]
     },
     "execution_count": 40,
     "metadata": {},
     "output_type": "execute_result"
    }
   ],
   "source": [
    "pattern = re.compile(r'\\w*\\Bat\\w*')\n",
    "arr = [i for i in pattern.finditer(string)]\n",
    "arr"
   ]
  },
  {
   "cell_type": "code",
   "execution_count": 41,
   "id": "c3a3482d",
   "metadata": {},
   "outputs": [
    {
     "data": {
      "text/plain": [
       "[<re.Match object; span=(4, 8), match='Neat'>,\n",
       " <re.Match object; span=(9, 13), match='Meat'>,\n",
       " <re.Match object; span=(33, 37), match='Feat'>]"
      ]
     },
     "execution_count": 41,
     "metadata": {},
     "output_type": "execute_result"
    }
   ],
   "source": [
    "pattern = re.compile(r'\\w*ea\\B\\w*')\n",
    "arr = [i for i in pattern.finditer(string)]\n",
    "arr"
   ]
  },
  {
   "cell_type": "code",
   "execution_count": 46,
   "id": "fb8c2eb1",
   "metadata": {},
   "outputs": [
    {
     "data": {
      "text/plain": [
       "[<re.Match object; span=(51, 58), match='wedding'>,\n",
       " <re.Match object; span=(87, 91), match='sins'>]"
      ]
     },
     "execution_count": 46,
     "metadata": {},
     "output_type": "execute_result"
    }
   ],
   "source": [
    "pattern = re.compile(r'\\w*in\\B\\w*')\n",
    "arr = [i for i in pattern.finditer(string)]\n",
    "arr"
   ]
  },
  {
   "cell_type": "code",
   "execution_count": 48,
   "id": "4c16f30d",
   "metadata": {},
   "outputs": [
    {
     "data": {
      "text/plain": [
       "[<re.Match object; span=(14, 16), match='in'>]"
      ]
     },
     "execution_count": 48,
     "metadata": {},
     "output_type": "execute_result"
    }
   ],
   "source": [
    "pattern = re.compile(r'\\w*in\\b\\w*')\n",
    "arr = [i for i in pattern.finditer(string)]\n",
    "arr"
   ]
  }
 ],
 "metadata": {
  "kernelspec": {
   "display_name": "Python 3",
   "language": "python",
   "name": "python3"
  },
  "language_info": {
   "codemirror_mode": {
    "name": "ipython",
    "version": 3
   },
   "file_extension": ".py",
   "mimetype": "text/x-python",
   "name": "python",
   "nbconvert_exporter": "python",
   "pygments_lexer": "ipython3",
   "version": "3.8.8"
  }
 },
 "nbformat": 4,
 "nbformat_minor": 5
}

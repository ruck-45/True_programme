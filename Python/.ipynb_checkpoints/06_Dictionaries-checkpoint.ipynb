{
 "cells": [
  {
   "cell_type": "markdown",
   "id": "661a4dd4",
   "metadata": {},
   "source": [
    "# Chapter 6 (Dictionaries)\n",
    "\n",
    "- Unordered collection of data :\n",
    "        doesnt has indexing as lists, instead has 'keys : values' setup\n",
    "- No repetition of keys allowed\n",
    "- Can store any datatype like lists"
   ]
  },
  {
   "cell_type": "markdown",
   "id": "e75140d8",
   "metadata": {},
   "source": [
    "## Dictionary declaration"
   ]
  },
  {
   "cell_type": "code",
   "execution_count": 1,
   "id": "d5000e1b",
   "metadata": {},
   "outputs": [
    {
     "data": {
      "text/plain": [
       "{'name': 'Ruck Dent',\n",
       " 'age': 24,\n",
       " 'CGPA': 10.0,\n",
       " 'grade': 'A',\n",
       " 'pass': True,\n",
       " 'Disabilities': None,\n",
       " 'extracurricular marks': [12, 45, 36, 45]}"
      ]
     },
     "execution_count": 1,
     "metadata": {},
     "output_type": "execute_result"
    }
   ],
   "source": [
    "# Direct declaration\n",
    "\n",
    "user = {'name' : 'Ruck Dent',\n",
    "        'age' : 24,\n",
    "        'CGPA' : 10.00,\n",
    "        'grade' : 'A',\n",
    "        'pass' : True,\n",
    "        'Disabilities' : None,\n",
    "        'extracurricular marks' : [12,45,36,45]}\n",
    "\n",
    "user"
   ]
  },
  {
   "cell_type": "code",
   "execution_count": 2,
   "id": "6705e3a0",
   "metadata": {},
   "outputs": [
    {
     "data": {
      "text/plain": [
       "{'name': 'Ruck Dent',\n",
       " 'age': 24,\n",
       " 'CGPA': 10.0,\n",
       " 'grade': 'A',\n",
       " 'Pass': True,\n",
       " 'Disabilities': None,\n",
       " 'extracurricular_marks': [12, 45, 36, 45]}"
      ]
     },
     "execution_count": 2,
     "metadata": {},
     "output_type": "execute_result"
    }
   ],
   "source": [
    "# by dict( ) function\n",
    "\n",
    "user = dict(name = 'Ruck Dent',\n",
    "            age = 24,\n",
    "            CGPA = 10.00,\n",
    "            grade = 'A',\n",
    "            Pass = True,\n",
    "            Disabilities = None,\n",
    "            extracurricular_marks = [12,45,36,45])\n",
    "user"
   ]
  },
  {
   "cell_type": "markdown",
   "id": "cd1a2e47",
   "metadata": {},
   "source": [
    "## Add  & Access & Update elements in dictionary"
   ]
  },
  {
   "cell_type": "code",
   "execution_count": 3,
   "id": "fca771e6",
   "metadata": {},
   "outputs": [],
   "source": [
    "info = {} # Empty dictionary"
   ]
  },
  {
   "cell_type": "code",
   "execution_count": 4,
   "id": "14d666e0",
   "metadata": {},
   "outputs": [
    {
     "data": {
      "text/plain": [
       "{'name': 'Unknown', 'age': 24, 'gender': 'Male'}"
      ]
     },
     "execution_count": 4,
     "metadata": {},
     "output_type": "execute_result"
    }
   ],
   "source": [
    "# Appending data, dictionary will not accept duplicate keys so it will replace the existing key value\n",
    "\n",
    "info['name'] = 'David Huffman'\n",
    "info['age'] = 24\n",
    "info['gender'] = 'Male'\n",
    "info['name'] = 'Unknown'\n",
    "\n",
    "info"
   ]
  },
  {
   "cell_type": "code",
   "execution_count": 5,
   "id": "1bb43e03",
   "metadata": {},
   "outputs": [
    {
     "data": {
      "text/plain": [
       "('Unknown', 24)"
      ]
     },
     "execution_count": 5,
     "metadata": {},
     "output_type": "execute_result"
    }
   ],
   "source": [
    "# Accessing Dictionary elements\n",
    "\n",
    "info['name'], info['age']"
   ]
  },
  {
   "cell_type": "code",
   "execution_count": 6,
   "id": "fcbabd67",
   "metadata": {},
   "outputs": [
    {
     "data": {
      "text/plain": [
       "{'name': 'Heisenberg', 'age': 24, 'gender': 'Male'}"
      ]
     },
     "execution_count": 6,
     "metadata": {},
     "output_type": "execute_result"
    }
   ],
   "source": [
    "# Updating data\n",
    "\n",
    "info['name'] = \"Heisenberg\"\n",
    "info"
   ]
  },
  {
   "cell_type": "markdown",
   "id": "bfe9105a",
   "metadata": {},
   "source": [
    "## Methods & Functions on dictionary"
   ]
  },
  {
   "cell_type": "code",
   "execution_count": 7,
   "id": "c75352c7",
   "metadata": {},
   "outputs": [],
   "source": [
    "user = {'name' : 'Ruck Dent',\n",
    "        'age' : 24,\n",
    "        'CGPA' : 10.00,\n",
    "        'grade' : 'A',\n",
    "        'pass' : True,\n",
    "        'Disabilities' : None,\n",
    "        'extracurricular marks' : [12,45,36,45]}"
   ]
  },
  {
   "cell_type": "code",
   "execution_count": 8,
   "id": "73d03a13",
   "metadata": {},
   "outputs": [
    {
     "data": {
      "text/plain": [
       "True"
      ]
     },
     "execution_count": 8,
     "metadata": {},
     "output_type": "execute_result"
    }
   ],
   "source": [
    "# in keyword - by default corresponds to keys in dictionaries\n",
    "\n",
    "# to check if a key is present or not\n",
    "\n",
    "'age' in user"
   ]
  },
  {
   "cell_type": "code",
   "execution_count": 9,
   "id": "c60ee421",
   "metadata": {},
   "outputs": [
    {
     "data": {
      "text/plain": [
       "False"
      ]
     },
     "execution_count": 9,
     "metadata": {},
     "output_type": "execute_result"
    }
   ],
   "source": [
    "'mark' in user"
   ]
  },
  {
   "cell_type": "code",
   "execution_count": 10,
   "id": "ad982980",
   "metadata": {},
   "outputs": [
    {
     "name": "stdout",
     "output_type": "stream",
     "text": [
      "name\n",
      "age\n",
      "CGPA\n",
      "grade\n",
      "pass\n",
      "Disabilities\n",
      "extracurricular marks\n"
     ]
    }
   ],
   "source": [
    "# To access every key in a loop\n",
    "\n",
    "for i in user:\n",
    "    print(i)"
   ]
  },
  {
   "cell_type": "code",
   "execution_count": 11,
   "id": "659517dc",
   "metadata": {},
   "outputs": [
    {
     "data": {
      "text/plain": [
       "True"
      ]
     },
     "execution_count": 11,
     "metadata": {},
     "output_type": "execute_result"
    }
   ],
   "source": [
    "# .values( ) method - corresponds to the values in all keys\n",
    "\n",
    "10.00 in user.values()"
   ]
  },
  {
   "cell_type": "code",
   "execution_count": 12,
   "id": "446c7d6e",
   "metadata": {},
   "outputs": [
    {
     "data": {
      "text/plain": [
       "False"
      ]
     },
     "execution_count": 12,
     "metadata": {},
     "output_type": "execute_result"
    }
   ],
   "source": [
    "45 in user.values() # it treates the whole list as one element"
   ]
  },
  {
   "cell_type": "code",
   "execution_count": 13,
   "id": "48cb82b2",
   "metadata": {},
   "outputs": [
    {
     "name": "stdout",
     "output_type": "stream",
     "text": [
      "Ruck Dent\n",
      "24\n",
      "10.0\n",
      "A\n",
      "True\n",
      "None\n",
      "[12, 45, 36, 45]\n"
     ]
    }
   ],
   "source": [
    "for i in user.values():\n",
    "    print(i)\n",
    "    \n",
    "# Equivalent code :\n",
    "\n",
    "# for i in user:\n",
    "#     print(user[i])"
   ]
  },
  {
   "cell_type": "code",
   "execution_count": 14,
   "id": "3cd477d0",
   "metadata": {},
   "outputs": [
    {
     "data": {
      "text/plain": [
       "dict_values(['Ruck Dent', 24, 10.0, 'A', True, None, [12, 45, 36, 45]])"
      ]
     },
     "execution_count": 14,
     "metadata": {},
     "output_type": "execute_result"
    }
   ],
   "source": [
    "user.values() #data type is = dict_values"
   ]
  },
  {
   "cell_type": "code",
   "execution_count": 15,
   "id": "bfaa53cf",
   "metadata": {},
   "outputs": [
    {
     "data": {
      "text/plain": [
       "True"
      ]
     },
     "execution_count": 15,
     "metadata": {},
     "output_type": "execute_result"
    }
   ],
   "source": [
    "# .keys( ) method - corresponds to keys of dictonary\n",
    "\n",
    "'name' in user.keys()"
   ]
  },
  {
   "cell_type": "code",
   "execution_count": 16,
   "id": "5bf9c9dc",
   "metadata": {
    "scrolled": true
   },
   "outputs": [
    {
     "name": "stdout",
     "output_type": "stream",
     "text": [
      "name\n",
      "age\n",
      "CGPA\n",
      "grade\n",
      "pass\n",
      "Disabilities\n",
      "extracurricular marks\n"
     ]
    }
   ],
   "source": [
    "for i in user.keys():\n",
    "    print(i)"
   ]
  },
  {
   "cell_type": "code",
   "execution_count": 17,
   "id": "883bf969",
   "metadata": {},
   "outputs": [
    {
     "data": {
      "text/plain": [
       "dict_keys(['name', 'age', 'CGPA', 'grade', 'pass', 'Disabilities', 'extracurricular marks'])"
      ]
     },
     "execution_count": 17,
     "metadata": {},
     "output_type": "execute_result"
    }
   ],
   "source": [
    "user.keys() # data type - dict_keys"
   ]
  },
  {
   "cell_type": "code",
   "execution_count": 18,
   "id": "3ed915fe",
   "metadata": {},
   "outputs": [
    {
     "data": {
      "text/plain": [
       "dict_items([('name', 'Ruck Dent'), ('age', 24), ('CGPA', 10.0), ('grade', 'A'), ('pass', True), ('Disabilities', None), ('extracurricular marks', [12, 45, 36, 45])])"
      ]
     },
     "execution_count": 18,
     "metadata": {},
     "output_type": "execute_result"
    }
   ],
   "source": [
    "# .items( ) method - corresponds to both keys and values\n",
    "\n",
    "user.items() #data type = dict_items"
   ]
  },
  {
   "cell_type": "code",
   "execution_count": 19,
   "id": "b3537ffd",
   "metadata": {},
   "outputs": [
    {
     "name": "stdout",
     "output_type": "stream",
     "text": [
      "name --- Ruck Dent\n",
      "age --- 24\n",
      "CGPA --- 10.0\n",
      "grade --- A\n",
      "pass --- True\n",
      "Disabilities --- None\n",
      "extracurricular marks --- [12, 45, 36, 45]\n"
     ]
    }
   ],
   "source": [
    "for i,j in user.items():\n",
    "    print(f\"{i} --- {j}\")"
   ]
  },
  {
   "cell_type": "code",
   "execution_count": 20,
   "id": "4d3b4d35",
   "metadata": {},
   "outputs": [],
   "source": [
    "user = {'name' : 'Ruck Dent',\n",
    "        'age' : 24,\n",
    "        'CGPA' : 10.00,\n",
    "        'grade' : 'A',\n",
    "        'Pass' : True,\n",
    "        'Disabilities' : None,\n",
    "        'extracurricular marks' : [12,45,36,45]}"
   ]
  },
  {
   "cell_type": "code",
   "execution_count": 21,
   "id": "abbafd5a",
   "metadata": {},
   "outputs": [
    {
     "data": {
      "text/plain": [
       "{'name': 'Ruck Dent',\n",
       " 'age': 24,\n",
       " 'CGPA': 10.0,\n",
       " 'grade': 'A',\n",
       " 'Disabilities': None,\n",
       " 'extracurricular marks': [12, 45, 36, 45]}"
      ]
     },
     "execution_count": 21,
     "metadata": {},
     "output_type": "execute_result"
    }
   ],
   "source": [
    "# .pop( ) method - deletes mentioned key and value, returns only deleted value, key argument is necessery\n",
    "\n",
    "poped_value = user.pop('Pass')\n",
    "user"
   ]
  },
  {
   "cell_type": "code",
   "execution_count": 22,
   "id": "1c67406a",
   "metadata": {},
   "outputs": [
    {
     "data": {
      "text/plain": [
       "True"
      ]
     },
     "execution_count": 22,
     "metadata": {},
     "output_type": "execute_result"
    }
   ],
   "source": [
    "poped_value"
   ]
  },
  {
   "cell_type": "code",
   "execution_count": 23,
   "id": "3b5e0305",
   "metadata": {},
   "outputs": [],
   "source": [
    "user = {'name' : 'Ruck Dent',\n",
    "        'age' : 24,\n",
    "        'CGPA' : 10.00,\n",
    "        'grade' : 'A',\n",
    "        'Pass' : True,\n",
    "        'Disabilities' : None,\n",
    "        'extracurricular marks' : [12,45,36,45]}"
   ]
  },
  {
   "cell_type": "code",
   "execution_count": 24,
   "id": "b539527f",
   "metadata": {
    "scrolled": true
   },
   "outputs": [
    {
     "data": {
      "text/plain": [
       "{'name': 'Ruck Dent',\n",
       " 'age': 24,\n",
       " 'CGPA': 10.0,\n",
       " 'grade': 'A',\n",
       " 'Pass': True,\n",
       " 'Disabilities': None}"
      ]
     },
     "execution_count": 24,
     "metadata": {},
     "output_type": "execute_result"
    }
   ],
   "source": [
    "# .popitem( ) method - deletes last key & its value , returns the deleted key and value in form of a tuple, \n",
    "# argument not accepted, it would give error passing any argument\n",
    "\n",
    "p = user.popitem()\n",
    "user"
   ]
  },
  {
   "cell_type": "code",
   "execution_count": 25,
   "id": "db74b3f3",
   "metadata": {},
   "outputs": [
    {
     "data": {
      "text/plain": [
       "('extracurricular marks', [12, 45, 36, 45])"
      ]
     },
     "execution_count": 25,
     "metadata": {},
     "output_type": "execute_result"
    }
   ],
   "source": [
    "p"
   ]
  },
  {
   "cell_type": "code",
   "execution_count": 26,
   "id": "becd854a",
   "metadata": {},
   "outputs": [
    {
     "data": {
      "text/plain": [
       "{'math': 45, 'physics': 65, 'english': 98, 'chemistry': 75}"
      ]
     },
     "execution_count": 26,
     "metadata": {},
     "output_type": "execute_result"
    }
   ],
   "source": [
    "# .clear( ) method creates existing dictionary as empty dictionary\n",
    "\n",
    "marks = dict(math = 45,physics = 65,english = 98,chemistry = 75)\n",
    "marks"
   ]
  },
  {
   "cell_type": "code",
   "execution_count": 27,
   "id": "dcaa62a3",
   "metadata": {},
   "outputs": [
    {
     "data": {
      "text/plain": [
       "{}"
      ]
     },
     "execution_count": 27,
     "metadata": {},
     "output_type": "execute_result"
    }
   ],
   "source": [
    "marks.clear()\n",
    "marks"
   ]
  },
  {
   "cell_type": "code",
   "execution_count": 28,
   "id": "c756c755",
   "metadata": {},
   "outputs": [
    {
     "data": {
      "text/plain": [
       "{'math': 45,\n",
       " 'physics': 65,\n",
       " 'english': 100,\n",
       " 'chemistry': 75,\n",
       " 'biology': 16,\n",
       " 'history': 23,\n",
       " 'geography': 15}"
      ]
     },
     "execution_count": 28,
     "metadata": {},
     "output_type": "execute_result"
    }
   ],
   "source": [
    "# .update( ) method - adds data from another dictionary to existing dictionary\n",
    "# Repetition of keys is not allowed in dictionaries, so repeted keys overwrite previous values\n",
    "\n",
    "marks1 = {'math': 45, 'physics': 65, 'english': 98, 'chemistry': 75}\n",
    "marks2 = {'biology': 16, 'history': 23, 'english': 100, 'geography': 15}\n",
    "\n",
    "marks1.update(marks2)\n",
    "marks1"
   ]
  },
  {
   "cell_type": "code",
   "execution_count": 29,
   "id": "c6543664",
   "metadata": {},
   "outputs": [
    {
     "data": {
      "text/plain": [
       "{'f_name': 'Unknown', 'L_name': 'Unknown', 'Address': 'Unknown'}"
      ]
     },
     "execution_count": 29,
     "metadata": {},
     "output_type": "execute_result"
    }
   ],
   "source": [
    "# .fromkeys( ) method - used to innitiate default values to multiple keys\n",
    "\n",
    "info = dict.fromkeys([\"f_name\",'L_name','Address'],'Unknown')\n",
    "info"
   ]
  },
  {
   "cell_type": "code",
   "execution_count": 30,
   "id": "01953ac8",
   "metadata": {},
   "outputs": [
    {
     "data": {
      "text/plain": [
       "{1: 0, 2: 0, 3: 0, 4: 0, 5: 0, 6: 0, 7: 0, 8: 0, 9: 0, 10: 0}"
      ]
     },
     "execution_count": 30,
     "metadata": {},
     "output_type": "execute_result"
    }
   ],
   "source": [
    "nums = dict.fromkeys(range(1,11),0)\n",
    "nums"
   ]
  },
  {
   "cell_type": "code",
   "execution_count": 31,
   "id": "7b95dbce",
   "metadata": {},
   "outputs": [
    {
     "data": {
      "text/plain": [
       "{'a': 'Unknown', 'b': 'Unknown', 'c': 'Unknown'}"
      ]
     },
     "execution_count": 31,
     "metadata": {},
     "output_type": "execute_result"
    }
   ],
   "source": [
    "D = dict.fromkeys('abc','Unknown')\n",
    "D"
   ]
  },
  {
   "cell_type": "code",
   "execution_count": 32,
   "id": "a8959ba2",
   "metadata": {},
   "outputs": [
    {
     "data": {
      "text/plain": [
       "({1: 1, 2: 2, 3: 3}, {1: 1, 2: 2, 3: 3})"
      ]
     },
     "execution_count": 32,
     "metadata": {},
     "output_type": "execute_result"
    }
   ],
   "source": [
    "# .copy( ) method - creates copy of existing dictionary\n",
    "\n",
    "num = {1 : 1 , 2: 2 , 3: 3}\n",
    "num2 = num.copy()\n",
    "num,num2"
   ]
  },
  {
   "cell_type": "code",
   "execution_count": 33,
   "id": "36cb759f",
   "metadata": {},
   "outputs": [
    {
     "data": {
      "text/plain": [
       "True"
      ]
     },
     "execution_count": 33,
     "metadata": {},
     "output_type": "execute_result"
    }
   ],
   "source": [
    "num == num2"
   ]
  },
  {
   "cell_type": "code",
   "execution_count": 34,
   "id": "1abf9912",
   "metadata": {},
   "outputs": [
    {
     "data": {
      "text/plain": [
       "False"
      ]
     },
     "execution_count": 34,
     "metadata": {},
     "output_type": "execute_result"
    }
   ],
   "source": [
    "num is num2"
   ]
  },
  {
   "cell_type": "code",
   "execution_count": 35,
   "id": "49c6cae1",
   "metadata": {},
   "outputs": [],
   "source": [
    "user = {'name' : 'Ruck Dent',\n",
    "        'age' : 24,\n",
    "        'CGPA' : 10.00,\n",
    "        'grade' : 'A',\n",
    "        'Pass' : True,\n",
    "        'Disabilities' : None,\n",
    "        'extracurricular marks' : [12,45,36,45]}"
   ]
  },
  {
   "cell_type": "code",
   "execution_count": 36,
   "id": "b3626e15",
   "metadata": {},
   "outputs": [
    {
     "data": {
      "text/plain": [
       "24"
      ]
     },
     "execution_count": 36,
     "metadata": {},
     "output_type": "execute_result"
    }
   ],
   "source": [
    "# .get( ) method - checks if key is present or not\n",
    "# if present it returns value, else it doesnt gives error like other functions/methods,\n",
    "# in return it returns a message if provided\n",
    "\n",
    "user['age']"
   ]
  },
  {
   "cell_type": "code",
   "execution_count": 37,
   "id": "2e153e42",
   "metadata": {},
   "outputs": [
    {
     "data": {
      "text/plain": [
       "24"
      ]
     },
     "execution_count": 37,
     "metadata": {},
     "output_type": "execute_result"
    }
   ],
   "source": [
    "user.get('age')"
   ]
  },
  {
   "cell_type": "code",
   "execution_count": 38,
   "id": "c3c9d60a",
   "metadata": {},
   "outputs": [
    {
     "ename": "KeyError",
     "evalue": "'marks'",
     "output_type": "error",
     "traceback": [
      "\u001b[1;31m---------------------------------------------------------------------------\u001b[0m",
      "\u001b[1;31mKeyError\u001b[0m                                  Traceback (most recent call last)",
      "\u001b[1;32m<ipython-input-38-bbbdff293320>\u001b[0m in \u001b[0;36m<module>\u001b[1;34m\u001b[0m\n\u001b[1;32m----> 1\u001b[1;33m \u001b[0muser\u001b[0m\u001b[1;33m[\u001b[0m\u001b[1;34m'marks'\u001b[0m\u001b[1;33m]\u001b[0m \u001b[1;31m#gives error\u001b[0m\u001b[1;33m\u001b[0m\u001b[1;33m\u001b[0m\u001b[0m\n\u001b[0m",
      "\u001b[1;31mKeyError\u001b[0m: 'marks'"
     ]
    }
   ],
   "source": [
    "user['marks'] #gives error"
   ]
  },
  {
   "cell_type": "code",
   "execution_count": 39,
   "id": "9c2655b3",
   "metadata": {},
   "outputs": [],
   "source": [
    "user.get('mark') # doesnt give error"
   ]
  },
  {
   "cell_type": "code",
   "execution_count": 40,
   "id": "4ec7296b",
   "metadata": {},
   "outputs": [
    {
     "data": {
      "text/plain": [
       "'not found'"
      ]
     },
     "execution_count": 40,
     "metadata": {},
     "output_type": "execute_result"
    }
   ],
   "source": [
    "user.get('mark','not found')"
   ]
  }
 ],
 "metadata": {
  "kernelspec": {
   "display_name": "Python 3",
   "language": "python",
   "name": "python3"
  },
  "language_info": {
   "codemirror_mode": {
    "name": "ipython",
    "version": 3
   },
   "file_extension": ".py",
   "mimetype": "text/x-python",
   "name": "python",
   "nbconvert_exporter": "python",
   "pygments_lexer": "ipython3",
   "version": "3.8.8"
  }
 },
 "nbformat": 4,
 "nbformat_minor": 5
}

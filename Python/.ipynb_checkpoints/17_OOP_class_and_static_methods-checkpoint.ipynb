{
 "cells": [
  {
   "cell_type": "markdown",
   "id": "5d2b4121",
   "metadata": {},
   "source": [
    "# Class Methods\n",
    "- Unlike instance functions they are not so frequently used\n",
    "- the first parameter is the current class is a must prerequisite\n",
    "- they use a decorator : @classmethod for the class to acknowledge it\n",
    "- class methods can be callled using the class name"
   ]
  },
  {
   "cell_type": "code",
   "execution_count": 1,
   "id": "67439e65",
   "metadata": {},
   "outputs": [],
   "source": [
    "class Person:\n",
    "    \n",
    "#     class variable\n",
    "    instance_count = 0\n",
    "    \n",
    "#     class method\n",
    "    @classmethod\n",
    "    def total_instance_count(cls):\n",
    "        return f'There are {Person.instance_count} number of instances in {cls.__name__} class'\n",
    "    \n",
    "    def __init__(self,fname,lname,age,occupation):\n",
    "#         instance variables\n",
    "        self.fname = fname\n",
    "        self.lname = lname\n",
    "        self.age = age\n",
    "        self.occupation = occupation\n",
    "        \n",
    "        Person.instance_count += 1\n",
    "        \n",
    "        \n",
    "#     inatance methods\n",
    "    def get_full_name(self):\n",
    "        return self.fname+' '+self.lname\n",
    "    \n",
    "    def is_eligible_to_vote(self):\n",
    "        return age>=18"
   ]
  },
  {
   "cell_type": "code",
   "execution_count": 2,
   "id": "b8643365",
   "metadata": {},
   "outputs": [],
   "source": [
    "p1 = Person('Phill','Dunphy',35,'Realtor')\n",
    "p2 = Person('Cloe','Decker',29,'Detective')\n",
    "p3 = Person('Bruce','Wayne',35,'Business Man')\n",
    "p4 = Person('Vinchenzo','Cassano',34,'Consilier')"
   ]
  },
  {
   "cell_type": "code",
   "execution_count": 3,
   "id": "808c3c5b",
   "metadata": {},
   "outputs": [
    {
     "data": {
      "text/plain": [
       "'There are 4 number of instances in Person class'"
      ]
     },
     "execution_count": 3,
     "metadata": {},
     "output_type": "execute_result"
    }
   ],
   "source": [
    "Person.total_instance_count()"
   ]
  },
  {
   "cell_type": "markdown",
   "id": "dd500dfd",
   "metadata": {},
   "source": [
    "# Class Method as Constructor"
   ]
  },
  {
   "cell_type": "code",
   "execution_count": 4,
   "id": "14d81502",
   "metadata": {},
   "outputs": [],
   "source": [
    "class Person_2:\n",
    "    \n",
    "#     class variable\n",
    "    instance_count = 0\n",
    "    \n",
    "#     class method\n",
    "    @classmethod\n",
    "    def class_constructor(cls,string):\n",
    "        fname,lname,age,occupation = string.split(',')\n",
    "        return cls(fname,lname,int(age),occupation)\n",
    "    \n",
    "    \n",
    "    @classmethod\n",
    "    def total_instance_count(cls):\n",
    "        return f'There are {cls.instance_count} number of instances in {cls.__name__} class'\n",
    "    \n",
    "    def __init__(self,fname,lname,age,occupation):\n",
    "#         instance variables\n",
    "        self.fname = fname\n",
    "        self.lname = lname\n",
    "        self.age = age\n",
    "        self.occupation = occupation\n",
    "        \n",
    "        Person_2.instance_count += 1\n",
    "        \n",
    "#     inatance methods\n",
    "    def get_full_name(self):\n",
    "        return self.fname+' '+self.lname\n",
    "    \n",
    "    def is_eligible_to_vote(self):\n",
    "        return age>=18"
   ]
  },
  {
   "cell_type": "code",
   "execution_count": 5,
   "id": "506eb488",
   "metadata": {},
   "outputs": [],
   "source": [
    "p1 = Person_2('Phill','Dunphy',35,'Realtor')\n",
    "p2 = Person_2.class_constructor('Cloe,Decker,29,Detective')"
   ]
  },
  {
   "cell_type": "code",
   "execution_count": 6,
   "id": "d3198dbe",
   "metadata": {},
   "outputs": [
    {
     "name": "stdout",
     "output_type": "stream",
     "text": [
      "Phill Dunphy\n",
      "Cloe Decker\n"
     ]
    }
   ],
   "source": [
    "print(p1.get_full_name())\n",
    "print(p2.get_full_name())"
   ]
  },
  {
   "cell_type": "code",
   "execution_count": 7,
   "id": "de0d4760",
   "metadata": {},
   "outputs": [
    {
     "data": {
      "text/plain": [
       "'There are 2 number of instances in Person_2 class'"
      ]
     },
     "execution_count": 7,
     "metadata": {},
     "output_type": "execute_result"
    }
   ],
   "source": [
    "Person_2.total_instance_count()"
   ]
  },
  {
   "cell_type": "markdown",
   "id": "89dd06a6",
   "metadata": {},
   "source": [
    "# Static Methods\n",
    "- static methods are like class methods but they donot require a class argument in the start\n",
    "- they use a decorator : @staticmethod for the class to acknowledge it"
   ]
  },
  {
   "cell_type": "code",
   "execution_count": 11,
   "id": "40279764",
   "metadata": {},
   "outputs": [],
   "source": [
    "class Person_3:\n",
    "    \n",
    "#     class variable\n",
    "    instance_count = 0\n",
    "    \n",
    "#     class method\n",
    "    @classmethod\n",
    "    def total_instance_count(cls):\n",
    "        return f'There are {cls.instance_count} number of instances in {cls.__name__} class'\n",
    "    \n",
    "#     static method\n",
    "    @staticmethod\n",
    "    def static_demo_method():\n",
    "        for i in range(5):\n",
    "            print('Hello')\n",
    "    \n",
    "    def __init__(self,fname,lname,age,occupation):\n",
    "#         instance variables\n",
    "        self.fname = fname\n",
    "        self.lname = lname\n",
    "        self.age = age\n",
    "        self.occupation = occupation\n",
    "        \n",
    "        Person_2.instance_count += 1\n",
    "        \n",
    "#     inatance methods\n",
    "    def get_full_name(self):\n",
    "        return self.fname+' '+self.lname\n",
    "    \n",
    "    def is_eligible_to_vote(self):\n",
    "        return age>=18"
   ]
  },
  {
   "cell_type": "code",
   "execution_count": 12,
   "id": "3c07c447",
   "metadata": {},
   "outputs": [
    {
     "name": "stdout",
     "output_type": "stream",
     "text": [
      "Hello\n",
      "Hello\n",
      "Hello\n",
      "Hello\n",
      "Hello\n"
     ]
    }
   ],
   "source": [
    "Person_3.static_demo_method()"
   ]
  }
 ],
 "metadata": {
  "kernelspec": {
   "display_name": "Python 3",
   "language": "python",
   "name": "python3"
  },
  "language_info": {
   "codemirror_mode": {
    "name": "ipython",
    "version": 3
   },
   "file_extension": ".py",
   "mimetype": "text/x-python",
   "name": "python",
   "nbconvert_exporter": "python",
   "pygments_lexer": "ipython3",
   "version": "3.8.8"
  }
 },
 "nbformat": 4,
 "nbformat_minor": 5
}

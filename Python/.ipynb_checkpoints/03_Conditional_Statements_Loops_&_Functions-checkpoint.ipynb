{
 "cells": [
  {
   "cell_type": "markdown",
   "id": "2a9ffc2c",
   "metadata": {},
   "source": [
    "# Chapter 3  (Conditional Statements, Loops & Functions)"
   ]
  },
  {
   "cell_type": "markdown",
   "id": "2533fcb0",
   "metadata": {},
   "source": [
    "## if --- else (Conditional statement)"
   ]
  },
  {
   "cell_type": "code",
   "execution_count": 2,
   "id": "28b7245d",
   "metadata": {},
   "outputs": [
    {
     "name": "stdout",
     "output_type": "stream",
     "text": [
      "Come back later\n"
     ]
    }
   ],
   "source": [
    "age = 16\n",
    "\n",
    "if age<15 :\n",
    "    print(\"Not allowed\")\n",
    "elif age>15 and age<18 :\n",
    "    print(\"Come back later\")\n",
    "else :\n",
    "    print(\"Welcome\")"
   ]
  },
  {
   "cell_type": "code",
   "execution_count": 15,
   "id": "2006dfac",
   "metadata": {},
   "outputs": [
    {
     "name": "stdout",
     "output_type": "stream",
     "text": [
      "Enter Your name\n",
      "Empty\n"
     ]
    }
   ],
   "source": [
    "# Checking empty or not\n",
    "\n",
    "name = input(\"Enter Your name\")\n",
    "\n",
    "if name :\n",
    "    print(\"Not empty\")\n",
    "else :\n",
    "    print(\"Empty\")"
   ]
  },
  {
   "cell_type": "markdown",
   "id": "8f70d415",
   "metadata": {},
   "source": [
    "## in keyword"
   ]
  },
  {
   "cell_type": "code",
   "execution_count": 5,
   "id": "9b6bb27b",
   "metadata": {},
   "outputs": [
    {
     "data": {
      "text/plain": [
       "True"
      ]
     },
     "execution_count": 5,
     "metadata": {},
     "output_type": "execute_result"
    }
   ],
   "source": [
    "str = \"Balmora\"\n",
    "l = [1,2,4,6,8,10]\n",
    "\n",
    "'a' in str"
   ]
  },
  {
   "cell_type": "code",
   "execution_count": 16,
   "id": "ea01672b",
   "metadata": {},
   "outputs": [
    {
     "data": {
      "text/plain": [
       "False"
      ]
     },
     "execution_count": 16,
     "metadata": {},
     "output_type": "execute_result"
    }
   ],
   "source": [
    "5 in l"
   ]
  },
  {
   "cell_type": "markdown",
   "id": "b5a8ee54",
   "metadata": {},
   "source": [
    "## range( ) function"
   ]
  },
  {
   "cell_type": "code",
   "execution_count": 24,
   "id": "4dff7b4c",
   "metadata": {},
   "outputs": [
    {
     "data": {
      "text/plain": [
       "[0, 1, 2, 3, 4]"
      ]
     },
     "execution_count": 24,
     "metadata": {},
     "output_type": "execute_result"
    }
   ],
   "source": [
    "# number generator function\n",
    "\n",
    "list(range(5))"
   ]
  },
  {
   "cell_type": "code",
   "execution_count": 22,
   "id": "2d356d27",
   "metadata": {},
   "outputs": [
    {
     "data": {
      "text/plain": [
       "[7, 8, 9, 10, 11, 12, 13]"
      ]
     },
     "execution_count": 22,
     "metadata": {},
     "output_type": "execute_result"
    }
   ],
   "source": [
    "list(range(7,14))"
   ]
  },
  {
   "cell_type": "code",
   "execution_count": 23,
   "id": "3a8c2409",
   "metadata": {},
   "outputs": [
    {
     "data": {
      "text/plain": [
       "[1, 3, 5, 7, 9, 11, 13, 15, 17, 19]"
      ]
     },
     "execution_count": 23,
     "metadata": {},
     "output_type": "execute_result"
    }
   ],
   "source": [
    "list(range(1,20,2))"
   ]
  },
  {
   "cell_type": "markdown",
   "id": "6017ee32",
   "metadata": {},
   "source": [
    "## for loop"
   ]
  },
  {
   "cell_type": "code",
   "execution_count": 34,
   "id": "7392e73e",
   "metadata": {},
   "outputs": [
    {
     "name": "stdout",
     "output_type": "stream",
     "text": [
      "hello\n",
      "hello\n",
      "hello\n"
     ]
    }
   ],
   "source": [
    "for i in range(5) :\n",
    "    print('hello')\n",
    "    \n",
    "    if i == 2:\n",
    "        break"
   ]
  },
  {
   "cell_type": "code",
   "execution_count": 35,
   "id": "af83516a",
   "metadata": {},
   "outputs": [
    {
     "name": "stdout",
     "output_type": "stream",
     "text": [
      "H,a,r,b,r,i,n,g,e,r,"
     ]
    }
   ],
   "source": [
    "name = \"Harbringer\"\n",
    "\n",
    "for i in name:\n",
    "    print(i,end =\",\")"
   ]
  },
  {
   "cell_type": "markdown",
   "id": "a8ceb18e",
   "metadata": {},
   "source": [
    "## while loop"
   ]
  },
  {
   "cell_type": "code",
   "execution_count": 32,
   "id": "f9b6bde0",
   "metadata": {},
   "outputs": [
    {
     "name": "stdout",
     "output_type": "stream",
     "text": [
      "hello\n",
      "hello\n",
      "hello\n",
      "hello\n"
     ]
    }
   ],
   "source": [
    "i=1\n",
    "while(i<=5) :\n",
    "    i +=1\n",
    "    if i == 4:\n",
    "        continue    \n",
    "    print('hello')"
   ]
  },
  {
   "cell_type": "markdown",
   "id": "cc5b9e3b",
   "metadata": {},
   "source": [
    "## Functions"
   ]
  },
  {
   "cell_type": "code",
   "execution_count": 36,
   "id": "46ecd990",
   "metadata": {},
   "outputs": [
    {
     "data": {
      "text/plain": [
       "11"
      ]
     },
     "execution_count": 36,
     "metadata": {},
     "output_type": "execute_result"
    }
   ],
   "source": [
    "def SUM(a,b):\n",
    "    return a+b\n",
    "\n",
    "SUM(5,6)"
   ]
  },
  {
   "cell_type": "code",
   "execution_count": 37,
   "id": "50d0b510",
   "metadata": {},
   "outputs": [
    {
     "data": {
      "text/plain": [
       "'Ruckdent'"
      ]
     },
     "execution_count": 37,
     "metadata": {},
     "output_type": "execute_result"
    }
   ],
   "source": [
    "SUM(\"Ruck\",\"dent\")"
   ]
  },
  {
   "cell_type": "code",
   "execution_count": 41,
   "id": "5e21959e",
   "metadata": {},
   "outputs": [
    {
     "name": "stdout",
     "output_type": "stream",
     "text": [
      "Congratulations Ruck Dent , you got 95.0% score\n",
      "Congratulations Ruck Unknown , you got 0.0% score\n"
     ]
    }
   ],
   "source": [
    "# Default Parameters\n",
    "\n",
    "# always start giving from right and dont leave any gaps\n",
    "\n",
    "def info(F_name,L_name='Unknown',age=18,CGPA=0.00):\n",
    "    name = F_name + \" \" + L_name\n",
    "    percentage = CGPA*9.5\n",
    "    \n",
    "    print(f\"Congratulations {name} , you got {percentage}% score\")\n",
    "    \n",
    "info(\"Ruck\",\"Dent\",20,10)\n",
    "info(\"Ruck\")\n",
    "    "
   ]
  },
  {
   "cell_type": "code",
   "execution_count": 43,
   "id": "6b3d6425",
   "metadata": {},
   "outputs": [
    {
     "name": "stdout",
     "output_type": "stream",
     "text": [
      "5\n",
      "10\n"
     ]
    }
   ],
   "source": [
    "# Scope of variables declared in unction is only limited inside the function\n",
    "\n",
    "x = 10 #Global x\n",
    "\n",
    "def fun():\n",
    "    x = 5 # Local x\n",
    "    print(x)\n",
    "\n",
    "fun()\n",
    "print(x)"
   ]
  },
  {
   "cell_type": "code",
   "execution_count": 45,
   "id": "37a21dab",
   "metadata": {},
   "outputs": [
    {
     "name": "stdout",
     "output_type": "stream",
     "text": [
      "5\n",
      "5\n"
     ]
    }
   ],
   "source": [
    "x = 10 #Global x\n",
    "\n",
    "def fun():\n",
    "    global x \n",
    "    x = 5 # Accessing global x\n",
    "    print(x)\n",
    "\n",
    "fun()\n",
    "print(x)"
   ]
  }
 ],
 "metadata": {
  "kernelspec": {
   "display_name": "Python 3",
   "language": "python",
   "name": "python3"
  },
  "language_info": {
   "codemirror_mode": {
    "name": "ipython",
    "version": 3
   },
   "file_extension": ".py",
   "mimetype": "text/x-python",
   "name": "python",
   "nbconvert_exporter": "python",
   "pygments_lexer": "ipython3",
   "version": "3.8.8"
  }
 },
 "nbformat": 4,
 "nbformat_minor": 5
}

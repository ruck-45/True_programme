{
 "cells": [
  {
   "cell_type": "markdown",
   "id": "d26af8b4",
   "metadata": {},
   "source": [
    "# Chapter 13 (Decorators)"
   ]
  },
  {
   "cell_type": "markdown",
   "id": "8ff1ae7c",
   "metadata": {},
   "source": [
    "## Decorators :\n",
    "- these are functions who add more functionalities to existing function\n",
    "- we may or may not wish to change the original function\n",
    "- uses concept of function as argument and function returning function\n",
    "- @ is a shortcut to call Decorators before the required function call"
   ]
  },
  {
   "cell_type": "code",
   "execution_count": 5,
   "id": "bb17fc75",
   "metadata": {},
   "outputs": [],
   "source": [
    "# simple implementation\n",
    "# Decorators for function without any parameters\n",
    "\n",
    "def decorator(fun):\n",
    "    def wrapper_function():\n",
    "        print(\"Additional Function (Decoration)\")\n",
    "        fun()\n",
    "    return wrapper_function\n",
    "\n",
    "@decorator\n",
    "def fun1():\n",
    "    print(\"This is function one\")\n",
    "\n",
    "@decorator\n",
    "def fun2():\n",
    "    print(\"This is function two\")"
   ]
  },
  {
   "cell_type": "code",
   "execution_count": 6,
   "id": "04b6c5c7",
   "metadata": {},
   "outputs": [
    {
     "name": "stdout",
     "output_type": "stream",
     "text": [
      "Additional Function (Decoration)\n",
      "This is function one\n"
     ]
    }
   ],
   "source": [
    "fun1()"
   ]
  },
  {
   "cell_type": "code",
   "execution_count": 7,
   "id": "b7d5c1b9",
   "metadata": {},
   "outputs": [
    {
     "name": "stdout",
     "output_type": "stream",
     "text": [
      "Additional Function (Decoration)\n",
      "This is function two\n"
     ]
    }
   ],
   "source": [
    "fun2()"
   ]
  },
  {
   "cell_type": "code",
   "execution_count": 16,
   "id": "19935dfb",
   "metadata": {},
   "outputs": [
    {
     "name": "stdout",
     "output_type": "stream",
     "text": [
      "Your performance in percentage(%) is :\n",
      "95.0\n"
     ]
    }
   ],
   "source": [
    "# Decorators for function with parameters\n",
    "# Here individual functions donot return anything\n",
    "# add *args and **kwargs in wrapper function and function call inside wrapper function \n",
    "\n",
    "def Decorator_Function(func):\n",
    "    def wrapper_func(*args,**kwargs):\n",
    "        print(\"Your performance in percentage(%) is :\")\n",
    "        func(*args,**kwargs)\n",
    "    return wrapper_func\n",
    "\n",
    "@Decorator_Function\n",
    "def cnv_cgpa(a):\n",
    "    print(a*9.5)\n",
    "\n",
    "@Decorator_Function\n",
    "def cnv_grade(G):\n",
    "    grade = {'O' : 95, 'A' : 85, 'B' : 75, 'C' : 65, 'D' : 55, 'E' : 45}\n",
    "    print(grade[G])\n",
    "\n",
    "cnv_cgpa(10)"
   ]
  },
  {
   "cell_type": "code",
   "execution_count": 17,
   "id": "29270967",
   "metadata": {},
   "outputs": [
    {
     "name": "stdout",
     "output_type": "stream",
     "text": [
      "Your performance in percentage(%) is :\n"
     ]
    },
    {
     "data": {
      "text/plain": [
       "55"
      ]
     },
     "execution_count": 17,
     "metadata": {},
     "output_type": "execute_result"
    }
   ],
   "source": [
    "# Decorators for function with parameters\n",
    "# Here individual functions return values instead of printing them\n",
    "#return the function value in wrapper function instead of just calling them \n",
    "\n",
    "def Decorator_Function(func):\n",
    "    def wrapper_func(*args,**kwargs):\n",
    "        print(\"Your performance in percentage(%) is :\")\n",
    "        return func(*args,**kwargs)\n",
    "    return wrapper_func\n",
    "\n",
    "@Decorator_Function\n",
    "def cnv_cgpa(a):\n",
    "    return a*9.5\n",
    "\n",
    "@Decorator_Function\n",
    "def cnv_grade(G):\n",
    "    grade = {'O' : 95, 'A' : 85, 'B' : 75, 'C' : 65, 'D' : 55, 'E' : 45}\n",
    "    return grade[G]\n",
    "\n",
    "cnv_grade(\"D\")"
   ]
  },
  {
   "cell_type": "markdown",
   "id": "39b7a0f9",
   "metadata": {},
   "source": [
    "## The Doc String problem"
   ]
  },
  {
   "cell_type": "code",
   "execution_count": 19,
   "id": "3d23b00e",
   "metadata": {},
   "outputs": [],
   "source": [
    "def Decorator_Function(func):\n",
    "    '''This is decorator function'''\n",
    "    def wrapper_func(*args,**kwargs):\n",
    "        '''This is wrapper function'''\n",
    "        print(\"Your performance in percentage(%) is :\")\n",
    "        return func(*args,**kwargs)\n",
    "    return wrapper_func\n",
    "\n",
    "@Decorator_Function\n",
    "def cnv_cgpa(a):\n",
    "    '''This is cgpa converter function'''\n",
    "    return a*9.5"
   ]
  },
  {
   "cell_type": "code",
   "execution_count": 23,
   "id": "b9d63d4a",
   "metadata": {},
   "outputs": [
    {
     "data": {
      "text/plain": [
       "'This is wrapper function'"
      ]
     },
     "execution_count": 23,
     "metadata": {},
     "output_type": "execute_result"
    }
   ],
   "source": [
    "cnv_cgpa.__doc__ # o/p should have been : This is cgpa converter function"
   ]
  },
  {
   "cell_type": "code",
   "execution_count": 24,
   "id": "64a5c283",
   "metadata": {},
   "outputs": [
    {
     "data": {
      "text/plain": [
       "'wrapper_func'"
      ]
     },
     "execution_count": 24,
     "metadata": {},
     "output_type": "execute_result"
    }
   ],
   "source": [
    "cnv_cgpa.__name__ # o/p should have been : cnv_cgpa"
   ]
  },
  {
   "cell_type": "markdown",
   "id": "d71b56dd",
   "metadata": {},
   "source": [
    "- this happens because , cnv_cgpa function is never really called by itself in reality\n",
    "- it is always called through wrapper funcion"
   ]
  },
  {
   "cell_type": "code",
   "execution_count": 40,
   "id": "a9f87dd9",
   "metadata": {},
   "outputs": [],
   "source": [
    "# FIX : \n",
    "\n",
    "from functools import wraps\n",
    "\n",
    "def Decorator_Function(func):\n",
    "    '''This is decorator function'''\n",
    "    @wraps(func)\n",
    "    def wrapper_func(*args,**kwargs):\n",
    "        '''This is wrapper function'''\n",
    "        print(\"Your performance in percentage(%) is :\")\n",
    "        return func(*args,**kwargs)\n",
    "    return wrapper_func\n",
    "\n",
    "@Decorator_Function\n",
    "def cnv_cgpa(a):\n",
    "    '''This is cgpa converter function'''\n",
    "    return a*9.5"
   ]
  },
  {
   "cell_type": "code",
   "execution_count": 42,
   "id": "b5238d16",
   "metadata": {},
   "outputs": [
    {
     "data": {
      "text/plain": [
       "'This is cgpa converter function'"
      ]
     },
     "execution_count": 42,
     "metadata": {},
     "output_type": "execute_result"
    }
   ],
   "source": [
    "cnv_cgpa.__doc__"
   ]
  },
  {
   "cell_type": "code",
   "execution_count": 43,
   "id": "f96b4d65",
   "metadata": {},
   "outputs": [
    {
     "data": {
      "text/plain": [
       "'cnv_cgpa'"
      ]
     },
     "execution_count": 43,
     "metadata": {},
     "output_type": "execute_result"
    }
   ],
   "source": [
    "cnv_cgpa.__name__"
   ]
  },
  {
   "cell_type": "markdown",
   "id": "eb044e8b",
   "metadata": {},
   "source": [
    "## Decorators With Arguments"
   ]
  },
  {
   "cell_type": "markdown",
   "id": "b08d7a8e",
   "metadata": {},
   "source": [
    "- Task --- make a decorator which doesnot allow if all values passed are not int"
   ]
  },
  {
   "cell_type": "code",
   "execution_count": 52,
   "id": "abe2369a",
   "metadata": {},
   "outputs": [],
   "source": [
    "from functools import wraps\n",
    "\n",
    "def Decorator(func):\n",
    "    @wraps(func)\n",
    "    def wrapper_func(*args,**kwargs):\n",
    "        if all([type(i)==int for i in args]):\n",
    "            return func(*args,**kwargs)\n",
    "        else:\n",
    "            return \"Invalid Arguments\"\n",
    "    return wrapper_func\n",
    "\n",
    "@Decorator\n",
    "def add(*args):\n",
    "    return sum(args)"
   ]
  },
  {
   "cell_type": "code",
   "execution_count": 53,
   "id": "68ef95f7",
   "metadata": {},
   "outputs": [
    {
     "data": {
      "text/plain": [
       "23"
      ]
     },
     "execution_count": 53,
     "metadata": {},
     "output_type": "execute_result"
    }
   ],
   "source": [
    "add(5,6,4,8)"
   ]
  },
  {
   "cell_type": "code",
   "execution_count": 54,
   "id": "b8825309",
   "metadata": {},
   "outputs": [
    {
     "data": {
      "text/plain": [
       "'Invalid Arguments'"
      ]
     },
     "execution_count": 54,
     "metadata": {},
     "output_type": "execute_result"
    }
   ],
   "source": [
    "add(1,5,'Davis')"
   ]
  },
  {
   "cell_type": "markdown",
   "id": "46fb7428",
   "metadata": {},
   "source": [
    "- limitation - we have to define decorator agin and again for implementing it for other data types\n",
    "- FIX : Decorators with arguments\n",
    "- wrap( ) is an example of decorators with arguments"
   ]
  },
  {
   "cell_type": "markdown",
   "id": "022dd293",
   "metadata": {},
   "source": [
    "- Task --- make a decorator which doesnot allow if all values passed are not a specific datatype (GENERALIZED)"
   ]
  },
  {
   "cell_type": "code",
   "execution_count": 71,
   "id": "b617f3f9",
   "metadata": {},
   "outputs": [],
   "source": [
    "# we will make nested decorator\n",
    "\n",
    "from functools import wraps\n",
    "\n",
    "def only_data_type(data_type):\n",
    "    def Decorator(func):\n",
    "        @wraps(func)\n",
    "        def wrapper_func(*args,**kwargs):\n",
    "            if all([type(i)==data_type for i in args]):\n",
    "                return func(*args,**kwargs)\n",
    "            else:\n",
    "                return \"Invalid Arguments\"\n",
    "        return wrapper_func\n",
    "    return Decorator\n",
    "\n",
    "@only_data_type(int)\n",
    "def add(*args):\n",
    "    return sum(args)\n",
    "\n",
    "@only_data_type(str)\n",
    "def concatination(*args):\n",
    "    c=''\n",
    "    for i in args:\n",
    "        c+=i\n",
    "    return c"
   ]
  },
  {
   "cell_type": "code",
   "execution_count": 57,
   "id": "dd110d75",
   "metadata": {},
   "outputs": [
    {
     "data": {
      "text/plain": [
       "19"
      ]
     },
     "execution_count": 57,
     "metadata": {},
     "output_type": "execute_result"
    }
   ],
   "source": [
    "add(1,5,6,7)"
   ]
  },
  {
   "cell_type": "code",
   "execution_count": 58,
   "id": "4c3a37cc",
   "metadata": {},
   "outputs": [
    {
     "data": {
      "text/plain": [
       "'Invalid Arguments'"
      ]
     },
     "execution_count": 58,
     "metadata": {},
     "output_type": "execute_result"
    }
   ],
   "source": [
    "add(4,5,7,'thai',True)"
   ]
  },
  {
   "cell_type": "code",
   "execution_count": 72,
   "id": "926a1b85",
   "metadata": {},
   "outputs": [
    {
     "data": {
      "text/plain": [
       "'Frank Hardy'"
      ]
     },
     "execution_count": 72,
     "metadata": {},
     "output_type": "execute_result"
    }
   ],
   "source": [
    "concatination('Frank', ' ', 'Hardy')"
   ]
  },
  {
   "cell_type": "code",
   "execution_count": 73,
   "id": "2c39e94f",
   "metadata": {},
   "outputs": [
    {
     "data": {
      "text/plain": [
       "'Invalid Arguments'"
      ]
     },
     "execution_count": 73,
     "metadata": {},
     "output_type": "execute_result"
    }
   ],
   "source": [
    "concatination(5.44,'huff')"
   ]
  },
  {
   "cell_type": "markdown",
   "id": "2844023a",
   "metadata": {},
   "source": [
    "## Trivia - How to calculate time taken for a function to execute"
   ]
  },
  {
   "cell_type": "code",
   "execution_count": 44,
   "id": "ef691e78",
   "metadata": {},
   "outputs": [
    {
     "name": "stdout",
     "output_type": "stream",
     "text": [
      "time taken - 0.0009989738464355469 secs\n"
     ]
    }
   ],
   "source": [
    "import time\n",
    "\n",
    "t1 = time.time()\n",
    "\n",
    "def func():\n",
    "    j=1\n",
    "    for i in range(11):\n",
    "        j+=j\n",
    "\n",
    "t2 = time.time()\n",
    "\n",
    "print(f'time taken - {t2-t1} secs')"
   ]
  }
 ],
 "metadata": {
  "kernelspec": {
   "display_name": "Python 3",
   "language": "python",
   "name": "python3"
  },
  "language_info": {
   "codemirror_mode": {
    "name": "ipython",
    "version": 3
   },
   "file_extension": ".py",
   "mimetype": "text/x-python",
   "name": "python",
   "nbconvert_exporter": "python",
   "pygments_lexer": "ipython3",
   "version": "3.8.8"
  }
 },
 "nbformat": 4,
 "nbformat_minor": 5
}

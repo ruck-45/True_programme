{
 "cells": [
  {
   "cell_type": "markdown",
   "id": "58678976",
   "metadata": {},
   "source": [
    "# Chapter 11 (Advanced Functions)"
   ]
  },
  {
   "cell_type": "markdown",
   "id": "be397b51",
   "metadata": {},
   "source": [
    "## enumerate( ) \n",
    "- to access both position and element in a list"
   ]
  },
  {
   "cell_type": "code",
   "execution_count": 1,
   "id": "231299b1",
   "metadata": {},
   "outputs": [],
   "source": [
    "l = ['horse','dog','whale','cat','mouse','dragons']"
   ]
  },
  {
   "cell_type": "code",
   "execution_count": 3,
   "id": "8c28edc8",
   "metadata": {},
   "outputs": [
    {
     "name": "stdout",
     "output_type": "stream",
     "text": [
      "0 --- horse\n",
      "1 --- dog\n",
      "2 --- whale\n",
      "3 --- cat\n",
      "4 --- mouse\n",
      "5 --- dragons\n"
     ]
    }
   ],
   "source": [
    "pos = 0\n",
    "for i in l:\n",
    "    print(f\"{pos} --- {i}\")\n",
    "    pos+=1\n",
    "\n",
    "# for i in range(len(l)):\n",
    "#     print(f\"{i} --- {l[i]}\")"
   ]
  },
  {
   "cell_type": "code",
   "execution_count": 4,
   "id": "04c71653",
   "metadata": {},
   "outputs": [
    {
     "name": "stdout",
     "output_type": "stream",
     "text": [
      "0 --- horse\n",
      "1 --- dog\n",
      "2 --- whale\n",
      "3 --- cat\n",
      "4 --- mouse\n",
      "5 --- dragons\n"
     ]
    }
   ],
   "source": [
    "for pos,i in enumerate(l):\n",
    "    print(f'{pos} --- {i}')"
   ]
  },
  {
   "cell_type": "markdown",
   "id": "b4326ebf",
   "metadata": {},
   "source": [
    "## map( )\n",
    "- applies a function to all elements in a list / tuple and creates a map object\n",
    "- it can then be changed to required datatype (list / tuple)"
   ]
  },
  {
   "cell_type": "code",
   "execution_count": 8,
   "id": "18e6e93d",
   "metadata": {},
   "outputs": [
    {
     "data": {
      "text/plain": [
       "[1, 4, 9, 49, 64, 81, 36, 25, 16]"
      ]
     },
     "execution_count": 8,
     "metadata": {},
     "output_type": "execute_result"
    }
   ],
   "source": [
    "def square(n):\n",
    "    return n**2\n",
    "\n",
    "num = [1,2,3,7,8,9,6,5,4]\n",
    "\n",
    "sq = []\n",
    "for i in num:\n",
    "    sq.append(square(i))\n",
    "    \n",
    "sq"
   ]
  },
  {
   "cell_type": "code",
   "execution_count": 11,
   "id": "439f82fa",
   "metadata": {},
   "outputs": [
    {
     "data": {
      "text/plain": [
       "[1, 4, 9, 49, 64, 81, 36, 25, 16]"
      ]
     },
     "execution_count": 11,
     "metadata": {},
     "output_type": "execute_result"
    }
   ],
   "source": [
    "num = [1,2,3,7,8,9,6,5,4]\n",
    "\n",
    "sq = list(map(lambda n:n**2,num))\n",
    "sq"
   ]
  },
  {
   "cell_type": "code",
   "execution_count": 18,
   "id": "b77ca8ae",
   "metadata": {},
   "outputs": [
    {
     "data": {
      "text/plain": [
       "(12, 16, 17, 17)"
      ]
     },
     "execution_count": 18,
     "metadata": {},
     "output_type": "execute_result"
    }
   ],
   "source": [
    "names = ['harry potter','fantastic beasts','angels and demons','the davinchi code']\n",
    "\n",
    "lengths = tuple(map(len,names))\n",
    "lengths"
   ]
  },
  {
   "cell_type": "markdown",
   "id": "0299e5d0",
   "metadata": {},
   "source": [
    "- Theory -\n",
    "Map object is iterable only once, because its an iterator"
   ]
  },
  {
   "cell_type": "code",
   "execution_count": 12,
   "id": "a38444c7",
   "metadata": {},
   "outputs": [
    {
     "data": {
      "text/plain": [
       "<map at 0x276c554a310>"
      ]
     },
     "execution_count": 12,
     "metadata": {},
     "output_type": "execute_result"
    }
   ],
   "source": [
    "map_object = map(lambda n:n**2,num)\n",
    "map_object"
   ]
  },
  {
   "cell_type": "code",
   "execution_count": 13,
   "id": "1356cf46",
   "metadata": {},
   "outputs": [
    {
     "name": "stdout",
     "output_type": "stream",
     "text": [
      "1\n",
      "4\n",
      "9\n",
      "49\n",
      "64\n",
      "81\n",
      "36\n",
      "25\n",
      "16\n"
     ]
    }
   ],
   "source": [
    "for i in map_object:\n",
    "    print(i)"
   ]
  },
  {
   "cell_type": "code",
   "execution_count": 15,
   "id": "c4d75b69",
   "metadata": {},
   "outputs": [],
   "source": [
    "for j in map_object:\n",
    "    print(j) \n",
    "\n",
    "# doesnt work"
   ]
  },
  {
   "cell_type": "markdown",
   "id": "a35e0731",
   "metadata": {},
   "source": [
    "## filter( ) \n",
    "- applies a function to all elements in a list / tuple and filters all those elements that satisfy the condition \n",
    "- creates a filter object\n",
    "- it can then be changed to required datatype (list / tuple)\n",
    "- a filter object is also iterable only once like a map object, because its an iterator"
   ]
  },
  {
   "cell_type": "code",
   "execution_count": 20,
   "id": "3c04c3e1",
   "metadata": {},
   "outputs": [
    {
     "data": {
      "text/plain": [
       "[2, 4, 6, 8]"
      ]
     },
     "execution_count": 20,
     "metadata": {},
     "output_type": "execute_result"
    }
   ],
   "source": [
    "def is_even(n):\n",
    "    return n%2==0\n",
    "\n",
    "nums = [1,2,3,4,5,6,7,8,9]\n",
    "\n",
    "even = []\n",
    "for i in nums:\n",
    "    if(is_even(i)):\n",
    "        even.append(i)\n",
    "        \n",
    "even"
   ]
  },
  {
   "cell_type": "code",
   "execution_count": 21,
   "id": "35a78b99",
   "metadata": {},
   "outputs": [
    {
     "data": {
      "text/plain": [
       "[2, 4, 6, 8]"
      ]
     },
     "execution_count": 21,
     "metadata": {},
     "output_type": "execute_result"
    }
   ],
   "source": [
    "nums = [1,2,3,4,5,6,7,8,9]\n",
    "\n",
    "even = list(filter(lambda n:n%2==0 , nums))\n",
    "even"
   ]
  },
  {
   "cell_type": "markdown",
   "id": "e0d46bef",
   "metadata": {},
   "source": [
    "## zip( ) \n",
    "- takes two or more list/tuples maps them accorfing to index and returns a zip object \n",
    "- zip object being like - < (data11,data12,data13..),(data21,data22,data23..),(data31,data32,data33..),(data41,data42,data43.)>\n",
    "- zip object is an iterator like others\n",
    "- zip object can be converted into desired datatype like list/tuple\n",
    "- zip object can only be converted into dictionaries if it has ziped only 2 lists/tuples, because the first listwill be key and the second one will be the value\n",
    "\n",
    "e.g - <(data11,data12),(data21,data22),(data31,data32)....>\n",
    "\n",
    "it will be converted to - {'data11' : data12 , 'data21' : data22 , 'data31' : data32 , ...}\n",
    "\n",
    "- zip( ) will stop when it reaches limit of one of the lists provided (minimum length list)"
   ]
  },
  {
   "cell_type": "code",
   "execution_count": 29,
   "id": "da1bee74",
   "metadata": {},
   "outputs": [
    {
     "data": {
      "text/plain": [
       "[('user1', 'Levi'), ('user2', 'Swann'), ('user3', 'Griner')]"
      ]
     },
     "execution_count": 29,
     "metadata": {},
     "output_type": "execute_result"
    }
   ],
   "source": [
    "list1 = ['user1','user2','user3','user4']\n",
    "list2 = ['Levi','Swann','Griner']\n",
    "\n",
    "list3 = list(zip(list1,list2))\n",
    "list3"
   ]
  },
  {
   "cell_type": "code",
   "execution_count": 32,
   "id": "1020022a",
   "metadata": {},
   "outputs": [
    {
     "data": {
      "text/plain": [
       "{'user1': 'Levi', 'user2': 'Swann', 'user3': 'Griner'}"
      ]
     },
     "execution_count": 32,
     "metadata": {},
     "output_type": "execute_result"
    }
   ],
   "source": [
    "#Note , lists of this format can alsobe converted to dictionaries\n",
    "\n",
    "dict(list3)\n",
    "\n",
    "# list3 = dict(zip(list1,list2))\n",
    "# list3\n",
    "\n",
    "#dictionaries cant be created if more than one lists are involved"
   ]
  },
  {
   "cell_type": "code",
   "execution_count": 33,
   "id": "e50444b5",
   "metadata": {},
   "outputs": [
    {
     "data": {
      "text/plain": [
       "[('user1', 'Levi', 12), ('user2', 'Swann', 45), ('user3', 'Griner', 78)]"
      ]
     },
     "execution_count": 33,
     "metadata": {},
     "output_type": "execute_result"
    }
   ],
   "source": [
    "tuple1 = ('user1','user2','user3','user4')\n",
    "tuple2 = ('Levi','Swann','Griner')\n",
    "tuple3 = (12,45,78,98)\n",
    "\n",
    "data = list(zip(tuple1,tuple2,tuple3))\n",
    "data"
   ]
  },
  {
   "cell_type": "code",
   "execution_count": 38,
   "id": "ce1f1646",
   "metadata": {},
   "outputs": [
    {
     "data": {
      "text/plain": [
       "[8, 6, 10, 9, 9, 6, 7]"
      ]
     },
     "execution_count": 38,
     "metadata": {},
     "output_type": "execute_result"
    }
   ],
   "source": [
    "# task - append the maximum value in same index from l1 & l2 into new\n",
    "\n",
    "l1 = [8,6,9,2,8,6,7]\n",
    "l2 = [6,5,10,9,9,1,5]\n",
    "\n",
    "new = []\n",
    "\n",
    "# normal approach\n",
    "\n",
    "# for i in range(len(l1)):\n",
    "#     if(l1[i]>l2[i]):\n",
    "#         new.append(l1[i])\n",
    "#     else:\n",
    "#         new.append(l2[i])\n",
    "       \n",
    "# zip approach\n",
    "\n",
    "# for i in zip(l1,l2):\n",
    "#     new.append(max(i))\n",
    "\n",
    "#appraoch 3\n",
    "\n",
    "new = list(map(max,zip(l1,l2)))\n",
    "\n",
    "new        "
   ]
  },
  {
   "cell_type": "code",
   "execution_count": 56,
   "id": "905f092c",
   "metadata": {},
   "outputs": [
    {
     "data": {
      "text/plain": [
       "[(8, 6), (6, 5), (9, 10), (2, 9), (8, 9), (6, 1), (7, 5)]"
      ]
     },
     "execution_count": 56,
     "metadata": {},
     "output_type": "execute_result"
    }
   ],
   "source": [
    "# dezip existing zip\n",
    "\n",
    "l1 = [8,6,9,2,8,6,7]\n",
    "l2 = [6,5,10,9,9,1,5]\n",
    "\n",
    "l3 = list(zip(l1,l2))\n",
    "l3"
   ]
  },
  {
   "cell_type": "code",
   "execution_count": 57,
   "id": "51cb3f1d",
   "metadata": {},
   "outputs": [
    {
     "data": {
      "text/plain": [
       "[(8, 6, 9, 2, 8, 6, 7), (6, 5, 10, 9, 9, 1, 5)]"
      ]
     },
     "execution_count": 57,
     "metadata": {},
     "output_type": "execute_result"
    }
   ],
   "source": [
    "# using * operator\n",
    "\n",
    "dezip = zip(*l3)\n",
    "list(dezip)"
   ]
  },
  {
   "cell_type": "code",
   "execution_count": 58,
   "id": "fe8cd1a5",
   "metadata": {},
   "outputs": [
    {
     "name": "stdout",
     "output_type": "stream",
     "text": [
      "[8, 6, 9, 2, 8, 6, 7]\n",
      "[6, 5, 10, 9, 9, 1, 5]\n"
     ]
    }
   ],
   "source": [
    "dezip = zip(*l3)\n",
    "l4,l5 = list(dezip)\n",
    "print(list(l4))\n",
    "print(list(l5))"
   ]
  },
  {
   "cell_type": "markdown",
   "id": "da340090",
   "metadata": {},
   "source": [
    "## all ( )\n",
    "- a function equivalence of 'and' logical operator\n",
    "- returns true if all values in list is true, if one is false - it returns false"
   ]
  },
  {
   "cell_type": "code",
   "execution_count": 75,
   "id": "ff4db47b",
   "metadata": {},
   "outputs": [
    {
     "name": "stdout",
     "output_type": "stream",
     "text": [
      "True\n",
      "False\n"
     ]
    }
   ],
   "source": [
    "# check if all values in list are even\n",
    "\n",
    "l1 = [2,4,6,8]\n",
    "l2 = [2,5,8,4,6]\n",
    "\n",
    "# normal approach\n",
    "\n",
    "# def is_all_even(l):\n",
    "#     for i in map(lambda j:j%2==0,l):\n",
    "#         if not i:\n",
    "#             return False\n",
    "#     return True\n",
    "\n",
    "# print(is_all_even(l1))\n",
    "# print(is_all_even(l2))\n",
    "\n",
    "# all( ) function\n",
    "\n",
    "is_all_even = lambda l:all(map(lambda j:j%2==0,l))\n",
    "\n",
    "print(is_all_even(l1))\n",
    "print(is_all_even(l2))"
   ]
  },
  {
   "cell_type": "markdown",
   "id": "b5acea1a",
   "metadata": {},
   "source": [
    "## any ( )\n",
    "- a function equivalence of 'or' logical operator\n",
    "- returns true if any one value in list is true, if all values are false - it returns false"
   ]
  },
  {
   "cell_type": "code",
   "execution_count": 77,
   "id": "6619380a",
   "metadata": {},
   "outputs": [
    {
     "name": "stdout",
     "output_type": "stream",
     "text": [
      "False\n",
      "True\n"
     ]
    }
   ],
   "source": [
    "l1 = [1,5,7,9]\n",
    "l2 = [2,5,8,4,6]\n",
    "\n",
    "is_any_even = lambda l:any(map(lambda j:j%2==0,l))\n",
    "\n",
    "print(is_any_even(l1))\n",
    "print(is_any_even(l2))"
   ]
  },
  {
   "cell_type": "markdown",
   "id": "4343bc37",
   "metadata": {},
   "source": [
    "## min( ) & max( )\n",
    "- finds out minimum and maximum values resp.\n",
    "- it has a key parameter which takes the basis on which min/max is to be found, (usually a function that returns the basis)"
   ]
  },
  {
   "cell_type": "code",
   "execution_count": 11,
   "id": "6692d126",
   "metadata": {},
   "outputs": [
    {
     "data": {
      "text/plain": [
       "(1, 154)"
      ]
     },
     "execution_count": 11,
     "metadata": {},
     "output_type": "execute_result"
    }
   ],
   "source": [
    "nums = [1,2,8,6,7,4,3,9,45,25,78,154]\n",
    "\n",
    "min(nums) , max(nums)"
   ]
  },
  {
   "cell_type": "code",
   "execution_count": 12,
   "id": "330ec65a",
   "metadata": {},
   "outputs": [
    {
     "data": {
      "text/plain": [
       "('David', 'Yusuf')"
      ]
     },
     "execution_count": 12,
     "metadata": {},
     "output_type": "execute_result"
    }
   ],
   "source": [
    "names = ['David','Harrison','Gunthur','Harold','Yusuf']\n",
    "\n",
    "min(names) , max(names)\n",
    "\n",
    "# usually max, min in string give accordig to their dictionary position"
   ]
  },
  {
   "cell_type": "code",
   "execution_count": 13,
   "id": "6251786e",
   "metadata": {},
   "outputs": [
    {
     "data": {
      "text/plain": [
       "('Tom', 'Harrison')"
      ]
     },
     "execution_count": 13,
     "metadata": {},
     "output_type": "execute_result"
    }
   ],
   "source": [
    "# max, min on basis of word length\n",
    "\n",
    "names = ['David','Harrison','Gunthur','Harold','Yusuf','Tom']\n",
    "\n",
    "min(names,key = len) , max(names,key = len)"
   ]
  },
  {
   "cell_type": "code",
   "execution_count": 15,
   "id": "d5d89088",
   "metadata": {},
   "outputs": [
    {
     "data": {
      "text/plain": [
       "('David', 'Gunthur')"
      ]
     },
     "execution_count": 15,
     "metadata": {},
     "output_type": "execute_result"
    }
   ],
   "source": [
    "# max, min on basis of dictionary position of last chareter\n",
    "\n",
    "names = ['David','Harrison','Gunthur','Harold','Yusuf','Tom']\n",
    "\n",
    "min(names,key = lambda l:l[-1]) , max(names,key = lambda l:l[-1])"
   ]
  },
  {
   "cell_type": "code",
   "execution_count": 30,
   "id": "9e2e7cd0",
   "metadata": {},
   "outputs": [
    {
     "data": {
      "text/plain": [
       "({'name': 'Finn', 'age': 12, 'score': 40},\n",
       " {'name': 'Arthur', 'age': 30, 'score': 25})"
      ]
     },
     "execution_count": 30,
     "metadata": {},
     "output_type": "execute_result"
    }
   ],
   "source": [
    "students_info = [{'name' : 'Thomas' , 'age' : 23 , 'score' : 90},\n",
    "                 {'name' : 'Arthur' , 'age' : 30 , 'score' : 25},\n",
    "                 {'name' : 'John' , 'age' : 18 , 'score' : 47},\n",
    "                 {'name' : 'Finn' , 'age' : 12 , 'score' : 40}]\n",
    "\n",
    "# basis of age\n",
    "min(students_info , key = lambda Dict:Dict['age']) , max(students_info , key = lambda Dict:Dict['age'])"
   ]
  },
  {
   "cell_type": "code",
   "execution_count": 32,
   "id": "0ca8365e",
   "metadata": {},
   "outputs": [
    {
     "data": {
      "text/plain": [
       "({'name': 'Arthur', 'age': 30, 'score': 25},\n",
       " {'name': 'Thomas', 'age': 23, 'score': 90})"
      ]
     },
     "execution_count": 32,
     "metadata": {},
     "output_type": "execute_result"
    }
   ],
   "source": [
    "# basis of score\n",
    "\n",
    "min(students_info , key = lambda Dict:Dict['score']) , max(students_info , key = lambda Dict:Dict['score'])"
   ]
  },
  {
   "cell_type": "code",
   "execution_count": 33,
   "id": "c5eafed7",
   "metadata": {},
   "outputs": [
    {
     "data": {
      "text/plain": [
       "('Arthur', 'Thomas')"
      ]
     },
     "execution_count": 33,
     "metadata": {},
     "output_type": "execute_result"
    }
   ],
   "source": [
    "# I only want to print name , basis - score\n",
    "\n",
    "min(students_info , key = lambda Dict:Dict['score'])['name'] , max(students_info , key = lambda Dict:Dict['score'])['name']"
   ]
  },
  {
   "cell_type": "code",
   "execution_count": 35,
   "id": "30889a10",
   "metadata": {},
   "outputs": [],
   "source": [
    "students = { 'Jeson' : {'score' : 75 , 'age' : 25},\n",
    "             'Maddy' : {'score' : 64 , 'age' : 26},\n",
    "             'Dom' : {'score' : 26 , 'age' : 28},\n",
    "             'Sally' : {'score' : 85 , 'age' : 23}}"
   ]
  },
  {
   "cell_type": "code",
   "execution_count": 37,
   "id": "b30ceb10",
   "metadata": {},
   "outputs": [
    {
     "data": {
      "text/plain": [
       "('Sally', 'Dom')"
      ]
     },
     "execution_count": 37,
     "metadata": {},
     "output_type": "execute_result"
    }
   ],
   "source": [
    "# basis age\n",
    "\n",
    "min(students , key = lambda KEY:students[KEY]['age']) , max(students , key = lambda KEY:students[KEY]['age'])"
   ]
  },
  {
   "cell_type": "markdown",
   "id": "e7287c33",
   "metadata": {},
   "source": [
    "## sorted ( )\n",
    "\n",
    "- sorts items in a perticular order, returns a *'List'*\n",
    "- takes key parameter just like min( )/max( )\n",
    "- by default it is accending\n",
    "- for descending sort , mention 'reverse = True' , parameter"
   ]
  },
  {
   "cell_type": "code",
   "execution_count": 58,
   "id": "ec894be9",
   "metadata": {},
   "outputs": [
    {
     "data": {
      "text/plain": [
       "[1, 3, 4, 4, 5, 7, 8, 9, 15, 16, 61, 63]"
      ]
     },
     "execution_count": 58,
     "metadata": {},
     "output_type": "execute_result"
    }
   ],
   "source": [
    "# we had a .sort() method for list, which can sort\n",
    "\n",
    "# but, its problems are :\n",
    "#     - its a method, that changes the original value\n",
    "#     - it cant be used on unmutable datatypes like tuples, because it cannot change the original value\n",
    "\n",
    "l1 = [1,5,3,4,9,7,63,4,61,8,16,15]\n",
    "l2 = l1.copy()\n",
    "\n",
    "l1.sort()\n",
    "l1"
   ]
  },
  {
   "cell_type": "code",
   "execution_count": 53,
   "id": "8c9b4228",
   "metadata": {},
   "outputs": [
    {
     "data": {
      "text/plain": [
       "([1, 3, 4, 4, 5, 7, 8, 9, 15, 16, 61, 63],\n",
       " [1, 5, 3, 4, 9, 7, 63, 4, 61, 8, 16, 15])"
      ]
     },
     "execution_count": 53,
     "metadata": {},
     "output_type": "execute_result"
    }
   ],
   "source": [
    "sorted(l2),l2"
   ]
  },
  {
   "cell_type": "code",
   "execution_count": 55,
   "id": "332ab985",
   "metadata": {},
   "outputs": [
    {
     "data": {
      "text/plain": [
       "['dumbledoor', 'harry', 'hermione', 'mcgoniclle', 'ron']"
      ]
     },
     "execution_count": 55,
     "metadata": {},
     "output_type": "execute_result"
    }
   ],
   "source": [
    "names = ('harry','ron','hermione','dumbledoor','mcgoniclle')\n",
    "\n",
    "# names.sort()------error\n",
    "\n",
    "sorted(names)"
   ]
  },
  {
   "cell_type": "code",
   "execution_count": 56,
   "id": "c1297b92",
   "metadata": {},
   "outputs": [
    {
     "data": {
      "text/plain": [
       "['ron', 'mcgoniclle', 'hermione', 'harry', 'dumbledoor']"
      ]
     },
     "execution_count": 56,
     "metadata": {},
     "output_type": "execute_result"
    }
   ],
   "source": [
    "# sorting descending order\n",
    "\n",
    "sorted(names, reverse = True)"
   ]
  },
  {
   "cell_type": "code",
   "execution_count": 63,
   "id": "d2c274f1",
   "metadata": {},
   "outputs": [
    {
     "data": {
      "text/plain": [
       "[{'model': 'Ace 600', 'price': 24000},\n",
       " {'model': 'Spark 30s', 'price': 55000},\n",
       " {'model': 'Rock 900', 'price': 60000},\n",
       " {'model': 'Spark X', 'price': 740000},\n",
       " {'model': 'Tune Pro', 'price': 2240000}]"
      ]
     },
     "execution_count": 63,
     "metadata": {},
     "output_type": "execute_result"
    }
   ],
   "source": [
    "guitars = [{'model' : 'Tune Pro' , 'price' : 2240000},\n",
    "           {'model' : 'Ace 600' , 'price' : 24000},\n",
    "           {'model' : 'Spark 30s' , 'price' : 55000},\n",
    "           {'model' : 'Spark X' , 'price' : 740000},\n",
    "           {'model' : 'Rock 900' , 'price' : 60000}]\n",
    "\n",
    "sorted(guitars , key = lambda Dict:Dict['price'])"
   ]
  },
  {
   "cell_type": "markdown",
   "id": "db70af61",
   "metadata": {},
   "source": [
    "## help( )\n",
    "- provide documentation of inbuilt functions if not known"
   ]
  },
  {
   "cell_type": "code",
   "execution_count": 66,
   "id": "564b4dbf",
   "metadata": {},
   "outputs": [
    {
     "name": "stdout",
     "output_type": "stream",
     "text": [
      "Help on built-in function max in module builtins:\n",
      "\n",
      "max(...)\n",
      "    max(iterable, *[, default=obj, key=func]) -> value\n",
      "    max(arg1, arg2, *args, *[, key=func]) -> value\n",
      "    \n",
      "    With a single iterable argument, return its biggest item. The\n",
      "    default keyword-only argument specifies an object to return if\n",
      "    the provided iterable is empty.\n",
      "    With two or more arguments, return the largest argument.\n",
      "\n"
     ]
    }
   ],
   "source": [
    "help(max)"
   ]
  },
  {
   "cell_type": "code",
   "execution_count": 67,
   "id": "f9d46b0a",
   "metadata": {},
   "outputs": [
    {
     "name": "stdout",
     "output_type": "stream",
     "text": [
      "Help on built-in function len in module builtins:\n",
      "\n",
      "len(obj, /)\n",
      "    Return the number of items in a container.\n",
      "\n"
     ]
    }
   ],
   "source": [
    "help(len)"
   ]
  },
  {
   "cell_type": "markdown",
   "id": "e0fffd61",
   "metadata": {},
   "source": [
    "## Doc Strings\n",
    "- used to documentize the purpose of a function for user\n",
    "- all inbuilt finctions have doc strings in them, which help( ) function also shows\n",
    "- we can also make custom doc strings for user defined functions"
   ]
  },
  {
   "cell_type": "code",
   "execution_count": 69,
   "id": "d269b6e8",
   "metadata": {},
   "outputs": [
    {
     "data": {
      "text/plain": [
       "'Return the number of items in a container.'"
      ]
     },
     "execution_count": 69,
     "metadata": {},
     "output_type": "execute_result"
    }
   ],
   "source": [
    "# accessing doc strings of predefined functions\n",
    "\n",
    "len.__doc__"
   ]
  },
  {
   "cell_type": "code",
   "execution_count": 70,
   "id": "b1d752a1",
   "metadata": {},
   "outputs": [
    {
     "data": {
      "text/plain": [
       "'Return a new list containing all items from the iterable in ascending order.\\n\\nA custom key function can be supplied to customize the sort order, and the\\nreverse flag can be set to request the result in descending order.'"
      ]
     },
     "execution_count": 70,
     "metadata": {},
     "output_type": "execute_result"
    }
   ],
   "source": [
    "sorted.__doc__"
   ]
  },
  {
   "cell_type": "code",
   "execution_count": 71,
   "id": "682dfcb2",
   "metadata": {},
   "outputs": [
    {
     "data": {
      "text/plain": [
       "11"
      ]
     },
     "execution_count": 71,
     "metadata": {},
     "output_type": "execute_result"
    }
   ],
   "source": [
    "# Custom doc strings\n",
    "\n",
    "def fun(a,b):\n",
    "    ''' takes two int/float values and returns their sum'''\n",
    "    return a+b\n",
    "\n",
    "fun(5,6)"
   ]
  },
  {
   "cell_type": "code",
   "execution_count": 72,
   "id": "66d96e00",
   "metadata": {},
   "outputs": [
    {
     "data": {
      "text/plain": [
       "' takes two int/float values and returns their sum'"
      ]
     },
     "execution_count": 72,
     "metadata": {},
     "output_type": "execute_result"
    }
   ],
   "source": [
    "fun.__doc__"
   ]
  },
  {
   "cell_type": "markdown",
   "id": "8ed91afa",
   "metadata": {},
   "source": [
    "\n",
    "\n",
    "## Iterator Vs Iterable"
   ]
  },
  {
   "cell_type": "markdown",
   "id": "0068e2b7",
   "metadata": {},
   "source": [
    "- lists, tuples, strings, dictionaries , sets etc.. -------- iterables\n",
    "\n",
    "- map_objects, filter_objects, zip_objects many more... ----------iterators"
   ]
  },
  {
   "cell_type": "markdown",
   "id": "414151b0",
   "metadata": {},
   "source": [
    "- iterables can be iterated many times\n",
    "- iterators are only iterable once\n",
    "\n",
    "- iterables are converted to iterators to make them go in loop, and they are converted everytime they are called in to loop"
   ]
  },
  {
   "cell_type": "code",
   "execution_count": 24,
   "id": "da741d83",
   "metadata": {},
   "outputs": [
    {
     "name": "stdout",
     "output_type": "stream",
     "text": [
      "1\n",
      "2\n",
      "3\n",
      "4\n"
     ]
    }
   ],
   "source": [
    "l = [1,2,3,4]\n",
    "\n",
    "for i in l:\n",
    "    print (i)\n",
    "    \n",
    "# here l is first converted into iterator object , then i picks up each element one by one"
   ]
  },
  {
   "cell_type": "code",
   "execution_count": 25,
   "id": "203619e8",
   "metadata": {},
   "outputs": [
    {
     "data": {
      "text/plain": [
       "<list_iterator at 0x276c554a520>"
      ]
     },
     "execution_count": 25,
     "metadata": {},
     "output_type": "execute_result"
    }
   ],
   "source": [
    "# this is how for loop converts l to iterator and functions\n",
    "\n",
    "l = [1,2,3,4]\n",
    "\n",
    "iterator_obj = iter(l)\n",
    "iterator_obj"
   ]
  },
  {
   "cell_type": "code",
   "execution_count": 26,
   "id": "5eb23b97",
   "metadata": {},
   "outputs": [
    {
     "name": "stdout",
     "output_type": "stream",
     "text": [
      "1\n",
      "2\n",
      "3\n",
      "4\n"
     ]
    }
   ],
   "source": [
    "# 4 times for loop calls next function to allocate list elements to i, until list exhausts itself\n",
    "\n",
    "i = next(iterator_obj)\n",
    "print(i)\n",
    "i = next(iterator_obj)\n",
    "print(i)\n",
    "i = next(iterator_obj)\n",
    "print(i)\n",
    "i = next(iterator_obj)\n",
    "print(i)"
   ]
  }
 ],
 "metadata": {
  "kernelspec": {
   "display_name": "Python 3",
   "language": "python",
   "name": "python3"
  },
  "language_info": {
   "codemirror_mode": {
    "name": "ipython",
    "version": 3
   },
   "file_extension": ".py",
   "mimetype": "text/x-python",
   "name": "python",
   "nbconvert_exporter": "python",
   "pygments_lexer": "ipython3",
   "version": "3.8.8"
  }
 },
 "nbformat": 4,
 "nbformat_minor": 5
}

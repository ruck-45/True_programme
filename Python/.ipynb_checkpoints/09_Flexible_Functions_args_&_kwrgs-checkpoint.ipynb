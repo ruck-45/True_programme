{
 "cells": [
  {
   "cell_type": "markdown",
   "id": "2cc93f76",
   "metadata": {},
   "source": [
    "# Chapter 9 (Flexible Functions - \\*args & \\*\\*kwrgs)\n",
    "\n",
    "- here * is actually the operator (* operator)\n",
    "- args and kwargs are just identifiers can also be interchanged with any other identifier (like \\*X,\\*\\*Y)\n",
    "- but \\*args  & \\*\\*kwargs are used by convention\n",
    "- \\*args -> makes Tuples\n",
    "- \\*\\*kwargs -> makes Dictionaries"
   ]
  },
  {
   "cell_type": "markdown",
   "id": "dbbca781",
   "metadata": {},
   "source": [
    "## The problem :-\n",
    "\n",
    "- the following function is defined for only 2 arguments, if we pass more than 2 it will throe error\n",
    "- how to make a function accept any number of arguments an produce desired results? using \\*args and \\*\\*kwargs"
   ]
  },
  {
   "cell_type": "code",
   "execution_count": 1,
   "id": "9c73ca91",
   "metadata": {},
   "outputs": [],
   "source": [
    "def add(a,b):\n",
    "    return a+b"
   ]
  },
  {
   "cell_type": "code",
   "execution_count": 2,
   "id": "a6d5f6a6",
   "metadata": {},
   "outputs": [
    {
     "data": {
      "text/plain": [
       "13"
      ]
     },
     "execution_count": 2,
     "metadata": {},
     "output_type": "execute_result"
    }
   ],
   "source": [
    "add(5,8)"
   ]
  },
  {
   "cell_type": "code",
   "execution_count": 3,
   "id": "00bd2c0e",
   "metadata": {},
   "outputs": [
    {
     "ename": "TypeError",
     "evalue": "add() takes 2 positional arguments but 3 were given",
     "output_type": "error",
     "traceback": [
      "\u001b[1;31m---------------------------------------------------------------------------\u001b[0m",
      "\u001b[1;31mTypeError\u001b[0m                                 Traceback (most recent call last)",
      "\u001b[1;32m<ipython-input-3-80420d8cea4a>\u001b[0m in \u001b[0;36m<module>\u001b[1;34m\u001b[0m\n\u001b[1;32m----> 1\u001b[1;33m \u001b[0madd\u001b[0m\u001b[1;33m(\u001b[0m\u001b[1;36m4\u001b[0m\u001b[1;33m,\u001b[0m\u001b[1;36m5\u001b[0m\u001b[1;33m,\u001b[0m\u001b[1;36m6\u001b[0m\u001b[1;33m)\u001b[0m \u001b[1;31m#gives error\u001b[0m\u001b[1;33m\u001b[0m\u001b[1;33m\u001b[0m\u001b[0m\n\u001b[0m",
      "\u001b[1;31mTypeError\u001b[0m: add() takes 2 positional arguments but 3 were given"
     ]
    }
   ],
   "source": [
    "add(4,5,6) #gives error"
   ]
  },
  {
   "cell_type": "markdown",
   "id": "b6d5c249",
   "metadata": {},
   "source": [
    "# *args\n",
    "\n",
    "- args stands for arguments\n",
    "- \\* operator here takes multiple individualvalues and converts them into a Tuple named args()\n",
    "- its used in making function accept multiple arguents with limited defined parameters\n",
    "\n",
    "- converts multiple arguments into 'Tuple'"
   ]
  },
  {
   "cell_type": "code",
   "execution_count": 4,
   "id": "199893cc",
   "metadata": {},
   "outputs": [],
   "source": [
    "def add_2(*args):\n",
    "    temp = 0\n",
    "    for i in args:\n",
    "        temp+=i\n",
    "    return temp"
   ]
  },
  {
   "cell_type": "code",
   "execution_count": 8,
   "id": "29d7a87d",
   "metadata": {},
   "outputs": [
    {
     "data": {
      "text/plain": [
       "13"
      ]
     },
     "execution_count": 8,
     "metadata": {},
     "output_type": "execute_result"
    }
   ],
   "source": [
    "add_2(5,8)"
   ]
  },
  {
   "cell_type": "code",
   "execution_count": 9,
   "id": "beb1a57f",
   "metadata": {},
   "outputs": [
    {
     "data": {
      "text/plain": [
       "15"
      ]
     },
     "execution_count": 9,
     "metadata": {},
     "output_type": "execute_result"
    }
   ],
   "source": [
    "add_2(4,5,6)"
   ]
  },
  {
   "cell_type": "code",
   "execution_count": 10,
   "id": "1c36c5a9",
   "metadata": {},
   "outputs": [
    {
     "data": {
      "text/plain": [
       "32"
      ]
     },
     "execution_count": 10,
     "metadata": {},
     "output_type": "execute_result"
    }
   ],
   "source": [
    "add_2(7,5,6,4,2,8)"
   ]
  },
  {
   "cell_type": "code",
   "execution_count": 9,
   "id": "ee3cf245",
   "metadata": {},
   "outputs": [],
   "source": [
    "def args_working(*args):\n",
    "    return args"
   ]
  },
  {
   "cell_type": "code",
   "execution_count": 15,
   "id": "f1286f24",
   "metadata": {},
   "outputs": [
    {
     "data": {
      "text/plain": [
       "(1, 5, 6, 64, 69)"
      ]
     },
     "execution_count": 15,
     "metadata": {},
     "output_type": "execute_result"
    }
   ],
   "source": [
    "args_working(1,5,6,64,69)"
   ]
  },
  {
   "cell_type": "code",
   "execution_count": 10,
   "id": "88b8636c",
   "metadata": {
    "scrolled": true
   },
   "outputs": [
    {
     "data": {
      "text/plain": [
       "([1, 2, 3, 4],)"
      ]
     },
     "execution_count": 10,
     "metadata": {},
     "output_type": "execute_result"
    }
   ],
   "source": [
    "l = [1,2,3,4]\n",
    "\n",
    "args_working(l)"
   ]
  },
  {
   "cell_type": "markdown",
   "id": "9a7c0795",
   "metadata": {},
   "source": [
    "#### Theory :-\n",
    "\n",
    "- def fun(a,b,*args):\n",
    "-   ...............\n",
    "    \n",
    "above function will accept at least 2 arguments (for a & b), then the rest will go to args, \n",
    "fun(1,5) - minimum\n",
    "\n",
    "- def fun(*args):\n",
    "-   ...............\n",
    "\n",
    "above function at least reuires 0 arguments.\n",
    "fun() is valid. (minimum)\n",
    "\n",
    "- def fun(*args,num):\n",
    "-   ...............\n",
    "\n",
    "above function is invalid - because *args will take allarguments first, leavin no arguments for num\n",
    "then num will throw error"
   ]
  },
  {
   "cell_type": "code",
   "execution_count": 6,
   "id": "4e6369c3",
   "metadata": {},
   "outputs": [],
   "source": [
    "## passing list/tuple through *args\n",
    "\n",
    "def add_2(*args):\n",
    "    temp = 0\n",
    "    for i in args:\n",
    "        temp+=i\n",
    "    return temp\n",
    "\n",
    "l =[1,3,5,7,9]\n",
    "t = (2,4,6,8)"
   ]
  },
  {
   "cell_type": "code",
   "execution_count": 8,
   "id": "11078e39",
   "metadata": {},
   "outputs": [
    {
     "data": {
      "text/plain": [
       "25"
      ]
     },
     "execution_count": 8,
     "metadata": {},
     "output_type": "execute_result"
    }
   ],
   "source": [
    "add_2(*l)"
   ]
  },
  {
   "cell_type": "code",
   "execution_count": 21,
   "id": "2512ef53",
   "metadata": {
    "scrolled": true
   },
   "outputs": [
    {
     "data": {
      "text/plain": [
       "20"
      ]
     },
     "execution_count": 21,
     "metadata": {},
     "output_type": "execute_result"
    }
   ],
   "source": [
    "add_2(*t)"
   ]
  },
  {
   "cell_type": "markdown",
   "id": "71eaec88",
   "metadata": {},
   "source": [
    "in above senario, passing directly will cause problem because args will be like:\n",
    "\n",
    "- add_2(l) --- args = ([1,3,5,7,9])\n",
    "\n",
    "but * operator does the unpacking\n",
    "\n",
    "- add_2(\\*l) --- args = (1,3,5,7,9)\n"
   ]
  },
  {
   "cell_type": "markdown",
   "id": "5bbbfc81",
   "metadata": {},
   "source": [
    "## \\*\\*kwargs\n",
    "\n",
    "- kwargs stands for keyword arguments\n",
    "- \\*\\* operator here takes multiple key:value pairs and converts them into a dictionaries named kwargs{}\n",
    "- its used in making function accept multiple arguents with limited defined parameters\n",
    "\n",
    "- converts multiple arguments into 'Dictionaries'"
   ]
  },
  {
   "cell_type": "code",
   "execution_count": 1,
   "id": "5bc5ee79",
   "metadata": {},
   "outputs": [],
   "source": [
    "def test_kwargs(**kwargs):\n",
    "    return kwargs"
   ]
  },
  {
   "cell_type": "code",
   "execution_count": 2,
   "id": "00c4a139",
   "metadata": {},
   "outputs": [
    {
     "data": {
      "text/plain": [
       "{'name': 'Rudelf', 'age': 24}"
      ]
     },
     "execution_count": 2,
     "metadata": {},
     "output_type": "execute_result"
    }
   ],
   "source": [
    "#passing regular parameters\n",
    "\n",
    "test_kwargs(name = 'Rudelf',age = 24)"
   ]
  },
  {
   "cell_type": "code",
   "execution_count": 15,
   "id": "3d137826",
   "metadata": {},
   "outputs": [
    {
     "data": {
      "text/plain": [
       "{'name': 'Book of lies', 'publish year': 1977, 'sold copy(in mil)': 42}"
      ]
     },
     "execution_count": 15,
     "metadata": {},
     "output_type": "execute_result"
    }
   ],
   "source": [
    "#passing a dictionary\n",
    "\n",
    "book = {'name' : 'Book of lies','publish year' : 1977,'sold copy(in mil)' : 42}\n",
    "\n",
    "test_kwargs(**book)"
   ]
  },
  {
   "cell_type": "markdown",
   "id": "20142198",
   "metadata": {},
   "source": [
    "## Parameter Sequence"
   ]
  },
  {
   "cell_type": "markdown",
   "id": "4d0e985a",
   "metadata": {},
   "source": [
    "- Sequence of parameters to use in a function to not get any errors :-\n",
    "\n",
    "def fun( normal_parameters , \\*args , default_parameters , \\*\\*kwargs)"
   ]
  },
  {
   "cell_type": "markdown",
   "id": "c81ce2ba",
   "metadata": {},
   "source": [
    "example - def fun( a , b , \\*args , c=24 , d = 'unknown', \\*\\*kwargs)"
   ]
  }
 ],
 "metadata": {
  "kernelspec": {
   "display_name": "Python 3",
   "language": "python",
   "name": "python3"
  },
  "language_info": {
   "codemirror_mode": {
    "name": "ipython",
    "version": 3
   },
   "file_extension": ".py",
   "mimetype": "text/x-python",
   "name": "python",
   "nbconvert_exporter": "python",
   "pygments_lexer": "ipython3",
   "version": "3.8.8"
  }
 },
 "nbformat": 4,
 "nbformat_minor": 5
}

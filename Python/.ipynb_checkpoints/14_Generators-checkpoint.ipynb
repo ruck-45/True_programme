{
 "cells": [
  {
   "cell_type": "markdown",
   "id": "4b4e1559",
   "metadata": {},
   "source": [
    "# Chapter 14 (Generators)"
   ]
  },
  {
   "cell_type": "markdown",
   "id": "59e6f8a1",
   "metadata": {},
   "source": [
    "- Generators are iterators\n",
    "- Generator Sequences are used to optimize time and memeory"
   ]
  },
  {
   "cell_type": "markdown",
   "id": "43d8447b",
   "metadata": {},
   "source": [
    "# Theory\n",
    "Generators can represent any sequence like (list,tuple,set,string etc...) , but here we are comparing with list only"
   ]
  },
  {
   "cell_type": "markdown",
   "id": "1825ef75",
   "metadata": {},
   "source": [
    "## List\n",
    "\n",
    "- We choose to store a sequence in the form of list\n",
    "\n",
    "#### Adv : \n",
    "- We can call the sequence any number of times in our program\n",
    "- Because List is a iterable ( which is converted to an iterator everytime it is called )\n",
    "\n",
    "#### Disadv : ( If we intend to use the sequence only once )\n",
    "- The list wil hold up unnecessery space in memory (eqvalent to its length)\n",
    "- The time used up in creating the list and again converting the same to an iterator when traversed is a wastage of computatio and time."
   ]
  },
  {
   "cell_type": "markdown",
   "id": "3ed78aa8",
   "metadata": {},
   "source": [
    "## Generator\n",
    "- We chose to store the sequence in form of generator\n",
    "\n",
    "#### Adv : ( If we intend to use the sequence only once )\n",
    "- It will save us memory as \n",
    "    - iterators only generate one element at at time, they donot generate the whole sequence at once.\n",
    "    - iterators generate the next element only when it is demanded (by next function)\n",
    "    - Also the currently generated element gets removed from the memory once next element is generated\n",
    "- It saves time as it doesnt need to get created\n",
    "\n",
    "#### Disadv : \n",
    "- as being an iterator it cannot be used multiple times"
   ]
  },
  {
   "cell_type": "markdown",
   "id": "1e4b61c3",
   "metadata": {},
   "source": [
    "## Note : \n",
    "Use generator when the sequence needs to be used once (for better memory and space optimization)"
   ]
  },
  {
   "cell_type": "markdown",
   "id": "b60d60f6",
   "metadata": {},
   "source": [
    "# Creating a Generator (iterator)"
   ]
  },
  {
   "cell_type": "markdown",
   "id": "fe604762",
   "metadata": {},
   "source": [
    "### yield keyword"
   ]
  },
  {
   "cell_type": "code",
   "execution_count": 2,
   "id": "e468ab78",
   "metadata": {},
   "outputs": [],
   "source": [
    "# a generator generating sequence from 1 to n\n",
    "\n",
    "def gen(n):\n",
    "    for i in range(n):\n",
    "        yield i+1"
   ]
  },
  {
   "cell_type": "code",
   "execution_count": 3,
   "id": "289df6be",
   "metadata": {},
   "outputs": [
    {
     "data": {
      "text/plain": [
       "<generator object gen at 0x00000236A5D9BC80>"
      ]
     },
     "execution_count": 3,
     "metadata": {},
     "output_type": "execute_result"
    }
   ],
   "source": [
    "# here a is a generator/iterator of series from 1 - 10\n",
    "\n",
    "a = gen(10)\n",
    "a"
   ]
  },
  {
   "cell_type": "code",
   "execution_count": 4,
   "id": "020f7c74",
   "metadata": {},
   "outputs": [
    {
     "name": "stdout",
     "output_type": "stream",
     "text": [
      "1\n",
      "2\n",
      "3\n",
      "4\n",
      "5\n",
      "6\n",
      "7\n",
      "8\n",
      "9\n",
      "10\n"
     ]
    }
   ],
   "source": [
    "# a can only be traversed once just like an iterator\n",
    "\n",
    "for i in a:\n",
    "    print(i)"
   ]
  },
  {
   "cell_type": "code",
   "execution_count": 6,
   "id": "ca656e41",
   "metadata": {},
   "outputs": [],
   "source": [
    "# second time it doesnt work\n",
    "\n",
    "for i in a:\n",
    "    print(i)"
   ]
  },
  {
   "cell_type": "code",
   "execution_count": 7,
   "id": "fc7055b5",
   "metadata": {},
   "outputs": [
    {
     "data": {
      "text/plain": [
       "[1, 2, 3, 4, 5, 6, 7, 8, 9, 10, 11, 12, 13, 14, 15, 16, 17, 18, 19, 20]"
      ]
     },
     "execution_count": 7,
     "metadata": {},
     "output_type": "execute_result"
    }
   ],
   "source": [
    "# We can transform the generator/iterator to our desired datatype \n",
    "\n",
    "b = gen(20)\n",
    "list(b)"
   ]
  },
  {
   "cell_type": "markdown",
   "id": "25fd005a",
   "metadata": {},
   "source": [
    "### Generator Comprehension\n",
    "- it is exactly like list comprehension, just use ( )  except [ ] in place"
   ]
  },
  {
   "cell_type": "code",
   "execution_count": 10,
   "id": "ac1fa4cb",
   "metadata": {},
   "outputs": [
    {
     "data": {
      "text/plain": [
       "<generator object <genexpr> at 0x00000236A78B96D0>"
      ]
     },
     "execution_count": 10,
     "metadata": {},
     "output_type": "execute_result"
    }
   ],
   "source": [
    "# generator sequence of squares from 1 to 10\n",
    "\n",
    "sq_gen = (i**2 for i in range(1,11))\n",
    "sq_gen"
   ]
  },
  {
   "cell_type": "code",
   "execution_count": 9,
   "id": "67aca6f3",
   "metadata": {
    "scrolled": true
   },
   "outputs": [
    {
     "name": "stdout",
     "output_type": "stream",
     "text": [
      "1\n",
      "4\n",
      "9\n",
      "16\n",
      "25\n",
      "36\n",
      "49\n",
      "64\n",
      "81\n",
      "100\n"
     ]
    }
   ],
   "source": [
    "for i in sq_gen:\n",
    "    print(i)"
   ]
  },
  {
   "cell_type": "markdown",
   "id": "ab3b1c09",
   "metadata": {},
   "source": [
    "# List Vs Generator\n",
    "- lets compare the time and memory used in a list vs a generator"
   ]
  },
  {
   "cell_type": "markdown",
   "id": "b4c58fff",
   "metadata": {},
   "source": [
    "### List\n",
    "- List is directly created as a iterable in the main memory, so it consumes a lot of memory during its creation\n",
    "- it also takes a lot of time in that process as the whole series is generated when the list is initialized"
   ]
  },
  {
   "cell_type": "code",
   "execution_count": 19,
   "id": "9a3679e4",
   "metadata": {},
   "outputs": [],
   "source": [
    "import time\n",
    "\n",
    "t1 = time.time()\n",
    "\n",
    "arr = [i**2 for i in range(10000000)] # series of 10 milllion squares\n",
    "\n",
    "t2 = time.time()"
   ]
  },
  {
   "cell_type": "code",
   "execution_count": 12,
   "id": "f60ac09a",
   "metadata": {},
   "outputs": [
    {
     "data": {
      "text/plain": [
       "3.146728992462158"
      ]
     },
     "execution_count": 12,
     "metadata": {},
     "output_type": "execute_result"
    }
   ],
   "source": [
    "# time taken ( because the whole series is generated at once )\n",
    "t2-t1"
   ]
  },
  {
   "cell_type": "markdown",
   "id": "208b20bc",
   "metadata": {},
   "source": [
    "### Generator\n",
    "- While creating a generator , only an iterator is created instead of a whole series\n",
    "- we can access elements on demand only\n",
    "- So it neither takes up any memory or time "
   ]
  },
  {
   "cell_type": "code",
   "execution_count": 24,
   "id": "3b62b8c9",
   "metadata": {},
   "outputs": [],
   "source": [
    "t1 = time.time()\n",
    "\n",
    "gen = (i**2 for i in range(10000000)) # series of 10 milllion squares\n",
    "\n",
    "t2 = time.time()"
   ]
  },
  {
   "cell_type": "code",
   "execution_count": 22,
   "id": "d578daff",
   "metadata": {},
   "outputs": [
    {
     "data": {
      "text/plain": [
       "0.0"
      ]
     },
     "execution_count": 22,
     "metadata": {},
     "output_type": "execute_result"
    }
   ],
   "source": [
    "# time taken ( barely any time taken )\n",
    "t2-t1"
   ]
  },
  {
   "cell_type": "markdown",
   "id": "275283e5",
   "metadata": {},
   "source": [
    "## Note: \n",
    "we can apply next( ) function on a generator (iterator)"
   ]
  },
  {
   "cell_type": "code",
   "execution_count": 25,
   "id": "98e54a53",
   "metadata": {},
   "outputs": [
    {
     "name": "stdout",
     "output_type": "stream",
     "text": [
      "0\n",
      "1\n",
      "4\n",
      "9\n"
     ]
    }
   ],
   "source": [
    "print(next(gen))\n",
    "print(next(gen))\n",
    "print(next(gen))\n",
    "print(next(gen))"
   ]
  }
 ],
 "metadata": {
  "kernelspec": {
   "display_name": "Python 3",
   "language": "python",
   "name": "python3"
  },
  "language_info": {
   "codemirror_mode": {
    "name": "ipython",
    "version": 3
   },
   "file_extension": ".py",
   "mimetype": "text/x-python",
   "name": "python",
   "nbconvert_exporter": "python",
   "pygments_lexer": "ipython3",
   "version": "3.8.8"
  }
 },
 "nbformat": 4,
 "nbformat_minor": 5
}

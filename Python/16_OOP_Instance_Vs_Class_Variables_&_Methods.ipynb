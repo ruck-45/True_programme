{
 "cells": [
  {
   "cell_type": "markdown",
   "id": "89a21908",
   "metadata": {},
   "source": [
    "# Instance Variables Vs Class Variables"
   ]
  },
  {
   "cell_type": "markdown",
   "id": "95eeda4e",
   "metadata": {},
   "source": [
    "### Instance variables\n",
    "\n",
    "- Instance variables are local to each Object created\n",
    "- Each new Object created has its own instance variables and are independent of one another\n",
    "- Since instance variables of each objects are independent of one another, they take up memory spaces separately ( no shared memeory space )\n",
    "- No object can access instance variable of another object\n",
    "- Instance variables are declared under \\_\\_init__ method\n",
    "- It is like a local variable to a function"
   ]
  },
  {
   "cell_type": "markdown",
   "id": "b2c3d84e",
   "metadata": {},
   "source": [
    "### Class variables\n",
    "\n",
    "- Class variables are shared by all instances/Objects of the class\n",
    "- Since the variable is shared by all Objects of the Class, therefore it is allocated only once in the memory\n",
    "- For every object the class variable is the same, so ultimately all are accessing the same variable\n",
    "- Class variables are declared anywhere inside the Class ( But not inside any method )\n",
    "- It is like a Global variable to a function"
   ]
  },
  {
   "cell_type": "markdown",
   "id": "828b9d20",
   "metadata": {},
   "source": [
    "### Accessing Instance and Class variables\n",
    "\n",
    "#### Instance Variables\n",
    "- We can access instance variables using the object and dot operator : \n",
    "    - Obj_name.instance_variable_name\n",
    "\n",
    "#### Class Variables\n",
    "- We can access Class variables using the Class and dot operator : \n",
    "    - Class.Class_variable_name\n",
    "- We can access Class variables using the Object and dot operator only when there is no instance variable present of the same name.\n",
    "    - Obj_name.Class_variable_name"
   ]
  },
  {
   "cell_type": "code",
   "execution_count": 1,
   "id": "65f9bbdf",
   "metadata": {},
   "outputs": [],
   "source": [
    "#  Example \n",
    "\n",
    "class Game:\n",
    "#     Class Variables\n",
    "    discount = 10\n",
    "    game_pass_code = 4008\n",
    "    \n",
    "    \n",
    "    def __init__(self,name,publisher,dev_studio,price):\n",
    "        \n",
    "#         instance variables\n",
    "        self.name = name\n",
    "        self.publisher = publisher\n",
    "        self.dev_studio = dev_studio        \n",
    "        self.price = price\n",
    "        self.discounted_price = price\n",
    "        self.game_pass_code = 8000\n",
    "\n",
    "    def apply_discount(self):\n",
    "        self.discounted_price *= (100-discount)/100\n",
    "        return self.discounted_price"
   ]
  },
  {
   "cell_type": "code",
   "execution_count": 2,
   "id": "909238b4",
   "metadata": {},
   "outputs": [],
   "source": [
    "# Here instance variables like name , publisher , dev_studio , price , discounted_price , \n",
    "\n",
    "\n",
    "G1 = Game('Battlefield 2042','EA','Dice',4000)\n",
    "G2 = Game('COD : Modern Warfare 2','Activision','Infinity Ward',6000)\n",
    "G3 = Game('Boderlands','Gearbox','Gearbox',3000)"
   ]
  },
  {
   "cell_type": "code",
   "execution_count": 3,
   "id": "a21046dd",
   "metadata": {},
   "outputs": [
    {
     "data": {
      "text/plain": [
       "{'name': 'Battlefield 2042',\n",
       " 'publisher': 'EA',\n",
       " 'dev_studio': 'Dice',\n",
       " 'price': 4000,\n",
       " 'discounted_price': 4000,\n",
       " 'game_pass_code': 8000}"
      ]
     },
     "execution_count": 3,
     "metadata": {},
     "output_type": "execute_result"
    }
   ],
   "source": [
    "# __dict__ used to see all instance variables\n",
    "\n",
    "G1.__dict__"
   ]
  },
  {
   "cell_type": "code",
   "execution_count": 4,
   "id": "270de8a9",
   "metadata": {},
   "outputs": [
    {
     "name": "stdout",
     "output_type": "stream",
     "text": [
      "Battlefield 2042\n",
      "Activision\n"
     ]
    }
   ],
   "source": [
    "# accessing instance variable\n",
    "\n",
    "print(G1.name)\n",
    "print(G2.publisher)"
   ]
  },
  {
   "cell_type": "code",
   "execution_count": 5,
   "id": "a191601b",
   "metadata": {},
   "outputs": [
    {
     "name": "stdout",
     "output_type": "stream",
     "text": [
      "4008\n",
      "10\n"
     ]
    }
   ],
   "source": [
    "# accessing class variable\n",
    "\n",
    "print(Game.game_pass_code)\n",
    "print(Game.discount)"
   ]
  },
  {
   "cell_type": "code",
   "execution_count": 7,
   "id": "243e434c",
   "metadata": {},
   "outputs": [
    {
     "name": "stdout",
     "output_type": "stream",
     "text": [
      "10\n",
      "10\n",
      "True\n"
     ]
    }
   ],
   "source": [
    "# accessing class variables through object\n",
    "\n",
    "print(G1.discount) # could access because there is no instance variable named discount\n",
    "print(G2.discount)\n",
    "\n",
    "print(G2.discount is G1.discount) # both of them point to the same variable"
   ]
  },
  {
   "cell_type": "markdown",
   "id": "a32a5485",
   "metadata": {},
   "source": [
    "### Note :\n",
    "- we can create new or update existing class and object variables outside the class definition also\n",
    "- the new class variable formed will be available for all the object\n",
    "- But the newly formed instance variable will be limited to that perticular object"
   ]
  },
  {
   "cell_type": "code",
   "execution_count": 8,
   "id": "913fefcb",
   "metadata": {},
   "outputs": [],
   "source": [
    "# new instance variable\n",
    "G1.g1_new_instance_var_01 = 'value_01'\n",
    "G1.g1_new_instance_var_02 = 'value_02'\n",
    "\n",
    "# new class variable\n",
    "Game.new_class_var_01 = 'class_value_01'"
   ]
  },
  {
   "cell_type": "code",
   "execution_count": 9,
   "id": "a8610782",
   "metadata": {},
   "outputs": [
    {
     "data": {
      "text/plain": [
       "{'name': 'Battlefield 2042',\n",
       " 'publisher': 'EA',\n",
       " 'dev_studio': 'Dice',\n",
       " 'price': 4000,\n",
       " 'discounted_price': 4000,\n",
       " 'game_pass_code': 8000,\n",
       " 'g1_new_instance_var_01': 'value_01',\n",
       " 'g1_new_instance_var_02': 'value_02'}"
      ]
     },
     "execution_count": 9,
     "metadata": {},
     "output_type": "execute_result"
    }
   ],
   "source": [
    "G1.__dict__"
   ]
  },
  {
   "cell_type": "code",
   "execution_count": 10,
   "id": "625d75ec",
   "metadata": {},
   "outputs": [
    {
     "data": {
      "text/plain": [
       "{'name': 'COD : Modern Warfare 2',\n",
       " 'publisher': 'Activision',\n",
       " 'dev_studio': 'Infinity Ward',\n",
       " 'price': 6000,\n",
       " 'discounted_price': 6000,\n",
       " 'game_pass_code': 8000}"
      ]
     },
     "execution_count": 10,
     "metadata": {},
     "output_type": "execute_result"
    }
   ],
   "source": [
    "G2.__dict__"
   ]
  },
  {
   "cell_type": "code",
   "execution_count": 11,
   "id": "6fe1d940",
   "metadata": {},
   "outputs": [
    {
     "data": {
      "text/plain": [
       "mappingproxy({'__module__': '__main__',\n",
       "              'discount': 10,\n",
       "              'game_pass_code': 4008,\n",
       "              '__init__': <function __main__.Game.__init__(self, name, publisher, dev_studio, price)>,\n",
       "              'apply_discount': <function __main__.Game.apply_discount(self)>,\n",
       "              '__dict__': <attribute '__dict__' of 'Game' objects>,\n",
       "              '__weakref__': <attribute '__weakref__' of 'Game' objects>,\n",
       "              '__doc__': None,\n",
       "              'new_class_var_01': 'class_value_01'})"
      ]
     },
     "execution_count": 11,
     "metadata": {},
     "output_type": "execute_result"
    }
   ],
   "source": [
    "Game.__dict__"
   ]
  }
 ],
 "metadata": {
  "kernelspec": {
   "display_name": "Python 3",
   "language": "python",
   "name": "python3"
  },
  "language_info": {
   "codemirror_mode": {
    "name": "ipython",
    "version": 3
   },
   "file_extension": ".py",
   "mimetype": "text/x-python",
   "name": "python",
   "nbconvert_exporter": "python",
   "pygments_lexer": "ipython3",
   "version": "3.8.8"
  }
 },
 "nbformat": 4,
 "nbformat_minor": 5
}

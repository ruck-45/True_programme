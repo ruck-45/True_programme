{
 "cells": [
  {
   "cell_type": "markdown",
   "id": "559e8c90",
   "metadata": {},
   "source": [
    "# Chapter 4  (Lists)\n",
    "\n",
    "- An array that can store any data type\n",
    "- data repetition is allowed"
   ]
  },
  {
   "cell_type": "markdown",
   "id": "7f7119e8",
   "metadata": {},
   "source": [
    "## Declaring a blank list"
   ]
  },
  {
   "cell_type": "code",
   "execution_count": 1,
   "id": "841cbbfb",
   "metadata": {},
   "outputs": [
    {
     "data": {
      "text/plain": [
       "[]"
      ]
     },
     "execution_count": 1,
     "metadata": {},
     "output_type": "execute_result"
    }
   ],
   "source": [
    "l = [] #we can append(insert) stuff into it later\n",
    "l"
   ]
  },
  {
   "cell_type": "markdown",
   "id": "4ba5d745",
   "metadata": {},
   "source": [
    "##  List Indexing and Slicing\n",
    "- exactly same as string idexing and slicing"
   ]
  },
  {
   "cell_type": "code",
   "execution_count": 2,
   "id": "8f5b2e15",
   "metadata": {},
   "outputs": [],
   "source": [
    "mix = ['Dave','Marcus','Anthony',1,10,45,True,False,None,25.45,89.36,['a1','a2','a3']]"
   ]
  },
  {
   "cell_type": "code",
   "execution_count": 3,
   "id": "b7257fea",
   "metadata": {},
   "outputs": [
    {
     "data": {
      "text/plain": [
       "('Dave', 45)"
      ]
     },
     "execution_count": 3,
     "metadata": {},
     "output_type": "execute_result"
    }
   ],
   "source": [
    "mix[0],mix[5]"
   ]
  },
  {
   "cell_type": "code",
   "execution_count": 4,
   "id": "7c77f615",
   "metadata": {},
   "outputs": [
    {
     "data": {
      "text/plain": [
       "['a1', 'a2', 'a3']"
      ]
     },
     "execution_count": 4,
     "metadata": {},
     "output_type": "execute_result"
    }
   ],
   "source": [
    "mix[-1]"
   ]
  },
  {
   "cell_type": "code",
   "execution_count": 5,
   "id": "9f5bb7c1",
   "metadata": {},
   "outputs": [
    {
     "data": {
      "text/plain": [
       "[['a1', 'a2', 'a3'],\n",
       " 89.36,\n",
       " 25.45,\n",
       " None,\n",
       " False,\n",
       " True,\n",
       " 45,\n",
       " 10,\n",
       " 1,\n",
       " 'Anthony',\n",
       " 'Marcus',\n",
       " 'Dave']"
      ]
     },
     "execution_count": 5,
     "metadata": {},
     "output_type": "execute_result"
    }
   ],
   "source": [
    "mix[::-1]"
   ]
  },
  {
   "cell_type": "code",
   "execution_count": 6,
   "id": "e14adbf5",
   "metadata": {},
   "outputs": [
    {
     "data": {
      "text/plain": [
       "['Anthony', 10, True, None, 89.36]"
      ]
     },
     "execution_count": 6,
     "metadata": {},
     "output_type": "execute_result"
    }
   ],
   "source": [
    "mix[2::2]"
   ]
  },
  {
   "cell_type": "markdown",
   "id": "e28a09c1",
   "metadata": {},
   "source": [
    "## List Concatination"
   ]
  },
  {
   "cell_type": "code",
   "execution_count": 7,
   "id": "7870b0f2",
   "metadata": {},
   "outputs": [
    {
     "data": {
      "text/plain": [
       "['mango', 'orange', 'guava', 'banana', 'strawberry']"
      ]
     },
     "execution_count": 7,
     "metadata": {},
     "output_type": "execute_result"
    }
   ],
   "source": [
    "l1 = ['mango','orange','guava']\n",
    "l2 = ['banana','strawberry']\n",
    "\n",
    "l1+l2"
   ]
  },
  {
   "cell_type": "markdown",
   "id": "faecec98",
   "metadata": {},
   "source": [
    "## List Methods & Functions"
   ]
  },
  {
   "cell_type": "code",
   "execution_count": 8,
   "id": "85285a85",
   "metadata": {},
   "outputs": [],
   "source": [
    "fruits = ['mango','orange','guava','banana','strawberry','banana','mango']"
   ]
  },
  {
   "cell_type": "code",
   "execution_count": 9,
   "id": "f82af657",
   "metadata": {},
   "outputs": [
    {
     "data": {
      "text/plain": [
       "7"
      ]
     },
     "execution_count": 9,
     "metadata": {},
     "output_type": "execute_result"
    }
   ],
   "source": [
    "# len( ) function - gives size oflist\n",
    "\n",
    "len(fruits)"
   ]
  },
  {
   "cell_type": "code",
   "execution_count": 10,
   "id": "c7eb37a3",
   "metadata": {},
   "outputs": [
    {
     "data": {
      "text/plain": [
       "['mango',\n",
       " 'orange',\n",
       " 'guava',\n",
       " 'banana',\n",
       " 'strawberry',\n",
       " 'banana',\n",
       " 'mango',\n",
       " 'coconut']"
      ]
     },
     "execution_count": 10,
     "metadata": {},
     "output_type": "execute_result"
    }
   ],
   "source": [
    "# .append( ) method - to insert elements at the end of a list\n",
    "#changes the original list\n",
    "\n",
    "fruits.append(\"coconut\")\n",
    "fruits"
   ]
  },
  {
   "cell_type": "code",
   "execution_count": 11,
   "id": "2cc3e359",
   "metadata": {},
   "outputs": [
    {
     "data": {
      "text/plain": [
       "['mango',\n",
       " 'orange',\n",
       " 'guava',\n",
       " 'banana',\n",
       " 'strawberry',\n",
       " 'grape',\n",
       " 'banana',\n",
       " 'mango',\n",
       " 'coconut']"
      ]
     },
     "execution_count": 11,
     "metadata": {},
     "output_type": "execute_result"
    }
   ],
   "source": [
    "# .insert( ) method - inserts element in specific place\n",
    "\n",
    "fruits.insert(5,\"grape\")\n",
    "fruits"
   ]
  },
  {
   "cell_type": "code",
   "execution_count": 12,
   "id": "579b1e8d",
   "metadata": {},
   "outputs": [
    {
     "data": {
      "text/plain": [
       "['mango',\n",
       " 'orange',\n",
       " 'guava',\n",
       " 'banana',\n",
       " 'strawberry',\n",
       " 'grape',\n",
       " 'banana',\n",
       " 'mango',\n",
       " 'coconut',\n",
       " 'berry',\n",
       " 'coconut']"
      ]
     },
     "execution_count": 12,
     "metadata": {},
     "output_type": "execute_result"
    }
   ],
   "source": [
    "# .extend( ) method - inserts the elements of a list in another list\n",
    "\n",
    "fruits2 = [\"berry\",\"coconut\"]\n",
    "fruits.extend(fruits2)\n",
    "fruits"
   ]
  },
  {
   "cell_type": "code",
   "execution_count": 13,
   "id": "b92891bc",
   "metadata": {},
   "outputs": [
    {
     "data": {
      "text/plain": [
       "(['berry', 'coconut', 'kiwi', 'banana'], 'mango')"
      ]
     },
     "execution_count": 13,
     "metadata": {},
     "output_type": "execute_result"
    }
   ],
   "source": [
    "# pop( ) method - deletes the last element and then returns the popped value\n",
    "fruits3 = [\"berry\",\"coconut\",'kiwi','banana','mango']\n",
    "\n",
    "poped_value = fruits3.pop()\n",
    "fruits3, poped_value"
   ]
  },
  {
   "cell_type": "code",
   "execution_count": 14,
   "id": "0036f415",
   "metadata": {},
   "outputs": [
    {
     "data": {
      "text/plain": [
       "['berry', 'coconut', 'banana']"
      ]
     },
     "execution_count": 14,
     "metadata": {},
     "output_type": "execute_result"
    }
   ],
   "source": [
    "# .remove( ) method - removes specific elements by name\n",
    "\n",
    "fruits3.remove(\"kiwi\")\n",
    "fruits3"
   ]
  },
  {
   "cell_type": "code",
   "execution_count": 15,
   "id": "80eec01b",
   "metadata": {},
   "outputs": [
    {
     "data": {
      "text/plain": [
       "['m1', 'm3', 'm2', 'm1', 'm5']"
      ]
     },
     "execution_count": 15,
     "metadata": {},
     "output_type": "execute_result"
    }
   ],
   "source": [
    "# if there is a repetition, it removes the first one encountered\n",
    "\n",
    "music = ['m1','m2','m3','m2','m1','m5']\n",
    "music.remove(\"m2\")\n",
    "music"
   ]
  },
  {
   "cell_type": "code",
   "execution_count": 16,
   "id": "9aac7c0a",
   "metadata": {},
   "outputs": [
    {
     "data": {
      "text/plain": [
       "[]"
      ]
     },
     "execution_count": 16,
     "metadata": {},
     "output_type": "execute_result"
    }
   ],
   "source": [
    "# .clear( ) method - makes the list an empty list but doesnt deletes it from memory\n",
    "\n",
    "num = [1,56,8]\n",
    "num.clear()\n",
    "num"
   ]
  },
  {
   "cell_type": "code",
   "execution_count": 36,
   "id": "af8fef83",
   "metadata": {},
   "outputs": [
    {
     "ename": "NameError",
     "evalue": "name 'music' is not defined",
     "output_type": "error",
     "traceback": [
      "\u001b[1;31m---------------------------------------------------------------------------\u001b[0m",
      "\u001b[1;31mNameError\u001b[0m                                 Traceback (most recent call last)",
      "\u001b[1;32m<ipython-input-36-ff79e9a9dab5>\u001b[0m in \u001b[0;36m<module>\u001b[1;34m\u001b[0m\n\u001b[0;32m      3\u001b[0m \u001b[1;33m\u001b[0m\u001b[0m\n\u001b[0;32m      4\u001b[0m \u001b[1;32mdel\u001b[0m \u001b[0mmusic\u001b[0m\u001b[1;33m\u001b[0m\u001b[1;33m\u001b[0m\u001b[0m\n\u001b[1;32m----> 5\u001b[1;33m \u001b[0mmusic\u001b[0m\u001b[1;33m\u001b[0m\u001b[1;33m\u001b[0m\u001b[0m\n\u001b[0m",
      "\u001b[1;31mNameError\u001b[0m: name 'music' is not defined"
     ]
    }
   ],
   "source": [
    "# del keyword - deletes the whole list\n",
    "music = ['m1','m2','m3','m2','m1','m5']\n",
    "\n",
    "del music\n",
    "music"
   ]
  },
  {
   "cell_type": "code",
   "execution_count": 18,
   "id": "67011233",
   "metadata": {},
   "outputs": [
    {
     "data": {
      "text/plain": [
       "2"
      ]
     },
     "execution_count": 18,
     "metadata": {},
     "output_type": "execute_result"
    }
   ],
   "source": [
    "# .count( ) method - counts the number of same element present (Case Sensitive)\n",
    "\n",
    "fruits = ['mango','orange','guava','banana','strawberry','banana','mango']\n",
    "fruits.count(\"mango\")"
   ]
  },
  {
   "cell_type": "code",
   "execution_count": 19,
   "id": "96be6827",
   "metadata": {},
   "outputs": [
    {
     "data": {
      "text/plain": [
       "['banana', 'banana', 'guava', 'mango', 'mango', 'orange', 'strawberry']"
      ]
     },
     "execution_count": 19,
     "metadata": {},
     "output_type": "execute_result"
    }
   ],
   "source": [
    "# .sort( ) method - sorts numerical/alphabetical order\n",
    "# changes the original list\n",
    "\n",
    "fruits.sort()\n",
    "fruits"
   ]
  },
  {
   "cell_type": "code",
   "execution_count": 20,
   "id": "32fb80c8",
   "metadata": {},
   "outputs": [
    {
     "data": {
      "text/plain": [
       "[556, 511, 45, 15, 6, 4, 4, 3]"
      ]
     },
     "execution_count": 20,
     "metadata": {},
     "output_type": "execute_result"
    }
   ],
   "source": [
    "num = [15,3,45,4,6,4,511,556]\n",
    "\n",
    "num.sort(reverse = True)\n",
    "num"
   ]
  },
  {
   "cell_type": "code",
   "execution_count": 21,
   "id": "bb27926f",
   "metadata": {},
   "outputs": [
    {
     "data": {
      "text/plain": [
       "([3, 4, 4, 6, 15, 45, 511, 556], [15, 3, 45, 4, 6, 4, 511, 556])"
      ]
     },
     "execution_count": 21,
     "metadata": {},
     "output_type": "execute_result"
    }
   ],
   "source": [
    "# sorted( ) function - sorts, but doesnt changes original list, returns a copy\n",
    "\n",
    "num = [15,3,45,4,6,4,511,556]\n",
    "sorted(num),num"
   ]
  },
  {
   "cell_type": "code",
   "execution_count": 22,
   "id": "9ab86832",
   "metadata": {},
   "outputs": [
    {
     "data": {
      "text/plain": [
       "(2, 3)"
      ]
     },
     "execution_count": 22,
     "metadata": {},
     "output_type": "execute_result"
    }
   ],
   "source": [
    "# .index( ) method - returns the index of element\n",
    "\n",
    "num = [15,3,45,4,6,4,511,556]\n",
    "num.index(45), num.index(4) #returns the first encounter index of repeted element"
   ]
  },
  {
   "cell_type": "code",
   "execution_count": 23,
   "id": "e3400058",
   "metadata": {},
   "outputs": [
    {
     "data": {
      "text/plain": [
       "([15, 3, 45, 4, 6, 4, 511, 556], [15, 3, 45, 4, 6, 4, 511, 556])"
      ]
     },
     "execution_count": 23,
     "metadata": {},
     "output_type": "execute_result"
    }
   ],
   "source": [
    "# .copy( ) method - returns a copy of list\n",
    "\n",
    "num2 = num.copy()\n",
    "num,num2"
   ]
  },
  {
   "cell_type": "code",
   "execution_count": 24,
   "id": "cf3e3f7b",
   "metadata": {},
   "outputs": [
    {
     "data": {
      "text/plain": [
       "3"
      ]
     },
     "execution_count": 24,
     "metadata": {},
     "output_type": "execute_result"
    }
   ],
   "source": [
    "# min( ) function - returns min value\n",
    "num = [15,3,45,4,6,4,511,556]\n",
    "\n",
    "min(num)"
   ]
  },
  {
   "cell_type": "code",
   "execution_count": 25,
   "id": "619d44ad",
   "metadata": {},
   "outputs": [
    {
     "data": {
      "text/plain": [
       "556"
      ]
     },
     "execution_count": 25,
     "metadata": {},
     "output_type": "execute_result"
    }
   ],
   "source": [
    "# max( ) function - returns max value\n",
    "max(num)"
   ]
  },
  {
   "cell_type": "markdown",
   "id": "26b09d06",
   "metadata": {},
   "source": [
    "## .split( ) & .join( ) method"
   ]
  },
  {
   "cell_type": "code",
   "execution_count": 26,
   "id": "ac32dfd8",
   "metadata": {},
   "outputs": [
    {
     "data": {
      "text/plain": [
       "['Harshit_Vashista', '24', '10.00', 'A']"
      ]
     },
     "execution_count": 26,
     "metadata": {},
     "output_type": "execute_result"
    }
   ],
   "source": [
    "# .split( ) method - breaks a string at a specific char (blank space by defaut) and converts into a list\n",
    "\n",
    "info = \"Harshit_Vashista 24 10.00 A\".split()\n",
    "info"
   ]
  },
  {
   "cell_type": "code",
   "execution_count": 27,
   "id": "d39a5dac",
   "metadata": {},
   "outputs": [
    {
     "data": {
      "text/plain": [
       "('ruck', '24')"
      ]
     },
     "execution_count": 27,
     "metadata": {},
     "output_type": "execute_result"
    }
   ],
   "source": [
    "name,age = 'ruck,24'.split(',')\n",
    "name,age"
   ]
  },
  {
   "cell_type": "code",
   "execution_count": 28,
   "id": "e839035b",
   "metadata": {},
   "outputs": [
    {
     "data": {
      "text/plain": [
       "'Harshit_Vashista,24,10.00,A'"
      ]
     },
     "execution_count": 28,
     "metadata": {},
     "output_type": "execute_result"
    }
   ],
   "source": [
    "# .join( ) method joins the string by char specified\n",
    "\n",
    "info = ['Harshit_Vashista', '24', '10.00', 'A']\n",
    "\n",
    "string = \",\".join(info)\n",
    "string"
   ]
  },
  {
   "cell_type": "markdown",
   "id": "b3781ba5",
   "metadata": {},
   "source": [
    "## Lists are Mutable\n",
    "\n",
    "- unlike strings, lists are mutable"
   ]
  },
  {
   "cell_type": "code",
   "execution_count": 29,
   "id": "9483dcbd",
   "metadata": {},
   "outputs": [
    {
     "data": {
      "text/plain": [
       "[15, 3, 45, 8, 6, 4, 511, 556]"
      ]
     },
     "execution_count": 29,
     "metadata": {},
     "output_type": "execute_result"
    }
   ],
   "source": [
    "num = [15,3,45,4,6,4,511,556]\n",
    "num[3] = 8\n",
    "num"
   ]
  },
  {
   "cell_type": "code",
   "execution_count": 30,
   "id": "7344e0ba",
   "metadata": {},
   "outputs": [
    {
     "data": {
      "text/plain": [
       "[15, 'H', 'a', 'l', 'o']"
      ]
     },
     "execution_count": 30,
     "metadata": {},
     "output_type": "execute_result"
    }
   ],
   "source": [
    "num[1:] = \"Halo\"\n",
    "num"
   ]
  },
  {
   "cell_type": "code",
   "execution_count": 31,
   "id": "afddf0f2",
   "metadata": {},
   "outputs": [
    {
     "data": {
      "text/plain": [
       "[15, 'two', 'three', 'four']"
      ]
     },
     "execution_count": 31,
     "metadata": {},
     "output_type": "execute_result"
    }
   ],
   "source": [
    "num = [15,3,45,4,6,4,511,556]\n",
    "num[1:] = [\"two\",'three','four']\n",
    "num"
   ]
  },
  {
   "cell_type": "markdown",
   "id": "2f5f7e21",
   "metadata": {},
   "source": [
    "## is keyword"
   ]
  },
  {
   "cell_type": "code",
   "execution_count": 32,
   "id": "5e9779e1",
   "metadata": {},
   "outputs": [],
   "source": [
    "# is is used to compare if both variables are in same memory location or not\n",
    "# '==' operator only checks value\n",
    "\n",
    "l1 = [1,2,3]\n",
    "l2 = l1.copy()\n",
    "l3 = l1"
   ]
  },
  {
   "cell_type": "code",
   "execution_count": 33,
   "id": "2fe578ae",
   "metadata": {},
   "outputs": [
    {
     "name": "stdout",
     "output_type": "stream",
     "text": [
      "True\n",
      "False\n"
     ]
    }
   ],
   "source": [
    "# l2 is a copy resides in a different memory location\n",
    "\n",
    "print(l1 == l2)\n",
    "print(l1 is l2)"
   ]
  },
  {
   "cell_type": "code",
   "execution_count": 34,
   "id": "5fe3ed48",
   "metadata": {},
   "outputs": [
    {
     "name": "stdout",
     "output_type": "stream",
     "text": [
      "True\n",
      "True\n"
     ]
    }
   ],
   "source": [
    "# l3 is just another name for l1, l3 much likely is a pointer(not a pointer tho)\n",
    "\n",
    "print(l1 == l3)\n",
    "print(l1 is l3)"
   ]
  },
  {
   "cell_type": "markdown",
   "id": "ef893700",
   "metadata": {},
   "source": [
    "## Generating list with range function"
   ]
  },
  {
   "cell_type": "code",
   "execution_count": 35,
   "id": "25cd7446",
   "metadata": {},
   "outputs": [
    {
     "data": {
      "text/plain": [
       "[0, 1, 2, 3, 4, 5, 6, 7, 8, 9]"
      ]
     },
     "execution_count": 35,
     "metadata": {},
     "output_type": "execute_result"
    }
   ],
   "source": [
    "l = list(range(10))\n",
    "l"
   ]
  }
 ],
 "metadata": {
  "kernelspec": {
   "display_name": "Python 3",
   "language": "python",
   "name": "python3"
  },
  "language_info": {
   "codemirror_mode": {
    "name": "ipython",
    "version": 3
   },
   "file_extension": ".py",
   "mimetype": "text/x-python",
   "name": "python",
   "nbconvert_exporter": "python",
   "pygments_lexer": "ipython3",
   "version": "3.8.8"
  }
 },
 "nbformat": 4,
 "nbformat_minor": 5
}

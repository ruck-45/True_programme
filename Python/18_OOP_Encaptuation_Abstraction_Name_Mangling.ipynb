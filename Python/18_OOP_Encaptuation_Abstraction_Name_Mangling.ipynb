{
 "cells": [
  {
   "cell_type": "markdown",
   "id": "03309675",
   "metadata": {},
   "source": [
    "# Encaptulation\n",
    "- Encapsulation allows us to wrap the data and the related methods that work on data within one unit\n",
    "- This ensures to put restrictions on accessing variables and methods directly and can prevent the accidental modification of data\n",
    "- In simple words, binding variables and related methods to a single block for cleaner code"
   ]
  },
  {
   "cell_type": "markdown",
   "id": "619f1242",
   "metadata": {},
   "source": [
    "# Abstraction\n",
    "- Abstraction is the process to hide internal details and show only the relevant functionalities\n",
    "- It reduces complexity and increases efficiency\n",
    "- Data abstraction helps to partition the program into many independent concepts\n",
    "- In Simple words, making functions / methods / classes etc for bunch of code without writing them directly"
   ]
  },
  {
   "cell_type": "markdown",
   "id": "64a9955a",
   "metadata": {},
   "source": [
    "# Naming Conventions\n",
    "- Unlike any other language like c/c++ ,Python doesnt has any private and public part of a class\n",
    "- All parts here are public"
   ]
  },
  {
   "cell_type": "code",
   "execution_count": 1,
   "id": "89ec2499",
   "metadata": {},
   "outputs": [],
   "source": [
    "# So for maintaining a developer convension, we use a single underscore (_) before the identifier to state other developers\n",
    "# to treat that variable/function as private and not to modify them accidentally\n",
    "\n",
    "name = 'Harsh' # treat as public\n",
    "_name = 'Gumbo' # treat as private"
   ]
  },
  {
   "cell_type": "code",
   "execution_count": 2,
   "id": "76f96c3f",
   "metadata": {},
   "outputs": [],
   "source": [
    "# methods starting and ending with double underscores(__) are called dunder / magic methods\n",
    "\n",
    "# e.g : __name__ , __init__ etc.."
   ]
  },
  {
   "cell_type": "markdown",
   "id": "3f879e5e",
   "metadata": {},
   "source": [
    "# Name Mangling\n",
    "- any identifier name starting with two underscores (__) and ending with a maximum of one underscore (_) is subjected to name mangling by python"
   ]
  },
  {
   "cell_type": "code",
   "execution_count": 3,
   "id": "ab60ff0a",
   "metadata": {},
   "outputs": [],
   "source": [
    "# Python will mangle the name to _(class_name)_(var_name)\n",
    "# the identifier cannot be accessed through its original name any more\n",
    "# we need to write its mangled name to access it"
   ]
  },
  {
   "cell_type": "code",
   "execution_count": 4,
   "id": "34122dcf",
   "metadata": {},
   "outputs": [],
   "source": [
    "class Car:\n",
    "    \n",
    "    def __init__(self,company,color):\n",
    "        \n",
    "        self.company = company\n",
    "        self.__color = color\n",
    "        \n",
    "c1 = Car('Audi',800000)"
   ]
  },
  {
   "cell_type": "code",
   "execution_count": 6,
   "id": "f9b80665",
   "metadata": {},
   "outputs": [
    {
     "data": {
      "text/plain": [
       "'Audi'"
      ]
     },
     "execution_count": 6,
     "metadata": {},
     "output_type": "execute_result"
    }
   ],
   "source": [
    "c1.company"
   ]
  },
  {
   "cell_type": "code",
   "execution_count": 7,
   "id": "254360d5",
   "metadata": {},
   "outputs": [
    {
     "ename": "AttributeError",
     "evalue": "'Car' object has no attribute '__color'",
     "output_type": "error",
     "traceback": [
      "\u001b[1;31m---------------------------------------------------------------------------\u001b[0m",
      "\u001b[1;31mAttributeError\u001b[0m                            Traceback (most recent call last)",
      "\u001b[1;32m<ipython-input-7-65b3c391dab9>\u001b[0m in \u001b[0;36m<module>\u001b[1;34m\u001b[0m\n\u001b[1;32m----> 1\u001b[1;33m \u001b[0mc1\u001b[0m\u001b[1;33m.\u001b[0m\u001b[0m__color\u001b[0m\u001b[1;33m\u001b[0m\u001b[1;33m\u001b[0m\u001b[0m\n\u001b[0m",
      "\u001b[1;31mAttributeError\u001b[0m: 'Car' object has no attribute '__color'"
     ]
    }
   ],
   "source": [
    "c1.__color # throws an error due to name mangling"
   ]
  },
  {
   "cell_type": "code",
   "execution_count": 5,
   "id": "e225fa8f",
   "metadata": {},
   "outputs": [
    {
     "data": {
      "text/plain": [
       "{'company': 'Audi', '_Car__color': 800000}"
      ]
     },
     "execution_count": 5,
     "metadata": {},
     "output_type": "execute_result"
    }
   ],
   "source": [
    "c1.__dict__ #the mangled name is  _Car__color"
   ]
  }
 ],
 "metadata": {
  "kernelspec": {
   "display_name": "Python 3",
   "language": "python",
   "name": "python3"
  },
  "language_info": {
   "codemirror_mode": {
    "name": "ipython",
    "version": 3
   },
   "file_extension": ".py",
   "mimetype": "text/x-python",
   "name": "python",
   "nbconvert_exporter": "python",
   "pygments_lexer": "ipython3",
   "version": "3.8.8"
  }
 },
 "nbformat": 4,
 "nbformat_minor": 5
}

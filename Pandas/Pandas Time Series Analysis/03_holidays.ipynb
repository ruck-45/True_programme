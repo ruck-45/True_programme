{
 "cells": [
  {
   "cell_type": "code",
   "execution_count": 1,
   "id": "cc1bf5bb",
   "metadata": {},
   "outputs": [],
   "source": [
    "import pandas as pd\n",
    "import numpy as np"
   ]
  },
  {
   "cell_type": "markdown",
   "id": "92ddb34e",
   "metadata": {},
   "source": [
    "# Implementing Holidays in date_range\n",
    "- Holidays are different in different nations,so we need to apply different methods to implement them"
   ]
  },
  {
   "cell_type": "markdown",
   "id": "b817f583",
   "metadata": {},
   "source": [
    "### ' Nov-2022 ' date_range : business days , excluding US hoidays"
   ]
  },
  {
   "cell_type": "code",
   "execution_count": 11,
   "id": "8af01371",
   "metadata": {},
   "outputs": [
    {
     "data": {
      "text/plain": [
       "DatetimeIndex(['2022-11-01', '2022-11-02', '2022-11-03', '2022-11-04',\n",
       "               '2022-11-07', '2022-11-08', '2022-11-09', '2022-11-10',\n",
       "               '2022-11-11', '2022-11-14', '2022-11-15', '2022-11-16',\n",
       "               '2022-11-17', '2022-11-18', '2022-11-21', '2022-11-22',\n",
       "               '2022-11-23', '2022-11-24', '2022-11-25', '2022-11-28',\n",
       "               '2022-11-29', '2022-11-30'],\n",
       "              dtype='datetime64[ns]', freq='B')"
      ]
     },
     "execution_count": 11,
     "metadata": {},
     "output_type": "execute_result"
    }
   ],
   "source": [
    "# normal november-2022 Business day Date Series\n",
    "\n",
    "pd.date_range('2022-11-01','2022-11-30',freq = 'B')"
   ]
  },
  {
   "cell_type": "code",
   "execution_count": 9,
   "id": "fedb1c80",
   "metadata": {},
   "outputs": [],
   "source": [
    "# importing the US-Fedral-Holiday-Calender Class\n",
    "\n",
    "from pandas.tseries.holiday import USFederalHolidayCalendar\n",
    "\n",
    "# importing library to make Custom Calenders\n",
    "\n",
    "from pandas.tseries.offsets import CustomBusinessDay"
   ]
  },
  {
   "cell_type": "code",
   "execution_count": 12,
   "id": "a1287973",
   "metadata": {},
   "outputs": [],
   "source": [
    "# creating a custom frequency according to the us_calender\n",
    "\n",
    "us_cal = CustomBusinessDay(calendar = USFederalHolidayCalendar())"
   ]
  },
  {
   "cell_type": "code",
   "execution_count": 13,
   "id": "c87ac19c",
   "metadata": {},
   "outputs": [
    {
     "data": {
      "text/plain": [
       "DatetimeIndex(['2022-11-01', '2022-11-02', '2022-11-03', '2022-11-04',\n",
       "               '2022-11-07', '2022-11-08', '2022-11-09', '2022-11-10',\n",
       "               '2022-11-14', '2022-11-15', '2022-11-16', '2022-11-17',\n",
       "               '2022-11-18', '2022-11-21', '2022-11-22', '2022-11-23',\n",
       "               '2022-11-25', '2022-11-28', '2022-11-29', '2022-11-30'],\n",
       "              dtype='datetime64[ns]', freq='C')"
      ]
     },
     "execution_count": 13,
     "metadata": {},
     "output_type": "execute_result"
    }
   ],
   "source": [
    "# November 11 Veterans Day\n",
    "# November 24 Thanksgiving Day \n",
    "\n",
    "# these are us_holidays so they are absent in the date_range below\n",
    "\n",
    "pd.date_range('2022-11-01','2022-11-30',freq = us_cal)"
   ]
  },
  {
   "cell_type": "markdown",
   "id": "f7365b03",
   "metadata": {},
   "source": [
    "# Creating A custom calender using CustomBusinessDay"
   ]
  },
  {
   "cell_type": "code",
   "execution_count": 17,
   "id": "89c36ca4",
   "metadata": {},
   "outputs": [],
   "source": [
    "# importing the libraries\n",
    "\n",
    "from pandas.tseries.offsets import CustomBusinessDay\n",
    "from pandas.tseries.holiday import AbstractHolidayCalendar,Holiday"
   ]
  },
  {
   "cell_type": "code",
   "execution_count": 20,
   "id": "646c31c0",
   "metadata": {},
   "outputs": [],
   "source": [
    "# creating our custom calender class\n",
    "\n",
    "class April_Holiday(AbstractHolidayCalendar):\n",
    "    \n",
    "    rules = [\n",
    "        Holiday('holiday_01',month = 4,day = 7), # Thursday\n",
    "        Holiday('holiday_02',month = 4,day = 16), # Saturday\n",
    "        Holiday('holiday_03',month = 4,day = 17), # Sunday\n",
    "        Holiday('holiday_03',month = 4,day = 28) # Thursday\n",
    "    ]"
   ]
  },
  {
   "cell_type": "code",
   "execution_count": 23,
   "id": "da570743",
   "metadata": {},
   "outputs": [],
   "source": [
    "# custom frequency for our calender\n",
    "custom_calendar = CustomBusinessDay(calendar = April_Holiday())"
   ]
  },
  {
   "cell_type": "code",
   "execution_count": 29,
   "id": "0a82e5c4",
   "metadata": {},
   "outputs": [
    {
     "data": {
      "text/plain": [
       "DatetimeIndex(['2022-04-01', '2022-04-04', '2022-04-05', '2022-04-06',\n",
       "               '2022-04-08', '2022-04-11', '2022-04-12', '2022-04-13',\n",
       "               '2022-04-14', '2022-04-15', '2022-04-18', '2022-04-19',\n",
       "               '2022-04-20', '2022-04-21', '2022-04-22', '2022-04-25',\n",
       "               '2022-04-26', '2022-04-27', '2022-04-29'],\n",
       "              dtype='datetime64[ns]', freq='C')"
      ]
     },
     "execution_count": 29,
     "metadata": {},
     "output_type": "execute_result"
    }
   ],
   "source": [
    "# Business Date Range considering our custom Holiday calender\n",
    "# it doesnt contain any of the dates we have specified as holidays above\n",
    "\n",
    "pd.date_range('2022-04-01','2022-04-30',freq=custom_calendar)"
   ]
  },
  {
   "cell_type": "markdown",
   "id": "645de0d0",
   "metadata": {},
   "source": [
    "### Observing the holiday in a business day if it falls on non-business days (Sat/Sun)\n",
    "- In above custon clender, the holidays 16 (saturday) and 17 (sunday) of April was obscured because thet fell on non-business days\n",
    "- If we want to observe them in one of the business days , we need to provide \"observance\" attribute in holiday in rules section of our custom holiday calender"
   ]
  },
  {
   "cell_type": "markdown",
   "id": "0b28be7b",
   "metadata": {},
   "source": [
    "#### Types of Observance:\n",
    "- nearest_workday\n",
    "- next_monday\n",
    "- next_monday_or_tuesday\n",
    "- next_workday\n",
    "- sunday_to_monday\n",
    "- previous_friday\n",
    "- previous_workday"
   ]
  },
  {
   "cell_type": "code",
   "execution_count": 31,
   "id": "cef5b57b",
   "metadata": {},
   "outputs": [],
   "source": [
    "# importing observance libraries\n",
    "\n",
    "from pandas.tseries.holiday import previous_friday,next_monday"
   ]
  },
  {
   "cell_type": "code",
   "execution_count": 32,
   "id": "3a13f7f7",
   "metadata": {},
   "outputs": [],
   "source": [
    "class Updated_April_Holiday(AbstractHolidayCalendar):\n",
    "    rules = [\n",
    "        Holiday('holiday_01',month = 4,day = 7), # Thursday\n",
    "        Holiday('holiday_02',month = 4,day = 16,observance=previous_friday), # Saturday\n",
    "        Holiday('holiday_03',month = 4,day = 17,observance=next_monday), # Sunday\n",
    "        Holiday('holiday_03',month = 4,day = 28) # Thursday\n",
    "    ]"
   ]
  },
  {
   "cell_type": "code",
   "execution_count": 34,
   "id": "8fcf5cdc",
   "metadata": {},
   "outputs": [],
   "source": [
    "updated_custon_cal = CustomBusinessDay(calendar = Updated_April_Holiday())"
   ]
  },
  {
   "cell_type": "code",
   "execution_count": 36,
   "id": "fc48edc1",
   "metadata": {},
   "outputs": [
    {
     "data": {
      "text/plain": [
       "DatetimeIndex(['2022-04-01', '2022-04-04', '2022-04-05', '2022-04-06',\n",
       "               '2022-04-08', '2022-04-11', '2022-04-12', '2022-04-13',\n",
       "               '2022-04-14', '2022-04-19', '2022-04-20', '2022-04-21',\n",
       "               '2022-04-22', '2022-04-25', '2022-04-26', '2022-04-27',\n",
       "               '2022-04-29'],\n",
       "              dtype='datetime64[ns]', freq='C')"
      ]
     },
     "execution_count": 36,
     "metadata": {},
     "output_type": "execute_result"
    }
   ],
   "source": [
    "# 15th and 18th April were count as holidays because of our observance settings\n",
    "\n",
    "pd.date_range('2022-04-01','2022-04-30',freq=updated_custon_cal)"
   ]
  },
  {
   "cell_type": "markdown",
   "id": "38f1460e",
   "metadata": {},
   "source": [
    "# Defining Custom Business Days through weekmask attribute\n",
    "- In Egypt the business days are counted from Sunday-Thursday\n",
    "- Friday and Saturdays are Holidays there\n",
    "- We can customize the Business days in 'weekmask' attribute of CustomBusinessDays\n",
    "- Bu default 'weekmask' is set to : 'Mon Tue Wed Thu Fri'"
   ]
  },
  {
   "cell_type": "code",
   "execution_count": 37,
   "id": "e3ad0fc4",
   "metadata": {},
   "outputs": [],
   "source": [
    "custom_business_days_cal = CustomBusinessDay(weekmask = 'Sun Mon Tue Wed Thu')"
   ]
  },
  {
   "cell_type": "code",
   "execution_count": 38,
   "id": "ca92a70a",
   "metadata": {
    "scrolled": true
   },
   "outputs": [
    {
     "data": {
      "text/plain": [
       "DatetimeIndex(['2022-04-03', '2022-04-04', '2022-04-05', '2022-04-06',\n",
       "               '2022-04-07', '2022-04-10', '2022-04-11', '2022-04-12',\n",
       "               '2022-04-13', '2022-04-14', '2022-04-17', '2022-04-18',\n",
       "               '2022-04-19', '2022-04-20', '2022-04-21', '2022-04-24',\n",
       "               '2022-04-25', '2022-04-26', '2022-04-27', '2022-04-28'],\n",
       "              dtype='datetime64[ns]', freq='C')"
      ]
     },
     "execution_count": 38,
     "metadata": {},
     "output_type": "execute_result"
    }
   ],
   "source": [
    "pd.date_range('2022-04-01','2022-04-30',freq=custom_business_days_cal)"
   ]
  },
  {
   "cell_type": "markdown",
   "id": "b068ce7a",
   "metadata": {},
   "source": [
    "# Defining Holiday through holidays attribute"
   ]
  },
  {
   "cell_type": "code",
   "execution_count": 40,
   "id": "bc41a186",
   "metadata": {},
   "outputs": [],
   "source": [
    "holiday_cal = CustomBusinessDay(holidays = ['2022-04-14', '2022-04-15', '2022-04-18', '2022-04-19'])"
   ]
  },
  {
   "cell_type": "code",
   "execution_count": 41,
   "id": "e5d2def3",
   "metadata": {},
   "outputs": [
    {
     "data": {
      "text/plain": [
       "DatetimeIndex(['2022-04-01', '2022-04-04', '2022-04-05', '2022-04-06',\n",
       "               '2022-04-07', '2022-04-08', '2022-04-11', '2022-04-12',\n",
       "               '2022-04-13', '2022-04-20', '2022-04-21', '2022-04-22',\n",
       "               '2022-04-25', '2022-04-26', '2022-04-27', '2022-04-28',\n",
       "               '2022-04-29'],\n",
       "              dtype='datetime64[ns]', freq='C')"
      ]
     },
     "execution_count": 41,
     "metadata": {},
     "output_type": "execute_result"
    }
   ],
   "source": [
    "pd.date_range('2022-04-01','2022-04-30',freq=holiday_cal)"
   ]
  }
 ],
 "metadata": {
  "kernelspec": {
   "display_name": "Python 3",
   "language": "python",
   "name": "python3"
  },
  "language_info": {
   "codemirror_mode": {
    "name": "ipython",
    "version": 3
   },
   "file_extension": ".py",
   "mimetype": "text/x-python",
   "name": "python",
   "nbconvert_exporter": "python",
   "pygments_lexer": "ipython3",
   "version": "3.8.8"
  }
 },
 "nbformat": 4,
 "nbformat_minor": 5
}

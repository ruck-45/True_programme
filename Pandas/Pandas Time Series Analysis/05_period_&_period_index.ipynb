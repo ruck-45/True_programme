{
 "cells": [
  {
   "cell_type": "code",
   "execution_count": 1,
   "id": "2e6ab179",
   "metadata": {},
   "outputs": [],
   "source": [
    "import pandas as pd\n",
    "import numpy as np"
   ]
  },
  {
   "cell_type": "markdown",
   "id": "cdca9a27",
   "metadata": {},
   "source": [
    "# Period Vs Timestamp\n",
    "- A timestamp is an instance / snapshot of a time , eg. : '2022-02-01 05:30:00'\n",
    "- A period is a time period eg. : \n",
    "    - '2016' : yearly time period\n",
    "    - '2014-05' : monthly time period\n",
    "    - '2014-05-01' : daily time period"
   ]
  },
  {
   "cell_type": "markdown",
   "id": "8b131ebc",
   "metadata": {},
   "source": [
    "- we cannot perform arithmatic operations on time stamp as it is just a time instance\n",
    "- We can however perform arithmatic operation on a period"
   ]
  },
  {
   "cell_type": "markdown",
   "id": "7b6b0b21",
   "metadata": {},
   "source": [
    "# Creating period objects"
   ]
  },
  {
   "cell_type": "code",
   "execution_count": 2,
   "id": "292efd5f",
   "metadata": {},
   "outputs": [
    {
     "data": {
      "text/plain": [
       "Period('2016', 'A-DEC')"
      ]
     },
     "execution_count": 2,
     "metadata": {},
     "output_type": "execute_result"
    }
   ],
   "source": [
    "# yearly period\n",
    "y = pd.Period('2016')\n",
    "y"
   ]
  },
  {
   "cell_type": "code",
   "execution_count": 3,
   "id": "8a158da8",
   "metadata": {},
   "outputs": [
    {
     "data": {
      "text/plain": [
       "Period('2016-01-01 00:00', 'H')"
      ]
     },
     "execution_count": 3,
     "metadata": {},
     "output_type": "execute_result"
    }
   ],
   "source": [
    "# quaterly period\n",
    "q = pd.Period('2016', freq = 'H')\n",
    "q"
   ]
  },
  {
   "cell_type": "code",
   "execution_count": 4,
   "id": "5452bb98",
   "metadata": {},
   "outputs": [
    {
     "data": {
      "text/plain": [
       "Period('2016-01', 'M')"
      ]
     },
     "execution_count": 4,
     "metadata": {},
     "output_type": "execute_result"
    }
   ],
   "source": [
    "# monthly period\n",
    "m = pd.Period('2016-01')\n",
    "m"
   ]
  },
  {
   "cell_type": "code",
   "execution_count": 5,
   "id": "01dd3cc3",
   "metadata": {},
   "outputs": [
    {
     "data": {
      "text/plain": [
       "Period('2015-12-28/2016-01-03', 'W-SUN')"
      ]
     },
     "execution_count": 5,
     "metadata": {},
     "output_type": "execute_result"
    }
   ],
   "source": [
    "# weeakly period\n",
    "w = pd.Period('2016-01-01',freq = 'W')\n",
    "w"
   ]
  },
  {
   "cell_type": "code",
   "execution_count": 6,
   "id": "9c13f759",
   "metadata": {
    "scrolled": true
   },
   "outputs": [
    {
     "data": {
      "text/plain": [
       "Period('2016-01-01', 'D')"
      ]
     },
     "execution_count": 6,
     "metadata": {},
     "output_type": "execute_result"
    }
   ],
   "source": [
    "# daily period\n",
    "d = pd.Period('2016-01-01')\n",
    "d"
   ]
  },
  {
   "cell_type": "code",
   "execution_count": 7,
   "id": "b6e83cce",
   "metadata": {
    "scrolled": true
   },
   "outputs": [
    {
     "data": {
      "text/plain": [
       "Period('2016-01-01 00:00', 'H')"
      ]
     },
     "execution_count": 7,
     "metadata": {},
     "output_type": "execute_result"
    }
   ],
   "source": [
    "# hourly period\n",
    "h = pd.Period('2016-01-01',freq = 'H')\n",
    "h"
   ]
  },
  {
   "cell_type": "markdown",
   "id": "d4258d6a",
   "metadata": {},
   "source": [
    "### We can specify freq in following manners : \n",
    "- 'H' : Hour\n",
    "- 'D' : Day\n",
    "- 'W' : Week\n",
    "- 'M' : Month\n",
    "- 'Q' : Quater\n",
    "- 'Y' / 'A' : Year"
   ]
  },
  {
   "cell_type": "code",
   "execution_count": 37,
   "id": "7df3b52d",
   "metadata": {},
   "outputs": [
    {
     "data": {
      "text/plain": [
       "Period('2015-12-26/2016-01-01', 'W-FRI')"
      ]
     },
     "execution_count": 37,
     "metadata": {},
     "output_type": "execute_result"
    }
   ],
   "source": [
    "# We can specify the respective weekdays for 'W' only to control when the Period ends\n",
    "# We can specify the respective month for 'Q' & 'A' only to control when the Period ends\n",
    "\n",
    "# E.g : The business day in Egypt ends in Friday, so..\n",
    "\n",
    "Egypt_bd = pd.Period('2016-01-01',freq='W-FRI')\n",
    "Egypt_bd"
   ]
  },
  {
   "cell_type": "code",
   "execution_count": 38,
   "id": "69f70de0",
   "metadata": {},
   "outputs": [
    {
     "data": {
      "text/plain": [
       "Period('2016Q3', 'Q-APR')"
      ]
     },
     "execution_count": 38,
     "metadata": {},
     "output_type": "execute_result"
    }
   ],
   "source": [
    "Q = pd.Period('2016',freq='Q-APR')\n",
    "Q"
   ]
  },
  {
   "cell_type": "markdown",
   "id": "46d3bbd9",
   "metadata": {},
   "source": [
    "### Period Arithematic\n",
    "- Period is fully consious of the calender"
   ]
  },
  {
   "cell_type": "code",
   "execution_count": 8,
   "id": "15ba6267",
   "metadata": {
    "scrolled": true
   },
   "outputs": [
    {
     "name": "stdout",
     "output_type": "stream",
     "text": [
      "y : 2016\n",
      "y+2 : 2018\n",
      "y+2 : 2015\n"
     ]
    }
   ],
   "source": [
    "print(f'y : {y}')\n",
    "print(f'y+2 : {y+2}')\n",
    "print(f'y+2 : {y-1}')"
   ]
  },
  {
   "cell_type": "code",
   "execution_count": 9,
   "id": "8549ee07",
   "metadata": {},
   "outputs": [
    {
     "name": "stdout",
     "output_type": "stream",
     "text": [
      "m : 2016-01\n",
      "m+22 : 2017-11\n",
      "m-13 : 2014-12\n"
     ]
    }
   ],
   "source": [
    "print(f'm : {m}')\n",
    "print(f'm+22 : {m+22}')\n",
    "print(f'm-13 : {m-13}')"
   ]
  },
  {
   "cell_type": "code",
   "execution_count": 10,
   "id": "b46b02ff",
   "metadata": {},
   "outputs": [
    {
     "name": "stdout",
     "output_type": "stream",
     "text": [
      "d : 2016-01-01\n",
      "d+59 : 2016-02-29\n",
      "d-365 : 2015-01-01\n"
     ]
    }
   ],
   "source": [
    "print(f'd : {d}')\n",
    "print(f'd+59 : {d+59}')\n",
    "print(f'd-365 : {d-365}')"
   ]
  },
  {
   "cell_type": "markdown",
   "id": "d6709c0f",
   "metadata": {},
   "source": [
    "- Using pd.offsets to perform above operations"
   ]
  },
  {
   "cell_type": "code",
   "execution_count": 11,
   "id": "91606656",
   "metadata": {},
   "outputs": [
    {
     "data": {
      "text/plain": [
       "Period('2016-01-04', 'D')"
      ]
     },
     "execution_count": 11,
     "metadata": {},
     "output_type": "execute_result"
    }
   ],
   "source": [
    "# d+3\n",
    "d+pd.offsets.Day(3)"
   ]
  },
  {
   "cell_type": "code",
   "execution_count": 12,
   "id": "3df189c0",
   "metadata": {},
   "outputs": [
    {
     "data": {
      "text/plain": [
       "Period('2016-06', 'M')"
      ]
     },
     "execution_count": 12,
     "metadata": {},
     "output_type": "execute_result"
    }
   ],
   "source": [
    "# m+5\n",
    "m + pd.offsets.MonthEnd(5) "
   ]
  },
  {
   "cell_type": "code",
   "execution_count": 13,
   "id": "595ec3fd",
   "metadata": {},
   "outputs": [
    {
     "data": {
      "text/plain": [
       "Period('2016-01-01 10:00', 'H')"
      ]
     },
     "execution_count": 13,
     "metadata": {},
     "output_type": "execute_result"
    }
   ],
   "source": [
    "# h+10\n",
    "h + pd.offsets.Hour(10)"
   ]
  },
  {
   "cell_type": "code",
   "execution_count": 23,
   "id": "e42869be",
   "metadata": {},
   "outputs": [
    {
     "data": {
      "text/plain": [
       "<7 * MonthEnds>"
      ]
     },
     "execution_count": 23,
     "metadata": {},
     "output_type": "execute_result"
    }
   ],
   "source": [
    "# we can perform arithmatic operations with same period units\n",
    "\n",
    "M1 = pd.Period('2016-05',freq = 'M')\n",
    "M2 = pd.Period('2016-12',freq = 'M')\n",
    "\n",
    "M2-M1"
   ]
  },
  {
   "cell_type": "markdown",
   "id": "b90f76a0",
   "metadata": {},
   "source": [
    "### Period Methods/functions"
   ]
  },
  {
   "cell_type": "code",
   "execution_count": 15,
   "id": "979718ca",
   "metadata": {
    "scrolled": true
   },
   "outputs": [
    {
     "data": {
      "text/plain": [
       "['__add__',\n",
       " '__class__',\n",
       " '__delattr__',\n",
       " '__dict__',\n",
       " '__dir__',\n",
       " '__doc__',\n",
       " '__eq__',\n",
       " '__format__',\n",
       " '__ge__',\n",
       " '__getattribute__',\n",
       " '__gt__',\n",
       " '__hash__',\n",
       " '__init__',\n",
       " '__init_subclass__',\n",
       " '__le__',\n",
       " '__lt__',\n",
       " '__module__',\n",
       " '__ne__',\n",
       " '__new__',\n",
       " '__pyx_vtable__',\n",
       " '__radd__',\n",
       " '__reduce__',\n",
       " '__reduce_ex__',\n",
       " '__repr__',\n",
       " '__rsub__',\n",
       " '__setattr__',\n",
       " '__setstate__',\n",
       " '__sizeof__',\n",
       " '__str__',\n",
       " '__sub__',\n",
       " '__subclasshook__',\n",
       " '__weakref__',\n",
       " '_add_delta',\n",
       " '_add_offset',\n",
       " '_dtype',\n",
       " '_from_ordinal',\n",
       " '_get_to_timestamp_base',\n",
       " '_maybe_convert_freq',\n",
       " 'asfreq',\n",
       " 'day',\n",
       " 'day_of_week',\n",
       " 'day_of_year',\n",
       " 'dayofweek',\n",
       " 'dayofyear',\n",
       " 'days_in_month',\n",
       " 'daysinmonth',\n",
       " 'end_time',\n",
       " 'freq',\n",
       " 'freqstr',\n",
       " 'hour',\n",
       " 'is_leap_year',\n",
       " 'minute',\n",
       " 'month',\n",
       " 'now',\n",
       " 'ordinal',\n",
       " 'quarter',\n",
       " 'qyear',\n",
       " 'second',\n",
       " 'start_time',\n",
       " 'strftime',\n",
       " 'to_timestamp',\n",
       " 'week',\n",
       " 'weekday',\n",
       " 'weekofyear',\n",
       " 'year']"
      ]
     },
     "execution_count": 15,
     "metadata": {},
     "output_type": "execute_result"
    }
   ],
   "source": [
    "dir(d)"
   ]
  },
  {
   "cell_type": "code",
   "execution_count": 16,
   "id": "40d1eb04",
   "metadata": {},
   "outputs": [
    {
     "name": "stdout",
     "output_type": "stream",
     "text": [
      "d : 2016-01-01\n",
      "d.start_time : 2016-01-01 00:00:00\n",
      "d.end_time : 2016-01-01 23:59:59.999999999\n",
      "d.dayofweek : 4\n",
      "d.dayofyear : 1\n",
      "d.freq : <Day>\n",
      "d.is_leap_year : True\n",
      "d.month : 1\n",
      "d.qyear : 2016\n",
      "d.week : 53\n"
     ]
    }
   ],
   "source": [
    "print(f'd : {d}')\n",
    "print(f'd.start_time : {d.start_time}')\n",
    "print(f'd.end_time : {d.end_time}')\n",
    "print(f'd.dayofweek : {d.dayofweek}')\n",
    "print(f'd.dayofyear : {d.dayofyear}')\n",
    "print(f'd.freq : {d.freq}')\n",
    "print(f'd.is_leap_year : {d.is_leap_year}')\n",
    "print(f'd.month : {d.month}')\n",
    "print(f'd.qyear : {d.qyear}')\n",
    "print(f'd.week : {d.week}')"
   ]
  },
  {
   "cell_type": "markdown",
   "id": "1d369389",
   "metadata": {},
   "source": [
    "# Fiscal Year"
   ]
  },
  {
   "attachments": {
    "image.png": {
     "image/png": "[encoded data removed]"
    }
   },
   "cell_type": "markdown",
   "id": "19823b6d",
   "metadata": {},
   "source": [
    "![image.png](attachment:image.png)"
   ]
  },
  {
   "cell_type": "markdown",
   "id": "c9623a4d",
   "metadata": {},
   "source": [
    "- A fiscal year is a one-year period that companies and governments use for financial reporting and budgeting.\n",
    "- A fiscal year is most commonly used for accounting purposes to prepare financial statements.\n",
    "- Not all fiscal years correspond with the calendar year."
   ]
  },
  {
   "cell_type": "markdown",
   "id": "e7ec436f",
   "metadata": {},
   "source": [
    "- Here we are taking example of Walmart's fiscal year which spans from February and ends in january"
   ]
  },
  {
   "cell_type": "code",
   "execution_count": 17,
   "id": "c94899f2",
   "metadata": {},
   "outputs": [
    {
     "data": {
      "text/plain": [
       "Period('2017Q4', 'Q-JAN')"
      ]
     },
     "execution_count": 17,
     "metadata": {},
     "output_type": "execute_result"
    }
   ],
   "source": [
    "# Fiscal quaterly period for walmart\n",
    "\n",
    "fp = pd.Period('2017',freq='Q-Jan') # 'Q-Jan' specifies that the quaterly period ends with january\n",
    "fp"
   ]
  },
  {
   "cell_type": "code",
   "execution_count": 18,
   "id": "3509c641",
   "metadata": {},
   "outputs": [
    {
     "name": "stdout",
     "output_type": "stream",
     "text": [
      "fp.start_time : 2016-11-01 00:00:00\n",
      "fp.end_time : 2017-01-31 23:59:59.999999999\n"
     ]
    }
   ],
   "source": [
    "print(f'fp.start_time : {fp.start_time}')\n",
    "print(f'fp.end_time : {fp.end_time}')"
   ]
  },
  {
   "cell_type": "markdown",
   "id": "bd16ae77",
   "metadata": {},
   "source": [
    "# .asfreq( ) to change the frequency"
   ]
  },
  {
   "cell_type": "code",
   "execution_count": 19,
   "id": "c6618485",
   "metadata": {},
   "outputs": [
    {
     "name": "stdout",
     "output_type": "stream",
     "text": [
      "m : 2016-01\n",
      "m.asfreq(\"D\") : 2016-01-01\n"
     ]
    }
   ],
   "source": [
    "# Changing monthly period to daily starting from start of the month\n",
    "\n",
    "print(f'm : {m}')\n",
    "print(f'm.asfreq(\"D\") : {m.asfreq(\"D\",how = \"start\")}')"
   ]
  },
  {
   "cell_type": "code",
   "execution_count": 20,
   "id": "80009064",
   "metadata": {},
   "outputs": [
    {
     "name": "stdout",
     "output_type": "stream",
     "text": [
      "m : 2016-01\n",
      "m.asfreq(\"H\") : 2016-01-31 23:00\n"
     ]
    }
   ],
   "source": [
    "# Changing monthly period to hourly starting from end of the month\n",
    "\n",
    "print(f'm : {m}')\n",
    "print(f'm.asfreq(\"H\") : {m.asfreq(\"H\",how = \"end\")}')"
   ]
  },
  {
   "cell_type": "markdown",
   "id": "d0695070",
   "metadata": {},
   "source": [
    "# period_range ( )\n",
    "- used to create a range of periods\n",
    "- pd.period_range(start, end / periods, freq=None)"
   ]
  },
  {
   "cell_type": "code",
   "execution_count": 39,
   "id": "a3adafe0",
   "metadata": {},
   "outputs": [
    {
     "data": {
      "text/plain": [
       "PeriodIndex(['2016', '2017', '2018', '2019', '2020'], dtype='period[A-DEC]', freq='A-DEC')"
      ]
     },
     "execution_count": 39,
     "metadata": {},
     "output_type": "execute_result"
    }
   ],
   "source": [
    "pd.period_range('2016','2020',freq='A')"
   ]
  },
  {
   "cell_type": "code",
   "execution_count": 41,
   "id": "74047f0e",
   "metadata": {},
   "outputs": [
    {
     "data": {
      "text/plain": [
       "PeriodIndex(['2016-02', '2016-03', '2016-04', '2016-05', '2016-06', '2016-07',\n",
       "             '2016-08', '2016-09', '2016-10', '2016-11'],\n",
       "            dtype='period[M]', freq='M')"
      ]
     },
     "execution_count": 41,
     "metadata": {},
     "output_type": "execute_result"
    }
   ],
   "source": [
    "pd.period_range('2016-02',periods=10,freq='M')"
   ]
  },
  {
   "cell_type": "code",
   "execution_count": 46,
   "id": "cdbf2e83",
   "metadata": {},
   "outputs": [
    {
     "data": {
      "text/plain": [
       "PeriodIndex(['2016Q4', '2017Q1', '2017Q2', '2017Q3', '2017Q4', '2018Q1',\n",
       "             '2018Q2', '2018Q3', '2018Q4', '2019Q1'],\n",
       "            dtype='period[Q-JAN]', freq='Q-JAN')"
      ]
     },
     "execution_count": 46,
     "metadata": {},
     "output_type": "execute_result"
    }
   ],
   "source": [
    "pd.period_range('2016',periods=10,freq='Q-JAN')"
   ]
  },
  {
   "cell_type": "markdown",
   "id": "06429249",
   "metadata": {},
   "source": [
    "- If we set the period_range as index we can perform same search operations as date_time index"
   ]
  },
  {
   "cell_type": "markdown",
   "id": "810c853c",
   "metadata": {},
   "source": [
    "# .to_timestamp( ) \n",
    "- to convert a time period to timestamp"
   ]
  },
  {
   "cell_type": "code",
   "execution_count": 47,
   "id": "c4b23179",
   "metadata": {},
   "outputs": [
    {
     "data": {
      "text/plain": [
       "PeriodIndex(['2016Q4', '2017Q1', '2017Q2', '2017Q3', '2017Q4', '2018Q1',\n",
       "             '2018Q2', '2018Q3', '2018Q4', '2019Q1'],\n",
       "            dtype='period[Q-JAN]', freq='Q-JAN')"
      ]
     },
     "execution_count": 47,
     "metadata": {},
     "output_type": "execute_result"
    }
   ],
   "source": [
    "Q = pd.period_range('2016',periods=10,freq='Q-JAN')\n",
    "Q"
   ]
  },
  {
   "cell_type": "code",
   "execution_count": 55,
   "id": "ce61f1f9",
   "metadata": {},
   "outputs": [
    {
     "data": {
      "text/plain": [
       "DatetimeIndex(['2015-11-01', '2016-02-01', '2016-05-01', '2016-08-01',\n",
       "               '2016-11-01', '2017-02-01', '2017-05-01', '2017-08-01',\n",
       "               '2017-11-01', '2018-02-01'],\n",
       "              dtype='datetime64[ns]', freq='QS-NOV')"
      ]
     },
     "execution_count": 55,
     "metadata": {},
     "output_type": "execute_result"
    }
   ],
   "source": [
    "# converts only start dates of each periods\n",
    "timestamp_start = Q.to_timestamp(how='start')\n",
    "timestamp_start"
   ]
  },
  {
   "cell_type": "code",
   "execution_count": 54,
   "id": "2db587ca",
   "metadata": {},
   "outputs": [
    {
     "data": {
      "text/plain": [
       "DatetimeIndex(['2016-01-31 23:59:59.999999999',\n",
       "               '2016-04-30 23:59:59.999999999',\n",
       "               '2016-07-31 23:59:59.999999999',\n",
       "               '2016-10-31 23:59:59.999999999',\n",
       "               '2017-01-31 23:59:59.999999999',\n",
       "               '2017-04-30 23:59:59.999999999',\n",
       "               '2017-07-31 23:59:59.999999999',\n",
       "               '2017-10-31 23:59:59.999999999',\n",
       "               '2018-01-31 23:59:59.999999999',\n",
       "               '2018-04-30 23:59:59.999999999'],\n",
       "              dtype='datetime64[ns]', freq=None)"
      ]
     },
     "execution_count": 54,
     "metadata": {},
     "output_type": "execute_result"
    }
   ],
   "source": [
    "# converts the end dates of each period\n",
    "timestamp_end = Q.to_timestamp(how='end')\n",
    "timestamp_end"
   ]
  },
  {
   "cell_type": "markdown",
   "id": "6e81446f",
   "metadata": {},
   "source": [
    "# .to_period ( )\n",
    "- to covert timestamp to period"
   ]
  },
  {
   "cell_type": "code",
   "execution_count": 58,
   "id": "a2502452",
   "metadata": {},
   "outputs": [
    {
     "data": {
      "text/plain": [
       "PeriodIndex(['2015Q4', '2016Q1', '2016Q2', '2016Q3', '2016Q4', '2017Q1',\n",
       "             '2017Q2', '2017Q3', '2017Q4', '2018Q1'],\n",
       "            dtype='period[Q-DEC]', freq='Q-DEC')"
      ]
     },
     "execution_count": 58,
     "metadata": {},
     "output_type": "execute_result"
    }
   ],
   "source": [
    "timestamp_start.to_period()"
   ]
  },
  {
   "cell_type": "code",
   "execution_count": 63,
   "id": "8eff21c2",
   "metadata": {},
   "outputs": [
    {
     "data": {
      "text/plain": [
       "PeriodIndex(['2016-01', '2016-04', '2016-07', '2016-10', '2017-01', '2017-04',\n",
       "             '2017-07', '2017-10', '2018-01', '2018-04'],\n",
       "            dtype='period[M]', freq='M')"
      ]
     },
     "execution_count": 63,
     "metadata": {},
     "output_type": "execute_result"
    }
   ],
   "source": [
    "timestamp_end.to_period(freq = 'M')"
   ]
  },
  {
   "cell_type": "code",
   "execution_count": 66,
   "id": "1d2279b3",
   "metadata": {},
   "outputs": [
    {
     "data": {
      "text/plain": [
       "PeriodIndex(['2016-01-01', '2016-01-04', '2016-01-05', '2016-01-06',\n",
       "             '2016-01-07', '2016-01-08', '2016-01-11', '2016-01-12',\n",
       "             '2016-01-13', '2016-01-14', '2016-01-15', '2016-01-18',\n",
       "             '2016-01-19', '2016-01-20', '2016-01-21', '2016-01-22',\n",
       "             '2016-01-25', '2016-01-26', '2016-01-27', '2016-01-28',\n",
       "             '2016-01-29', '2016-02-01', '2016-02-02', '2016-02-03',\n",
       "             '2016-02-04', '2016-02-05', '2016-02-08', '2016-02-09',\n",
       "             '2016-02-10', '2016-02-11', '2016-02-12', '2016-02-15',\n",
       "             '2016-02-16', '2016-02-17', '2016-02-18', '2016-02-19',\n",
       "             '2016-02-22', '2016-02-23', '2016-02-24', '2016-02-25',\n",
       "             '2016-02-26', '2016-02-29'],\n",
       "            dtype='period[B]', freq='B')"
      ]
     },
     "execution_count": 66,
     "metadata": {},
     "output_type": "execute_result"
    }
   ],
   "source": [
    "bd_period = pd.date_range('2016-01-01','2016-02-29',freq='B').to_period()\n",
    "bd_period"
   ]
  },
  {
   "cell_type": "markdown",
   "id": "9cbc81a5",
   "metadata": {},
   "source": [
    "# pd.PeriodIndex( )\n",
    "- to convert a period from object to Period"
   ]
  },
  {
   "cell_type": "code",
   "execution_count": 71,
   "id": "5f460622",
   "metadata": {},
   "outputs": [
    {
     "data": {
      "text/html": [
       "<div>\n",
       "<style scoped>\n",
       "    .dataframe tbody tr th:only-of-type {\n",
       "        vertical-align: middle;\n",
       "    }\n",
       "\n",
       "    .dataframe tbody tr th {\n",
       "        vertical-align: top;\n",
       "    }\n",
       "\n",
       "    .dataframe thead th {\n",
       "        text-align: right;\n",
       "    }\n",
       "</style>\n",
       "<table border=\"1\" class=\"dataframe\">\n",
       "  <thead>\n",
       "    <tr style=\"text-align: right;\">\n",
       "      <th></th>\n",
       "      <th>Date</th>\n",
       "      <th>Open</th>\n",
       "      <th>High</th>\n",
       "      <th>Low</th>\n",
       "      <th>Close</th>\n",
       "      <th>Volume</th>\n",
       "    </tr>\n",
       "  </thead>\n",
       "  <tbody>\n",
       "    <tr>\n",
       "      <th>0</th>\n",
       "      <td>7-Jul-17</td>\n",
       "      <td>142.90</td>\n",
       "      <td>144.75</td>\n",
       "      <td>142.90</td>\n",
       "      <td>144.18</td>\n",
       "      <td>19201712</td>\n",
       "    </tr>\n",
       "    <tr>\n",
       "      <th>1</th>\n",
       "      <td>6-Jul-17</td>\n",
       "      <td>143.02</td>\n",
       "      <td>143.50</td>\n",
       "      <td>142.41</td>\n",
       "      <td>142.73</td>\n",
       "      <td>24128782</td>\n",
       "    </tr>\n",
       "    <tr>\n",
       "      <th>2</th>\n",
       "      <td>5-Jul-17</td>\n",
       "      <td>143.69</td>\n",
       "      <td>144.79</td>\n",
       "      <td>142.72</td>\n",
       "      <td>144.09</td>\n",
       "      <td>21569557</td>\n",
       "    </tr>\n",
       "    <tr>\n",
       "      <th>3</th>\n",
       "      <td>3-Jul-17</td>\n",
       "      <td>144.88</td>\n",
       "      <td>145.30</td>\n",
       "      <td>143.10</td>\n",
       "      <td>143.50</td>\n",
       "      <td>14277848</td>\n",
       "    </tr>\n",
       "    <tr>\n",
       "      <th>4</th>\n",
       "      <td>30-Jun-17</td>\n",
       "      <td>144.45</td>\n",
       "      <td>144.96</td>\n",
       "      <td>143.78</td>\n",
       "      <td>144.02</td>\n",
       "      <td>23024107</td>\n",
       "    </tr>\n",
       "  </tbody>\n",
       "</table>\n",
       "</div>"
      ],
      "text/plain": [
       "        Date    Open    High     Low   Close    Volume\n",
       "0   7-Jul-17  142.90  144.75  142.90  144.18  19201712\n",
       "1   6-Jul-17  143.02  143.50  142.41  142.73  24128782\n",
       "2   5-Jul-17  143.69  144.79  142.72  144.09  21569557\n",
       "3   3-Jul-17  144.88  145.30  143.10  143.50  14277848\n",
       "4  30-Jun-17  144.45  144.96  143.78  144.02  23024107"
      ]
     },
     "execution_count": 71,
     "metadata": {},
     "output_type": "execute_result"
    }
   ],
   "source": [
    "df = pd.read_csv('./Datasets/Csv/Apple_stock_prices.csv')\n",
    "df.head()"
   ]
  },
  {
   "cell_type": "code",
   "execution_count": 72,
   "id": "1900e429",
   "metadata": {},
   "outputs": [
    {
     "data": {
      "text/html": [
       "<div>\n",
       "<style scoped>\n",
       "    .dataframe tbody tr th:only-of-type {\n",
       "        vertical-align: middle;\n",
       "    }\n",
       "\n",
       "    .dataframe tbody tr th {\n",
       "        vertical-align: top;\n",
       "    }\n",
       "\n",
       "    .dataframe thead th {\n",
       "        text-align: right;\n",
       "    }\n",
       "</style>\n",
       "<table border=\"1\" class=\"dataframe\">\n",
       "  <thead>\n",
       "    <tr style=\"text-align: right;\">\n",
       "      <th></th>\n",
       "      <th>Open</th>\n",
       "      <th>High</th>\n",
       "      <th>Low</th>\n",
       "      <th>Close</th>\n",
       "      <th>Volume</th>\n",
       "    </tr>\n",
       "    <tr>\n",
       "      <th>Date</th>\n",
       "      <th></th>\n",
       "      <th></th>\n",
       "      <th></th>\n",
       "      <th></th>\n",
       "      <th></th>\n",
       "    </tr>\n",
       "  </thead>\n",
       "  <tbody>\n",
       "    <tr>\n",
       "      <th>7-Jul-17</th>\n",
       "      <td>142.90</td>\n",
       "      <td>144.75</td>\n",
       "      <td>142.90</td>\n",
       "      <td>144.18</td>\n",
       "      <td>19201712</td>\n",
       "    </tr>\n",
       "    <tr>\n",
       "      <th>6-Jul-17</th>\n",
       "      <td>143.02</td>\n",
       "      <td>143.50</td>\n",
       "      <td>142.41</td>\n",
       "      <td>142.73</td>\n",
       "      <td>24128782</td>\n",
       "    </tr>\n",
       "    <tr>\n",
       "      <th>5-Jul-17</th>\n",
       "      <td>143.69</td>\n",
       "      <td>144.79</td>\n",
       "      <td>142.72</td>\n",
       "      <td>144.09</td>\n",
       "      <td>21569557</td>\n",
       "    </tr>\n",
       "    <tr>\n",
       "      <th>3-Jul-17</th>\n",
       "      <td>144.88</td>\n",
       "      <td>145.30</td>\n",
       "      <td>143.10</td>\n",
       "      <td>143.50</td>\n",
       "      <td>14277848</td>\n",
       "    </tr>\n",
       "    <tr>\n",
       "      <th>30-Jun-17</th>\n",
       "      <td>144.45</td>\n",
       "      <td>144.96</td>\n",
       "      <td>143.78</td>\n",
       "      <td>144.02</td>\n",
       "      <td>23024107</td>\n",
       "    </tr>\n",
       "  </tbody>\n",
       "</table>\n",
       "</div>"
      ],
      "text/plain": [
       "             Open    High     Low   Close    Volume\n",
       "Date                                               \n",
       "7-Jul-17   142.90  144.75  142.90  144.18  19201712\n",
       "6-Jul-17   143.02  143.50  142.41  142.73  24128782\n",
       "5-Jul-17   143.69  144.79  142.72  144.09  21569557\n",
       "3-Jul-17   144.88  145.30  143.10  143.50  14277848\n",
       "30-Jun-17  144.45  144.96  143.78  144.02  23024107"
      ]
     },
     "execution_count": 72,
     "metadata": {},
     "output_type": "execute_result"
    }
   ],
   "source": [
    "df.set_index('Date',inplace = True)\n",
    "df.head()"
   ]
  },
  {
   "cell_type": "code",
   "execution_count": 74,
   "id": "a25c61c4",
   "metadata": {},
   "outputs": [
    {
     "data": {
      "text/plain": [
       "Index(['7-Jul-17', '6-Jul-17', '5-Jul-17', '3-Jul-17', '30-Jun-17',\n",
       "       '29-Jun-17', '28-Jun-17', '27-Jun-17', '26-Jun-17', '23-Jun-17',\n",
       "       ...\n",
       "       '22-Jul-16', '21-Jul-16', '20-Jul-16', '19-Jul-16', '18-Jul-16',\n",
       "       '15-Jul-16', '14-Jul-16', '13-Jul-16', '12-Jul-16', '11-Jul-16'],\n",
       "      dtype='object', name='Date', length=251)"
      ]
     },
     "execution_count": 74,
     "metadata": {},
     "output_type": "execute_result"
    }
   ],
   "source": [
    "# type is object\n",
    "df.index"
   ]
  },
  {
   "cell_type": "code",
   "execution_count": 79,
   "id": "0fa53391",
   "metadata": {},
   "outputs": [
    {
     "data": {
      "text/html": [
       "<div>\n",
       "<style scoped>\n",
       "    .dataframe tbody tr th:only-of-type {\n",
       "        vertical-align: middle;\n",
       "    }\n",
       "\n",
       "    .dataframe tbody tr th {\n",
       "        vertical-align: top;\n",
       "    }\n",
       "\n",
       "    .dataframe thead th {\n",
       "        text-align: right;\n",
       "    }\n",
       "</style>\n",
       "<table border=\"1\" class=\"dataframe\">\n",
       "  <thead>\n",
       "    <tr style=\"text-align: right;\">\n",
       "      <th></th>\n",
       "      <th>Open</th>\n",
       "      <th>High</th>\n",
       "      <th>Low</th>\n",
       "      <th>Close</th>\n",
       "      <th>Volume</th>\n",
       "    </tr>\n",
       "    <tr>\n",
       "      <th>Date</th>\n",
       "      <th></th>\n",
       "      <th></th>\n",
       "      <th></th>\n",
       "      <th></th>\n",
       "      <th></th>\n",
       "    </tr>\n",
       "  </thead>\n",
       "  <tbody>\n",
       "    <tr>\n",
       "      <th>2017-07-07</th>\n",
       "      <td>142.90</td>\n",
       "      <td>144.75</td>\n",
       "      <td>142.90</td>\n",
       "      <td>144.18</td>\n",
       "      <td>19201712</td>\n",
       "    </tr>\n",
       "    <tr>\n",
       "      <th>2017-07-06</th>\n",
       "      <td>143.02</td>\n",
       "      <td>143.50</td>\n",
       "      <td>142.41</td>\n",
       "      <td>142.73</td>\n",
       "      <td>24128782</td>\n",
       "    </tr>\n",
       "    <tr>\n",
       "      <th>2017-07-05</th>\n",
       "      <td>143.69</td>\n",
       "      <td>144.79</td>\n",
       "      <td>142.72</td>\n",
       "      <td>144.09</td>\n",
       "      <td>21569557</td>\n",
       "    </tr>\n",
       "    <tr>\n",
       "      <th>2017-07-03</th>\n",
       "      <td>144.88</td>\n",
       "      <td>145.30</td>\n",
       "      <td>143.10</td>\n",
       "      <td>143.50</td>\n",
       "      <td>14277848</td>\n",
       "    </tr>\n",
       "    <tr>\n",
       "      <th>2017-06-30</th>\n",
       "      <td>144.45</td>\n",
       "      <td>144.96</td>\n",
       "      <td>143.78</td>\n",
       "      <td>144.02</td>\n",
       "      <td>23024107</td>\n",
       "    </tr>\n",
       "  </tbody>\n",
       "</table>\n",
       "</div>"
      ],
      "text/plain": [
       "              Open    High     Low   Close    Volume\n",
       "Date                                                \n",
       "2017-07-07  142.90  144.75  142.90  144.18  19201712\n",
       "2017-07-06  143.02  143.50  142.41  142.73  24128782\n",
       "2017-07-05  143.69  144.79  142.72  144.09  21569557\n",
       "2017-07-03  144.88  145.30  143.10  143.50  14277848\n",
       "2017-06-30  144.45  144.96  143.78  144.02  23024107"
      ]
     },
     "execution_count": 79,
     "metadata": {},
     "output_type": "execute_result"
    }
   ],
   "source": [
    "df.index = pd.PeriodIndex(df.index, freq='B')\n",
    "df.head()"
   ]
  },
  {
   "cell_type": "code",
   "execution_count": 81,
   "id": "211a0a0e",
   "metadata": {},
   "outputs": [
    {
     "data": {
      "text/plain": [
       "PeriodIndex(['2017-07-07', '2017-07-06', '2017-07-05', '2017-07-03',\n",
       "             '2017-06-30', '2017-06-29', '2017-06-28', '2017-06-27',\n",
       "             '2017-06-26', '2017-06-23',\n",
       "             ...\n",
       "             '2016-07-22', '2016-07-21', '2016-07-20', '2016-07-19',\n",
       "             '2016-07-18', '2016-07-15', '2016-07-14', '2016-07-13',\n",
       "             '2016-07-12', '2016-07-11'],\n",
       "            dtype='period[B]', name='Date', length=251, freq='B')"
      ]
     },
     "execution_count": 81,
     "metadata": {},
     "output_type": "execute_result"
    }
   ],
   "source": [
    "# type is period[B], B stands for business days\n",
    "df.index"
   ]
  }
 ],
 "metadata": {
  "kernelspec": {
   "display_name": "Python 3",
   "language": "python",
   "name": "python3"
  },
  "language_info": {
   "codemirror_mode": {
    "name": "ipython",
    "version": 3
   },
   "file_extension": ".py",
   "mimetype": "text/x-python",
   "name": "python",
   "nbconvert_exporter": "python",
   "pygments_lexer": "ipython3",
   "version": "3.8.8"
  }
 },
 "nbformat": 4,
 "nbformat_minor": 5
}

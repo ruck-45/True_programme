{
 "cells": [
  {
   "cell_type": "markdown",
   "id": "91b5ae25",
   "metadata": {},
   "source": [
    "# Inheritance\n",
    " - It alllows us to use the methods and variables of one class without writing them all over again"
   ]
  },
  {
   "cell_type": "code",
   "execution_count": 5,
   "id": "f6b37da4",
   "metadata": {},
   "outputs": [
    {
     "name": "stdout",
     "output_type": "stream",
     "text": [
      "Nokia-150\n",
      "initiating call\n",
      "---------------\n",
      "Apple-Iphone 12\n",
      "initiating call\n",
      "initiating rear camera\n"
     ]
    }
   ],
   "source": [
    "# Suppose we have to define two classes : Phone and Smartphone \n",
    "# Here Class Smartphone has all the variables and methods of class Phone and has extra ones on top of it\n",
    "\n",
    "class Phone:\n",
    "    def __init__(self,brand,model,price):\n",
    "        self.brand = brand\n",
    "        self.model = model        \n",
    "        self.price = price\n",
    "        \n",
    "    def full_name(self):\n",
    "        return f'{self.brand}-{self.model}'\n",
    "    \n",
    "    def functionality_call(self):\n",
    "        return 'initiating call'\n",
    "        \n",
    "class Smartphone(Phone):\n",
    "    def __init__(self,brand,model,price,battery,rear_camera):\n",
    "        self.brand = brand\n",
    "        self.model = model        \n",
    "        self.price = price\n",
    "        self.battery = battery\n",
    "        self.rear_camera = rear_camera\n",
    "        \n",
    "    def full_name(self):\n",
    "        return f'{self.brand}-{self.model}'\n",
    "\n",
    "    def functionality_call(self):\n",
    "        return 'initiating call'\n",
    "\n",
    "    def functionality_rear_camera(self):\n",
    "        return 'initiating rear camera'\n",
    "        \n",
    "phone_01 = Phone('Nokia','150',2500)\n",
    "smartphone_01 = Smartphone('Apple','Iphone 12',60000,6,'12 MP')\n",
    "\n",
    "print(phone_01.full_name())\n",
    "print(phone_01.functionality_call())\n",
    "print('---------------')\n",
    "print(smartphone_01.full_name())\n",
    "print(smartphone_01.functionality_call())\n",
    "print(smartphone_01.functionality_rear_camera())"
   ]
  },
  {
   "cell_type": "code",
   "execution_count": 10,
   "id": "10028e1b",
   "metadata": {},
   "outputs": [
    {
     "name": "stdout",
     "output_type": "stream",
     "text": [
      "Nokia-150\n",
      "innitiating call\n",
      "---------------\n",
      "Apple-Iphone 12\n",
      "innitiating call\n",
      "initiating rear camera\n"
     ]
    }
   ],
   "source": [
    "# instead of writing the same methods and variables again and again, we can inherit them from Phone class\n",
    "# Here Phone will be Parent class and Smartphone will be child class\n",
    "\n",
    "class Phone: # Parent\n",
    "    def __init__(self,brand,model,price):\n",
    "        self.brand = brand\n",
    "        self.model = model        \n",
    "        self.price = price\n",
    "        \n",
    "    def full_name(self): \n",
    "        return f'{self.brand}-{self.model}'\n",
    "    \n",
    "    def functionality_call(self):\n",
    "        return 'innitiating call'\n",
    "        \n",
    "class Smartphone(Phone): # Child\n",
    "    def __init__(self,brand,model,price,battery,rear_camera):\n",
    "        \n",
    "#         Phone.__init__(self,brand,model,price) # unpopular method\n",
    "        super().__init__(brand,model,price) # preferred and popular method\n",
    "        \n",
    "        self.battery = battery\n",
    "        self.rear_camera = rear_camera\n",
    "        \n",
    "    def functionality_rear_camera(self):\n",
    "        return 'initiating rear camera'\n",
    "        \n",
    "        \n",
    "phone_01 = Phone('Nokia','150',2500)\n",
    "smartphone_01 = Smartphone('Apple','Iphone 12',60000,6,'12 MP')\n",
    "        \n",
    "print(phone_01.full_name())\n",
    "print(phone_01.functionality_call())\n",
    "print('---------------')\n",
    "print(smartphone_01.full_name())\n",
    "print(smartphone_01.functionality_call())\n",
    "print(smartphone_01.functionality_rear_camera())"
   ]
  },
  {
   "cell_type": "code",
   "execution_count": 12,
   "id": "0052cada",
   "metadata": {},
   "outputs": [
    {
     "name": "stdout",
     "output_type": "stream",
     "text": [
      "Nokia-150\n",
      "innitiating call\n",
      "---------------\n",
      "Apple-Iphone 12\n",
      "innitiating call\n",
      "initiating rear camera\n",
      "---------------\n",
      "Google-Pixel 6\n",
      "innitiating call\n",
      "initiating rear camera\n"
     ]
    }
   ],
   "source": [
    "# multiple classes can inherit from same class \n",
    "\n",
    "class Phone: # Parent\n",
    "    def __init__(self,brand,model,price):\n",
    "        self.brand = brand\n",
    "        self.model = model        \n",
    "        self.price = price\n",
    "        \n",
    "    def full_name(self): \n",
    "        return f'{self.brand}-{self.model}'\n",
    "    \n",
    "    def functionality_call(self):\n",
    "        return 'innitiating call'\n",
    "        \n",
    "class Smartphone(Phone): # Child 1\n",
    "    def __init__(self,brand,model,price,battery,rear_camera):\n",
    "        super().__init__(brand,model,price)\n",
    "        \n",
    "        self.battery = battery\n",
    "        self.rear_camera = rear_camera\n",
    "        \n",
    "    def functionality_rear_camera(self):\n",
    "        return 'initiating rear camera'\n",
    "        \n",
    "class Smartphone2(Phone): # Child 2\n",
    "    def __init__(self,brand,model,price,battery,rear_camera):\n",
    "        super().__init__(brand,model,price)\n",
    "        \n",
    "        self.battery = battery\n",
    "        self.rear_camera = rear_camera\n",
    "        \n",
    "    def functionality_rear_camera(self):\n",
    "        return 'initiating rear camera'\n",
    "        \n",
    "        \n",
    "phone_01 = Phone('Nokia','150',2500)\n",
    "smartphone_01 = Smartphone('Apple','Iphone 12',60000,20,'12 MP')\n",
    "smartphone_02 = Smartphone2('Google','Pixel 6',44000,24,'50 MP')\n",
    "        \n",
    "print(phone_01.full_name())\n",
    "print(phone_01.functionality_call())\n",
    "print('---------------')\n",
    "print(smartphone_01.full_name())\n",
    "print(smartphone_01.functionality_call())\n",
    "print(smartphone_01.functionality_rear_camera())\n",
    "print('---------------')\n",
    "print(smartphone_02.full_name())\n",
    "print(smartphone_02.functionality_call())\n",
    "print(smartphone_02.functionality_rear_camera())"
   ]
  },
  {
   "cell_type": "markdown",
   "id": "b992226b",
   "metadata": {},
   "source": [
    "# Multilevel Inheritance\n",
    "- It is a type of inheritance where a class inherits another class which is already a child of some other class\n"
   ]
  },
  {
   "cell_type": "code",
   "execution_count": 17,
   "id": "2015e0bb",
   "metadata": {},
   "outputs": [],
   "source": [
    "class Phone: # Parent\n",
    "    def __init__(self,brand,model,price):\n",
    "        self.brand = brand\n",
    "        self.model = model        \n",
    "        self.price = price\n",
    "        \n",
    "    def full_name(self): \n",
    "        return f'{self.brand}-{self.model}'\n",
    "    \n",
    "    def functionality_call(self):\n",
    "        return 'innitiating call'\n",
    "    \n",
    "    def description(self):\n",
    "        return f'{self.brand}----{self.model}-----{self.price}'\n",
    "        \n",
    "class Smartphone(Phone): # Child\n",
    "    def __init__(self,brand,model,price,battery,rear_camera):\n",
    "        super().__init__(brand,model,price)\n",
    "        self.battery = battery\n",
    "        self.rear_camera = rear_camera\n",
    "        \n",
    "    def functionality_rear_camera(self):\n",
    "        return 'initiating rear camera'\n",
    "        \n",
    "class PremiumPhone(Smartphone): # grand_child\n",
    "    def __init__(self,brand,model,price,battery,rear_camera,front_camera):\n",
    "        super().__init__(brand,model,price,battery,rear_camera)\n",
    "        self.front_camera = front_camera\n",
    "        \n",
    "    def functionality_front_camera(self):\n",
    "        return 'initiating front camera'\n",
    "    \n",
    "    def description(self):\n",
    "        return f'{self.brand}----{self.model}-----{self.price}---{self.battery}----{self.rear_camera}----{self.front_camera}'\n",
    "    \n",
    "    \n",
    "    \n",
    "phone = Phone('Nokia','150',2500)\n",
    "smartphone = Smartphone('Apple','Iphone 12',60000,20,'12 MP')\n",
    "premiumphone = PremiumPhone('Google','Pixel 6 Pro',72000,24,'50 MP','11.1 MP')"
   ]
  },
  {
   "cell_type": "code",
   "execution_count": 14,
   "id": "dbf179b3",
   "metadata": {},
   "outputs": [
    {
     "name": "stdout",
     "output_type": "stream",
     "text": [
      "Nokia-150\n",
      "innitiating call\n",
      "---------------\n",
      "Apple-Iphone 12\n",
      "innitiating call\n",
      "initiating rear camera\n",
      "---------------\n",
      "Google-Pixel 6 Pro\n",
      "innitiating call\n",
      "initiating rear camera\n",
      "initiating front camera\n"
     ]
    }
   ],
   "source": [
    "print(phone.full_name())\n",
    "print(phone.functionality_call())\n",
    "print('---------------')\n",
    "print(smartphone.full_name())\n",
    "print(smartphone.functionality_call())\n",
    "print(smartphone.functionality_rear_camera())\n",
    "print('---------------')\n",
    "print(premiumphone.full_name())\n",
    "print(premiumphone.functionality_call())\n",
    "print(premiumphone.functionality_rear_camera())\n",
    "print(premiumphone.functionality_front_camera())"
   ]
  },
  {
   "cell_type": "markdown",
   "id": "2d4da354",
   "metadata": {},
   "source": [
    "# Method Resolution Order (MRO)\n",
    "- It is the order in which python searches for a method once it is called for an instance of a class"
   ]
  },
  {
   "cell_type": "code",
   "execution_count": 33,
   "id": "465d55dc",
   "metadata": {
    "scrolled": false
   },
   "outputs": [
    {
     "name": "stdout",
     "output_type": "stream",
     "text": [
      "Help on class PremiumPhone in module __main__:\n",
      "\n",
      "class PremiumPhone(Smartphone)\n",
      " |  PremiumPhone(brand, model, price, battery, rear_camera, front_camera)\n",
      " |  \n",
      " |  Method resolution order:\n",
      " |      PremiumPhone\n",
      " |      Smartphone\n",
      " |      Phone\n",
      " |      builtins.object\n",
      " |  \n",
      " |  Methods defined here:\n",
      " |  \n",
      " |  __init__(self, brand, model, price, battery, rear_camera, front_camera)\n",
      " |      Initialize self.  See help(type(self)) for accurate signature.\n",
      " |  \n",
      " |  description(self)\n",
      " |  \n",
      " |  functionality_front_camera(self)\n",
      " |  \n",
      " |  ----------------------------------------------------------------------\n",
      " |  Methods inherited from Smartphone:\n",
      " |  \n",
      " |  functionality_rear_camera(self)\n",
      " |  \n",
      " |  ----------------------------------------------------------------------\n",
      " |  Methods inherited from Phone:\n",
      " |  \n",
      " |  full_name(self)\n",
      " |  \n",
      " |  functionality_call(self)\n",
      " |  \n",
      " |  ----------------------------------------------------------------------\n",
      " |  Data descriptors inherited from Phone:\n",
      " |  \n",
      " |  __dict__\n",
      " |      dictionary for instance variables (if defined)\n",
      " |  \n",
      " |  __weakref__\n",
      " |      list of weak references to the object (if defined)\n",
      "\n"
     ]
    }
   ],
   "source": [
    "# we can asee all details of a class through help command\n",
    "\n",
    "help(PremiumPhone)"
   ]
  },
  {
   "cell_type": "markdown",
   "id": "a41b9128",
   "metadata": {},
   "source": [
    "- Method resolution order of class PremiumPhone is found to be:\n",
    "    -  |      PremiumPhone\n",
    "    -  |      Smartphone\n",
    "    -  |      Phone\n",
    "    -  |      builtins.object\n",
    "\n",
    "- This means : if a method is called like : .functionality_call()\n",
    "- First Python will check the presence in PremiumPhone class\n",
    "- If not found it will then search in Smartphone class\n",
    "- If not found it will then search in Phone class, where it will eventually find the method and execute it\n",
    "\n",
    "- if it still is unable to find the method in the root parent class (Phone) it will seach for python's builtin methods , ifit belongs there or not"
   ]
  },
  {
   "cell_type": "markdown",
   "id": "03dca21e",
   "metadata": {},
   "source": [
    "# Function Overriding\n",
    "- it is the way of overwriting a function of parent class by redefining it in the child class\n",
    "- Due to MRO python will search the method from child class, where it will encounter it and will execute the method, leaving behind the original method in the parent class"
   ]
  },
  {
   "cell_type": "code",
   "execution_count": 18,
   "id": "650cc719",
   "metadata": {},
   "outputs": [
    {
     "name": "stdout",
     "output_type": "stream",
     "text": [
      "Nokia----150-----2500\n",
      "Apple----Iphone 12-----60000\n",
      "Google----Pixel 6 Pro-----72000---24----50 MP----11.1 MP\n"
     ]
    }
   ],
   "source": [
    "# in our classes defined above : Phone, Smartphone and PremiumPhones , classes Phone and PremiumPhones have a common\n",
    "# method named description\n",
    "\n",
    "# because of MRO, Function overriding will occure for PremiumPhones class\n",
    "# But for Smartphone class it will execute the OG description method from Phone class\n",
    "\n",
    "print(phone.description())\n",
    "print(smartphone.description())\n",
    "print(premiumphone.description()) # function overriding"
   ]
  },
  {
   "cell_type": "markdown",
   "id": "5cf7545d",
   "metadata": {},
   "source": [
    "# isinstance( )\n",
    "- checks if the first parameter is an instance of the class provided\n",
    "- any instance of  a child class is an instance of its parent class , but not vice versa"
   ]
  },
  {
   "cell_type": "code",
   "execution_count": 20,
   "id": "15b17cae",
   "metadata": {},
   "outputs": [
    {
     "name": "stdout",
     "output_type": "stream",
     "text": [
      "True\n",
      "True\n",
      "True\n"
     ]
    }
   ],
   "source": [
    "print(isinstance(premiumphone,PremiumPhone))\n",
    "print(isinstance(premiumphone,Smartphone))\n",
    "print(isinstance(premiumphone,Phone))"
   ]
  },
  {
   "cell_type": "code",
   "execution_count": 21,
   "id": "7516ed24",
   "metadata": {},
   "outputs": [
    {
     "name": "stdout",
     "output_type": "stream",
     "text": [
      "False\n",
      "True\n",
      "True\n"
     ]
    }
   ],
   "source": [
    "print(isinstance(smartphone,PremiumPhone))\n",
    "print(isinstance(smartphone,Smartphone))\n",
    "print(isinstance(smartphone,Phone))"
   ]
  },
  {
   "cell_type": "code",
   "execution_count": 22,
   "id": "645dcdd9",
   "metadata": {},
   "outputs": [
    {
     "name": "stdout",
     "output_type": "stream",
     "text": [
      "False\n",
      "False\n",
      "True\n"
     ]
    }
   ],
   "source": [
    "print(isinstance(phone,PremiumPhone))\n",
    "print(isinstance(phone,Smartphone))\n",
    "print(isinstance(phone,Phone))"
   ]
  },
  {
   "cell_type": "markdown",
   "id": "72397645",
   "metadata": {},
   "source": [
    "# issubclass( )\n",
    "- checks if the first parameter is subclass of the class provided\n",
    "- a child is a subclass of its parent and itself , but not vice versa"
   ]
  },
  {
   "cell_type": "code",
   "execution_count": 29,
   "id": "2916e310",
   "metadata": {},
   "outputs": [
    {
     "name": "stdout",
     "output_type": "stream",
     "text": [
      "True\n",
      "False\n",
      "True\n"
     ]
    }
   ],
   "source": [
    "print(issubclass(PremiumPhone,Phone))\n",
    "print(issubclass(Phone,PremiumPhone))\n",
    "print(issubclass(Phone,Phone))"
   ]
  },
  {
   "cell_type": "markdown",
   "id": "1f68488d",
   "metadata": {},
   "source": [
    "# Multiple Inheritance\n",
    "- it is a type of inheritance where a class has inherited from multiple classes\n",
    "- the order in which we specify the inheritance affects MRO\n",
    "- the order of MRO is child class , then the order of parent class from left to right specified"
   ]
  },
  {
   "cell_type": "markdown",
   "id": "4e31584c",
   "metadata": {},
   "source": [
    "- it is not generally used as it makes code messy and complex"
   ]
  },
  {
   "cell_type": "code",
   "execution_count": 31,
   "id": "c9ba272c",
   "metadata": {},
   "outputs": [
    {
     "data": {
      "text/plain": [
       "'Message from class A'"
      ]
     },
     "execution_count": 31,
     "metadata": {},
     "output_type": "execute_result"
    }
   ],
   "source": [
    "class A:\n",
    "    def dummy_fun(self):\n",
    "        return 'Message from class A'\n",
    "\n",
    "class B:\n",
    "    def dummy_fun(self):\n",
    "        return 'Message from class B'\n",
    "    \n",
    "class C(A,B): # order affects MRO\n",
    "    pass\n",
    "\n",
    "c_obj = C()\n",
    "c_obj.dummy_fun() # dummy_fun of class A is called as it come ssecond in order in MRO after C"
   ]
  },
  {
   "cell_type": "code",
   "execution_count": 32,
   "id": "5ecb2a2c",
   "metadata": {},
   "outputs": [
    {
     "name": "stdout",
     "output_type": "stream",
     "text": [
      "Help on class C in module __main__:\n",
      "\n",
      "class C(A, B)\n",
      " |  Method resolution order:\n",
      " |      C\n",
      " |      A\n",
      " |      B\n",
      " |      builtins.object\n",
      " |  \n",
      " |  Methods inherited from A:\n",
      " |  \n",
      " |  dummy_fun(self)\n",
      " |  \n",
      " |  ----------------------------------------------------------------------\n",
      " |  Data descriptors inherited from A:\n",
      " |  \n",
      " |  __dict__\n",
      " |      dictionary for instance variables (if defined)\n",
      " |  \n",
      " |  __weakref__\n",
      " |      list of weak references to the object (if defined)\n",
      "\n"
     ]
    }
   ],
   "source": [
    "help(C)"
   ]
  }
 ],
 "metadata": {
  "kernelspec": {
   "display_name": "Python 3",
   "language": "python",
   "name": "python3"
  },
  "language_info": {
   "codemirror_mode": {
    "name": "ipython",
    "version": 3
   },
   "file_extension": ".py",
   "mimetype": "text/x-python",
   "name": "python",
   "nbconvert_exporter": "python",
   "pygments_lexer": "ipython3",
   "version": "3.8.8"
  }
 },
 "nbformat": 4,
 "nbformat_minor": 5
}

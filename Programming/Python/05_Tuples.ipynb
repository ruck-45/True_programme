{
 "cells": [
  {
   "cell_type": "markdown",
   "id": "7cf250b3",
   "metadata": {},
   "source": [
    "# Chapter 5 (Tuples)\n",
    "\n",
    "- tuples are litrally immutable (unchangeable) lists\n",
    "- repetitions allowed"
   ]
  },
  {
   "cell_type": "markdown",
   "id": "47a830de",
   "metadata": {},
   "source": [
    "## Allowed operations :"
   ]
  },
  {
   "cell_type": "code",
   "execution_count": 4,
   "id": "f07eb6bc",
   "metadata": {},
   "outputs": [
    {
     "data": {
      "text/plain": [
       "(0, 1, 2, 3, 4, 5, 6, 7, 8, 9)"
      ]
     },
     "execution_count": 4,
     "metadata": {},
     "output_type": "execute_result"
    }
   ],
   "source": [
    "# .count( )\n",
    "# .index( )\n",
    "# len( )\n",
    "# min( )\n",
    "# max( )\n",
    "# sum( ) - adds all element\n",
    "\n",
    "# slicing\n",
    "# tuple using range function :\n",
    "\n",
    "T = tuple(range(10))\n",
    "T"
   ]
  },
  {
   "cell_type": "markdown",
   "id": "7c80825f",
   "metadata": {},
   "source": [
    "## Tuple with one element"
   ]
  },
  {
   "cell_type": "code",
   "execution_count": 5,
   "id": "ca0286bf",
   "metadata": {},
   "outputs": [
    {
     "data": {
      "text/plain": [
       "(int, tuple)"
      ]
     },
     "execution_count": 5,
     "metadata": {},
     "output_type": "execute_result"
    }
   ],
   "source": [
    "# while defining a tuple with one element its mandatory to have a comma next to it\n",
    "# otherwise its gonna treat the element as its datatype\n",
    "\n",
    "T1 = (5)\n",
    "T2 = (5,)\n",
    "\n",
    "type(T1),type(T2)"
   ]
  },
  {
   "cell_type": "markdown",
   "id": "5b4428c2",
   "metadata": {},
   "source": [
    "## Tuple Without Parenthesis"
   ]
  },
  {
   "cell_type": "code",
   "execution_count": 6,
   "id": "d902a83c",
   "metadata": {},
   "outputs": [
    {
     "data": {
      "text/plain": [
       "(tuple, tuple)"
      ]
     },
     "execution_count": 6,
     "metadata": {},
     "output_type": "execute_result"
    }
   ],
   "source": [
    "T1 = (1,2,3)\n",
    "T2 = 1,2,3\n",
    "\n",
    "type(T1),type(T2)"
   ]
  },
  {
   "cell_type": "code",
   "execution_count": 7,
   "id": "c46f79ea",
   "metadata": {},
   "outputs": [
    {
     "data": {
      "text/plain": [
       "(tuple, tuple)"
      ]
     },
     "execution_count": 7,
     "metadata": {},
     "output_type": "execute_result"
    }
   ],
   "source": [
    "T1 = ('hat','cat','lion')\n",
    "T2 = 'hat','cat','lion'\n",
    "\n",
    "type(T1),type(T2)"
   ]
  },
  {
   "cell_type": "markdown",
   "id": "d3a8db7c",
   "metadata": {},
   "source": [
    "## Lists inside tuples"
   ]
  },
  {
   "cell_type": "code",
   "execution_count": 10,
   "id": "402f728b",
   "metadata": {},
   "outputs": [
    {
     "data": {
      "text/plain": [
       "(1, 2.35, 4, True, ['Strawberry', 'guava', 'berry', 'banana'])"
      ]
     },
     "execution_count": 10,
     "metadata": {},
     "output_type": "execute_result"
    }
   ],
   "source": [
    "# we know tuples are immutable, but list inside tuple can be changed\n",
    "\n",
    "T= (1,2.35,4,True,[\"mango\",\"guava\",\"berry\"])\n",
    "\n",
    "# T[2] = 56  ----- Error\n",
    "\n",
    "T[4].append(\"banana\")\n",
    "T[4][0] = \"Strawberry\"\n",
    "\n",
    "T"
   ]
  },
  {
   "cell_type": "markdown",
   "id": "90c1461d",
   "metadata": {},
   "source": [
    "## Tuple Unpacking & function returning multiple values"
   ]
  },
  {
   "cell_type": "code",
   "execution_count": 13,
   "id": "9e042f59",
   "metadata": {},
   "outputs": [
    {
     "name": "stdout",
     "output_type": "stream",
     "text": [
      "1\n",
      "2\n",
      "3\n"
     ]
    }
   ],
   "source": [
    "num = (1,2,3)\n",
    "\n",
    "n1,n2,n3 = num\n",
    "print(n1)\n",
    "print(n2)\n",
    "print(n3)"
   ]
  },
  {
   "cell_type": "code",
   "execution_count": 14,
   "id": "dcf506ba",
   "metadata": {},
   "outputs": [
    {
     "data": {
      "text/plain": [
       "(11, 30, 1)"
      ]
     },
     "execution_count": 14,
     "metadata": {},
     "output_type": "execute_result"
    }
   ],
   "source": [
    "def fun(a,b):\n",
    "    add = a+b\n",
    "    mul = a*b\n",
    "    sub = a-b\n",
    "    \n",
    "    return add,mul,sub #returned in a tuple form\n",
    "\n",
    "fun(6,5)\n"
   ]
  },
  {
   "cell_type": "code",
   "execution_count": 15,
   "id": "f3d73031",
   "metadata": {},
   "outputs": [
    {
     "name": "stdout",
     "output_type": "stream",
     "text": [
      "11\n",
      "30\n",
      "1\n"
     ]
    }
   ],
   "source": [
    "a,b,c = fun(6,5)\n",
    "print(a)\n",
    "print(b)\n",
    "print(c)"
   ]
  }
 ],
 "metadata": {
  "kernelspec": {
   "display_name": "Python 3",
   "language": "python",
   "name": "python3"
  },
  "language_info": {
   "codemirror_mode": {
    "name": "ipython",
    "version": 3
   },
   "file_extension": ".py",
   "mimetype": "text/x-python",
   "name": "python",
   "nbconvert_exporter": "python",
   "pygments_lexer": "ipython3",
   "version": "3.8.8"
  }
 },
 "nbformat": 4,
 "nbformat_minor": 5
}

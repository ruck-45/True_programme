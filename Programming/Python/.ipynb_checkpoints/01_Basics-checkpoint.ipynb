{
 "cells": [
  {
   "cell_type": "markdown",
   "id": "f48b4208",
   "metadata": {},
   "source": [
    "# Chapter 1 (Basics)"
   ]
  },
  {
   "cell_type": "markdown",
   "id": "1d200c97",
   "metadata": {},
   "source": [
    "## Variables\n",
    "\n",
    "- Python is dynamic language, no need to declare variables. (no need to state their data type before hand).\n",
    "\n",
    "###### type(  ) function is used to access the datatype of an object/variable"
   ]
  },
  {
   "cell_type": "code",
   "execution_count": 6,
   "id": "d0339109",
   "metadata": {},
   "outputs": [
    {
     "data": {
      "text/plain": [
       "('Denver', str)"
      ]
     },
     "execution_count": 6,
     "metadata": {},
     "output_type": "execute_result"
    }
   ],
   "source": [
    "name = 'Denver'\n",
    "name,type(name)"
   ]
  },
  {
   "cell_type": "code",
   "execution_count": 7,
   "id": "e605e757",
   "metadata": {},
   "outputs": [
    {
     "data": {
      "text/plain": [
       "(24, int)"
      ]
     },
     "execution_count": 7,
     "metadata": {},
     "output_type": "execute_result"
    }
   ],
   "source": [
    "age = 24\n",
    "age,type(age)"
   ]
  },
  {
   "cell_type": "code",
   "execution_count": 9,
   "id": "a2a7e572",
   "metadata": {},
   "outputs": [
    {
     "data": {
      "text/plain": [
       "(3.24, float)"
      ]
     },
     "execution_count": 9,
     "metadata": {},
     "output_type": "execute_result"
    }
   ],
   "source": [
    "f_number = 3.24\n",
    "f_number,type(f_number)"
   ]
  },
  {
   "cell_type": "code",
   "execution_count": 13,
   "id": "da1057c9",
   "metadata": {},
   "outputs": [
    {
     "data": {
      "text/plain": [
       "(True, bool)"
      ]
     },
     "execution_count": 13,
     "metadata": {},
     "output_type": "execute_result"
    }
   ],
   "source": [
    "choice = True\n",
    "choice,type(choice)"
   ]
  },
  {
   "cell_type": "code",
   "execution_count": 14,
   "id": "3210698d",
   "metadata": {},
   "outputs": [
    {
     "data": {
      "text/plain": [
       "(None, NoneType)"
      ]
     },
     "execution_count": 14,
     "metadata": {},
     "output_type": "execute_result"
    }
   ],
   "source": [
    "choice = None\n",
    "choice,type(choice)"
   ]
  },
  {
   "cell_type": "code",
   "execution_count": 2,
   "id": "85bc0691",
   "metadata": {},
   "outputs": [
    {
     "data": {
      "text/plain": [
       "(8, 8, 8)"
      ]
     },
     "execution_count": 2,
     "metadata": {},
     "output_type": "execute_result"
    }
   ],
   "source": [
    "a = b = c = 8\n",
    "a,b,c"
   ]
  },
  {
   "cell_type": "code",
   "execution_count": 3,
   "id": "2d6fc316",
   "metadata": {},
   "outputs": [
    {
     "data": {
      "text/plain": [
       "('Denver', 24)"
      ]
     },
     "execution_count": 3,
     "metadata": {},
     "output_type": "execute_result"
    }
   ],
   "source": [
    "name,age = 'Denver', 24\n",
    "name,age"
   ]
  },
  {
   "cell_type": "markdown",
   "id": "5241fa78",
   "metadata": {},
   "source": [
    "## Comment\n",
    "\n",
    "- Used to bypass compiler.\n",
    "- Just for code explanation.\n",
    "- shortcut = ctrl + /.\n",
    "\n",
    "- starts with #"
   ]
  },
  {
   "cell_type": "code",
   "execution_count": 16,
   "id": "45fffbf7",
   "metadata": {},
   "outputs": [],
   "source": [
    "# this sentence is a comment"
   ]
  },
  {
   "cell_type": "markdown",
   "id": "223c4d5a",
   "metadata": {},
   "source": [
    "## Escape Sequence"
   ]
  },
  {
   "cell_type": "code",
   "execution_count": 17,
   "id": "c103ecff",
   "metadata": {},
   "outputs": [],
   "source": [
    "# \\' ----------- '\n",
    "# \\\" ----------- \"\n",
    "# \\\\ ----------- \\\n",
    "# \\n ----------- next line\n",
    "# \\t ----------- tab\n",
    "# \\b ----------- backspace"
   ]
  },
  {
   "cell_type": "markdown",
   "id": "b619dda3",
   "metadata": {},
   "source": [
    "## print( ) function"
   ]
  },
  {
   "cell_type": "code",
   "execution_count": 18,
   "id": "89a6a0cd",
   "metadata": {},
   "outputs": [
    {
     "name": "stdout",
     "output_type": "stream",
     "text": [
      "Hello World\n"
     ]
    }
   ],
   "source": [
    "print('Hello World')"
   ]
  },
  {
   "cell_type": "code",
   "execution_count": 19,
   "id": "72943ac4",
   "metadata": {},
   "outputs": [
    {
     "name": "stdout",
     "output_type": "stream",
     "text": [
      "80\n"
     ]
    }
   ],
   "source": [
    "print(24+56)"
   ]
  },
  {
   "cell_type": "code",
   "execution_count": 21,
   "id": "da545fb0",
   "metadata": {},
   "outputs": [
    {
     "name": "stdout",
     "output_type": "stream",
     "text": [
      "hi 'Mohan' sharma\n"
     ]
    }
   ],
   "source": [
    "# cant use '' inside '' (Error)\n",
    "# cant use \"\" inside \"\" (Error)\n",
    "\n",
    "# use one inside other\n",
    "\n",
    "\n",
    "# print('hi \"Mohan\" sharma')\n",
    "print(\"hi 'Mohan' sharma\")"
   ]
  },
  {
   "cell_type": "code",
   "execution_count": 24,
   "id": "1f2c1405",
   "metadata": {},
   "outputs": [
    {
     "ename": "SyntaxError",
     "evalue": "invalid syntax (<ipython-input-24-96c49630aeb5>, line 1)",
     "output_type": "error",
     "traceback": [
      "\u001b[1;36m  File \u001b[1;32m\"<ipython-input-24-96c49630aeb5>\"\u001b[1;36m, line \u001b[1;32m1\u001b[0m\n\u001b[1;33m    print('I'm ok') #error\u001b[0m\n\u001b[1;37m             ^\u001b[0m\n\u001b[1;31mSyntaxError\u001b[0m\u001b[1;31m:\u001b[0m invalid syntax\n"
     ]
    }
   ],
   "source": [
    "print('I'm ok') \n",
    "      #error"
   ]
  },
  {
   "cell_type": "code",
   "execution_count": 2,
   "id": "e45440c2",
   "metadata": {},
   "outputs": [
    {
     "name": "stdout",
     "output_type": "stream",
     "text": [
      "hello\n",
      "world\n"
     ]
    }
   ],
   "source": [
    "# print by default ends with \\n, so it goes to next line autometically\n",
    "# to change it we use end parameter\n",
    "\n",
    "print(\"hello\")\n",
    "print(\"world\")"
   ]
  },
  {
   "cell_type": "code",
   "execution_count": 3,
   "id": "adbada9c",
   "metadata": {},
   "outputs": [
    {
     "name": "stdout",
     "output_type": "stream",
     "text": [
      "hello,world\n"
     ]
    }
   ],
   "source": [
    "print('hello',end=',')\n",
    "print('world')"
   ]
  },
  {
   "cell_type": "code",
   "execution_count": 27,
   "id": "de68a791",
   "metadata": {},
   "outputs": [
    {
     "name": "stdout",
     "output_type": "stream",
     "text": [
      "I'm ok\n",
      "I'm ok\n"
     ]
    }
   ],
   "source": [
    "# fix-\n",
    "\n",
    "print(\"I'm ok\") #normal\n",
    "print('I\\'m ok') #using escape sequence"
   ]
  },
  {
   "cell_type": "markdown",
   "id": "9dbe44f0",
   "metadata": {},
   "source": [
    "### String formatting in print function"
   ]
  },
  {
   "cell_type": "code",
   "execution_count": 11,
   "id": "af71d644",
   "metadata": {},
   "outputs": [],
   "source": [
    "name = 'Corvo'\n",
    "age = 45"
   ]
  },
  {
   "cell_type": "code",
   "execution_count": 14,
   "id": "f33f972d",
   "metadata": {},
   "outputs": [
    {
     "name": "stdout",
     "output_type": "stream",
     "text": [
      "Your name is - Corvo & age is - 45\n"
     ]
    }
   ],
   "source": [
    "# type 1 :\n",
    "\n",
    "print(\"Your name is - \" + name +\" & age is - \"+ str(age))"
   ]
  },
  {
   "cell_type": "code",
   "execution_count": 16,
   "id": "3b5b641c",
   "metadata": {},
   "outputs": [
    {
     "name": "stdout",
     "output_type": "stream",
     "text": [
      "Your name is - Corvo & age is - 47\n"
     ]
    }
   ],
   "source": [
    "print(\"Your name is - {} & age is - {}\".format(name,age+2))"
   ]
  },
  {
   "cell_type": "code",
   "execution_count": 18,
   "id": "c5b56a0d",
   "metadata": {},
   "outputs": [
    {
     "name": "stdout",
     "output_type": "stream",
     "text": [
      "Your name is - Corvo & age is - 40\n"
     ]
    }
   ],
   "source": [
    "print(f\"Your name is - {name} & age is - {age-5}\")"
   ]
  },
  {
   "cell_type": "markdown",
   "id": "ea962ed4",
   "metadata": {},
   "source": [
    "## input( ) function\n",
    "\n",
    "- Takes all kinds of input from users and converts theminto string format\n",
    "- must cange into desired datatype by using int( ),float( ),bool( ) functions before computation"
   ]
  },
  {
   "cell_type": "code",
   "execution_count": 29,
   "id": "2db0a188",
   "metadata": {},
   "outputs": [
    {
     "name": "stdout",
     "output_type": "stream",
     "text": [
      "Enter age :24\n"
     ]
    },
    {
     "data": {
      "text/plain": [
       "str"
      ]
     },
     "execution_count": 29,
     "metadata": {},
     "output_type": "execute_result"
    }
   ],
   "source": [
    "age = input(\"Enter age :\")\n",
    "type(age)"
   ]
  },
  {
   "cell_type": "code",
   "execution_count": 30,
   "id": "587a3fe6",
   "metadata": {},
   "outputs": [
    {
     "name": "stdout",
     "output_type": "stream",
     "text": [
      "Enter age :24\n"
     ]
    },
    {
     "data": {
      "text/plain": [
       "int"
      ]
     },
     "execution_count": 30,
     "metadata": {},
     "output_type": "execute_result"
    }
   ],
   "source": [
    "age = int(input(\"Enter age :\"))\n",
    "type(age)"
   ]
  },
  {
   "cell_type": "code",
   "execution_count": 4,
   "id": "e9ca3672",
   "metadata": {},
   "outputs": [
    {
     "name": "stdout",
     "output_type": "stream",
     "text": [
      "Enter your favourite music :Atttention Starlight How_long\n"
     ]
    },
    {
     "data": {
      "text/plain": [
       "['Atttention', 'Starlight', 'How_long']"
      ]
     },
     "execution_count": 4,
     "metadata": {},
     "output_type": "execute_result"
    }
   ],
   "source": [
    "# multiple inputs in a single line\n",
    "\n",
    "# .split() returns a list making each space separated input as individual element.\n",
    "# By default it takes 'SPACE' separated input,the separation type can be changed by passing argument inside the function.\n",
    "\n",
    "music = input(\"Enter your favourite music :\").split()\n",
    "music"
   ]
  },
  {
   "cell_type": "code",
   "execution_count": 8,
   "id": "788a451f",
   "metadata": {},
   "outputs": [
    {
     "data": {
      "text/plain": [
       "list"
      ]
     },
     "execution_count": 8,
     "metadata": {},
     "output_type": "execute_result"
    }
   ],
   "source": [
    "type(music)"
   ]
  },
  {
   "cell_type": "code",
   "execution_count": 5,
   "id": "612c8964",
   "metadata": {},
   "outputs": [
    {
     "name": "stdout",
     "output_type": "stream",
     "text": [
      "Enter name and age comma separated :Dune,45\n"
     ]
    },
    {
     "data": {
      "text/plain": [
       "('Dune', '45')"
      ]
     },
     "execution_count": 5,
     "metadata": {},
     "output_type": "execute_result"
    }
   ],
   "source": [
    "name, age = input(\"Enter name and age comma separated :\").split(\",\") #its called list unwraping\n",
    "name,age"
   ]
  },
  {
   "cell_type": "markdown",
   "id": "8babbf94",
   "metadata": {},
   "source": [
    "## Arithmatic Operators"
   ]
  },
  {
   "cell_type": "code",
   "execution_count": 28,
   "id": "d132cd4b",
   "metadata": {},
   "outputs": [],
   "source": [
    "# + --------- add\n",
    "# - --------- subtract\n",
    "# * --------- multiply\n",
    "# / --------- divide (float division, gives a float number as output)\n",
    "\n",
    "# // -------- divide (int division, gives the integer part as output) [Quotient]\n",
    "# % --------- modulus [Reminder]\n",
    "\n",
    "# ** -------- Exponent (to the power)"
   ]
  },
  {
   "cell_type": "markdown",
   "id": "aa8da147",
   "metadata": {},
   "source": [
    "## Assignment Operators"
   ]
  },
  {
   "cell_type": "code",
   "execution_count": 19,
   "id": "c5d23e6f",
   "metadata": {},
   "outputs": [],
   "source": [
    "# = (Real assignment)\n",
    "\n",
    "# (Modified) :-\n",
    "\n",
    "# +=\n",
    "# -=\n",
    "# *=\n",
    "# /=\n",
    "# %="
   ]
  },
  {
   "cell_type": "markdown",
   "id": "9a9edd57",
   "metadata": {},
   "source": [
    "## Logical operator"
   ]
  },
  {
   "cell_type": "code",
   "execution_count": 1,
   "id": "1b842e4d",
   "metadata": {},
   "outputs": [],
   "source": [
    "# and\n",
    "# or\n",
    "# not"
   ]
  }
 ],
 "metadata": {
  "kernelspec": {
   "display_name": "Python 3",
   "language": "python",
   "name": "python3"
  },
  "language_info": {
   "codemirror_mode": {
    "name": "ipython",
    "version": 3
   },
   "file_extension": ".py",
   "mimetype": "text/x-python",
   "name": "python",
   "nbconvert_exporter": "python",
   "pygments_lexer": "ipython3",
   "version": "3.8.8"
  }
 },
 "nbformat": 4,
 "nbformat_minor": 5
}

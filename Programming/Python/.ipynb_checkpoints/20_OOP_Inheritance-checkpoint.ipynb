{
 "cells": [
  {
   "cell_type": "markdown",
   "id": "b56da9f6",
   "metadata": {},
   "source": [
    "# Inheritance"
   ]
  },
  {
   "cell_type": "code",
   "execution_count": null,
   "id": "70cd6773",
   "metadata": {},
   "outputs": [],
   "source": [
    "# Suppose we have do define two classes : Phone and Smartphone \n",
    "\n",
    "class Phone:\n",
    "    def __init__(self,brand,model,price):\n",
    "        self.brand = brand\n",
    "        self.model = model        \n",
    "        self.price = price\n",
    "        \n",
    "    def full_name(self):\n",
    "        return f'{self.brand}-{slef.model}'\n",
    "    \n",
    "    def functionality_call(self):\n",
    "        print('innitiating call')\n",
    "        \n",
    "class Smartphone(Phone):\n",
    "    def __init__(self,brand,model,price,battery,rear_camera):\n",
    "        self.brand = brand\n",
    "        self.model = model        \n",
    "        self.price = price\n",
    "        self.battery = battery\n",
    "        self.rear_camera = rear_camera\n",
    "        \n",
    "    def full_name(self):\n",
    "        return f'{self.brand}-{slef.model}'\n",
    "\n",
    "    def functionality_call(self):\n",
    "        print('initiating call')\n",
    "\n",
    "    def functionality_rear_camera(self):\n",
    "        print('initiating rear camera')\n",
    "        \n",
    "        \n"
   ]
  },
  {
   "cell_type": "code",
   "execution_count": null,
   "id": "562e4cf0",
   "metadata": {},
   "outputs": [],
   "source": [
    "class Phone:\n",
    "    def __init__(self,brand,model,price):\n",
    "        self.brand = brand\n",
    "        self.model = model        \n",
    "        self.price = price\n",
    "        \n",
    "    def full_name(self):\n",
    "        return f'{self.brand}-{slef.model}'\n",
    "    \n",
    "    def functionality_call(self):\n",
    "        print('innitiating call')\n",
    "        \n",
    "class Smartphone(Phone):\n",
    "    def __init__(self,brand,model,price,battery,rear_camera):\n",
    "        \n",
    "        Phone.__init__(self,brand,model,price) # unpopular method\n",
    "        \n",
    "        super().__init__(brand,model,price) # preferred and popular method\n",
    "        \n",
    "        self.battery = battery\n",
    "        self.rear_camera = rear_camera\n",
    "        \n",
    "    def functionality_rear_camera(self):\n",
    "        print('initiating rear camera')"
   ]
  }
 ],
 "metadata": {
  "kernelspec": {
   "display_name": "Python 3",
   "language": "python",
   "name": "python3"
  },
  "language_info": {
   "codemirror_mode": {
    "name": "ipython",
    "version": 3
   },
   "file_extension": ".py",
   "mimetype": "text/x-python",
   "name": "python",
   "nbconvert_exporter": "python",
   "pygments_lexer": "ipython3",
   "version": "3.8.8"
  }
 },
 "nbformat": 4,
 "nbformat_minor": 5
}

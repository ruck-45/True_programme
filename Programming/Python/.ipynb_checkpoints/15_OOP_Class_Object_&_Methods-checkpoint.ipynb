{
 "cells": [
  {
   "cell_type": "markdown",
   "id": "af9bdf34",
   "metadata": {},
   "source": [
    "# Chapter 15 (Object Oriented Programming)"
   ]
  },
  {
   "cell_type": "markdown",
   "id": "803df747",
   "metadata": {},
   "source": [
    "- OOP is just a stylized way of writing clean code\n",
    "- OOP doesnt enhance any functionality of a code\n",
    "- OOP is helpful for creating real world codes"
   ]
  },
  {
   "cell_type": "markdown",
   "id": "7f822e62",
   "metadata": {},
   "source": [
    "# Class , Object & Method"
   ]
  },
  {
   "cell_type": "markdown",
   "id": "ea3ff6f4",
   "metadata": {},
   "source": [
    "- Class : ( Blueprint )\n",
    "    - Class is a Prototype / Blueprint of a Kind we want to create\n",
    "    - Everything in Python is a class\n",
    "    - Just like there are classes defined for lists, tuples, set, dictionary, strings etc..\n",
    "    - Everytime we write someting between a pair of square braces, Python creates an object of List class and so on...\n",
    "    - Here we will learn how to make custom classes\n",
    "\n",
    "- Object : ( Instance )\n",
    "    - An Object is an instance of a class\n",
    "    - An Object contains all the properties of its class\n",
    "    - It can use all the methods defined for it in that class\n",
    "    - l = [1,2,3], here l is an object of list class\n",
    "\n",
    "- Method : ( Functions )\n",
    "    - Methods are all the operations / functions that are written in the class, that only the object of that class can access\n",
    "    - .pop( ), .insert( ), .extend( ), .remove( ) are some methods under list class"
   ]
  },
  {
   "cell_type": "markdown",
   "id": "c2bdd7d4",
   "metadata": {},
   "source": [
    "### Note : \n",
    "we can use dot operator ( . ) to access any variable / method defined in a class through its object"
   ]
  },
  {
   "cell_type": "markdown",
   "id": "fc1d24b5",
   "metadata": {},
   "source": [
    "# Class"
   ]
  },
  {
   "cell_type": "markdown",
   "id": "fae3b4f2",
   "metadata": {},
   "source": [
    "- class keyword is used to define a class\n",
    "- By convension the class name starts with a capital letter\n",
    "- \\_\\_init__ menthod is python equivalent of a constructor (Double Underscore)\n",
    "- constructor is called as soon as an object is created"
   ]
  },
  {
   "cell_type": "markdown",
   "id": "f25dd15b",
   "metadata": {},
   "source": [
    "### \\_\\_init__ method ( constructor )"
   ]
  },
  {
   "cell_type": "markdown",
   "id": "b08cfbaa",
   "metadata": {},
   "source": [
    "- Constructor is used to initializing objects of a class and allocate appropriate memory to objects\n",
    "- \\_\\_init__ method is the constructor equivalent in python\n",
    "- This method is defined in the class and can be used to initialize basic variables"
   ]
  },
  {
   "cell_type": "code",
   "execution_count": 3,
   "id": "03d221d6",
   "metadata": {},
   "outputs": [],
   "source": [
    "# example of a class\n",
    "\n",
    "class Person:\n",
    "    def __init__(self,f_name,m_name,l_name,age):\n",
    "        \n",
    "        # Instance Variables\n",
    "        self.first_name = f_name\n",
    "        self.middle_name = m_name        \n",
    "        self.last_name = l_name      \n",
    "        self.age = age"
   ]
  },
  {
   "cell_type": "code",
   "execution_count": 4,
   "id": "6b517c2e",
   "metadata": {},
   "outputs": [],
   "source": [
    "# p1 is here an object of class Person\n",
    "\n",
    "p1 = Person('John','H.','Levinson',26)"
   ]
  },
  {
   "cell_type": "code",
   "execution_count": 12,
   "id": "5e2d1d15",
   "metadata": {},
   "outputs": [
    {
     "data": {
      "text/plain": [
       "'John'"
      ]
     },
     "execution_count": 12,
     "metadata": {},
     "output_type": "execute_result"
    }
   ],
   "source": [
    "# p1 object accessing instance variable using dot operator (.)\n",
    "\n",
    "p1.first_name"
   ]
  },
  {
   "cell_type": "code",
   "execution_count": 11,
   "id": "ad77fb6b",
   "metadata": {},
   "outputs": [
    {
     "data": {
      "text/plain": [
       "'Levinson'"
      ]
     },
     "execution_count": 11,
     "metadata": {},
     "output_type": "execute_result"
    }
   ],
   "source": [
    "p1.last_name"
   ]
  },
  {
   "cell_type": "code",
   "execution_count": 10,
   "id": "9961be48",
   "metadata": {},
   "outputs": [
    {
     "data": {
      "text/plain": [
       "26"
      ]
     },
     "execution_count": 10,
     "metadata": {},
     "output_type": "execute_result"
    }
   ],
   "source": [
    "p1.age"
   ]
  },
  {
   "cell_type": "markdown",
   "id": "6220ab11",
   "metadata": {},
   "source": [
    "## Self"
   ]
  },
  {
   "cell_type": "markdown",
   "id": "5303a6a3",
   "metadata": {},
   "source": [
    "- Class methods must have an extra first parameter in the method definition, which is the object itslef\n",
    "- We do not give a value for this parameter when we call the method, instead Python provides for it\n",
    "- If we have a method that takes no arguments, then we still have to have one argument"
   ]
  },
  {
   "cell_type": "markdown",
   "id": "07ad754b",
   "metadata": {},
   "source": [
    "- if our method is : Obj_01.method(arg1, arg2)\n",
    "- When called it is automatically converted by Python to : Class_01.method(Obj_01, arg1, arg2)"
   ]
  },
  {
   "cell_type": "markdown",
   "id": "d3e8c9dc",
   "metadata": {},
   "source": [
    "- That is why when we define a method in a class, it has at least a parameter self"
   ]
  },
  {
   "cell_type": "markdown",
   "id": "820d3db9",
   "metadata": {},
   "source": [
    "# Methods"
   ]
  },
  {
   "cell_type": "markdown",
   "id": "071d3d0f",
   "metadata": {},
   "source": [
    "- Any function defined under a class is a method\n",
    "- The first argument of a method must be ' self '\n",
    "- since we are passing ' self ', no need to pass any variables / methods declared inside the class as it comes with it"
   ]
  },
  {
   "cell_type": "code",
   "execution_count": 19,
   "id": "a77a0406",
   "metadata": {},
   "outputs": [],
   "source": [
    "# Example of an Instance Method\n",
    "\n",
    "class Car:\n",
    "    \n",
    "    def __init__(self,date,company,model,price):\n",
    "        \n",
    "#         instance variables\n",
    "        self.company_name = company\n",
    "        self.model_name = model    \n",
    "        self.price = price\n",
    "        self.date = date\n",
    "\n",
    "#     Instance Methods\n",
    "    def get_id(self):\n",
    "        \n",
    "        pre = '_'.join(self.date.split('/'))\n",
    "        mid = '_'.join(self.model_name.split())\n",
    "        post = '_'.join(self.company_name.split())\n",
    "        \n",
    "        return  pre + '_' + mid + '_' + post"
   ]
  },
  {
   "cell_type": "code",
   "execution_count": 20,
   "id": "fd4ff4cb",
   "metadata": {},
   "outputs": [
    {
     "data": {
      "text/plain": [
       "'03_06_2022_Vantage_Aston_Martin'"
      ]
     },
     "execution_count": 20,
     "metadata": {},
     "output_type": "execute_result"
    }
   ],
   "source": [
    "C1 = Car('03/06/2022','Aston Martin','Vantage',35000000)\n",
    "\n",
    "C1.get_id()"
   ]
  },
  {
   "cell_type": "markdown",
   "id": "aaafd1e2",
   "metadata": {},
   "source": [
    "#### Demonstration of Python passing self as argument while calling a method"
   ]
  },
  {
   "cell_type": "code",
   "execution_count": 23,
   "id": "6439f5db",
   "metadata": {},
   "outputs": [
    {
     "data": {
      "text/plain": [
       "'03_06_2022_Vantage_Aston_Martin'"
      ]
     },
     "execution_count": 23,
     "metadata": {},
     "output_type": "execute_result"
    }
   ],
   "source": [
    "# Using our Car class\n",
    "\n",
    "# C1.get_id()\n",
    "Car.get_id(C1)"
   ]
  },
  {
   "cell_type": "code",
   "execution_count": 27,
   "id": "2da73c21",
   "metadata": {},
   "outputs": [
    {
     "data": {
      "text/plain": [
       "[1, 2, 3, 4, 8]"
      ]
     },
     "execution_count": 27,
     "metadata": {},
     "output_type": "execute_result"
    }
   ],
   "source": [
    "# Demontrating on a predefined class like ' list '\n",
    "\n",
    "arr = [1,2,3,4]\n",
    "\n",
    "# arr.append(8)\n",
    "list.append(arr,8)\n",
    "arr"
   ]
  }
 ],
 "metadata": {
  "kernelspec": {
   "display_name": "Python 3",
   "language": "python",
   "name": "python3"
  },
  "language_info": {
   "codemirror_mode": {
    "name": "ipython",
    "version": 3
   },
   "file_extension": ".py",
   "mimetype": "text/x-python",
   "name": "python",
   "nbconvert_exporter": "python",
   "pygments_lexer": "ipython3",
   "version": "3.8.8"
  }
 },
 "nbformat": 4,
 "nbformat_minor": 5
}

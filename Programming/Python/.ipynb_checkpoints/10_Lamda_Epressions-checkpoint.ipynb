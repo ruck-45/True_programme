{
 "cells": [
  {
   "cell_type": "markdown",
   "id": "e6361f91",
   "metadata": {},
   "source": [
    "# Python Chapter 10 (Lamda Epressions)\n",
    "\n",
    "- also known as anonymus functions\n",
    "- functions defined in a single line"
   ]
  },
  {
   "cell_type": "code",
   "execution_count": 3,
   "id": "ce507937",
   "metadata": {},
   "outputs": [],
   "source": [
    "# def addition(a,b):\n",
    "#     return a+b\n",
    "\n",
    "addition = lambda a,b:a+b"
   ]
  },
  {
   "cell_type": "code",
   "execution_count": 4,
   "id": "ab0cbc0d",
   "metadata": {},
   "outputs": [
    {
     "data": {
      "text/plain": [
       "11"
      ]
     },
     "execution_count": 4,
     "metadata": {},
     "output_type": "execute_result"
    }
   ],
   "source": [
    "addition(5,6)"
   ]
  },
  {
   "cell_type": "code",
   "execution_count": 5,
   "id": "05d000df",
   "metadata": {},
   "outputs": [
    {
     "data": {
      "text/plain": [
       "-10"
      ]
     },
     "execution_count": 5,
     "metadata": {},
     "output_type": "execute_result"
    }
   ],
   "source": [
    "mul = lambda a,b:a*b\n",
    "\n",
    "mul(5,-2)"
   ]
  },
  {
   "cell_type": "markdown",
   "id": "8aca465c",
   "metadata": {},
   "source": [
    "- Theory - \n",
    "\n",
    "the variables addition and mul in lamda expressions are not actual function names.\n",
    "lamda expresion has no name, the return value is given to identifier it has been assigned to."
   ]
  },
  {
   "cell_type": "code",
   "execution_count": 7,
   "id": "a67425e5",
   "metadata": {},
   "outputs": [
    {
     "data": {
      "text/plain": [
       "'odd'"
      ]
     },
     "execution_count": 7,
     "metadata": {},
     "output_type": "execute_result"
    }
   ],
   "source": [
    "even_odd = lambda n:'even' if n%2==0 else 'odd'\n",
    "\n",
    "even_odd(5)"
   ]
  },
  {
   "cell_type": "code",
   "execution_count": 8,
   "id": "60f73a54",
   "metadata": {},
   "outputs": [
    {
     "data": {
      "text/plain": [
       "'h'"
      ]
     },
     "execution_count": 8,
     "metadata": {},
     "output_type": "execute_result"
    }
   ],
   "source": [
    "last_char = lambda string:string[-1]\n",
    "\n",
    "last_char('Behemoth')"
   ]
  }
 ],
 "metadata": {
  "kernelspec": {
   "display_name": "Python 3",
   "language": "python",
   "name": "python3"
  },
  "language_info": {
   "codemirror_mode": {
    "name": "ipython",
    "version": 3
   },
   "file_extension": ".py",
   "mimetype": "text/x-python",
   "name": "python",
   "nbconvert_exporter": "python",
   "pygments_lexer": "ipython3",
   "version": "3.8.8"
  }
 },
 "nbformat": 4,
 "nbformat_minor": 5
}

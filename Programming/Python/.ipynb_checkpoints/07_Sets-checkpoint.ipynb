{
 "cells": [
  {
   "cell_type": "markdown",
   "id": "954a01b6",
   "metadata": {},
   "source": [
    "# Chapter 7 (Sets)\n",
    "\n",
    "- behave like mathematical sets , has (intersection, union etc... functions)\n",
    "- No duplicates alowed\n",
    "- Unordered pair (has no indexing, also elements are stored randomly)\n",
    "- We cant store Lists and Dictionary in Sets"
   ]
  },
  {
   "cell_type": "markdown",
   "id": "8dc47441",
   "metadata": {},
   "source": [
    "## set treates similar values same"
   ]
  },
  {
   "cell_type": "code",
   "execution_count": 29,
   "id": "937c6633",
   "metadata": {},
   "outputs": [
    {
     "data": {
      "text/plain": [
       "{1, 2, 3.45, 45, 78}"
      ]
     },
     "execution_count": 29,
     "metadata": {},
     "output_type": "execute_result"
    }
   ],
   "source": [
    "num = {1,2,3.45,1.0,2.0000,45,78} #1.0 & 2.0000 are treated duplicates here\n",
    "num"
   ]
  },
  {
   "cell_type": "markdown",
   "id": "701751e0",
   "metadata": {},
   "source": [
    "## Sets used to remove duplicates from lists"
   ]
  },
  {
   "cell_type": "code",
   "execution_count": 1,
   "id": "1eb244b7",
   "metadata": {},
   "outputs": [
    {
     "data": {
      "text/plain": [
       "{1, 2, 3, 4, 5, 6, 7, 8, 9, 15, 23, 45}"
      ]
     },
     "execution_count": 1,
     "metadata": {},
     "output_type": "execute_result"
    }
   ],
   "source": [
    "l = [1,2,2,2,3,4,5,6,6,6,7,8,1,4,5,9,15,23,1,45]\n",
    "\n",
    "s = set(l)\n",
    "s"
   ]
  },
  {
   "cell_type": "markdown",
   "id": "b3ab2b0a",
   "metadata": {},
   "source": [
    "## Set metods and functions"
   ]
  },
  {
   "cell_type": "code",
   "execution_count": 14,
   "id": "22b580a0",
   "metadata": {},
   "outputs": [],
   "source": [
    "odd = {1,3,5,7,9,11,13}"
   ]
  },
  {
   "cell_type": "code",
   "execution_count": 15,
   "id": "f2deeb78",
   "metadata": {},
   "outputs": [
    {
     "data": {
      "text/plain": [
       "{1, 3, 5, 7, 9, 11, 13, 15, 17}"
      ]
     },
     "execution_count": 15,
     "metadata": {},
     "output_type": "execute_result"
    }
   ],
   "source": [
    "# .add( ) method to insert element into set\n",
    "\n",
    "odd.add(15)\n",
    "odd.add(17)\n",
    "odd"
   ]
  },
  {
   "cell_type": "code",
   "execution_count": 16,
   "id": "89c32c3f",
   "metadata": {},
   "outputs": [
    {
     "data": {
      "text/plain": [
       "{1, 3, 7, 9, 11, 13, 15, 17}"
      ]
     },
     "execution_count": 16,
     "metadata": {},
     "output_type": "execute_result"
    }
   ],
   "source": [
    "# .remove( ) method - to delete element in set\n",
    "# - it will give error if element is not present in set\n",
    "\n",
    "odd.remove(5)\n",
    "odd"
   ]
  },
  {
   "cell_type": "code",
   "execution_count": 17,
   "id": "5499b4b0",
   "metadata": {},
   "outputs": [
    {
     "ename": "KeyError",
     "evalue": "2",
     "output_type": "error",
     "traceback": [
      "\u001b[1;31m---------------------------------------------------------------------------\u001b[0m",
      "\u001b[1;31mKeyError\u001b[0m                                  Traceback (most recent call last)",
      "\u001b[1;32m<ipython-input-17-013f9dc4cb42>\u001b[0m in \u001b[0;36m<module>\u001b[1;34m\u001b[0m\n\u001b[1;32m----> 1\u001b[1;33m \u001b[0modd\u001b[0m\u001b[1;33m.\u001b[0m\u001b[0mremove\u001b[0m\u001b[1;33m(\u001b[0m\u001b[1;36m2\u001b[0m\u001b[1;33m)\u001b[0m \u001b[1;31m#will give error\u001b[0m\u001b[1;33m\u001b[0m\u001b[1;33m\u001b[0m\u001b[0m\n\u001b[0m",
      "\u001b[1;31mKeyError\u001b[0m: 2"
     ]
    }
   ],
   "source": [
    "odd.remove(2) #will give error"
   ]
  },
  {
   "cell_type": "code",
   "execution_count": 18,
   "id": "d2633187",
   "metadata": {},
   "outputs": [
    {
     "data": {
      "text/plain": [
       "{1, 3, 7, 9, 11, 13, 15, 17}"
      ]
     },
     "execution_count": 18,
     "metadata": {},
     "output_type": "execute_result"
    }
   ],
   "source": [
    "# .discard( ) method - deletes element from set\n",
    "# - but it doesnt give error if the element is not present\n",
    "\n",
    "odd"
   ]
  },
  {
   "cell_type": "code",
   "execution_count": 19,
   "id": "8e7ab03f",
   "metadata": {},
   "outputs": [
    {
     "data": {
      "text/plain": [
       "{1, 3, 7, 9, 11, 13, 17}"
      ]
     },
     "execution_count": 19,
     "metadata": {},
     "output_type": "execute_result"
    }
   ],
   "source": [
    "odd.discard(15)\n",
    "odd"
   ]
  },
  {
   "cell_type": "code",
   "execution_count": 20,
   "id": "fe368ba6",
   "metadata": {},
   "outputs": [],
   "source": [
    "odd.discard(2) #doesnt give error"
   ]
  },
  {
   "cell_type": "code",
   "execution_count": 21,
   "id": "947fa6c4",
   "metadata": {},
   "outputs": [
    {
     "data": {
      "text/plain": [
       "{1, 3, 7, 9, 11, 13, 17}"
      ]
     },
     "execution_count": 21,
     "metadata": {},
     "output_type": "execute_result"
    }
   ],
   "source": [
    "# .copy( ) method - duplicates the set under new name\n",
    "\n",
    "odd2 = odd.copy()\n",
    "odd2"
   ]
  },
  {
   "cell_type": "code",
   "execution_count": 22,
   "id": "9bed2184",
   "metadata": {},
   "outputs": [
    {
     "data": {
      "text/plain": [
       "set()"
      ]
     },
     "execution_count": 22,
     "metadata": {},
     "output_type": "execute_result"
    }
   ],
   "source": [
    "# .clear( ) method - makes the set an empty set\n",
    "\n",
    "odd.clear()\n",
    "odd"
   ]
  },
  {
   "cell_type": "markdown",
   "id": "8dc76d58",
   "metadata": {},
   "source": [
    "## Union and Intersection in Sets"
   ]
  },
  {
   "cell_type": "code",
   "execution_count": 23,
   "id": "d9f7a381",
   "metadata": {},
   "outputs": [
    {
     "data": {
      "text/plain": [
       "{1, 2, 3, 4, 5, 6, 7, 8, 9, 10}"
      ]
     },
     "execution_count": 23,
     "metadata": {},
     "output_type": "execute_result"
    }
   ],
   "source": [
    "numbers = set(range(1,11))\n",
    "numbers"
   ]
  },
  {
   "cell_type": "code",
   "execution_count": 24,
   "id": "aea48328",
   "metadata": {},
   "outputs": [
    {
     "data": {
      "text/plain": [
       "({1, 3, 5, 7, 9}, {2, 4, 6, 8, 10})"
      ]
     },
     "execution_count": 24,
     "metadata": {},
     "output_type": "execute_result"
    }
   ],
   "source": [
    "odd = set(range(1,11,2))\n",
    "even = set(range(2,11,2))\n",
    "odd,even"
   ]
  },
  {
   "cell_type": "code",
   "execution_count": 25,
   "id": "00e3b848",
   "metadata": {},
   "outputs": [
    {
     "data": {
      "text/plain": [
       "{1, 2, 3, 4, 5, 6, 7, 8, 9, 10}"
      ]
     },
     "execution_count": 25,
     "metadata": {},
     "output_type": "execute_result"
    }
   ],
   "source": [
    "# union\n",
    "\n",
    "odd_even = odd | even\n",
    "odd_even"
   ]
  },
  {
   "cell_type": "code",
   "execution_count": 26,
   "id": "04918e24",
   "metadata": {},
   "outputs": [
    {
     "data": {
      "text/plain": [
       "set()"
      ]
     },
     "execution_count": 26,
     "metadata": {},
     "output_type": "execute_result"
    }
   ],
   "source": [
    "#intersection\n",
    "\n",
    "odd_even = odd & even\n",
    "odd_even"
   ]
  },
  {
   "cell_type": "code",
   "execution_count": 27,
   "id": "6f834611",
   "metadata": {},
   "outputs": [
    {
     "data": {
      "text/plain": [
       "{1, 3, 5, 7, 9}"
      ]
     },
     "execution_count": 27,
     "metadata": {},
     "output_type": "execute_result"
    }
   ],
   "source": [
    "S = odd & numbers\n",
    "S"
   ]
  }
 ],
 "metadata": {
  "kernelspec": {
   "display_name": "Python 3",
   "language": "python",
   "name": "python3"
  },
  "language_info": {
   "codemirror_mode": {
    "name": "ipython",
    "version": 3
   },
   "file_extension": ".py",
   "mimetype": "text/x-python",
   "name": "python",
   "nbconvert_exporter": "python",
   "pygments_lexer": "ipython3",
   "version": "3.8.8"
  }
 },
 "nbformat": 4,
 "nbformat_minor": 5
}

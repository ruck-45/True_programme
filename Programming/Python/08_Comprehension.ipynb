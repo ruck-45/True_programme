{
 "cells": [
  {
   "cell_type": "markdown",
   "id": "2bde841c",
   "metadata": {},
   "source": [
    "# Chapter 8 (Comprehension)\n",
    "\n",
    " - short way of declaring a datatype"
   ]
  },
  {
   "cell_type": "markdown",
   "id": "5e98f380",
   "metadata": {},
   "source": [
    "## List Comprehension"
   ]
  },
  {
   "cell_type": "code",
   "execution_count": 2,
   "id": "fce17052",
   "metadata": {},
   "outputs": [
    {
     "data": {
      "text/plain": [
       "[1, 4, 9, 16, 25, 36, 49, 64, 81, 100]"
      ]
     },
     "execution_count": 2,
     "metadata": {},
     "output_type": "execute_result"
    }
   ],
   "source": [
    "# list of squares from 1 to 10\n",
    "\n",
    "# Normal :-\n",
    "\n",
    "# sq = []\n",
    "# for i in range(1,11):\n",
    "#     sq.append(i**2)\n",
    "\n",
    "# list comprehension :-\n",
    "\n",
    "sq = [i**2 for i in range(1,11)]\n",
    "\n",
    "sq"
   ]
  },
  {
   "cell_type": "code",
   "execution_count": 4,
   "id": "8d7c150f",
   "metadata": {},
   "outputs": [
    {
     "data": {
      "text/plain": [
       "[-1, -2, -3, -4, -5, -6, -7, -8, -9, -10]"
      ]
     },
     "execution_count": 4,
     "metadata": {},
     "output_type": "execute_result"
    }
   ],
   "source": [
    "# list of negetives from 1 to 10\n",
    "\n",
    "negetive  = [-i for i in range(1,11)]\n",
    "\n",
    "negetive"
   ]
  },
  {
   "cell_type": "code",
   "execution_count": 5,
   "id": "bbbad95a",
   "metadata": {},
   "outputs": [
    {
     "data": {
      "text/plain": [
       "['B', 'C', 'V', 'S', 'E', 'A']"
      ]
     },
     "execution_count": 5,
     "metadata": {},
     "output_type": "execute_result"
    }
   ],
   "source": [
    "names = ['Blethmesh Pandora','Corvo','Vaas','Sam Fisher','Ezio','Altair']\n",
    "\n",
    "# list of first charecters of names\n",
    "\n",
    "f_charecters = [i[0] for i in names]\n",
    "f_charecters"
   ]
  },
  {
   "cell_type": "code",
   "execution_count": 9,
   "id": "c7461756",
   "metadata": {},
   "outputs": [
    {
     "data": {
      "text/plain": [
       "([1, 3, 5, 7, 9], [2, 4, 6, 8, 10])"
      ]
     },
     "execution_count": 9,
     "metadata": {},
     "output_type": "execute_result"
    }
   ],
   "source": [
    "# list of odd and even numbers from 1 to 10:\n",
    "\n",
    "# Normal :-\n",
    "\n",
    "# odd = []\n",
    "# even = []\n",
    "\n",
    "# for i in range(1,11):\n",
    "#     if i%2 == 0:\n",
    "#         even.append(i)\n",
    "#     else:\n",
    "#         odd.append(i)\n",
    "\n",
    "# List Comprehension :-\n",
    "\n",
    "even = [i for i in range(1,11) if i%2==0]\n",
    "odd = [i for i in range(1,11) if i%2!=0]\n",
    "\n",
    "odd,even"
   ]
  },
  {
   "cell_type": "code",
   "execution_count": 11,
   "id": "c1688e09",
   "metadata": {},
   "outputs": [
    {
     "data": {
      "text/plain": [
       "[-1, 4, -3, 8, -5, 12, -7, 16, -9, 20]"
      ]
     },
     "execution_count": 11,
     "metadata": {},
     "output_type": "execute_result"
    }
   ],
   "source": [
    "# from 1 - 10 if odd-> negate, else double value\n",
    "\n",
    "# Normal :-\n",
    "\n",
    "# nums = []\n",
    "\n",
    "# for i in range(1,11):\n",
    "#     if i%2==0:\n",
    "#         nums.append(i*2)\n",
    "#     else:\n",
    "#         nums.append(-i)\n",
    "\n",
    "# List Comprehension :-\n",
    "\n",
    "nums = [i*2 if i%2==0 else -i for i in range(1,11)]\n",
    "\n",
    "nums"
   ]
  },
  {
   "cell_type": "code",
   "execution_count": 13,
   "id": "14866991",
   "metadata": {},
   "outputs": [
    {
     "data": {
      "text/plain": [
       "[[1, 2, 3], [1, 2, 3], [1, 2, 3]]"
      ]
     },
     "execution_count": 13,
     "metadata": {},
     "output_type": "execute_result"
    }
   ],
   "source": [
    "# create the list L = [[1,2,3][1,2,3][1,2,3]]\n",
    "\n",
    "# L = [[1,2,3] for i in range(3)]\n",
    "L = [[i for i in range(1,4)] for i in range(3)]\n",
    "L"
   ]
  },
  {
   "cell_type": "markdown",
   "id": "158fc550",
   "metadata": {},
   "source": [
    "## Dictionary Comprehension"
   ]
  },
  {
   "cell_type": "code",
   "execution_count": 2,
   "id": "132f0e05",
   "metadata": {},
   "outputs": [
    {
     "data": {
      "text/plain": [
       "{1: 1, 2: 4, 3: 9, 4: 16, 5: 25, 6: 36, 7: 49, 8: 64, 9: 81, 10: 100}"
      ]
     },
     "execution_count": 2,
     "metadata": {},
     "output_type": "execute_result"
    }
   ],
   "source": [
    "# sq = {1:1,2:4,3:9,...,10:100}\n",
    "\n",
    "sq = {i:i**2 for i in range(1,11)}\n",
    "sq"
   ]
  },
  {
   "cell_type": "code",
   "execution_count": 4,
   "id": "c89dedd5",
   "metadata": {},
   "outputs": [
    {
     "data": {
      "text/plain": [
       "{'Square of 1 is': 1,\n",
       " 'Square of 2 is': 4,\n",
       " 'Square of 3 is': 9,\n",
       " 'Square of 4 is': 16,\n",
       " 'Square of 5 is': 25,\n",
       " 'Square of 6 is': 36,\n",
       " 'Square of 7 is': 49,\n",
       " 'Square of 8 is': 64,\n",
       " 'Square of 9 is': 81,\n",
       " 'Square of 10 is': 100}"
      ]
     },
     "execution_count": 4,
     "metadata": {},
     "output_type": "execute_result"
    }
   ],
   "source": [
    "# sq = {'square of 1 is':1,\n",
    "#         'square of 2 is':4,\n",
    "#         'square of 3 is':9,...,\n",
    "#         'square of 10 is':100}\n",
    "\n",
    "sq = {f'Square of {i} is':i**2 for i in range(1,11)}\n",
    "sq"
   ]
  },
  {
   "cell_type": "code",
   "execution_count": 6,
   "id": "0e146b89",
   "metadata": {},
   "outputs": [
    {
     "data": {
      "text/plain": [
       "{'h': 3, 'a': 3, 'r': 1, 's': 3, 'i': 2, 't': 2, ' ': 1, 'v': 1}"
      ]
     },
     "execution_count": 6,
     "metadata": {},
     "output_type": "execute_result"
    }
   ],
   "source": [
    "name = 'harshit vashista'\n",
    "\n",
    "count_char = {i:name.count(i) for i in name}\n",
    "count_char"
   ]
  },
  {
   "cell_type": "code",
   "execution_count": 7,
   "id": "056857cf",
   "metadata": {},
   "outputs": [
    {
     "data": {
      "text/plain": [
       "{1: 'odd',\n",
       " 2: 'even',\n",
       " 3: 'odd',\n",
       " 4: 'even',\n",
       " 5: 'odd',\n",
       " 6: 'even',\n",
       " 7: 'odd',\n",
       " 8: 'even',\n",
       " 9: 'odd',\n",
       " 10: 'even'}"
      ]
     },
     "execution_count": 7,
     "metadata": {},
     "output_type": "execute_result"
    }
   ],
   "source": [
    "# odd_even = {1:'odd',2:'even',3:'odd',4:'even',...,10:'even'}\n",
    "\n",
    "odd_even = {i:('even' if i%2==0 else 'odd') for i in range(1,11)}\n",
    "odd_even"
   ]
  },
  {
   "cell_type": "markdown",
   "id": "51af521b",
   "metadata": {},
   "source": [
    "## Sets Comprehension"
   ]
  },
  {
   "cell_type": "code",
   "execution_count": 10,
   "id": "7ec6b4de",
   "metadata": {},
   "outputs": [
    {
     "data": {
      "text/plain": [
       "{1, 2, 3, 4, 5, 6, 7, 8, 9, 10}"
      ]
     },
     "execution_count": 10,
     "metadata": {},
     "output_type": "execute_result"
    }
   ],
   "source": [
    "# S = {1,2,3,4,...,10}\n",
    "\n",
    "S = {i for i in range(1,11)}\n",
    "S"
   ]
  },
  {
   "cell_type": "code",
   "execution_count": 14,
   "id": "a6bb0638",
   "metadata": {},
   "outputs": [
    {
     "data": {
      "text/plain": [
       "{1, 4, 9, 16, 25, 36, 49, 64, 81, 100}"
      ]
     },
     "execution_count": 14,
     "metadata": {},
     "output_type": "execute_result"
    }
   ],
   "source": [
    "# sq = {1,4,9,16,....,100}\n",
    "\n",
    "sq = {i**2 for i in range(1,11)}\n",
    "sq"
   ]
  },
  {
   "cell_type": "code",
   "execution_count": 17,
   "id": "c123d756",
   "metadata": {},
   "outputs": [
    {
     "data": {
      "text/plain": [
       "{' ', 'a', 'h', 'i', 'r', 's', 't', 'v'}"
      ]
     },
     "execution_count": 17,
     "metadata": {},
     "output_type": "execute_result"
    }
   ],
   "source": [
    "name = 'harshit vashista'\n",
    "\n",
    "diff_char = {i for i in name}\n",
    "diff_char"
   ]
  }
 ],
 "metadata": {
  "kernelspec": {
   "display_name": "Python 3",
   "language": "python",
   "name": "python3"
  },
  "language_info": {
   "codemirror_mode": {
    "name": "ipython",
    "version": 3
   },
   "file_extension": ".py",
   "mimetype": "text/x-python",
   "name": "python",
   "nbconvert_exporter": "python",
   "pygments_lexer": "ipython3",
   "version": "3.8.8"
  }
 },
 "nbformat": 4,
 "nbformat_minor": 5
}

{
 "cells": [
  {
   "cell_type": "markdown",
   "id": "7b63d29c",
   "metadata": {},
   "source": [
    "# Property Decorator"
   ]
  },
  {
   "cell_type": "code",
   "execution_count": 1,
   "id": "28bddcaf",
   "metadata": {},
   "outputs": [
    {
     "name": "stdout",
     "output_type": "stream",
     "text": [
      "40\n",
      "you have purchased Coca Cola of price 40\n",
      "500\n",
      "you have purchased Coca Cola of price 40\n"
     ]
    }
   ],
   "source": [
    "class Beverage:\n",
    "    def __init__(self,name,price):\n",
    "        self.name = name\n",
    "        self._price = price\n",
    "        self.description = f'you have purchased {name} of price {price}'\n",
    "\n",
    "        \n",
    "# in above class the description is hardcoded, i.e, after we change _price, description is not going to change\n",
    "\n",
    "b1 = Beverage('Coca Cola',40)\n",
    "\n",
    "print(b1._price)\n",
    "print(b1.description)\n",
    "\n",
    "b1._price = 500 # changed price\n",
    "\n",
    "print(b1._price)\n",
    "print(b1.description) # description didnot change"
   ]
  },
  {
   "cell_type": "code",
   "execution_count": 2,
   "id": "4a6eed5f",
   "metadata": {},
   "outputs": [
    {
     "name": "stdout",
     "output_type": "stream",
     "text": [
      "40\n",
      "you have purchased Coca Cola of price 40\n",
      "500\n",
      "you have purchased Coca Cola of price 500\n"
     ]
    }
   ],
   "source": [
    "# we can make description dynamic by converting it to a method\n",
    "# but the downside is that it doesnt behave as a variale\n",
    "\n",
    "class Beverage:\n",
    "    def __init__(self,name,price):\n",
    "        self.name = name\n",
    "        self._price = price\n",
    "        \n",
    "    def description(self):\n",
    "        return f'you have purchased {self.name} of price {self._price}'\n",
    "    \n",
    "\n",
    "b1 = Beverage('Coca Cola',40)\n",
    "\n",
    "print(b1._price)\n",
    "print(b1.description())\n",
    "\n",
    "b1._price = 500 # changed price\n",
    "\n",
    "print(b1._price)\n",
    "print(b1.description()) # but now we have to call description as a method"
   ]
  },
  {
   "cell_type": "markdown",
   "id": "2050d80d",
   "metadata": {},
   "source": [
    "#### @property decorator makes method behave like variable"
   ]
  },
  {
   "cell_type": "code",
   "execution_count": 3,
   "id": "96290f48",
   "metadata": {},
   "outputs": [
    {
     "name": "stdout",
     "output_type": "stream",
     "text": [
      "40\n",
      "you have purchased Coca Cola of price 40\n",
      "500\n",
      "you have purchased Coca Cola of price 500\n"
     ]
    }
   ],
   "source": [
    "class Beverage:\n",
    "    def __init__(self,name,price):\n",
    "        self.name = name\n",
    "        self._price = price\n",
    "    \n",
    "    @property\n",
    "    def description(self):\n",
    "        return f'you have purchased {self.name} of price {self._price}'\n",
    "    \n",
    "\n",
    "b1 = Beverage('Coca Cola',40)\n",
    "\n",
    "print(b1._price)\n",
    "print(b1.description)\n",
    "\n",
    "b1._price = 500 # changed price\n",
    "\n",
    "print(b1._price)\n",
    "print(b1.description)"
   ]
  },
  {
   "cell_type": "markdown",
   "id": "5298adb3",
   "metadata": {},
   "source": [
    "# Setter Decorator\n",
    "- it is used to apply constraints on setting variable values afterwards"
   ]
  },
  {
   "cell_type": "code",
   "execution_count": 4,
   "id": "d11612df",
   "metadata": {},
   "outputs": [
    {
     "name": "stdout",
     "output_type": "stream",
     "text": [
      "0\n",
      "you have purchased Coca Cola of price 0\n",
      "-500\n",
      "you have purchased Coca Cola of price -500\n"
     ]
    }
   ],
   "source": [
    "# we are trying to make arrangement such that class doesnt accept negetive values for price\n",
    "# instead if the price is entered negetive, it will change it to 0\n",
    "\n",
    "class Beverage:\n",
    "    def __init__(self,name,price):\n",
    "        self.name = name\n",
    "        self._price = max(price,0) # to accept only positive value or 0\n",
    "    \n",
    "    @property\n",
    "    def description(self):\n",
    "        return f'you have purchased {self.name} of price {self._price}'\n",
    "    \n",
    "\n",
    "b1 = Beverage('Coca Cola',-40)\n",
    "\n",
    "print(b1._price)\n",
    "print(b1.description)\n",
    "\n",
    "b1._price = -500 # But it doesnt restrict us to not change it to a negetive number later\n",
    "\n",
    "print(b1._price)\n",
    "print(b1.description)"
   ]
  },
  {
   "cell_type": "code",
   "execution_count": null,
   "id": "a082c0c2",
   "metadata": {},
   "outputs": [],
   "source": [
    "# In such case we use setter\n",
    "# and for a setter we nned a dynamic variable through property decorator\n",
    "\n",
    "class Beverage:\n",
    "    def __init__(self,name,price):\n",
    "        self.name = name\n",
    "        self._price = max(price,0) # to accept only positive value or 0\n",
    "    \n",
    "    @property\n",
    "    def description(self):\n",
    "        return f'you have purchased {self.name} of price {self._price}'\n",
    "    \n",
    "    @property\n",
    "    def price(self):\n",
    "        return self._price\n",
    "    \n",
    "    @price.setter\n",
    "    def _price(self,new_price):\n",
    "        self._price = max(new_price,0)\n",
    "    \n",
    "\n",
    "b1 = Beverage('Coca Cola',-40)\n",
    "\n",
    "print(b1._price)\n",
    "print(b1.description)\n",
    "\n",
    "b1._price = -500\n",
    "\n",
    "print(b1._price)\n",
    "print(b1.description)"
   ]
  }
 ],
 "metadata": {
  "kernelspec": {
   "display_name": "Python 3",
   "language": "python",
   "name": "python3"
  },
  "language_info": {
   "codemirror_mode": {
    "name": "ipython",
    "version": 3
   },
   "file_extension": ".py",
   "mimetype": "text/x-python",
   "name": "python",
   "nbconvert_exporter": "python",
   "pygments_lexer": "ipython3",
   "version": "3.8.8"
  }
 },
 "nbformat": 4,
 "nbformat_minor": 5
}

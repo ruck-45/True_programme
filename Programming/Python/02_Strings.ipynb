{
 "cells": [
  {
   "cell_type": "markdown",
   "id": "9cd12660",
   "metadata": {},
   "source": [
    "# Chapter 2  (Strings)"
   ]
  },
  {
   "cell_type": "markdown",
   "id": "ca774c61",
   "metadata": {},
   "source": [
    "## String Indexing"
   ]
  },
  {
   "cell_type": "code",
   "execution_count": 29,
   "id": "cbda491e",
   "metadata": {},
   "outputs": [],
   "source": [
    "name = \"Blethmesh Pandora\"\n",
    "\n",
    "# here indexing order is - 0,1,2,3,.....,16\n",
    "# Or                     - -17,-16,-15,..,-1\n",
    "\n",
    "# -1 is ashortcut to access the last char of a str"
   ]
  },
  {
   "cell_type": "code",
   "execution_count": 5,
   "id": "5d569cc4",
   "metadata": {},
   "outputs": [
    {
     "data": {
      "text/plain": [
       "('B', 'B')"
      ]
     },
     "execution_count": 5,
     "metadata": {},
     "output_type": "execute_result"
    }
   ],
   "source": [
    "name[0],name[-17]"
   ]
  },
  {
   "cell_type": "code",
   "execution_count": 9,
   "id": "76acbc1b",
   "metadata": {},
   "outputs": [
    {
     "data": {
      "text/plain": [
       "('t', 't')"
      ]
     },
     "execution_count": 9,
     "metadata": {},
     "output_type": "execute_result"
    }
   ],
   "source": [
    "name[3],name[-14]"
   ]
  },
  {
   "cell_type": "code",
   "execution_count": 11,
   "id": "55d83ae0",
   "metadata": {},
   "outputs": [
    {
     "data": {
      "text/plain": [
       "('a', 'a')"
      ]
     },
     "execution_count": 11,
     "metadata": {},
     "output_type": "execute_result"
    }
   ],
   "source": [
    "name[16],name[-1]"
   ]
  },
  {
   "cell_type": "markdown",
   "id": "e434f247",
   "metadata": {},
   "source": [
    "## String Slicing"
   ]
  },
  {
   "cell_type": "code",
   "execution_count": 30,
   "id": "bc855a9e",
   "metadata": {},
   "outputs": [],
   "source": [
    "name = \"Blethmesh Pandora\""
   ]
  },
  {
   "cell_type": "code",
   "execution_count": 16,
   "id": "aad9b3c4",
   "metadata": {},
   "outputs": [
    {
     "data": {
      "text/plain": [
       "('Bleth', 'Bleth', 'Bleth')"
      ]
     },
     "execution_count": 16,
     "metadata": {},
     "output_type": "execute_result"
    }
   ],
   "source": [
    "name[0:5],name[:5],name[-17:5]\n",
    "\n",
    "# goes from 0----(5-1) :- 0,1,2,3,4\n",
    "#0 need no to be specified"
   ]
  },
  {
   "cell_type": "code",
   "execution_count": 19,
   "id": "b136266c",
   "metadata": {},
   "outputs": [
    {
     "data": {
      "text/plain": [
       "'Blethmesh Pandora'"
      ]
     },
     "execution_count": 19,
     "metadata": {},
     "output_type": "execute_result"
    }
   ],
   "source": [
    "name[:]"
   ]
  },
  {
   "cell_type": "code",
   "execution_count": 22,
   "id": "d69c18d8",
   "metadata": {},
   "outputs": [
    {
     "data": {
      "text/plain": [
       "'Blethmesh Pandor'"
      ]
     },
     "execution_count": 22,
     "metadata": {},
     "output_type": "execute_result"
    }
   ],
   "source": [
    "name[:-1]"
   ]
  },
  {
   "cell_type": "code",
   "execution_count": 27,
   "id": "e3b997de",
   "metadata": {},
   "outputs": [
    {
     "data": {
      "text/plain": [
       "('arodnaP hsemhtelB', 'arodnaP hsemhtelB')"
      ]
     },
     "execution_count": 27,
     "metadata": {},
     "output_type": "execute_result"
    }
   ],
   "source": [
    "name[-1::-1], name[::-1]\n",
    "\n",
    "# the third argument is step argument, specifies the amount of step you are talking to reach the destination index\n",
    "# negetive step means reverse dirextion"
   ]
  },
  {
   "cell_type": "code",
   "execution_count": 28,
   "id": "498d64e1",
   "metadata": {},
   "outputs": [
    {
     "data": {
      "text/plain": [
       "'ehehPno'"
      ]
     },
     "execution_count": 28,
     "metadata": {},
     "output_type": "execute_result"
    }
   ],
   "source": [
    "name[2:15:2]"
   ]
  },
  {
   "cell_type": "markdown",
   "id": "9a903647",
   "metadata": {},
   "source": [
    "## String Concatination"
   ]
  },
  {
   "cell_type": "code",
   "execution_count": 31,
   "id": "f885a25d",
   "metadata": {},
   "outputs": [],
   "source": [
    "F_name = 'Ruck'\n",
    "L_name = 'Dent'"
   ]
  },
  {
   "cell_type": "code",
   "execution_count": 33,
   "id": "048e2105",
   "metadata": {},
   "outputs": [
    {
     "data": {
      "text/plain": [
       "'RuckDent'"
      ]
     },
     "execution_count": 33,
     "metadata": {},
     "output_type": "execute_result"
    }
   ],
   "source": [
    "name = F_name + L_name\n",
    "name"
   ]
  },
  {
   "cell_type": "code",
   "execution_count": 34,
   "id": "31d5ca58",
   "metadata": {},
   "outputs": [
    {
     "data": {
      "text/plain": [
       "'Ruck Dent'"
      ]
     },
     "execution_count": 34,
     "metadata": {},
     "output_type": "execute_result"
    }
   ],
   "source": [
    "name = F_name +' '+ L_name\n",
    "name"
   ]
  },
  {
   "cell_type": "code",
   "execution_count": 36,
   "id": "ee7edb65",
   "metadata": {},
   "outputs": [
    {
     "data": {
      "text/plain": [
       "'RuckRuckRuck'"
      ]
     },
     "execution_count": 36,
     "metadata": {},
     "output_type": "execute_result"
    }
   ],
   "source": [
    "name = F_name*3\n",
    "name\n",
    "\n",
    "# Multiplying concatinate sthat many number times the string"
   ]
  },
  {
   "cell_type": "markdown",
   "id": "ac361ef9",
   "metadata": {},
   "source": [
    "## String Methods & functions"
   ]
  },
  {
   "cell_type": "code",
   "execution_count": 37,
   "id": "000cbd9f",
   "metadata": {},
   "outputs": [],
   "source": [
    "name = \"rucK Dent\""
   ]
  },
  {
   "cell_type": "code",
   "execution_count": 39,
   "id": "cf03e195",
   "metadata": {},
   "outputs": [
    {
     "data": {
      "text/plain": [
       "9"
      ]
     },
     "execution_count": 39,
     "metadata": {},
     "output_type": "execute_result"
    }
   ],
   "source": [
    "# len( ) function - returns length of string\n",
    "\n",
    "len(name)"
   ]
  },
  {
   "cell_type": "code",
   "execution_count": 41,
   "id": "bd12c97c",
   "metadata": {},
   "outputs": [
    {
     "data": {
      "text/plain": [
       "'ruck dent'"
      ]
     },
     "execution_count": 41,
     "metadata": {},
     "output_type": "execute_result"
    }
   ],
   "source": [
    "# .lower( ) method - makes every charecter lower case\n",
    "\n",
    "name.lower()"
   ]
  },
  {
   "cell_type": "code",
   "execution_count": 44,
   "id": "4503d03e",
   "metadata": {},
   "outputs": [
    {
     "data": {
      "text/plain": [
       "'RUCK DENT'"
      ]
     },
     "execution_count": 44,
     "metadata": {},
     "output_type": "execute_result"
    }
   ],
   "source": [
    "# .upper( ) method - makes all charecters upper case\n",
    "\n",
    "name.upper( )"
   ]
  },
  {
   "cell_type": "code",
   "execution_count": 45,
   "id": "15dd13f6",
   "metadata": {},
   "outputs": [
    {
     "data": {
      "text/plain": [
       "'Ruck Dent'"
      ]
     },
     "execution_count": 45,
     "metadata": {},
     "output_type": "execute_result"
    }
   ],
   "source": [
    "# .title( ) method - makes title case - make sfirst char of every word capital\n",
    "\n",
    "name.title()"
   ]
  },
  {
   "cell_type": "code",
   "execution_count": 48,
   "id": "4cae3f59",
   "metadata": {},
   "outputs": [
    {
     "data": {
      "text/plain": [
       "(3, 2, 1)"
      ]
     },
     "execution_count": 48,
     "metadata": {},
     "output_type": "execute_result"
    }
   ],
   "source": [
    "# .count( ) method - counts a perticular charecter in a string , it is case sensitive\n",
    "\n",
    "name = \"Harshit Vashista\"\n",
    "\n",
    "name.count('a'),name.count('h'),name.count('H')"
   ]
  },
  {
   "cell_type": "code",
   "execution_count": 2,
   "id": "baaa2167",
   "metadata": {},
   "outputs": [
    {
     "data": {
      "text/plain": [
       "('    Sherlock  Holms   ',\n",
       " 'Sherlock  Holms   ',\n",
       " '    Sherlock  Holms',\n",
       " 'Sherlock  Holms')"
      ]
     },
     "execution_count": 2,
     "metadata": {},
     "output_type": "execute_result"
    }
   ],
   "source": [
    "# .strip( ) method - removes blank spaces fromm either sides\n",
    "\n",
    "name = \"    Sherlock  Holms   \"\n",
    "\n",
    "name,name.lstrip(),name.rstrip(),name.strip()"
   ]
  },
  {
   "cell_type": "code",
   "execution_count": 3,
   "id": "71f77e1a",
   "metadata": {},
   "outputs": [
    {
     "data": {
      "text/plain": [
       "'Alexander the Loser'"
      ]
     },
     "execution_count": 3,
     "metadata": {},
     "output_type": "execute_result"
    }
   ],
   "source": [
    "# .replace() method - replaces a char or substring with another char or substring\n",
    "\n",
    "name = \"Alexander the Great\"\n",
    "\n",
    "name.replace(\"Great\",\"Loser\")"
   ]
  },
  {
   "cell_type": "code",
   "execution_count": 6,
   "id": "66767364",
   "metadata": {},
   "outputs": [
    {
     "data": {
      "text/plain": [
       "'she_is_a_good_dancer_and_she_is_a_good_singer'"
      ]
     },
     "execution_count": 6,
     "metadata": {},
     "output_type": "execute_result"
    }
   ],
   "source": [
    "str = \"she is a good dancer and she is a good singer\"\n",
    "\n",
    "str.replace(\" \",\"_\")"
   ]
  },
  {
   "cell_type": "code",
   "execution_count": 7,
   "id": "5a82ed56",
   "metadata": {},
   "outputs": [
    {
     "data": {
      "text/plain": [
       "'she was a good dancer and she was a good singer'"
      ]
     },
     "execution_count": 7,
     "metadata": {},
     "output_type": "execute_result"
    }
   ],
   "source": [
    "str.replace(\"is\", \"was\")"
   ]
  },
  {
   "cell_type": "code",
   "execution_count": 14,
   "id": "d1951a88",
   "metadata": {},
   "outputs": [
    {
     "data": {
      "text/plain": [
       "'she was a good dancer and she is a good singer'"
      ]
     },
     "execution_count": 14,
     "metadata": {},
     "output_type": "execute_result"
    }
   ],
   "source": [
    "str.replace(\"is\",\"was\",1) # only first is is changed"
   ]
  },
  {
   "cell_type": "code",
   "execution_count": 15,
   "id": "c624d9bc",
   "metadata": {},
   "outputs": [
    {
     "data": {
      "text/plain": [
       "4"
      ]
     },
     "execution_count": 15,
     "metadata": {},
     "output_type": "execute_result"
    }
   ],
   "source": [
    "# .find( ) method - returns index of char or substring\n",
    "\n",
    "str.find(\"is\") # returns the first \"is\" found in string"
   ]
  },
  {
   "cell_type": "code",
   "execution_count": 17,
   "id": "7000db0c",
   "metadata": {},
   "outputs": [
    {
     "data": {
      "text/plain": [
       "29"
      ]
     },
     "execution_count": 17,
     "metadata": {},
     "output_type": "execute_result"
    }
   ],
   "source": [
    "str.find(\"is\",5) #strats searching from index 5"
   ]
  },
  {
   "cell_type": "code",
   "execution_count": 19,
   "id": "51f7f02d",
   "metadata": {},
   "outputs": [
    {
     "data": {
      "text/plain": [
       "'****Harsh****'"
      ]
     },
     "execution_count": 19,
     "metadata": {},
     "output_type": "execute_result"
    }
   ],
   "source": [
    "# .center( ) method - adds symbol to either side of string\n",
    "\n",
    "name = \"Harsh\"\n",
    "\n",
    "name.center(len(name)+8,\"*\") # 8 is the total number of * to be added"
   ]
  },
  {
   "cell_type": "code",
   "execution_count": 22,
   "id": "367dfe0c",
   "metadata": {},
   "outputs": [
    {
     "data": {
      "text/plain": [
       "'**Harsh***'"
      ]
     },
     "execution_count": 22,
     "metadata": {},
     "output_type": "execute_result"
    }
   ],
   "source": [
    "name.center(len(name)+5,\"*\")"
   ]
  },
  {
   "cell_type": "markdown",
   "id": "df4c2b8b",
   "metadata": {},
   "source": [
    "## Strings are Immutable"
   ]
  },
  {
   "cell_type": "code",
   "execution_count": 23,
   "id": "ff362422",
   "metadata": {},
   "outputs": [
    {
     "ename": "TypeError",
     "evalue": "'str' object does not support item assignment",
     "output_type": "error",
     "traceback": [
      "\u001b[1;31m---------------------------------------------------------------------------\u001b[0m",
      "\u001b[1;31mTypeError\u001b[0m                                 Traceback (most recent call last)",
      "\u001b[1;32m<ipython-input-23-33c60405f675>\u001b[0m in \u001b[0;36m<module>\u001b[1;34m\u001b[0m\n\u001b[0;32m      3\u001b[0m \u001b[0mname\u001b[0m \u001b[1;33m=\u001b[0m \u001b[1;34m\"David\"\u001b[0m\u001b[1;33m\u001b[0m\u001b[1;33m\u001b[0m\u001b[0m\n\u001b[0;32m      4\u001b[0m \u001b[1;33m\u001b[0m\u001b[0m\n\u001b[1;32m----> 5\u001b[1;33m \u001b[0mname\u001b[0m\u001b[1;33m[\u001b[0m\u001b[1;36m2\u001b[0m\u001b[1;33m]\u001b[0m\u001b[1;33m=\u001b[0m\u001b[1;34m\"u\"\u001b[0m \u001b[1;31m# error\u001b[0m\u001b[1;33m\u001b[0m\u001b[1;33m\u001b[0m\u001b[0m\n\u001b[0m",
      "\u001b[1;31mTypeError\u001b[0m: 'str' object does not support item assignment"
     ]
    }
   ],
   "source": [
    "# strings once defined cant be modified within them\n",
    "\n",
    "name = \"David\"\n",
    "\n",
    "name[2]=\"u\" # error"
   ]
  }
 ],
 "metadata": {
  "kernelspec": {
   "display_name": "Python 3",
   "language": "python",
   "name": "python3"
  },
  "language_info": {
   "codemirror_mode": {
    "name": "ipython",
    "version": 3
   },
   "file_extension": ".py",
   "mimetype": "text/x-python",
   "name": "python",
   "nbconvert_exporter": "python",
   "pygments_lexer": "ipython3",
   "version": "3.8.8"
  }
 },
 "nbformat": 4,
 "nbformat_minor": 5
}

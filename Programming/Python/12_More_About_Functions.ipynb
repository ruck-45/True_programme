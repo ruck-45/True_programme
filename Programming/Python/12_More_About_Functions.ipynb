{
 "cells": [
  {
   "cell_type": "markdown",
   "id": "96e55428",
   "metadata": {},
   "source": [
    "# Chapter 12 (More About Functions)"
   ]
  },
  {
   "cell_type": "markdown",
   "id": "d75e2b2c",
   "metadata": {},
   "source": [
    "## Assigning alias to functions\n",
    "- we can assign different identifiers to functions and they will behave as the function were defined using that name"
   ]
  },
  {
   "cell_type": "code",
   "execution_count": 1,
   "id": "cb236a94",
   "metadata": {},
   "outputs": [
    {
     "data": {
      "text/plain": [
       "(11, 11, 11)"
      ]
     },
     "execution_count": 1,
     "metadata": {},
     "output_type": "execute_result"
    }
   ],
   "source": [
    "def add(a,b):\n",
    "    return a+b\n",
    "\n",
    "addition = add\n",
    "A = add\n",
    "\n",
    "add(5,6) , addition(5,6) , A(5,6)"
   ]
  },
  {
   "cell_type": "code",
   "execution_count": 5,
   "id": "4c811bcb",
   "metadata": {},
   "outputs": [
    {
     "data": {
      "text/plain": [
       "('add', 'add')"
      ]
     },
     "execution_count": 5,
     "metadata": {},
     "output_type": "execute_result"
    }
   ],
   "source": [
    "addition.__name__ , A.__name__"
   ]
  },
  {
   "cell_type": "code",
   "execution_count": 3,
   "id": "2d8fa42f",
   "metadata": {},
   "outputs": [
    {
     "data": {
      "text/plain": [
       "(True, True)"
      ]
     },
     "execution_count": 3,
     "metadata": {},
     "output_type": "execute_result"
    }
   ],
   "source": [
    "addition is add , A is add\n",
    "\n",
    "#they are not copy, they actually point to same function"
   ]
  },
  {
   "cell_type": "markdown",
   "id": "de86191e",
   "metadata": {},
   "source": [
    "## Function as an argument\n",
    "\n",
    "- functions can be passsed as normal arguments in python"
   ]
  },
  {
   "cell_type": "code",
   "execution_count": 6,
   "id": "ffb3e714",
   "metadata": {
    "scrolled": true
   },
   "outputs": [
    {
     "data": {
      "text/plain": [
       "[1, 8, 27, 64, 125]"
      ]
     },
     "execution_count": 6,
     "metadata": {},
     "output_type": "execute_result"
    }
   ],
   "source": [
    "# user defined map function :\n",
    "\n",
    "nums = list(range(1,6))\n",
    "\n",
    "def my_map(func,l):\n",
    "    return [func(i) for i in l]\n",
    "\n",
    "my_map(lambda a:a**3 , nums)"
   ]
  },
  {
   "cell_type": "markdown",
   "id": "6f6de7c6",
   "metadata": {},
   "source": [
    "### Theory:"
   ]
  },
  {
   "cell_type": "code",
   "execution_count": 7,
   "id": "c6054a98",
   "metadata": {},
   "outputs": [
    {
     "data": {
      "text/plain": [
       "<function __main__.func()>"
      ]
     },
     "execution_count": 7,
     "metadata": {},
     "output_type": "execute_result"
    }
   ],
   "source": [
    "def func( ):\n",
    "    print(\"Hello\")\n",
    "    \n",
    "# if we only write func, it only represents the function object\n",
    "func"
   ]
  },
  {
   "cell_type": "code",
   "execution_count": 8,
   "id": "d4a17618",
   "metadata": {},
   "outputs": [
    {
     "name": "stdout",
     "output_type": "stream",
     "text": [
      "Hello\n"
     ]
    }
   ],
   "source": [
    "# but if we write func() , it calls and executes the function\n",
    "\n",
    "func()"
   ]
  },
  {
   "cell_type": "markdown",
   "id": "f89ed2c4",
   "metadata": {},
   "source": [
    "therefore,\n",
    "- a = func ----- makes a as a pointer to func\n",
    "- a= func( ) --------- executes func( ) and stores  the return value in a"
   ]
  },
  {
   "cell_type": "markdown",
   "id": "2f5d099e",
   "metadata": {},
   "source": [
    "## Closures / First Class Functions (Function returning Funcion)\n",
    "\n",
    "- we can define a function inside a function and return it like any other variable\n",
    "- the variable it is assigned to acts as its alias"
   ]
  },
  {
   "cell_type": "code",
   "execution_count": 9,
   "id": "7850fc3f",
   "metadata": {},
   "outputs": [
    {
     "name": "stdout",
     "output_type": "stream",
     "text": [
      "your age is - 45\n"
     ]
    }
   ],
   "source": [
    "def Function(age):\n",
    "    def new_fun():\n",
    "        print(f\"your age is - {age}\")\n",
    "    return new_fun\n",
    "\n",
    "new_function = Function(45)\n",
    "new_function()"
   ]
  },
  {
   "cell_type": "code",
   "execution_count": 19,
   "id": "6097bb33",
   "metadata": {},
   "outputs": [
    {
     "name": "stdout",
     "output_type": "stream",
     "text": [
      "your age is - 45\n",
      "None\n"
     ]
    }
   ],
   "source": [
    "# if we write returen new_fun() inside Function(), it will call the function but wont return it\n",
    "\n",
    "def Function(age):\n",
    "    def new_fun():\n",
    "        print(f\"your age is - {age}\")\n",
    "    return new_fun()\n",
    "\n",
    "new_function = Function(45)\n",
    "print(new_function)"
   ]
  }
 ],
 "metadata": {
  "kernelspec": {
   "display_name": "Python 3",
   "language": "python",
   "name": "python3"
  },
  "language_info": {
   "codemirror_mode": {
    "name": "ipython",
    "version": 3
   },
   "file_extension": ".py",
   "mimetype": "text/x-python",
   "name": "python",
   "nbconvert_exporter": "python",
   "pygments_lexer": "ipython3",
   "version": "3.8.8"
  }
 },
 "nbformat": 4,
 "nbformat_minor": 5
}

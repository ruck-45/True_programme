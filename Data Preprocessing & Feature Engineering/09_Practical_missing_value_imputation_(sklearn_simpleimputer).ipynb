{
 "cells": [
  {
   "cell_type": "code",
   "execution_count": 1,
   "id": "5e9c42f1",
   "metadata": {},
   "outputs": [],
   "source": [
    "import numpy as np\n",
    "import pandas as pd\n",
    "import matplotlib.pyplot as plt\n",
    "import seaborn as sns"
   ]
  },
  {
   "cell_type": "code",
   "execution_count": 2,
   "id": "2b923b05",
   "metadata": {},
   "outputs": [],
   "source": [
    "from sklearn.impute import SimpleImputer"
   ]
  },
  {
   "cell_type": "markdown",
   "id": "9be3c6bc",
   "metadata": {},
   "source": [
    "# Importing dataset"
   ]
  },
  {
   "cell_type": "code",
   "execution_count": 3,
   "id": "fce84419",
   "metadata": {},
   "outputs": [],
   "source": [
    "df = pd.read_csv('./Datasets/house_prices/train.csv')"
   ]
  },
  {
   "cell_type": "code",
   "execution_count": 4,
   "id": "981f1da5",
   "metadata": {},
   "outputs": [],
   "source": [
    "pd.set_option('display.max_columns',None)\n",
    "pd.set_option('display.max_rows',None)"
   ]
  },
  {
   "cell_type": "markdown",
   "id": "c21dc9de",
   "metadata": {},
   "source": [
    "# cleaning the columns with missing value more than 25%"
   ]
  },
  {
   "cell_type": "code",
   "execution_count": 5,
   "id": "bafbce6d",
   "metadata": {},
   "outputs": [],
   "source": [
    "del_cols = df.isnull().mean()*100\n",
    "del_cols = del_cols[del_cols>25].keys()"
   ]
  },
  {
   "cell_type": "code",
   "execution_count": 6,
   "id": "b265e3b3",
   "metadata": {},
   "outputs": [
    {
     "data": {
      "text/plain": [
       "(1460, 76)"
      ]
     },
     "execution_count": 6,
     "metadata": {},
     "output_type": "execute_result"
    }
   ],
   "source": [
    "df2 = df.drop(del_cols, axis=1)\n",
    "df2.shape"
   ]
  },
  {
   "cell_type": "markdown",
   "id": "3f3df94d",
   "metadata": {},
   "source": [
    "# missing value imputation ( sklearn.impute.SimpleImputer)"
   ]
  },
  {
   "cell_type": "markdown",
   "id": "b06664ba",
   "metadata": {},
   "source": [
    "### SimpleImputer(  ) parameters\n",
    "\n",
    "- missing_values : mention all values we consider to be NAN values\n",
    "- strategy : \n",
    "    - 'mean' : fills the NA values with the MEAN value of the column // [default value]\n",
    "    - 'median' : fills the NA values with the MEDIAN value of the column\n",
    "    - 'most_frequent' : fills the NA values with the MODE value of the column\n",
    "    - 'constant' : fills the NA values with the CONSTANT/VARIABLE value we provided\n",
    "- fill_value : if we selected - stragy = 'constant', we have to provide the value here"
   ]
  },
  {
   "cell_type": "markdown",
   "id": "ad4102bf",
   "metadata": {},
   "source": [
    "### SimpleImputer attributes\n",
    "- .statistics_ : provides the replacement for NA values for each column according to the strategy"
   ]
  },
  {
   "cell_type": "markdown",
   "id": "a7f73704",
   "metadata": {},
   "source": [
    "### SimpleImputer methods\n",
    "- .fit( ) : calculates the replacement for the NAN values according to the mentioned strategy\n",
    "- .transform( ) : applies the values computed in fit to respective NAN columns\n",
    "- .fit_transform( ) :does both the work of fit and transform at a time"
   ]
  },
  {
   "cell_type": "markdown",
   "id": "ae3e37bf",
   "metadata": {},
   "source": [
    "# Numerical value imputation Using SimpleImputer"
   ]
  },
  {
   "cell_type": "code",
   "execution_count": 7,
   "id": "52d147cc",
   "metadata": {},
   "outputs": [],
   "source": [
    "# extracting all numerical columns\n",
    "\n",
    "num_cols = df2.select_dtypes(include=['int64','float64'])"
   ]
  },
  {
   "cell_type": "code",
   "execution_count": 8,
   "id": "40908c4b",
   "metadata": {},
   "outputs": [
    {
     "data": {
      "text/plain": [
       "Index(['LotFrontage', 'MasVnrArea', 'GarageYrBlt'], dtype='object')"
      ]
     },
     "execution_count": 8,
     "metadata": {},
     "output_type": "execute_result"
    }
   ],
   "source": [
    "# columns having null values\n",
    "\n",
    "null_num_cols = num_cols.isnull().sum()\n",
    "null_num_cols = null_num_cols[null_num_cols>0].keys()\n",
    "null_num_cols"
   ]
  },
  {
   "cell_type": "code",
   "execution_count": 9,
   "id": "3e23e41e",
   "metadata": {},
   "outputs": [],
   "source": [
    "# creating an imputer object\n",
    "\n",
    "mean_imputer = SimpleImputer(strategy='mean')"
   ]
  },
  {
   "cell_type": "code",
   "execution_count": 10,
   "id": "b0faf4c0",
   "metadata": {},
   "outputs": [
    {
     "data": {
      "text/plain": [
       "SimpleImputer()"
      ]
     },
     "execution_count": 10,
     "metadata": {},
     "output_type": "execute_result"
    }
   ],
   "source": [
    "# finding median for all null columns\n",
    "\n",
    "mean_imputer.fit(df2[null_num_cols])"
   ]
  },
  {
   "cell_type": "code",
   "execution_count": 11,
   "id": "19ea8092",
   "metadata": {},
   "outputs": [
    {
     "data": {
      "text/plain": [
       "array([  70.04995837,  103.68526171, 1978.50616389])"
      ]
     },
     "execution_count": 11,
     "metadata": {},
     "output_type": "execute_result"
    }
   ],
   "source": [
    "# replacement values for NAN for each column\n",
    "\n",
    "mean_imputer.statistics_"
   ]
  },
  {
   "cell_type": "code",
   "execution_count": 12,
   "id": "3ab16d6e",
   "metadata": {},
   "outputs": [
    {
     "data": {
      "text/plain": [
       "array([[  65.,  196., 2003.],\n",
       "       [  80.,    0., 1976.],\n",
       "       [  68.,  162., 2001.],\n",
       "       ...,\n",
       "       [  66.,    0., 1941.],\n",
       "       [  68.,    0., 1950.],\n",
       "       [  75.,    0., 1965.]])"
      ]
     },
     "execution_count": 12,
     "metadata": {},
     "output_type": "execute_result"
    }
   ],
   "source": [
    "# imputing the NAN values (it creates a separate 2D array, it doesnt assign the value to the original dataset)\n",
    "\n",
    "mean_imputer.transform(df2[null_num_cols])"
   ]
  },
  {
   "cell_type": "code",
   "execution_count": 13,
   "id": "7779d6b9",
   "metadata": {},
   "outputs": [],
   "source": [
    "# upating the values in dataset\n",
    "\n",
    "df[null_num_cols] = mean_imputer.transform(df2[null_num_cols])"
   ]
  },
  {
   "cell_type": "code",
   "execution_count": 14,
   "id": "0888ca78",
   "metadata": {},
   "outputs": [
    {
     "data": {
      "text/plain": [
       "0"
      ]
     },
     "execution_count": 14,
     "metadata": {},
     "output_type": "execute_result"
    }
   ],
   "source": [
    "df[null_num_cols].isnull().sum().sum()"
   ]
  },
  {
   "cell_type": "markdown",
   "id": "acf4d613",
   "metadata": {},
   "source": [
    "# Catagorical value imputation Using SimpleImputer"
   ]
  },
  {
   "cell_type": "code",
   "execution_count": 15,
   "id": "27adb465",
   "metadata": {},
   "outputs": [
    {
     "data": {
      "text/plain": [
       "Index(['MasVnrType', 'BsmtQual', 'BsmtCond', 'BsmtExposure', 'BsmtFinType1',\n",
       "       'BsmtFinType2', 'Electrical', 'GarageType', 'GarageFinish',\n",
       "       'GarageQual', 'GarageCond'],\n",
       "      dtype='object')"
      ]
     },
     "execution_count": 15,
     "metadata": {},
     "output_type": "execute_result"
    }
   ],
   "source": [
    "# getting all catagorical columns with null values\n",
    "\n",
    "null_cat_cols = df2.select_dtypes(include=['O']).isnull().sum()\n",
    "null_cat_cols = null_cat_cols[null_cat_cols>0].keys()\n",
    "null_cat_cols"
   ]
  },
  {
   "cell_type": "code",
   "execution_count": 16,
   "id": "921ae6f7",
   "metadata": {},
   "outputs": [],
   "source": [
    "# creating an imputer object\n",
    "\n",
    "mode_imputer = SimpleImputer(strategy='most_frequent')"
   ]
  },
  {
   "cell_type": "code",
   "execution_count": 17,
   "id": "329b7c3c",
   "metadata": {},
   "outputs": [],
   "source": [
    "# fit and transform and assigning\n",
    "\n",
    "df2[null_cat_cols] = mode_imputer.fit_transform(df2[null_cat_cols])"
   ]
  },
  {
   "cell_type": "code",
   "execution_count": 18,
   "id": "9d4510e7",
   "metadata": {},
   "outputs": [
    {
     "data": {
      "text/plain": [
       "array(['None', 'TA', 'TA', 'No', 'Unf', 'Unf', 'SBrkr', 'Attchd', 'Unf',\n",
       "       'TA', 'TA'], dtype=object)"
      ]
     },
     "execution_count": 18,
     "metadata": {},
     "output_type": "execute_result"
    }
   ],
   "source": [
    "mode_imputer.statistics_"
   ]
  },
  {
   "cell_type": "code",
   "execution_count": 19,
   "id": "6e478a39",
   "metadata": {},
   "outputs": [
    {
     "data": {
      "text/plain": [
       "0"
      ]
     },
     "execution_count": 19,
     "metadata": {},
     "output_type": "execute_result"
    }
   ],
   "source": [
    "df2[null_cat_cols].isnull().sum().sum()"
   ]
  }
 ],
 "metadata": {
  "kernelspec": {
   "display_name": "Python 3",
   "language": "python",
   "name": "python3"
  },
  "language_info": {
   "codemirror_mode": {
    "name": "ipython",
    "version": 3
   },
   "file_extension": ".py",
   "mimetype": "text/x-python",
   "name": "python",
   "nbconvert_exporter": "python",
   "pygments_lexer": "ipython3",
   "version": "3.8.8"
  }
 },
 "nbformat": 4,
 "nbformat_minor": 5
}

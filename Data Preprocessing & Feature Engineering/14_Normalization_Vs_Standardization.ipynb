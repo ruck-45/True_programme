{
 "cells": [
  {
   "cell_type": "markdown",
   "id": "20830b47",
   "metadata": {},
   "source": [
    "# Standardization ( Standard Scaler )"
   ]
  },
  {
   "cell_type": "markdown",
   "id": "d7b04194",
   "metadata": {},
   "source": [
    "- Standardization Rescales the data such that :\n",
    "    - mean becomes Zero\n",
    "    - standard deviation becomes One\n",
    "- The result of standardization is called : Z-score normalization (Z)"
   ]
  },
  {
   "attachments": {
    "image_01.jpeg": {
     "image/jpeg": "[encoded data removed]"
    }
   },
   "cell_type": "markdown",
   "id": "dc017f44",
   "metadata": {},
   "source": [
    "![image_01.jpeg](attachment:image_01.jpeg)"
   ]
  },
  {
   "cell_type": "markdown",
   "id": "c132d620",
   "metadata": {},
   "source": [
    "- Standard Deviation is preferred if the frequency distrubution of the data points is a normal distriution / Gaussian distribution. ( symmetrical shape )"
   ]
  },
  {
   "cell_type": "markdown",
   "id": "af163b35",
   "metadata": {},
   "source": [
    "- If the original distribution is normal, then standardized distribution will also be normal\n",
    "- If the original distribution is skewed, then standardized distribution will also be skewed"
   ]
  },
  {
   "cell_type": "markdown",
   "id": "c42c951c",
   "metadata": {},
   "source": [
    "# Normalization"
   ]
  },
  {
   "cell_type": "markdown",
   "id": "2299aaaf",
   "metadata": {},
   "source": [
    "- Normalization rescales the features from (0 to 1)\n",
    "- Normalization is also known as Min-Max Scaling"
   ]
  },
  {
   "attachments": {
    "image_02.png": {
     "image/png": "[encoded data removed]"
    }
   },
   "cell_type": "markdown",
   "id": "7c4a4c27",
   "metadata": {},
   "source": [
    "![image_02.png](attachment:image_02.png)"
   ]
  },
  {
   "cell_type": "markdown",
   "id": "621aa715",
   "metadata": {},
   "source": [
    "- Normalization is preferably used when data distribution is skewed (not gaussian)"
   ]
  },
  {
   "cell_type": "markdown",
   "id": "2f4ca27d",
   "metadata": {},
   "source": [
    "# Normalization Vs Standardization"
   ]
  },
  {
   "cell_type": "markdown",
   "id": "74eb188e",
   "metadata": {},
   "source": [
    "- There is no hard and first rule to use Normalization and Standardization in specific algorithms, but there are preferences for better results"
   ]
  },
  {
   "cell_type": "markdown",
   "id": "46085698",
   "metadata": {},
   "source": [
    "- We mostly use Standardization for : \n",
    "    - Gaussian / Normal Distributions\n",
    "    - Clustering Analysis\n",
    "    - PCA (Principal Component Analysis)"
   ]
  },
  {
   "cell_type": "markdown",
   "id": "50ed56cb",
   "metadata": {},
   "source": [
    "- We mostly use Normalization for : \n",
    "    - skewed Distribution\n",
    "    - Image Processing (because pixel intensity varies between 0 to 255)\n",
    "    - Neural Network Algorithm (requires data between 0 to 1)\n",
    "    - K-Nearest Neighbours"
   ]
  }
 ],
 "metadata": {
  "kernelspec": {
   "display_name": "Python 3",
   "language": "python",
   "name": "python3"
  },
  "language_info": {
   "codemirror_mode": {
    "name": "ipython",
    "version": 3
   },
   "file_extension": ".py",
   "mimetype": "text/x-python",
   "name": "python",
   "nbconvert_exporter": "python",
   "pygments_lexer": "ipython3",
   "version": "3.8.8"
  }
 },
 "nbformat": 4,
 "nbformat_minor": 5
}

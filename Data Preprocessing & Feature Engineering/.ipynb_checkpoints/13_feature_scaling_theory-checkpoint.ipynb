{
 "cells": [
  {
   "cell_type": "code",
   "execution_count": 3,
   "id": "a5623967",
   "metadata": {},
   "outputs": [],
   "source": [
    "import numpy as np\n",
    "import pandas as pd"
   ]
  },
  {
   "cell_type": "markdown",
   "id": "6182ab7d",
   "metadata": {},
   "source": [
    "# What is a feature ?"
   ]
  },
  {
   "cell_type": "code",
   "execution_count": 1,
   "id": "e7db3a1a",
   "metadata": {},
   "outputs": [],
   "source": [
    "# Each column in the dataframe is a feature\n",
    "\n",
    "# the features which are used as inputs for prediction are known as : INDEPENDENT Features\n",
    "# the feature which is set to be predicted is known as : DEPENDENT Feature"
   ]
  },
  {
   "cell_type": "markdown",
   "id": "c2eef5a4",
   "metadata": {},
   "source": [
    "# What is scale of a fetaure ?"
   ]
  },
  {
   "cell_type": "code",
   "execution_count": 2,
   "id": "9929f888",
   "metadata": {},
   "outputs": [],
   "source": [
    "# the range of a feature in numeric value is the scale of the feature"
   ]
  },
  {
   "cell_type": "code",
   "execution_count": 6,
   "id": "ccf80c8c",
   "metadata": {
    "scrolled": true
   },
   "outputs": [
    {
     "data": {
      "text/html": [
       "<div>\n",
       "<style scoped>\n",
       "    .dataframe tbody tr th:only-of-type {\n",
       "        vertical-align: middle;\n",
       "    }\n",
       "\n",
       "    .dataframe tbody tr th {\n",
       "        vertical-align: top;\n",
       "    }\n",
       "\n",
       "    .dataframe thead th {\n",
       "        text-align: right;\n",
       "    }\n",
       "</style>\n",
       "<table border=\"1\" class=\"dataframe\">\n",
       "  <thead>\n",
       "    <tr style=\"text-align: right;\">\n",
       "      <th></th>\n",
       "      <th>Name</th>\n",
       "      <th>height_in_cm</th>\n",
       "      <th>weight_in_kg</th>\n",
       "      <th>age_in_years</th>\n",
       "      <th>lotteries_won</th>\n",
       "      <th>score</th>\n",
       "    </tr>\n",
       "  </thead>\n",
       "  <tbody>\n",
       "    <tr>\n",
       "      <th>0</th>\n",
       "      <td>tom</td>\n",
       "      <td>172</td>\n",
       "      <td>56</td>\n",
       "      <td>18</td>\n",
       "      <td>56</td>\n",
       "      <td>64</td>\n",
       "    </tr>\n",
       "    <tr>\n",
       "      <th>1</th>\n",
       "      <td>andy</td>\n",
       "      <td>156</td>\n",
       "      <td>84</td>\n",
       "      <td>17</td>\n",
       "      <td>84</td>\n",
       "      <td>87</td>\n",
       "    </tr>\n",
       "    <tr>\n",
       "      <th>2</th>\n",
       "      <td>kevin</td>\n",
       "      <td>170</td>\n",
       "      <td>74</td>\n",
       "      <td>20</td>\n",
       "      <td>655</td>\n",
       "      <td>98</td>\n",
       "    </tr>\n",
       "    <tr>\n",
       "      <th>3</th>\n",
       "      <td>henry</td>\n",
       "      <td>165</td>\n",
       "      <td>69</td>\n",
       "      <td>21</td>\n",
       "      <td>648</td>\n",
       "      <td>65</td>\n",
       "    </tr>\n",
       "    <tr>\n",
       "      <th>4</th>\n",
       "      <td>ruck</td>\n",
       "      <td>178</td>\n",
       "      <td>95</td>\n",
       "      <td>19</td>\n",
       "      <td>89</td>\n",
       "      <td>98</td>\n",
       "    </tr>\n",
       "  </tbody>\n",
       "</table>\n",
       "</div>"
      ],
      "text/plain": [
       "    Name  height_in_cm  weight_in_kg  age_in_years  lotteries_won  score\n",
       "0    tom           172            56            18             56     64\n",
       "1   andy           156            84            17             84     87\n",
       "2  kevin           170            74            20            655     98\n",
       "3  henry           165            69            21            648     65\n",
       "4   ruck           178            95            19             89     98"
      ]
     },
     "execution_count": 6,
     "metadata": {},
     "output_type": "execute_result"
    }
   ],
   "source": [
    "# Example :\n",
    "\n",
    "df = pd.DataFrame({\n",
    "    'Name' : ['tom','andy','kevin','henry','ruck'],\n",
    "    'height_in_cm' : [172,156,170,165,178],\n",
    "    'weight_in_kg' : [56,84,74,69,95],\n",
    "    'age_in_years' : [18,17,20,21,19],\n",
    "    'lotteries_won' : [56,84,655,648,89],\n",
    "    'score' : [64,87,98,65,98]\n",
    "})\n",
    "\n",
    "df"
   ]
  },
  {
   "cell_type": "markdown",
   "id": "d5299b10",
   "metadata": {},
   "source": [
    "in above dataframe: \n",
    "\n",
    "- Features : [Name , height_in_cm , weight_in_kg , age_in_years , lotteries_won , score]\n",
    "- Independent Feature : [Name , height_in_cm , weight_in_kg , age_in_years , lotteries_won]\n",
    "- Dependent Feature : score"
   ]
  },
  {
   "cell_type": "markdown",
   "id": "6708fad7",
   "metadata": {},
   "source": [
    "scale of : \n",
    "\n",
    "- height_in_cm = (0 - 178)\n",
    "- weight_in_kg = (0 - 95)\n",
    "- age_in_years = (0 - 21)\n",
    "- lotteries_won = (0 - 655)\n",
    "- score = (0 - 98)"
   ]
  },
  {
   "cell_type": "markdown",
   "id": "79e22428",
   "metadata": {},
   "source": [
    "# What is Feature Scaling?"
   ]
  },
  {
   "cell_type": "markdown",
   "id": "f91b2631",
   "metadata": {},
   "source": [
    "- feature scaling is a method to scale numeric features in the same scale or range like (-1 to 1) or (0 to 1)\n",
    "- It is the last step involved in data preprocessing\n",
    "- It is alos known as Data Normalization\n",
    "- We apply feature scaling on Independent Variables"
   ]
  },
  {
   "cell_type": "markdown",
   "id": "56eacfbc",
   "metadata": {},
   "source": [
    "# Why Feature Scaling required ?"
   ]
  },
  {
   "cell_type": "markdown",
   "id": "fe706483",
   "metadata": {},
   "source": [
    "- The scale of raw features is different according to its units\n",
    "- Machine Learning algorithms cant understand feature units, they understand only numbers."
   ]
  },
  {
   "cell_type": "code",
   "execution_count": 10,
   "id": "763625ac",
   "metadata": {},
   "outputs": [],
   "source": [
    "# Example\n",
    "\n",
    "# we have 2 enties as : 5km and 2 miles\n",
    "\n",
    "# ML algorithm will understand 2 miles < 5 km, as it doesnt understand units"
   ]
  },
  {
   "cell_type": "markdown",
   "id": "3eefdabc",
   "metadata": {},
   "source": [
    "# ML algorithms requiring Feature Scaling : "
   ]
  },
  {
   "cell_type": "markdown",
   "id": "9244b18e",
   "metadata": {},
   "source": [
    "### Those Algorithms who calculate distance\n",
    " - KNN (K Nearest Neighbours)\n",
    " - K-Means\n",
    " - SVM (Support Vector Machine)\n",
    " - PCA (Principal Component Analysis)\n",
    " - Liear Discriminant Analysis"
   ]
  },
  {
   "cell_type": "markdown",
   "id": "5129dc40",
   "metadata": {},
   "source": [
    "### Gradient Descent Based Algorithms\n",
    "- Linear Regression\n",
    "- Logistic Regression\n",
    "- Neural Network"
   ]
  },
  {
   "cell_type": "markdown",
   "id": "df470d4c",
   "metadata": {},
   "source": [
    "# ML algorithms NOT requiring Feature Scaling : "
   ]
  },
  {
   "cell_type": "markdown",
   "id": "20c96067",
   "metadata": {},
   "source": [
    "### Tree based Algorithms\n",
    "- Descision Tree\n",
    "- Random Forest\n",
    "- XGBoost"
   ]
  },
  {
   "cell_type": "markdown",
   "id": "d9e69a59",
   "metadata": {},
   "source": [
    "# Types Of Feature Scaling\n",
    "- Min Max scaler (Normalization)\n",
    "- Standard scaler (Standardization)\n",
    "- Max Abs saler\n",
    "- Robust Scaler\n",
    "- Quantile Transformer Scaler\n",
    "- Power Transformer Scaler\n",
    "- Unit Vector Scaler"
   ]
  }
 ],
 "metadata": {
  "kernelspec": {
   "display_name": "Python 3",
   "language": "python",
   "name": "python3"
  },
  "language_info": {
   "codemirror_mode": {
    "name": "ipython",
    "version": 3
   },
   "file_extension": ".py",
   "mimetype": "text/x-python",
   "name": "python",
   "nbconvert_exporter": "python",
   "pygments_lexer": "ipython3",
   "version": "3.8.8"
  }
 },
 "nbformat": 4,
 "nbformat_minor": 5
}

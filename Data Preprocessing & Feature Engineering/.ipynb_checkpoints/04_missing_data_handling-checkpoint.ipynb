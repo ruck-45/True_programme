{
 "cells": [
  {
   "cell_type": "markdown",
   "id": "15b72a3d",
   "metadata": {},
   "source": [
    "# Missing Data Handling Methods"
   ]
  },
  {
   "cell_type": "markdown",
   "id": "9f5f84e1",
   "metadata": {},
   "source": [
    "## Ignore missing values or delete row / column"
   ]
  },
  {
   "cell_type": "code",
   "execution_count": 2,
   "id": "79b190b2",
   "metadata": {},
   "outputs": [],
   "source": [
    "# we can ignore the missing values by deleting the rows / columns from the dataset"
   ]
  },
  {
   "cell_type": "code",
   "execution_count": 3,
   "id": "3ea7c85c",
   "metadata": {},
   "outputs": [],
   "source": [
    "# con -\n",
    "\n",
    "# if our overall dataset size is not sufficient enough to train a ML model then further removing data from dataset will \n",
    "# lessen our chance to build an accurate ML model"
   ]
  },
  {
   "cell_type": "markdown",
   "id": "fcc427f5",
   "metadata": {},
   "source": [
    "## Fill in missing value :  Manually"
   ]
  },
  {
   "cell_type": "code",
   "execution_count": 4,
   "id": "d29ef165",
   "metadata": {},
   "outputs": [],
   "source": [
    "# we can use human logic to fill up the missing values in the dataset"
   ]
  },
  {
   "cell_type": "code",
   "execution_count": 5,
   "id": "4cc80633",
   "metadata": {},
   "outputs": [],
   "source": [
    "# con - \n",
    "\n",
    "# It is time consuming and inefficient, and practically impossible for large datasets"
   ]
  },
  {
   "cell_type": "markdown",
   "id": "3ed6e18c",
   "metadata": {},
   "source": [
    "## Fill in missing values with : Global Constants"
   ]
  },
  {
   "cell_type": "code",
   "execution_count": 6,
   "id": "e24d5072",
   "metadata": {},
   "outputs": [],
   "source": [
    "# we can fill in missing values with constants like : 0, 'unknown' etc.."
   ]
  },
  {
   "cell_type": "code",
   "execution_count": 8,
   "id": "f50b7937",
   "metadata": {},
   "outputs": [],
   "source": [
    "# con -\n",
    "\n",
    "# it will affect the overall credibility of our dataset. the statistical results will be messed up for the entire dataset"
   ]
  },
  {
   "cell_type": "markdown",
   "id": "752f4cba",
   "metadata": {},
   "source": [
    "## Fill in missing values with : Central Tendency (mean , median, mode)"
   ]
  },
  {
   "cell_type": "code",
   "execution_count": 9,
   "id": "748cf193",
   "metadata": {},
   "outputs": [],
   "source": [
    "# we can fill in missing values with central tendenct values of the whole column like (mean, median , mode)"
   ]
  },
  {
   "cell_type": "code",
   "execution_count": 10,
   "id": "dea416fd",
   "metadata": {},
   "outputs": [],
   "source": [
    "# con - \n",
    "\n",
    "# it will affect the statistical results for each class\n",
    "\n",
    "# e.g - \n",
    "# if in the salary columns we have salary missing of few candidates of branch CSE, IT, Mechanical etc..\n",
    "# if we take the central tendency as a whole and fill in their missing salary values, it will mess up the central tendencies of\n",
    "# each class (CSE, IT, Mechanical etc..)"
   ]
  },
  {
   "cell_type": "markdown",
   "id": "d7732746",
   "metadata": {},
   "source": [
    "## Fill in missing values with : Central Tendency for each class"
   ]
  },
  {
   "cell_type": "code",
   "execution_count": 11,
   "id": "e02229f6",
   "metadata": {},
   "outputs": [],
   "source": [
    "# the solution to above shortcomming is to calculate the central tendency for each class and then fill in the missing values"
   ]
  },
  {
   "cell_type": "markdown",
   "id": "a124f13c",
   "metadata": {},
   "source": [
    "## Fill in missing values with : Most probable value (ML algorithm)"
   ]
  },
  {
   "cell_type": "code",
   "execution_count": 12,
   "id": "3092c3ad",
   "metadata": {},
   "outputs": [],
   "source": [
    "# this is one of the best ways to fill in the missing values with highest accuracy.\n",
    "\n",
    "# - we make a separate dataset with all missing values removed\n",
    "# - we train a ML model on that new dataset\n",
    "# - we use the missing value enties as test cases and find out the most appropriate value with the prediction"
   ]
  },
  {
   "cell_type": "code",
   "execution_count": 13,
   "id": "39b607d2",
   "metadata": {},
   "outputs": [],
   "source": [
    "# con - \n",
    "\n",
    "# - expensive\n",
    "# - requires more computing power"
   ]
  }
 ],
 "metadata": {
  "kernelspec": {
   "display_name": "Python 3",
   "language": "python",
   "name": "python3"
  },
  "language_info": {
   "codemirror_mode": {
    "name": "ipython",
    "version": 3
   },
   "file_extension": ".py",
   "mimetype": "text/x-python",
   "name": "python",
   "nbconvert_exporter": "python",
   "pygments_lexer": "ipython3",
   "version": "3.8.8"
  }
 },
 "nbformat": 4,
 "nbformat_minor": 5
}

{
 "cells": [
  {
   "cell_type": "code",
   "execution_count": 1,
   "id": "c1c9783d",
   "metadata": {},
   "outputs": [],
   "source": [
    "import cv2"
   ]
  },
  {
   "cell_type": "markdown",
   "id": "b584f31d",
   "metadata": {},
   "source": [
    "# Read and Display Videos"
   ]
  },
  {
   "cell_type": "code",
   "execution_count": 5,
   "id": "f0e71a37",
   "metadata": {},
   "outputs": [
    {
     "name": "stdout",
     "output_type": "stream",
     "text": [
      "True\n"
     ]
    }
   ],
   "source": [
    "# we have to read videos using a while loop using VideoCapture method\n",
    "\n",
    "video = cv2.VideoCapture('./Videos/02.mp4') # giving path of video file\n",
    "print(video.isOpened())\n",
    "\n",
    "while True: # we need to iterate to capture each frame\n",
    "    res,frame = video.read() # returns res (boolean : True/False, Indicates if Frame exists or not)\n",
    "                             # frame is the actual frame of the video (an image)\n",
    "    if res:\n",
    "        cv2.imshow('Video',frame) # showing each frame\n",
    "                                  # will end when the video ends\n",
    "    else:\n",
    "        break\n",
    "\n",
    "video.release() # releases memory\n",
    "cv2.destroyAllWindows()"
   ]
  },
  {
   "cell_type": "markdown",
   "id": "c72fcafc",
   "metadata": {},
   "source": [
    "# Reading From Webcam"
   ]
  },
  {
   "cell_type": "code",
   "execution_count": 3,
   "id": "5ab97801",
   "metadata": {},
   "outputs": [
    {
     "name": "stdout",
     "output_type": "stream",
     "text": [
      "True\n"
     ]
    }
   ],
   "source": [
    "cam = cv2.VideoCapture(0) # 0 denotes default webcam\n",
    "\n",
    "print(cam.isOpened())\n",
    "\n",
    "while cam.isOpened(): # cam.isOpened() provides status of cam variable that if it is able to connect to right device\n",
    "    res,frame = cam.read()\n",
    "    cv2.imshow('Cam',frame)\n",
    "    if cv2.waitKey(1) & 0xFF == ord('q'): # cv2.waitKey(1) & 0xFF represents the key pressed to stop { here & 0xFF is a mask for 64 bit system}\n",
    "        break                             # ord() converts the charecter to their respective Unicodes\n",
    "        \n",
    "cam.release()\n",
    "cv2.destroyAllWindows()"
   ]
  },
  {
   "cell_type": "code",
   "execution_count": 2,
   "id": "adb1249a",
   "metadata": {},
   "outputs": [],
   "source": [
    "# capturing grayscale image form webcam\n",
    "\n",
    "cam = cv2.VideoCapture(0)\n",
    "\n",
    "while cam.isOpened():\n",
    "    res,frame = cam.read()\n",
    "    if res:\n",
    "        \n",
    "        img = cv2.cvtColor(frame,cv2.COLOR_BGR2GRAY) # we use cvtcolor() to convert color from BGR to Gray\n",
    "                                                     # In OpenCv the color representation is opposite (BGR <- RGB)\n",
    "        \n",
    "        cv2.imshow('cam',img)\n",
    "        if cv2.waitKey(1) & 0xFF == ord('q'):\n",
    "            break\n",
    "    else:\n",
    "        break\n",
    "        \n",
    "cam.release()\n",
    "cv2.destroyAllWindows()"
   ]
  },
  {
   "cell_type": "markdown",
   "id": "2312f0c4",
   "metadata": {},
   "source": [
    "# Different Properties of VideoCapture Object (for camera capture)\n",
    "- We can access properties of a VideoCapture object once  it is capturing some contents using cap_props"
   ]
  },
  {
   "cell_type": "code",
   "execution_count": 29,
   "id": "9c1157a9",
   "metadata": {
    "scrolled": true
   },
   "outputs": [
    {
     "name": "stdout",
     "output_type": "stream",
     "text": [
      "Frame Height ------ 480.0\n",
      "Frame Width ------ 640.0\n",
      "Frame Contrast ------ 0.0\n",
      "Frame Sauration ------ 64.0\n",
      "Frame Hue ------ 0.0\n",
      "Frame FPS ------ 30.0\n",
      "Frame Brightness ------ 0.0\n",
      "Frame Exposure ------ -6.0\n"
     ]
    }
   ],
   "source": [
    "cap = cv2.VideoCapture(0)\n",
    "\n",
    "#         cap properties\n",
    "print(f'Frame Height ------ {cap.get(cv2.CAP_PROP_FRAME_HEIGHT)}')\n",
    "print(f'Frame Width ------ {cap.get(cv2.CAP_PROP_FRAME_WIDTH)}')\n",
    "print(f'Frame Contrast ------ {cap.get(cv2.CAP_PROP_CONTRAST)}')\n",
    "print(f'Frame Sauration ------ {cap.get(cv2.CAP_PROP_SATURATION)}')\n",
    "print(f'Frame Hue ------ {cap.get(cv2.CAP_PROP_HUE)}')\n",
    "print(f'Frame FPS ------ {cap.get(cv2.CAP_PROP_FPS)}')\n",
    "print(f'Frame Brightness ------ {cap.get(cv2.CAP_PROP_BRIGHTNESS)}')\n",
    "print(f'Frame Exposure ------ {cap.get(cv2.CAP_PROP_EXPOSURE)}')\n",
    "\n",
    "while cap.isOpened():\n",
    "    res,frame = cap.read()\n",
    "    if res:\n",
    "        cv2.imshow('Video_cap',frame)\n",
    "        if cv2.waitKey(1) & 0xFF == ord('q'):\n",
    "            break\n",
    "    else:\n",
    "        break\n",
    "        \n",
    "cap.release()\n",
    "cv2.destroyAllWindows()"
   ]
  },
  {
   "cell_type": "markdown",
   "id": "220082fa",
   "metadata": {},
   "source": [
    "# Changing properties of VideoCapture object\n",
    "- We can also change cap_pros (capture properties) according to our need using .set( ) function"
   ]
  },
  {
   "cell_type": "code",
   "execution_count": 38,
   "id": "99c9ff3c",
   "metadata": {},
   "outputs": [],
   "source": [
    "cap = cv2.VideoCapture(0)\n",
    "\n",
    "# changing the width and height (resolution) of the cap object\n",
    "\n",
    "cap.set(cv2.CAP_PROP_FRAME_WIDTH,1080)\n",
    "cap.set(cv2.CAP_PROP_FRAME_HEIGHT,720)\n",
    "\n",
    "while cap.isOpened():\n",
    "    res,frame = cap.read()\n",
    "    if res:\n",
    "        cv2.imshow('capture',frame)\n",
    "        if cv2.waitKey(1) & 0xFF == ord('q'):\n",
    "            break\n",
    "    else:\n",
    "        break\n",
    "        \n",
    "cap.release()\n",
    "cv2.destroyAllWindows()"
   ]
  },
  {
   "cell_type": "markdown",
   "id": "57cba1ff",
   "metadata": {},
   "source": [
    "#### Note :\n",
    "- we can set random resolutions, but the device will only adapt to nearest available resolution the camera supports"
   ]
  }
 ],
 "metadata": {
  "kernelspec": {
   "display_name": "Python 3",
   "language": "python",
   "name": "python3"
  },
  "language_info": {
   "codemirror_mode": {
    "name": "ipython",
    "version": 3
   },
   "file_extension": ".py",
   "mimetype": "text/x-python",
   "name": "python",
   "nbconvert_exporter": "python",
   "pygments_lexer": "ipython3",
   "version": "3.8.8"
  }
 },
 "nbformat": 4,
 "nbformat_minor": 5
}

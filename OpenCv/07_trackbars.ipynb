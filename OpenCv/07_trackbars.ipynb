{
 "cells": [
  {
   "cell_type": "code",
   "execution_count": 1,
   "id": "2deae9b8",
   "metadata": {},
   "outputs": [
    {
     "ename": "AttributeError",
     "evalue": "partially initialized module 'cv2' has no attribute 'gapi_wip_gst_GStreamerPipeline' (most likely due to a circular import)",
     "output_type": "error",
     "traceback": [
      "\u001b[1;31m---------------------------------------------------------------------------\u001b[0m",
      "\u001b[1;31mAttributeError\u001b[0m                            Traceback (most recent call last)",
      "\u001b[1;32m<ipython-input-1-e43022223b8c>\u001b[0m in \u001b[0;36m<module>\u001b[1;34m\u001b[0m\n\u001b[1;32m----> 1\u001b[1;33m \u001b[1;32mimport\u001b[0m \u001b[0mcv2\u001b[0m\u001b[1;33m\u001b[0m\u001b[1;33m\u001b[0m\u001b[0m\n\u001b[0m\u001b[0;32m      2\u001b[0m \u001b[1;32mimport\u001b[0m \u001b[0mnumpy\u001b[0m \u001b[1;32mas\u001b[0m \u001b[0mnp\u001b[0m\u001b[1;33m\u001b[0m\u001b[1;33m\u001b[0m\u001b[0m\n\u001b[0;32m      3\u001b[0m \u001b[1;32mimport\u001b[0m \u001b[0mmatplotlib\u001b[0m\u001b[1;33m.\u001b[0m\u001b[0mpyplot\u001b[0m \u001b[1;32mas\u001b[0m \u001b[0mplt\u001b[0m\u001b[1;33m\u001b[0m\u001b[1;33m\u001b[0m\u001b[0m\n",
      "\u001b[1;32mC:\\ProgramData\\Anaconda3\\lib\\site-packages\\cv2\\__init__.py\u001b[0m in \u001b[0;36m<module>\u001b[1;34m\u001b[0m\n\u001b[0;32m    179\u001b[0m \u001b[1;33m\u001b[0m\u001b[0m\n\u001b[0;32m    180\u001b[0m \u001b[1;33m\u001b[0m\u001b[0m\n\u001b[1;32m--> 181\u001b[1;33m \u001b[0mbootstrap\u001b[0m\u001b[1;33m(\u001b[0m\u001b[1;33m)\u001b[0m\u001b[1;33m\u001b[0m\u001b[1;33m\u001b[0m\u001b[0m\n\u001b[0m",
      "\u001b[1;32mC:\\ProgramData\\Anaconda3\\lib\\site-packages\\cv2\\__init__.py\u001b[0m in \u001b[0;36mbootstrap\u001b[1;34m()\u001b[0m\n\u001b[0;32m    173\u001b[0m \u001b[1;33m\u001b[0m\u001b[0m\n\u001b[0;32m    174\u001b[0m     \u001b[1;32mfor\u001b[0m \u001b[0msubmodule\u001b[0m \u001b[1;32min\u001b[0m \u001b[0m__collect_extra_submodules\u001b[0m\u001b[1;33m(\u001b[0m\u001b[0mDEBUG\u001b[0m\u001b[1;33m)\u001b[0m\u001b[1;33m:\u001b[0m\u001b[1;33m\u001b[0m\u001b[1;33m\u001b[0m\u001b[0m\n\u001b[1;32m--> 175\u001b[1;33m         \u001b[1;32mif\u001b[0m \u001b[0m__load_extra_py_code_for_module\u001b[0m\u001b[1;33m(\u001b[0m\u001b[1;34m\"cv2\"\u001b[0m\u001b[1;33m,\u001b[0m \u001b[0msubmodule\u001b[0m\u001b[1;33m,\u001b[0m \u001b[0mDEBUG\u001b[0m\u001b[1;33m)\u001b[0m\u001b[1;33m:\u001b[0m\u001b[1;33m\u001b[0m\u001b[1;33m\u001b[0m\u001b[0m\n\u001b[0m\u001b[0;32m    176\u001b[0m             \u001b[1;32mif\u001b[0m \u001b[0mDEBUG\u001b[0m\u001b[1;33m:\u001b[0m \u001b[0mprint\u001b[0m\u001b[1;33m(\u001b[0m\u001b[1;34m\"Extra Python code for\"\u001b[0m\u001b[1;33m,\u001b[0m \u001b[0msubmodule\u001b[0m\u001b[1;33m,\u001b[0m \u001b[1;34m\"is loaded\"\u001b[0m\u001b[1;33m)\u001b[0m\u001b[1;33m\u001b[0m\u001b[1;33m\u001b[0m\u001b[0m\n\u001b[0;32m    177\u001b[0m \u001b[1;33m\u001b[0m\u001b[0m\n",
      "\u001b[1;32mC:\\ProgramData\\Anaconda3\\lib\\site-packages\\cv2\\__init__.py\u001b[0m in \u001b[0;36m__load_extra_py_code_for_module\u001b[1;34m(base, name, enable_debug_print)\u001b[0m\n\u001b[0;32m     26\u001b[0m     \u001b[0mnative_module\u001b[0m \u001b[1;33m=\u001b[0m \u001b[0msys\u001b[0m\u001b[1;33m.\u001b[0m\u001b[0mmodules\u001b[0m\u001b[1;33m.\u001b[0m\u001b[0mpop\u001b[0m\u001b[1;33m(\u001b[0m\u001b[0mmodule_name\u001b[0m\u001b[1;33m,\u001b[0m \u001b[1;32mNone\u001b[0m\u001b[1;33m)\u001b[0m\u001b[1;33m\u001b[0m\u001b[1;33m\u001b[0m\u001b[0m\n\u001b[0;32m     27\u001b[0m     \u001b[1;32mtry\u001b[0m\u001b[1;33m:\u001b[0m\u001b[1;33m\u001b[0m\u001b[1;33m\u001b[0m\u001b[0m\n\u001b[1;32m---> 28\u001b[1;33m         \u001b[0mpy_module\u001b[0m \u001b[1;33m=\u001b[0m \u001b[0mimportlib\u001b[0m\u001b[1;33m.\u001b[0m\u001b[0mimport_module\u001b[0m\u001b[1;33m(\u001b[0m\u001b[0mmodule_name\u001b[0m\u001b[1;33m)\u001b[0m\u001b[1;33m\u001b[0m\u001b[1;33m\u001b[0m\u001b[0m\n\u001b[0m\u001b[0;32m     29\u001b[0m     \u001b[1;32mexcept\u001b[0m \u001b[0mImportError\u001b[0m \u001b[1;32mas\u001b[0m \u001b[0merr\u001b[0m\u001b[1;33m:\u001b[0m\u001b[1;33m\u001b[0m\u001b[1;33m\u001b[0m\u001b[0m\n\u001b[0;32m     30\u001b[0m         \u001b[1;32mif\u001b[0m \u001b[0menable_debug_print\u001b[0m\u001b[1;33m:\u001b[0m\u001b[1;33m\u001b[0m\u001b[1;33m\u001b[0m\u001b[0m\n",
      "\u001b[1;32mC:\\ProgramData\\Anaconda3\\lib\\importlib\\__init__.py\u001b[0m in \u001b[0;36mimport_module\u001b[1;34m(name, package)\u001b[0m\n\u001b[0;32m    125\u001b[0m                 \u001b[1;32mbreak\u001b[0m\u001b[1;33m\u001b[0m\u001b[1;33m\u001b[0m\u001b[0m\n\u001b[0;32m    126\u001b[0m             \u001b[0mlevel\u001b[0m \u001b[1;33m+=\u001b[0m \u001b[1;36m1\u001b[0m\u001b[1;33m\u001b[0m\u001b[1;33m\u001b[0m\u001b[0m\n\u001b[1;32m--> 127\u001b[1;33m     \u001b[1;32mreturn\u001b[0m \u001b[0m_bootstrap\u001b[0m\u001b[1;33m.\u001b[0m\u001b[0m_gcd_import\u001b[0m\u001b[1;33m(\u001b[0m\u001b[0mname\u001b[0m\u001b[1;33m[\u001b[0m\u001b[0mlevel\u001b[0m\u001b[1;33m:\u001b[0m\u001b[1;33m]\u001b[0m\u001b[1;33m,\u001b[0m \u001b[0mpackage\u001b[0m\u001b[1;33m,\u001b[0m \u001b[0mlevel\u001b[0m\u001b[1;33m)\u001b[0m\u001b[1;33m\u001b[0m\u001b[1;33m\u001b[0m\u001b[0m\n\u001b[0m\u001b[0;32m    128\u001b[0m \u001b[1;33m\u001b[0m\u001b[0m\n\u001b[0;32m    129\u001b[0m \u001b[1;33m\u001b[0m\u001b[0m\n",
      "\u001b[1;32mC:\\ProgramData\\Anaconda3\\lib\\site-packages\\cv2\\gapi\\__init__.py\u001b[0m in \u001b[0;36m<module>\u001b[1;34m\u001b[0m\n\u001b[0;32m    288\u001b[0m \u001b[1;33m\u001b[0m\u001b[0m\n\u001b[0;32m    289\u001b[0m \u001b[1;33m\u001b[0m\u001b[0m\n\u001b[1;32m--> 290\u001b[1;33m \u001b[0mcv\u001b[0m\u001b[1;33m.\u001b[0m\u001b[0mgapi\u001b[0m\u001b[1;33m.\u001b[0m\u001b[0mwip\u001b[0m\u001b[1;33m.\u001b[0m\u001b[0mGStreamerPipeline\u001b[0m \u001b[1;33m=\u001b[0m \u001b[0mcv\u001b[0m\u001b[1;33m.\u001b[0m\u001b[0mgapi_wip_gst_GStreamerPipeline\u001b[0m\u001b[1;33m\u001b[0m\u001b[1;33m\u001b[0m\u001b[0m\n\u001b[0m",
      "\u001b[1;31mAttributeError\u001b[0m: partially initialized module 'cv2' has no attribute 'gapi_wip_gst_GStreamerPipeline' (most likely due to a circular import)"
     ]
    }
   ],
   "source": [
    "import cv2\n",
    "import numpy as np\n",
    "import matplotlib.pyplot as plt"
   ]
  },
  {
   "cell_type": "markdown",
   "id": "f914867c",
   "metadata": {},
   "source": [
    "# Trackbars\n",
    "- Trackbars are used to change the image dynamically in opencv\n",
    "- we can have as many trackbars as we want\n",
    "- we can open trackbars on same or different windows"
   ]
  },
  {
   "cell_type": "markdown",
   "id": "08d957f8",
   "metadata": {},
   "source": [
    "### Application 1 :\n",
    "- Changing color dynamically using trackbars\n",
    "- Implementing a switch trackbar such that:\n",
    "    - If the switch is off then color change won't reflect\n",
    "    - If the switch us on then color change will be reflected"
   ]
  },
  {
   "cell_type": "code",
   "execution_count": null,
   "id": "e9066ff8",
   "metadata": {},
   "outputs": [],
   "source": [
    "# functions to which trackbar sends position\n",
    "R = 0\n",
    "G = 0\n",
    "B = 0\n",
    "\n",
    "S = 0 # for switch\n",
    "\n",
    "def change_color():\n",
    "    global R,G,B,S\n",
    "    \n",
    "    if S:\n",
    "        img[:] = [B,G,R]\n",
    "        cv2.imshow('Image_window',img)\n",
    "\n",
    "def func_red(pos):\n",
    "    global R,G,B\n",
    "    R = pos\n",
    "    change_color()\n",
    "    \n",
    "def func_green(pos):\n",
    "    global R,G,B\n",
    "    G = pos\n",
    "    change_color()\n",
    "    \n",
    "def func_blue(pos):\n",
    "    global R,G,B\n",
    "    B = pos\n",
    "    change_color()\n",
    "    \n",
    "def func_switch(pos):\n",
    "    global S\n",
    "    S = pos"
   ]
  },
  {
   "cell_type": "code",
   "execution_count": null,
   "id": "b7f81839",
   "metadata": {
    "scrolled": true
   },
   "outputs": [],
   "source": [
    "img = np.zeros((200,200,3),dtype = 'uint8')\n",
    "\n",
    "# creating a named_window for trackbar\n",
    "# The name will be accessible as a window everywhere\n",
    "cv2.namedWindow('Trackbar_window')\n",
    "\n",
    "# create trackbar takes following attributes:\n",
    "    # trackbar name : to be displayed in the window\n",
    "    # window name : thw window on which to be displayed\n",
    "    # value : starting value of the trackbar\n",
    "    # count : ending number of the trackbar\n",
    "    # onChange : a function to which it passes the current position of the trackbar\n",
    "\n",
    "# creating trackbar for adjusting R,B,G values\n",
    "cv2.createTrackbar('R','Trackbar_window',0,255,func_red)\n",
    "cv2.createTrackbar('G','Trackbar_window',0,255,func_green)\n",
    "cv2.createTrackbar('B','Trackbar_window',0,255,func_blue)\n",
    "\n",
    "# creating trackbar for switch\n",
    "Switch = cv2.createTrackbar('On/Off','Trackbar_window',0,1,func_switch)\n",
    "\n",
    "cv2.imshow(\"Image_window\",img)\n",
    "cv2.waitKey(0)\n",
    "cv2.destroyAllWindows()"
   ]
  },
  {
   "cell_type": "markdown",
   "id": "f311b0ea",
   "metadata": {},
   "source": [
    "### Application 2:\n",
    "- Print a message on the image and provide controls to modify the text"
   ]
  },
  {
   "cell_type": "code",
   "execution_count": null,
   "id": "e188f053",
   "metadata": {},
   "outputs": [],
   "source": [
    "x = 0\n",
    "y = 0\n",
    "font_face = cv2.FONT_HERSHEY_COMPLEX\n",
    "font_scale = 1\n",
    "font_thickness = 1\n",
    "line_type = cv2.LINE_4 \n",
    "\n",
    "def update_image():\n",
    "    global x,y,font_face,font_scale,font_thickness,line_type\n",
    "    \n",
    "    img = img2.copy()\n",
    "    cv2.putText(img,'Dummy Text',(x,y),font_face,font_scale,(0,0,0),font_thickness,line_type)\n",
    "    cv2.imshow('Image_window',img)\n",
    "\n",
    "def func_h_shift(pos):\n",
    "    global x\n",
    "    x = pos \n",
    "    update_image()\n",
    "    \n",
    "def func_v_shift(pos):\n",
    "    global y\n",
    "    y = pos \n",
    "    update_image()\n",
    "    \n",
    "def func_font(pos):\n",
    "    global font_face\n",
    "    \n",
    "    fonts = [cv2.FONT_HERSHEY_COMPLEX,cv2.FONT_HERSHEY_COMPLEX_SMALL,cv2.FONT_HERSHEY_DUPLEX,\n",
    "             cv2.FONT_HERSHEY_PLAIN,cv2.FONT_HERSHEY_SCRIPT_COMPLEX,cv2.FONT_HERSHEY_SCRIPT_SIMPLEX,\n",
    "             cv2.FONT_HERSHEY_SIMPLEX,cv2.FONT_HERSHEY_TRIPLEX,cv2.FONT_ITALIC]\n",
    "    \n",
    "    font_face = fonts[pos]\n",
    "    update_image()\n",
    "    \n",
    "def func_scale(pos):\n",
    "    global font_scale\n",
    "    font_scale = pos\n",
    "    update_image()\n",
    "    \n",
    "def func_thickness(pos):\n",
    "    global font_thickness\n",
    "    font_thickness = pos\n",
    "    update_image()\n",
    "    \n",
    "def func_l_type(pos):\n",
    "    global line_type\n",
    "    \n",
    "    lines = [cv2.LINE_4,cv2.LINE_8,cv2.LINE_AA]\n",
    "    line_type = lines[pos]\n",
    "    update_image()"
   ]
  },
  {
   "cell_type": "code",
   "execution_count": null,
   "id": "b329cc32",
   "metadata": {},
   "outputs": [],
   "source": [
    "img = cv2.imread('./Images/08.png')\n",
    "img2 = img.copy()\n",
    "\n",
    "cv2.namedWindow('Trackbar_window')\n",
    "\n",
    "cv2.createTrackbar('h_shift','Trackbar_window',0,270,func_h_shift)\n",
    "cv2.createTrackbar('v_shift','Trackbar_window',0,486,func_v_shift)\n",
    "cv2.createTrackbar('font','Trackbar_window',0,8,func_font)\n",
    "cv2.createTrackbar('scale','Trackbar_window',0,8,func_scale)\n",
    "cv2.createTrackbar('thickness','Trackbar_window',0,8,func_thickness)\n",
    "cv2.createTrackbar('l_type','Trackbar_window',0,2,func_l_type)\n",
    "\n",
    "cv2.putText(img,'Dummy Text',(x,y),font_face,font_scale,(0,0,0),font_thickness,line_type)\n",
    "\n",
    "cv2.imshow('Image_window',img)\n",
    "cv2.waitKey(0)\n",
    "cv2.destroyAllWindows()"
   ]
  },
  {
   "cell_type": "markdown",
   "id": "904a9506",
   "metadata": {},
   "source": [
    "# Note\n",
    "- There is a method : cv2.getTrackbarPos( ) which provides the position returned by the trackbar elment\n",
    "- So we can use the position outside the functions\n",
    "- It takes two arguments : \n",
    "    - Trackbar name \n",
    "    - Window name"
   ]
  }
 ],
 "metadata": {
  "kernelspec": {
   "display_name": "Python 3",
   "language": "python",
   "name": "python3"
  },
  "language_info": {
   "codemirror_mode": {
    "name": "ipython",
    "version": 3
   },
   "file_extension": ".py",
   "mimetype": "text/x-python",
   "name": "python",
   "nbconvert_exporter": "python",
   "pygments_lexer": "ipython3",
   "version": "3.8.8"
  }
 },
 "nbformat": 4,
 "nbformat_minor": 5
}

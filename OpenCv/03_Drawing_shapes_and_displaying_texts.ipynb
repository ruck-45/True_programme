{
 "cells": [
  {
   "cell_type": "code",
   "execution_count": 1,
   "id": "0629d7de",
   "metadata": {},
   "outputs": [],
   "source": [
    "import cv2\n",
    "import numpy as np"
   ]
  },
  {
   "cell_type": "markdown",
   "id": "cdff131c",
   "metadata": {},
   "source": [
    "# Drawing line"
   ]
  },
  {
   "cell_type": "code",
   "execution_count": 29,
   "id": "1078a9cc",
   "metadata": {},
   "outputs": [],
   "source": [
    "img = cv2.imread('./Images/06.jpeg',1)\n",
    "\n",
    "# drawing a line\n",
    "#     parameters :  image/frame\n",
    "#                   start_point : coordinates\n",
    "#                   end_point : coordinates\n",
    "#                   color : BGR format\n",
    "#                   thickness\n",
    "\n",
    "img = cv2.line(img,(0,100),(100,100),(45,100,255),2)\n",
    "\n",
    "cv2.imshow('image',img)\n",
    "cv2.waitKey(0)\n",
    "cv2.destroyAllWindows()"
   ]
  },
  {
   "cell_type": "markdown",
   "id": "3cc48c71",
   "metadata": {},
   "source": [
    "# Drawing arrowed line"
   ]
  },
  {
   "cell_type": "code",
   "execution_count": 30,
   "id": "25a33523",
   "metadata": {},
   "outputs": [],
   "source": [
    "img = cv2.imread('./Images/06.jpeg',1)\n",
    "\n",
    "# drawing arrowed line\n",
    "#     parameters :  image/frame\n",
    "#                   start_point : coordinates\n",
    "#                   end_point : coordinates\n",
    "#                   color : BGR format\n",
    "#                   thickness\n",
    "\n",
    "img = cv2.arrowedLine(img,(0,100),(100,100),(45,100,255),2)\n",
    "\n",
    "cv2.imshow('image',img)\n",
    "cv2.waitKey(0)\n",
    "cv2.destroyAllWindows()"
   ]
  },
  {
   "cell_type": "markdown",
   "id": "28b2d0b3",
   "metadata": {},
   "source": [
    "# Drawing rectangle"
   ]
  },
  {
   "cell_type": "code",
   "execution_count": 31,
   "id": "159143c2",
   "metadata": {},
   "outputs": [],
   "source": [
    "img = cv2.imread('./Images/06.jpeg',1)\n",
    "\n",
    "# drawing arrowed rectangle\n",
    "#     parameters :  image/frame\n",
    "#                   left_corner : coordinates\n",
    "#                   right_corner : coordinates\n",
    "#                   color : BGR format\n",
    "#                   thickness\n",
    "\n",
    "img = cv2.rectangle(img,(0,0),(100,100),(45,100,255),2)\n",
    "\n",
    "cv2.imshow('image',img)\n",
    "cv2.waitKey(0)\n",
    "cv2.destroyAllWindows()"
   ]
  },
  {
   "cell_type": "code",
   "execution_count": 33,
   "id": "a7e58f56",
   "metadata": {},
   "outputs": [],
   "source": [
    "img = cv2.imread('./Images/06.jpeg',1)\n",
    "\n",
    "# If we provide -1 in place of thickness then it will fill color the entire shape\n",
    "\n",
    "img = cv2.rectangle(img,(0,0),(100,100),(45,100,255),-1)\n",
    "\n",
    "cv2.imshow('image',img)\n",
    "cv2.waitKey(0)\n",
    "cv2.destroyAllWindows()"
   ]
  },
  {
   "cell_type": "markdown",
   "id": "9f69bb9b",
   "metadata": {},
   "source": [
    "# Drawing Circle"
   ]
  },
  {
   "cell_type": "code",
   "execution_count": 34,
   "id": "ea4ebe4f",
   "metadata": {},
   "outputs": [],
   "source": [
    "img = cv2.imread('./Images/06.jpeg',1)\n",
    "\n",
    "# drawing arrowed rectangle\n",
    "#     parameters :  image/frame\n",
    "#                   center : coordinates\n",
    "#                   radius\n",
    "#                   color : BGR format\n",
    "#                   thickness\n",
    "\n",
    "img = cv2.circle(img,(150,150),45,(45,100,255),2)\n",
    "\n",
    "cv2.imshow('image',img)\n",
    "cv2.waitKey(0)\n",
    "cv2.destroyAllWindows()"
   ]
  },
  {
   "cell_type": "code",
   "execution_count": 35,
   "id": "deba2351",
   "metadata": {},
   "outputs": [],
   "source": [
    "img = cv2.imread('./Images/06.jpeg',1)\n",
    "\n",
    "# fill color\n",
    "\n",
    "img = cv2.circle(img,(150,150),45,(45,100,255),-1)\n",
    "\n",
    "cv2.imshow('image',img)\n",
    "cv2.waitKey(0)\n",
    "cv2.destroyAllWindows()"
   ]
  },
  {
   "cell_type": "markdown",
   "id": "2dcdaa99",
   "metadata": {},
   "source": [
    "# Drawing  ellipse"
   ]
  },
  {
   "cell_type": "code",
   "execution_count": 57,
   "id": "485d7844",
   "metadata": {},
   "outputs": [],
   "source": [
    "img = cv2.imread('./Images/06.jpeg',1)\n",
    "\n",
    "# drawing arrowed rectangle\n",
    "#     parameters :  image/frame\n",
    "#                   center : coordinates\n",
    "#                   axes\n",
    "#                   angle\n",
    "#                   start_angle\n",
    "#                   end_angle\n",
    "#                   color : BGR format\n",
    "#                   thickness\n",
    "\n",
    "img = cv2.ellipse(img,(150,150),(100,50),0,0,360,(45,100,255),2)\n",
    "# img = cv2.ellipse(img,(150,150),(100,50),0,200,360,(45,100,255),2)\n",
    "# img = cv2.ellipse(img,(150,150),(100,50),0,0,270,(45,100,255),2)\n",
    "# img = cv2.ellipse(img,(150,150),(100,50),45,0,360,(45,100,255),2)\n",
    "\n",
    "cv2.imshow('image',img)\n",
    "cv2.waitKey(0)\n",
    "cv2.destroyAllWindows()"
   ]
  },
  {
   "cell_type": "markdown",
   "id": "4a291243",
   "metadata": {},
   "source": [
    "# Drawing polygons"
   ]
  },
  {
   "cell_type": "code",
   "execution_count": 90,
   "id": "027b18bf",
   "metadata": {},
   "outputs": [],
   "source": [
    "img = cv2.imread('./Images/06.jpeg',1)\n",
    "\n",
    "# drawing arrowed rectangle\n",
    "#     parameters :  image/frame\n",
    "#                   pts : coordinates of all vertices\n",
    "#                   isClosed : if the polygon is closed (Boolean)\n",
    "#                   color : BGR format\n",
    "#                   thickness\n",
    "\n",
    "\n",
    "# Note : pts should be a 3D numpy array, containing vertices, each vertice must be a 2D array\n",
    "pts = np.array([[[25, 70]], [[25, 100]], [[100, 101]]])\n",
    "\n",
    "# img = cv2.polylines(img,[pts],True,(45,100,255),2) # isClosed True\n",
    "img = cv2.polylines(img,[pts],False,(45,100,255),2) # isClosed False\n",
    "\n",
    "cv2.imshow('image',img)\n",
    "cv2.waitKey(0)\n",
    "cv2.destroyAllWindows()"
   ]
  },
  {
   "cell_type": "markdown",
   "id": "af5834ca",
   "metadata": {},
   "source": [
    "# Print Texts"
   ]
  },
  {
   "cell_type": "code",
   "execution_count": 99,
   "id": "de3903fa",
   "metadata": {},
   "outputs": [],
   "source": [
    "img = cv2.imread('./Images/06.jpeg',1)\n",
    "\n",
    "# drawing arrowed rectangle\n",
    "#     parameters :  image/frame\n",
    "#                   text : text message\n",
    "#                   org : origing, where the text will start\n",
    "#                   fontface : fontstyle\n",
    "#                   fontScale : size\n",
    "#                   color\n",
    "#                   thickness\n",
    "#                   lineType\n",
    "\n",
    "font = cv2.FONT_HERSHEY_SCRIPT_SIMPLEX\n",
    "line_type = cv2.LINE_AA\n",
    "img = cv2.putText(img,'Twitter',(10,140),font,0.8,(0,0,255),1,line_type)\n",
    "\n",
    "cv2.imshow('image',img)\n",
    "cv2.waitKey(0)\n",
    "cv2.destroyAllWindows()"
   ]
  },
  {
   "cell_type": "markdown",
   "id": "a897ac28",
   "metadata": {},
   "source": [
    "# Creating black and white boxes\n",
    "- we can create white and black boxes of desired shape using np.zeros and np.ones"
   ]
  },
  {
   "cell_type": "code",
   "execution_count": 9,
   "id": "7c323fac",
   "metadata": {},
   "outputs": [],
   "source": [
    "# black box\n",
    "\n",
    "img = np.zeros((270,270))\n",
    "img = cv2.rectangle(img,(20,20),(100,100),(255,255,255),2)\n",
    "cv2.imshow('image',img)\n",
    "cv2.waitKey(0)\n",
    "cv2.destroyAllWindows()"
   ]
  },
  {
   "cell_type": "code",
   "execution_count": 10,
   "id": "56307646",
   "metadata": {},
   "outputs": [],
   "source": [
    "# white box\n",
    "\n",
    "img = np.ones((270,270))\n",
    "img = cv2.rectangle(img,(20,20),(100,100),(0,0,0),2)\n",
    "cv2.imshow('image',img)\n",
    "cv2.waitKey(0)\n",
    "cv2.destroyAllWindows()"
   ]
  },
  {
   "cell_type": "markdown",
   "id": "9214052c",
   "metadata": {},
   "source": [
    "# Displaying live time on a video\n",
    "- we can put our knowledge of printinting texts on images on videos"
   ]
  },
  {
   "cell_type": "code",
   "execution_count": 13,
   "id": "53703245",
   "metadata": {},
   "outputs": [],
   "source": [
    "import datetime"
   ]
  },
  {
   "cell_type": "code",
   "execution_count": 20,
   "id": "990a9b09",
   "metadata": {},
   "outputs": [
    {
     "data": {
      "text/plain": [
       "'2022-08-04 22:53:18.063378'"
      ]
     },
     "execution_count": 20,
     "metadata": {},
     "output_type": "execute_result"
    }
   ],
   "source": [
    "str(datetime.datetime.now())"
   ]
  },
  {
   "cell_type": "code",
   "execution_count": 29,
   "id": "65ac8f48",
   "metadata": {},
   "outputs": [],
   "source": [
    "cap = cv2.VideoCapture(0)\n",
    "\n",
    "while cap.isOpened():\n",
    "    res,frame = cap.read()\n",
    "    if res:\n",
    "        \n",
    "        time = datetime.datetime.now()\n",
    "        \n",
    "        font = cv2.FONT_HERSHEY_SIMPLEX\n",
    "        img = cv2.putText(frame,str(time),(50,50),font,0.8,(0,0,0),1,cv2.LINE_AA)\n",
    "        \n",
    "        cv2.imshow('capture',img)\n",
    "        if cv2.waitKey(1) & 0xFF == ord('q'):\n",
    "            break\n",
    "    else:\n",
    "        break\n",
    "cap.release()\n",
    "cv2.destroyAllWindows()"
   ]
  }
 ],
 "metadata": {
  "kernelspec": {
   "display_name": "Python 3",
   "language": "python",
   "name": "python3"
  },
  "language_info": {
   "codemirror_mode": {
    "name": "ipython",
    "version": 3
   },
   "file_extension": ".py",
   "mimetype": "text/x-python",
   "name": "python",
   "nbconvert_exporter": "python",
   "pygments_lexer": "ipython3",
   "version": "3.8.8"
  }
 },
 "nbformat": 4,
 "nbformat_minor": 5
}

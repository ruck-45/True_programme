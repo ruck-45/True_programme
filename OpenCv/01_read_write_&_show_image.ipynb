{
 "cells": [
  {
   "cell_type": "code",
   "execution_count": 1,
   "id": "6bac9585",
   "metadata": {},
   "outputs": [],
   "source": [
    "import cv2\n",
    "import pandas as pd\n",
    "import numpy as np\n",
    "import matplotlib.pyplot as plt"
   ]
  },
  {
   "cell_type": "code",
   "execution_count": 2,
   "id": "6f210fb1",
   "metadata": {},
   "outputs": [],
   "source": [
    "import matplotlib"
   ]
  },
  {
   "cell_type": "code",
   "execution_count": 3,
   "id": "313379f3",
   "metadata": {},
   "outputs": [
    {
     "name": "stdout",
     "output_type": "stream",
     "text": [
      "4.5.4-dev\n",
      "1.23.1\n",
      "1.4.1\n",
      "3.3.4\n"
     ]
    }
   ],
   "source": [
    "# versions\n",
    "\n",
    "print(cv2.__version__)\n",
    "print(np.__version__)\n",
    "print(pd.__version__)\n",
    "print(matplotlib.__version__)"
   ]
  },
  {
   "cell_type": "markdown",
   "id": "0bd96517",
   "metadata": {},
   "source": [
    "# Reading Image "
   ]
  },
  {
   "cell_type": "code",
   "execution_count": 4,
   "id": "ceac032e",
   "metadata": {},
   "outputs": [
    {
     "data": {
      "text/plain": [
       "numpy.ndarray"
      ]
     },
     "execution_count": 4,
     "metadata": {},
     "output_type": "execute_result"
    }
   ],
   "source": [
    "img = cv2.imread('./Images/01.jpg') # returns a numpy array of the image\n",
    "type(img)"
   ]
  },
  {
   "cell_type": "markdown",
   "id": "261b117e",
   "metadata": {},
   "source": [
    "- imread has flags to read images differently\n",
    "- Flags can be of value:\n",
    "    - 1 : read the colored image\n",
    "    - 0 : read the grascale of the image\n",
    "    - -1 : read image as it is with the alpha channels (opacity / transperency)"
   ]
  },
  {
   "cell_type": "markdown",
   "id": "d0263aa2",
   "metadata": {},
   "source": [
    "# Displaying Image"
   ]
  },
  {
   "cell_type": "code",
   "execution_count": 5,
   "id": "b1efc23c",
   "metadata": {},
   "outputs": [
    {
     "name": "stdout",
     "output_type": "stream",
     "text": [
      "115\n"
     ]
    }
   ],
   "source": [
    "# The image below is not fully shown as the image size is 4k, so it produces the image at its original size\n",
    "# A 4k size display will be able to show the full image\n",
    "\n",
    "# flag = 0\n",
    "\n",
    "img = cv2.imread('./Images/01.jpg',0) # reading the grayscale version of image\n",
    "\n",
    "cv2.imshow('Image',img) # take two argumnets, one for window name in which it will show image and second is the image itself\n",
    "\n",
    "print(cv2.waitKey(0)) # if integer value provided it will wait for that much seconds, \n",
    "               # else if value = 0, then it will wait indefinitely until a key is pressed\n",
    "               # Once the wait is finished it ges on executing the next statement\n",
    "               # if the value is set to 0, it returns the key is pressed (Esc = 27)\n",
    "            \n",
    "cv2.destroyAllWindows() # to destroy/close all windows opened"
   ]
  },
  {
   "cell_type": "code",
   "execution_count": 6,
   "id": "b7ec679a",
   "metadata": {},
   "outputs": [],
   "source": [
    "# flag = -1\n",
    "\n",
    "img = cv2.imread('./Images/01.jpg',-1)\n",
    "cv2.imshow('Og_Image',img)\n",
    "cv2.waitKey(5000) # 5000 == 5 seconds\n",
    "cv2.destroyAllWindows()"
   ]
  },
  {
   "cell_type": "markdown",
   "id": "43c4d993",
   "metadata": {},
   "source": [
    "# Saving an Image"
   ]
  },
  {
   "cell_type": "code",
   "execution_count": 7,
   "id": "cbd6fd22",
   "metadata": {},
   "outputs": [
    {
     "data": {
      "text/plain": [
       "True"
      ]
     },
     "execution_count": 7,
     "metadata": {},
     "output_type": "execute_result"
    }
   ],
   "source": [
    "gray_scaled_img = cv2.imread('./Images/01.jpg',0)\n",
    "cv2.imwrite('./Images/01_gray_sacaled.jpg',gray_scaled_img)"
   ]
  },
  {
   "cell_type": "markdown",
   "id": "9590388c",
   "metadata": {},
   "source": [
    "# Excercise"
   ]
  },
  {
   "cell_type": "code",
   "execution_count": 8,
   "id": "04c77884",
   "metadata": {},
   "outputs": [],
   "source": [
    "# reading an image grayscaled and save only when 's' key is pressed\n",
    "\n",
    "image = cv2.imread('./Images/02.jpg',0)\n",
    "cv2.imshow('Image',image)\n",
    "key = cv2.waitKey(0)\n",
    "\n",
    "if key == 115: # 115 for 's'\n",
    "    cv2.imwrite('./Images/02_grayscaled.jpg',image)\n",
    "cv2.destroyAllWindows()"
   ]
  }
 ],
 "metadata": {
  "kernelspec": {
   "display_name": "Python 3",
   "language": "python",
   "name": "python3"
  },
  "language_info": {
   "codemirror_mode": {
    "name": "ipython",
    "version": 3
   },
   "file_extension": ".py",
   "mimetype": "text/x-python",
   "name": "python",
   "nbconvert_exporter": "python",
   "pygments_lexer": "ipython3",
   "version": "3.8.8"
  }
 },
 "nbformat": 4,
 "nbformat_minor": 5
}

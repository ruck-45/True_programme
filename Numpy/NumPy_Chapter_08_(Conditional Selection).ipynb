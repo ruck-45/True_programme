{
 "cells": [
  {
   "cell_type": "markdown",
   "id": "b233585f",
   "metadata": {},
   "source": [
    "# Chapter 5 (Conditional Selection)"
   ]
  },
  {
   "cell_type": "code",
   "execution_count": 1,
   "id": "a201199c",
   "metadata": {},
   "outputs": [],
   "source": [
    "import numpy as np"
   ]
  },
  {
   "cell_type": "code",
   "execution_count": 24,
   "id": "36f94b0f",
   "metadata": {},
   "outputs": [
    {
     "data": {
      "text/plain": [
       "array([[ 9,  6, 13,  6,  8],\n",
       "       [ 1, 13, 12,  8, 12],\n",
       "       [ 6,  7, 14,  2, 14],\n",
       "       [ 8,  1, 11,  5, 10],\n",
       "       [ 8,  6,  4, 13, 14],\n",
       "       [13, 14,  7,  9,  3],\n",
       "       [ 2,  2,  1,  6, 11]])"
      ]
     },
     "execution_count": 24,
     "metadata": {},
     "output_type": "execute_result"
    }
   ],
   "source": [
    "np.random.seed(15)\n",
    "\n",
    "arr = np.random.randint(1,15,(7,5))\n",
    "arr"
   ]
  },
  {
   "cell_type": "code",
   "execution_count": 11,
   "id": "ff7515b2",
   "metadata": {},
   "outputs": [
    {
     "data": {
      "text/plain": [
       "array([[False, False,  True, False, False],\n",
       "       [False,  True,  True, False,  True],\n",
       "       [False, False,  True, False,  True],\n",
       "       [False, False,  True, False, False],\n",
       "       [False, False, False,  True,  True],\n",
       "       [ True,  True, False, False, False],\n",
       "       [False, False, False, False,  True]])"
      ]
     },
     "execution_count": 11,
     "metadata": {},
     "output_type": "execute_result"
    }
   ],
   "source": [
    "temp = arr>10\n",
    "temp"
   ]
  },
  {
   "cell_type": "code",
   "execution_count": 12,
   "id": "7b01054a",
   "metadata": {},
   "outputs": [
    {
     "data": {
      "text/plain": [
       "array([13, 13, 12, 12, 14, 14, 11, 13, 14, 13, 14, 11])"
      ]
     },
     "execution_count": 12,
     "metadata": {},
     "output_type": "execute_result"
    }
   ],
   "source": [
    "arr[temp]"
   ]
  },
  {
   "cell_type": "code",
   "execution_count": 25,
   "id": "731ee9b2",
   "metadata": {},
   "outputs": [
    {
     "data": {
      "text/plain": [
       "array([ 6,  6,  8, 12,  8, 12,  6, 14,  2, 14,  8, 10,  8,  6,  4, 14, 14,\n",
       "        2,  2,  6])"
      ]
     },
     "execution_count": 25,
     "metadata": {},
     "output_type": "execute_result"
    }
   ],
   "source": [
    "arr[arr%2==0]"
   ]
  },
  {
   "cell_type": "code",
   "execution_count": 26,
   "id": "1dcfe5c3",
   "metadata": {},
   "outputs": [
    {
     "data": {
      "text/plain": [
       "array([[ 9,  1, 13,  1,  1],\n",
       "       [ 1, 13,  1,  1,  1],\n",
       "       [ 1,  7,  1,  1,  1],\n",
       "       [ 1,  1, 11,  5,  1],\n",
       "       [ 1,  1,  1, 13,  1],\n",
       "       [13,  1,  7,  9,  3],\n",
       "       [ 1,  1,  1,  1, 11]])"
      ]
     },
     "execution_count": 26,
     "metadata": {},
     "output_type": "execute_result"
    }
   ],
   "source": [
    "arr[(arr)%2==0] = 1\n",
    "arr"
   ]
  }
 ],
 "metadata": {
  "kernelspec": {
   "display_name": "Python 3",
   "language": "python",
   "name": "python3"
  },
  "language_info": {
   "codemirror_mode": {
    "name": "ipython",
    "version": 3
   },
   "file_extension": ".py",
   "mimetype": "text/x-python",
   "name": "python",
   "nbconvert_exporter": "python",
   "pygments_lexer": "ipython3",
   "version": "3.8.8"
  }
 },
 "nbformat": 4,
 "nbformat_minor": 5
}

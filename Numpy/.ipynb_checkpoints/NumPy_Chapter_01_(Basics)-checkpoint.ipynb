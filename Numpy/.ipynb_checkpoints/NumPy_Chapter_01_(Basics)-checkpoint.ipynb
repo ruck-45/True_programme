{
 "cells": [
  {
   "cell_type": "markdown",
   "id": "4e863fed",
   "metadata": {},
   "source": [
    "# Chapter 1 (Basics)"
   ]
  },
  {
   "cell_type": "markdown",
   "id": "dff63482",
   "metadata": {},
   "source": [
    "## Introduction"
   ]
  },
  {
   "cell_type": "markdown",
   "id": "96a12cd2",
   "metadata": {},
   "source": [
    "- Python library designed for scientific computation\n",
    "- NumPy arrays are main ways to use NumPy library\n",
    "- Numpy is very fast compared to Python's list\n",
    "- It is fast because of the binding with c language\n",
    "\n",
    "some terminologies---\n",
    "\n",
    "- 1-d array = Vectors\n",
    "- 2-d array = Matrix \n",
    "- n-d array = Tensor "
   ]
  },
  {
   "cell_type": "markdown",
   "id": "a58ba89c",
   "metadata": {},
   "source": [
    "## Creating A NumPy array"
   ]
  },
  {
   "cell_type": "code",
   "execution_count": 1,
   "id": "de6cfec5",
   "metadata": {},
   "outputs": [],
   "source": [
    "import numpy as np\n",
    "\n",
    "L = [1,2,3,4,5,6,7,8,9]\n",
    "L_2D = [[1,3,5,7,9],[2,4,6,8,10]]\n",
    "L_3D = [[[1,3,5,7,9],[2,4,6,8,10]],[[4,5,6,8,4],[7,9,5,8,4]]]\n",
    "\n",
    "array = np.array(L)\n",
    "array_2D = np.array(L_2D)\n",
    "array_3D = np.array(L_3D)"
   ]
  },
  {
   "cell_type": "code",
   "execution_count": 2,
   "id": "e28321b3",
   "metadata": {},
   "outputs": [
    {
     "name": "stdout",
     "output_type": "stream",
     "text": [
      "<class 'numpy.ndarray'>\n"
     ]
    },
    {
     "data": {
      "text/plain": [
       "array([1, 2, 3, 4, 5, 6, 7, 8, 9])"
      ]
     },
     "execution_count": 2,
     "metadata": {},
     "output_type": "execute_result"
    }
   ],
   "source": [
    "print(type(array))\n",
    "array"
   ]
  },
  {
   "cell_type": "code",
   "execution_count": 3,
   "id": "ae09ad89",
   "metadata": {},
   "outputs": [
    {
     "name": "stdout",
     "output_type": "stream",
     "text": [
      "<class 'numpy.ndarray'>\n"
     ]
    },
    {
     "data": {
      "text/plain": [
       "array([[ 1,  3,  5,  7,  9],\n",
       "       [ 2,  4,  6,  8, 10]])"
      ]
     },
     "execution_count": 3,
     "metadata": {},
     "output_type": "execute_result"
    }
   ],
   "source": [
    "print(type(array_2D))\n",
    "array_2D"
   ]
  },
  {
   "cell_type": "code",
   "execution_count": 4,
   "id": "85025179",
   "metadata": {},
   "outputs": [
    {
     "name": "stdout",
     "output_type": "stream",
     "text": [
      "<class 'numpy.ndarray'>\n"
     ]
    },
    {
     "data": {
      "text/plain": [
       "array([[[ 1,  3,  5,  7,  9],\n",
       "        [ 2,  4,  6,  8, 10]],\n",
       "\n",
       "       [[ 4,  5,  6,  8,  4],\n",
       "        [ 7,  9,  5,  8,  4]]])"
      ]
     },
     "execution_count": 4,
     "metadata": {},
     "output_type": "execute_result"
    }
   ],
   "source": [
    "print(type(array_3D))\n",
    "array_3D"
   ]
  },
  {
   "cell_type": "markdown",
   "id": "63db2191",
   "metadata": {},
   "source": [
    "Therory :\n",
    "\n",
    "- NumPy arrays only store a *single data type*.\n",
    "- It implicitly changes data type if there are many present."
   ]
  },
  {
   "cell_type": "code",
   "execution_count": 5,
   "id": "b2fcf979",
   "metadata": {},
   "outputs": [
    {
     "name": "stdout",
     "output_type": "stream",
     "text": [
      "int32\n"
     ]
    },
    {
     "data": {
      "text/plain": [
       "array([1, 2, 3, 4, 5, 6, 7, 8, 9])"
      ]
     },
     "execution_count": 5,
     "metadata": {},
     "output_type": "execute_result"
    }
   ],
   "source": [
    "# all int , no problem\n",
    "\n",
    "L = [1,2,3,4,5,6,7,8,9]\n",
    "\n",
    "array = np.array(L)\n",
    "print(array.dtype)\n",
    "array"
   ]
  },
  {
   "cell_type": "code",
   "execution_count": 6,
   "id": "d860371b",
   "metadata": {},
   "outputs": [
    {
     "name": "stdout",
     "output_type": "stream",
     "text": [
      "float64\n"
     ]
    },
    {
     "data": {
      "text/plain": [
       "array([1.  , 2.  , 3.  , 4.  , 5.57, 6.  , 7.  , 8.  , 9.  ])"
      ]
     },
     "execution_count": 6,
     "metadata": {},
     "output_type": "execute_result"
    }
   ],
   "source": [
    "# one float data, changed the whole array type to float \n",
    "\n",
    "L = [1, 2, 3, 4, 5.57, 6, 7, 8, 9]\n",
    "\n",
    "array = np.array(L)\n",
    "print(array.dtype)\n",
    "array"
   ]
  },
  {
   "cell_type": "code",
   "execution_count": 7,
   "id": "88380f11",
   "metadata": {},
   "outputs": [
    {
     "name": "stdout",
     "output_type": "stream",
     "text": [
      "<U32\n"
     ]
    },
    {
     "data": {
      "text/plain": [
       "array(['1', '2', '3', '4', '5.57', '6', '7', '8', '9', 'harsh vashista',\n",
       "       'True', 'False'], dtype='<U32')"
      ]
     },
     "execution_count": 7,
     "metadata": {},
     "output_type": "execute_result"
    }
   ],
   "source": [
    "# one str data, changed rhe whole arry type to str\n",
    "\n",
    "L = [1,2,3,4,5.57,6,7,8,9,'harsh vashista',True,False]\n",
    "\n",
    "array = np.array(L)\n",
    "print(array.dtype)\n",
    "array"
   ]
  },
  {
   "cell_type": "code",
   "execution_count": 8,
   "id": "db394f27",
   "metadata": {},
   "outputs": [
    {
     "name": "stdout",
     "output_type": "stream",
     "text": [
      "int32\n"
     ]
    },
    {
     "data": {
      "text/plain": [
       "array([1, 2, 3, 4, 5, 6, 7, 8, 9, 1, 0])"
      ]
     },
     "execution_count": 8,
     "metadata": {},
     "output_type": "execute_result"
    }
   ],
   "source": [
    "# boolean datas are converted to int , in presence of integers\n",
    "# True = 1\n",
    "# False = 0\n",
    "\n",
    "L = [1,2,3,4,5,6,7,8,9,True,False]\n",
    "\n",
    "array = np.array(L)\n",
    "print(array.dtype)\n",
    "array"
   ]
  },
  {
   "cell_type": "code",
   "execution_count": 9,
   "id": "1292d5a4",
   "metadata": {},
   "outputs": [
    {
     "name": "stdout",
     "output_type": "stream",
     "text": [
      "object\n"
     ]
    },
    {
     "data": {
      "text/plain": [
       "array([1, 2, 3, 4, 5.57, 6, 7, 8, 9, 'harsh vashista', True, False, None],\n",
       "      dtype=object)"
      ]
     },
     "execution_count": 9,
     "metadata": {},
     "output_type": "execute_result"
    }
   ],
   "source": [
    "# inclusion of None makes data type - Object\n",
    "\n",
    "L = [1,2,3,4,5.57,6,7,8,9,'harsh vashista',True,False,None]\n",
    "\n",
    "array = np.array(L)\n",
    "print(array.dtype)\n",
    "array"
   ]
  },
  {
   "cell_type": "markdown",
   "id": "492bf37f",
   "metadata": {},
   "source": [
    "## Methods & Functions"
   ]
  },
  {
   "cell_type": "code",
   "execution_count": 10,
   "id": "371932ea",
   "metadata": {},
   "outputs": [],
   "source": [
    "import numpy as np\n",
    "\n",
    "L = [1,2,3,4,5,6,7,8,9]\n",
    "L_2D = [[1,3,5,7,9],[2,4,6,8,10]]\n",
    "L_3D = [[[1,3,5,7,9],[2,4,6,8,10]],[[4,5,6,8,4],[7,9,5,8,4]]]\n",
    "\n",
    "array = np.array(L)\n",
    "array_2D = np.array(L_2D)\n",
    "array_3D = np.array(L_3D)"
   ]
  },
  {
   "cell_type": "markdown",
   "id": "a56f7ab1",
   "metadata": {},
   "source": [
    "### .ndim \n",
    "- gives dimention / order of matrix (1D,2D,3D...)"
   ]
  },
  {
   "cell_type": "code",
   "execution_count": 11,
   "id": "38a50988",
   "metadata": {},
   "outputs": [
    {
     "data": {
      "text/plain": [
       "(1, 2, 3)"
      ]
     },
     "execution_count": 11,
     "metadata": {},
     "output_type": "execute_result"
    }
   ],
   "source": [
    "array.ndim , array_2D.ndim , array_3D.ndim"
   ]
  },
  {
   "cell_type": "markdown",
   "id": "eb12f420",
   "metadata": {},
   "source": [
    "### .shape\n",
    "- gives shape of matrix in form of (m\\*n)"
   ]
  },
  {
   "cell_type": "code",
   "execution_count": 12,
   "id": "a62c9c07",
   "metadata": {},
   "outputs": [
    {
     "name": "stdout",
     "output_type": "stream",
     "text": [
      "(9,)\n",
      "(2, 5)\n",
      "(2, 2, 5)\n"
     ]
    }
   ],
   "source": [
    "print(array.shape)\n",
    "print(array_2D.shape)\n",
    "print(array_3D.shape)"
   ]
  },
  {
   "cell_type": "markdown",
   "id": "90ab7db0",
   "metadata": {},
   "source": [
    "### .size\n",
    "- to count total number of elements in an array "
   ]
  },
  {
   "cell_type": "code",
   "execution_count": 44,
   "id": "511f035c",
   "metadata": {},
   "outputs": [
    {
     "data": {
      "text/plain": [
       "array([[[7, 1, 5, 9],\n",
       "        [1, 3, 7, 8],\n",
       "        [1, 1, 3, 3],\n",
       "        [7, 1, 7, 1],\n",
       "        [9, 9, 1, 7]],\n",
       "\n",
       "       [[8, 9, 6, 2],\n",
       "        [4, 8, 6, 4],\n",
       "        [3, 8, 8, 5],\n",
       "        [8, 3, 8, 5],\n",
       "        [6, 8, 8, 7]],\n",
       "\n",
       "       [[3, 8, 8, 7],\n",
       "        [7, 4, 7, 1],\n",
       "        [8, 5, 4, 6],\n",
       "        [8, 4, 6, 6],\n",
       "        [8, 2, 1, 3]],\n",
       "\n",
       "       [[2, 3, 4, 7],\n",
       "        [4, 7, 2, 2],\n",
       "        [8, 5, 1, 3],\n",
       "        [2, 2, 5, 3],\n",
       "        [3, 3, 6, 4]],\n",
       "\n",
       "       [[7, 8, 6, 7],\n",
       "        [6, 3, 9, 8],\n",
       "        [2, 3, 8, 7],\n",
       "        [5, 6, 5, 6],\n",
       "        [5, 2, 4, 8]],\n",
       "\n",
       "       [[1, 6, 1, 7],\n",
       "        [6, 9, 1, 2],\n",
       "        [3, 5, 5, 1],\n",
       "        [9, 3, 9, 8],\n",
       "        [6, 5, 4, 3]],\n",
       "\n",
       "       [[6, 8, 3, 6],\n",
       "        [9, 1, 9, 5],\n",
       "        [1, 3, 6, 2],\n",
       "        [3, 2, 5, 3],\n",
       "        [4, 8, 1, 3]]])"
      ]
     },
     "execution_count": 44,
     "metadata": {},
     "output_type": "execute_result"
    }
   ],
   "source": [
    "arr = np.random.randint(1,10,(7,5,4))\n",
    "arr"
   ]
  },
  {
   "cell_type": "code",
   "execution_count": 45,
   "id": "d0f673b1",
   "metadata": {},
   "outputs": [
    {
     "name": "stdout",
     "output_type": "stream",
     "text": [
      "3\n",
      "(7, 5, 4)\n",
      "140\n"
     ]
    }
   ],
   "source": [
    "print(arr.ndim)\n",
    "print(arr.shape)\n",
    "print(arr.size)"
   ]
  },
  {
   "cell_type": "markdown",
   "id": "d0466021",
   "metadata": {},
   "source": [
    "### .dtype\n",
    "- returns data type of NumPy array"
   ]
  },
  {
   "cell_type": "code",
   "execution_count": 13,
   "id": "5e4f98df",
   "metadata": {
    "scrolled": true
   },
   "outputs": [
    {
     "data": {
      "text/plain": [
       "dtype('int32')"
      ]
     },
     "execution_count": 13,
     "metadata": {},
     "output_type": "execute_result"
    }
   ],
   "source": [
    "array_2D.dtype"
   ]
  },
  {
   "cell_type": "markdown",
   "id": "1d127df8",
   "metadata": {},
   "source": [
    "### .itemsize\n",
    "- returns size of each element in bytes"
   ]
  },
  {
   "cell_type": "code",
   "execution_count": 43,
   "id": "148991b3",
   "metadata": {},
   "outputs": [
    {
     "data": {
      "text/plain": [
       "4"
      ]
     },
     "execution_count": 43,
     "metadata": {},
     "output_type": "execute_result"
    }
   ],
   "source": [
    "# the dtype was = int32 (32bits = 4bytes)\n",
    "array_2D.itemsize "
   ]
  },
  {
   "cell_type": "markdown",
   "id": "69ee6317",
   "metadata": {},
   "source": [
    "### np.zeros( )\n",
    "- creates an array of given dimention and initializes with zeros\n",
    "- can also control the datatype of the elements using \"dtype\" attribute"
   ]
  },
  {
   "cell_type": "code",
   "execution_count": 14,
   "id": "dcf79cd1",
   "metadata": {},
   "outputs": [
    {
     "data": {
      "text/plain": [
       "array([0., 0., 0., 0., 0.])"
      ]
     },
     "execution_count": 14,
     "metadata": {},
     "output_type": "execute_result"
    }
   ],
   "source": [
    "# 1D array\n",
    "array = np.zeros(5)\n",
    "array"
   ]
  },
  {
   "cell_type": "code",
   "execution_count": 15,
   "id": "ee3d6fff",
   "metadata": {},
   "outputs": [
    {
     "data": {
      "text/plain": [
       "array([[0., 0., 0.],\n",
       "       [0., 0., 0.]])"
      ]
     },
     "execution_count": 15,
     "metadata": {},
     "output_type": "execute_result"
    }
   ],
   "source": [
    "# 2D array\n",
    "array = np.zeros((2,3))\n",
    "array"
   ]
  },
  {
   "cell_type": "code",
   "execution_count": 16,
   "id": "3409d84e",
   "metadata": {
    "scrolled": true
   },
   "outputs": [
    {
     "data": {
      "text/plain": [
       "array([[[0., 0., 0., 0., 0.],\n",
       "        [0., 0., 0., 0., 0.],\n",
       "        [0., 0., 0., 0., 0.]],\n",
       "\n",
       "       [[0., 0., 0., 0., 0.],\n",
       "        [0., 0., 0., 0., 0.],\n",
       "        [0., 0., 0., 0., 0.]],\n",
       "\n",
       "       [[0., 0., 0., 0., 0.],\n",
       "        [0., 0., 0., 0., 0.],\n",
       "        [0., 0., 0., 0., 0.]]])"
      ]
     },
     "execution_count": 16,
     "metadata": {},
     "output_type": "execute_result"
    }
   ],
   "source": [
    "# 3D array\n",
    "array = np.zeros((3,3,5))\n",
    "array"
   ]
  },
  {
   "cell_type": "code",
   "execution_count": 17,
   "id": "8877cc5b",
   "metadata": {},
   "outputs": [
    {
     "data": {
      "text/plain": [
       "array([['', '', ''],\n",
       "       ['', '', ''],\n",
       "       ['', '', '']], dtype='<U1')"
      ]
     },
     "execution_count": 17,
     "metadata": {},
     "output_type": "execute_result"
    }
   ],
   "source": [
    "# changing the datatype\n",
    "array = np.zeros((3,3), dtype = str) # 0 in python means empty string and False\n",
    "array"
   ]
  },
  {
   "cell_type": "markdown",
   "id": "572c1e9d",
   "metadata": {},
   "source": [
    "### np.ones( )\n",
    "- creates an array of given dimention and initializes with ones\n",
    "- \"dtype\" attribute is used to control the datatype of the elements similar to zeros"
   ]
  },
  {
   "cell_type": "code",
   "execution_count": 18,
   "id": "2a1cecfa",
   "metadata": {},
   "outputs": [
    {
     "data": {
      "text/plain": [
       "array([1., 1., 1., 1., 1.])"
      ]
     },
     "execution_count": 18,
     "metadata": {},
     "output_type": "execute_result"
    }
   ],
   "source": [
    "array = np.ones(5)\n",
    "array"
   ]
  },
  {
   "cell_type": "code",
   "execution_count": 19,
   "id": "7464dc94",
   "metadata": {},
   "outputs": [
    {
     "data": {
      "text/plain": [
       "array([[1., 1., 1.],\n",
       "       [1., 1., 1.]])"
      ]
     },
     "execution_count": 19,
     "metadata": {},
     "output_type": "execute_result"
    }
   ],
   "source": [
    "array = np.ones((2,3))\n",
    "array"
   ]
  },
  {
   "cell_type": "code",
   "execution_count": 20,
   "id": "b8f890dd",
   "metadata": {},
   "outputs": [
    {
     "data": {
      "text/plain": [
       "array([[[1., 1., 1.],\n",
       "        [1., 1., 1.],\n",
       "        [1., 1., 1.],\n",
       "        [1., 1., 1.],\n",
       "        [1., 1., 1.]],\n",
       "\n",
       "       [[1., 1., 1.],\n",
       "        [1., 1., 1.],\n",
       "        [1., 1., 1.],\n",
       "        [1., 1., 1.],\n",
       "        [1., 1., 1.]]])"
      ]
     },
     "execution_count": 20,
     "metadata": {},
     "output_type": "execute_result"
    }
   ],
   "source": [
    "array = np.ones((2,5,3))\n",
    "array"
   ]
  },
  {
   "cell_type": "markdown",
   "id": "38044b3c",
   "metadata": {},
   "source": [
    "### np.empty( )\n",
    "- creates an empty array of given dimention\n",
    "- empty doesnt necesserily means containing NULL strings, instead the elements have garbage values\n",
    "- it also has \"dtype\" attribute"
   ]
  },
  {
   "cell_type": "code",
   "execution_count": 21,
   "id": "8df3f6d9",
   "metadata": {},
   "outputs": [
    {
     "data": {
      "text/plain": [
       "array([[1.  , 2.  , 3.  ],\n",
       "       [4.  , 5.57, 6.  ],\n",
       "       [7.  , 8.  , 9.  ]])"
      ]
     },
     "execution_count": 21,
     "metadata": {},
     "output_type": "execute_result"
    }
   ],
   "source": [
    "np.empty((3,3))"
   ]
  },
  {
   "cell_type": "markdown",
   "id": "36f81711",
   "metadata": {},
   "source": [
    "### np.eye( )\n",
    "- creates an array of given dimention and initializes all diagonals with ones"
   ]
  },
  {
   "cell_type": "code",
   "execution_count": 22,
   "id": "44cf77b0",
   "metadata": {},
   "outputs": [
    {
     "data": {
      "text/plain": [
       "array([[1., 0., 0., 0., 0.],\n",
       "       [0., 1., 0., 0., 0.],\n",
       "       [0., 0., 1., 0., 0.],\n",
       "       [0., 0., 0., 1., 0.],\n",
       "       [0., 0., 0., 0., 1.]])"
      ]
     },
     "execution_count": 22,
     "metadata": {},
     "output_type": "execute_result"
    }
   ],
   "source": [
    "# single input specifies number of ones\n",
    "# single input makes square matrix with that many ones in diagonal\n",
    "\n",
    "array = np.eye(5)\n",
    "array"
   ]
  },
  {
   "cell_type": "code",
   "execution_count": 23,
   "id": "226eb621",
   "metadata": {},
   "outputs": [
    {
     "data": {
      "text/plain": [
       "array([[1., 0., 0., 0., 0.]])"
      ]
     },
     "execution_count": 23,
     "metadata": {},
     "output_type": "execute_result"
    }
   ],
   "source": [
    "# 2 inputs specify dimentions\n",
    "# ones are fitted into diagonals accordingly\n",
    "\n",
    "array = np.eye(1,5)\n",
    "array"
   ]
  },
  {
   "cell_type": "code",
   "execution_count": 24,
   "id": "9136a5c2",
   "metadata": {},
   "outputs": [
    {
     "data": {
      "text/plain": [
       "array([[1., 0., 0., 0., 0., 0., 0.],\n",
       "       [0., 1., 0., 0., 0., 0., 0.],\n",
       "       [0., 0., 1., 0., 0., 0., 0.],\n",
       "       [0., 0., 0., 1., 0., 0., 0.]])"
      ]
     },
     "execution_count": 24,
     "metadata": {},
     "output_type": "execute_result"
    }
   ],
   "source": [
    "array = np.eye(4,7)\n",
    "array"
   ]
  },
  {
   "cell_type": "code",
   "execution_count": 25,
   "id": "0f1c0847",
   "metadata": {},
   "outputs": [
    {
     "data": {
      "text/plain": [
       "array([[0., 0., 1., 0., 0.],\n",
       "       [0., 0., 0., 1., 0.],\n",
       "       [0., 0., 0., 0., 1.],\n",
       "       [0., 0., 0., 0., 0.]])"
      ]
     },
     "execution_count": 25,
     "metadata": {},
     "output_type": "execute_result"
    }
   ],
   "source": [
    "# with 3 inputs, the first two inputs are the dimentions of matrix\n",
    "# the 3rd input is the offset at wich the diagonals become 1\n",
    "\n",
    "array = np.eye(4,5,2)\n",
    "array"
   ]
  },
  {
   "cell_type": "markdown",
   "id": "f138853c",
   "metadata": {},
   "source": [
    "### np.diag( )\n",
    "- takes list / tuple and creates a diagonal matrix with list / tuple elements in diagonal position\n",
    "- takes a matrix and returns the diagonal elements in it in form of list"
   ]
  },
  {
   "cell_type": "code",
   "execution_count": 26,
   "id": "eca5512f",
   "metadata": {},
   "outputs": [
    {
     "data": {
      "text/plain": [
       "array([[1, 0, 0, 0, 0],\n",
       "       [0, 2, 0, 0, 0],\n",
       "       [0, 0, 3, 0, 0],\n",
       "       [0, 0, 0, 4, 0],\n",
       "       [0, 0, 0, 0, 5]])"
      ]
     },
     "execution_count": 26,
     "metadata": {},
     "output_type": "execute_result"
    }
   ],
   "source": [
    "array = np.diag([1,2,3,4,5])\n",
    "array"
   ]
  },
  {
   "cell_type": "code",
   "execution_count": 27,
   "id": "55051779",
   "metadata": {},
   "outputs": [
    {
     "data": {
      "text/plain": [
       "array([ 1, 45,  8,  2])"
      ]
     },
     "execution_count": 27,
     "metadata": {},
     "output_type": "execute_result"
    }
   ],
   "source": [
    "array = [[1,2,6,5,4],\n",
    "         [6,45,6,4,3],\n",
    "         [5,6,8,2,3],\n",
    "         [5,8,6,2,7]]\n",
    "\n",
    "diagonal = np.diag(array)\n",
    "diagonal"
   ]
  },
  {
   "cell_type": "markdown",
   "id": "f1a83aa4",
   "metadata": {},
   "source": [
    "### np.arange( )\n",
    "- creates array in range provided\n",
    "- np.arange( starting index , stoping index + 1 , step)"
   ]
  },
  {
   "cell_type": "code",
   "execution_count": 28,
   "id": "2b04ab0d",
   "metadata": {},
   "outputs": [
    {
     "data": {
      "text/plain": [
       "array([1, 3, 5, 7, 9])"
      ]
     },
     "execution_count": 28,
     "metadata": {},
     "output_type": "execute_result"
    }
   ],
   "source": [
    "array = np.arange(1,10,2)\n",
    "array"
   ]
  },
  {
   "cell_type": "markdown",
   "id": "6167b581",
   "metadata": {},
   "source": [
    "### np.unique( )\n",
    "- gives all unique elements in array (all elements removing all extras)"
   ]
  },
  {
   "cell_type": "code",
   "execution_count": 39,
   "id": "d5a6a0be",
   "metadata": {},
   "outputs": [
    {
     "data": {
      "text/plain": [
       "array([9, 3, 6, 4, 4, 6, 9, 6, 1, 9, 2, 7, 8, 7, 2, 9, 5])"
      ]
     },
     "execution_count": 39,
     "metadata": {},
     "output_type": "execute_result"
    }
   ],
   "source": [
    "arr"
   ]
  },
  {
   "cell_type": "code",
   "execution_count": 40,
   "id": "80a6644b",
   "metadata": {},
   "outputs": [
    {
     "data": {
      "text/plain": [
       "array([1, 2, 3, 4, 5, 6, 7, 8, 9])"
      ]
     },
     "execution_count": 40,
     "metadata": {},
     "output_type": "execute_result"
    }
   ],
   "source": [
    "np.unique(arr)"
   ]
  },
  {
   "cell_type": "code",
   "execution_count": 41,
   "id": "43ca0960",
   "metadata": {},
   "outputs": [
    {
     "data": {
      "text/plain": [
       "(array([1, 2, 3, 4, 5, 6, 7, 8, 9]),\n",
       " array([ 8, 10,  1,  3, 16,  2, 11, 12,  0], dtype=int64),\n",
       " array([1, 2, 1, 2, 1, 3, 2, 1, 4], dtype=int64))"
      ]
     },
     "execution_count": 41,
     "metadata": {},
     "output_type": "execute_result"
    }
   ],
   "source": [
    "# first array gives all unique array elements\n",
    "# second array gives the respective first index\n",
    "#  third array gives count of each elements\n",
    "\n",
    "np.unique(arr, return_index = True, return_counts = True)"
   ]
  }
 ],
 "metadata": {
  "kernelspec": {
   "display_name": "Python 3",
   "language": "python",
   "name": "python3"
  },
  "language_info": {
   "codemirror_mode": {
    "name": "ipython",
    "version": 3
   },
   "file_extension": ".py",
   "mimetype": "text/x-python",
   "name": "python",
   "nbconvert_exporter": "python",
   "pygments_lexer": "ipython3",
   "version": "3.8.8"
  }
 },
 "nbformat": 4,
 "nbformat_minor": 5
}

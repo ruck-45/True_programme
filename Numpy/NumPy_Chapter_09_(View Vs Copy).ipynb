{
 "cells": [
  {
   "cell_type": "markdown",
   "id": "747c3509",
   "metadata": {},
   "source": [
    "# Chapter 4 (View Vs Copy)"
   ]
  },
  {
   "cell_type": "code",
   "execution_count": 2,
   "id": "ff38e16a",
   "metadata": {},
   "outputs": [],
   "source": [
    "import numpy as np"
   ]
  },
  {
   "cell_type": "markdown",
   "id": "7b0c9713",
   "metadata": {},
   "source": [
    "## View\n",
    "\n",
    "- it is a state where only an instance is saved in place of a copy"
   ]
  },
  {
   "cell_type": "code",
   "execution_count": 5,
   "id": "033c0ad9",
   "metadata": {},
   "outputs": [
    {
     "data": {
      "text/plain": [
       "array([ 1,  2,  3,  4,  5,  6,  7,  8,  9, 10, 11])"
      ]
     },
     "execution_count": 5,
     "metadata": {},
     "output_type": "execute_result"
    }
   ],
   "source": [
    "arr = np.arange(1,12)\n",
    "arr"
   ]
  },
  {
   "cell_type": "code",
   "execution_count": 7,
   "id": "c9303ad0",
   "metadata": {},
   "outputs": [
    {
     "data": {
      "text/plain": [
       "array([3, 4, 5, 6])"
      ]
     },
     "execution_count": 7,
     "metadata": {},
     "output_type": "execute_result"
    }
   ],
   "source": [
    "sliced_arr = arr[2:6]\n",
    "sliced_arr"
   ]
  },
  {
   "cell_type": "code",
   "execution_count": 8,
   "id": "821495f0",
   "metadata": {},
   "outputs": [
    {
     "data": {
      "text/plain": [
       "array([0, 0, 0, 0])"
      ]
     },
     "execution_count": 8,
     "metadata": {},
     "output_type": "execute_result"
    }
   ],
   "source": [
    "sliced_arr[:] = 0\n",
    "sliced_arr"
   ]
  },
  {
   "cell_type": "code",
   "execution_count": 10,
   "id": "bf58ca95",
   "metadata": {},
   "outputs": [
    {
     "data": {
      "text/plain": [
       "array([ 1,  2,  0,  0,  0,  0,  7,  8,  9, 10, 11])"
      ]
     },
     "execution_count": 10,
     "metadata": {},
     "output_type": "execute_result"
    }
   ],
   "source": [
    "# sliced_arr affected the original content of arr as it was just a view not an actual copy\n",
    "# thus it is recommended to use  .copy() method\n",
    "\n",
    "arr"
   ]
  },
  {
   "cell_type": "markdown",
   "id": "c3a9c34e",
   "metadata": {},
   "source": [
    "## .copy( )\n",
    "- created a true copy"
   ]
  },
  {
   "cell_type": "code",
   "execution_count": 16,
   "id": "84063994",
   "metadata": {},
   "outputs": [
    {
     "data": {
      "text/plain": [
       "array([ 1,  2,  3,  4,  5,  6,  7,  8,  9, 10, 11])"
      ]
     },
     "execution_count": 16,
     "metadata": {},
     "output_type": "execute_result"
    }
   ],
   "source": [
    "arr = np.arange(1,12)\n",
    "arr"
   ]
  },
  {
   "cell_type": "code",
   "execution_count": 18,
   "id": "e1496530",
   "metadata": {},
   "outputs": [
    {
     "data": {
      "text/plain": [
       "array([3, 4, 5, 6])"
      ]
     },
     "execution_count": 18,
     "metadata": {},
     "output_type": "execute_result"
    }
   ],
   "source": [
    "sliced_arr = arr[2:6].copy()\n",
    "sliced_arr"
   ]
  },
  {
   "cell_type": "code",
   "execution_count": 19,
   "id": "7aacad0d",
   "metadata": {},
   "outputs": [
    {
     "data": {
      "text/plain": [
       "array([100, 100, 100, 100])"
      ]
     },
     "execution_count": 19,
     "metadata": {},
     "output_type": "execute_result"
    }
   ],
   "source": [
    "sliced_arr[:] = 100\n",
    "sliced_arr"
   ]
  },
  {
   "cell_type": "code",
   "execution_count": 20,
   "id": "37916c47",
   "metadata": {},
   "outputs": [
    {
     "data": {
      "text/plain": [
       "array([ 1,  2,  3,  4,  5,  6,  7,  8,  9, 10, 11])"
      ]
     },
     "execution_count": 20,
     "metadata": {},
     "output_type": "execute_result"
    }
   ],
   "source": [
    "# original data remains unchanged\n",
    "\n",
    "arr"
   ]
  }
 ],
 "metadata": {
  "kernelspec": {
   "display_name": "Python 3",
   "language": "python",
   "name": "python3"
  },
  "language_info": {
   "codemirror_mode": {
    "name": "ipython",
    "version": 3
   },
   "file_extension": ".py",
   "mimetype": "text/x-python",
   "name": "python",
   "nbconvert_exporter": "python",
   "pygments_lexer": "ipython3",
   "version": "3.8.8"
  }
 },
 "nbformat": 4,
 "nbformat_minor": 5
}

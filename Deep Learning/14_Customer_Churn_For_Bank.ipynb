{
 "cells": [
  {
   "cell_type": "code",
   "execution_count": 1,
   "id": "5b4883b0",
   "metadata": {},
   "outputs": [],
   "source": [
    "random_state = 456\n",
    "\n",
    "import pandas as pd\n",
    "import numpy as np\n",
    "import tensorflow as tf\n",
    "import matplotlib.pyplot as plt\n",
    "import seaborn as sns\n",
    "\n",
    "from sklearn.preprocessing import MinMaxScaler, OneHotEncoder\n",
    "from sklearn.model_selection import train_test_split\n",
    "from tensorflow import keras\n",
    "from sklearn.metrics import confusion_matrix, classification_report\n",
    "from sklearn.decomposition import PCA"
   ]
  },
  {
   "cell_type": "markdown",
   "id": "3ef702e1",
   "metadata": {},
   "source": [
    "# Dataset"
   ]
  },
  {
   "cell_type": "code",
   "execution_count": 2,
   "id": "da76cde5",
   "metadata": {},
   "outputs": [
    {
     "data": {
      "text/html": [
       "<div>\n",
       "<style scoped>\n",
       "    .dataframe tbody tr th:only-of-type {\n",
       "        vertical-align: middle;\n",
       "    }\n",
       "\n",
       "    .dataframe tbody tr th {\n",
       "        vertical-align: top;\n",
       "    }\n",
       "\n",
       "    .dataframe thead th {\n",
       "        text-align: right;\n",
       "    }\n",
       "</style>\n",
       "<table border=\"1\" class=\"dataframe\">\n",
       "  <thead>\n",
       "    <tr style=\"text-align: right;\">\n",
       "      <th></th>\n",
       "      <th>RowNumber</th>\n",
       "      <th>CustomerId</th>\n",
       "      <th>Surname</th>\n",
       "      <th>CreditScore</th>\n",
       "      <th>Geography</th>\n",
       "      <th>Gender</th>\n",
       "      <th>Age</th>\n",
       "      <th>Tenure</th>\n",
       "      <th>Balance</th>\n",
       "      <th>NumOfProducts</th>\n",
       "      <th>HasCrCard</th>\n",
       "      <th>IsActiveMember</th>\n",
       "      <th>EstimatedSalary</th>\n",
       "      <th>Exited</th>\n",
       "    </tr>\n",
       "  </thead>\n",
       "  <tbody>\n",
       "    <tr>\n",
       "      <th>0</th>\n",
       "      <td>1</td>\n",
       "      <td>15634602</td>\n",
       "      <td>Hargrave</td>\n",
       "      <td>619</td>\n",
       "      <td>France</td>\n",
       "      <td>Female</td>\n",
       "      <td>42</td>\n",
       "      <td>2</td>\n",
       "      <td>0.00</td>\n",
       "      <td>1</td>\n",
       "      <td>1</td>\n",
       "      <td>1</td>\n",
       "      <td>101348.88</td>\n",
       "      <td>1</td>\n",
       "    </tr>\n",
       "    <tr>\n",
       "      <th>1</th>\n",
       "      <td>2</td>\n",
       "      <td>15647311</td>\n",
       "      <td>Hill</td>\n",
       "      <td>608</td>\n",
       "      <td>Spain</td>\n",
       "      <td>Female</td>\n",
       "      <td>41</td>\n",
       "      <td>1</td>\n",
       "      <td>83807.86</td>\n",
       "      <td>1</td>\n",
       "      <td>0</td>\n",
       "      <td>1</td>\n",
       "      <td>112542.58</td>\n",
       "      <td>0</td>\n",
       "    </tr>\n",
       "    <tr>\n",
       "      <th>2</th>\n",
       "      <td>3</td>\n",
       "      <td>15619304</td>\n",
       "      <td>Onio</td>\n",
       "      <td>502</td>\n",
       "      <td>France</td>\n",
       "      <td>Female</td>\n",
       "      <td>42</td>\n",
       "      <td>8</td>\n",
       "      <td>159660.80</td>\n",
       "      <td>3</td>\n",
       "      <td>1</td>\n",
       "      <td>0</td>\n",
       "      <td>113931.57</td>\n",
       "      <td>1</td>\n",
       "    </tr>\n",
       "    <tr>\n",
       "      <th>3</th>\n",
       "      <td>4</td>\n",
       "      <td>15701354</td>\n",
       "      <td>Boni</td>\n",
       "      <td>699</td>\n",
       "      <td>France</td>\n",
       "      <td>Female</td>\n",
       "      <td>39</td>\n",
       "      <td>1</td>\n",
       "      <td>0.00</td>\n",
       "      <td>2</td>\n",
       "      <td>0</td>\n",
       "      <td>0</td>\n",
       "      <td>93826.63</td>\n",
       "      <td>0</td>\n",
       "    </tr>\n",
       "    <tr>\n",
       "      <th>4</th>\n",
       "      <td>5</td>\n",
       "      <td>15737888</td>\n",
       "      <td>Mitchell</td>\n",
       "      <td>850</td>\n",
       "      <td>Spain</td>\n",
       "      <td>Female</td>\n",
       "      <td>43</td>\n",
       "      <td>2</td>\n",
       "      <td>125510.82</td>\n",
       "      <td>1</td>\n",
       "      <td>1</td>\n",
       "      <td>1</td>\n",
       "      <td>79084.10</td>\n",
       "      <td>0</td>\n",
       "    </tr>\n",
       "  </tbody>\n",
       "</table>\n",
       "</div>"
      ],
      "text/plain": [
       "   RowNumber  CustomerId   Surname  CreditScore Geography  Gender  Age  \\\n",
       "0          1    15634602  Hargrave          619    France  Female   42   \n",
       "1          2    15647311      Hill          608     Spain  Female   41   \n",
       "2          3    15619304      Onio          502    France  Female   42   \n",
       "3          4    15701354      Boni          699    France  Female   39   \n",
       "4          5    15737888  Mitchell          850     Spain  Female   43   \n",
       "\n",
       "   Tenure    Balance  NumOfProducts  HasCrCard  IsActiveMember  \\\n",
       "0       2       0.00              1          1               1   \n",
       "1       1   83807.86              1          0               1   \n",
       "2       8  159660.80              3          1               0   \n",
       "3       1       0.00              2          0               0   \n",
       "4       2  125510.82              1          1               1   \n",
       "\n",
       "   EstimatedSalary  Exited  \n",
       "0        101348.88       1  \n",
       "1        112542.58       0  \n",
       "2        113931.57       1  \n",
       "3         93826.63       0  \n",
       "4         79084.10       0  "
      ]
     },
     "execution_count": 2,
     "metadata": {},
     "output_type": "execute_result"
    }
   ],
   "source": [
    "df = pd.read_csv('./datasets/Churn_Modelling.csv')\n",
    "df.head()"
   ]
  },
  {
   "cell_type": "code",
   "execution_count": 3,
   "id": "b5a4795b",
   "metadata": {},
   "outputs": [
    {
     "data": {
      "text/plain": [
       "RowNumber          0\n",
       "CustomerId         0\n",
       "Surname            0\n",
       "CreditScore        0\n",
       "Geography          0\n",
       "Gender             0\n",
       "Age                0\n",
       "Tenure             0\n",
       "Balance            0\n",
       "NumOfProducts      0\n",
       "HasCrCard          0\n",
       "IsActiveMember     0\n",
       "EstimatedSalary    0\n",
       "Exited             0\n",
       "dtype: int64"
      ]
     },
     "execution_count": 3,
     "metadata": {},
     "output_type": "execute_result"
    }
   ],
   "source": [
    "df.isnull().sum()"
   ]
  },
  {
   "cell_type": "code",
   "execution_count": 4,
   "id": "58a67812",
   "metadata": {},
   "outputs": [
    {
     "data": {
      "text/html": [
       "<div>\n",
       "<style scoped>\n",
       "    .dataframe tbody tr th:only-of-type {\n",
       "        vertical-align: middle;\n",
       "    }\n",
       "\n",
       "    .dataframe tbody tr th {\n",
       "        vertical-align: top;\n",
       "    }\n",
       "\n",
       "    .dataframe thead th {\n",
       "        text-align: right;\n",
       "    }\n",
       "</style>\n",
       "<table border=\"1\" class=\"dataframe\">\n",
       "  <thead>\n",
       "    <tr style=\"text-align: right;\">\n",
       "      <th></th>\n",
       "      <th>CreditScore</th>\n",
       "      <th>Geography</th>\n",
       "      <th>Gender</th>\n",
       "      <th>Age</th>\n",
       "      <th>Tenure</th>\n",
       "      <th>Balance</th>\n",
       "      <th>NumOfProducts</th>\n",
       "      <th>HasCrCard</th>\n",
       "      <th>IsActiveMember</th>\n",
       "      <th>EstimatedSalary</th>\n",
       "      <th>Exited</th>\n",
       "    </tr>\n",
       "  </thead>\n",
       "  <tbody>\n",
       "    <tr>\n",
       "      <th>0</th>\n",
       "      <td>619</td>\n",
       "      <td>France</td>\n",
       "      <td>Female</td>\n",
       "      <td>42</td>\n",
       "      <td>2</td>\n",
       "      <td>0.00</td>\n",
       "      <td>1</td>\n",
       "      <td>1</td>\n",
       "      <td>1</td>\n",
       "      <td>101348.88</td>\n",
       "      <td>1</td>\n",
       "    </tr>\n",
       "    <tr>\n",
       "      <th>1</th>\n",
       "      <td>608</td>\n",
       "      <td>Spain</td>\n",
       "      <td>Female</td>\n",
       "      <td>41</td>\n",
       "      <td>1</td>\n",
       "      <td>83807.86</td>\n",
       "      <td>1</td>\n",
       "      <td>0</td>\n",
       "      <td>1</td>\n",
       "      <td>112542.58</td>\n",
       "      <td>0</td>\n",
       "    </tr>\n",
       "    <tr>\n",
       "      <th>2</th>\n",
       "      <td>502</td>\n",
       "      <td>France</td>\n",
       "      <td>Female</td>\n",
       "      <td>42</td>\n",
       "      <td>8</td>\n",
       "      <td>159660.80</td>\n",
       "      <td>3</td>\n",
       "      <td>1</td>\n",
       "      <td>0</td>\n",
       "      <td>113931.57</td>\n",
       "      <td>1</td>\n",
       "    </tr>\n",
       "    <tr>\n",
       "      <th>3</th>\n",
       "      <td>699</td>\n",
       "      <td>France</td>\n",
       "      <td>Female</td>\n",
       "      <td>39</td>\n",
       "      <td>1</td>\n",
       "      <td>0.00</td>\n",
       "      <td>2</td>\n",
       "      <td>0</td>\n",
       "      <td>0</td>\n",
       "      <td>93826.63</td>\n",
       "      <td>0</td>\n",
       "    </tr>\n",
       "    <tr>\n",
       "      <th>4</th>\n",
       "      <td>850</td>\n",
       "      <td>Spain</td>\n",
       "      <td>Female</td>\n",
       "      <td>43</td>\n",
       "      <td>2</td>\n",
       "      <td>125510.82</td>\n",
       "      <td>1</td>\n",
       "      <td>1</td>\n",
       "      <td>1</td>\n",
       "      <td>79084.10</td>\n",
       "      <td>0</td>\n",
       "    </tr>\n",
       "  </tbody>\n",
       "</table>\n",
       "</div>"
      ],
      "text/plain": [
       "   CreditScore Geography  Gender  Age  Tenure    Balance  NumOfProducts  \\\n",
       "0          619    France  Female   42       2       0.00              1   \n",
       "1          608     Spain  Female   41       1   83807.86              1   \n",
       "2          502    France  Female   42       8  159660.80              3   \n",
       "3          699    France  Female   39       1       0.00              2   \n",
       "4          850     Spain  Female   43       2  125510.82              1   \n",
       "\n",
       "   HasCrCard  IsActiveMember  EstimatedSalary  Exited  \n",
       "0          1               1        101348.88       1  \n",
       "1          0               1        112542.58       0  \n",
       "2          1               0        113931.57       1  \n",
       "3          0               0         93826.63       0  \n",
       "4          1               1         79084.10       0  "
      ]
     },
     "execution_count": 4,
     "metadata": {},
     "output_type": "execute_result"
    }
   ],
   "source": [
    "df2 = df.drop(['RowNumber','CustomerId','Surname'], axis = 1)\n",
    "df2.head()"
   ]
  },
  {
   "cell_type": "code",
   "execution_count": 5,
   "id": "8e97f631",
   "metadata": {},
   "outputs": [
    {
     "name": "stdout",
     "output_type": "stream",
     "text": [
      "<class 'pandas.core.frame.DataFrame'>\n",
      "RangeIndex: 10000 entries, 0 to 9999\n",
      "Data columns (total 11 columns):\n",
      " #   Column           Non-Null Count  Dtype  \n",
      "---  ------           --------------  -----  \n",
      " 0   CreditScore      10000 non-null  int64  \n",
      " 1   Geography        10000 non-null  object \n",
      " 2   Gender           10000 non-null  object \n",
      " 3   Age              10000 non-null  int64  \n",
      " 4   Tenure           10000 non-null  int64  \n",
      " 5   Balance          10000 non-null  float64\n",
      " 6   NumOfProducts    10000 non-null  int64  \n",
      " 7   HasCrCard        10000 non-null  int64  \n",
      " 8   IsActiveMember   10000 non-null  int64  \n",
      " 9   EstimatedSalary  10000 non-null  float64\n",
      " 10  Exited           10000 non-null  int64  \n",
      "dtypes: float64(2), int64(7), object(2)\n",
      "memory usage: 859.5+ KB\n"
     ]
    }
   ],
   "source": [
    "df2.info()"
   ]
  },
  {
   "cell_type": "code",
   "execution_count": 14,
   "id": "cb0d0014",
   "metadata": {},
   "outputs": [
    {
     "data": {
      "text/plain": [
       "Index(['Geography', 'Gender'], dtype='object')"
      ]
     },
     "execution_count": 14,
     "metadata": {},
     "output_type": "execute_result"
    }
   ],
   "source": [
    "df2.select_dtypes('O').columns"
   ]
  },
  {
   "cell_type": "code",
   "execution_count": 21,
   "id": "a147dbdf",
   "metadata": {},
   "outputs": [
    {
     "data": {
      "text/html": [
       "<div>\n",
       "<style scoped>\n",
       "    .dataframe tbody tr th:only-of-type {\n",
       "        vertical-align: middle;\n",
       "    }\n",
       "\n",
       "    .dataframe tbody tr th {\n",
       "        vertical-align: top;\n",
       "    }\n",
       "\n",
       "    .dataframe thead th {\n",
       "        text-align: right;\n",
       "    }\n",
       "</style>\n",
       "<table border=\"1\" class=\"dataframe\">\n",
       "  <thead>\n",
       "    <tr style=\"text-align: right;\">\n",
       "      <th></th>\n",
       "      <th>CreditScore</th>\n",
       "      <th>Age</th>\n",
       "      <th>Tenure</th>\n",
       "      <th>Balance</th>\n",
       "      <th>NumOfProducts</th>\n",
       "      <th>HasCrCard</th>\n",
       "      <th>IsActiveMember</th>\n",
       "      <th>EstimatedSalary</th>\n",
       "      <th>Exited</th>\n",
       "      <th>Germany</th>\n",
       "      <th>Spain</th>\n",
       "      <th>Male</th>\n",
       "    </tr>\n",
       "  </thead>\n",
       "  <tbody>\n",
       "    <tr>\n",
       "      <th>0</th>\n",
       "      <td>619</td>\n",
       "      <td>42</td>\n",
       "      <td>2</td>\n",
       "      <td>0.00</td>\n",
       "      <td>1</td>\n",
       "      <td>1</td>\n",
       "      <td>1</td>\n",
       "      <td>101348.88</td>\n",
       "      <td>1</td>\n",
       "      <td>0.0</td>\n",
       "      <td>0.0</td>\n",
       "      <td>0.0</td>\n",
       "    </tr>\n",
       "    <tr>\n",
       "      <th>1</th>\n",
       "      <td>608</td>\n",
       "      <td>41</td>\n",
       "      <td>1</td>\n",
       "      <td>83807.86</td>\n",
       "      <td>1</td>\n",
       "      <td>0</td>\n",
       "      <td>1</td>\n",
       "      <td>112542.58</td>\n",
       "      <td>0</td>\n",
       "      <td>0.0</td>\n",
       "      <td>1.0</td>\n",
       "      <td>0.0</td>\n",
       "    </tr>\n",
       "    <tr>\n",
       "      <th>2</th>\n",
       "      <td>502</td>\n",
       "      <td>42</td>\n",
       "      <td>8</td>\n",
       "      <td>159660.80</td>\n",
       "      <td>3</td>\n",
       "      <td>1</td>\n",
       "      <td>0</td>\n",
       "      <td>113931.57</td>\n",
       "      <td>1</td>\n",
       "      <td>0.0</td>\n",
       "      <td>0.0</td>\n",
       "      <td>0.0</td>\n",
       "    </tr>\n",
       "    <tr>\n",
       "      <th>3</th>\n",
       "      <td>699</td>\n",
       "      <td>39</td>\n",
       "      <td>1</td>\n",
       "      <td>0.00</td>\n",
       "      <td>2</td>\n",
       "      <td>0</td>\n",
       "      <td>0</td>\n",
       "      <td>93826.63</td>\n",
       "      <td>0</td>\n",
       "      <td>0.0</td>\n",
       "      <td>0.0</td>\n",
       "      <td>0.0</td>\n",
       "    </tr>\n",
       "    <tr>\n",
       "      <th>4</th>\n",
       "      <td>850</td>\n",
       "      <td>43</td>\n",
       "      <td>2</td>\n",
       "      <td>125510.82</td>\n",
       "      <td>1</td>\n",
       "      <td>1</td>\n",
       "      <td>1</td>\n",
       "      <td>79084.10</td>\n",
       "      <td>0</td>\n",
       "      <td>0.0</td>\n",
       "      <td>1.0</td>\n",
       "      <td>0.0</td>\n",
       "    </tr>\n",
       "  </tbody>\n",
       "</table>\n",
       "</div>"
      ],
      "text/plain": [
       "   CreditScore  Age  Tenure    Balance  NumOfProducts  HasCrCard  \\\n",
       "0          619   42       2       0.00              1          1   \n",
       "1          608   41       1   83807.86              1          0   \n",
       "2          502   42       8  159660.80              3          1   \n",
       "3          699   39       1       0.00              2          0   \n",
       "4          850   43       2  125510.82              1          1   \n",
       "\n",
       "   IsActiveMember  EstimatedSalary  Exited  Germany  Spain  Male  \n",
       "0               1        101348.88       1      0.0    0.0   0.0  \n",
       "1               1        112542.58       0      0.0    1.0   0.0  \n",
       "2               0        113931.57       1      0.0    0.0   0.0  \n",
       "3               0         93826.63       0      0.0    0.0   0.0  \n",
       "4               1         79084.10       0      0.0    1.0   0.0  "
      ]
     },
     "execution_count": 21,
     "metadata": {},
     "output_type": "execute_result"
    }
   ],
   "source": [
    "cols = ['Germany','Spain','Male']\n",
    "\n",
    "ohe = OneHotEncoder(sparse=False,drop='first')\n",
    "df3 = df2.join(pd.DataFrame(ohe.fit_transform(df[df2.select_dtypes('O').columns]),columns=cols)).drop(['Geography', 'Gender'],axis = 1)\n",
    "df3.head()"
   ]
  },
  {
   "cell_type": "code",
   "execution_count": 22,
   "id": "57c5adb9",
   "metadata": {},
   "outputs": [],
   "source": [
    "X = df3.drop('Exited',axis = 1)\n",
    "y = df3.Exited\n",
    "\n",
    "X_train, X_test, y_train, y_test = train_test_split(X,y,stratify=y,train_size=0.8,random_state=random_state)"
   ]
  },
  {
   "cell_type": "code",
   "execution_count": 23,
   "id": "41e4af70",
   "metadata": {},
   "outputs": [],
   "source": [
    "scaler = MinMaxScaler()\n",
    "X_train_scaled = pd.DataFrame(scaler.fit_transform(X_train),columns=X_train.columns)\n",
    "X_test_scaled = pd.DataFrame(scaler.transform(X_test),columns=X_test.columns)"
   ]
  },
  {
   "cell_type": "markdown",
   "id": "ad4d0843",
   "metadata": {},
   "source": [
    "# Analysis"
   ]
  },
  {
   "cell_type": "code",
   "execution_count": 35,
   "id": "91ac27f0",
   "metadata": {},
   "outputs": [
    {
     "data": {
      "image/png": "[encoded data removed]",
      "text/plain": [
       "<Figure size 1440x720 with 6 Axes>"
      ]
     },
     "metadata": {
      "needs_background": "light"
     },
     "output_type": "display_data"
    }
   ],
   "source": [
    "kde_col = ['CreditScore', 'Age', 'Tenure', 'Balance','NumOfProducts','EstimatedSalary']\n",
    "\n",
    "plt.figure(figsize=(20,10))\n",
    "for i in range(len(kde_col)):\n",
    "    plt.subplot(3,3,i+1)\n",
    "    sns.kdeplot(x=df3[df3.Exited == 0][kde_col[i]],label='Stayed', color='g')\n",
    "    sns.kdeplot(x=df3[df3.Exited == 1][kde_col[i]],label='Exited', color='r')\n",
    "    plt.legend()"
   ]
  },
  {
   "cell_type": "code",
   "execution_count": 40,
   "id": "a16979f9",
   "metadata": {
    "scrolled": false
   },
   "outputs": [
    {
     "data": {
      "image/png": "[encoded data removed]",
      "text/plain": [
       "<Figure size 1440x720 with 5 Axes>"
      ]
     },
     "metadata": {
      "needs_background": "light"
     },
     "output_type": "display_data"
    }
   ],
   "source": [
    "bar_cols = ['HasCrCard','IsActiveMember', 'Germany', 'Spain','Male']\n",
    "\n",
    "plt.figure(figsize=(20,10))\n",
    "for j in range(len(bar_cols)):\n",
    "    temp = 0\n",
    "    plt.subplot(2,3,j+1)\n",
    "    plt.title(f'{bar_cols[j]}')\n",
    "    for i in df3[bar_cols[j]].unique():\n",
    "        width = 0.2\n",
    "        x_labels = [i+temp for i in [0,1]]\n",
    "        values = df3[df3[bar_cols[j]] == i].Exited.value_counts().to_dict()\n",
    "        y_heights = [values[0],values[1]]\n",
    "        plt.bar(x_labels,y_heights,width=width, label = f'{i}')\n",
    "        plt.xticks(df3.Exited.unique()+width/2, ['Exited','Stayed'])\n",
    "        temp = temp+width\n",
    "        plt.legend()"
   ]
  },
  {
   "cell_type": "markdown",
   "id": "e4aed655",
   "metadata": {},
   "source": [
    "# Model"
   ]
  },
  {
   "cell_type": "code",
   "execution_count": 49,
   "id": "0448dd33",
   "metadata": {},
   "outputs": [
    {
     "data": {
      "text/plain": [
       "(8000, 11)"
      ]
     },
     "execution_count": 49,
     "metadata": {},
     "output_type": "execute_result"
    }
   ],
   "source": [
    "X_train_scaled.shape"
   ]
  },
  {
   "cell_type": "code",
   "execution_count": 51,
   "id": "480d7a4c",
   "metadata": {},
   "outputs": [],
   "source": [
    "model = keras.Sequential([\n",
    "    keras.layers.Dense(11,input_shape = (11,),activation = 'relu'),\n",
    "#     keras.layers.Dense(11,activation = 'relu'),\n",
    "    keras.layers.Dense(1,activation = 'sigmoid')\n",
    "])\n",
    "\n",
    "model.compile(\n",
    "    optimizer='adam',\n",
    "    loss = 'binary_crossentropy',\n",
    "    metrics = ['accuracy']\n",
    ")\n",
    "\n",
    "tb_callback = keras.callbacks.TensorBoard(log_dir = './logs/bank_customer_churn')"
   ]
  },
  {
   "cell_type": "code",
   "execution_count": 53,
   "id": "cc66a868",
   "metadata": {
    "scrolled": true
   },
   "outputs": [
    {
     "name": "stdout",
     "output_type": "stream",
     "text": [
      "Epoch 1/100\n",
      "  2/250 [..............................] - ETA: 18s - loss: 0.4911 - accuracy: 0.7812WARNING:tensorflow:Callbacks method `on_train_batch_begin` is slow compared to the batch time (batch time: 0.0000s vs `on_train_batch_begin` time: 0.0010s). Check your callbacks.\n",
      "WARNING:tensorflow:Callbacks method `on_train_batch_end` is slow compared to the batch time (batch time: 0.0000s vs `on_train_batch_end` time: 0.1486s). Check your callbacks.\n",
      "250/250 [==============================] - 0s 1ms/step - loss: 0.4184 - accuracy: 0.8194\n",
      "Epoch 2/100\n",
      "250/250 [==============================] - 0s 799us/step - loss: 0.4141 - accuracy: 0.8217\n",
      "Epoch 3/100\n",
      "250/250 [==============================] - 0s 1ms/step - loss: 0.4108 - accuracy: 0.8221\n",
      "Epoch 4/100\n",
      "250/250 [==============================] - 0s 954us/step - loss: 0.4073 - accuracy: 0.8255\n",
      "Epoch 5/100\n",
      "250/250 [==============================] - 0s 936us/step - loss: 0.4049 - accuracy: 0.8254\n",
      "Epoch 6/100\n",
      "250/250 [==============================] - 0s 980us/step - loss: 0.4014 - accuracy: 0.8257\n",
      "Epoch 7/100\n",
      "250/250 [==============================] - 0s 844us/step - loss: 0.3984 - accuracy: 0.8267\n",
      "Epoch 8/100\n",
      "250/250 [==============================] - 0s 892us/step - loss: 0.3954 - accuracy: 0.8298\n",
      "Epoch 9/100\n",
      "250/250 [==============================] - 0s 891us/step - loss: 0.3926 - accuracy: 0.8305\n",
      "Epoch 10/100\n",
      "250/250 [==============================] - 0s 891us/step - loss: 0.3901 - accuracy: 0.8344\n",
      "Epoch 11/100\n",
      "250/250 [==============================] - 0s 826us/step - loss: 0.3873 - accuracy: 0.8336\n",
      "Epoch 12/100\n",
      "250/250 [==============================] - 0s 889us/step - loss: 0.3858 - accuracy: 0.8341\n",
      "Epoch 13/100\n",
      "250/250 [==============================] - 0s 851us/step - loss: 0.3833 - accuracy: 0.8354\n",
      "Epoch 14/100\n",
      "250/250 [==============================] - 0s 804us/step - loss: 0.3813 - accuracy: 0.8375\n",
      "Epoch 15/100\n",
      "250/250 [==============================] - 0s 851us/step - loss: 0.3801 - accuracy: 0.8372\n",
      "Epoch 16/100\n",
      "250/250 [==============================] - 0s 1ms/step - loss: 0.3776 - accuracy: 0.8395\n",
      "Epoch 17/100\n",
      "250/250 [==============================] - 0s 847us/step - loss: 0.3760 - accuracy: 0.8396\n",
      "Epoch 18/100\n",
      "250/250 [==============================] - 0s 888us/step - loss: 0.3741 - accuracy: 0.8404\n",
      "Epoch 19/100\n",
      "250/250 [==============================] - 0s 894us/step - loss: 0.3724 - accuracy: 0.8407\n",
      "Epoch 20/100\n",
      "250/250 [==============================] - 0s 935us/step - loss: 0.3713 - accuracy: 0.8399\n",
      "Epoch 21/100\n",
      "250/250 [==============================] - 0s 982us/step - loss: 0.3698 - accuracy: 0.8409\n",
      "Epoch 22/100\n",
      "250/250 [==============================] - 0s 888us/step - loss: 0.3683 - accuracy: 0.8435\n",
      "Epoch 23/100\n",
      "250/250 [==============================] - 0s 897us/step - loss: 0.3678 - accuracy: 0.8421\n",
      "Epoch 24/100\n",
      "250/250 [==============================] - 0s 848us/step - loss: 0.3662 - accuracy: 0.8440\n",
      "Epoch 25/100\n",
      "250/250 [==============================] - 0s 850us/step - loss: 0.3651 - accuracy: 0.8438\n",
      "Epoch 26/100\n",
      "250/250 [==============================] - 0s 847us/step - loss: 0.3637 - accuracy: 0.8438\n",
      "Epoch 27/100\n",
      "250/250 [==============================] - 0s 847us/step - loss: 0.3633 - accuracy: 0.8443\n",
      "Epoch 28/100\n",
      "250/250 [==============================] - 0s 847us/step - loss: 0.3619 - accuracy: 0.8454\n",
      "Epoch 29/100\n",
      "250/250 [==============================] - 0s 896us/step - loss: 0.3606 - accuracy: 0.8461\n",
      "Epoch 30/100\n",
      "250/250 [==============================] - 0s 981us/step - loss: 0.3599 - accuracy: 0.8455\n",
      "Epoch 31/100\n",
      "250/250 [==============================] - 0s 843us/step - loss: 0.3587 - accuracy: 0.8449\n",
      "Epoch 32/100\n",
      "250/250 [==============================] - 0s 849us/step - loss: 0.3581 - accuracy: 0.8475\n",
      "Epoch 33/100\n",
      "250/250 [==============================] - 0s 863us/step - loss: 0.3571 - accuracy: 0.8474\n",
      "Epoch 34/100\n",
      "250/250 [==============================] - 0s 813us/step - loss: 0.3568 - accuracy: 0.8470\n",
      "Epoch 35/100\n",
      "250/250 [==============================] - 0s 850us/step - loss: 0.3560 - accuracy: 0.8471\n",
      "Epoch 36/100\n",
      "250/250 [==============================] - 0s 892us/step - loss: 0.3549 - accuracy: 0.8482\n",
      "Epoch 37/100\n",
      "250/250 [==============================] - 0s 891us/step - loss: 0.3546 - accuracy: 0.8480\n",
      "Epoch 38/100\n",
      "250/250 [==============================] - 0s 847us/step - loss: 0.3538 - accuracy: 0.8484\n",
      "Epoch 39/100\n",
      "250/250 [==============================] - 0s 848us/step - loss: 0.3532 - accuracy: 0.8481\n",
      "Epoch 40/100\n",
      "250/250 [==============================] - 0s 845us/step - loss: 0.3535 - accuracy: 0.8500\n",
      "Epoch 41/100\n",
      "250/250 [==============================] - 0s 848us/step - loss: 0.3521 - accuracy: 0.8514\n",
      "Epoch 42/100\n",
      "250/250 [==============================] - 0s 843us/step - loss: 0.3514 - accuracy: 0.8509\n",
      "Epoch 43/100\n",
      "250/250 [==============================] - 0s 896us/step - loss: 0.3509 - accuracy: 0.8512\n",
      "Epoch 44/100\n",
      "250/250 [==============================] - 0s 891us/step - loss: 0.3506 - accuracy: 0.8510\n",
      "Epoch 45/100\n",
      "250/250 [==============================] - 0s 851us/step - loss: 0.3500 - accuracy: 0.8518\n",
      "Epoch 46/100\n",
      "250/250 [==============================] - 0s 891us/step - loss: 0.3495 - accuracy: 0.8521\n",
      "Epoch 47/100\n",
      "250/250 [==============================] - 0s 845us/step - loss: 0.3491 - accuracy: 0.8525\n",
      "Epoch 48/100\n",
      "250/250 [==============================] - 0s 847us/step - loss: 0.3485 - accuracy: 0.8534\n",
      "Epoch 49/100\n",
      "250/250 [==============================] - 0s 852us/step - loss: 0.3483 - accuracy: 0.8535\n",
      "Epoch 50/100\n",
      "250/250 [==============================] - 0s 868us/step - loss: 0.3484 - accuracy: 0.8535\n",
      "Epoch 51/100\n",
      "250/250 [==============================] - 0s 889us/step - loss: 0.3481 - accuracy: 0.8553\n",
      "Epoch 52/100\n",
      "250/250 [==============================] - 0s 849us/step - loss: 0.3470 - accuracy: 0.8539\n",
      "Epoch 53/100\n",
      "250/250 [==============================] - 0s 887us/step - loss: 0.3467 - accuracy: 0.8536\n",
      "Epoch 54/100\n",
      "250/250 [==============================] - 0s 803us/step - loss: 0.3463 - accuracy: 0.8534\n",
      "Epoch 55/100\n",
      "250/250 [==============================] - 0s 847us/step - loss: 0.3457 - accuracy: 0.8551\n",
      "Epoch 56/100\n",
      "250/250 [==============================] - 0s 849us/step - loss: 0.3457 - accuracy: 0.8559\n",
      "Epoch 57/100\n",
      "250/250 [==============================] - 0s 845us/step - loss: 0.3451 - accuracy: 0.8558\n",
      "Epoch 58/100\n",
      "250/250 [==============================] - 0s 893us/step - loss: 0.3454 - accuracy: 0.8530\n",
      "Epoch 59/100\n",
      "250/250 [==============================] - 0s 852us/step - loss: 0.3449 - accuracy: 0.8551\n",
      "Epoch 60/100\n",
      "250/250 [==============================] - 0s 845us/step - loss: 0.3457 - accuracy: 0.8545\n",
      "Epoch 61/100\n",
      "250/250 [==============================] - 0s 875us/step - loss: 0.3439 - accuracy: 0.8577\n",
      "Epoch 62/100\n",
      "250/250 [==============================] - 0s 847us/step - loss: 0.3444 - accuracy: 0.8544\n",
      "Epoch 63/100\n",
      "250/250 [==============================] - 0s 844us/step - loss: 0.3441 - accuracy: 0.8568\n",
      "Epoch 64/100\n",
      "250/250 [==============================] - 0s 916us/step - loss: 0.3437 - accuracy: 0.8565\n",
      "Epoch 65/100\n",
      "250/250 [==============================] - 0s 938us/step - loss: 0.3434 - accuracy: 0.8570\n",
      "Epoch 66/100\n",
      "250/250 [==============================] - 0s 849us/step - loss: 0.3431 - accuracy: 0.8554\n",
      "Epoch 67/100\n",
      "250/250 [==============================] - 0s 851us/step - loss: 0.3430 - accuracy: 0.8560\n",
      "Epoch 68/100\n",
      "250/250 [==============================] - 0s 848us/step - loss: 0.3430 - accuracy: 0.8579\n",
      "Epoch 69/100\n",
      "250/250 [==============================] - 0s 849us/step - loss: 0.3426 - accuracy: 0.8543\n",
      "Epoch 70/100\n",
      "250/250 [==============================] - 0s 844us/step - loss: 0.3425 - accuracy: 0.8562\n",
      "Epoch 71/100\n",
      "250/250 [==============================] - 0s 849us/step - loss: 0.3420 - accuracy: 0.8564\n",
      "Epoch 72/100\n",
      "250/250 [==============================] - 0s 843us/step - loss: 0.3418 - accuracy: 0.8574\n",
      "Epoch 73/100\n",
      "250/250 [==============================] - 0s 851us/step - loss: 0.3426 - accuracy: 0.8575\n",
      "Epoch 74/100\n",
      "250/250 [==============================] - 0s 891us/step - loss: 0.3417 - accuracy: 0.8559\n",
      "Epoch 75/100\n"
     ]
    },
    {
     "name": "stdout",
     "output_type": "stream",
     "text": [
      "250/250 [==============================] - 0s 1ms/step - loss: 0.3425 - accuracy: 0.8566\n",
      "Epoch 76/100\n",
      "250/250 [==============================] - 0s 2ms/step - loss: 0.3413 - accuracy: 0.8579\n",
      "Epoch 77/100\n",
      "250/250 [==============================] - 0s 2ms/step - loss: 0.3411 - accuracy: 0.8583\n",
      "Epoch 78/100\n",
      "250/250 [==============================] - 0s 2ms/step - loss: 0.3414 - accuracy: 0.8575\n",
      "Epoch 79/100\n",
      "250/250 [==============================] - 0s 804us/step - loss: 0.3408 - accuracy: 0.8593\n",
      "Epoch 80/100\n",
      "250/250 [==============================] - 0s 1ms/step - loss: 0.3412 - accuracy: 0.8570\n",
      "Epoch 81/100\n",
      "250/250 [==============================] - 0s 937us/step - loss: 0.3408 - accuracy: 0.8577\n",
      "Epoch 82/100\n",
      "250/250 [==============================] - 0s 849us/step - loss: 0.3414 - accuracy: 0.8576\n",
      "Epoch 83/100\n",
      "250/250 [==============================] - 0s 889us/step - loss: 0.3405 - accuracy: 0.8579\n",
      "Epoch 84/100\n",
      "250/250 [==============================] - 0s 760us/step - loss: 0.3402 - accuracy: 0.8566\n",
      "Epoch 85/100\n",
      "250/250 [==============================] - 0s 935us/step - loss: 0.3401 - accuracy: 0.8574\n",
      "Epoch 86/100\n",
      "250/250 [==============================] - 0s 1ms/step - loss: 0.3402 - accuracy: 0.8568\n",
      "Epoch 87/100\n",
      "250/250 [==============================] - 0s 930us/step - loss: 0.3407 - accuracy: 0.8596\n",
      "Epoch 88/100\n",
      "250/250 [==============================] - 0s 872us/step - loss: 0.3399 - accuracy: 0.8564\n",
      "Epoch 89/100\n",
      "250/250 [==============================] - 0s 971us/step - loss: 0.3396 - accuracy: 0.8581\n",
      "Epoch 90/100\n",
      "250/250 [==============================] - 0s 851us/step - loss: 0.3404 - accuracy: 0.8581\n",
      "Epoch 91/100\n",
      "250/250 [==============================] - 0s 806us/step - loss: 0.3403 - accuracy: 0.8590\n",
      "Epoch 92/100\n",
      "250/250 [==============================] - 0s 2ms/step - loss: 0.3404 - accuracy: 0.8596\n",
      "Epoch 93/100\n",
      "250/250 [==============================] - 0s 792us/step - loss: 0.3390 - accuracy: 0.8590\n",
      "Epoch 94/100\n",
      "250/250 [==============================] - 0s 803us/step - loss: 0.3391 - accuracy: 0.8575\n",
      "Epoch 95/100\n",
      "250/250 [==============================] - 0s 807us/step - loss: 0.3395 - accuracy: 0.8581\n",
      "Epoch 96/100\n",
      "250/250 [==============================] - 0s 847us/step - loss: 0.3396 - accuracy: 0.8593\n",
      "Epoch 97/100\n",
      "250/250 [==============================] - 0s 958us/step - loss: 0.3394 - accuracy: 0.8577\n",
      "Epoch 98/100\n",
      "250/250 [==============================] - 0s 870us/step - loss: 0.3388 - accuracy: 0.8583\n",
      "Epoch 99/100\n",
      "250/250 [==============================] - 0s 852us/step - loss: 0.3389 - accuracy: 0.8601\n",
      "Epoch 100/100\n",
      "250/250 [==============================] - 0s 800us/step - loss: 0.3390 - accuracy: 0.8581\n"
     ]
    },
    {
     "data": {
      "text/plain": [
       "<tensorflow.python.keras.callbacks.History at 0x24423aeb550>"
      ]
     },
     "execution_count": 53,
     "metadata": {},
     "output_type": "execute_result"
    }
   ],
   "source": [
    "model.fit(X_train_scaled,y_train,epochs=100,callbacks=tb_callback)"
   ]
  },
  {
   "cell_type": "code",
   "execution_count": 55,
   "id": "0d49ff7a",
   "metadata": {},
   "outputs": [
    {
     "name": "stdout",
     "output_type": "stream",
     "text": [
      "63/63 [==============================] - 0s 617us/step - loss: 0.3517 - accuracy: 0.8530\n"
     ]
    },
    {
     "data": {
      "text/plain": [
       "[0.3517025113105774, 0.8529999852180481]"
      ]
     },
     "execution_count": 55,
     "metadata": {},
     "output_type": "execute_result"
    }
   ],
   "source": [
    "model.evaluate(X_test_scaled,y_test)"
   ]
  },
  {
   "cell_type": "markdown",
   "id": "6f447fd6",
   "metadata": {},
   "source": [
    "# Model Analysis"
   ]
  },
  {
   "cell_type": "code",
   "execution_count": 60,
   "id": "2d78f574",
   "metadata": {},
   "outputs": [
    {
     "data": {
      "text/plain": [
       "Text(24.0, 0.5, 'Y_original')"
      ]
     },
     "execution_count": 60,
     "metadata": {},
     "output_type": "execute_result"
    },
    {
     "data": {
      "image/png": "[encoded data removed]",
      "text/plain": [
       "<Figure size 360x360 with 1 Axes>"
      ]
     },
     "metadata": {
      "needs_background": "light"
     },
     "output_type": "display_data"
    }
   ],
   "source": [
    "y_pred = [1 if i>=0.5 else 0 for i in model.predict(X_test_scaled).reshape(-1,)]\n",
    "\n",
    "plt.figure(figsize=(5,5))\n",
    "sns.heatmap(confusion_matrix(y_test,y_pred), annot=True, cbar=False)\n",
    "plt.xlabel('Y_predicted')\n",
    "plt.ylabel('Y_original')"
   ]
  },
  {
   "cell_type": "code",
   "execution_count": 62,
   "id": "9dd45810",
   "metadata": {},
   "outputs": [
    {
     "name": "stdout",
     "output_type": "stream",
     "text": [
      "              precision    recall  f1-score   support\n",
      "\n",
      "           0       0.87      0.96      0.91      1593\n",
      "           1       0.72      0.45      0.56       407\n",
      "\n",
      "    accuracy                           0.85      2000\n",
      "   macro avg       0.80      0.70      0.73      2000\n",
      "weighted avg       0.84      0.85      0.84      2000\n",
      "\n"
     ]
    }
   ],
   "source": [
    "print(classification_report(y_test,y_pred))"
   ]
  }
 ],
 "metadata": {
  "kernelspec": {
   "display_name": "Python 3",
   "language": "python",
   "name": "python3"
  },
  "language_info": {
   "codemirror_mode": {
    "name": "ipython",
    "version": 3
   },
   "file_extension": ".py",
   "mimetype": "text/x-python",
   "name": "python",
   "nbconvert_exporter": "python",
   "pygments_lexer": "ipython3",
   "version": "3.8.8"
  }
 },
 "nbformat": 4,
 "nbformat_minor": 5
}

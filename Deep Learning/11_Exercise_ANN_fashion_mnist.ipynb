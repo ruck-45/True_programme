{
 "cells": [
  {
   "cell_type": "code",
   "execution_count": 1,
   "id": "11244677",
   "metadata": {},
   "outputs": [],
   "source": [
    "import pandas as pd\n",
    "import numpy as np\n",
    "import matplotlib.pyplot as plt\n",
    "import tensorflow as tf\n",
    "\n",
    "from tensorflow import keras"
   ]
  },
  {
   "cell_type": "markdown",
   "id": "1b8f630d",
   "metadata": {},
   "source": [
    "# Dataset"
   ]
  },
  {
   "cell_type": "code",
   "execution_count": 13,
   "id": "fd2c73c5",
   "metadata": {},
   "outputs": [],
   "source": [
    "(x_train,y_train),(x_test,y_test) = keras.datasets.fashion_mnist.load_data()"
   ]
  },
  {
   "cell_type": "code",
   "execution_count": 14,
   "id": "db6e7b65",
   "metadata": {},
   "outputs": [],
   "source": [
    "label = ['T-shirt/top','Trouser','Pullover','Dress','Coat','Sandal','Shirt','Sneaker','Bag','Ankle boot']"
   ]
  },
  {
   "cell_type": "markdown",
   "id": "da382b1e",
   "metadata": {},
   "source": [
    "# Visualization"
   ]
  },
  {
   "cell_type": "code",
   "execution_count": 6,
   "id": "b9164993",
   "metadata": {},
   "outputs": [
    {
     "name": "stdout",
     "output_type": "stream",
     "text": [
      "Ankle boot\n"
     ]
    },
    {
     "data": {
      "text/plain": [
       "<matplotlib.image.AxesImage at 0x248c7f88d60>"
      ]
     },
     "execution_count": 6,
     "metadata": {},
     "output_type": "execute_result"
    },
    {
     "data": {
      "image/png": "[encoded data removed]",
      "text/plain": [
       "<Figure size 432x288 with 1 Axes>"
      ]
     },
     "metadata": {
      "needs_background": "light"
     },
     "output_type": "display_data"
    }
   ],
   "source": [
    "print(label[y_train[0]])\n",
    "plt.imshow(x_train[0])"
   ]
  },
  {
   "cell_type": "code",
   "execution_count": 7,
   "id": "94d404c0",
   "metadata": {},
   "outputs": [
    {
     "name": "stdout",
     "output_type": "stream",
     "text": [
      "T-shirt/top\n"
     ]
    },
    {
     "data": {
      "text/plain": [
       "<matplotlib.image.AxesImage at 0x248c828e730>"
      ]
     },
     "execution_count": 7,
     "metadata": {},
     "output_type": "execute_result"
    },
    {
     "data": {
      "image/png": "[encoded data removed]",
      "text/plain": [
       "<Figure size 432x288 with 1 Axes>"
      ]
     },
     "metadata": {
      "needs_background": "light"
     },
     "output_type": "display_data"
    }
   ],
   "source": [
    "print(label[y_train[1]])\n",
    "plt.imshow(x_train[1])"
   ]
  },
  {
   "cell_type": "code",
   "execution_count": 9,
   "id": "94687fd2",
   "metadata": {},
   "outputs": [
    {
     "name": "stdout",
     "output_type": "stream",
     "text": [
      "Dress\n"
     ]
    },
    {
     "data": {
      "text/plain": [
       "<matplotlib.image.AxesImage at 0x248c7e70370>"
      ]
     },
     "execution_count": 9,
     "metadata": {},
     "output_type": "execute_result"
    },
    {
     "data": {
      "image/png": "[encoded data removed]",
      "text/plain": [
       "<Figure size 432x288 with 1 Axes>"
      ]
     },
     "metadata": {
      "needs_background": "light"
     },
     "output_type": "display_data"
    }
   ],
   "source": [
    "print(label[y_train[3]])\n",
    "plt.imshow(x_train[3])"
   ]
  },
  {
   "cell_type": "markdown",
   "id": "52ef2f03",
   "metadata": {},
   "source": [
    "# Processing"
   ]
  },
  {
   "cell_type": "code",
   "execution_count": 15,
   "id": "ca325f37",
   "metadata": {},
   "outputs": [],
   "source": [
    "x_train_scaled = x_train/255\n",
    "x_test_scaled = x_test/255"
   ]
  },
  {
   "cell_type": "code",
   "execution_count": 19,
   "id": "0fe7a528",
   "metadata": {},
   "outputs": [],
   "source": [
    "y_train_encoded = keras.utils.to_categorical(y_train,num_classes=len(label))\n",
    "y_test_encoded = keras.utils.to_categorical(y_test,num_classes=len(label))"
   ]
  },
  {
   "cell_type": "markdown",
   "id": "f652a085",
   "metadata": {},
   "source": [
    "# Model"
   ]
  },
  {
   "cell_type": "code",
   "execution_count": 20,
   "id": "35fd2fcd",
   "metadata": {},
   "outputs": [
    {
     "data": {
      "text/plain": [
       "(60000, 28, 28)"
      ]
     },
     "execution_count": 20,
     "metadata": {},
     "output_type": "execute_result"
    }
   ],
   "source": [
    "x_train.shape"
   ]
  },
  {
   "cell_type": "code",
   "execution_count": 25,
   "id": "b2c0d190",
   "metadata": {},
   "outputs": [],
   "source": [
    "model = keras.Sequential([\n",
    "    keras.layers.Flatten(input_shape = (28, 28)),\n",
    "    keras.layers.Dense(500,activation = 'relu'),\n",
    "    keras.layers.Dense(300,activation = 'relu'),\n",
    "    keras.layers.Dense(100,activation = 'relu'),\n",
    "    keras.layers.Dense(50,activation = 'relu'),\n",
    "    keras.layers.Dense(10,activation = 'softmax')\n",
    "])\n",
    "\n",
    "model.compile(\n",
    "    optimizer = 'adam',\n",
    "    loss = 'categorical_crossentropy',\n",
    "    metrics = ['accuracy']\n",
    ")\n",
    "\n",
    "tb_callback = keras.callbacks.TensorBoard(log_dir = './logs/fashion_mnist_catagorical_crossentropy_adam_01')"
   ]
  },
  {
   "cell_type": "code",
   "execution_count": 26,
   "id": "91a11014",
   "metadata": {
    "scrolled": true
   },
   "outputs": [
    {
     "name": "stdout",
     "output_type": "stream",
     "text": [
      "Epoch 1/200\n",
      "1875/1875 [==============================] - 7s 3ms/step - loss: 0.4918 - accuracy: 0.8216\n",
      "Epoch 2/200\n",
      "1875/1875 [==============================] - 7s 3ms/step - loss: 0.3744 - accuracy: 0.8635\n",
      "Epoch 3/200\n",
      "1875/1875 [==============================] - 7s 4ms/step - loss: 0.3319 - accuracy: 0.8785\n",
      "Epoch 4/200\n",
      "1875/1875 [==============================] - 7s 4ms/step - loss: 0.3097 - accuracy: 0.8862\n",
      "Epoch 5/200\n",
      "1875/1875 [==============================] - 7s 4ms/step - loss: 0.2908 - accuracy: 0.8921\n",
      "Epoch 6/200\n",
      "1875/1875 [==============================] - 8s 4ms/step - loss: 0.2750 - accuracy: 0.8967\n",
      "Epoch 7/200\n",
      "1875/1875 [==============================] - 10s 6ms/step - loss: 0.2632 - accuracy: 0.9005\n",
      "Epoch 8/200\n",
      "1875/1875 [==============================] - 10s 5ms/step - loss: 0.2498 - accuracy: 0.9060\n",
      "Epoch 9/200\n",
      "1875/1875 [==============================] - 9s 5ms/step - loss: 0.2412 - accuracy: 0.9101\n",
      "Epoch 10/200\n",
      "1875/1875 [==============================] - 8s 4ms/step - loss: 0.2361 - accuracy: 0.9114\n",
      "Epoch 11/200\n",
      "1875/1875 [==============================] - 9s 5ms/step - loss: 0.2254 - accuracy: 0.9154\n",
      "Epoch 12/200\n",
      "1875/1875 [==============================] - 9s 5ms/step - loss: 0.2177 - accuracy: 0.9176\n",
      "Epoch 13/200\n",
      "1875/1875 [==============================] - 9s 5ms/step - loss: 0.2095 - accuracy: 0.9197\n",
      "Epoch 14/200\n",
      "1875/1875 [==============================] - 9s 5ms/step - loss: 0.2058 - accuracy: 0.9215\n",
      "Epoch 15/200\n",
      "1875/1875 [==============================] - 9s 5ms/step - loss: 0.1973 - accuracy: 0.9241\n",
      "Epoch 16/200\n",
      "1875/1875 [==============================] - 9s 5ms/step - loss: 0.1927 - accuracy: 0.9267\n",
      "Epoch 17/200\n",
      "1875/1875 [==============================] - 9s 5ms/step - loss: 0.1874 - accuracy: 0.9289\n",
      "Epoch 18/200\n",
      "1875/1875 [==============================] - 9s 5ms/step - loss: 0.1809 - accuracy: 0.9299\n",
      "Epoch 19/200\n",
      "1875/1875 [==============================] - 10s 6ms/step - loss: 0.1753 - accuracy: 0.9332\n",
      "Epoch 20/200\n",
      "1875/1875 [==============================] - 9s 5ms/step - loss: 0.1736 - accuracy: 0.9349\n",
      "Epoch 21/200\n",
      "1875/1875 [==============================] - 10s 5ms/step - loss: 0.1666 - accuracy: 0.9359\n",
      "Epoch 22/200\n",
      "1875/1875 [==============================] - 10s 5ms/step - loss: 0.1647 - accuracy: 0.9373\n",
      "Epoch 23/200\n",
      "1875/1875 [==============================] - 9s 5ms/step - loss: 0.1574 - accuracy: 0.9399\n",
      "Epoch 24/200\n",
      "1875/1875 [==============================] - 9s 5ms/step - loss: 0.1545 - accuracy: 0.9412\n",
      "Epoch 25/200\n",
      "1875/1875 [==============================] - 9s 5ms/step - loss: 0.1537 - accuracy: 0.9410\n",
      "Epoch 26/200\n",
      "1875/1875 [==============================] - 11s 6ms/step - loss: 0.1446 - accuracy: 0.9449\n",
      "Epoch 27/200\n",
      "1875/1875 [==============================] - 11s 6ms/step - loss: 0.1454 - accuracy: 0.9452\n",
      "Epoch 28/200\n",
      "1875/1875 [==============================] - 10s 5ms/step - loss: 0.1475 - accuracy: 0.9433\n",
      "Epoch 29/200\n",
      "1875/1875 [==============================] - 9s 5ms/step - loss: 0.1397 - accuracy: 0.9462\n",
      "Epoch 30/200\n",
      "1875/1875 [==============================] - 9s 5ms/step - loss: 0.1360 - accuracy: 0.9481\n",
      "Epoch 31/200\n",
      "1875/1875 [==============================] - 9s 5ms/step - loss: 0.1328 - accuracy: 0.9487\n",
      "Epoch 32/200\n",
      "1875/1875 [==============================] - 9s 5ms/step - loss: 0.1303 - accuracy: 0.9501\n",
      "Epoch 33/200\n",
      "1875/1875 [==============================] - 9s 5ms/step - loss: 0.1266 - accuracy: 0.9512\n",
      "Epoch 34/200\n",
      "1875/1875 [==============================] - 10s 5ms/step - loss: 0.1272 - accuracy: 0.9509\n",
      "Epoch 35/200\n",
      "1875/1875 [==============================] - 9s 5ms/step - loss: 0.1252 - accuracy: 0.9537\n",
      "Epoch 36/200\n",
      "1875/1875 [==============================] - 10s 5ms/step - loss: 0.1190 - accuracy: 0.9551\n",
      "Epoch 37/200\n",
      "1875/1875 [==============================] - 10s 5ms/step - loss: 0.1184 - accuracy: 0.9552\n",
      "Epoch 38/200\n",
      "1875/1875 [==============================] - 11s 6ms/step - loss: 0.1151 - accuracy: 0.9570\n",
      "Epoch 39/200\n",
      "1875/1875 [==============================] - 10s 5ms/step - loss: 0.1157 - accuracy: 0.9564 0s -\n",
      "Epoch 40/200\n",
      "1875/1875 [==============================] - 9s 5ms/step - loss: 0.1121 - accuracy: 0.9571\n",
      "Epoch 41/200\n",
      "1875/1875 [==============================] - 9s 5ms/step - loss: 0.1065 - accuracy: 0.9591\n",
      "Epoch 42/200\n",
      "1875/1875 [==============================] - 9s 5ms/step - loss: 0.1090 - accuracy: 0.9592\n",
      "Epoch 43/200\n",
      "1875/1875 [==============================] - 9s 5ms/step - loss: 0.1050 - accuracy: 0.9604\n",
      "Epoch 44/200\n",
      "1875/1875 [==============================] - 9s 5ms/step - loss: 0.1005 - accuracy: 0.9615\n",
      "Epoch 45/200\n",
      "1875/1875 [==============================] - 9s 5ms/step - loss: 0.1049 - accuracy: 0.9599\n",
      "Epoch 46/200\n",
      "1875/1875 [==============================] - 9s 5ms/step - loss: 0.1043 - accuracy: 0.9612\n",
      "Epoch 47/200\n",
      "1875/1875 [==============================] - 10s 5ms/step - loss: 0.0969 - accuracy: 0.9638\n",
      "Epoch 48/200\n",
      "1875/1875 [==============================] - 9s 5ms/step - loss: 0.0972 - accuracy: 0.9640\n",
      "Epoch 49/200\n",
      "1875/1875 [==============================] - 10s 5ms/step - loss: 0.0969 - accuracy: 0.9628\n",
      "Epoch 50/200\n",
      "1875/1875 [==============================] - 9s 5ms/step - loss: 0.0961 - accuracy: 0.9640\n",
      "Epoch 51/200\n",
      "1875/1875 [==============================] - 9s 5ms/step - loss: 0.0911 - accuracy: 0.9653\n",
      "Epoch 52/200\n",
      "1875/1875 [==============================] - 10s 5ms/step - loss: 0.0918 - accuracy: 0.9658 0s - los\n",
      "Epoch 53/200\n",
      "1875/1875 [==============================] - 9s 5ms/step - loss: 0.0911 - accuracy: 0.9654\n",
      "Epoch 54/200\n",
      "1875/1875 [==============================] - 9s 5ms/step - loss: 0.0971 - accuracy: 0.9647\n",
      "Epoch 55/200\n",
      "1875/1875 [==============================] - 9s 5ms/step - loss: 0.0892 - accuracy: 0.9671\n",
      "Epoch 56/200\n",
      "1875/1875 [==============================] - 9s 5ms/step - loss: 0.0881 - accuracy: 0.9670\n",
      "Epoch 57/200\n",
      "1875/1875 [==============================] - 9s 5ms/step - loss: 0.0898 - accuracy: 0.9677\n",
      "Epoch 58/200\n",
      "1875/1875 [==============================] - 9s 5ms/step - loss: 0.0833 - accuracy: 0.9692\n",
      "Epoch 59/200\n",
      "1875/1875 [==============================] - 10s 5ms/step - loss: 0.0812 - accuracy: 0.9690\n",
      "Epoch 60/200\n",
      "1875/1875 [==============================] - 9s 5ms/step - loss: 0.0776 - accuracy: 0.9715\n",
      "Epoch 61/200\n",
      "1875/1875 [==============================] - 9s 5ms/step - loss: 0.0797 - accuracy: 0.9698\n",
      "Epoch 62/200\n",
      "1875/1875 [==============================] - 9s 5ms/step - loss: 0.0834 - accuracy: 0.9693\n",
      "Epoch 63/200\n",
      "1875/1875 [==============================] - 9s 5ms/step - loss: 0.0805 - accuracy: 0.9713\n",
      "Epoch 64/200\n",
      "1875/1875 [==============================] - 9s 5ms/step - loss: 0.0819 - accuracy: 0.9699\n",
      "Epoch 65/200\n",
      "1875/1875 [==============================] - 9s 5ms/step - loss: 0.0761 - accuracy: 0.9719\n",
      "Epoch 66/200\n",
      "1875/1875 [==============================] - 10s 5ms/step - loss: 0.0766 - accuracy: 0.9716\n",
      "Epoch 67/200\n",
      "1875/1875 [==============================] - 9s 5ms/step - loss: 0.0735 - accuracy: 0.9733\n",
      "Epoch 68/200\n",
      "1875/1875 [==============================] - 9s 5ms/step - loss: 0.0748 - accuracy: 0.9719\n",
      "Epoch 69/200\n",
      "1875/1875 [==============================] - 9s 5ms/step - loss: 0.0749 - accuracy: 0.9725\n",
      "Epoch 70/200\n",
      "1875/1875 [==============================] - 9s 5ms/step - loss: 0.0701 - accuracy: 0.9738\n",
      "Epoch 71/200\n",
      "1875/1875 [==============================] - 9s 5ms/step - loss: 0.0737 - accuracy: 0.9731\n",
      "Epoch 72/200\n",
      "1875/1875 [==============================] - 9s 5ms/step - loss: 0.0663 - accuracy: 0.9751\n",
      "Epoch 73/200\n",
      "1875/1875 [==============================] - 8s 4ms/step - loss: 0.0711 - accuracy: 0.9744\n",
      "Epoch 74/200\n",
      "1875/1875 [==============================] - 9s 5ms/step - loss: 0.0722 - accuracy: 0.9741\n",
      "Epoch 75/200\n",
      "1875/1875 [==============================] - 10s 5ms/step - loss: 0.0631 - accuracy: 0.9760\n",
      "Epoch 76/200\n",
      "1875/1875 [==============================] - 11s 6ms/step - loss: 0.0754 - accuracy: 0.9736\n",
      "Epoch 77/200\n",
      "1875/1875 [==============================] - 11s 6ms/step - loss: 0.0642 - accuracy: 0.9768\n",
      "Epoch 78/200\n",
      "1875/1875 [==============================] - 11s 6ms/step - loss: 0.0669 - accuracy: 0.9769\n",
      "Epoch 79/200\n"
     ]
    },
    {
     "name": "stdout",
     "output_type": "stream",
     "text": [
      "1875/1875 [==============================] - 11s 6ms/step - loss: 0.0677 - accuracy: 0.9754\n",
      "Epoch 80/200\n",
      "1875/1875 [==============================] - 11s 6ms/step - loss: 0.0642 - accuracy: 0.9770\n",
      "Epoch 81/200\n",
      "1875/1875 [==============================] - 12s 6ms/step - loss: 0.0653 - accuracy: 0.9768\n",
      "Epoch 82/200\n",
      "1875/1875 [==============================] - 12s 6ms/step - loss: 0.0615 - accuracy: 0.9782\n",
      "Epoch 83/200\n",
      "1875/1875 [==============================] - 10s 5ms/step - loss: 0.0657 - accuracy: 0.9766\n",
      "Epoch 84/200\n",
      "1875/1875 [==============================] - 11s 6ms/step - loss: 0.0676 - accuracy: 0.9766\n",
      "Epoch 85/200\n",
      "1875/1875 [==============================] - 11s 6ms/step - loss: 0.0564 - accuracy: 0.9801\n",
      "Epoch 86/200\n",
      "1875/1875 [==============================] - 12s 6ms/step - loss: 0.0629 - accuracy: 0.9784\n",
      "Epoch 87/200\n",
      "1875/1875 [==============================] - 11s 6ms/step - loss: 0.0592 - accuracy: 0.9795\n",
      "Epoch 88/200\n",
      "1875/1875 [==============================] - 10s 5ms/step - loss: 0.0574 - accuracy: 0.9796\n",
      "Epoch 89/200\n",
      "1875/1875 [==============================] - 12s 6ms/step - loss: 0.0593 - accuracy: 0.9796\n",
      "Epoch 90/200\n",
      "1875/1875 [==============================] - 12s 6ms/step - loss: 0.0584 - accuracy: 0.9793\n",
      "Epoch 91/200\n",
      "1875/1875 [==============================] - 11s 6ms/step - loss: 0.0586 - accuracy: 0.9793\n",
      "Epoch 92/200\n",
      "1875/1875 [==============================] - 12s 6ms/step - loss: 0.0589 - accuracy: 0.9798\n",
      "Epoch 93/200\n",
      "1875/1875 [==============================] - 12s 7ms/step - loss: 0.0658 - accuracy: 0.9772\n",
      "Epoch 94/200\n",
      "1875/1875 [==============================] - 15s 8ms/step - loss: 0.0542 - accuracy: 0.9803\n",
      "Epoch 95/200\n",
      "1875/1875 [==============================] - 13s 7ms/step - loss: 0.0554 - accuracy: 0.9808\n",
      "Epoch 96/200\n",
      "1875/1875 [==============================] - 13s 7ms/step - loss: 0.0661 - accuracy: 0.9787\n",
      "Epoch 97/200\n",
      "1875/1875 [==============================] - 14s 8ms/step - loss: 0.0554 - accuracy: 0.9808\n",
      "Epoch 98/200\n",
      "1875/1875 [==============================] - 14s 8ms/step - loss: 0.0604 - accuracy: 0.9794\n",
      "Epoch 99/200\n",
      "1875/1875 [==============================] - 14s 7ms/step - loss: 0.0473 - accuracy: 0.9834\n",
      "Epoch 100/200\n",
      "1875/1875 [==============================] - 14s 7ms/step - loss: 0.0541 - accuracy: 0.9816\n",
      "Epoch 101/200\n",
      "1875/1875 [==============================] - 15s 8ms/step - loss: 0.0529 - accuracy: 0.9820\n",
      "Epoch 102/200\n",
      "1875/1875 [==============================] - 14s 8ms/step - loss: 0.0442 - accuracy: 0.9839\n",
      "Epoch 103/200\n",
      "1875/1875 [==============================] - 13s 7ms/step - loss: 0.0753 - accuracy: 0.9763\n",
      "Epoch 104/200\n",
      "1875/1875 [==============================] - 14s 7ms/step - loss: 0.0460 - accuracy: 0.9844\n",
      "Epoch 105/200\n",
      "1875/1875 [==============================] - 15s 8ms/step - loss: 0.0513 - accuracy: 0.9822\n",
      "Epoch 106/200\n",
      "1875/1875 [==============================] - 13s 7ms/step - loss: 0.0550 - accuracy: 0.9824\n",
      "Epoch 107/200\n",
      "1875/1875 [==============================] - 14s 7ms/step - loss: 0.0551 - accuracy: 0.9814\n",
      "Epoch 108/200\n",
      "1875/1875 [==============================] - 13s 7ms/step - loss: 0.0460 - accuracy: 0.9844\n",
      "Epoch 109/200\n",
      "1875/1875 [==============================] - 13s 7ms/step - loss: 0.0528 - accuracy: 0.9833\n",
      "Epoch 110/200\n",
      "1875/1875 [==============================] - 13s 7ms/step - loss: 0.0515 - accuracy: 0.9827 0s - loss: 0.0515 - accuracy: 0.\n",
      "Epoch 111/200\n",
      "1875/1875 [==============================] - 13s 7ms/step - loss: 0.0423 - accuracy: 0.9853\n",
      "Epoch 112/200\n",
      "1875/1875 [==============================] - 12s 6ms/step - loss: 0.0495 - accuracy: 0.9842\n",
      "Epoch 113/200\n",
      "1875/1875 [==============================] - 14s 7ms/step - loss: 0.0580 - accuracy: 0.9814 0s - loss: 0.0\n",
      "Epoch 114/200\n",
      "1875/1875 [==============================] - 14s 7ms/step - loss: 0.0415 - accuracy: 0.9866\n",
      "Epoch 115/200\n",
      "1875/1875 [==============================] - 13s 7ms/step - loss: 0.0555 - accuracy: 0.9823\n",
      "Epoch 116/200\n",
      "1875/1875 [==============================] - 14s 7ms/step - loss: 0.0466 - accuracy: 0.9854\n",
      "Epoch 117/200\n",
      "1875/1875 [==============================] - 14s 8ms/step - loss: 0.0555 - accuracy: 0.9845\n",
      "Epoch 118/200\n",
      "1875/1875 [==============================] - 14s 8ms/step - loss: 0.0419 - accuracy: 0.9852\n",
      "Epoch 119/200\n",
      "1875/1875 [==============================] - 14s 7ms/step - loss: 0.0474 - accuracy: 0.9844\n",
      "Epoch 120/200\n",
      "1875/1875 [==============================] - 13s 7ms/step - loss: 0.0464 - accuracy: 0.9851\n",
      "Epoch 121/200\n",
      "1875/1875 [==============================] - 14s 8ms/step - loss: 0.0424 - accuracy: 0.9860\n",
      "Epoch 122/200\n",
      "1875/1875 [==============================] - 14s 8ms/step - loss: 0.0419 - accuracy: 0.9862\n",
      "Epoch 123/200\n",
      "1875/1875 [==============================] - 14s 8ms/step - loss: 0.0449 - accuracy: 0.9851\n",
      "Epoch 124/200\n",
      "1875/1875 [==============================] - 14s 7ms/step - loss: 0.0431 - accuracy: 0.9855\n",
      "Epoch 125/200\n",
      "1875/1875 [==============================] - 13s 7ms/step - loss: 0.0416 - accuracy: 0.9858\n",
      "Epoch 126/200\n",
      "1875/1875 [==============================] - 14s 7ms/step - loss: 0.0481 - accuracy: 0.9842\n",
      "Epoch 127/200\n",
      "1875/1875 [==============================] - 12s 7ms/step - loss: 0.0408 - accuracy: 0.9861\n",
      "Epoch 128/200\n",
      "1875/1875 [==============================] - 13s 7ms/step - loss: 0.0444 - accuracy: 0.9858\n",
      "Epoch 129/200\n",
      "1875/1875 [==============================] - 14s 8ms/step - loss: 0.0409 - accuracy: 0.9860\n",
      "Epoch 130/200\n",
      "1875/1875 [==============================] - 14s 7ms/step - loss: 0.0409 - accuracy: 0.9871\n",
      "Epoch 131/200\n",
      "1875/1875 [==============================] - 13s 7ms/step - loss: 0.0481 - accuracy: 0.9850\n",
      "Epoch 132/200\n",
      "1875/1875 [==============================] - 12s 6ms/step - loss: 0.0445 - accuracy: 0.9857\n",
      "Epoch 133/200\n",
      "1875/1875 [==============================] - 15s 8ms/step - loss: 0.0462 - accuracy: 0.9856\n",
      "Epoch 134/200\n",
      "1875/1875 [==============================] - 15s 8ms/step - loss: 0.0419 - accuracy: 0.9864\n",
      "Epoch 135/200\n",
      "1875/1875 [==============================] - 15s 8ms/step - loss: 0.0381 - accuracy: 0.9879\n",
      "Epoch 136/200\n",
      "1875/1875 [==============================] - 15s 8ms/step - loss: 0.0396 - accuracy: 0.9868\n",
      "Epoch 137/200\n",
      "1875/1875 [==============================] - 15s 8ms/step - loss: 0.0438 - accuracy: 0.9856 0s\n",
      "Epoch 138/200\n",
      "1875/1875 [==============================] - 15s 8ms/step - loss: 0.0415 - accuracy: 0.9862\n",
      "Epoch 139/200\n",
      "1875/1875 [==============================] - 15s 8ms/step - loss: 0.0563 - accuracy: 0.9859\n",
      "Epoch 140/200\n",
      "1875/1875 [==============================] - 15s 8ms/step - loss: 0.0472 - accuracy: 0.9855\n",
      "Epoch 141/200\n",
      "1875/1875 [==============================] - 15s 8ms/step - loss: 0.0411 - accuracy: 0.9869\n",
      "Epoch 142/200\n",
      "1875/1875 [==============================] - 15s 8ms/step - loss: 0.0399 - accuracy: 0.9879\n",
      "Epoch 143/200\n",
      "1875/1875 [==============================] - 14s 8ms/step - loss: 0.0408 - accuracy: 0.9870\n",
      "Epoch 144/200\n",
      "1875/1875 [==============================] - 13s 7ms/step - loss: 0.0427 - accuracy: 0.9862\n",
      "Epoch 145/200\n",
      "1875/1875 [==============================] - 14s 8ms/step - loss: 0.0352 - accuracy: 0.9885\n",
      "Epoch 146/200\n",
      "1875/1875 [==============================] - 13s 7ms/step - loss: 0.0422 - accuracy: 0.9873\n",
      "Epoch 147/200\n",
      "1875/1875 [==============================] - 14s 8ms/step - loss: 0.0442 - accuracy: 0.9864\n",
      "Epoch 148/200\n",
      "1875/1875 [==============================] - 14s 7ms/step - loss: 0.0367 - accuracy: 0.9876\n",
      "Epoch 149/200\n",
      "1875/1875 [==============================] - 15s 8ms/step - loss: 0.0360 - accuracy: 0.9881\n",
      "Epoch 150/200\n",
      "1875/1875 [==============================] - 15s 8ms/step - loss: 0.0442 - accuracy: 0.9870\n",
      "Epoch 151/200\n",
      "1875/1875 [==============================] - 14s 8ms/step - loss: 0.0479 - accuracy: 0.9866\n",
      "Epoch 152/200\n",
      "1875/1875 [==============================] - 15s 8ms/step - loss: 0.0390 - accuracy: 0.9876\n",
      "Epoch 153/200\n",
      "1875/1875 [==============================] - 13s 7ms/step - loss: 0.0396 - accuracy: 0.9883\n",
      "Epoch 154/200\n",
      "1875/1875 [==============================] - 13s 7ms/step - loss: 0.0327 - accuracy: 0.9892\n",
      "Epoch 155/200\n",
      "1875/1875 [==============================] - 14s 8ms/step - loss: 0.0406 - accuracy: 0.9874\n",
      "Epoch 156/200\n"
     ]
    },
    {
     "name": "stdout",
     "output_type": "stream",
     "text": [
      "1875/1875 [==============================] - 14s 7ms/step - loss: 0.0636 - accuracy: 0.9833\n",
      "Epoch 157/200\n",
      "1875/1875 [==============================] - 15s 8ms/step - loss: 0.0346 - accuracy: 0.9891\n",
      "Epoch 158/200\n",
      "1875/1875 [==============================] - 14s 7ms/step - loss: 0.0451 - accuracy: 0.9889\n",
      "Epoch 159/200\n",
      "1875/1875 [==============================] - 15s 8ms/step - loss: 0.0451 - accuracy: 0.9878\n",
      "Epoch 160/200\n",
      "1875/1875 [==============================] - 14s 7ms/step - loss: 0.0464 - accuracy: 0.9889\n",
      "Epoch 161/200\n",
      "1875/1875 [==============================] - 14s 7ms/step - loss: 0.0439 - accuracy: 0.9880\n",
      "Epoch 162/200\n",
      "1875/1875 [==============================] - 15s 8ms/step - loss: 0.0278 - accuracy: 0.9908\n",
      "Epoch 163/200\n",
      "1875/1875 [==============================] - 15s 8ms/step - loss: 0.0421 - accuracy: 0.9868\n",
      "Epoch 164/200\n",
      "1875/1875 [==============================] - 14s 8ms/step - loss: 0.0323 - accuracy: 0.9894\n",
      "Epoch 165/200\n",
      "1875/1875 [==============================] - ETA: 0s - loss: 0.0368 - accuracy: 0.98 - 15s 8ms/step - loss: 0.0369 - accuracy: 0.9884\n",
      "Epoch 166/200\n",
      "1875/1875 [==============================] - 15s 8ms/step - loss: 0.0463 - accuracy: 0.9872\n",
      "Epoch 167/200\n",
      "1875/1875 [==============================] - 11s 6ms/step - loss: 0.0385 - accuracy: 0.9878\n",
      "Epoch 168/200\n",
      "1875/1875 [==============================] - 11s 6ms/step - loss: 0.0330 - accuracy: 0.9899 0s - loss: 0.0\n",
      "Epoch 169/200\n",
      "1875/1875 [==============================] - 12s 6ms/step - loss: 0.0406 - accuracy: 0.9884\n",
      "Epoch 170/200\n",
      "1875/1875 [==============================] - 13s 7ms/step - loss: 0.0333 - accuracy: 0.9899\n",
      "Epoch 171/200\n",
      "1875/1875 [==============================] - 12s 6ms/step - loss: 0.0441 - accuracy: 0.9875\n",
      "Epoch 172/200\n",
      "1875/1875 [==============================] - 12s 6ms/step - loss: 0.0300 - accuracy: 0.9909\n",
      "Epoch 173/200\n",
      "1875/1875 [==============================] - 12s 6ms/step - loss: 0.0374 - accuracy: 0.9887\n",
      "Epoch 174/200\n",
      "1875/1875 [==============================] - 10s 5ms/step - loss: 0.0414 - accuracy: 0.9873\n",
      "Epoch 175/200\n",
      "1875/1875 [==============================] - 7s 4ms/step - loss: 0.0295 - accuracy: 0.9911\n",
      "Epoch 176/200\n",
      "1875/1875 [==============================] - 9s 5ms/step - loss: 0.0622 - accuracy: 0.9851\n",
      "Epoch 177/200\n",
      "1875/1875 [==============================] - 12s 6ms/step - loss: 0.0399 - accuracy: 0.9884\n",
      "Epoch 178/200\n",
      "1875/1875 [==============================] - 14s 8ms/step - loss: 0.0260 - accuracy: 0.9919\n",
      "Epoch 179/200\n",
      "1875/1875 [==============================] - 14s 7ms/step - loss: 0.0280 - accuracy: 0.9909\n",
      "Epoch 180/200\n",
      "1875/1875 [==============================] - 14s 8ms/step - loss: 0.0433 - accuracy: 0.9880\n",
      "Epoch 181/200\n",
      "1875/1875 [==============================] - 13s 7ms/step - loss: 0.0325 - accuracy: 0.9897\n",
      "Epoch 182/200\n",
      "1875/1875 [==============================] - 14s 7ms/step - loss: 0.0295 - accuracy: 0.9909\n",
      "Epoch 183/200\n",
      "1875/1875 [==============================] - 13s 7ms/step - loss: 0.0281 - accuracy: 0.9910\n",
      "Epoch 184/200\n",
      "1875/1875 [==============================] - 15s 8ms/step - loss: 0.0386 - accuracy: 0.9882\n",
      "Epoch 185/200\n",
      "1875/1875 [==============================] - 14s 8ms/step - loss: 0.0336 - accuracy: 0.9899\n",
      "Epoch 186/200\n",
      "1875/1875 [==============================] - 15s 8ms/step - loss: 0.0330 - accuracy: 0.9899\n",
      "Epoch 187/200\n",
      "1875/1875 [==============================] - 15s 8ms/step - loss: 0.0370 - accuracy: 0.9890\n",
      "Epoch 188/200\n",
      "1875/1875 [==============================] - 16s 8ms/step - loss: 0.0335 - accuracy: 0.9900\n",
      "Epoch 189/200\n",
      "1875/1875 [==============================] - 16s 8ms/step - loss: 0.0420 - accuracy: 0.9883\n",
      "Epoch 190/200\n",
      "1875/1875 [==============================] - 16s 8ms/step - loss: 0.0257 - accuracy: 0.9916\n",
      "Epoch 191/200\n",
      "1875/1875 [==============================] - 15s 8ms/step - loss: 0.0539 - accuracy: 0.9842\n",
      "Epoch 192/200\n",
      "1875/1875 [==============================] - 11s 6ms/step - loss: 0.0503 - accuracy: 0.9885\n",
      "Epoch 193/200\n",
      "1875/1875 [==============================] - 15s 8ms/step - loss: 0.0304 - accuracy: 0.9909\n",
      "Epoch 194/200\n",
      "1875/1875 [==============================] - 15s 8ms/step - loss: 0.0272 - accuracy: 0.9917\n",
      "Epoch 195/200\n",
      "1875/1875 [==============================] - 14s 7ms/step - loss: 0.0349 - accuracy: 0.9900\n",
      "Epoch 196/200\n",
      "1875/1875 [==============================] - 14s 8ms/step - loss: 0.0302 - accuracy: 0.9904\n",
      "Epoch 197/200\n",
      "1875/1875 [==============================] - 15s 8ms/step - loss: 0.0307 - accuracy: 0.9903\n",
      "Epoch 198/200\n",
      "1875/1875 [==============================] - ETA: 0s - loss: 0.0333 - accuracy: 0.99 - 15s 8ms/step - loss: 0.0334 - accuracy: 0.9899\n",
      "Epoch 199/200\n",
      "1875/1875 [==============================] - 15s 8ms/step - loss: 0.0370 - accuracy: 0.9898\n",
      "Epoch 200/200\n",
      "1875/1875 [==============================] - 15s 8ms/step - loss: 0.0347 - accuracy: 0.9898 0s - loss: 0.0348 - accura\n"
     ]
    },
    {
     "data": {
      "text/plain": [
       "<tensorflow.python.keras.callbacks.History at 0x248cb45d910>"
      ]
     },
     "execution_count": 26,
     "metadata": {},
     "output_type": "execute_result"
    }
   ],
   "source": [
    "model.fit(x_train_scaled,y_train_encoded,epochs=200)"
   ]
  },
  {
   "cell_type": "code",
   "execution_count": 27,
   "id": "76cf64a0",
   "metadata": {},
   "outputs": [
    {
     "name": "stdout",
     "output_type": "stream",
     "text": [
      "313/313 [==============================] - 1s 2ms/step - loss: 1.8054 - accuracy: 0.8950\n"
     ]
    },
    {
     "data": {
      "text/plain": [
       "[1.805421233177185, 0.8949999809265137]"
      ]
     },
     "execution_count": 27,
     "metadata": {},
     "output_type": "execute_result"
    }
   ],
   "source": [
    "model.evaluate(x_test_scaled,y_test_encoded)"
   ]
  },
  {
   "cell_type": "code",
   "execution_count": 35,
   "id": "762b5677",
   "metadata": {
    "scrolled": true
   },
   "outputs": [
    {
     "name": "stdout",
     "output_type": "stream",
     "text": [
      "Ankle boot\n",
      "Ankle boot\n"
     ]
    }
   ],
   "source": [
    "print(label[y_test[0]])\n",
    "print(label[np.argmax(model.predict(x_test)[0])])"
   ]
  },
  {
   "cell_type": "code",
   "execution_count": 37,
   "id": "cb9b5867",
   "metadata": {
    "scrolled": true
   },
   "outputs": [
    {
     "name": "stdout",
     "output_type": "stream",
     "text": [
      "Pullover\n",
      "Pullover\n"
     ]
    }
   ],
   "source": [
    "print(label[y_test[1]])\n",
    "print(label[np.argmax(model.predict(x_test)[1])])"
   ]
  },
  {
   "cell_type": "code",
   "execution_count": 38,
   "id": "fa4b40c7",
   "metadata": {
    "scrolled": true
   },
   "outputs": [
    {
     "name": "stdout",
     "output_type": "stream",
     "text": [
      "Trouser\n",
      "Trouser\n"
     ]
    }
   ],
   "source": [
    "print(label[y_test[2]])\n",
    "print(label[np.argmax(model.predict(x_test)[2])])"
   ]
  }
 ],
 "metadata": {
  "kernelspec": {
   "display_name": "Python 3",
   "language": "python",
   "name": "python3"
  },
  "language_info": {
   "codemirror_mode": {
    "name": "ipython",
    "version": 3
   },
   "file_extension": ".py",
   "mimetype": "text/x-python",
   "name": "python",
   "nbconvert_exporter": "python",
   "pygments_lexer": "ipython3",
   "version": "3.8.8"
  }
 },
 "nbformat": 4,
 "nbformat_minor": 5
}

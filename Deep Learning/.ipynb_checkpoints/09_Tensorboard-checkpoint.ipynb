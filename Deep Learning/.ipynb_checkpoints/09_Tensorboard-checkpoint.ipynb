{
 "cells": [
  {
   "cell_type": "markdown",
   "id": "faab2a9b",
   "metadata": {},
   "source": [
    "# Tensorboard\n",
    "- It is a powerful analytical tool to visualize and compare deep learning models\n",
    "- We have to save the logs while calling the fit method of the model"
   ]
  },
  {
   "cell_type": "markdown",
   "id": "c87b5572",
   "metadata": {},
   "source": [
    "- Open tensorboard using $tensorboard --logdir (address of log files)"
   ]
  },
  {
   "cell_type": "code",
   "execution_count": 1,
   "id": "f6a18396",
   "metadata": {},
   "outputs": [],
   "source": [
    "import numpy as np\n",
    "import pandas as pd\n",
    "import tensorflow as tf\n",
    "import matplotlib.pyplot as plt\n",
    "\n",
    "from tensorflow import keras\n",
    "from sklearn.preprocessing import MinMaxScaler"
   ]
  },
  {
   "cell_type": "code",
   "execution_count": 2,
   "id": "7a990026",
   "metadata": {},
   "outputs": [
    {
     "data": {
      "text/plain": [
       "['__builtins__',\n",
       " '__cached__',\n",
       " '__doc__',\n",
       " '__file__',\n",
       " '__loader__',\n",
       " '__name__',\n",
       " '__package__',\n",
       " '__path__',\n",
       " '__spec__',\n",
       " '_sys',\n",
       " 'load_data']"
      ]
     },
     "execution_count": 2,
     "metadata": {},
     "output_type": "execute_result"
    }
   ],
   "source": [
    "digits = keras.datasets.mnist\n",
    "dir(digits)"
   ]
  },
  {
   "cell_type": "code",
   "execution_count": 3,
   "id": "1131d570",
   "metadata": {},
   "outputs": [],
   "source": [
    "(x_train , y_train) , (x_test , y_test) = digits.load_data()"
   ]
  },
  {
   "cell_type": "code",
   "execution_count": 4,
   "id": "735508fa",
   "metadata": {},
   "outputs": [],
   "source": [
    "x_train = x_train.reshape(60000,-1)\n",
    "x_test = x_test.reshape(10000,-1)"
   ]
  },
  {
   "cell_type": "code",
   "execution_count": 5,
   "id": "e6a2a7f0",
   "metadata": {},
   "outputs": [],
   "source": [
    "scaler = MinMaxScaler()\n",
    "x_train = scaler.fit_transform(x_train)\n",
    "x_test = scaler.fit_transform(x_test)"
   ]
  },
  {
   "cell_type": "code",
   "execution_count": 6,
   "id": "4a266896",
   "metadata": {},
   "outputs": [],
   "source": [
    "model = keras.Sequential([\n",
    "    keras.layers.Dense(64,input_shape = (28*28,),activation = 'relu'),\n",
    "    keras.layers.Dense(32,activation = 'relu'),\n",
    "    keras.layers.Dense(16,activation = 'relu'),\n",
    "    keras.layers.Dense(16,activation = 'relu'),\n",
    "    keras.layers.Dense(16,activation = 'softmax')\n",
    "])\n",
    "\n",
    "model.compile(\n",
    "    optimizer = 'adam',\n",
    "    loss = 'sparse_categorical_crossentropy',\n",
    "    metrics = ['accuracy']\n",
    ")"
   ]
  },
  {
   "cell_type": "code",
   "execution_count": 7,
   "id": "e1be624e",
   "metadata": {},
   "outputs": [],
   "source": [
    "tb_callback = tf.keras.callbacks.TensorBoard(log_dir = './logs/digits_adam',histogram_freq = 1)"
   ]
  },
  {
   "cell_type": "code",
   "execution_count": 8,
   "id": "9c784d2f",
   "metadata": {},
   "outputs": [
    {
     "name": "stdout",
     "output_type": "stream",
     "text": [
      "Epoch 1/100\n",
      "   1/1875 [..............................] - ETA: 0s - loss: 2.7809 - accuracy: 0.0312WARNING:tensorflow:From C:\\ProgramData\\Anaconda3\\lib\\site-packages\\tensorflow\\python\\ops\\summary_ops_v2.py:1277: stop (from tensorflow.python.eager.profiler) is deprecated and will be removed after 2020-07-01.\n",
      "Instructions for updating:\n",
      "use `tf.profiler.experimental.stop` instead.\n",
      "   2/1875 [..............................] - ETA: 22:39 - loss: 2.7631 - accuracy: 0.0156WARNING:tensorflow:Callbacks method `on_train_batch_end` is slow compared to the batch time (batch time: 0.0020s vs `on_train_batch_end` time: 1.4493s). Check your callbacks.\n",
      "1875/1875 [==============================] - 4s 2ms/step - loss: 0.3485 - accuracy: 0.8986\n",
      "Epoch 2/100\n",
      "1875/1875 [==============================] - 2s 921us/step - loss: 0.1402 - accuracy: 0.9582\n",
      "Epoch 3/100\n",
      "1875/1875 [==============================] - 2s 976us/step - loss: 0.1051 - accuracy: 0.9684\n",
      "Epoch 4/100\n",
      "1875/1875 [==============================] - 2s 965us/step - loss: 0.0851 - accuracy: 0.97400s - loss: 0.0838 - accura\n",
      "Epoch 5/100\n",
      "1875/1875 [==============================] - 3s 2ms/step - loss: 0.0728 - accuracy: 0.9779: 0s - loss: 0.0720 \n",
      "Epoch 6/100\n",
      "1875/1875 [==============================] - 2s 1ms/step - loss: 0.0616 - accuracy: 0.9804: 1s - loss: 0.0539 - accu\n",
      "Epoch 7/100\n",
      "1875/1875 [==============================] - 2s 1ms/step - loss: 0.0529 - accuracy: 0.9829: 0s - loss: 0.0\n",
      "Epoch 8/100\n",
      "1875/1875 [==============================] - 2s 1ms/step - loss: 0.0465 - accuracy: 0.9844\n",
      "Epoch 9/100\n",
      "1875/1875 [==============================] - 3s 2ms/step - loss: 0.0405 - accuracy: 0.9863: 1s - loss: 0.0382 - accura - ETA: 0s - l\n",
      "Epoch 10/100\n",
      "1875/1875 [==============================] - 3s 1ms/step - loss: 0.0380 - accuracy: 0.9873: 1s - loss: 0.0301 \n",
      "Epoch 11/100\n",
      "1875/1875 [==============================] - 3s 2ms/step - loss: 0.0337 - accuracy: 0.9889\n",
      "Epoch 12/100\n",
      "1875/1875 [==============================] - 2s 1ms/step - loss: 0.0298 - accuracy: 0.9898\n",
      "Epoch 13/100\n",
      "1875/1875 [==============================] - 3s 2ms/step - loss: 0.0284 - accuracy: 0.9901\n",
      "Epoch 14/100\n",
      "1875/1875 [==============================] - 2s 1ms/step - loss: 0.0265 - accuracy: 0.9914: 1s - loss: 0.0191 - accura - ETA: 1s - loss: 0.0216 - accura\n",
      "Epoch 15/100\n",
      "1875/1875 [==============================] - 3s 2ms/step - loss: 0.0245 - accuracy: 0.9918\n",
      "Epoch 16/100\n",
      "1875/1875 [==============================] - 2s 1ms/step - loss: 0.0244 - accuracy: 0.9918\n",
      "Epoch 17/100\n",
      "1875/1875 [==============================] - 2s 1ms/step - loss: 0.0200 - accuracy: 0.9934\n",
      "Epoch 18/100\n",
      "1875/1875 [==============================] - 3s 1ms/step - loss: 0.0225 - accuracy: 0.9926\n",
      "Epoch 19/100\n",
      "1875/1875 [==============================] - 2s 1ms/step - loss: 0.0198 - accuracy: 0.9933\n",
      "Epoch 20/100\n",
      "1875/1875 [==============================] - 2s 1ms/step - loss: 0.0201 - accuracy: 0.9935: 1s - loss: 0.0200 - accuracy - ETA: 1s - loss: 0.0 - ETA: 0s - l\n",
      "Epoch 21/100\n",
      "1875/1875 [==============================] - 2s 1ms/step - loss: 0.0167 - accuracy: 0.9944: 1s - loss: - ETA: 0s - loss: 0.0158 - accuracy:  - ETA: 0s - loss: 0.0147 - accuracy - ETA: 0s - loss: 0.0\n",
      "Epoch 22/100\n",
      "1875/1875 [==============================] - 2s 1ms/step - loss: 0.0189 - accuracy: 0.9938: 1s - loss: 0.018\n",
      "Epoch 23/100\n",
      "1875/1875 [==============================] - 3s 1ms/step - loss: 0.0186 - accuracy: 0.9944: 1s - loss: 0.0109 - accuracy: 0. - ETA: 1s - loss: 0.0110 - accuracy: 0. - ETA: 1s - loss: - ETA: 0s - loss: 0.0141 - accuracy:  - ETA: 0s - loss: 0.0144  - ETA: 0s - loss: 0.0189 - accura\n",
      "Epoch 24/100\n",
      "1875/1875 [==============================] - 2s 1ms/step - loss: 0.0151 - accuracy: 0.9948: 0s - loss: 0.0137 \n",
      "Epoch 25/100\n",
      "1875/1875 [==============================] - 3s 1ms/step - loss: 0.0135 - accuracy: 0.9954: 0s - loss: 0.0127 - \n",
      "Epoch 26/100\n",
      "1875/1875 [==============================] - 2s 1ms/step - loss: 0.0156 - accuracy: 0.9949: 1s - - ETA: 0s - l\n",
      "Epoch 27/100\n",
      "1875/1875 [==============================] - 3s 2ms/step - loss: 0.0123 - accuracy: 0.9960: 0s - loss: 0 - ETA: 0s - loss: 0.0106 - accuracy: 0. - ETA: 0s - loss: 0.0109 - accu\n",
      "Epoch 28/100\n",
      "1875/1875 [==============================] - 2s 1ms/step - loss: 0.0145 - accuracy: 0.9952\n",
      "Epoch 29/100\n",
      "1875/1875 [==============================] - 2s 1ms/step - loss: 0.0142 - accuracy: 0.9954\n",
      "Epoch 30/100\n",
      "1875/1875 [==============================] - 2s 1ms/step - loss: 0.0131 - accuracy: 0.9957: 0s - loss: 0.0133 - accuracy\n",
      "Epoch 31/100\n",
      "1875/1875 [==============================] - 2s 1ms/step - loss: 0.0148 - accuracy: 0.9954\n",
      "Epoch 32/100\n",
      "1875/1875 [==============================] - 3s 2ms/step - loss: 0.0107 - accuracy: 0.9965: 0s - loss: 0.0106 - accuracy\n",
      "Epoch 33/100\n",
      "1875/1875 [==============================] - 3s 2ms/step - loss: 0.0119 - accuracy: 0.9959 - ETA: 0s\n",
      "Epoch 34/100\n",
      "1875/1875 [==============================] - 2s 1ms/step - loss: 0.0121 - accuracy: 0.9959: 0s - loss: - ETA: 0s - loss: 0.0117 - accuracy: \n",
      "Epoch 35/100\n",
      "1875/1875 [==============================] - 2s 1ms/step - loss: 0.0148 - accuracy: 0.9956\n",
      "Epoch 36/100\n",
      "1875/1875 [==============================] - 2s 1ms/step - loss: 0.0104 - accuracy: 0.9966\n",
      "Epoch 37/100\n",
      "1875/1875 [==============================] - 2s 1ms/step - loss: 0.0113 - accuracy: 0.9962\n",
      "Epoch 38/100\n",
      "1875/1875 [==============================] - 2s 1ms/step - loss: 0.0113 - accuracy: 0.9966: 1s - loss: 0.0048 - accuracy - ETA: 1s - los - ETA: 0s - l\n",
      "Epoch 39/100\n",
      "1875/1875 [==============================] - 2s 987us/step - loss: 0.0099 - accuracy: 0.9969\n",
      "Epoch 40/100\n",
      "1875/1875 [==============================] - 2s 1ms/step - loss: 0.0119 - accuracy: 0.9961\n",
      "Epoch 41/100\n",
      "1875/1875 [==============================] - 2s 1ms/step - loss: 0.0112 - accuracy: 0.9964\n",
      "Epoch 42/100\n",
      "1875/1875 [==============================] - 2s 1ms/step - loss: 0.0106 - accuracy: 0.9965\n",
      "Epoch 43/100\n",
      "1875/1875 [==============================] - 2s 1ms/step - loss: 0.0121 - accuracy: 0.9964\n",
      "Epoch 44/100\n",
      "1875/1875 [==============================] - 2s 1ms/step - loss: 0.0097 - accuracy: 0.9972\n",
      "Epoch 45/100\n",
      "1875/1875 [==============================] - 2s 1ms/step - loss: 0.0088 - accuracy: 0.9973\n",
      "Epoch 46/100\n",
      "1875/1875 [==============================] - 2s 1ms/step - loss: 0.0102 - accuracy: 0.9968\n",
      "Epoch 47/100\n",
      "1875/1875 [==============================] - 2s 978us/step - loss: 0.0080 - accuracy: 0.9976\n",
      "Epoch 48/100\n",
      "1875/1875 [==============================] - 2s 996us/step - loss: 0.0110 - accuracy: 0.9966\n",
      "Epoch 49/100\n",
      "1875/1875 [==============================] - 2s 1ms/step - loss: 0.0097 - accuracy: 0.9970\n",
      "Epoch 50/100\n",
      "1875/1875 [==============================] - 3s 1ms/step - loss: 0.0077 - accuracy: 0.9973\n",
      "Epoch 51/100\n",
      "1875/1875 [==============================] - 2s 1ms/step - loss: 0.0106 - accuracy: 0.9968\n",
      "Epoch 52/100\n",
      "1875/1875 [==============================] - 2s 1ms/step - loss: 0.0078 - accuracy: 0.9975\n",
      "Epoch 53/100\n",
      "1875/1875 [==============================] - 2s 923us/step - loss: 0.0084 - accuracy: 0.9976\n",
      "Epoch 54/100\n",
      "1875/1875 [==============================] - 2s 949us/step - loss: 0.0086 - accuracy: 0.9975\n",
      "Epoch 55/100\n",
      "1875/1875 [==============================] - 2s 1ms/step - loss: 0.0094 - accuracy: 0.9972\n",
      "Epoch 56/100\n",
      "1875/1875 [==============================] - 2s 1ms/step - loss: 0.0074 - accuracy: 0.9974\n",
      "Epoch 57/100\n",
      "1875/1875 [==============================] - 2s 1ms/step - loss: 0.0099 - accuracy: 0.9973\n",
      "Epoch 58/100\n",
      "1875/1875 [==============================] - 2s 1ms/step - loss: 0.0069 - accuracy: 0.9977\n",
      "Epoch 59/100\n",
      "1875/1875 [==============================] - 2s 1ms/step - loss: 0.0088 - accuracy: 0.9975\n",
      "Epoch 60/100\n",
      "1875/1875 [==============================] - 3s 2ms/step - loss: 0.0087 - accuracy: 0.9973: 0s - loss: 0.0086 \n",
      "Epoch 61/100\n",
      "1875/1875 [==============================] - 2s 1ms/step - loss: 0.0082 - accuracy: 0.9975\n",
      "Epoch 62/100\n",
      "1875/1875 [==============================] - 2s 1ms/step - loss: 0.0091 - accuracy: 0.9971\n",
      "Epoch 63/100\n",
      "1875/1875 [==============================] - 3s 2ms/step - loss: 0.0075 - accuracy: 0.9979\n",
      "Epoch 64/100\n"
     ]
    },
    {
     "name": "stdout",
     "output_type": "stream",
     "text": [
      "1875/1875 [==============================] - 4s 2ms/step - loss: 0.0064 - accuracy: 0.9980\n",
      "Epoch 65/100\n",
      "1875/1875 [==============================] - 5s 3ms/step - loss: 0.0072 - accuracy: 0.9977\n",
      "Epoch 66/100\n",
      "1875/1875 [==============================] - 5s 3ms/step - loss: 0.0082 - accuracy: 0.9973\n",
      "Epoch 67/100\n",
      "1875/1875 [==============================] - 4s 2ms/step - loss: 0.0066 - accuracy: 0.9979: 0s\n",
      "Epoch 68/100\n",
      "1875/1875 [==============================] - 4s 2ms/step - loss: 0.0063 - accuracy: 0.9981\n",
      "Epoch 69/100\n",
      "1875/1875 [==============================] - 5s 2ms/step - loss: 0.0067 - accuracy: 0.9978\n",
      "Epoch 70/100\n",
      "1875/1875 [==============================] - 5s 3ms/step - loss: 0.0084 - accuracy: 0.9972\n",
      "Epoch 71/100\n",
      "1875/1875 [==============================] - 5s 3ms/step - loss: 0.0073 - accuracy: 0.9979\n",
      "Epoch 72/100\n",
      "1875/1875 [==============================] - 4s 2ms/step - loss: 0.0078 - accuracy: 0.9977\n",
      "Epoch 73/100\n",
      "1875/1875 [==============================] - 4s 2ms/step - loss: 0.0060 - accuracy: 0.9983\n",
      "Epoch 74/100\n",
      "1875/1875 [==============================] - 5s 2ms/step - loss: 0.0081 - accuracy: 0.9978\n",
      "Epoch 75/100\n",
      "1875/1875 [==============================] - 5s 3ms/step - loss: 0.0057 - accuracy: 0.9983\n",
      "Epoch 76/100\n",
      "1875/1875 [==============================] - 4s 2ms/step - loss: 0.0081 - accuracy: 0.9978\n",
      "Epoch 77/100\n",
      "1875/1875 [==============================] - 4s 2ms/step - loss: 0.0047 - accuracy: 0.9986\n",
      "Epoch 78/100\n",
      "1875/1875 [==============================] - 4s 2ms/step - loss: 0.0071 - accuracy: 0.9976\n",
      "Epoch 79/100\n",
      "1875/1875 [==============================] - 4s 2ms/step - loss: 0.0073 - accuracy: 0.9980\n",
      "Epoch 80/100\n",
      "1875/1875 [==============================] - 4s 2ms/step - loss: 0.0066 - accuracy: 0.9979\n",
      "Epoch 81/100\n",
      "1875/1875 [==============================] - 4s 2ms/step - loss: 0.0076 - accuracy: 0.9981\n",
      "Epoch 82/100\n",
      "1875/1875 [==============================] - 4s 2ms/step - loss: 0.0056 - accuracy: 0.9984\n",
      "Epoch 83/100\n",
      "1875/1875 [==============================] - 4s 2ms/step - loss: 0.0060 - accuracy: 0.9981\n",
      "Epoch 84/100\n",
      "1875/1875 [==============================] - 4s 2ms/step - loss: 0.0079 - accuracy: 0.9976\n",
      "Epoch 85/100\n",
      "1875/1875 [==============================] - 4s 2ms/step - loss: 0.0051 - accuracy: 0.9986\n",
      "Epoch 86/100\n",
      "1875/1875 [==============================] - 4s 2ms/step - loss: 0.0070 - accuracy: 0.9980\n",
      "Epoch 87/100\n",
      "1875/1875 [==============================] - 4s 2ms/step - loss: 0.0059 - accuracy: 0.9984\n",
      "Epoch 88/100\n",
      "1875/1875 [==============================] - 4s 2ms/step - loss: 0.0085 - accuracy: 0.9977\n",
      "Epoch 89/100\n",
      "1875/1875 [==============================] - 4s 2ms/step - loss: 0.0059 - accuracy: 0.9981\n",
      "Epoch 90/100\n",
      "1875/1875 [==============================] - 4s 2ms/step - loss: 0.0062 - accuracy: 0.9983\n",
      "Epoch 91/100\n",
      "1875/1875 [==============================] - 4s 2ms/step - loss: 0.0053 - accuracy: 0.9985\n",
      "Epoch 92/100\n",
      "1875/1875 [==============================] - 4s 2ms/step - loss: 0.0077 - accuracy: 0.9978\n",
      "Epoch 93/100\n",
      "1875/1875 [==============================] - 4s 2ms/step - loss: 0.0047 - accuracy: 0.9985\n",
      "Epoch 94/100\n",
      "1875/1875 [==============================] - 4s 2ms/step - loss: 0.0060 - accuracy: 0.9983\n",
      "Epoch 95/100\n",
      "1875/1875 [==============================] - 4s 2ms/step - loss: 0.0071 - accuracy: 0.9981\n",
      "Epoch 96/100\n",
      "1875/1875 [==============================] - 4s 2ms/step - loss: 0.0038 - accuracy: 0.9988\n",
      "Epoch 97/100\n",
      "1875/1875 [==============================] - 4s 2ms/step - loss: 0.0052 - accuracy: 0.9986\n",
      "Epoch 98/100\n",
      "1875/1875 [==============================] - 4s 2ms/step - loss: 0.0077 - accuracy: 0.9980\n",
      "Epoch 99/100\n",
      "1875/1875 [==============================] - 4s 2ms/step - loss: 0.0048 - accuracy: 0.9987: 1s - E\n",
      "Epoch 100/100\n",
      "1875/1875 [==============================] - 4s 2ms/step - loss: 0.0067 - accuracy: 0.9980\n"
     ]
    },
    {
     "data": {
      "text/plain": [
       "<tensorflow.python.keras.callbacks.History at 0x1968f0cc6d0>"
      ]
     },
     "execution_count": 8,
     "metadata": {},
     "output_type": "execute_result"
    }
   ],
   "source": [
    "model.fit(x_train,y_train,epochs=100,callbacks=tb_callback)"
   ]
  },
  {
   "cell_type": "code",
   "execution_count": 10,
   "id": "b2d86d64",
   "metadata": {},
   "outputs": [
    {
     "name": "stdout",
     "output_type": "stream",
     "text": [
      "313/313 [==============================] - 0s 774us/step - loss: 0.2240 - accuracy: 0.9761\n"
     ]
    },
    {
     "data": {
      "text/plain": [
       "[0.22398020327091217, 0.9761000275611877]"
      ]
     },
     "execution_count": 10,
     "metadata": {},
     "output_type": "execute_result"
    }
   ],
   "source": [
    "model.evaluate(x_test,y_test)"
   ]
  },
  {
   "cell_type": "code",
   "execution_count": 9,
   "id": "68c82dbf",
   "metadata": {
    "scrolled": true
   },
   "outputs": [
    {
     "name": "stdout",
     "output_type": "stream",
     "text": [
      "Epoch 1/100\n",
      "   2/1875 [..............................] - ETA: 15:08 - loss: 2.7942 - accuracy: 0.0312WARNING:tensorflow:Callbacks method `on_train_batch_end` is slow compared to the batch time (batch time: 0.0010s vs `on_train_batch_end` time: 0.9693s). Check your callbacks.\n",
      "1875/1875 [==============================] - 3s 1ms/step - loss: 1.0515 - accuracy: 0.6714: 0s - loss: 1.2125 - ac\n",
      "Epoch 2/100\n",
      "1875/1875 [==============================] - 2s 1ms/step - loss: 0.3119 - accuracy: 0.9103: 0s - loss:\n",
      "Epoch 3/100\n",
      "1875/1875 [==============================] - 2s 980us/step - loss: 0.2257 - accuracy: 0.9341\n",
      "Epoch 4/100\n",
      "1875/1875 [==============================] - 2s 837us/step - loss: 0.1847 - accuracy: 0.9456\n",
      "Epoch 5/100\n",
      "1875/1875 [==============================] - 2s 893us/step - loss: 0.1568 - accuracy: 0.95420s - loss: 0.1631 - accuracy: 0.95 - ETA: 0s - l\n",
      "Epoch 6/100\n",
      "1875/1875 [==============================] - 2s 899us/step - loss: 0.1382 - accuracy: 0.9595\n",
      "Epoch 7/100\n",
      "1875/1875 [==============================] - 2s 955us/step - loss: 0.1217 - accuracy: 0.9647\n",
      "Epoch 8/100\n",
      "1875/1875 [==============================] - 2s 987us/step - loss: 0.1108 - accuracy: 0.96681s - loss: 0 - ETA: 0s - loss: 0.1127 - accuracy: 0.96 - ETA: 0s - loss: 0.1133 - accu - ETA: 0s - loss: 0.1109 - accuracy: 0.\n",
      "Epoch 9/100\n",
      "1875/1875 [==============================] - 2s 966us/step - loss: 0.1006 - accuracy: 0.97051s - los - ETA: 0s - loss: 0 - ETA: 0s - loss: 0.1002 - accu\n",
      "Epoch 10/100\n",
      "1875/1875 [==============================] - 2s 988us/step - loss: 0.0927 - accuracy: 0.9728\n",
      "Epoch 11/100\n",
      "1875/1875 [==============================] - 2s 1ms/step - loss: 0.0848 - accuracy: 0.9743: 1s - loss:\n",
      "Epoch 12/100\n",
      "1875/1875 [==============================] - 2s 958us/step - loss: 0.0785 - accuracy: 0.9765\n",
      "Epoch 13/100\n",
      "1875/1875 [==============================] - 2s 900us/step - loss: 0.0733 - accuracy: 0.97840s - loss: 0.0725  - ETA: 0s - loss: 0.0726 - accuracy: 0.\n",
      "Epoch 14/100\n",
      "1875/1875 [==============================] - 2s 867us/step - loss: 0.0678 - accuracy: 0.9796\n",
      "Epoch 15/100\n",
      "1875/1875 [==============================] - 3s 2ms/step - loss: 0.0630 - accuracy: 0.9815: 1s - loss: 0.0551  - ETA: 1s - loss: 0.057 - ETA: 0s - loss: 0.0596 - accuracy - ETA: 0s - loss: 0\n",
      "Epoch 16/100\n",
      "1875/1875 [==============================] - 2s 981us/step - loss: 0.0588 - accuracy: 0.98270s - loss: 0.058 - ETA: 0s - loss: 0.0590 - accuracy - ETA: 0s - loss: 0.0594 - accuracy\n",
      "Epoch 17/100\n",
      "1875/1875 [==============================] - 2s 925us/step - loss: 0.0554 - accuracy: 0.9836\n",
      "Epoch 18/100\n",
      "1875/1875 [==============================] - 2s 972us/step - loss: 0.0514 - accuracy: 0.9849\n",
      "Epoch 19/100\n",
      "1875/1875 [==============================] - 2s 1ms/step - loss: 0.0476 - accuracy: 0.9859\n",
      "Epoch 20/100\n",
      "1875/1875 [==============================] - 2s 981us/step - loss: 0.0442 - accuracy: 0.98701s - loss: 0\n",
      "Epoch 21/100\n",
      "1875/1875 [==============================] - 2s 993us/step - loss: 0.0413 - accuracy: 0.9878\n",
      "Epoch 22/100\n",
      "1875/1875 [==============================] - 2s 975us/step - loss: 0.0388 - accuracy: 0.98820s - loss: 0.0378 - accuracy: 0. - ETA: 0s - loss: 0.0379 - accuracy - ETA: 0s - loss: 0.0380 - accuracy: \n",
      "Epoch 23/100\n",
      "1875/1875 [==============================] - 2s 1ms/step - loss: 0.0356 - accuracy: 0.9896: 1s - loss: 0.0360 \n",
      "Epoch 24/100\n",
      "1875/1875 [==============================] - 3s 1ms/step - loss: 0.0332 - accuracy: 0.9903\n",
      "Epoch 25/100\n",
      "1875/1875 [==============================] - 3s 2ms/step - loss: 0.0306 - accuracy: 0.9911\n",
      "Epoch 26/100\n",
      "1875/1875 [==============================] - 3s 2ms/step - loss: 0.0293 - accuracy: 0.9914\n",
      "Epoch 27/100\n",
      "1875/1875 [==============================] - 4s 2ms/step - loss: 0.0273 - accuracy: 0.9919\n",
      "Epoch 28/100\n",
      "1875/1875 [==============================] - 4s 2ms/step - loss: 0.0261 - accuracy: 0.9924\n",
      "Epoch 29/100\n",
      "1875/1875 [==============================] - 4s 2ms/step - loss: 0.0238 - accuracy: 0.9930\n",
      "Epoch 30/100\n",
      "1875/1875 [==============================] - 4s 2ms/step - loss: 0.0210 - accuracy: 0.9943\n",
      "Epoch 31/100\n",
      "1875/1875 [==============================] - 4s 2ms/step - loss: 0.0194 - accuracy: 0.9942\n",
      "Epoch 32/100\n",
      "1875/1875 [==============================] - 4s 2ms/step - loss: 0.0171 - accuracy: 0.9956\n",
      "Epoch 33/100\n",
      "1875/1875 [==============================] - 4s 2ms/step - loss: 0.0164 - accuracy: 0.9961: 0s - loss: 0.0161 - accuracy: \n",
      "Epoch 34/100\n",
      "1875/1875 [==============================] - 4s 2ms/step - loss: 0.0146 - accuracy: 0.9964\n",
      "Epoch 35/100\n",
      "1875/1875 [==============================] - 4s 2ms/step - loss: 0.0143 - accuracy: 0.9963\n",
      "Epoch 36/100\n",
      "1875/1875 [==============================] - 3s 1ms/step - loss: 0.0155 - accuracy: 0.9958\n",
      "Epoch 37/100\n",
      "1875/1875 [==============================] - 2s 1ms/step - loss: 0.0124 - accuracy: 0.9970\n",
      "Epoch 38/100\n",
      "1875/1875 [==============================] - 3s 1ms/step - loss: 0.0120 - accuracy: 0.9969\n",
      "Epoch 39/100\n",
      "1875/1875 [==============================] - 2s 1ms/step - loss: 0.0114 - accuracy: 0.9971\n",
      "Epoch 40/100\n",
      "1875/1875 [==============================] - 3s 1ms/step - loss: 0.0079 - accuracy: 0.9985\n",
      "Epoch 41/100\n",
      "1875/1875 [==============================] - 3s 1ms/step - loss: 0.0089 - accuracy: 0.9980\n",
      "Epoch 42/100\n",
      "1875/1875 [==============================] - 3s 1ms/step - loss: 0.0069 - accuracy: 0.9990: 0s - loss: 0\n",
      "Epoch 43/100\n",
      "1875/1875 [==============================] - 3s 2ms/step - loss: 0.0061 - accuracy: 0.9990\n",
      "Epoch 44/100\n",
      "1875/1875 [==============================] - 3s 2ms/step - loss: 0.0050 - accuracy: 0.9994\n",
      "Epoch 45/100\n",
      "1875/1875 [==============================] - 4s 2ms/step - loss: 0.0048 - accuracy: 0.9993\n",
      "Epoch 46/100\n",
      "1875/1875 [==============================] - 3s 2ms/step - loss: 0.0038 - accuracy: 0.9996\n",
      "Epoch 47/100\n",
      "1875/1875 [==============================] - 3s 2ms/step - loss: 0.0036 - accuracy: 0.9997\n",
      "Epoch 48/100\n",
      "1875/1875 [==============================] - 3s 1ms/step - loss: 0.0031 - accuracy: 0.9997\n",
      "Epoch 49/100\n",
      "1875/1875 [==============================] - ETA: 0s - loss: 0.0028 - accuracy: 0.99 - 3s 1ms/step - loss: 0.0028 - accuracy: 0.9998\n",
      "Epoch 50/100\n",
      "1875/1875 [==============================] - 4s 2ms/step - loss: 0.0024 - accuracy: 0.9999\n",
      "Epoch 51/100\n",
      "1875/1875 [==============================] - 3s 1ms/step - loss: 0.0022 - accuracy: 0.9999\n",
      "Epoch 52/100\n",
      "1875/1875 [==============================] - 3s 1ms/step - loss: 0.0021 - accuracy: 0.9998\n",
      "Epoch 53/100\n",
      "1875/1875 [==============================] - 3s 1ms/step - loss: 0.0018 - accuracy: 0.9999\n",
      "Epoch 54/100\n",
      "1875/1875 [==============================] - 3s 2ms/step - loss: 0.0017 - accuracy: 0.9999\n",
      "Epoch 55/100\n",
      "1875/1875 [==============================] - 3s 1ms/step - loss: 0.0015 - accuracy: 0.9999\n",
      "Epoch 56/100\n",
      "1875/1875 [==============================] - 3s 2ms/step - loss: 0.0014 - accuracy: 1.0000\n",
      "Epoch 57/100\n",
      "1875/1875 [==============================] - 3s 2ms/step - loss: 0.0013 - accuracy: 0.9999: 0s - loss: 0.0013 - ac\n",
      "Epoch 58/100\n",
      "1875/1875 [==============================] - 5s 3ms/step - loss: 0.0012 - accuracy: 1.0000\n",
      "Epoch 59/100\n",
      "1875/1875 [==============================] - 5s 3ms/step - loss: 0.0011 - accuracy: 1.0000\n",
      "Epoch 60/100\n",
      "1875/1875 [==============================] - 4s 2ms/step - loss: 0.0011 - accuracy: 1.0000\n",
      "Epoch 61/100\n",
      "1875/1875 [==============================] - 5s 3ms/step - loss: 0.0010 - accuracy: 1.0000\n",
      "Epoch 62/100\n",
      "1875/1875 [==============================] - 4s 2ms/step - loss: 9.3548e-04 - accuracy: 1.0000\n",
      "Epoch 63/100\n",
      "1875/1875 [==============================] - 4s 2ms/step - loss: 9.0676e-04 - accuracy: 1.0000\n",
      "Epoch 64/100\n",
      "1875/1875 [==============================] - 4s 2ms/step - loss: 8.5811e-04 - accuracy: 1.0000: 0s - loss: 8.6029e-04 - accuracy: 1.00\n",
      "Epoch 65/100\n",
      "1875/1875 [==============================] - 4s 2ms/step - loss: 8.1511e-04 - accuracy: 1.0000\n",
      "Epoch 66/100\n",
      "1875/1875 [==============================] - 4s 2ms/step - loss: 7.7473e-04 - accuracy: 1.0000\n",
      "Epoch 67/100\n",
      "1875/1875 [==============================] - 4s 2ms/step - loss: 7.4389e-04 - accuracy: 1.0000\n",
      "Epoch 68/100\n"
     ]
    },
    {
     "name": "stdout",
     "output_type": "stream",
     "text": [
      "1875/1875 [==============================] - 4s 2ms/step - loss: 7.0640e-04 - accuracy: 1.0000\n",
      "Epoch 69/100\n",
      "1875/1875 [==============================] - 4s 2ms/step - loss: 6.8518e-04 - accuracy: 1.0000\n",
      "Epoch 70/100\n",
      "1875/1875 [==============================] - 4s 2ms/step - loss: 6.5541e-04 - accuracy: 1.0000\n",
      "Epoch 71/100\n",
      "1875/1875 [==============================] - 3s 1ms/step - loss: 6.2902e-04 - accuracy: 1.0000\n",
      "Epoch 72/100\n",
      "1875/1875 [==============================] - 3s 1ms/step - loss: 6.0445e-04 - accuracy: 1.0000\n",
      "Epoch 73/100\n",
      "1875/1875 [==============================] - 3s 1ms/step - loss: 5.8611e-04 - accuracy: 1.0000\n",
      "Epoch 74/100\n",
      "1875/1875 [==============================] - 3s 1ms/step - loss: 5.6573e-04 - accuracy: 1.0000\n",
      "Epoch 75/100\n",
      "1875/1875 [==============================] - 2s 1ms/step - loss: 5.4699e-04 - accuracy: 1.0000\n",
      "Epoch 76/100\n",
      "1875/1875 [==============================] - 2s 1ms/step - loss: 5.2856e-04 - accuracy: 1.0000\n",
      "Epoch 77/100\n",
      "1875/1875 [==============================] - 2s 1ms/step - loss: 5.0921e-04 - accuracy: 1.0000\n",
      "Epoch 78/100\n",
      "1875/1875 [==============================] - 3s 1ms/step - loss: 4.9505e-04 - accuracy: 1.0000\n",
      "Epoch 79/100\n",
      "1875/1875 [==============================] - 3s 1ms/step - loss: 4.7993e-04 - accuracy: 1.0000\n",
      "Epoch 80/100\n",
      "1875/1875 [==============================] - 2s 1ms/step - loss: 4.6422e-04 - accuracy: 1.0000\n",
      "Epoch 81/100\n",
      "1875/1875 [==============================] - 3s 1ms/step - loss: 4.5750e-04 - accuracy: 1.0000\n",
      "Epoch 82/100\n",
      "1875/1875 [==============================] - 3s 1ms/step - loss: 4.4067e-04 - accuracy: 1.0000\n",
      "Epoch 83/100\n",
      "1875/1875 [==============================] - 4s 2ms/step - loss: 4.2524e-04 - accuracy: 1.0000\n",
      "Epoch 84/100\n",
      "1875/1875 [==============================] - 3s 2ms/step - loss: 4.1665e-04 - accuracy: 1.0000\n",
      "Epoch 85/100\n",
      "1875/1875 [==============================] - 3s 1ms/step - loss: 4.0576e-04 - accuracy: 1.0000\n",
      "Epoch 86/100\n",
      "1875/1875 [==============================] - 3s 2ms/step - loss: 3.9638e-04 - accuracy: 1.0000\n",
      "Epoch 87/100\n",
      "1875/1875 [==============================] - 3s 1ms/step - loss: 3.8330e-04 - accuracy: 1.0000\n",
      "Epoch 88/100\n",
      "1875/1875 [==============================] - 2s 1ms/step - loss: 3.7702e-04 - accuracy: 1.0000\n",
      "Epoch 89/100\n",
      "1875/1875 [==============================] - 3s 1ms/step - loss: 3.6770e-04 - accuracy: 1.0000\n",
      "Epoch 90/100\n",
      "1875/1875 [==============================] - 3s 1ms/step - loss: 3.5898e-04 - accuracy: 1.0000\n",
      "Epoch 91/100\n",
      "1875/1875 [==============================] - 3s 1ms/step - loss: 3.5081e-04 - accuracy: 1.0000\n",
      "Epoch 92/100\n",
      "1875/1875 [==============================] - 3s 1ms/step - loss: 3.4109e-04 - accuracy: 1.0000\n",
      "Epoch 93/100\n",
      "1875/1875 [==============================] - 3s 1ms/step - loss: 3.3466e-04 - accuracy: 1.0000\n",
      "Epoch 94/100\n",
      "1875/1875 [==============================] - ETA: 0s - loss: 3.2715e-04 - accuracy: 1.00 - 3s 1ms/step - loss: 3.2610e-04 - accuracy: 1.0000\n",
      "Epoch 95/100\n",
      "1875/1875 [==============================] - 3s 1ms/step - loss: 3.2016e-04 - accuracy: 1.0000\n",
      "Epoch 96/100\n",
      "1875/1875 [==============================] - 3s 1ms/step - loss: 3.1423e-04 - accuracy: 1.0000\n",
      "Epoch 97/100\n",
      "1875/1875 [==============================] - 3s 1ms/step - loss: 3.0708e-04 - accuracy: 1.0000\n",
      "Epoch 98/100\n",
      "1875/1875 [==============================] - 3s 1ms/step - loss: 3.0103e-04 - accuracy: 1.0000\n",
      "Epoch 99/100\n",
      "1875/1875 [==============================] - 3s 1ms/step - loss: 2.9268e-04 - accuracy: 1.0000\n",
      "Epoch 100/100\n",
      "1875/1875 [==============================] - 3s 1ms/step - loss: 2.8867e-04 - accuracy: 1.0000\n"
     ]
    },
    {
     "data": {
      "text/plain": [
       "<tensorflow.python.keras.callbacks.History at 0x196902d8b80>"
      ]
     },
     "execution_count": 9,
     "metadata": {},
     "output_type": "execute_result"
    }
   ],
   "source": [
    "# training on SGD\n",
    "\n",
    "model2 = keras.Sequential([\n",
    "    keras.layers.Dense(64,input_shape = (28*28,),activation = 'relu'),\n",
    "    keras.layers.Dense(32,activation = 'relu'),\n",
    "    keras.layers.Dense(16,activation = 'relu'),\n",
    "    keras.layers.Dense(16,activation = 'relu'),\n",
    "    keras.layers.Dense(16,activation = 'softmax')\n",
    "])\n",
    "\n",
    "model2.compile(\n",
    "    optimizer = 'SGD',\n",
    "    loss = 'sparse_categorical_crossentropy',\n",
    "    metrics = ['accuracy']\n",
    ")\n",
    "\n",
    "tb_callback2 = tf.keras.callbacks.TensorBoard(log_dir = './logs/digits_SGD',histogram_freq = 1)\n",
    "model2.fit(x_train,y_train,epochs=100,callbacks=tb_callback2)"
   ]
  },
  {
   "cell_type": "code",
   "execution_count": 11,
   "id": "e5ebd406",
   "metadata": {},
   "outputs": [
    {
     "name": "stdout",
     "output_type": "stream",
     "text": [
      "313/313 [==============================] - 0s 789us/step - loss: 0.1850 - accuracy: 0.9734\n"
     ]
    },
    {
     "data": {
      "text/plain": [
       "[0.18502965569496155, 0.9733999967575073]"
      ]
     },
     "execution_count": 11,
     "metadata": {},
     "output_type": "execute_result"
    }
   ],
   "source": [
    "model2.evaluate(x_test,y_test)"
   ]
  },
  {
   "cell_type": "code",
   "execution_count": 12,
   "id": "30b293be",
   "metadata": {},
   "outputs": [
    {
     "data": {
      "text/plain": [
       "Reusing TensorBoard on port 6006 (pid 13868), started 0:17:07 ago. (Use '!kill 13868' to kill it.)"
      ]
     },
     "metadata": {},
     "output_type": "display_data"
    },
    {
     "data": {
      "text/html": [
       "\n",
       "      <iframe id=\"tensorboard-frame-bff2b23facbfdab5\" width=\"100%\" height=\"800\" frameborder=\"0\">\n",
       "      </iframe>\n",
       "      <script>\n",
       "        (function() {\n",
       "          const frame = document.getElementById(\"tensorboard-frame-bff2b23facbfdab5\");\n",
       "          const url = new URL(\"/\", window.location);\n",
       "          const port = 6006;\n",
       "          if (port) {\n",
       "            url.port = port;\n",
       "          }\n",
       "          frame.src = url;\n",
       "        })();\n",
       "      </script>\n",
       "    "
      ],
      "text/plain": [
       "<IPython.core.display.HTML object>"
      ]
     },
     "metadata": {},
     "output_type": "display_data"
    }
   ],
   "source": [
    "# opening tensorboard inside jupyter notebook instead \n",
    "\n",
    "%load_ext tensorboard\n",
    "%tensorboard --logdir ./logs"
   ]
  }
 ],
 "metadata": {
  "kernelspec": {
   "display_name": "Python 3",
   "language": "python",
   "name": "python3"
  },
  "language_info": {
   "codemirror_mode": {
    "name": "ipython",
    "version": 3
   },
   "file_extension": ".py",
   "mimetype": "text/x-python",
   "name": "python",
   "nbconvert_exporter": "python",
   "pygments_lexer": "ipython3",
   "version": "3.8.8"
  }
 },
 "nbformat": 4,
 "nbformat_minor": 5
}

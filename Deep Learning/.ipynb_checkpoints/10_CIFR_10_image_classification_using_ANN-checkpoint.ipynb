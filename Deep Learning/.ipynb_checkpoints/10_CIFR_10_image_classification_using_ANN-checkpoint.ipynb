{
 "cells": [
  {
   "cell_type": "code",
   "execution_count": 18,
   "id": "83ea808b",
   "metadata": {},
   "outputs": [],
   "source": [
    "import numpy as np\n",
    "import pandas as pd\n",
    "import matplotlib.pyplot as plt\n",
    "import tensorflow as tf\n",
    "\n",
    "from tensorflow import keras"
   ]
  },
  {
   "cell_type": "code",
   "execution_count": 25,
   "id": "661a640f",
   "metadata": {},
   "outputs": [],
   "source": [
    "data = keras.datasets.cifar10\n",
    "(x_train,y_train) , (x_test,y_test) = data.load_data()"
   ]
  },
  {
   "cell_type": "code",
   "execution_count": 32,
   "id": "a33d06a0",
   "metadata": {},
   "outputs": [],
   "source": [
    "labels = ['airplane','automobile','bird','cat','deer','dog','frog','horse','ship','truck']"
   ]
  },
  {
   "cell_type": "markdown",
   "id": "cce84267",
   "metadata": {},
   "source": [
    "# Visualization"
   ]
  },
  {
   "cell_type": "code",
   "execution_count": 35,
   "id": "1dadc288",
   "metadata": {
    "scrolled": false
   },
   "outputs": [
    {
     "name": "stdout",
     "output_type": "stream",
     "text": [
      "frog\n"
     ]
    },
    {
     "data": {
      "text/plain": [
       "<matplotlib.image.AxesImage at 0x1f7727e8940>"
      ]
     },
     "execution_count": 35,
     "metadata": {},
     "output_type": "execute_result"
    },
    {
     "data": {
      "image/png": "[encoded data removed]",
      "text/plain": [
       "<Figure size 432x288 with 1 Axes>"
      ]
     },
     "metadata": {
      "needs_background": "light"
     },
     "output_type": "display_data"
    }
   ],
   "source": [
    "print(labels[y_train[0][0]])\n",
    "plt.imshow(x_train[0])"
   ]
  },
  {
   "cell_type": "code",
   "execution_count": 36,
   "id": "bf2b91b3",
   "metadata": {
    "scrolled": false
   },
   "outputs": [
    {
     "name": "stdout",
     "output_type": "stream",
     "text": [
      "truck\n"
     ]
    },
    {
     "data": {
      "text/plain": [
       "<matplotlib.image.AxesImage at 0x1f7180eb5b0>"
      ]
     },
     "execution_count": 36,
     "metadata": {},
     "output_type": "execute_result"
    },
    {
     "data": {
      "image/png": "[encoded data removed]",
      "text/plain": [
       "<Figure size 432x288 with 1 Axes>"
      ]
     },
     "metadata": {
      "needs_background": "light"
     },
     "output_type": "display_data"
    }
   ],
   "source": [
    "print(labels[y_train[1][0]])\n",
    "plt.imshow(x_train[1])"
   ]
  },
  {
   "cell_type": "code",
   "execution_count": 37,
   "id": "e555be7d",
   "metadata": {
    "scrolled": false
   },
   "outputs": [
    {
     "name": "stdout",
     "output_type": "stream",
     "text": [
      "truck\n"
     ]
    },
    {
     "data": {
      "text/plain": [
       "<matplotlib.image.AxesImage at 0x1f700235e80>"
      ]
     },
     "execution_count": 37,
     "metadata": {},
     "output_type": "execute_result"
    },
    {
     "data": {
      "image/png": "[encoded data removed]",
      "text/plain": [
       "<Figure size 432x288 with 1 Axes>"
      ]
     },
     "metadata": {
      "needs_background": "light"
     },
     "output_type": "display_data"
    }
   ],
   "source": [
    "print(labels[y_train[2][0]])\n",
    "plt.imshow(x_train[2])"
   ]
  },
  {
   "cell_type": "markdown",
   "id": "4bea22ef",
   "metadata": {},
   "source": [
    "# Preprocessing"
   ]
  },
  {
   "cell_type": "code",
   "execution_count": 21,
   "id": "168e905e",
   "metadata": {},
   "outputs": [],
   "source": [
    "# Normalization\n",
    "x_train_scaled = x_train/255\n",
    "x_test_scaled = x_test/255"
   ]
  },
  {
   "cell_type": "code",
   "execution_count": 39,
   "id": "02a204ae",
   "metadata": {},
   "outputs": [],
   "source": [
    "# one hot encoding y_train and test as it is 10 classes\n",
    "y_train_encoded = keras.utils.to_categorical(y_train, num_classes=10)\n",
    "y_test_encoded = keras.utils.to_categorical(y_test, num_classes=10)"
   ]
  },
  {
   "cell_type": "markdown",
   "id": "3af2bb68",
   "metadata": {},
   "source": [
    "# ANN model"
   ]
  },
  {
   "cell_type": "code",
   "execution_count": 42,
   "id": "872f8876",
   "metadata": {},
   "outputs": [
    {
     "data": {
      "text/plain": [
       "(50000, 32, 32, 3)"
      ]
     },
     "execution_count": 42,
     "metadata": {},
     "output_type": "execute_result"
    }
   ],
   "source": [
    "x_train.shape"
   ]
  },
  {
   "cell_type": "code",
   "execution_count": 45,
   "id": "6175f66c",
   "metadata": {},
   "outputs": [],
   "source": [
    "model = keras.Sequential([\n",
    "    keras.layers.Flatten(input_shape = (32, 32, 3)),\n",
    "    keras.layers.Dense(128,activation='relu'),\n",
    "    keras.layers.Dense(64,activation='relu'),\n",
    "    keras.layers.Dense(32,activation='relu'),\n",
    "    keras.layers.Dense(10,activation='softmax')\n",
    "])\n",
    "\n",
    "model.compile(\n",
    "    optimizer = 'adam',\n",
    "    loss = 'categorical_crossentropy',\n",
    "    metrics = ['accuracy']\n",
    ")"
   ]
  },
  {
   "cell_type": "code",
   "execution_count": 47,
   "id": "6ac1c95e",
   "metadata": {
    "scrolled": true
   },
   "outputs": [
    {
     "name": "stdout",
     "output_type": "stream",
     "text": [
      "Epoch 1/200\n",
      "1563/1563 [==============================] - 4s 2ms/step - loss: 1.2229 - accuracy: 0.5620\n",
      "Epoch 2/200\n",
      "1563/1563 [==============================] - 4s 2ms/step - loss: 1.2194 - accuracy: 0.5625\n",
      "Epoch 3/200\n",
      "1563/1563 [==============================] - ETA: 0s - loss: 1.2152 - accuracy: 0.56 - 5s 3ms/step - loss: 1.2151 - accuracy: 0.5648\n",
      "Epoch 4/200\n",
      "1563/1563 [==============================] - 6s 4ms/step - loss: 1.2134 - accuracy: 0.5637\n",
      "Epoch 5/200\n",
      "1563/1563 [==============================] - 7s 4ms/step - loss: 1.2101 - accuracy: 0.5640\n",
      "Epoch 6/200\n",
      "1563/1563 [==============================] - 7s 4ms/step - loss: 1.2070 - accuracy: 0.5672\n",
      "Epoch 7/200\n",
      "1563/1563 [==============================] - 8s 5ms/step - loss: 1.2029 - accuracy: 0.5689\n",
      "Epoch 8/200\n",
      "1563/1563 [==============================] - 8s 5ms/step - loss: 1.2027 - accuracy: 0.5670\n",
      "Epoch 9/200\n",
      "1563/1563 [==============================] - 8s 5ms/step - loss: 1.2005 - accuracy: 0.5686\n",
      "Epoch 10/200\n",
      "1563/1563 [==============================] - 8s 5ms/step - loss: 1.1912 - accuracy: 0.5732\n",
      "Epoch 11/200\n",
      "1563/1563 [==============================] - 7s 5ms/step - loss: 1.1952 - accuracy: 0.5710\n",
      "Epoch 12/200\n",
      "1563/1563 [==============================] - 7s 5ms/step - loss: 1.1921 - accuracy: 0.5735\n",
      "Epoch 13/200\n",
      "1563/1563 [==============================] - 7s 4ms/step - loss: 1.1942 - accuracy: 0.5698\n",
      "Epoch 14/200\n",
      "1563/1563 [==============================] - 7s 4ms/step - loss: 1.1876 - accuracy: 0.5741\n",
      "Epoch 15/200\n",
      "1563/1563 [==============================] - 8s 5ms/step - loss: 1.1871 - accuracy: 0.5731\n",
      "Epoch 16/200\n",
      "1563/1563 [==============================] - 8s 5ms/step - loss: 1.1834 - accuracy: 0.5744\n",
      "Epoch 17/200\n",
      "1563/1563 [==============================] - 8s 5ms/step - loss: 1.1829 - accuracy: 0.5759\n",
      "Epoch 18/200\n",
      "1563/1563 [==============================] - 8s 5ms/step - loss: 1.1793 - accuracy: 0.5753\n",
      "Epoch 19/200\n",
      "1563/1563 [==============================] - 8s 5ms/step - loss: 1.1809 - accuracy: 0.5772\n",
      "Epoch 20/200\n",
      "1563/1563 [==============================] - 8s 5ms/step - loss: 1.1764 - accuracy: 0.5763\n",
      "Epoch 21/200\n",
      "1563/1563 [==============================] - 7s 5ms/step - loss: 1.1700 - accuracy: 0.5799\n",
      "Epoch 22/200\n",
      "1563/1563 [==============================] - 8s 5ms/step - loss: 1.1703 - accuracy: 0.5772\n",
      "Epoch 23/200\n",
      "1563/1563 [==============================] - 8s 5ms/step - loss: 1.1744 - accuracy: 0.5795\n",
      "Epoch 24/200\n",
      "1563/1563 [==============================] - 8s 5ms/step - loss: 1.1686 - accuracy: 0.5805\n",
      "Epoch 25/200\n",
      "1563/1563 [==============================] - 7s 5ms/step - loss: 1.1663 - accuracy: 0.5822\n",
      "Epoch 26/200\n",
      "1563/1563 [==============================] - 7s 5ms/step - loss: 1.1620 - accuracy: 0.5843\n",
      "Epoch 27/200\n",
      "1563/1563 [==============================] - 7s 5ms/step - loss: 1.1590 - accuracy: 0.5853\n",
      "Epoch 28/200\n",
      "1563/1563 [==============================] - 7s 4ms/step - loss: 1.1593 - accuracy: 0.5823\n",
      "Epoch 29/200\n",
      "1563/1563 [==============================] - 7s 4ms/step - loss: 1.1599 - accuracy: 0.5845\n",
      "Epoch 30/200\n",
      "1563/1563 [==============================] - 7s 5ms/step - loss: 1.1513 - accuracy: 0.5875\n",
      "Epoch 31/200\n",
      "1563/1563 [==============================] - 7s 5ms/step - loss: 1.1549 - accuracy: 0.5850\n",
      "Epoch 32/200\n",
      "1563/1563 [==============================] - 7s 5ms/step - loss: 1.1504 - accuracy: 0.5860\n",
      "Epoch 33/200\n",
      "1563/1563 [==============================] - 8s 5ms/step - loss: 1.1491 - accuracy: 0.5872\n",
      "Epoch 34/200\n",
      "1563/1563 [==============================] - 8s 5ms/step - loss: 1.1440 - accuracy: 0.5901\n",
      "Epoch 35/200\n",
      "1563/1563 [==============================] - 7s 5ms/step - loss: 1.1486 - accuracy: 0.5878\n",
      "Epoch 36/200\n",
      "1563/1563 [==============================] - 7s 5ms/step - loss: 1.1510 - accuracy: 0.5845\n",
      "Epoch 37/200\n",
      "1563/1563 [==============================] - 8s 5ms/step - loss: 1.1448 - accuracy: 0.5901\n",
      "Epoch 38/200\n",
      "1563/1563 [==============================] - 8s 5ms/step - loss: 1.1452 - accuracy: 0.5888\n",
      "Epoch 39/200\n",
      "1563/1563 [==============================] - 8s 5ms/step - loss: 1.1400 - accuracy: 0.5904\n",
      "Epoch 40/200\n",
      "1563/1563 [==============================] - 8s 5ms/step - loss: 1.1417 - accuracy: 0.5901\n",
      "Epoch 41/200\n",
      "1563/1563 [==============================] - 9s 6ms/step - loss: 1.1341 - accuracy: 0.5929\n",
      "Epoch 42/200\n",
      "1563/1563 [==============================] - 8s 5ms/step - loss: 1.1371 - accuracy: 0.5905\n",
      "Epoch 43/200\n",
      "1563/1563 [==============================] - 8s 5ms/step - loss: 1.1333 - accuracy: 0.5945\n",
      "Epoch 44/200\n",
      "1563/1563 [==============================] - 7s 5ms/step - loss: 1.1280 - accuracy: 0.5952\n",
      "Epoch 45/200\n",
      "1563/1563 [==============================] - 7s 5ms/step - loss: 1.1306 - accuracy: 0.5944\n",
      "Epoch 46/200\n",
      "1563/1563 [==============================] - 8s 5ms/step - loss: 1.1253 - accuracy: 0.5946\n",
      "Epoch 47/200\n",
      "1563/1563 [==============================] - 8s 5ms/step - loss: 1.1262 - accuracy: 0.5955\n",
      "Epoch 48/200\n",
      "1563/1563 [==============================] - 7s 4ms/step - loss: 1.1251 - accuracy: 0.5942\n",
      "Epoch 49/200\n",
      "1563/1563 [==============================] - 8s 5ms/step - loss: 1.1203 - accuracy: 0.5980\n",
      "Epoch 50/200\n",
      "1563/1563 [==============================] - 7s 4ms/step - loss: 1.1212 - accuracy: 0.5964\n",
      "Epoch 51/200\n",
      "1563/1563 [==============================] - 8s 5ms/step - loss: 1.1196 - accuracy: 0.5993\n",
      "Epoch 52/200\n",
      "1563/1563 [==============================] - 9s 6ms/step - loss: 1.1169 - accuracy: 0.5991\n",
      "Epoch 53/200\n",
      "1563/1563 [==============================] - 9s 6ms/step - loss: 1.1198 - accuracy: 0.5969\n",
      "Epoch 54/200\n",
      "1563/1563 [==============================] - 8s 5ms/step - loss: 1.1168 - accuracy: 0.5978\n",
      "Epoch 55/200\n",
      "1563/1563 [==============================] - 9s 6ms/step - loss: 1.1141 - accuracy: 0.5997\n",
      "Epoch 56/200\n",
      "1563/1563 [==============================] - 10s 6ms/step - loss: 1.1127 - accuracy: 0.5996\n",
      "Epoch 57/200\n",
      "1563/1563 [==============================] - 10s 6ms/step - loss: 1.1085 - accuracy: 0.6011\n",
      "Epoch 58/200\n",
      "1563/1563 [==============================] - 11s 7ms/step - loss: 1.1109 - accuracy: 0.6011\n",
      "Epoch 59/200\n",
      "1563/1563 [==============================] - 10s 6ms/step - loss: 1.1080 - accuracy: 0.5994\n",
      "Epoch 60/200\n",
      "1563/1563 [==============================] - 9s 6ms/step - loss: 1.1041 - accuracy: 0.6031\n",
      "Epoch 61/200\n",
      "1563/1563 [==============================] - 8s 5ms/step - loss: 1.1057 - accuracy: 0.5995\n",
      "Epoch 62/200\n",
      "1563/1563 [==============================] - 8s 5ms/step - loss: 1.1051 - accuracy: 0.6036\n",
      "Epoch 63/200\n",
      "1563/1563 [==============================] - 8s 5ms/step - loss: 1.1064 - accuracy: 0.6014\n",
      "Epoch 64/200\n",
      "1563/1563 [==============================] - 8s 5ms/step - loss: 1.0972 - accuracy: 0.6041\n",
      "Epoch 65/200\n",
      "1563/1563 [==============================] - 8s 5ms/step - loss: 1.0970 - accuracy: 0.6059\n",
      "Epoch 66/200\n",
      "1563/1563 [==============================] - 8s 5ms/step - loss: 1.0988 - accuracy: 0.6038\n",
      "Epoch 67/200\n",
      "1563/1563 [==============================] - 8s 5ms/step - loss: 1.0973 - accuracy: 0.6062\n",
      "Epoch 68/200\n",
      "1563/1563 [==============================] - 8s 5ms/step - loss: 1.0942 - accuracy: 0.6075\n",
      "Epoch 69/200\n",
      "1563/1563 [==============================] - 8s 5ms/step - loss: 1.0933 - accuracy: 0.6068\n",
      "Epoch 70/200\n",
      "1563/1563 [==============================] - 8s 5ms/step - loss: 1.0959 - accuracy: 0.6083\n",
      "Epoch 71/200\n",
      "1563/1563 [==============================] - 8s 5ms/step - loss: 1.0943 - accuracy: 0.6079\n",
      "Epoch 72/200\n",
      "1563/1563 [==============================] - 9s 6ms/step - loss: 1.0904 - accuracy: 0.6087\n",
      "Epoch 73/200\n",
      "1563/1563 [==============================] - 9s 6ms/step - loss: 1.0913 - accuracy: 0.6062\n",
      "Epoch 74/200\n",
      "1563/1563 [==============================] - 8s 5ms/step - loss: 1.0900 - accuracy: 0.6078\n",
      "Epoch 75/200\n",
      "1563/1563 [==============================] - 7s 5ms/step - loss: 1.0850 - accuracy: 0.6087\n",
      "Epoch 76/200\n",
      "1563/1563 [==============================] - 7s 4ms/step - loss: 1.0856 - accuracy: 0.6099\n",
      "Epoch 77/200\n",
      "1563/1563 [==============================] - 7s 5ms/step - loss: 1.0825 - accuracy: 0.6102\n",
      "Epoch 78/200\n",
      "1563/1563 [==============================] - 7s 5ms/step - loss: 1.0837 - accuracy: 0.6100\n",
      "Epoch 79/200\n",
      "1563/1563 [==============================] - 7s 5ms/step - loss: 1.0820 - accuracy: 0.6102\n",
      "Epoch 80/200\n",
      "1563/1563 [==============================] - 8s 5ms/step - loss: 1.0813 - accuracy: 0.6114\n",
      "Epoch 81/200\n",
      "1563/1563 [==============================] - 8s 5ms/step - loss: 1.0787 - accuracy: 0.6113\n",
      "Epoch 82/200\n",
      "1563/1563 [==============================] - 8s 5ms/step - loss: 1.0784 - accuracy: 0.6130\n",
      "Epoch 83/200\n",
      "1563/1563 [==============================] - 8s 5ms/step - loss: 1.0806 - accuracy: 0.6139\n",
      "Epoch 84/200\n",
      "1563/1563 [==============================] - 8s 5ms/step - loss: 1.0762 - accuracy: 0.6156\n",
      "Epoch 85/200\n",
      "1563/1563 [==============================] - 8s 5ms/step - loss: 1.0749 - accuracy: 0.6124\n",
      "Epoch 86/200\n",
      "1563/1563 [==============================] - 7s 4ms/step - loss: 1.0750 - accuracy: 0.6136\n",
      "Epoch 87/200\n",
      "1563/1563 [==============================] - 7s 4ms/step - loss: 1.0730 - accuracy: 0.6140\n",
      "Epoch 88/200\n",
      "1563/1563 [==============================] - 7s 4ms/step - loss: 1.0744 - accuracy: 0.6124\n",
      "Epoch 89/200\n",
      "1563/1563 [==============================] - 6s 4ms/step - loss: 1.0690 - accuracy: 0.6145\n",
      "Epoch 90/200\n",
      "1563/1563 [==============================] - 7s 4ms/step - loss: 1.0696 - accuracy: 0.6153\n",
      "Epoch 91/200\n",
      "1563/1563 [==============================] - 8s 5ms/step - loss: 1.0718 - accuracy: 0.6147\n",
      "Epoch 92/200\n",
      "1563/1563 [==============================] - 9s 6ms/step - loss: 1.0723 - accuracy: 0.6149\n",
      "Epoch 93/200\n",
      "1563/1563 [==============================] - 9s 6ms/step - loss: 1.0629 - accuracy: 0.6157\n",
      "Epoch 94/200\n",
      "1563/1563 [==============================] - 10s 6ms/step - loss: 1.0622 - accuracy: 0.6171\n",
      "Epoch 95/200\n",
      "1563/1563 [==============================] - 11s 7ms/step - loss: 1.0633 - accuracy: 0.6175\n",
      "Epoch 96/200\n",
      "1563/1563 [==============================] - 8s 5ms/step - loss: 1.0655 - accuracy: 0.6160\n",
      "Epoch 97/200\n",
      "1563/1563 [==============================] - 6s 4ms/step - loss: 1.0598 - accuracy: 0.6194\n",
      "Epoch 98/200\n",
      "1563/1563 [==============================] - 6s 4ms/step - loss: 1.0601 - accuracy: 0.6176\n",
      "Epoch 99/200\n",
      "1563/1563 [==============================] - 6s 4ms/step - loss: 1.0607 - accuracy: 0.6180\n",
      "Epoch 100/200\n",
      "1563/1563 [==============================] - 7s 4ms/step - loss: 1.0548 - accuracy: 0.6203\n",
      "Epoch 101/200\n",
      "1563/1563 [==============================] - 9s 5ms/step - loss: 1.0595 - accuracy: 0.6188\n",
      "Epoch 102/200\n",
      "1563/1563 [==============================] - 7s 4ms/step - loss: 1.0580 - accuracy: 0.6213\n",
      "Epoch 103/200\n",
      "1563/1563 [==============================] - 6s 4ms/step - loss: 1.0556 - accuracy: 0.6210\n",
      "Epoch 104/200\n",
      "1563/1563 [==============================] - 6s 4ms/step - loss: 1.0558 - accuracy: 0.6194\n",
      "Epoch 105/200\n",
      "1563/1563 [==============================] - 9s 6ms/step - loss: 1.0519 - accuracy: 0.6219\n",
      "Epoch 106/200\n",
      "1563/1563 [==============================] - 9s 6ms/step - loss: 1.0476 - accuracy: 0.6215\n",
      "Epoch 107/200\n",
      "1563/1563 [==============================] - 10s 6ms/step - loss: 1.0513 - accuracy: 0.6209\n",
      "Epoch 108/200\n",
      "1563/1563 [==============================] - 10s 7ms/step - loss: 1.0499 - accuracy: 0.6221\n",
      "Epoch 109/200\n",
      "1563/1563 [==============================] - 9s 6ms/step - loss: 1.0480 - accuracy: 0.6221\n",
      "Epoch 110/200\n",
      "1563/1563 [==============================] - 9s 5ms/step - loss: 1.0502 - accuracy: 0.6217\n",
      "Epoch 111/200\n",
      "1563/1563 [==============================] - 9s 5ms/step - loss: 1.0468 - accuracy: 0.6236\n",
      "Epoch 112/200\n",
      "1563/1563 [==============================] - 8s 5ms/step - loss: 1.0422 - accuracy: 0.6257\n",
      "Epoch 113/200\n",
      "1563/1563 [==============================] - 8s 5ms/step - loss: 1.0446 - accuracy: 0.6254\n",
      "Epoch 114/200\n",
      "1563/1563 [==============================] - 8s 5ms/step - loss: 1.0476 - accuracy: 0.6217\n",
      "Epoch 115/200\n",
      "1563/1563 [==============================] - 8s 5ms/step - loss: 1.0443 - accuracy: 0.6228\n",
      "Epoch 116/200\n",
      "1563/1563 [==============================] - 8s 5ms/step - loss: 1.0421 - accuracy: 0.6259\n",
      "Epoch 117/200\n",
      "1563/1563 [==============================] - 9s 6ms/step - loss: 1.0375 - accuracy: 0.6282\n",
      "Epoch 118/200\n",
      "1563/1563 [==============================] - 9s 6ms/step - loss: 1.0436 - accuracy: 0.6234\n",
      "Epoch 119/200\n",
      "1563/1563 [==============================] - 9s 6ms/step - loss: 1.0412 - accuracy: 0.6246\n",
      "Epoch 120/200\n",
      "1563/1563 [==============================] - 10s 7ms/step - loss: 1.0359 - accuracy: 0.6285\n",
      "Epoch 121/200\n",
      "1563/1563 [==============================] - 11s 7ms/step - loss: 1.0352 - accuracy: 0.6271\n",
      "Epoch 122/200\n",
      "1563/1563 [==============================] - 9s 6ms/step - loss: 1.0402 - accuracy: 0.6264\n",
      "Epoch 123/200\n",
      "1563/1563 [==============================] - 8s 5ms/step - loss: 1.0357 - accuracy: 0.6293\n",
      "Epoch 124/200\n",
      "1563/1563 [==============================] - 8s 5ms/step - loss: 1.0349 - accuracy: 0.6287: 0s -\n",
      "Epoch 125/200\n",
      "1563/1563 [==============================] - 9s 6ms/step - loss: 1.0354 - accuracy: 0.6271\n",
      "Epoch 126/200\n",
      "1563/1563 [==============================] - 9s 5ms/step - loss: 1.0301 - accuracy: 0.6287\n",
      "Epoch 127/200\n",
      "1563/1563 [==============================] - 8s 5ms/step - loss: 1.0335 - accuracy: 0.6287\n",
      "Epoch 128/200\n",
      "1563/1563 [==============================] - 9s 6ms/step - loss: 1.0375 - accuracy: 0.6265\n",
      "Epoch 129/200\n",
      "1563/1563 [==============================] - 9s 6ms/step - loss: 1.0316 - accuracy: 0.6283\n",
      "Epoch 130/200\n",
      "1563/1563 [==============================] - 9s 6ms/step - loss: 1.0283 - accuracy: 0.6299\n",
      "Epoch 131/200\n",
      "1563/1563 [==============================] - 10s 6ms/step - loss: 1.0270 - accuracy: 0.6297\n",
      "Epoch 132/200\n",
      "1563/1563 [==============================] - 11s 7ms/step - loss: 1.0275 - accuracy: 0.6303\n",
      "Epoch 133/200\n",
      "1563/1563 [==============================] - 10s 6ms/step - loss: 1.0292 - accuracy: 0.6296\n",
      "Epoch 134/200\n",
      "1563/1563 [==============================] - 9s 6ms/step - loss: 1.0253 - accuracy: 0.6291\n",
      "Epoch 135/200\n",
      "1563/1563 [==============================] - 8s 5ms/step - loss: 1.0256 - accuracy: 0.6305\n",
      "Epoch 136/200\n",
      "1563/1563 [==============================] - 9s 5ms/step - loss: 1.0262 - accuracy: 0.6281\n",
      "Epoch 137/200\n",
      "1563/1563 [==============================] - 8s 5ms/step - loss: 1.0235 - accuracy: 0.6312\n",
      "Epoch 138/200\n",
      "1563/1563 [==============================] - 8s 5ms/step - loss: 1.0211 - accuracy: 0.6331\n",
      "Epoch 139/200\n",
      "1563/1563 [==============================] - 9s 5ms/step - loss: 1.0197 - accuracy: 0.6324: 0s - l\n",
      "Epoch 140/200\n",
      "1563/1563 [==============================] - 8s 5ms/step - loss: 1.0226 - accuracy: 0.6302\n",
      "Epoch 141/200\n",
      "1563/1563 [==============================] - 8s 5ms/step - loss: 1.0229 - accuracy: 0.6321\n",
      "Epoch 142/200\n",
      "1563/1563 [==============================] - 10s 7ms/step - loss: 1.0186 - accuracy: 0.6320\n",
      "Epoch 143/200\n",
      "1563/1563 [==============================] - 9s 6ms/step - loss: 1.0168 - accuracy: 0.6328\n",
      "Epoch 144/200\n",
      "1563/1563 [==============================] - 10s 6ms/step - loss: 1.0208 - accuracy: 0.6332\n",
      "Epoch 145/200\n",
      "1563/1563 [==============================] - 10s 7ms/step - loss: 1.0186 - accuracy: 0.6320\n",
      "Epoch 146/200\n",
      "1563/1563 [==============================] - 10s 6ms/step - loss: 1.0158 - accuracy: 0.6346\n",
      "Epoch 147/200\n",
      "1563/1563 [==============================] - 8s 5ms/step - loss: 1.0207 - accuracy: 0.6336\n",
      "Epoch 148/200\n",
      "1563/1563 [==============================] - 8s 5ms/step - loss: 1.0152 - accuracy: 0.6331\n",
      "Epoch 149/200\n",
      "1563/1563 [==============================] - 8s 5ms/step - loss: 1.0150 - accuracy: 0.6326\n",
      "Epoch 150/200\n",
      "1563/1563 [==============================] - 8s 5ms/step - loss: 1.0154 - accuracy: 0.6364\n",
      "Epoch 151/200\n",
      "1563/1563 [==============================] - 7s 5ms/step - loss: 1.0145 - accuracy: 0.6359\n",
      "Epoch 152/200\n",
      "1563/1563 [==============================] - 7s 4ms/step - loss: 1.0176 - accuracy: 0.6352\n",
      "Epoch 153/200\n",
      "1563/1563 [==============================] - 7s 4ms/step - loss: 1.0129 - accuracy: 0.6353\n",
      "Epoch 154/200\n",
      "1563/1563 [==============================] - 8s 5ms/step - loss: 1.0072 - accuracy: 0.6378\n",
      "Epoch 155/200\n",
      "1563/1563 [==============================] - 8s 5ms/step - loss: 1.0080 - accuracy: 0.6355\n",
      "Epoch 156/200\n",
      "1563/1563 [==============================] - 8s 5ms/step - loss: 1.0125 - accuracy: 0.6367\n",
      "Epoch 157/200\n"
     ]
    },
    {
     "name": "stdout",
     "output_type": "stream",
     "text": [
      "1563/1563 [==============================] - 9s 6ms/step - loss: 1.0072 - accuracy: 0.6381\n",
      "Epoch 158/200\n",
      "1563/1563 [==============================] - 9s 6ms/step - loss: 1.0063 - accuracy: 0.6372\n",
      "Epoch 159/200\n",
      "1563/1563 [==============================] - 10s 6ms/step - loss: 1.0101 - accuracy: 0.6365\n",
      "Epoch 160/200\n",
      "1563/1563 [==============================] - 11s 7ms/step - loss: 1.0035 - accuracy: 0.6413\n",
      "Epoch 161/200\n",
      "1563/1563 [==============================] - 10s 6ms/step - loss: 1.0030 - accuracy: 0.6393\n",
      "Epoch 162/200\n",
      "1563/1563 [==============================] - 9s 6ms/step - loss: 1.0023 - accuracy: 0.6399\n",
      "Epoch 163/200\n",
      "1563/1563 [==============================] - 6s 4ms/step - loss: 1.0027 - accuracy: 0.6400\n",
      "Epoch 164/200\n",
      "1563/1563 [==============================] - 5s 4ms/step - loss: 1.0067 - accuracy: 0.6366\n",
      "Epoch 165/200\n",
      "1563/1563 [==============================] - 5s 3ms/step - loss: 0.9992 - accuracy: 0.6401\n",
      "Epoch 166/200\n",
      "1563/1563 [==============================] - 7s 4ms/step - loss: 1.0054 - accuracy: 0.6391\n",
      "Epoch 167/200\n",
      "1563/1563 [==============================] - 7s 5ms/step - loss: 1.0041 - accuracy: 0.6375\n",
      "Epoch 168/200\n",
      "1563/1563 [==============================] - 6s 4ms/step - loss: 0.9985 - accuracy: 0.6421\n",
      "Epoch 169/200\n",
      "1563/1563 [==============================] - 7s 4ms/step - loss: 0.9973 - accuracy: 0.6403\n",
      "Epoch 170/200\n",
      "1563/1563 [==============================] - 7s 4ms/step - loss: 0.9991 - accuracy: 0.6410\n",
      "Epoch 171/200\n",
      "1563/1563 [==============================] - 7s 5ms/step - loss: 1.0039 - accuracy: 0.6387\n",
      "Epoch 172/200\n",
      "1563/1563 [==============================] - 8s 5ms/step - loss: 0.9970 - accuracy: 0.6413\n",
      "Epoch 173/200\n",
      "1563/1563 [==============================] - 8s 5ms/step - loss: 0.9950 - accuracy: 0.6402\n",
      "Epoch 174/200\n",
      "1563/1563 [==============================] - 8s 5ms/step - loss: 0.9947 - accuracy: 0.6421\n",
      "Epoch 175/200\n",
      "1563/1563 [==============================] - 8s 5ms/step - loss: 0.9955 - accuracy: 0.6418\n",
      "Epoch 176/200\n",
      "1563/1563 [==============================] - 9s 6ms/step - loss: 0.9944 - accuracy: 0.6415\n",
      "Epoch 177/200\n",
      "1563/1563 [==============================] - 10s 6ms/step - loss: 0.9929 - accuracy: 0.6412\n",
      "Epoch 178/200\n",
      "1563/1563 [==============================] - 10s 6ms/step - loss: 0.9924 - accuracy: 0.6429\n",
      "Epoch 179/200\n",
      "1563/1563 [==============================] - 8s 5ms/step - loss: 0.9893 - accuracy: 0.6419\n",
      "Epoch 180/200\n",
      "1563/1563 [==============================] - 7s 5ms/step - loss: 0.9921 - accuracy: 0.6417\n",
      "Epoch 181/200\n",
      "1563/1563 [==============================] - 8s 5ms/step - loss: 0.9897 - accuracy: 0.6429\n",
      "Epoch 182/200\n",
      "1563/1563 [==============================] - 8s 5ms/step - loss: 0.9966 - accuracy: 0.6423\n",
      "Epoch 183/200\n",
      "1563/1563 [==============================] - 8s 5ms/step - loss: 0.9886 - accuracy: 0.6435\n",
      "Epoch 184/200\n",
      "1563/1563 [==============================] - 8s 5ms/step - loss: 0.9871 - accuracy: 0.6455\n",
      "Epoch 185/200\n",
      "1563/1563 [==============================] - 8s 5ms/step - loss: 0.9860 - accuracy: 0.6452\n",
      "Epoch 186/200\n",
      "1563/1563 [==============================] - 8s 5ms/step - loss: 0.9962 - accuracy: 0.6420\n",
      "Epoch 187/200\n",
      "1563/1563 [==============================] - 8s 5ms/step - loss: 0.9852 - accuracy: 0.6454\n",
      "Epoch 188/200\n",
      "1563/1563 [==============================] - 9s 5ms/step - loss: 0.9855 - accuracy: 0.6444\n",
      "Epoch 189/200\n",
      "1563/1563 [==============================] - 8s 5ms/step - loss: 0.9857 - accuracy: 0.6464\n",
      "Epoch 190/200\n",
      "1563/1563 [==============================] - 9s 6ms/step - loss: 0.9832 - accuracy: 0.6471\n",
      "Epoch 191/200\n",
      "1563/1563 [==============================] - 10s 6ms/step - loss: 0.9839 - accuracy: 0.6470\n",
      "Epoch 192/200\n",
      "1563/1563 [==============================] - 9s 6ms/step - loss: 0.9784 - accuracy: 0.6493\n",
      "Epoch 193/200\n",
      "1563/1563 [==============================] - 9s 5ms/step - loss: 0.9797 - accuracy: 0.6473\n",
      "Epoch 194/200\n",
      "1563/1563 [==============================] - 8s 5ms/step - loss: 0.9829 - accuracy: 0.6454\n",
      "Epoch 195/200\n",
      "1563/1563 [==============================] - 8s 5ms/step - loss: 0.9792 - accuracy: 0.6461\n",
      "Epoch 196/200\n",
      "1563/1563 [==============================] - 8s 5ms/step - loss: 0.9863 - accuracy: 0.6461\n",
      "Epoch 197/200\n",
      "1563/1563 [==============================] - 8s 5ms/step - loss: 0.9779 - accuracy: 0.6484\n",
      "Epoch 198/200\n",
      "1563/1563 [==============================] - 8s 5ms/step - loss: 0.9766 - accuracy: 0.6468\n",
      "Epoch 199/200\n",
      "1563/1563 [==============================] - 8s 5ms/step - loss: 0.9820 - accuracy: 0.6467\n",
      "Epoch 200/200\n",
      "1563/1563 [==============================] - 8s 5ms/step - loss: 0.9783 - accuracy: 0.6465\n"
     ]
    },
    {
     "data": {
      "text/plain": [
       "<tensorflow.python.keras.callbacks.History at 0x1f702f66ac0>"
      ]
     },
     "execution_count": 47,
     "metadata": {},
     "output_type": "execute_result"
    }
   ],
   "source": [
    "model.fit(x_train_scaled,y_train_encoded, epochs=200)"
   ]
  },
  {
   "cell_type": "code",
   "execution_count": 49,
   "id": "0c7fdb81",
   "metadata": {},
   "outputs": [
    {
     "name": "stdout",
     "output_type": "stream",
     "text": [
      "313/313 [==============================] - 0s 1ms/step - loss: 1.7697 - accuracy: 0.4805\n"
     ]
    },
    {
     "data": {
      "text/plain": [
       "[1.7697365283966064, 0.4805000126361847]"
      ]
     },
     "execution_count": 49,
     "metadata": {},
     "output_type": "execute_result"
    }
   ],
   "source": [
    "model.evaluate(x_test_scaled,y_test_encoded)"
   ]
  },
  {
   "cell_type": "code",
   "execution_count": 58,
   "id": "a041e1ef",
   "metadata": {},
   "outputs": [
    {
     "data": {
      "text/plain": [
       "<matplotlib.image.AxesImage at 0x1f705d8a670>"
      ]
     },
     "execution_count": 58,
     "metadata": {},
     "output_type": "execute_result"
    },
    {
     "data": {
      "image/png": "[encoded data removed]",
      "text/plain": [
       "<Figure size 432x288 with 1 Axes>"
      ]
     },
     "metadata": {
      "needs_background": "light"
     },
     "output_type": "display_data"
    }
   ],
   "source": [
    "plt.imshow(x_test[1])"
   ]
  },
  {
   "cell_type": "code",
   "execution_count": 57,
   "id": "d6867a6b",
   "metadata": {},
   "outputs": [
    {
     "data": {
      "text/plain": [
       "'ship'"
      ]
     },
     "execution_count": 57,
     "metadata": {},
     "output_type": "execute_result"
    }
   ],
   "source": [
    "labels[np.argmax(model.predict(x_test_scaled)[1])]"
   ]
  }
 ],
 "metadata": {
  "kernelspec": {
   "display_name": "Python 3",
   "language": "python",
   "name": "python3"
  },
  "language_info": {
   "codemirror_mode": {
    "name": "ipython",
    "version": 3
   },
   "file_extension": ".py",
   "mimetype": "text/x-python",
   "name": "python",
   "nbconvert_exporter": "python",
   "pygments_lexer": "ipython3",
   "version": "3.8.8"
  }
 },
 "nbformat": 4,
 "nbformat_minor": 5
}

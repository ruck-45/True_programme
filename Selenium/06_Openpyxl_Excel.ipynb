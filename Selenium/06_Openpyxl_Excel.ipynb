{
 "cells": [
  {
   "cell_type": "code",
   "execution_count": 2,
   "id": "586201e3",
   "metadata": {},
   "outputs": [],
   "source": [
    "from selenium import webdriver\n",
    "import openpyxl"
   ]
  },
  {
   "cell_type": "markdown",
   "id": "c62b7f99",
   "metadata": {},
   "source": [
    "# Reading from Excel Using openpyxl"
   ]
  },
  {
   "cell_type": "code",
   "execution_count": 5,
   "id": "76311f5c",
   "metadata": {},
   "outputs": [
    {
     "name": "stdout",
     "output_type": "stream",
     "text": [
      "Username---Password---Result---\n",
      "test---test---None---\n",
      "test---password---None---\n",
      "admin---123---None---\n",
      "user_01---4521asd---None---\n"
     ]
    }
   ],
   "source": [
    "# Loading Excel file workbook\n",
    "\n",
    "workbook = openpyxl.load_workbook('./Excel/login_01.xlsx')\n",
    "\n",
    "# Loading Desired sheet in excel file\n",
    "\n",
    "sheet = workbook.active # getting the currently active sheet\n",
    "# sheet = workbook.get_sheet_by_name('Sheet1') # getting the desired sheet by name\n",
    "\n",
    "# Number of Rows and Columns\n",
    "\n",
    "rows = sheet.max_row\n",
    "cols = sheet.max_column\n",
    "\n",
    "# getting each element\n",
    "\n",
    "for i in range(rows):\n",
    "    for j in range(cols):\n",
    "        value = sheet.cell(i+1,j+1).value\n",
    "        print(value,end = '---')\n",
    "    print()"
   ]
  },
  {
   "cell_type": "markdown",
   "id": "c26c8691",
   "metadata": {},
   "source": [
    "# Writing to Excel Using openpyxl"
   ]
  },
  {
   "cell_type": "code",
   "execution_count": 7,
   "id": "c6fdd8fa",
   "metadata": {},
   "outputs": [],
   "source": [
    "# Loading Excel file workbook\n",
    "\n",
    "workbook = openpyxl.load_workbook('./Excel/login_01.xlsx')\n",
    "\n",
    "# Loading Desired sheet in excel file\n",
    "\n",
    "sheet = workbook.active # getting the currently active sheet\n",
    "# sheet = workbook.get_sheet_by_name('Sheet1') # getting the desired sheet by name\n",
    "\n",
    "# Number of Rows and Columns\n",
    "\n",
    "rows = sheet.max_row\n",
    "cols = sheet.max_column\n",
    "\n",
    "# changing each element to 'UNKNOWN'\n",
    "\n",
    "for i in range(rows):\n",
    "    for j in range(cols):\n",
    "        sheet.cell(i+1,j+1).value = 'UNKNOWN'\n",
    "\n",
    "# Saving the modified workbook to a different excel file\n",
    "workbook.save('./Excel/login_02.xlsx')"
   ]
  }
 ],
 "metadata": {
  "kernelspec": {
   "display_name": "Python 3",
   "language": "python",
   "name": "python3"
  },
  "language_info": {
   "codemirror_mode": {
    "name": "ipython",
    "version": 3
   },
   "file_extension": ".py",
   "mimetype": "text/x-python",
   "name": "python",
   "nbconvert_exporter": "python",
   "pygments_lexer": "ipython3",
   "version": "3.8.8"
  }
 },
 "nbformat": 4,
 "nbformat_minor": 5
}

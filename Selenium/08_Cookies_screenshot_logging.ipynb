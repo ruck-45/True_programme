{
 "cells": [
  {
   "cell_type": "code",
   "execution_count": 1,
   "id": "1326159b",
   "metadata": {},
   "outputs": [],
   "source": [
    "from selenium import webdriver"
   ]
  },
  {
   "cell_type": "markdown",
   "id": "82644268",
   "metadata": {},
   "source": [
    "# Handling Cookies\n",
    "- cookie is a piece of information from website saved by the web browser\n",
    "- It can save user login credinals, user interaction details and other informations using a key : value pair structure\n",
    "- some websites use this cookie information to show us relevant ads"
   ]
  },
  {
   "cell_type": "markdown",
   "id": "e91310db",
   "metadata": {},
   "source": [
    "- Tasks we can perform with cookie : \n",
    "    - Capture all cookies from the browser (count and read all cookie pairs)\n",
    "    - Add new cookie\n",
    "    - Deleting specific cookie (By its name)\n",
    "    - Deleting all cookies"
   ]
  },
  {
   "cell_type": "code",
   "execution_count": 2,
   "id": "9701c7c2",
   "metadata": {},
   "outputs": [
    {
     "name": "stderr",
     "output_type": "stream",
     "text": [
      "<ipython-input-2-b1274be7c3e2>:3: DeprecationWarning: executable_path has been deprecated, please pass in a Service object\n",
      "  driver = webdriver.Chrome(executable_path='./Drivers/chromedriver.exe')\n"
     ]
    }
   ],
   "source": [
    "# setting up webdriver\n",
    "\n",
    "driver = webdriver.Chrome(executable_path='./Drivers/chromedriver.exe')\n",
    "driver.get('https://www.amazon.in/')"
   ]
  },
  {
   "cell_type": "code",
   "execution_count": 9,
   "id": "647396cb",
   "metadata": {},
   "outputs": [
    {
     "name": "stdout",
     "output_type": "stream",
     "text": [
      "Total Number of cookies : 6\n"
     ]
    },
    {
     "data": {
      "text/plain": [
       "[{'domain': '.amazon.in',\n",
       "  'expiry': 1686324810,\n",
       "  'httpOnly': False,\n",
       "  'name': 'session-id-time',\n",
       "  'path': '/',\n",
       "  'secure': False,\n",
       "  'value': '2082758401l'},\n",
       " {'domain': '.amazon.in',\n",
       "  'expiry': 1686324809,\n",
       "  'httpOnly': False,\n",
       "  'name': 'session-token',\n",
       "  'path': '/',\n",
       "  'secure': True,\n",
       "  'value': '\"xgeuNVfIZBEsEUMGwj71bfVK4vYxmHJnMSpFPrMa/7J17DCfNcD7UgEZiB1jf8wYw2paajwYoKZMKPxh0tJGHnB/4ZjtMn1QLpPahwbmWSTBH3gEkrv3bb+qIF5QGRbo/vkVPvbDWHY6I7bLn4qxvLlvB8usQeMy+/T7vWnx55bBVdCbTOLtRHznjIh2VC6l6Sex2St4qOo0idM2YI80Fw==\"'},\n",
       " {'domain': 'www.amazon.in',\n",
       "  'expiry': 1685028808,\n",
       "  'httpOnly': False,\n",
       "  'name': 'csm-hit',\n",
       "  'path': '/',\n",
       "  'secure': False,\n",
       "  'value': 'tb:s-MR82DGSTNASRN9780MXH|1654788807670&t:1654788808374&adb:adblk_no'},\n",
       " {'domain': '.amazon.in',\n",
       "  'expiry': 1686324807,\n",
       "  'httpOnly': False,\n",
       "  'name': 'i18n-prefs',\n",
       "  'path': '/',\n",
       "  'secure': False,\n",
       "  'value': 'INR'},\n",
       " {'domain': '.amazon.in',\n",
       "  'expiry': 1686324810,\n",
       "  'httpOnly': False,\n",
       "  'name': 'ubid-acbin',\n",
       "  'path': '/',\n",
       "  'secure': True,\n",
       "  'value': '261-9738340-7444832'},\n",
       " {'domain': '.amazon.in',\n",
       "  'expiry': 1686324810,\n",
       "  'httpOnly': False,\n",
       "  'name': 'session-id',\n",
       "  'path': '/',\n",
       "  'secure': True,\n",
       "  'value': '257-3206267-9803954'}]"
      ]
     },
     "execution_count": 9,
     "metadata": {},
     "output_type": "execute_result"
    }
   ],
   "source": [
    "# getting all cookies from webbrowser\n",
    "\n",
    "cookies = driver.get_cookies()\n",
    "print(f'Total Number of cookies : {len(cookies)}')\n",
    "\n",
    "cookies"
   ]
  },
  {
   "cell_type": "code",
   "execution_count": 11,
   "id": "a1fb6335",
   "metadata": {
    "scrolled": false
   },
   "outputs": [
    {
     "name": "stdout",
     "output_type": "stream",
     "text": [
      "Total Number of cookies : 7\n"
     ]
    },
    {
     "data": {
      "text/plain": [
       "[{'domain': 'www.amazon.in',\n",
       "  'httpOnly': False,\n",
       "  'name': 'MyCookie',\n",
       "  'path': '/',\n",
       "  'secure': True,\n",
       "  'value': '456'},\n",
       " {'domain': '.amazon.in',\n",
       "  'expiry': 1686324810,\n",
       "  'httpOnly': False,\n",
       "  'name': 'session-id-time',\n",
       "  'path': '/',\n",
       "  'secure': False,\n",
       "  'value': '2082758401l'},\n",
       " {'domain': '.amazon.in',\n",
       "  'expiry': 1686324809,\n",
       "  'httpOnly': False,\n",
       "  'name': 'session-token',\n",
       "  'path': '/',\n",
       "  'secure': True,\n",
       "  'value': '\"xgeuNVfIZBEsEUMGwj71bfVK4vYxmHJnMSpFPrMa/7J17DCfNcD7UgEZiB1jf8wYw2paajwYoKZMKPxh0tJGHnB/4ZjtMn1QLpPahwbmWSTBH3gEkrv3bb+qIF5QGRbo/vkVPvbDWHY6I7bLn4qxvLlvB8usQeMy+/T7vWnx55bBVdCbTOLtRHznjIh2VC6l6Sex2St4qOo0idM2YI80Fw==\"'},\n",
       " {'domain': 'www.amazon.in',\n",
       "  'expiry': 1685028808,\n",
       "  'httpOnly': False,\n",
       "  'name': 'csm-hit',\n",
       "  'path': '/',\n",
       "  'secure': False,\n",
       "  'value': 'tb:s-MR82DGSTNASRN9780MXH|1654788807670&t:1654788808374&adb:adblk_no'},\n",
       " {'domain': '.amazon.in',\n",
       "  'expiry': 1686324807,\n",
       "  'httpOnly': False,\n",
       "  'name': 'i18n-prefs',\n",
       "  'path': '/',\n",
       "  'secure': False,\n",
       "  'value': 'INR'},\n",
       " {'domain': '.amazon.in',\n",
       "  'expiry': 1686324810,\n",
       "  'httpOnly': False,\n",
       "  'name': 'ubid-acbin',\n",
       "  'path': '/',\n",
       "  'secure': True,\n",
       "  'value': '261-9738340-7444832'},\n",
       " {'domain': '.amazon.in',\n",
       "  'expiry': 1686324810,\n",
       "  'httpOnly': False,\n",
       "  'name': 'session-id',\n",
       "  'path': '/',\n",
       "  'secure': True,\n",
       "  'value': '257-3206267-9803954'}]"
      ]
     },
     "execution_count": 11,
     "metadata": {},
     "output_type": "execute_result"
    }
   ],
   "source": [
    "# adding a new cookie\n",
    "# each individual cookie is a dictionay in itself having different attributes\n",
    "\n",
    "new_cookie = {'name':'MyCookie','value':'456'}\n",
    "driver.add_cookie(new_cookie)\n",
    "\n",
    "# getting all cookies and displaying\n",
    "cookies = driver.get_cookies()\n",
    "print(f'Total Number of cookies : {len(cookies)}')\n",
    "\n",
    "cookies"
   ]
  },
  {
   "cell_type": "code",
   "execution_count": 12,
   "id": "a685fc5b",
   "metadata": {},
   "outputs": [
    {
     "name": "stdout",
     "output_type": "stream",
     "text": [
      "Total Number of cookies : 6\n"
     ]
    },
    {
     "data": {
      "text/plain": [
       "[{'domain': '.amazon.in',\n",
       "  'expiry': 1686324810,\n",
       "  'httpOnly': False,\n",
       "  'name': 'session-id-time',\n",
       "  'path': '/',\n",
       "  'secure': False,\n",
       "  'value': '2082758401l'},\n",
       " {'domain': '.amazon.in',\n",
       "  'expiry': 1686324809,\n",
       "  'httpOnly': False,\n",
       "  'name': 'session-token',\n",
       "  'path': '/',\n",
       "  'secure': True,\n",
       "  'value': '\"xgeuNVfIZBEsEUMGwj71bfVK4vYxmHJnMSpFPrMa/7J17DCfNcD7UgEZiB1jf8wYw2paajwYoKZMKPxh0tJGHnB/4ZjtMn1QLpPahwbmWSTBH3gEkrv3bb+qIF5QGRbo/vkVPvbDWHY6I7bLn4qxvLlvB8usQeMy+/T7vWnx55bBVdCbTOLtRHznjIh2VC6l6Sex2St4qOo0idM2YI80Fw==\"'},\n",
       " {'domain': 'www.amazon.in',\n",
       "  'expiry': 1685028808,\n",
       "  'httpOnly': False,\n",
       "  'name': 'csm-hit',\n",
       "  'path': '/',\n",
       "  'secure': False,\n",
       "  'value': 'tb:s-MR82DGSTNASRN9780MXH|1654788807670&t:1654788808374&adb:adblk_no'},\n",
       " {'domain': '.amazon.in',\n",
       "  'expiry': 1686324807,\n",
       "  'httpOnly': False,\n",
       "  'name': 'i18n-prefs',\n",
       "  'path': '/',\n",
       "  'secure': False,\n",
       "  'value': 'INR'},\n",
       " {'domain': '.amazon.in',\n",
       "  'expiry': 1686324810,\n",
       "  'httpOnly': False,\n",
       "  'name': 'ubid-acbin',\n",
       "  'path': '/',\n",
       "  'secure': True,\n",
       "  'value': '261-9738340-7444832'},\n",
       " {'domain': '.amazon.in',\n",
       "  'expiry': 1686324810,\n",
       "  'httpOnly': False,\n",
       "  'name': 'session-id',\n",
       "  'path': '/',\n",
       "  'secure': True,\n",
       "  'value': '257-3206267-9803954'}]"
      ]
     },
     "execution_count": 12,
     "metadata": {},
     "output_type": "execute_result"
    }
   ],
   "source": [
    "# Deleting a cookie by name\n",
    "\n",
    "driver.delete_cookie('MyCookie')\n",
    "\n",
    "# getting all cookies and displaying\n",
    "cookies = driver.get_cookies()\n",
    "print(f'Total Number of cookies : {len(cookies)}')\n",
    "\n",
    "cookies"
   ]
  },
  {
   "cell_type": "code",
   "execution_count": 13,
   "id": "d11f9fb1",
   "metadata": {},
   "outputs": [
    {
     "name": "stdout",
     "output_type": "stream",
     "text": [
      "Total Number of cookies : 0\n"
     ]
    },
    {
     "data": {
      "text/plain": [
       "[]"
      ]
     },
     "execution_count": 13,
     "metadata": {},
     "output_type": "execute_result"
    }
   ],
   "source": [
    "# delete all cookies\n",
    "\n",
    "driver.delete_all_cookies()\n",
    "\n",
    "# getting all cookies and displaying\n",
    "cookies = driver.get_cookies()\n",
    "print(f'Total Number of cookies : {len(cookies)}')\n",
    "\n",
    "cookies"
   ]
  },
  {
   "cell_type": "markdown",
   "id": "9c87ac02",
   "metadata": {},
   "source": [
    "# Taking Screenshot\n",
    "-  we can save screenshot by using two methods:\n",
    "    - save_screenshot('file_name_with_path') -- can save image with any extension\n",
    "    - get_screenshot_as_file('file_name_with_path') -- can save only .png files"
   ]
  },
  {
   "cell_type": "code",
   "execution_count": 14,
   "id": "33a0415e",
   "metadata": {},
   "outputs": [
    {
     "name": "stderr",
     "output_type": "stream",
     "text": [
      "C:\\ProgramData\\Anaconda3\\lib\\site-packages\\selenium\\webdriver\\remote\\webdriver.py:1319: UserWarning: name used for saved screenshot does not match file type. It should end with a `.png` extension\n",
      "  warnings.warn(\"name used for saved screenshot does not match file \"\n"
     ]
    },
    {
     "data": {
      "text/plain": [
       "True"
      ]
     },
     "execution_count": 14,
     "metadata": {},
     "output_type": "execute_result"
    }
   ],
   "source": [
    "driver.save_screenshot('./Images/screenshot01.jpg')"
   ]
  },
  {
   "cell_type": "code",
   "execution_count": 15,
   "id": "6551ef58",
   "metadata": {},
   "outputs": [
    {
     "data": {
      "text/plain": [
       "True"
      ]
     },
     "execution_count": 15,
     "metadata": {},
     "output_type": "execute_result"
    }
   ],
   "source": [
    "driver.get_screenshot_as_file('./Images/screenshot02.png')"
   ]
  },
  {
   "cell_type": "markdown",
   "id": "a3e4f869",
   "metadata": {},
   "source": [
    "# Logging\n",
    "- logging is very useful for developers\n",
    "- while software testing its is important to take note of anomalies in the code\n",
    "- so a log file is helpful for keeping the record on such activities\n",
    "- for this task we use the module logging"
   ]
  },
  {
   "cell_type": "markdown",
   "id": "88b787f7",
   "metadata": {},
   "source": [
    "- different levels of logs: (increasing severity down)\n",
    "    - Debug\n",
    "    - Info\n",
    "    - Warning\n",
    "    - Error\n",
    "    - Critical\n",
    "- Normally browser log threshold is 'Warning', that is it wont display message whose log levels fall below warning (Debug and info)"
   ]
  },
  {
   "cell_type": "code",
   "execution_count": 1,
   "id": "323f39c1",
   "metadata": {},
   "outputs": [
    {
     "name": "stderr",
     "output_type": "stream",
     "text": [
      "--- Logging error ---\n",
      "Traceback (most recent call last):\n",
      "  File \"C:\\ProgramData\\Anaconda3\\lib\\logging\\__init__.py\", line 436, in format\n",
      "    return self._format(record)\n",
      "  File \"C:\\ProgramData\\Anaconda3\\lib\\logging\\__init__.py\", line 432, in _format\n",
      "    return self._fmt % record.__dict__\n",
      "KeyError: 'lavelname'\n",
      "\n",
      "During handling of the above exception, another exception occurred:\n",
      "\n",
      "Traceback (most recent call last):\n",
      "  File \"C:\\ProgramData\\Anaconda3\\lib\\logging\\__init__.py\", line 1081, in emit\n",
      "    msg = self.format(record)\n",
      "  File \"C:\\ProgramData\\Anaconda3\\lib\\logging\\__init__.py\", line 925, in format\n",
      "    return fmt.format(record)\n",
      "  File \"C:\\ProgramData\\Anaconda3\\lib\\logging\\__init__.py\", line 667, in format\n",
      "    s = self.formatMessage(record)\n",
      "  File \"C:\\ProgramData\\Anaconda3\\lib\\logging\\__init__.py\", line 636, in formatMessage\n",
      "    return self._style.format(record)\n",
      "  File \"C:\\ProgramData\\Anaconda3\\lib\\logging\\__init__.py\", line 438, in format\n",
      "    raise ValueError('Formatting field not found in record: %s' % e)\n",
      "ValueError: Formatting field not found in record: 'lavelname'\n",
      "Call stack:\n",
      "  File \"C:\\ProgramData\\Anaconda3\\lib\\runpy.py\", line 194, in _run_module_as_main\n",
      "    return _run_code(code, main_globals, None,\n",
      "  File \"C:\\ProgramData\\Anaconda3\\lib\\runpy.py\", line 87, in _run_code\n",
      "    exec(code, run_globals)\n",
      "  File \"C:\\ProgramData\\Anaconda3\\lib\\site-packages\\ipykernel_launcher.py\", line 16, in <module>\n",
      "    app.launch_new_instance()\n",
      "  File \"C:\\ProgramData\\Anaconda3\\lib\\site-packages\\traitlets\\config\\application.py\", line 845, in launch_instance\n",
      "    app.start()\n",
      "  File \"C:\\ProgramData\\Anaconda3\\lib\\site-packages\\ipykernel\\kernelapp.py\", line 612, in start\n",
      "    self.io_loop.start()\n",
      "  File \"C:\\ProgramData\\Anaconda3\\lib\\site-packages\\tornado\\platform\\asyncio.py\", line 199, in start\n",
      "    self.asyncio_loop.run_forever()\n",
      "  File \"C:\\ProgramData\\Anaconda3\\lib\\asyncio\\base_events.py\", line 570, in run_forever\n",
      "    self._run_once()\n",
      "  File \"C:\\ProgramData\\Anaconda3\\lib\\asyncio\\base_events.py\", line 1859, in _run_once\n",
      "    handle._run()\n",
      "  File \"C:\\ProgramData\\Anaconda3\\lib\\asyncio\\events.py\", line 81, in _run\n",
      "    self._context.run(self._callback, *self._args)\n",
      "  File \"C:\\ProgramData\\Anaconda3\\lib\\site-packages\\tornado\\ioloop.py\", line 688, in <lambda>\n",
      "    lambda f: self._run_callback(functools.partial(callback, future))\n",
      "  File \"C:\\ProgramData\\Anaconda3\\lib\\site-packages\\tornado\\ioloop.py\", line 741, in _run_callback\n",
      "    ret = callback()\n",
      "  File \"C:\\ProgramData\\Anaconda3\\lib\\site-packages\\tornado\\gen.py\", line 814, in inner\n",
      "    self.ctx_run(self.run)\n",
      "  File \"C:\\ProgramData\\Anaconda3\\lib\\site-packages\\tornado\\gen.py\", line 775, in run\n",
      "    yielded = self.gen.send(value)\n",
      "  File \"C:\\ProgramData\\Anaconda3\\lib\\site-packages\\ipykernel\\kernelbase.py\", line 365, in process_one\n",
      "    yield gen.maybe_future(dispatch(*args))\n",
      "  File \"C:\\ProgramData\\Anaconda3\\lib\\site-packages\\tornado\\gen.py\", line 234, in wrapper\n",
      "    yielded = ctx_run(next, result)\n",
      "  File \"C:\\ProgramData\\Anaconda3\\lib\\site-packages\\ipykernel\\kernelbase.py\", line 268, in dispatch_shell\n",
      "    yield gen.maybe_future(handler(stream, idents, msg))\n",
      "  File \"C:\\ProgramData\\Anaconda3\\lib\\site-packages\\tornado\\gen.py\", line 234, in wrapper\n",
      "    yielded = ctx_run(next, result)\n",
      "  File \"C:\\ProgramData\\Anaconda3\\lib\\site-packages\\ipykernel\\kernelbase.py\", line 543, in execute_request\n",
      "    self.do_execute(\n",
      "  File \"C:\\ProgramData\\Anaconda3\\lib\\site-packages\\tornado\\gen.py\", line 234, in wrapper\n",
      "    yielded = ctx_run(next, result)\n",
      "  File \"C:\\ProgramData\\Anaconda3\\lib\\site-packages\\ipykernel\\ipkernel.py\", line 306, in do_execute\n",
      "    res = shell.run_cell(code, store_history=store_history, silent=silent)\n",
      "  File \"C:\\ProgramData\\Anaconda3\\lib\\site-packages\\ipykernel\\zmqshell.py\", line 536, in run_cell\n",
      "    return super(ZMQInteractiveShell, self).run_cell(*args, **kwargs)\n",
      "  File \"C:\\ProgramData\\Anaconda3\\lib\\site-packages\\IPython\\core\\interactiveshell.py\", line 2894, in run_cell\n",
      "    result = self._run_cell(\n",
      "  File \"C:\\ProgramData\\Anaconda3\\lib\\site-packages\\IPython\\core\\interactiveshell.py\", line 2940, in _run_cell\n",
      "    return runner(coro)\n",
      "  File \"C:\\ProgramData\\Anaconda3\\lib\\site-packages\\IPython\\core\\async_helpers.py\", line 68, in _pseudo_sync_runner\n",
      "    coro.send(None)\n",
      "  File \"C:\\ProgramData\\Anaconda3\\lib\\site-packages\\IPython\\core\\interactiveshell.py\", line 3165, in run_cell_async\n",
      "    has_raised = await self.run_ast_nodes(code_ast.body, cell_name,\n",
      "  File \"C:\\ProgramData\\Anaconda3\\lib\\site-packages\\IPython\\core\\interactiveshell.py\", line 3357, in run_ast_nodes\n",
      "    if (await self.run_code(code, result,  async_=asy)):\n",
      "  File \"C:\\ProgramData\\Anaconda3\\lib\\site-packages\\IPython\\core\\interactiveshell.py\", line 3437, in run_code\n",
      "    exec(code_obj, self.user_global_ns, self.user_ns)\n",
      "  File \"<ipython-input-1-55c808e9db29>\", line 16, in <module>\n",
      "    logging.warning('Warning Message') # log message of warning level\n",
      "Message: 'Warning Message'\n",
      "Arguments: ()\n",
      "--- Logging error ---\n",
      "Traceback (most recent call last):\n",
      "  File \"C:\\ProgramData\\Anaconda3\\lib\\logging\\__init__.py\", line 436, in format\n",
      "    return self._format(record)\n",
      "  File \"C:\\ProgramData\\Anaconda3\\lib\\logging\\__init__.py\", line 432, in _format\n",
      "    return self._fmt % record.__dict__\n",
      "KeyError: 'lavelname'\n",
      "\n",
      "During handling of the above exception, another exception occurred:\n",
      "\n",
      "Traceback (most recent call last):\n",
      "  File \"C:\\ProgramData\\Anaconda3\\lib\\logging\\__init__.py\", line 1081, in emit\n",
      "    msg = self.format(record)\n",
      "  File \"C:\\ProgramData\\Anaconda3\\lib\\logging\\__init__.py\", line 925, in format\n",
      "    return fmt.format(record)\n",
      "  File \"C:\\ProgramData\\Anaconda3\\lib\\logging\\__init__.py\", line 667, in format\n",
      "    s = self.formatMessage(record)\n",
      "  File \"C:\\ProgramData\\Anaconda3\\lib\\logging\\__init__.py\", line 636, in formatMessage\n",
      "    return self._style.format(record)\n",
      "  File \"C:\\ProgramData\\Anaconda3\\lib\\logging\\__init__.py\", line 438, in format\n",
      "    raise ValueError('Formatting field not found in record: %s' % e)\n",
      "ValueError: Formatting field not found in record: 'lavelname'\n",
      "Call stack:\n",
      "  File \"C:\\ProgramData\\Anaconda3\\lib\\runpy.py\", line 194, in _run_module_as_main\n",
      "    return _run_code(code, main_globals, None,\n",
      "  File \"C:\\ProgramData\\Anaconda3\\lib\\runpy.py\", line 87, in _run_code\n",
      "    exec(code, run_globals)\n",
      "  File \"C:\\ProgramData\\Anaconda3\\lib\\site-packages\\ipykernel_launcher.py\", line 16, in <module>\n",
      "    app.launch_new_instance()\n",
      "  File \"C:\\ProgramData\\Anaconda3\\lib\\site-packages\\traitlets\\config\\application.py\", line 845, in launch_instance\n",
      "    app.start()\n",
      "  File \"C:\\ProgramData\\Anaconda3\\lib\\site-packages\\ipykernel\\kernelapp.py\", line 612, in start\n",
      "    self.io_loop.start()\n",
      "  File \"C:\\ProgramData\\Anaconda3\\lib\\site-packages\\tornado\\platform\\asyncio.py\", line 199, in start\n",
      "    self.asyncio_loop.run_forever()\n",
      "  File \"C:\\ProgramData\\Anaconda3\\lib\\asyncio\\base_events.py\", line 570, in run_forever\n",
      "    self._run_once()\n",
      "  File \"C:\\ProgramData\\Anaconda3\\lib\\asyncio\\base_events.py\", line 1859, in _run_once\n",
      "    handle._run()\n",
      "  File \"C:\\ProgramData\\Anaconda3\\lib\\asyncio\\events.py\", line 81, in _run\n",
      "    self._context.run(self._callback, *self._args)\n",
      "  File \"C:\\ProgramData\\Anaconda3\\lib\\site-packages\\tornado\\ioloop.py\", line 688, in <lambda>\n",
      "    lambda f: self._run_callback(functools.partial(callback, future))\n",
      "  File \"C:\\ProgramData\\Anaconda3\\lib\\site-packages\\tornado\\ioloop.py\", line 741, in _run_callback\n",
      "    ret = callback()\n",
      "  File \"C:\\ProgramData\\Anaconda3\\lib\\site-packages\\tornado\\gen.py\", line 814, in inner\n",
      "    self.ctx_run(self.run)\n",
      "  File \"C:\\ProgramData\\Anaconda3\\lib\\site-packages\\tornado\\gen.py\", line 775, in run\n",
      "    yielded = self.gen.send(value)\n",
      "  File \"C:\\ProgramData\\Anaconda3\\lib\\site-packages\\ipykernel\\kernelbase.py\", line 365, in process_one\n",
      "    yield gen.maybe_future(dispatch(*args))\n",
      "  File \"C:\\ProgramData\\Anaconda3\\lib\\site-packages\\tornado\\gen.py\", line 234, in wrapper\n",
      "    yielded = ctx_run(next, result)\n",
      "  File \"C:\\ProgramData\\Anaconda3\\lib\\site-packages\\ipykernel\\kernelbase.py\", line 268, in dispatch_shell\n",
      "    yield gen.maybe_future(handler(stream, idents, msg))\n",
      "  File \"C:\\ProgramData\\Anaconda3\\lib\\site-packages\\tornado\\gen.py\", line 234, in wrapper\n",
      "    yielded = ctx_run(next, result)\n",
      "  File \"C:\\ProgramData\\Anaconda3\\lib\\site-packages\\ipykernel\\kernelbase.py\", line 543, in execute_request\n",
      "    self.do_execute(\n",
      "  File \"C:\\ProgramData\\Anaconda3\\lib\\site-packages\\tornado\\gen.py\", line 234, in wrapper\n",
      "    yielded = ctx_run(next, result)\n",
      "  File \"C:\\ProgramData\\Anaconda3\\lib\\site-packages\\ipykernel\\ipkernel.py\", line 306, in do_execute\n",
      "    res = shell.run_cell(code, store_history=store_history, silent=silent)\n",
      "  File \"C:\\ProgramData\\Anaconda3\\lib\\site-packages\\ipykernel\\zmqshell.py\", line 536, in run_cell\n",
      "    return super(ZMQInteractiveShell, self).run_cell(*args, **kwargs)\n",
      "  File \"C:\\ProgramData\\Anaconda3\\lib\\site-packages\\IPython\\core\\interactiveshell.py\", line 2894, in run_cell\n",
      "    result = self._run_cell(\n",
      "  File \"C:\\ProgramData\\Anaconda3\\lib\\site-packages\\IPython\\core\\interactiveshell.py\", line 2940, in _run_cell\n",
      "    return runner(coro)\n",
      "  File \"C:\\ProgramData\\Anaconda3\\lib\\site-packages\\IPython\\core\\async_helpers.py\", line 68, in _pseudo_sync_runner\n",
      "    coro.send(None)\n",
      "  File \"C:\\ProgramData\\Anaconda3\\lib\\site-packages\\IPython\\core\\interactiveshell.py\", line 3165, in run_cell_async\n",
      "    has_raised = await self.run_ast_nodes(code_ast.body, cell_name,\n",
      "  File \"C:\\ProgramData\\Anaconda3\\lib\\site-packages\\IPython\\core\\interactiveshell.py\", line 3357, in run_ast_nodes\n",
      "    if (await self.run_code(code, result,  async_=asy)):\n",
      "  File \"C:\\ProgramData\\Anaconda3\\lib\\site-packages\\IPython\\core\\interactiveshell.py\", line 3437, in run_code\n",
      "    exec(code_obj, self.user_global_ns, self.user_ns)\n",
      "  File \"<ipython-input-1-55c808e9db29>\", line 17, in <module>\n",
      "    logging.error('Error Message')\n",
      "Message: 'Error Message'\n",
      "Arguments: ()\n",
      "--- Logging error ---\n",
      "Traceback (most recent call last):\n",
      "  File \"C:\\ProgramData\\Anaconda3\\lib\\logging\\__init__.py\", line 436, in format\n",
      "    return self._format(record)\n",
      "  File \"C:\\ProgramData\\Anaconda3\\lib\\logging\\__init__.py\", line 432, in _format\n",
      "    return self._fmt % record.__dict__\n",
      "KeyError: 'lavelname'\n",
      "\n",
      "During handling of the above exception, another exception occurred:\n",
      "\n",
      "Traceback (most recent call last):\n",
      "  File \"C:\\ProgramData\\Anaconda3\\lib\\logging\\__init__.py\", line 1081, in emit\n",
      "    msg = self.format(record)\n",
      "  File \"C:\\ProgramData\\Anaconda3\\lib\\logging\\__init__.py\", line 925, in format\n",
      "    return fmt.format(record)\n",
      "  File \"C:\\ProgramData\\Anaconda3\\lib\\logging\\__init__.py\", line 667, in format\n",
      "    s = self.formatMessage(record)\n",
      "  File \"C:\\ProgramData\\Anaconda3\\lib\\logging\\__init__.py\", line 636, in formatMessage\n",
      "    return self._style.format(record)\n",
      "  File \"C:\\ProgramData\\Anaconda3\\lib\\logging\\__init__.py\", line 438, in format\n",
      "    raise ValueError('Formatting field not found in record: %s' % e)\n",
      "ValueError: Formatting field not found in record: 'lavelname'\n",
      "Call stack:\n",
      "  File \"C:\\ProgramData\\Anaconda3\\lib\\runpy.py\", line 194, in _run_module_as_main\n",
      "    return _run_code(code, main_globals, None,\n",
      "  File \"C:\\ProgramData\\Anaconda3\\lib\\runpy.py\", line 87, in _run_code\n",
      "    exec(code, run_globals)\n",
      "  File \"C:\\ProgramData\\Anaconda3\\lib\\site-packages\\ipykernel_launcher.py\", line 16, in <module>\n",
      "    app.launch_new_instance()\n",
      "  File \"C:\\ProgramData\\Anaconda3\\lib\\site-packages\\traitlets\\config\\application.py\", line 845, in launch_instance\n",
      "    app.start()\n",
      "  File \"C:\\ProgramData\\Anaconda3\\lib\\site-packages\\ipykernel\\kernelapp.py\", line 612, in start\n",
      "    self.io_loop.start()\n",
      "  File \"C:\\ProgramData\\Anaconda3\\lib\\site-packages\\tornado\\platform\\asyncio.py\", line 199, in start\n",
      "    self.asyncio_loop.run_forever()\n",
      "  File \"C:\\ProgramData\\Anaconda3\\lib\\asyncio\\base_events.py\", line 570, in run_forever\n",
      "    self._run_once()\n",
      "  File \"C:\\ProgramData\\Anaconda3\\lib\\asyncio\\base_events.py\", line 1859, in _run_once\n",
      "    handle._run()\n",
      "  File \"C:\\ProgramData\\Anaconda3\\lib\\asyncio\\events.py\", line 81, in _run\n",
      "    self._context.run(self._callback, *self._args)\n",
      "  File \"C:\\ProgramData\\Anaconda3\\lib\\site-packages\\tornado\\ioloop.py\", line 688, in <lambda>\n",
      "    lambda f: self._run_callback(functools.partial(callback, future))\n",
      "  File \"C:\\ProgramData\\Anaconda3\\lib\\site-packages\\tornado\\ioloop.py\", line 741, in _run_callback\n",
      "    ret = callback()\n",
      "  File \"C:\\ProgramData\\Anaconda3\\lib\\site-packages\\tornado\\gen.py\", line 814, in inner\n",
      "    self.ctx_run(self.run)\n",
      "  File \"C:\\ProgramData\\Anaconda3\\lib\\site-packages\\tornado\\gen.py\", line 775, in run\n",
      "    yielded = self.gen.send(value)\n",
      "  File \"C:\\ProgramData\\Anaconda3\\lib\\site-packages\\ipykernel\\kernelbase.py\", line 365, in process_one\n",
      "    yield gen.maybe_future(dispatch(*args))\n",
      "  File \"C:\\ProgramData\\Anaconda3\\lib\\site-packages\\tornado\\gen.py\", line 234, in wrapper\n",
      "    yielded = ctx_run(next, result)\n",
      "  File \"C:\\ProgramData\\Anaconda3\\lib\\site-packages\\ipykernel\\kernelbase.py\", line 268, in dispatch_shell\n",
      "    yield gen.maybe_future(handler(stream, idents, msg))\n",
      "  File \"C:\\ProgramData\\Anaconda3\\lib\\site-packages\\tornado\\gen.py\", line 234, in wrapper\n",
      "    yielded = ctx_run(next, result)\n",
      "  File \"C:\\ProgramData\\Anaconda3\\lib\\site-packages\\ipykernel\\kernelbase.py\", line 543, in execute_request\n",
      "    self.do_execute(\n",
      "  File \"C:\\ProgramData\\Anaconda3\\lib\\site-packages\\tornado\\gen.py\", line 234, in wrapper\n",
      "    yielded = ctx_run(next, result)\n",
      "  File \"C:\\ProgramData\\Anaconda3\\lib\\site-packages\\ipykernel\\ipkernel.py\", line 306, in do_execute\n",
      "    res = shell.run_cell(code, store_history=store_history, silent=silent)\n",
      "  File \"C:\\ProgramData\\Anaconda3\\lib\\site-packages\\ipykernel\\zmqshell.py\", line 536, in run_cell\n",
      "    return super(ZMQInteractiveShell, self).run_cell(*args, **kwargs)\n",
      "  File \"C:\\ProgramData\\Anaconda3\\lib\\site-packages\\IPython\\core\\interactiveshell.py\", line 2894, in run_cell\n",
      "    result = self._run_cell(\n",
      "  File \"C:\\ProgramData\\Anaconda3\\lib\\site-packages\\IPython\\core\\interactiveshell.py\", line 2940, in _run_cell\n",
      "    return runner(coro)\n",
      "  File \"C:\\ProgramData\\Anaconda3\\lib\\site-packages\\IPython\\core\\async_helpers.py\", line 68, in _pseudo_sync_runner\n",
      "    coro.send(None)\n",
      "  File \"C:\\ProgramData\\Anaconda3\\lib\\site-packages\\IPython\\core\\interactiveshell.py\", line 3165, in run_cell_async\n",
      "    has_raised = await self.run_ast_nodes(code_ast.body, cell_name,\n",
      "  File \"C:\\ProgramData\\Anaconda3\\lib\\site-packages\\IPython\\core\\interactiveshell.py\", line 3357, in run_ast_nodes\n",
      "    if (await self.run_code(code, result,  async_=asy)):\n",
      "  File \"C:\\ProgramData\\Anaconda3\\lib\\site-packages\\IPython\\core\\interactiveshell.py\", line 3437, in run_code\n",
      "    exec(code_obj, self.user_global_ns, self.user_ns)\n",
      "  File \"<ipython-input-1-55c808e9db29>\", line 18, in <module>\n",
      "    logging.critical('Critical Message')\n",
      "Message: 'Critical Message'\n",
      "Arguments: ()\n"
     ]
    }
   ],
   "source": [
    "import logging # importing library\n",
    "\n",
    "logger = logging.getLogger() # creating a logger object\n",
    "logger.setLevel(logging.DEBUG) # lowering logging threshold such that it doesnt ignore Debug and info messages\n",
    "\n",
    "# setting basic configuration for logging\n",
    "# filename : name of log file along witgh its address\n",
    "# format :  format of storing log messages\n",
    "# datefmt : dateformat\n",
    "logging.basicConfig(filename='D://true prgrmm//Selenium//Logs//dummy_02.log',\n",
    "                   format='%(asctime)s : %(lavelname)s : %(message)s',\n",
    "                   datefmt='%d-%m-%Y %I:%M:%S %p')\n",
    "\n",
    "logging.debug('Debug Message') # log message of debug level \n",
    "logging.info('Info Message') \n",
    "logging.warning('Warning Message') # log message of warning level\n",
    "logging.error('Error Message')\n",
    "logging.critical('Critical Message')"
   ]
  }
 ],
 "metadata": {
  "kernelspec": {
   "display_name": "Python 3",
   "language": "python",
   "name": "python3"
  },
  "language_info": {
   "codemirror_mode": {
    "name": "ipython",
    "version": 3
   },
   "file_extension": ".py",
   "mimetype": "text/x-python",
   "name": "python",
   "nbconvert_exporter": "python",
   "pygments_lexer": "ipython3",
   "version": "3.8.8"
  }
 },
 "nbformat": 4,
 "nbformat_minor": 5
}

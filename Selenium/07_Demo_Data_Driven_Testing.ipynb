{
 "cells": [
  {
   "cell_type": "code",
   "execution_count": 1,
   "id": "da866db5",
   "metadata": {},
   "outputs": [],
   "source": [
    "from selenium import webdriver"
   ]
  },
  {
   "cell_type": "code",
   "execution_count": 2,
   "id": "c19bdde0",
   "metadata": {},
   "outputs": [],
   "source": [
    "# Since\n",
    "#     - getting number of rows, columns\n",
    "#     - reading a perticular cell from excel\n",
    "#     - writing aperticular cell into excel \n",
    "\n",
    "# is always performed, we created a separate python file called 'XLutil.py' \n",
    "# & defined different functions to carry out above tasks\n",
    "\n",
    "# in Python we can import a separate python file as Module and use its functions as method\n",
    "\n",
    "import XLutil"
   ]
  },
  {
   "cell_type": "code",
   "execution_count": 6,
   "id": "effb0423",
   "metadata": {},
   "outputs": [
    {
     "name": "stderr",
     "output_type": "stream",
     "text": [
      "<ipython-input-6-ab444b1c4c16>:3: DeprecationWarning: executable_path has been deprecated, please pass in a Service object\n",
      "  driver = webdriver.Chrome(executable_path='./Drivers/chromedriver.exe')\n",
      "<ipython-input-6-ab444b1c4c16>:16: DeprecationWarning: find_element_by_xpath is deprecated. Please use find_element(by=By.XPATH, value=xpath) instead\n",
      "  username = driver.find_element_by_xpath('//input[@name=\"uname\"]')\n",
      "<ipython-input-6-ab444b1c4c16>:17: DeprecationWarning: find_element_by_xpath is deprecated. Please use find_element(by=By.XPATH, value=xpath) instead\n",
      "  password = driver.find_element_by_xpath('//input[@name=\"pass\"]')\n",
      "<ipython-input-6-ab444b1c4c16>:18: DeprecationWarning: find_element_by_xpath is deprecated. Please use find_element(by=By.XPATH, value=xpath) instead\n",
      "  login = driver.find_element_by_xpath('//input[@value=\"login\"]')\n"
     ]
    }
   ],
   "source": [
    "# setting up driver and loading URL\n",
    "\n",
    "driver = webdriver.Chrome(executable_path='./Drivers/chromedriver.exe')\n",
    "driver.get('http://testphp.vulnweb.com/login.php')\n",
    "\n",
    "# Testing each credinals from excel file\n",
    "\n",
    "file_path = './Excel/login_03.xlsx'\n",
    "sheet_name = 'Sheet1'\n",
    "\n",
    "rows = XLutil.row_count(file_path,sheet_name)\n",
    "\n",
    "for i in range(1,rows):\n",
    "#     finding username , password and login elements\n",
    "\n",
    "    username = driver.find_element_by_xpath('//input[@name=\"uname\"]')\n",
    "    password = driver.find_element_by_xpath('//input[@name=\"pass\"]')\n",
    "    login = driver.find_element_by_xpath('//input[@value=\"login\"]')\n",
    "    \n",
    "#     getting credinals\n",
    "    user_name = XLutil.read_element(file_path,sheet_name,i+1,1)\n",
    "    pass_word = XLutil.read_element(file_path,sheet_name,i+1,2)\n",
    "    \n",
    "#     entering credinals\n",
    "    username.send_keys(user_name)\n",
    "    password.send_keys(pass_word)\n",
    "    login.click()\n",
    "    \n",
    "#     checking for successful login and the writing result to excel file\n",
    "    if driver.title == 'user info':\n",
    "        XLutil.write_elemnt(file_path,sheet_name,i+1,3,'Passed')\n",
    "    else:\n",
    "        XLutil.write_elemnt(file_path,sheet_name,i+1,3,'Failed')\n",
    "    \n",
    "    driver.get('http://testphp.vulnweb.com/login.php')\n",
    "driver.quit()"
   ]
  }
 ],
 "metadata": {
  "kernelspec": {
   "display_name": "Python 3",
   "language": "python",
   "name": "python3"
  },
  "language_info": {
   "codemirror_mode": {
    "name": "ipython",
    "version": 3
   },
   "file_extension": ".py",
   "mimetype": "text/x-python",
   "name": "python",
   "nbconvert_exporter": "python",
   "pygments_lexer": "ipython3",
   "version": "3.8.8"
  }
 },
 "nbformat": 4,
 "nbformat_minor": 5
}

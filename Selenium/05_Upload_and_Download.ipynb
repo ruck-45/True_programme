{
 "cells": [
  {
   "cell_type": "code",
   "execution_count": 1,
   "id": "f277d4b9",
   "metadata": {},
   "outputs": [],
   "source": [
    "from selenium import webdriver"
   ]
  },
  {
   "cell_type": "markdown",
   "id": "0e8f8e3d",
   "metadata": {},
   "source": [
    "# Upload Files\n",
    "- We can upload files through : .send_keys('file_path') method"
   ]
  },
  {
   "cell_type": "code",
   "execution_count": 6,
   "id": "da9ed894",
   "metadata": {},
   "outputs": [
    {
     "name": "stderr",
     "output_type": "stream",
     "text": [
      "<ipython-input-6-6ca0a3e16873>:3: DeprecationWarning: executable_path has been deprecated, please pass in a Service object\n",
      "  driver = webdriver.Chrome(executable_path='./Drivers/chromedriver.exe')\n",
      "<ipython-input-6-6ca0a3e16873>:9: DeprecationWarning: find_element_by_xpath is deprecated. Please use find_element(by=By.XPATH, value=xpath) instead\n",
      "  upload = driver.find_element_by_xpath('//input[@id=\"RESULT_FileUpload-10\"]')\n"
     ]
    }
   ],
   "source": [
    "# driver setup\n",
    "\n",
    "driver = webdriver.Chrome(executable_path='./Drivers/chromedriver.exe')\n",
    "driver.get('https://testautomationpractice.blogspot.com/')\n",
    "\n",
    "driver.switch_to.frame(0)\n",
    "\n",
    "# selecting element where file is to be uploaded\n",
    "upload = driver.find_element_by_xpath('//input[@id=\"RESULT_FileUpload-10\"]')\n",
    "\n",
    "# scrolling to the specified element\n",
    "driver.execute_script('arguments[0].scrollIntoView();',upload)\n",
    "\n",
    "# uploading image file\n",
    "upload.send_keys('D://true prgrmm/Selenium/Images/image_01.jpg')\n",
    "\n",
    "# driver.quit()"
   ]
  },
  {
   "cell_type": "markdown",
   "id": "6e7cbc89",
   "metadata": {},
   "source": [
    "# Download\n",
    "- To download follow normal clicking download button protocol\n",
    "- Here we are looking how to set up download location in Chrome using Options library"
   ]
  },
  {
   "cell_type": "code",
   "execution_count": 7,
   "id": "4c908cf4",
   "metadata": {},
   "outputs": [],
   "source": [
    "from selenium.webdriver.chrome.options import Options"
   ]
  },
  {
   "cell_type": "code",
   "execution_count": 23,
   "id": "b3b0a0b0",
   "metadata": {},
   "outputs": [
    {
     "name": "stderr",
     "output_type": "stream",
     "text": [
      "<ipython-input-23-e35391b7e35a>:10: DeprecationWarning: executable_path has been deprecated, please pass in a Service object\n",
      "  driver = webdriver.Chrome(chrome_options=options,executable_path = './Drivers/chromedriver.exe')\n",
      "<ipython-input-23-e35391b7e35a>:10: DeprecationWarning: use options instead of chrome_options\n",
      "  driver = webdriver.Chrome(chrome_options=options,executable_path = './Drivers/chromedriver.exe')\n",
      "<ipython-input-23-e35391b7e35a>:14: DeprecationWarning: find_element_by_* commands are deprecated. Please use find_element() instead\n",
      "  text_box = driver.find_element_by_id('textbox')\n",
      "<ipython-input-23-e35391b7e35a>:15: DeprecationWarning: find_element_by_* commands are deprecated. Please use find_element() instead\n",
      "  text_box_generate = driver.find_element_by_id('createTxt')\n",
      "<ipython-input-23-e35391b7e35a>:16: DeprecationWarning: find_element_by_* commands are deprecated. Please use find_element() instead\n",
      "  text_box_download = driver.find_element_by_id('link-to-download')\n"
     ]
    }
   ],
   "source": [
    "# setting up default download directory\n",
    "\n",
    "options = Options()\n",
    "prefs = {'download.default_directory' : 'D:\\\\true prgrmm\\\\Selenium\\\\Downloads\\\\',\n",
    "         \"directory_upgrade\": True}\n",
    "options.add_experimental_option('prefs',prefs)\n",
    "\n",
    "# setting up driver and loading URL\n",
    "\n",
    "driver = webdriver.Chrome(chrome_options=options,executable_path = './Drivers/chromedriver.exe')\n",
    "driver.get('http://demo.automationtesting.in/FileDownload.html')\n",
    "\n",
    "# Preparing for Download\n",
    "text_box = driver.find_element_by_id('textbox')\n",
    "text_box_generate = driver.find_element_by_id('createTxt')\n",
    "text_box_download = driver.find_element_by_id('link-to-download')\n",
    "\n",
    "# Downloading \n",
    "text_box.send_keys('Demo Text')\n",
    "text_box_generate.click()\n",
    "text_box_download.click()\n",
    "\n",
    "# driver.quit()"
   ]
  }
 ],
 "metadata": {
  "kernelspec": {
   "display_name": "Python 3",
   "language": "python",
   "name": "python3"
  },
  "language_info": {
   "codemirror_mode": {
    "name": "ipython",
    "version": 3
   },
   "file_extension": ".py",
   "mimetype": "text/x-python",
   "name": "python",
   "nbconvert_exporter": "python",
   "pygments_lexer": "ipython3",
   "version": "3.8.8"
  }
 },
 "nbformat": 4,
 "nbformat_minor": 5
}

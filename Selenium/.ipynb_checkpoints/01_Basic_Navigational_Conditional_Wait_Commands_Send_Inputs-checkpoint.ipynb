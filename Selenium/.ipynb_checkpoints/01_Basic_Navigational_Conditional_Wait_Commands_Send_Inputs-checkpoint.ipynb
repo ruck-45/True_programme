{
 "cells": [
  {
   "cell_type": "code",
   "execution_count": 1,
   "id": "c3bfd6a0",
   "metadata": {},
   "outputs": [],
   "source": [
    "from selenium import webdriver\n",
    "from selenium.webdriver.common.keys import Keys"
   ]
  },
  {
   "cell_type": "markdown",
   "id": "5ce47571",
   "metadata": {},
   "source": [
    "# Creating a webdriver object"
   ]
  },
  {
   "cell_type": "code",
   "execution_count": 2,
   "id": "c6dedbe0",
   "metadata": {},
   "outputs": [
    {
     "name": "stderr",
     "output_type": "stream",
     "text": [
      "<ipython-input-2-63181ce52c88>:1: DeprecationWarning: executable_path has been deprecated, please pass in a Service object\n",
      "  driver = webdriver.Chrome(executable_path='./Drivers/chromedriver.exe')\n"
     ]
    }
   ],
   "source": [
    "driver = webdriver.Chrome(executable_path='./Drivers/chromedriver.exe')"
   ]
  },
  {
   "cell_type": "markdown",
   "id": "0b4a8f66",
   "metadata": {},
   "source": [
    "# Opening a webpage"
   ]
  },
  {
   "cell_type": "code",
   "execution_count": 3,
   "id": "46ca1ddb",
   "metadata": {},
   "outputs": [],
   "source": [
    "driver.get('https://www.hackerrank.com/dashboard')"
   ]
  },
  {
   "cell_type": "markdown",
   "id": "31948f99",
   "metadata": {},
   "source": [
    "# Basic Selenium Commands"
   ]
  },
  {
   "cell_type": "code",
   "execution_count": 4,
   "id": "65b58146",
   "metadata": {},
   "outputs": [],
   "source": [
    "# To maximize the window\n",
    "\n",
    "driver.maximize_window()"
   ]
  },
  {
   "cell_type": "code",
   "execution_count": 5,
   "id": "2678509b",
   "metadata": {},
   "outputs": [
    {
     "data": {
      "text/plain": [
       "'Dashboard | HackerRank'"
      ]
     },
     "execution_count": 5,
     "metadata": {},
     "output_type": "execute_result"
    }
   ],
   "source": [
    "# Return title of the webpage\n",
    "\n",
    "driver.title"
   ]
  },
  {
   "cell_type": "code",
   "execution_count": 6,
   "id": "4952138d",
   "metadata": {
    "scrolled": true
   },
   "outputs": [],
   "source": [
    "# Return HTML code of the webpage\n",
    "\n",
    "# driver.page_source"
   ]
  },
  {
   "cell_type": "code",
   "execution_count": 7,
   "id": "e6e8390c",
   "metadata": {},
   "outputs": [
    {
     "data": {
      "text/plain": [
       "'https://www.hackerrank.com/dashboard'"
      ]
     },
     "execution_count": 7,
     "metadata": {},
     "output_type": "execute_result"
    }
   ],
   "source": [
    "# Return URL of the current webpage\n",
    "\n",
    "driver.current_url"
   ]
  },
  {
   "cell_type": "code",
   "execution_count": 8,
   "id": "518da4af",
   "metadata": {},
   "outputs": [
    {
     "name": "stderr",
     "output_type": "stream",
     "text": [
      "<ipython-input-8-b56f3087120c>:4: DeprecationWarning: find_element_by_xpath is deprecated. Please use find_element(by=By.XPATH, value=xpath) instead\n",
      "  driver.find_element_by_xpath('/html/body/div[4]/div/div/div/div[2]/div[3]/div/section[3]/div[2]/div[1]/div/div[2]/div/a[1]/div/span').click()\n"
     ]
    }
   ],
   "source": [
    "# Clicking on a html element (identified by its x_path)\n",
    "# method : .click()\n",
    "\n",
    "driver.find_element_by_xpath('/html/body/div[4]/div/div/div/div[2]/div[3]/div/section[3]/div[2]/div[1]/div/div[2]/div/a[1]/div/span').click()"
   ]
  },
  {
   "cell_type": "code",
   "execution_count": 9,
   "id": "dfd82fdc",
   "metadata": {},
   "outputs": [
    {
     "name": "stderr",
     "output_type": "stream",
     "text": [
      "<ipython-input-9-d983370cbba2>:3: DeprecationWarning: find_element_by_xpath is deprecated. Please use find_element(by=By.XPATH, value=xpath) instead\n",
      "  driver.find_element_by_xpath('/html/body/div[4]/div/div/div/div[2]/div[3]/div/section[3]/div[2]/div[1]/div/div[2]/div/a[2]/div/span').click()\n"
     ]
    }
   ],
   "source": [
    "# Clicking on a html element (identified by its x_path)\n",
    "\n",
    "driver.find_element_by_xpath('/html/body/div[4]/div/div/div/div[2]/div[3]/div/section[3]/div[2]/div[1]/div/div[2]/div/a[2]/div/span').click()"
   ]
  },
  {
   "cell_type": "code",
   "execution_count": 10,
   "id": "e382f85c",
   "metadata": {},
   "outputs": [],
   "source": [
    "# closing the parent tab/webpage (if there are multiple windows open ,it will close the parent tab)\n",
    "\n",
    "driver.close()"
   ]
  },
  {
   "cell_type": "code",
   "execution_count": 11,
   "id": "13ca093f",
   "metadata": {},
   "outputs": [],
   "source": [
    "# Completely closing the browser\n",
    "\n",
    "driver.quit()"
   ]
  },
  {
   "cell_type": "markdown",
   "id": "d7596941",
   "metadata": {},
   "source": [
    "# Navigation Commands"
   ]
  },
  {
   "cell_type": "code",
   "execution_count": 12,
   "id": "06467833",
   "metadata": {},
   "outputs": [
    {
     "name": "stderr",
     "output_type": "stream",
     "text": [
      "<ipython-input-12-ea3e90aa6c9c>:3: DeprecationWarning: executable_path has been deprecated, please pass in a Service object\n",
      "  driver = webdriver.Chrome(executable_path='./Drivers/chromedriver.exe')\n"
     ]
    }
   ],
   "source": [
    "# Opening two webpages one after other (the second webpage will open on the same tab)\n",
    "\n",
    "driver = webdriver.Chrome(executable_path='./Drivers/chromedriver.exe')\n",
    "\n",
    "driver.get('https://en.wikipedia.org/wiki/Main_Page')\n",
    "driver.get('https://www.youtube.com/')"
   ]
  },
  {
   "cell_type": "code",
   "execution_count": 13,
   "id": "81d3bf48",
   "metadata": {},
   "outputs": [],
   "source": [
    "# Going back to previous web page\n",
    "\n",
    "driver.back()"
   ]
  },
  {
   "cell_type": "code",
   "execution_count": 14,
   "id": "73cb4b90",
   "metadata": {},
   "outputs": [],
   "source": [
    "# going forward to page ahead\n",
    "\n",
    "driver.forward()"
   ]
  },
  {
   "cell_type": "code",
   "execution_count": 15,
   "id": "baac1a5d",
   "metadata": {},
   "outputs": [],
   "source": [
    "driver.quit()"
   ]
  },
  {
   "cell_type": "markdown",
   "id": "c8b2d414",
   "metadata": {},
   "source": [
    "# Conditional Commands"
   ]
  },
  {
   "cell_type": "code",
   "execution_count": 16,
   "id": "f55c27cc",
   "metadata": {},
   "outputs": [
    {
     "name": "stderr",
     "output_type": "stream",
     "text": [
      "<ipython-input-16-82521ec710b8>:1: DeprecationWarning: executable_path has been deprecated, please pass in a Service object\n",
      "  driver = webdriver.Chrome(executable_path='./Drivers/chromedriver.exe')\n"
     ]
    }
   ],
   "source": [
    "driver = webdriver.Chrome(executable_path='./Drivers/chromedriver.exe')\n",
    "\n",
    "driver.get('https://www.keynotesupport.com/internet/web-contact-form-example-radio-buttons.shtml')"
   ]
  },
  {
   "cell_type": "code",
   "execution_count": 17,
   "id": "856b9bba",
   "metadata": {},
   "outputs": [
    {
     "name": "stderr",
     "output_type": "stream",
     "text": [
      "<ipython-input-17-fb3ed914306b>:5: DeprecationWarning: find_element_by_name is deprecated. Please use find_element(by=By.NAME, value=name) instead\n",
      "  name = driver.find_element_by_name('name')\n",
      "<ipython-input-17-fb3ed914306b>:6: DeprecationWarning: find_element_by_name is deprecated. Please use find_element(by=By.NAME, value=name) instead\n",
      "  phone = driver.find_element_by_name('phone')\n"
     ]
    }
   ],
   "source": [
    "# find_element_by_name() :  uses name to identify html elements\n",
    "\n",
    "# accessing name and phone input boxes as objects\n",
    "\n",
    "name = driver.find_element_by_name('name')\n",
    "phone = driver.find_element_by_name('phone')"
   ]
  },
  {
   "cell_type": "code",
   "execution_count": 18,
   "id": "08638099",
   "metadata": {},
   "outputs": [
    {
     "name": "stdout",
     "output_type": "stream",
     "text": [
      "True\n",
      "True\n"
     ]
    }
   ],
   "source": [
    "# is_displayed() : checks if the element is visible or not \n",
    "#                  returns boolean value\n",
    "#                 (works for every html element)\n",
    "\n",
    "print(name.is_displayed())\n",
    "print(phone.is_displayed())"
   ]
  },
  {
   "cell_type": "code",
   "execution_count": 19,
   "id": "5a361211",
   "metadata": {},
   "outputs": [
    {
     "name": "stdout",
     "output_type": "stream",
     "text": [
      "True\n",
      "True\n"
     ]
    }
   ],
   "source": [
    "# is_enabled() : checks if the element is enabled or not \n",
    "#                  returns boolean value\n",
    "#                 (works for every html element)\n",
    "\n",
    "print(name.is_enabled())\n",
    "print(phone.is_enabled())"
   ]
  },
  {
   "cell_type": "code",
   "execution_count": 20,
   "id": "880beb75",
   "metadata": {},
   "outputs": [
    {
     "name": "stderr",
     "output_type": "stream",
     "text": [
      "<ipython-input-20-a2aa613526f9>:7: DeprecationWarning: find_element_by_css_selector is deprecated. Please use find_element(by=By.CSS_SELECTOR, value=css_selector) instead\n",
      "  Microsoft_Excel = driver.find_element_by_css_selector('input[value=Excel]')\n",
      "<ipython-input-20-a2aa613526f9>:8: DeprecationWarning: find_element_by_css_selector is deprecated. Please use find_element(by=By.CSS_SELECTOR, value=css_selector) instead\n",
      "  QuickBooks_Pro = driver.find_element_by_css_selector('input[value=QBP]')\n",
      "<ipython-input-20-a2aa613526f9>:9: DeprecationWarning: find_element_by_css_selector is deprecated. Please use find_element(by=By.CSS_SELECTOR, value=css_selector) instead\n",
      "  Peachtree_Accounting = driver.find_element_by_css_selector('input[value=Peachtree]')\n"
     ]
    }
   ],
   "source": [
    "# find_element_by_css_selector(' tag[attribute that is unique] ') : uses css to identify html elements\n",
    "\n",
    "# accessing individual radio buttons\n",
    "\n",
    "# Here all the radio buttons had same name and type, so the only unique attribute was 'value' whch we used to access it using css_selector\n",
    "\n",
    "Microsoft_Excel = driver.find_element_by_css_selector('input[value=Excel]')\n",
    "QuickBooks_Pro = driver.find_element_by_css_selector('input[value=QBP]')\n",
    "Peachtree_Accounting = driver.find_element_by_css_selector('input[value=Peachtree]')"
   ]
  },
  {
   "cell_type": "code",
   "execution_count": 21,
   "id": "ec4f838a",
   "metadata": {},
   "outputs": [
    {
     "name": "stdout",
     "output_type": "stream",
     "text": [
      "False\n",
      "False\n",
      "False\n"
     ]
    }
   ],
   "source": [
    "# is_selected() : checks if the button is selected or not \n",
    "#                  returns boolean value\n",
    "#                 (works for only buttons like radiobuttons & checkboxes)\n",
    "\n",
    "\n",
    "print(Microsoft_Excel.is_selected())\n",
    "print(QuickBooks_Pro.is_selected())\n",
    "print(Peachtree_Accounting.is_selected())"
   ]
  },
  {
   "cell_type": "code",
   "execution_count": 22,
   "id": "1d441dff",
   "metadata": {},
   "outputs": [],
   "source": [
    "driver.quit()"
   ]
  },
  {
   "cell_type": "markdown",
   "id": "d1fd977d",
   "metadata": {},
   "source": [
    "# Send Inputs"
   ]
  },
  {
   "cell_type": "code",
   "execution_count": 23,
   "id": "755acc23",
   "metadata": {},
   "outputs": [
    {
     "name": "stderr",
     "output_type": "stream",
     "text": [
      "<ipython-input-23-78a0751f62c7>:2: DeprecationWarning: executable_path has been deprecated, please pass in a Service object\n",
      "  driver = webdriver.Chrome(executable_path='./Drivers/chromedriver.exe')\n",
      "<ipython-input-23-78a0751f62c7>:12: DeprecationWarning: find_element_by_name is deprecated. Please use find_element(by=By.NAME, value=name) instead\n",
      "  name = driver.find_element_by_name('name')\n",
      "<ipython-input-23-78a0751f62c7>:13: DeprecationWarning: find_element_by_name is deprecated. Please use find_element(by=By.NAME, value=name) instead\n",
      "  phone = driver.find_element_by_name('phone')\n",
      "<ipython-input-23-78a0751f62c7>:14: DeprecationWarning: find_element_by_name is deprecated. Please use find_element(by=By.NAME, value=name) instead\n",
      "  email = driver.find_element_by_name('email')\n",
      "<ipython-input-23-78a0751f62c7>:16: DeprecationWarning: find_element_by_css_selector is deprecated. Please use find_element(by=By.CSS_SELECTOR, value=css_selector) instead\n",
      "  Microsoft_Excel = driver.find_element_by_css_selector('input[value=\"Excel\"]')\n",
      "<ipython-input-23-78a0751f62c7>:17: DeprecationWarning: find_element_by_css_selector is deprecated. Please use find_element(by=By.CSS_SELECTOR, value=css_selector) instead\n",
      "  QuickBooks_Pro = driver.find_element_by_css_selector('input[value=\"QBP\"]')\n",
      "<ipython-input-23-78a0751f62c7>:18: DeprecationWarning: find_element_by_css_selector is deprecated. Please use find_element(by=By.CSS_SELECTOR, value=css_selector) instead\n",
      "  Peachtree_Accounting = driver.find_element_by_css_selector('input[value=\"Peachtree\"]')\n",
      "<ipython-input-23-78a0751f62c7>:19: DeprecationWarning: find_element_by_css_selector is deprecated. Please use find_element(by=By.CSS_SELECTOR, value=css_selector) instead\n",
      "  Adobe_Photoshop = driver.find_element_by_css_selector('input[value=\"Photoshop\"]')\n",
      "<ipython-input-23-78a0751f62c7>:21: DeprecationWarning: find_element_by_css_selector is deprecated. Please use find_element(by=By.CSS_SELECTOR, value=css_selector) instead\n",
      "  Beginner = driver.find_element_by_css_selector('input[value=Beginner]')\n",
      "<ipython-input-23-78a0751f62c7>:22: DeprecationWarning: find_element_by_css_selector is deprecated. Please use find_element(by=By.CSS_SELECTOR, value=css_selector) instead\n",
      "  Intermediate = driver.find_element_by_css_selector('input[value=Intermediate]')\n",
      "<ipython-input-23-78a0751f62c7>:23: DeprecationWarning: find_element_by_css_selector is deprecated. Please use find_element(by=By.CSS_SELECTOR, value=css_selector) instead\n",
      "  Advanced = driver.find_element_by_css_selector('input[value=Advanced]')\n",
      "<ipython-input-23-78a0751f62c7>:25: DeprecationWarning: find_element_by_name is deprecated. Please use find_element(by=By.NAME, value=name) instead\n",
      "  comments = driver.find_element_by_name('comments')\n",
      "<ipython-input-23-78a0751f62c7>:27: DeprecationWarning: find_element_by_xpath is deprecated. Please use find_element(by=By.XPATH, value=xpath) instead\n",
      "  reset = driver.find_element_by_xpath('/html/body/article/section/div[3]/form/div/span[12]/input[1]')\n",
      "<ipython-input-23-78a0751f62c7>:28: DeprecationWarning: find_element_by_xpath is deprecated. Please use find_element(by=By.XPATH, value=xpath) instead\n",
      "  submit = driver.find_element_by_xpath('/html/body/article/section/div[3]/form/div/span[12]/input[2]')\n"
     ]
    }
   ],
   "source": [
    "# loading driver\n",
    "driver = webdriver.Chrome(executable_path='./Drivers/chromedriver.exe')\n",
    "\n",
    "# We have maximized the window because certain elements are being unclickable in windowed mode because of overlap of elements.\n",
    "driver.maximize_window()\n",
    "\n",
    "# loading the webpage\n",
    "driver.get('https://www.keynotesupport.com/internet/web-contact-form-example-radio-buttons.shtml')\n",
    "\n",
    "# creating objects for each input elements\n",
    "\n",
    "name = driver.find_element_by_name('name')\n",
    "phone = driver.find_element_by_name('phone')\n",
    "email = driver.find_element_by_name('email')\n",
    "\n",
    "Microsoft_Excel = driver.find_element_by_css_selector('input[value=\"Excel\"]')\n",
    "QuickBooks_Pro = driver.find_element_by_css_selector('input[value=\"QBP\"]')\n",
    "Peachtree_Accounting = driver.find_element_by_css_selector('input[value=\"Peachtree\"]')\n",
    "Adobe_Photoshop = driver.find_element_by_css_selector('input[value=\"Photoshop\"]')\n",
    "\n",
    "Beginner = driver.find_element_by_css_selector('input[value=Beginner]')\n",
    "Intermediate = driver.find_element_by_css_selector('input[value=Intermediate]')\n",
    "Advanced = driver.find_element_by_css_selector('input[value=Advanced]')\n",
    "\n",
    "comments = driver.find_element_by_name('comments')\n",
    "\n",
    "reset = driver.find_element_by_xpath('/html/body/article/section/div[3]/form/div/span[12]/input[1]')\n",
    "submit = driver.find_element_by_xpath('/html/body/article/section/div[3]/form/div/span[12]/input[2]')"
   ]
  },
  {
   "cell_type": "code",
   "execution_count": 24,
   "id": "3ec18d34",
   "metadata": {},
   "outputs": [],
   "source": [
    "# send_keys() : Simulates typing into the element\n",
    "\n",
    "name.send_keys('Joseph')\n",
    "phone.send_keys(9876543210)\n",
    "email.send_keys('qwer@gmail.com')\n",
    "\n",
    "Adobe_Photoshop.click()\n",
    "Intermediate.click()\n",
    "\n",
    "comments.send_keys('I am available anytime.')\n",
    "\n",
    "submit.click()"
   ]
  },
  {
   "cell_type": "code",
   "execution_count": 25,
   "id": "fcaf594c",
   "metadata": {},
   "outputs": [],
   "source": [
    "driver.quit()"
   ]
  },
  {
   "cell_type": "markdown",
   "id": "d7bec5f6",
   "metadata": {},
   "source": [
    "# Wait Commands\n",
    "\n",
    "Why do we use wait commands? : To solve syncronization problems\n",
    "\n",
    "- Sometimes a webpage / element might not load in time, this will throw an error.\n",
    "- To avoid such error we sue wait commands\n",
    "- There are two types of wait comands:\n",
    "    - Implicit wait\n",
    "    - Explicit wait"
   ]
  },
  {
   "cell_type": "markdown",
   "id": "fd339de0",
   "metadata": {},
   "source": [
    "### Implicit wait\n",
    " - we directly provide the time (in seconds) to wait for\n",
    " - we just have to mention it once and it applies to all the elements\n",
    " - drawbacks : \n",
    "     - if the time taken is greater than the time specified then it will throw error\n",
    "     - if the time taken is less than the time specified, it will be wastage of time"
   ]
  },
  {
   "cell_type": "code",
   "execution_count": 26,
   "id": "dc82c406",
   "metadata": {},
   "outputs": [
    {
     "name": "stderr",
     "output_type": "stream",
     "text": [
      "<ipython-input-26-a022b5a29617>:2: DeprecationWarning: executable_path has been deprecated, please pass in a Service object\n",
      "  driver = webdriver.Chrome(executable_path='./Drivers/chromedriver.exe')\n",
      "<ipython-input-26-a022b5a29617>:9: DeprecationWarning: find_element_by_xpath is deprecated. Please use find_element(by=By.XPATH, value=xpath) instead\n",
      "  driver.find_element_by_xpath('/html/body/div[4]/div/div/div/div[2]/div[3]/div/section[3]/div[2]/div[1]/div/div[2]/div/a[1]/div/span').click()\n"
     ]
    }
   ],
   "source": [
    "# defining driver object and opening the parent webpage\n",
    "driver = webdriver.Chrome(executable_path='./Drivers/chromedriver.exe')\n",
    "driver.get('https://www.hackerrank.com/dashboard')\n",
    "\n",
    "# Implicitly waiting for 10 seconds before clicking on below button\n",
    "driver.implicitly_wait(10)\n",
    "\n",
    "# clicking a button & quiting\n",
    "driver.find_element_by_xpath('/html/body/div[4]/div/div/div/div[2]/div[3]/div/section[3]/div[2]/div[1]/div/div[2]/div/a[1]/div/span').click()\n",
    "driver.quit()"
   ]
  },
  {
   "cell_type": "markdown",
   "id": "ae247488",
   "metadata": {},
   "source": [
    "### Explicit wait\n",
    " - Instead of providing a time, we provide a condition\n",
    " - It applies to only specified element"
   ]
  },
  {
   "cell_type": "code",
   "execution_count": 27,
   "id": "e078c1fd",
   "metadata": {},
   "outputs": [],
   "source": [
    "# Importing By library to select elements through a different syntax\n",
    "\n",
    "from selenium.webdriver.common.by import By"
   ]
  },
  {
   "cell_type": "code",
   "execution_count": 28,
   "id": "821379d0",
   "metadata": {},
   "outputs": [
    {
     "name": "stderr",
     "output_type": "stream",
     "text": [
      "<ipython-input-28-a96a135f47c4>:3: DeprecationWarning: executable_path has been deprecated, please pass in a Service object\n",
      "  driver = webdriver.Chrome(executable_path='./Drivers/chromedriver.exe')\n"
     ]
    }
   ],
   "source": [
    "# defining driver object and opening the parent webpage\n",
    "\n",
    "driver = webdriver.Chrome(executable_path='./Drivers/chromedriver.exe')\n",
    "driver.get('https://in.bookmyshow.com/')\n",
    "\n",
    "# Entering city name and clicking Enter\n",
    "\n",
    "city = driver.find_element(By.XPATH,'/html/body/div[3]/div/div/div/div[1]/div/div/input')\n",
    "city.send_keys('Bhubaneswar')\n",
    "city.send_keys(Keys.ENTER)\n",
    "\n",
    "# Importing WebDriverWait to make a Explicit wait object\n",
    "# Importing expected_conditions to apply condition to wait\n",
    "\n",
    "from selenium.webdriver.support.ui import WebDriverWait\n",
    "from selenium.webdriver.support import expected_conditions as EC\n",
    "\n",
    "\n",
    "# Explicit wait till the object becomes clickable\n",
    "\n",
    "# declaring a wait object , arguments (driver,timeout time)\n",
    "# timeout time is given such that it doesnt wait for infinity\n",
    "\n",
    "wait = WebDriverWait(driver,10)\n",
    "\n",
    "movies = wait.until(EC.element_to_be_clickable((By.XPATH,'/html/body/div[1]/div[1]/div[2]/header/div[2]/div/div/div/div[1]/div/a[1]')))\n",
    "\n",
    "movies.click()"
   ]
  },
  {
   "cell_type": "code",
   "execution_count": 29,
   "id": "93157513",
   "metadata": {},
   "outputs": [],
   "source": [
    "driver.quit()"
   ]
  },
  {
   "cell_type": "markdown",
   "id": "96e85efa",
   "metadata": {},
   "source": [
    "- There are many expected cnditions in selenium we can take advantage of.\n",
    "- some of them are : \n",
    "    - title_is\n",
    "    - title_contains\n",
    "    - presence_of_element_located\n",
    "    - visibility_of_element_located\n",
    "    - visibility_of\n",
    "    - presence_of_all_elements_located\n",
    "    - text_to_be_present_in_element\n",
    "    - text_to_be_present_in_element_value\n",
    "    - frame_to_be_available_and_switch_to_it\n",
    "    - invisibility_of_element_located\n",
    "    - element_to_be_clickable\n",
    "    - staleness_of\n",
    "    - element_to_be_selected\n",
    "    - element_located_to_be_selected\n",
    "    - element_selection_state_to_be\n",
    "    - element_located_selection_state_to_be\n",
    "    - alert_is_present"
   ]
  }
 ],
 "metadata": {
  "kernelspec": {
   "display_name": "Python 3",
   "language": "python",
   "name": "python3"
  },
  "language_info": {
   "codemirror_mode": {
    "name": "ipython",
    "version": 3
   },
   "file_extension": ".py",
   "mimetype": "text/x-python",
   "name": "python",
   "nbconvert_exporter": "python",
   "pygments_lexer": "ipython3",
   "version": "3.8.8"
  }
 },
 "nbformat": 4,
 "nbformat_minor": 5
}

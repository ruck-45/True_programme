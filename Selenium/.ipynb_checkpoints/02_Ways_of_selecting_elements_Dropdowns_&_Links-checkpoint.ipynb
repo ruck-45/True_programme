{
 "cells": [
  {
   "cell_type": "code",
   "execution_count": 1,
   "id": "24a8c15f",
   "metadata": {},
   "outputs": [],
   "source": [
    "from selenium import webdriver\n",
    "from selenium.webdriver.common.by import By\n",
    "from selenium.webdriver.common.keys import Keys"
   ]
  },
  {
   "cell_type": "markdown",
   "id": "6e9d9307",
   "metadata": {},
   "source": [
    "# Ways of selecting elements"
   ]
  },
  {
   "cell_type": "markdown",
   "id": "3332b433",
   "metadata": {},
   "source": [
    "## To capturing single elements\n",
    "\n",
    "#### Direct Methods:\n",
    "\n",
    "   - driver.find_element_by_class_name\n",
    "   - driver.find_element_by_css_selector\n",
    "   - driver.find_element_by_id\n",
    "   - driver.find_element_by_link_text\n",
    "   - driver.find_element_by_name\n",
    "   - driver.find_element_by_partial_link_text\n",
    "   - driver.find_element_by_tag_name\n",
    "   - driver.find_element_by_xpath\n",
    "   \n",
    "#### Using By library\n",
    "\n",
    "   - driver.find_element( By.---the selector---, 'path' )\n",
    "\n",
    "## To capturing multiple elements\n",
    "\n",
    "#### Direct Methods:\n",
    "\n",
    "   - driver.find_elements_by_class_name\n",
    "   - driver.find_elements_by_css_selector\n",
    "   - driver.find_elements_by_id\n",
    "   - driver.find_elements_by_link_text\n",
    "   - driver.find_elements_by_name\n",
    "   - driver.find_elements_by_partial_link_text\n",
    "   - driver.find_elements_by_tag_name\n",
    "   - driver.find_elements_by_xpath\n",
    "   \n",
    "#### Using By library\n",
    "\n",
    "   - driver.find_elements( By.---the selector---, 'path' )"
   ]
  },
  {
   "cell_type": "markdown",
   "id": "c344df34",
   "metadata": {},
   "source": [
    "# Example : \n",
    "- capturing multiple elements simultaneously"
   ]
  },
  {
   "cell_type": "code",
   "execution_count": 3,
   "id": "f5e54249",
   "metadata": {},
   "outputs": [
    {
     "name": "stderr",
     "output_type": "stream",
     "text": [
      "<ipython-input-3-29adb7e7ae2f>:1: DeprecationWarning: executable_path has been deprecated, please pass in a Service object\n",
      "  driver = webdriver.Chrome(executable_path='./Drivers/chromedriver.exe')\n"
     ]
    },
    {
     "ename": "NoSuchWindowException",
     "evalue": "Message: no such window: target window already closed\nfrom unknown error: web view not found\n  (Session info: chrome=102.0.5005.63)\nStacktrace:\nBacktrace:\n\tOrdinal0 [0x008AD953+2414931]\n\tOrdinal0 [0x0083F5E1+1963489]\n\tOrdinal0 [0x0072C6B8+837304]\n\tOrdinal0 [0x00714120+737568]\n\tOrdinal0 [0x00776E29+1142313]\n\tOrdinal0 [0x00783FB2+1195954]\n\tOrdinal0 [0x007742B6+1131190]\n\tOrdinal0 [0x0074E860+976992]\n\tOrdinal0 [0x0074F756+980822]\n\tGetHandleVerifier [0x00B1CC62+2510274]\n\tGetHandleVerifier [0x00B0F760+2455744]\n\tGetHandleVerifier [0x0093EABA+551962]\n\tGetHandleVerifier [0x0093D916+547446]\n\tOrdinal0 [0x00845F3B+1990459]\n\tOrdinal0 [0x0084A898+2009240]\n\tOrdinal0 [0x0084A985+2009477]\n\tOrdinal0 [0x00853AD1+2046673]\n\tBaseThreadInitThunk [0x7636FA29+25]\n\tRtlGetAppContainerNamedObjectPath [0x775B7A7E+286]\n\tRtlGetAppContainerNamedObjectPath [0x775B7A4E+238]\n",
     "output_type": "error",
     "traceback": [
      "\u001b[1;31m---------------------------------------------------------------------------\u001b[0m",
      "\u001b[1;31mNoSuchWindowException\u001b[0m                     Traceback (most recent call last)",
      "\u001b[1;32m<ipython-input-3-29adb7e7ae2f>\u001b[0m in \u001b[0;36m<module>\u001b[1;34m\u001b[0m\n\u001b[0;32m      2\u001b[0m \u001b[0mdriver\u001b[0m\u001b[1;33m.\u001b[0m\u001b[0mget\u001b[0m\u001b[1;33m(\u001b[0m\u001b[1;34m'https://www.techlistic.com/p/selenium-practice-form.html'\u001b[0m\u001b[1;33m)\u001b[0m\u001b[1;33m\u001b[0m\u001b[1;33m\u001b[0m\u001b[0m\n\u001b[0;32m      3\u001b[0m \u001b[1;33m\u001b[0m\u001b[0m\n\u001b[1;32m----> 4\u001b[1;33m \u001b[0mtext_boxes\u001b[0m \u001b[1;33m=\u001b[0m \u001b[0mdriver\u001b[0m\u001b[1;33m.\u001b[0m\u001b[0mfind_elements\u001b[0m\u001b[1;33m(\u001b[0m\u001b[0mBy\u001b[0m\u001b[1;33m.\u001b[0m\u001b[0mCSS_SELECTOR\u001b[0m\u001b[1;33m,\u001b[0m\u001b[1;34m'input[type = \"text\"]'\u001b[0m\u001b[1;33m)\u001b[0m\u001b[1;33m\u001b[0m\u001b[1;33m\u001b[0m\u001b[0m\n\u001b[0m\u001b[0;32m      5\u001b[0m \u001b[0mradio_buttons\u001b[0m \u001b[1;33m=\u001b[0m \u001b[0mdriver\u001b[0m\u001b[1;33m.\u001b[0m\u001b[0mfind_elements\u001b[0m\u001b[1;33m(\u001b[0m\u001b[0mBy\u001b[0m\u001b[1;33m.\u001b[0m\u001b[0mCSS_SELECTOR\u001b[0m\u001b[1;33m,\u001b[0m\u001b[1;34m'input[type = \"radio\"]'\u001b[0m\u001b[1;33m)\u001b[0m\u001b[1;33m\u001b[0m\u001b[1;33m\u001b[0m\u001b[0m\n\u001b[0;32m      6\u001b[0m \u001b[0mcheck_boxes\u001b[0m \u001b[1;33m=\u001b[0m \u001b[0mdriver\u001b[0m\u001b[1;33m.\u001b[0m\u001b[0mfind_elements\u001b[0m\u001b[1;33m(\u001b[0m\u001b[0mBy\u001b[0m\u001b[1;33m.\u001b[0m\u001b[0mCSS_SELECTOR\u001b[0m\u001b[1;33m,\u001b[0m\u001b[1;34m'input[type = \"checkbox\"]'\u001b[0m\u001b[1;33m)\u001b[0m\u001b[1;33m\u001b[0m\u001b[1;33m\u001b[0m\u001b[0m\n",
      "\u001b[1;32mC:\\ProgramData\\Anaconda3\\lib\\site-packages\\selenium\\webdriver\\remote\\webdriver.py\u001b[0m in \u001b[0;36mfind_elements\u001b[1;34m(self, by, value)\u001b[0m\n\u001b[0;32m   1281\u001b[0m         \u001b[1;31m# Return empty list if driver returns null\u001b[0m\u001b[1;33m\u001b[0m\u001b[1;33m\u001b[0m\u001b[1;33m\u001b[0m\u001b[0m\n\u001b[0;32m   1282\u001b[0m         \u001b[1;31m# See https://github.com/SeleniumHQ/selenium/issues/4555\u001b[0m\u001b[1;33m\u001b[0m\u001b[1;33m\u001b[0m\u001b[1;33m\u001b[0m\u001b[0m\n\u001b[1;32m-> 1283\u001b[1;33m         return self.execute(Command.FIND_ELEMENTS, {\n\u001b[0m\u001b[0;32m   1284\u001b[0m             \u001b[1;34m'using'\u001b[0m\u001b[1;33m:\u001b[0m \u001b[0mby\u001b[0m\u001b[1;33m,\u001b[0m\u001b[1;33m\u001b[0m\u001b[1;33m\u001b[0m\u001b[0m\n\u001b[0;32m   1285\u001b[0m             'value': value})['value'] or []\n",
      "\u001b[1;32mC:\\ProgramData\\Anaconda3\\lib\\site-packages\\selenium\\webdriver\\remote\\webdriver.py\u001b[0m in \u001b[0;36mexecute\u001b[1;34m(self, driver_command, params)\u001b[0m\n\u001b[0;32m    423\u001b[0m         \u001b[0mresponse\u001b[0m \u001b[1;33m=\u001b[0m \u001b[0mself\u001b[0m\u001b[1;33m.\u001b[0m\u001b[0mcommand_executor\u001b[0m\u001b[1;33m.\u001b[0m\u001b[0mexecute\u001b[0m\u001b[1;33m(\u001b[0m\u001b[0mdriver_command\u001b[0m\u001b[1;33m,\u001b[0m \u001b[0mparams\u001b[0m\u001b[1;33m)\u001b[0m\u001b[1;33m\u001b[0m\u001b[1;33m\u001b[0m\u001b[0m\n\u001b[0;32m    424\u001b[0m         \u001b[1;32mif\u001b[0m \u001b[0mresponse\u001b[0m\u001b[1;33m:\u001b[0m\u001b[1;33m\u001b[0m\u001b[1;33m\u001b[0m\u001b[0m\n\u001b[1;32m--> 425\u001b[1;33m             \u001b[0mself\u001b[0m\u001b[1;33m.\u001b[0m\u001b[0merror_handler\u001b[0m\u001b[1;33m.\u001b[0m\u001b[0mcheck_response\u001b[0m\u001b[1;33m(\u001b[0m\u001b[0mresponse\u001b[0m\u001b[1;33m)\u001b[0m\u001b[1;33m\u001b[0m\u001b[1;33m\u001b[0m\u001b[0m\n\u001b[0m\u001b[0;32m    426\u001b[0m             response['value'] = self._unwrap_value(\n\u001b[0;32m    427\u001b[0m                 response.get('value', None))\n",
      "\u001b[1;32mC:\\ProgramData\\Anaconda3\\lib\\site-packages\\selenium\\webdriver\\remote\\errorhandler.py\u001b[0m in \u001b[0;36mcheck_response\u001b[1;34m(self, response)\u001b[0m\n\u001b[0;32m    245\u001b[0m                 \u001b[0malert_text\u001b[0m \u001b[1;33m=\u001b[0m \u001b[0mvalue\u001b[0m\u001b[1;33m[\u001b[0m\u001b[1;34m'alert'\u001b[0m\u001b[1;33m]\u001b[0m\u001b[1;33m.\u001b[0m\u001b[0mget\u001b[0m\u001b[1;33m(\u001b[0m\u001b[1;34m'text'\u001b[0m\u001b[1;33m)\u001b[0m\u001b[1;33m\u001b[0m\u001b[1;33m\u001b[0m\u001b[0m\n\u001b[0;32m    246\u001b[0m             \u001b[1;32mraise\u001b[0m \u001b[0mexception_class\u001b[0m\u001b[1;33m(\u001b[0m\u001b[0mmessage\u001b[0m\u001b[1;33m,\u001b[0m \u001b[0mscreen\u001b[0m\u001b[1;33m,\u001b[0m \u001b[0mstacktrace\u001b[0m\u001b[1;33m,\u001b[0m \u001b[0malert_text\u001b[0m\u001b[1;33m)\u001b[0m  \u001b[1;31m# type: ignore[call-arg]  # mypy is not smart enough here\u001b[0m\u001b[1;33m\u001b[0m\u001b[1;33m\u001b[0m\u001b[0m\n\u001b[1;32m--> 247\u001b[1;33m         \u001b[1;32mraise\u001b[0m \u001b[0mexception_class\u001b[0m\u001b[1;33m(\u001b[0m\u001b[0mmessage\u001b[0m\u001b[1;33m,\u001b[0m \u001b[0mscreen\u001b[0m\u001b[1;33m,\u001b[0m \u001b[0mstacktrace\u001b[0m\u001b[1;33m)\u001b[0m\u001b[1;33m\u001b[0m\u001b[1;33m\u001b[0m\u001b[0m\n\u001b[0m\u001b[0;32m    248\u001b[0m \u001b[1;33m\u001b[0m\u001b[0m\n\u001b[0;32m    249\u001b[0m     \u001b[1;32mdef\u001b[0m \u001b[0m_value_or_default\u001b[0m\u001b[1;33m(\u001b[0m\u001b[0mself\u001b[0m\u001b[1;33m,\u001b[0m \u001b[0mobj\u001b[0m\u001b[1;33m:\u001b[0m \u001b[0mMapping\u001b[0m\u001b[1;33m[\u001b[0m\u001b[0m_KT\u001b[0m\u001b[1;33m,\u001b[0m \u001b[0m_VT\u001b[0m\u001b[1;33m]\u001b[0m\u001b[1;33m,\u001b[0m \u001b[0mkey\u001b[0m\u001b[1;33m:\u001b[0m \u001b[0m_KT\u001b[0m\u001b[1;33m,\u001b[0m \u001b[0mdefault\u001b[0m\u001b[1;33m:\u001b[0m \u001b[0m_VT\u001b[0m\u001b[1;33m)\u001b[0m \u001b[1;33m->\u001b[0m \u001b[0m_VT\u001b[0m\u001b[1;33m:\u001b[0m\u001b[1;33m\u001b[0m\u001b[1;33m\u001b[0m\u001b[0m\n",
      "\u001b[1;31mNoSuchWindowException\u001b[0m: Message: no such window: target window already closed\nfrom unknown error: web view not found\n  (Session info: chrome=102.0.5005.63)\nStacktrace:\nBacktrace:\n\tOrdinal0 [0x008AD953+2414931]\n\tOrdinal0 [0x0083F5E1+1963489]\n\tOrdinal0 [0x0072C6B8+837304]\n\tOrdinal0 [0x00714120+737568]\n\tOrdinal0 [0x00776E29+1142313]\n\tOrdinal0 [0x00783FB2+1195954]\n\tOrdinal0 [0x007742B6+1131190]\n\tOrdinal0 [0x0074E860+976992]\n\tOrdinal0 [0x0074F756+980822]\n\tGetHandleVerifier [0x00B1CC62+2510274]\n\tGetHandleVerifier [0x00B0F760+2455744]\n\tGetHandleVerifier [0x0093EABA+551962]\n\tGetHandleVerifier [0x0093D916+547446]\n\tOrdinal0 [0x00845F3B+1990459]\n\tOrdinal0 [0x0084A898+2009240]\n\tOrdinal0 [0x0084A985+2009477]\n\tOrdinal0 [0x00853AD1+2046673]\n\tBaseThreadInitThunk [0x7636FA29+25]\n\tRtlGetAppContainerNamedObjectPath [0x775B7A7E+286]\n\tRtlGetAppContainerNamedObjectPath [0x775B7A4E+238]\n"
     ]
    }
   ],
   "source": [
    "driver = webdriver.Chrome(executable_path='./Drivers/chromedriver.exe')\n",
    "driver.get('https://www.techlistic.com/p/selenium-practice-form.html')\n",
    "\n",
    "text_boxes = driver.find_elements(By.CSS_SELECTOR,'input[type = \"text\"]')\n",
    "radio_buttons = driver.find_elements(By.CSS_SELECTOR,'input[type = \"radio\"]')\n",
    "check_boxes = driver.find_elements(By.CSS_SELECTOR,'input[type = \"checkbox\"]')\n",
    "\n",
    "print(f'Number of text boxes = {len(text_boxes)}')\n",
    "print(f'Number of radio buttons = {len(radio_buttons)}')\n",
    "print(f'Number of check boxes = {len(check_boxes)}')\n",
    "\n",
    "driver.quit()"
   ]
  },
  {
   "cell_type": "markdown",
   "id": "ed030d14",
   "metadata": {},
   "source": [
    "# Dealing with dropdown"
   ]
  },
  {
   "cell_type": "code",
   "execution_count": null,
   "id": "bc280357",
   "metadata": {},
   "outputs": [],
   "source": [
    "# defining driver and opening the url\n",
    "\n",
    "driver = webdriver.Chrome(executable_path='./Drivers/chromedriver.exe')\n",
    "driver.get('https://www.techlistic.com/p/selenium-practice-form.html')\n",
    "\n",
    "# Importing select library to select the dropdown list and access it\n",
    "from selenium.webdriver.support.ui import Select\n",
    "\n",
    "# selecting the drop down list and storing it in a variable\n",
    "\n",
    "drp_element = driver.find_element(By.NAME,'continents')\n",
    "continent = Select(drp_element)"
   ]
  },
  {
   "cell_type": "code",
   "execution_count": null,
   "id": "f9955da5",
   "metadata": {},
   "outputs": [],
   "source": [
    "# Printing the number of options in dropdown list\n",
    "\n",
    "print(f'Number of options : {len(continent.options)}')\n",
    "\n",
    "# Printing all the options\n",
    "\n",
    "for i in continent.options:\n",
    "    print(i.text)"
   ]
  },
  {
   "cell_type": "code",
   "execution_count": null,
   "id": "7a742fb5",
   "metadata": {},
   "outputs": [],
   "source": [
    "# selecting options in dropdown (dropdown can contain only one value at a time)\n",
    "\n",
    "# selecting by option name visible in website \n",
    "continent.select_by_visible_text('Asia')\n",
    "\n",
    "# selecting by index \n",
    "continent.select_by_index(2)\n",
    "continent.select_by_index(3)\n",
    "\n",
    "# selecting by value provided in the HTML code (we dont have value attribute in current website)\n",
    "# continent.select_by_value() "
   ]
  },
  {
   "cell_type": "code",
   "execution_count": null,
   "id": "cfe73981",
   "metadata": {},
   "outputs": [],
   "source": [
    "driver.quit()"
   ]
  },
  {
   "cell_type": "markdown",
   "id": "6422c990",
   "metadata": {},
   "source": [
    "# Dealing with Links"
   ]
  },
  {
   "cell_type": "code",
   "execution_count": null,
   "id": "aee64ce5",
   "metadata": {},
   "outputs": [],
   "source": [
    "# defining driver and opening the url\n",
    "\n",
    "driver = webdriver.Chrome(executable_path='./Drivers/chromedriver.exe')\n",
    "driver.get('https://www.techlistic.com/p/selenium-practice-form.html')\n",
    "\n",
    "# We can access all links by accessing all anchor tags in a website\n",
    "\n",
    "links = driver.find_elements(By.TAG_NAME,'a')"
   ]
  },
  {
   "cell_type": "code",
   "execution_count": null,
   "id": "1a3cdc3d",
   "metadata": {},
   "outputs": [],
   "source": [
    "# printing total number of links present\n",
    "\n",
    "print(len(links))\n",
    "print()\n",
    "\n",
    "# printing the names of all links\n",
    "\n",
    "print([i.text for i in links])"
   ]
  },
  {
   "cell_type": "code",
   "execution_count": null,
   "id": "0f9f6222",
   "metadata": {},
   "outputs": [],
   "source": [
    "# finding a link to perform an action, it can be done on two ways\n",
    "\n",
    "# finding by link text (name of the link)\n",
    "# driver.find_element(By.LINK_TEXT,'BDD Tutorial with Python Behave').click()\n",
    "\n",
    "# finding by partial link text (any substring in the name of the link)\n",
    "driver.find_element(By.PARTIAL_LINK_TEXT,'BDD').click()"
   ]
  },
  {
   "cell_type": "code",
   "execution_count": null,
   "id": "390042cb",
   "metadata": {},
   "outputs": [],
   "source": [
    "driver.quit()"
   ]
  }
 ],
 "metadata": {
  "kernelspec": {
   "display_name": "Python 3",
   "language": "python",
   "name": "python3"
  },
  "language_info": {
   "codemirror_mode": {
    "name": "ipython",
    "version": 3
   },
   "file_extension": ".py",
   "mimetype": "text/x-python",
   "name": "python",
   "nbconvert_exporter": "python",
   "pygments_lexer": "ipython3",
   "version": "3.8.8"
  }
 },
 "nbformat": 4,
 "nbformat_minor": 5
}

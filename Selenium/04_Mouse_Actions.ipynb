{
 "cells": [
  {
   "cell_type": "code",
   "execution_count": 1,
   "id": "2b314e93",
   "metadata": {},
   "outputs": [],
   "source": [
    "from selenium import webdriver\n",
    "from selenium.webdriver.common.keys import Keys"
   ]
  },
  {
   "cell_type": "markdown",
   "id": "3cdf511f",
   "metadata": {},
   "source": [
    "# Scrolling\n",
    "- These are javascript codes, but we can use them in Python using driver.execute_script()\n",
    "- We can scroll in three differebt ways\n",
    "    - Scroll By Specified Pixel\n",
    "    - Scroll until a perticular element is visible\n",
    "    - Scroll to the end of the page"
   ]
  },
  {
   "cell_type": "code",
   "execution_count": 4,
   "id": "b2bc9217",
   "metadata": {},
   "outputs": [
    {
     "name": "stderr",
     "output_type": "stream",
     "text": [
      "<ipython-input-4-dbfa4ac47d5a>:3: DeprecationWarning: executable_path has been deprecated, please pass in a Service object\n",
      "  driver = webdriver.Chrome(executable_path='./Drivers/chromedriver.exe')\n"
     ]
    }
   ],
   "source": [
    "# Scroll By Specified Pixel (1000 pixels used)\n",
    "\n",
    "driver = webdriver.Chrome(executable_path='./Drivers/chromedriver.exe')\n",
    "driver.get('https://en.wikipedia.org/wiki/Flag')\n",
    "\n",
    "driver.execute_script(\"window.scrollBy(0,1000);\",\"\")\n",
    "\n",
    "# driver.quit()"
   ]
  },
  {
   "cell_type": "code",
   "execution_count": 6,
   "id": "360e6cf0",
   "metadata": {},
   "outputs": [
    {
     "name": "stderr",
     "output_type": "stream",
     "text": [
      "<ipython-input-6-6a1b655bd7d9>:3: DeprecationWarning: executable_path has been deprecated, please pass in a Service object\n",
      "  driver = webdriver.Chrome(executable_path='./Drivers/chromedriver.exe')\n"
     ]
    }
   ],
   "source": [
    "# Scroll to the end of the page\n",
    "\n",
    "driver = webdriver.Chrome(executable_path='./Drivers/chromedriver.exe')\n",
    "driver.get('http://automationpractice.com/index.php')\n",
    "\n",
    "driver.execute_script(\"window.scrollBy(0,document.body.scrollHeight);\",\"\")\n",
    "\n",
    "# driver.quit()"
   ]
  },
  {
   "cell_type": "code",
   "execution_count": 5,
   "id": "33e13703",
   "metadata": {},
   "outputs": [
    {
     "name": "stderr",
     "output_type": "stream",
     "text": [
      "<ipython-input-5-5eda66f7e55b>:3: DeprecationWarning: executable_path has been deprecated, please pass in a Service object\n",
      "  driver = webdriver.Chrome(executable_path='./Drivers/chromedriver.exe')\n",
      "<ipython-input-5-5eda66f7e55b>:6: DeprecationWarning: find_element_by_link_text is deprecated. Please use find_element(by=By.LINK_TEXT, value=link_text) instead\n",
      "  element = driver.find_element_by_link_text('Selenium Framework')\n"
     ]
    }
   ],
   "source": [
    "# Scroll until a perticular element is visible\n",
    "\n",
    "driver = webdriver.Chrome(executable_path='./Drivers/chromedriver.exe')\n",
    "driver.get('http://automationpractice.com/index.php')\n",
    "\n",
    "element = driver.find_element_by_link_text('Selenium Framework')\n",
    "driver.execute_script(\"arguments[0].scrollIntoView();\",element)\n",
    "\n",
    "# driver.quit()"
   ]
  },
  {
   "cell_type": "markdown",
   "id": "0abd6ac4",
   "metadata": {},
   "source": [
    "# Mouse Hover\n",
    "- For this action we need to import library Actionchains\n",
    "- Actionchains allows us to perform mouse operations\n",
    "- An ActionChain object performs a task only when .perform() method is called, so call it at the end everytime\n",
    "- The method used is  : .move_to_element()"
   ]
  },
  {
   "cell_type": "code",
   "execution_count": 7,
   "id": "f8237ca2",
   "metadata": {},
   "outputs": [],
   "source": [
    "from selenium.webdriver import ActionChains"
   ]
  },
  {
   "cell_type": "code",
   "execution_count": 8,
   "id": "b2448a11",
   "metadata": {},
   "outputs": [
    {
     "name": "stderr",
     "output_type": "stream",
     "text": [
      "<ipython-input-8-d19e5e35e949>:3: DeprecationWarning: executable_path has been deprecated, please pass in a Service object\n",
      "  driver = webdriver.Chrome(executable_path='./Drivers/chromedriver.exe')\n",
      "<ipython-input-8-d19e5e35e949>:8: DeprecationWarning: find_element_by_xpath is deprecated. Please use find_element(by=By.XPATH, value=xpath) instead\n",
      "  developers = driver.find_element_by_xpath('//button[@class=\"developers-dropdown-toggle dropdown-toggle\"]')\n",
      "<ipython-input-8-d19e5e35e949>:9: DeprecationWarning: find_element_by_xpath is deprecated. Please use find_element(by=By.XPATH, value=xpath) instead\n",
      "  events = driver.find_element_by_xpath('//a[text() = \"Events\"]')\n"
     ]
    }
   ],
   "source": [
    "# loading URL\n",
    "\n",
    "driver = webdriver.Chrome(executable_path='./Drivers/chromedriver.exe')\n",
    "driver.get('https://www.browserstack.com/guide/mouse-hover-in-selenium')\n",
    "\n",
    "# capturing the elements to hover on\n",
    "\n",
    "developers = driver.find_element_by_xpath('//button[@class=\"developers-dropdown-toggle dropdown-toggle\"]')\n",
    "events = driver.find_element_by_xpath('//a[text() = \"Events\"]')\n",
    "\n",
    "# Hovering on developers and clicking events\n",
    "\n",
    "action = ActionChains(driver) # creating an ActionChains object\n",
    "\n",
    "action.move_to_element(developers).move_to_element(events).click().perform()\n",
    "\n",
    "# driver.quit()"
   ]
  },
  {
   "cell_type": "markdown",
   "id": "3f56127e",
   "metadata": {},
   "source": [
    "# Double Click\n",
    "- The method used is : .double_click()"
   ]
  },
  {
   "cell_type": "code",
   "execution_count": 12,
   "id": "adf10911",
   "metadata": {},
   "outputs": [
    {
     "name": "stderr",
     "output_type": "stream",
     "text": [
      "<ipython-input-12-980f2dc36c44>:2: DeprecationWarning: executable_path has been deprecated, please pass in a Service object\n",
      "  driver = webdriver.Chrome(executable_path='./Drivers/chromedriver.exe')\n",
      "<ipython-input-12-980f2dc36c44>:10: DeprecationWarning: find_element_by_xpath is deprecated. Please use find_element(by=By.XPATH, value=xpath) instead\n",
      "  field_2 = driver.find_element_by_xpath('//button[text()=\"Copy Text\"]')\n"
     ]
    }
   ],
   "source": [
    "# loading URL and setup\n",
    "driver = webdriver.Chrome(executable_path='./Drivers/chromedriver.exe')\n",
    "driver.get('https://testautomationpractice.blogspot.com/')\n",
    "\n",
    "# capturing the element to click on\n",
    "field_2 = driver.find_element_by_xpath('//button[text()=\"Copy Text\"]')\n",
    "\n",
    "# Double click\n",
    "action = ActionChains(driver)\n",
    "action.double_click(field_2).perform()\n",
    "\n",
    "# driver.quit()"
   ]
  },
  {
   "cell_type": "markdown",
   "id": "fa252d62",
   "metadata": {},
   "source": [
    "# Right Click\n",
    "- The method used is : .context_click()"
   ]
  },
  {
   "cell_type": "code",
   "execution_count": 15,
   "id": "9d1cecac",
   "metadata": {},
   "outputs": [
    {
     "name": "stderr",
     "output_type": "stream",
     "text": [
      "<ipython-input-15-de1d3762aca7>:2: DeprecationWarning: executable_path has been deprecated, please pass in a Service object\n",
      "  driver = webdriver.Chrome(executable_path='./Drivers/chromedriver.exe')\n",
      "<ipython-input-15-de1d3762aca7>:6: DeprecationWarning: find_element_by_xpath is deprecated. Please use find_element(by=By.XPATH, value=xpath) instead\n",
      "  button = driver.find_element_by_xpath('//span[text()=\"right click me\"]')\n",
      "<ipython-input-15-de1d3762aca7>:13: DeprecationWarning: find_element_by_xpath is deprecated. Please use find_element(by=By.XPATH, value=xpath) instead\n",
      "  quit = driver.find_element_by_xpath('//span[text()=\"Quit\"]')\n"
     ]
    }
   ],
   "source": [
    "# loading URL and setup\n",
    "driver = webdriver.Chrome(executable_path='./Drivers/chromedriver.exe')\n",
    "driver.get('https://swisnl.github.io/jQuery-contextMenu/demo.html')\n",
    "\n",
    "# capturing the element to click on\n",
    "button = driver.find_element_by_xpath('//span[text()=\"right click me\"]')\n",
    "\n",
    "# Double click\n",
    "action = ActionChains(driver)\n",
    "action.context_click(button).perform()\n",
    "\n",
    "# clicking on quit\n",
    "quit = driver.find_element_by_xpath('//span[text()=\"Quit\"]')\n",
    "action.move_to_element(quit).click().perform()\n",
    "\n",
    "# driver.quit()"
   ]
  },
  {
   "cell_type": "markdown",
   "id": "a11616ae",
   "metadata": {},
   "source": [
    "# Drag & Drop\n",
    "- The method used is : .drag_and_drop()"
   ]
  },
  {
   "cell_type": "code",
   "execution_count": 16,
   "id": "d0098c15",
   "metadata": {},
   "outputs": [
    {
     "name": "stderr",
     "output_type": "stream",
     "text": [
      "<ipython-input-16-ecc2489afa1e>:2: DeprecationWarning: executable_path has been deprecated, please pass in a Service object\n",
      "  driver = webdriver.Chrome(executable_path='./Drivers/chromedriver.exe')\n",
      "<ipython-input-16-ecc2489afa1e>:6: DeprecationWarning: find_element_by_xpath is deprecated. Please use find_element(by=By.XPATH, value=xpath) instead\n",
      "  source = driver.find_element_by_xpath('//div[@id=\"draggable\"]')\n",
      "<ipython-input-16-ecc2489afa1e>:7: DeprecationWarning: find_element_by_xpath is deprecated. Please use find_element(by=By.XPATH, value=xpath) instead\n",
      "  target = driver.find_element_by_xpath('//div[@id=\"droppable\"]')\n"
     ]
    }
   ],
   "source": [
    "# loading URL and setup\n",
    "driver = webdriver.Chrome(executable_path='./Drivers/chromedriver.exe')\n",
    "driver.get('https://testautomationpractice.blogspot.com/')\n",
    "\n",
    "# capturing the source and target\n",
    "source = driver.find_element_by_xpath('//div[@id=\"draggable\"]')\n",
    "target = driver.find_element_by_xpath('//div[@id=\"droppable\"]')\n",
    "\n",
    "# Double click\n",
    "action = ActionChains(driver)\n",
    "action.drag_and_drop(source,target).perform()\n",
    "\n",
    "# driver.quit()"
   ]
  }
 ],
 "metadata": {
  "kernelspec": {
   "display_name": "Python 3 (ipykernel)",
   "language": "python",
   "name": "python3"
  },
  "language_info": {
   "codemirror_mode": {
    "name": "ipython",
    "version": 3
   },
   "file_extension": ".py",
   "mimetype": "text/x-python",
   "name": "python",
   "nbconvert_exporter": "python",
   "pygments_lexer": "ipython3",
   "version": "3.9.12"
  }
 },
 "nbformat": 4,
 "nbformat_minor": 5
}

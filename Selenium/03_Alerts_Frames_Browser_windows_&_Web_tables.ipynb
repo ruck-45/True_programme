{
 "cells": [
  {
   "cell_type": "code",
   "execution_count": 1,
   "id": "1fbe2fc3",
   "metadata": {},
   "outputs": [],
   "source": [
    "from selenium import webdriver\n",
    "from selenium.webdriver.common.by import By\n",
    "from selenium.webdriver.common.keys import Keys"
   ]
  },
  {
   "cell_type": "markdown",
   "id": "fe931844",
   "metadata": {},
   "source": [
    "# Alerts\n",
    "- Alerts are message boxes appear when a website is opened\n",
    "- We can interact with alerts either by accepting (ok) or dissmissing (cancle) the alert"
   ]
  },
  {
   "cell_type": "code",
   "execution_count": 2,
   "id": "ac0fc3d3",
   "metadata": {},
   "outputs": [
    {
     "name": "stderr",
     "output_type": "stream",
     "text": [
      "<ipython-input-2-c3d841880344>:3: DeprecationWarning: executable_path has been deprecated, please pass in a Service object\n",
      "  driver = webdriver.Chrome(executable_path='./Drivers/chromedriver.exe')\n",
      "<ipython-input-2-c3d841880344>:7: DeprecationWarning: find_element_by_name is deprecated. Please use find_element(by=By.NAME, value=name) instead\n",
      "  alert_box = driver.find_element_by_name('confirmalertbox')\n"
     ]
    }
   ],
   "source": [
    "# defining driver and opening the url\n",
    "\n",
    "driver = webdriver.Chrome(executable_path='./Drivers/chromedriver.exe')\n",
    "driver.get('https://nxtgenaiacademy.com/alertandpopup/')\n",
    "\n",
    "# Capturing and triggering the alert box\n",
    "alert_box = driver.find_element_by_name('confirmalertbox')\n",
    "alert_box.click()"
   ]
  },
  {
   "cell_type": "markdown",
   "id": "6b96fd05",
   "metadata": {},
   "source": [
    "### Theory :\n",
    "- .switch_to.alert : \n",
    "    - This method switches the focus from the webpage to the alert box\n",
    "    - We cannot perform any operation on the webpage when the alert box is up\n",
    "    - So, to interact with the alert box we need to switch our focus to it\n",
    "- .accept( ) :\n",
    "    - Method used to click the accept/ok button on alert box\n",
    "- .dismiss( ) :\n",
    "    - Method used to click the dismiss/cancle button on alert box"
   ]
  },
  {
   "cell_type": "code",
   "execution_count": 3,
   "id": "43baabda",
   "metadata": {},
   "outputs": [],
   "source": [
    "# accepting\n",
    "driver.switch_to.alert.accept()\n",
    "\n",
    "# dismissing\n",
    "# driver.switch_to.alert.dismiss()"
   ]
  },
  {
   "cell_type": "code",
   "execution_count": 4,
   "id": "13d85720",
   "metadata": {},
   "outputs": [],
   "source": [
    "driver.quit()"
   ]
  },
  {
   "cell_type": "markdown",
   "id": "14feac49",
   "metadata": {},
   "source": [
    "# Frames\n",
    "- HTML frames are used to divide your browser window into multiple sections where each section can load a separate HTML document.\n",
    "- Treat Frames as different webpages clumped together in side a single webpage\n",
    "- So naturally we cannot freely select elements like we used to be\n",
    "- in order to select elements we need first choose the Frame, and then select the element present inside it\n",
    "- we can ding a frame element through &lt;frame&gt; tag"
   ]
  },
  {
   "cell_type": "markdown",
   "id": "5db44d5b",
   "metadata": {},
   "source": [
    "### Theory :\n",
    "- .switch_to.frame : \n",
    "    - This method switches the focus from the Parent webpage to cosen frame\n",
    "    - we can select the frame by its:\n",
    "        - id\n",
    "        - name\n",
    "        - index\n",
    "- .switch_to.default_content()\n",
    "    - Once we have a Frame in focus, we cannot directly change the focus to a different Frame.\n",
    "    - First we need to return to parent webpage to move to a different frame\n",
    "    - .switch_to.default_content( ) returns us to the parent webpage"
   ]
  },
  {
   "cell_type": "markdown",
   "id": "eab86123",
   "metadata": {},
   "source": [
    "### Note : \n",
    "- The Page which is always on focus after a new tab is created is the Parent tab"
   ]
  },
  {
   "cell_type": "code",
   "execution_count": 5,
   "id": "bf28f5de",
   "metadata": {},
   "outputs": [
    {
     "name": "stderr",
     "output_type": "stream",
     "text": [
      "<ipython-input-5-9afcc378329e>:3: DeprecationWarning: executable_path has been deprecated, please pass in a Service object\n",
      "  driver = webdriver.Chrome(executable_path='./Drivers/chromedriver.exe')\n",
      "<ipython-input-5-9afcc378329e>:9: DeprecationWarning: find_element_by_xpath is deprecated. Please use find_element(by=By.XPATH, value=xpath) instead\n",
      "  ip_box = driver.find_element_by_xpath('//input')\n",
      "<ipython-input-5-9afcc378329e>:19: DeprecationWarning: find_element_by_xpath is deprecated. Please use find_element(by=By.XPATH, value=xpath) instead\n",
      "  ip_box = driver.find_element_by_xpath('//input')\n"
     ]
    }
   ],
   "source": [
    "# defining driver and opening the url\n",
    "\n",
    "driver = webdriver.Chrome(executable_path='./Drivers/chromedriver.exe')\n",
    "driver.get('https://ui.vision/demo/webtest/frames/')\n",
    "\n",
    "# selecting Frame 1 and performing operation \n",
    "\n",
    "driver.switch_to.frame(0)\n",
    "ip_box = driver.find_element_by_xpath('//input')\n",
    "ip_box.send_keys('aabbcc')\n",
    "ip_box.send_keys(Keys.ENTER)\n",
    "\n",
    "# Going back to parent website\n",
    "driver.switch_to.default_content()\n",
    "\n",
    "# selecting Frame 2 and performing operation \n",
    "\n",
    "driver.switch_to.frame(1)\n",
    "ip_box = driver.find_element_by_xpath('//input')\n",
    "ip_box.send_keys('aabbcc')\n",
    "ip_box.send_keys(Keys.ENTER)\n",
    "\n",
    "# Going back to parent website\n",
    "driver.switch_to.default_content()\n",
    "\n",
    "driver.quit()"
   ]
  },
  {
   "cell_type": "markdown",
   "id": "fbc6d037",
   "metadata": {},
   "source": [
    "# Browser Windows\n",
    "- these are tabs in a web browser\n",
    "- we can swich between different tabs along with close specific/all tabs using selenium"
   ]
  },
  {
   "cell_type": "markdown",
   "id": "efd15abb",
   "metadata": {},
   "source": [
    "### Theory :\n",
    "- Window Handle:\n",
    "    - Window handle is a kind of id for a tab\n",
    "    - the browser assigns a 16 charecter hexadecimal value to uniquely identify a tab\n",
    "- .current_window_handle : \n",
    "    - This method returns the window handle of currently highlighted tab\n",
    "- .window_handles\n",
    "    - This method returns window habdles of all opened tabs"
   ]
  },
  {
   "cell_type": "markdown",
   "id": "d26811df",
   "metadata": {},
   "source": [
    "- .switch_to.window(handle_sequence):\n",
    "    - switches the focus to the desired tab\n",
    "- .close( )\n",
    "    - closes the currently highlighted tab\n",
    "- .quit( )\n",
    "    - closes all the tabs and the browser"
   ]
  },
  {
   "cell_type": "code",
   "execution_count": 6,
   "id": "a5fad7db",
   "metadata": {
    "scrolled": true
   },
   "outputs": [
    {
     "name": "stderr",
     "output_type": "stream",
     "text": [
      "<ipython-input-6-079872566719>:3: DeprecationWarning: executable_path has been deprecated, please pass in a Service object\n",
      "  driver = webdriver.Chrome(executable_path='./Drivers/chromedriver.exe')\n",
      "<ipython-input-6-079872566719>:6: DeprecationWarning: find_element_by_link_text is deprecated. Please use find_element(by=By.LINK_TEXT, value=link_text) instead\n",
      "  driver.find_element_by_link_text('This is a link').click()\n"
     ]
    },
    {
     "name": "stdout",
     "output_type": "stream",
     "text": [
      "CDwindow-8C959143A1EAD8B67769AA5431D56DCB\n",
      "Sample Website for Selenium Automation Practice | ArtOfTesting\n",
      "Google\n"
     ]
    }
   ],
   "source": [
    "# defining driver and opening the url\n",
    "\n",
    "driver = webdriver.Chrome(executable_path='./Drivers/chromedriver.exe')\n",
    "driver.get('https://artoftesting.com/samplesiteforselenium')\n",
    "\n",
    "driver.find_element_by_link_text('This is a link').click()\n",
    "\n",
    "# Current handle\n",
    "\n",
    "print(driver.current_window_handle) #parent\n",
    "\n",
    "# deleting the newly formed tab\n",
    "\n",
    "for i in driver.window_handles:\n",
    "    driver.switch_to.window(i)\n",
    "    print(driver.title)\n",
    "    \n",
    "    if driver.title == 'Google':\n",
    "        driver.close() # closes the currently focused tab\n",
    "        \n",
    "driver.quit() #closes all the tabs"
   ]
  },
  {
   "cell_type": "markdown",
   "id": "a728e6de",
   "metadata": {},
   "source": [
    "# Web Tables\n",
    "- These are data that are stored in table format in websites\n",
    "- We can access each element of a webtable by cleaver manipulation of XPath"
   ]
  },
  {
   "cell_type": "code",
   "execution_count": 28,
   "id": "6a74f12d",
   "metadata": {},
   "outputs": [
    {
     "name": "stderr",
     "output_type": "stream",
     "text": [
      "<ipython-input-28-8d27729726bb>:3: DeprecationWarning: executable_path has been deprecated, please pass in a Service object\n",
      "  driver = webdriver.Chrome(executable_path='./Drivers/chromedriver.exe')\n",
      "<ipython-input-28-8d27729726bb>:10: DeprecationWarning: find_elements_by_xpath is deprecated. Please use find_elements(by=By.XPATH, value=xpath) instead\n",
      "  rows = len(driver.find_elements_by_xpath('//table[@id=\"table02\"]//child::tr'))-1\n",
      "<ipython-input-28-8d27729726bb>:11: DeprecationWarning: find_elements_by_xpath is deprecated. Please use find_elements(by=By.XPATH, value=xpath) instead\n",
      "  cols = len(driver.find_elements_by_xpath('//table[@id=\"table02\"]//child::tr//child::th'))\n",
      "<ipython-input-28-8d27729726bb>:18: DeprecationWarning: find_element_by_xpath is deprecated. Please use find_element(by=By.XPATH, value=xpath) instead\n",
      "  value = driver.find_element_by_xpath(x_path).text\n"
     ]
    },
    {
     "name": "stdout",
     "output_type": "stream",
     "text": [
      "Garrett Winters\tAccountant\tTokyo\t63\t2011/07/25\t$170,750\t\n",
      "\n",
      "Ashton Cox\tJunior Technical Author\tSan Francisco\t66\t2009/01/12\t$86,000\t\n",
      "\n",
      "Cedric Kelly\tSenior Javascript Developer\tEdinburgh\t22\t2012/03/29\t$433,060\t\n",
      "\n",
      "Airi Satou\tAccountant\tTokyo\t33\t2008/11/28\t$162,700\t\n",
      "\n",
      "Brielle Williamson\tIntegration Specialist\tNew York\t61\t2012/12/02\t$372,000\t\n",
      "\n",
      "Herrod Chandler\tSales Assistant\tSan Francisco\t59\t2012/08/06\t$137,500\t\n",
      "\n",
      "Rhona Davidson\tIntegration Specialist\tTokyo\t55\t2010/10/14\t$327,900\t\n",
      "\n",
      "Colleen Hurst\tJavascript Developer\tSan Francisco\t39\t2009/09/15\t$205,500\t\n",
      "\n",
      "Sonya Frost\tSoftware Engineer\tEdinburgh\t23\t2008/12/13\t$103,600\t\n",
      "\n",
      "Jena Gaines\tOffice Manager\tLondon\t30\t2008/12/19\t$90,560\t\n",
      "\n",
      "Quinn Flynn\tSupport Lead\tEdinburgh\t22\t2013/03/03\t$342,000\t\n",
      "\n",
      "Charde Marshall\tRegional Director\tSan Francisco\t36\t2008/10/16\t$470,600\t\n",
      "\n",
      "Haley Kennedy\tSenior Marketing Designer\tLondon\t43\t2012/12/18\t$313,500\t\n",
      "\n",
      "Tatyana Fitzpatrick\tRegional Director\tLondon\t19\t2010/03/17\t$385,750\t\n",
      "\n",
      "Michael Silva\tMarketing Designer\tLondon\t66\t2012/11/27\t$198,500\t\n",
      "\n",
      "Paul Byrd\tChief Financial Officer (CFO)\tNew York\t64\t2010/06/09\t$725,000\t\n",
      "\n",
      "Gloria Little\tSystems Administrator\tNew York\t59\t2009/04/10\t$237,500\t\n",
      "\n",
      "Bradley Greer\tSoftware Engineer\tLondon\t41\t2012/10/13\t$132,000\t\n",
      "\n",
      "Dai Rios\tPersonnel Lead\tEdinburgh\t35\t2012/09/26\t$217,500\t\n",
      "\n",
      "Jenette Caldwell\tDevelopment Lead\tNew York\t30\t2011/09/03\t$345,000\t\n",
      "\n",
      "Yuri Berry\tChief Marketing Officer (CMO)\tNew York\t40\t2009/06/25\t$675,000\t\n",
      "\n",
      "Caesar Vance\tPre-Sales Support\tNew York\t21\t2011/12/12\t$106,450\t\n",
      "\n",
      "Doris Wilder\tSales Assistant\tSidney\t23\t2010/09/20\t$85,600\t\n",
      "\n",
      "Angelica Ramos\tChief Executive Officer (CEO)\tLondon\t47\t2009/10/09\t$1,200,000\t\n",
      "\n",
      "Gavin Joyce\tDeveloper\tEdinburgh\t42\t2010/12/22\t$92,575\t\n",
      "\n",
      "Jennifer Chang\tRegional Director\tSingapore\t28\t2010/11/14\t$357,650\t\n",
      "\n",
      "Brenden Wagner\tSoftware Engineer\tSan Francisco\t28\t2011/06/07\t$206,850\t\n",
      "\n",
      "Fiona Green\tChief Operating Officer (COO)\tSan Francisco\t48\t2010/03/11\t$850,000\t\n",
      "\n",
      "Shou Itou\tRegional Marketing\tTokyo\t20\t2011/08/14\t$163,000\t\n",
      "\n",
      "Michelle House\tIntegration Specialist\tSidney\t37\t2011/06/02\t$95,400\t\n",
      "\n",
      "Suki Burks\tDeveloper\tLondon\t53\t2009/10/22\t$114,500\t\n",
      "\n",
      "Prescott Bartlett\tTechnical Author\tLondon\t27\t2011/05/07\t$145,000\t\n",
      "\n",
      "Gavin Cortez\tTeam Leader\tSan Francisco\t22\t2008/10/26\t$235,500\t\n",
      "\n",
      "Martena Mccray\tPost-Sales support\tEdinburgh\t46\t2011/03/09\t$324,050\t\n",
      "\n",
      "Unity Butler\tMarketing Designer\tSan Francisco\t47\t2009/12/09\t$85,675\t\n",
      "\n",
      "Howard Hatfield\tOffice Manager\tSan Francisco\t51\t2008/12/16\t$164,500\t\n",
      "\n",
      "Hope Fuentes\tSecretary\tSan Francisco\t41\t2010/02/12\t$109,850\t\n",
      "\n",
      "Vivian Harrell\tFinancial Controller\tSan Francisco\t62\t2009/02/14\t$452,500\t\n",
      "\n",
      "Timothy Mooney\tOffice Manager\tLondon\t37\t2008/12/11\t$136,200\t\n",
      "\n",
      "Jackson Bradshaw\tDirector\tNew York\t65\t2008/09/26\t$645,750\t\n",
      "\n",
      "Olivia Liang\tSupport Engineer\tSingapore\t64\t2011/02/03\t$234,500\t\n",
      "\n",
      "Bruno Nash\tSoftware Engineer\tLondon\t38\t2011/05/03\t$163,500\t\n",
      "\n",
      "Sakura Yamamoto\tSupport Engineer\tTokyo\t37\t2009/08/19\t$139,575\t\n",
      "\n",
      "Thor Walton\tDeveloper\tNew York\t61\t2013/08/11\t$98,540\t\n",
      "\n",
      "Finn Camacho\tSupport Engineer\tSan Francisco\t47\t2009/07/07\t$87,500\t\n",
      "\n",
      "Serge Baldwin\tData Coordinator\tSingapore\t64\t2012/04/09\t$138,575\t\n",
      "\n",
      "Zenaida Frank\tSoftware Engineer\tNew York\t63\t2010/01/04\t$125,250\t\n",
      "\n",
      "Zorita Serrano\tSoftware Engineer\tSan Francisco\t56\t2012/06/01\t$115,000\t\n",
      "\n",
      "Jennifer Acosta\tJunior Javascript Developer\tEdinburgh\t43\t2013/02/01\t$75,650\t\n",
      "\n",
      "Cara Stevens\tSales Assistant\tNew York\t46\t2011/12/06\t$145,600\t\n",
      "\n",
      "Hermione Butler\tRegional Director\tLondon\t47\t2011/03/21\t$356,250\t\n",
      "\n",
      "Lael Greer\tSystems Administrator\tLondon\t21\t2009/02/27\t$103,500\t\n",
      "\n",
      "Jonas Alexander\tDeveloper\tSan Francisco\t30\t2010/07/14\t$86,500\t\n",
      "\n",
      "Shad Decker\tRegional Director\tEdinburgh\t51\t2008/11/13\t$183,000\t\n",
      "\n"
     ]
    }
   ],
   "source": [
    "# defining driver and opening the url\n",
    "\n",
    "driver = webdriver.Chrome(executable_path='./Drivers/chromedriver.exe')\n",
    "driver.get('https://qavbox.github.io/demo/webtable/')\n",
    "\n",
    "# Finding Number of rows and columns\n",
    "# For rows calculating number of tr tags inside the table\n",
    "# For columns calculating number of th tags inside the header or td tags inside one of the tr tags \n",
    "\n",
    "rows = len(driver.find_elements_by_xpath('//table[@id=\"table02\"]//child::tr'))-1\n",
    "cols = len(driver.find_elements_by_xpath('//table[@id=\"table02\"]//child::tr//child::th'))\n",
    "\n",
    "# trying to access each td tag in a loop\n",
    "\n",
    "for i in range(1,rows): # starting at 2 because of header\n",
    "    for j in range(cols):\n",
    "        x_path = '//table[@id=\"table02\"]//child::tr['+str(i+1)+']//child::td['+str(j+1)+']'\n",
    "        value = driver.find_element_by_xpath(x_path).text\n",
    "        print(value, end='\\t')\n",
    "    print('\\n')\n",
    "driver.quit()"
   ]
  }
 ],
 "metadata": {
  "kernelspec": {
   "display_name": "Python 3 (ipykernel)",
   "language": "python",
   "name": "python3"
  },
  "language_info": {
   "codemirror_mode": {
    "name": "ipython",
    "version": 3
   },
   "file_extension": ".py",
   "mimetype": "text/x-python",
   "name": "python",
   "nbconvert_exporter": "python",
   "pygments_lexer": "ipython3",
   "version": "3.9.12"
  }
 },
 "nbformat": 4,
 "nbformat_minor": 5
}
